{
 "cells": [
  {
   "cell_type": "markdown",
   "id": "28dc88a5",
   "metadata": {},
   "source": [
    "![TP](https://github.com/lveagithub/Dump/blob/master/TeachersPro-logo-color.png?raw=1)\n",
    "\n",
    "# Descriptive analytics\n",
    "\n",
    "### Lenin Escobar <lenin.escobar@net.teacherspro.com> - Descriptive analytics (15-Jul-2021)\n",
    "\n",
    "Open this notebook in Google Colaboratory: [![Open in Colab](https://colab.research.google.com/assets/colab-badge.svg)](https://colab.research.google.com/github/vfp1/bts-dsf-2020/blob/main/Final_project/DSF_FINAL_PROJECT.ipynb)"
   ]
  },
  {
   "cell_type": "code",
   "execution_count": null,
   "id": "8de5ec77",
   "metadata": {},
   "outputs": [],
   "source": []
  }
 ],
 "metadata": {
  "kernelspec": {
   "display_name": "Python 3",
   "language": "python",
   "name": "python3"
  },
  "language_info": {
   "codemirror_mode": {
    "name": "ipython",
    "version": 3
   },
   "file_extension": ".py",
   "mimetype": "text/x-python",
   "name": "python",
   "nbconvert_exporter": "python",
   "pygments_lexer": "ipython3",
   "version": "3.8.8"
  }
 },
 "nbformat": 4,
 "nbformat_minor": 5
}
