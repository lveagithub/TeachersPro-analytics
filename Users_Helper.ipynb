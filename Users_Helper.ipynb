{
 "cells": [
  {
   "cell_type": "code",
   "execution_count": 3,
   "id": "ee0a1c5c",
   "metadata": {},
   "outputs": [],
   "source": [
    "import time\n",
    "import os\n",
    "import re\n",
    "import string\n",
    "import numpy as np\n",
    "import pandas as pd\n",
    "import seaborn as sns\n",
    "import ipywidgets"
   ]
  },
  {
   "cell_type": "markdown",
   "id": "f1e144b6",
   "metadata": {},
   "source": [
    "<h1 style=\"background-color:#D7F5FF;\">Constants</h1>"
   ]
  },
  {
   "cell_type": "code",
   "execution_count": 4,
   "id": "14692454",
   "metadata": {},
   "outputs": [],
   "source": [
    "CWD = os.getcwd() #Current Working Directory\n",
    "DATA_DIR = \"data\"\n",
    "USERS_XLSX = 'TPro_Users_20210606_1.xlsx'"
   ]
  },
  {
   "cell_type": "markdown",
   "id": "98953ba6",
   "metadata": {},
   "source": [
    "<h1 style=\"background-color:#D7F5FF;\">Environment</h1>"
   ]
  },
  {
   "cell_type": "code",
   "execution_count": null,
   "id": "8cc318f7",
   "metadata": {},
   "outputs": [],
   "source": [
    "pd.set_option('display.max_colwidth', None)"
   ]
  },
  {
   "cell_type": "markdown",
   "id": "d4b1f640",
   "metadata": {},
   "source": [
    "<h1 style=\"background-color:#D7F5FF;\">General Classes and Methods</h1>"
   ]
  },
  {
   "cell_type": "code",
   "execution_count": null,
   "id": "cabb99e5",
   "metadata": {},
   "outputs": [],
   "source": [
    "class IngestHelper():\n",
    "    \"\"\"Ingest Helper\"\"\"\n",
    "    def __init__(self, version):\n",
    "        self.version = version\n",
    "    \n",
    "    def __str__(self):\n",
    "        return f\"Ingest helper version {self.version}\"\n",
    "    \n",
    "    def get_filename_substring(self, string_):\n",
    "        \"\"\"\n",
    "        Get file name id and rating\n",
    "        \"\"\"\n",
    "        str_list_ = string_.rstrip(\".txt\").split(\"_\")\n",
    "        return str_list_\n",
    "    \n",
    "    def df_col_to_utf(self, df_,col_name):\n",
    "        \"\"\"\n",
    "        Convert dataframe col content to unicode string format\n",
    "        \"\"\"        \n",
    "        df_[col_name] = df_[col_name].apply(lambda x: x.decode('utf-8','ignore'))\n",
    "        return df_\n",
    "    \n",
    "    def files_to_df(self,current_dir, label):\n",
    "        \"\"\"\n",
    "        Create dataframe from files in the specific directory\n",
    "        \"\"\"\n",
    "        files_dic = {}\n",
    "        file_names = []\n",
    "        file_id = []\n",
    "        file_rating = []\n",
    "        file_content = []\n",
    "        file_label = []\n",
    "        file_dir = os.listdir(current_dir)\n",
    "        for f in file_dir:\n",
    "            file_names.append(f)\n",
    "            tmp_list = ingestHelper.get_filename_substring(string_ = f)\n",
    "            file_id.append(int(tmp_list[0]))\n",
    "            file_rating.append(int(tmp_list[1]))\n",
    "            file_label.append(label)\n",
    "            file_path= os.path.join(current_dir,f)\n",
    "            with open(file_path) as f:\n",
    "                file_content.append(f.readlines())\n",
    "        current_dir = {'name': file_names, 'file_id': file_id, 'rating': file_rating, 'content_tmp': file_content, 'label': file_label}\n",
    "        df_files = pd.DataFrame.from_dict(current_dir)\n",
    "        df_files['content'] =  [l[0] for l in df_files['content_tmp']]\n",
    "        df_files = df_files.drop(columns=['content_tmp'])\n",
    "        df_files = df_files[[\"name\", \"file_id\", \"rating\", \"content\", \"label\"]]\n",
    "        return df_files\n",
    "\n",
    "    def get_nulls_data(self, df):\n",
    "        #We want to know the quality of data. So, let's start by detecting not null percentage related to every column. \n",
    "\n",
    "        df_tot_nulls = df.isnull().sum().sort_values(ascending=False)\n",
    "        df_tot_nulls_perc = 100 - round(df_tot_nulls/len(df)*100,2)\n",
    "        df_tot_perc_nulls = pd.concat([df_tot_nulls,df_tot_nulls_perc],axis=1)\n",
    "        df_tot_perc_nulls = df_tot_perc_nulls.rename(columns={0: \"Total\", 1: \"PercNotNull\"})\n",
    "        return df_tot_perc_nulls"
   ]
  },
  {
   "cell_type": "code",
   "execution_count": null,
   "id": "085d748c",
   "metadata": {},
   "outputs": [],
   "source": [
    "class DataHelper():\n",
    "    \"\"\"Ingest Helper\"\"\"\n",
    "    def __init__(self, version):\n",
    "        self.version = version\n",
    "    \n",
    "    def __str__(self):\n",
    "        return f\"Ingest helper version {self.version}\"\n",
    "    \n",
    "    def get_filename_substring(self, string_):\n",
    "        \"\"\"\n",
    "        Get file name id and rating\n",
    "        \"\"\"\n",
    "        str_list_ = string_.rstrip(\".txt\").split(\"_\")\n",
    "        return str_list_"
   ]
  }
 ],
 "metadata": {
  "kernelspec": {
   "display_name": "Python 3",
   "language": "python",
   "name": "python3"
  },
  "language_info": {
   "codemirror_mode": {
    "name": "ipython",
    "version": 3
   },
   "file_extension": ".py",
   "mimetype": "text/x-python",
   "name": "python",
   "nbconvert_exporter": "python",
   "pygments_lexer": "ipython3",
   "version": "3.8.8"
  }
 },
 "nbformat": 4,
 "nbformat_minor": 5
}
