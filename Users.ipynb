{
 "cells": [
  {
   "cell_type": "markdown",
   "id": "3239b3e0",
   "metadata": {},
   "source": [
    "![TP](TeachersPro-logo-color.png)\n",
    "\n",
    "# Descriptive analytics\n",
    "\n",
    "### Lenin Escobar <lenin.escobar@net.teacherspro.com> - Descriptive analytics (27-Jul-2021)"
   ]
  },
  {
   "cell_type": "code",
   "execution_count": 1,
   "id": "2839e221",
   "metadata": {},
   "outputs": [],
   "source": [
    "%config IPCompleter.greedy=True\n",
    "%load_ext memory_profiler\n",
    "%matplotlib notebook\n",
    "%matplotlib inline\n",
    "%run Users_Helper.ipynb\n",
    "%run Users_Plot.ipynb"
   ]
  },
  {
   "cell_type": "markdown",
   "id": "dd20b870",
   "metadata": {},
   "source": [
    "<h1 style=\"background-color:#D7F5FF;\">Data Ingestion</h1>"
   ]
  },
  {
   "cell_type": "code",
   "execution_count": 2,
   "id": "686bff60",
   "metadata": {},
   "outputs": [],
   "source": [
    "#!pip install openpyxl"
   ]
  },
  {
   "cell_type": "code",
   "execution_count": 3,
   "id": "b7b627e3",
   "metadata": {},
   "outputs": [],
   "source": [
    "#! pip install mpld3"
   ]
  },
  {
   "cell_type": "code",
   "execution_count": 4,
   "id": "67f0850b",
   "metadata": {},
   "outputs": [],
   "source": [
    "#! pip install plotly"
   ]
  },
  {
   "cell_type": "code",
   "execution_count": 5,
   "id": "73281cad",
   "metadata": {},
   "outputs": [],
   "source": [
    "#!sudo apt install texlive-full"
   ]
  },
  {
   "cell_type": "code",
   "execution_count": 6,
   "id": "6a5ac522",
   "metadata": {},
   "outputs": [],
   "source": [
    "#pip install voila"
   ]
  },
  {
   "cell_type": "code",
   "execution_count": 7,
   "id": "8b71af4c",
   "metadata": {},
   "outputs": [],
   "source": [
    "current_plot_dir = os.path.join(CWD, PLOT_DIR)"
   ]
  },
  {
   "cell_type": "code",
   "execution_count": 8,
   "id": "c5b771ea",
   "metadata": {},
   "outputs": [],
   "source": [
    "current_dir = os.path.join(CWD, DATA_DIR)\n",
    "current_file_xlsx = os.path.join(current_dir, USERS_XLSX)\n",
    "#df_users_ori = pd.read_excel('TPro_Users_20210606_1.xlsx', engine='openpyxl', index_col=0)\n",
    "df_users_ori = pd.read_excel(current_file_xlsx, engine='openpyxl')"
   ]
  },
  {
   "cell_type": "code",
   "execution_count": 9,
   "id": "6fb64beb",
   "metadata": {},
   "outputs": [
    {
     "data": {
      "text/html": [
       "<div>\n",
       "<style scoped>\n",
       "    .dataframe tbody tr th:only-of-type {\n",
       "        vertical-align: middle;\n",
       "    }\n",
       "\n",
       "    .dataframe tbody tr th {\n",
       "        vertical-align: top;\n",
       "    }\n",
       "\n",
       "    .dataframe thead th {\n",
       "        text-align: right;\n",
       "    }\n",
       "</style>\n",
       "<table border=\"1\" class=\"dataframe\">\n",
       "  <thead>\n",
       "    <tr style=\"text-align: right;\">\n",
       "      <th></th>\n",
       "      <th>id</th>\n",
       "      <th>usuario</th>\n",
       "      <th>usuario_pago</th>\n",
       "      <th>correo_confirmado</th>\n",
       "      <th>patrocinador</th>\n",
       "      <th>como_llego_lic</th>\n",
       "      <th>idioma</th>\n",
       "      <th>fecha_de_registro</th>\n",
       "      <th>fecha_ulltimo_acceso</th>\n",
       "      <th>actividad</th>\n",
       "      <th>...</th>\n",
       "      <th>cupon_en_uso</th>\n",
       "      <th>evidencias_consultadas</th>\n",
       "      <th>evidencias_evaluadas</th>\n",
       "      <th>cantidad_chats</th>\n",
       "      <th>habilidades_completadas</th>\n",
       "      <th>tripartita</th>\n",
       "      <th>ultima_habilidad_en_desarrollo</th>\n",
       "      <th>desafíos_acabados</th>\n",
       "      <th>habilidades_acabadas</th>\n",
       "      <th>habilidades_acabadas_con_insignia</th>\n",
       "    </tr>\n",
       "  </thead>\n",
       "  <tbody>\n",
       "    <tr>\n",
       "      <th>0</th>\n",
       "      <td>45</td>\n",
       "      <td>autor@autor</td>\n",
       "      <td>No</td>\n",
       "      <td>Sí</td>\n",
       "      <td>NaN</td>\n",
       "      <td>NaN</td>\n",
       "      <td>es</td>\n",
       "      <td>2016-03-08 10:40:13</td>\n",
       "      <td>2021-01-11 10:58:17</td>\n",
       "      <td>5</td>\n",
       "      <td>...</td>\n",
       "      <td>NaN</td>\n",
       "      <td>1</td>\n",
       "      <td>0</td>\n",
       "      <td>1</td>\n",
       "      <td>15</td>\n",
       "      <td>No</td>\n",
       "      <td>FLIPPED LEARNING: CÓMO DAR LA VUELTA A LAS CLASES</td>\n",
       "      <td>APRENDIZAJE COOPERATIVO 2017</td>\n",
       "      <td>EMPATÍA Y COMUNICACIÓN EFICAZ, ASEQUIBILIDAD DE LAS ACTIVIDADES, DIAGNÓSTICO PARA EL APRENDIZAJE, FLEXIBILIDAD EN EL USO DE ESPACIOS, CONFLICTO COGNITIVO Y ACTIVACIÓN MENTAL, UTILIZACIÓN DE ESPACIOS EXTERNOS AL CENTRO, LAS FASES DE LA EVALUACIÓN, AUTOESTIMA Y AUTOCONCEPTO, CÓMO EVALUAR LAS COMPETENCIAS, APRENDIZAJE AUTÓNOMO, APRENDIZAJE BASADO EN PROBLEMAS, APRENDIZAJE SIGNIFICATIVO Y FUNCIONAL, ACTIVIDADES DE PARTICIPACIÓN, GESTIÓN DEL TIEMPO y INSTRUMENTOS DE EVALUACIÓN</td>\n",
       "      <td>NaN</td>\n",
       "    </tr>\n",
       "  </tbody>\n",
       "</table>\n",
       "<p>1 rows × 38 columns</p>\n",
       "</div>"
      ],
      "text/plain": [
       "   id      usuario usuario_pago correo_confirmado patrocinador como_llego_lic  \\\n",
       "0  45  autor@autor           No                Sí          NaN            NaN   \n",
       "\n",
       "  idioma    fecha_de_registro fecha_ulltimo_acceso  actividad  ...  \\\n",
       "0     es  2016-03-08 10:40:13  2021-01-11 10:58:17          5  ...   \n",
       "\n",
       "   cupon_en_uso evidencias_consultadas evidencias_evaluadas cantidad_chats  \\\n",
       "0           NaN                      1                    0              1   \n",
       "\n",
       "  habilidades_completadas tripartita  \\\n",
       "0                      15         No   \n",
       "\n",
       "                      ultima_habilidad_en_desarrollo  \\\n",
       "0  FLIPPED LEARNING: CÓMO DAR LA VUELTA A LAS CLASES   \n",
       "\n",
       "              desafíos_acabados  \\\n",
       "0  APRENDIZAJE COOPERATIVO 2017   \n",
       "\n",
       "                                                                                                                                                                                                                                                                                                                                                                                                                                                                             habilidades_acabadas  \\\n",
       "0  EMPATÍA Y COMUNICACIÓN EFICAZ, ASEQUIBILIDAD DE LAS ACTIVIDADES, DIAGNÓSTICO PARA EL APRENDIZAJE, FLEXIBILIDAD EN EL USO DE ESPACIOS, CONFLICTO COGNITIVO Y ACTIVACIÓN MENTAL, UTILIZACIÓN DE ESPACIOS EXTERNOS AL CENTRO, LAS FASES DE LA EVALUACIÓN, AUTOESTIMA Y AUTOCONCEPTO, CÓMO EVALUAR LAS COMPETENCIAS, APRENDIZAJE AUTÓNOMO, APRENDIZAJE BASADO EN PROBLEMAS, APRENDIZAJE SIGNIFICATIVO Y FUNCIONAL, ACTIVIDADES DE PARTICIPACIÓN, GESTIÓN DEL TIEMPO y INSTRUMENTOS DE EVALUACIÓN     \n",
       "\n",
       "  habilidades_acabadas_con_insignia  \n",
       "0                               NaN  \n",
       "\n",
       "[1 rows x 38 columns]"
      ]
     },
     "execution_count": 9,
     "metadata": {},
     "output_type": "execute_result"
    }
   ],
   "source": [
    "df_users_ori.head(1)"
   ]
  },
  {
   "cell_type": "code",
   "execution_count": 10,
   "id": "34b0a767",
   "metadata": {},
   "outputs": [
    {
     "data": {
      "text/plain": [
       "id                                           int64\n",
       "usuario                                     object\n",
       "usuario_pago                                object\n",
       "correo_confirmado                           object\n",
       "patrocinador                                object\n",
       "como_llego_lic                              object\n",
       "idioma                                      object\n",
       "fecha_de_registro                           object\n",
       "fecha_ulltimo_acceso                        object\n",
       "actividad                                    int64\n",
       "reputacion                                 float64\n",
       "nombre                                      object\n",
       "apellidos                                   object\n",
       "docencia                                    object\n",
       "pais                                        object\n",
       "ciudad                                      object\n",
       "codigo_postal                               object\n",
       "telefono                                    object\n",
       "desafio_en_curso                            object\n",
       "institucion_principal                       object\n",
       "institucion_secundaria                      object\n",
       "notificacion_nuevo_contacto                 object\n",
       "notificacion_nuevo_mensaje                  object\n",
       "notificacion_desafio_contacto               object\n",
       "notificacion_calif_evidencia                object\n",
       "notificacion_invitacion_calif_evidencia     object\n",
       "notificacion_material_tgp                   object\n",
       "notificacion_informe_mensual                object\n",
       "cupon_en_uso                                object\n",
       "evidencias_consultadas                       int64\n",
       "evidencias_evaluadas                         int64\n",
       "cantidad_chats                               int64\n",
       "habilidades_completadas                      int64\n",
       "tripartita                                  object\n",
       "ultima_habilidad_en_desarrollo              object\n",
       "desafíos_acabados                           object\n",
       "habilidades_acabadas                        object\n",
       "habilidades_acabadas_con_insignia           object\n",
       "dtype: object"
      ]
     },
     "execution_count": 10,
     "metadata": {},
     "output_type": "execute_result"
    }
   ],
   "source": [
    "df_users_ori.dtypes"
   ]
  },
  {
   "cell_type": "code",
   "execution_count": 11,
   "id": "ea5c0e44",
   "metadata": {},
   "outputs": [],
   "source": [
    "# using dictionary to convert specific columns\n",
    "convert_dict = {\n",
    "                'id': 'int',\n",
    "                'usuario': 'string',\n",
    "                'usuario_pago': 'string',\n",
    "                'correo_confirmado': 'string',\n",
    "                'patrocinador': 'string',\n",
    "                'como_llego_lic': 'string',\n",
    "                'idioma': 'string',\n",
    "                'fecha_de_registro': 'string',\n",
    "                'fecha_ulltimo_acceso': 'string',\n",
    "                'actividad': 'int',\n",
    "                'reputacion': 'float64',\n",
    "                'nombre': 'string',\n",
    "                'apellidos': 'string',\n",
    "                'docencia': 'string',\n",
    "                'pais': 'string',\n",
    "                'ciudad': 'string',\n",
    "                'codigo_postal': 'string',\n",
    "                'telefono': 'string',\n",
    "                'desafio_en_curso': 'string',\n",
    "                'institucion_principal': 'string',\n",
    "                'institucion_secundaria': 'string',\n",
    "                'notificacion_nuevo_contacto': 'string',\n",
    "                'notificacion_nuevo_mensaje': 'string',\n",
    "                'notificacion_desafio_contacto': 'string',\n",
    "                'notificacion_calif_evidencia': 'string',\n",
    "                'notificacion_invitacion_calif_evidencia': 'string',\n",
    "                'notificacion_material_tgp': 'string',\n",
    "                'notificacion_informe_mensual': 'string',\n",
    "                'cupon_en_uso': 'string',\n",
    "                'evidencias_consultadas': 'int',\n",
    "                'evidencias_evaluadas': 'int',\n",
    "                'cantidad_chats': 'int',\n",
    "                'habilidades_completadas': 'int',\n",
    "                'tripartita': 'string',\n",
    "                'ultima_habilidad_en_desarrollo': 'string',\n",
    "                'desafíos_acabados': 'string',\n",
    "                'habilidades_acabadas': 'string',\n",
    "                'habilidades_acabadas_con_insignia': 'string'\n",
    "               }"
   ]
  },
  {
   "cell_type": "code",
   "execution_count": 12,
   "id": "f6482ff1",
   "metadata": {},
   "outputs": [],
   "source": [
    "#Initial transformation\n",
    "df_users_conv = df_users_ori.astype(convert_dict)"
   ]
  },
  {
   "cell_type": "code",
   "execution_count": 13,
   "id": "b747a4fe",
   "metadata": {},
   "outputs": [],
   "source": [
    "#Date format\n",
    "df_users_conv[\"fecha_de_registro\"] = pd.to_datetime(df_users_conv[\"fecha_de_registro\"],format='%Y%m%d %H:%M:%S')\n",
    "df_users_conv[\"fecha_ulltimo_acceso\"] = pd.to_datetime(df_users_conv[\"fecha_ulltimo_acceso\"],format='%Y%m%d %H:%M:%S')"
   ]
  },
  {
   "cell_type": "code",
   "execution_count": 14,
   "id": "991bc329",
   "metadata": {},
   "outputs": [],
   "source": [
    "#Feature engineering\n",
    "df_users_conv[\"habilidades_acabadas_cnt\"] = df_users_conv[\"habilidades_acabadas\"].apply(lambda x: x.count(\",\") + 1 if isinstance(x,str) else 0 )\n",
    "df_users_conv[\"habilidades_acabadas_con_insignia_cnt\"] = df_users_conv[\"habilidades_acabadas_con_insignia\"].apply(lambda x: x.count(\",\") + 1 if isinstance(x,str) else 0 )"
   ]
  },
  {
   "cell_type": "code",
   "execution_count": 15,
   "id": "4875de41",
   "metadata": {},
   "outputs": [
    {
     "data": {
      "text/plain": [
       "id                                                  int64\n",
       "usuario                                            string\n",
       "usuario_pago                                       string\n",
       "correo_confirmado                                  string\n",
       "patrocinador                                       string\n",
       "como_llego_lic                                     string\n",
       "idioma                                             string\n",
       "fecha_de_registro                          datetime64[ns]\n",
       "fecha_ulltimo_acceso                       datetime64[ns]\n",
       "actividad                                           int64\n",
       "reputacion                                        float64\n",
       "nombre                                             string\n",
       "apellidos                                          string\n",
       "docencia                                           string\n",
       "pais                                               string\n",
       "ciudad                                             string\n",
       "codigo_postal                                      string\n",
       "telefono                                           string\n",
       "desafio_en_curso                                   string\n",
       "institucion_principal                              string\n",
       "institucion_secundaria                             string\n",
       "notificacion_nuevo_contacto                        string\n",
       "notificacion_nuevo_mensaje                         string\n",
       "notificacion_desafio_contacto                      string\n",
       "notificacion_calif_evidencia                       string\n",
       "notificacion_invitacion_calif_evidencia            string\n",
       "notificacion_material_tgp                          string\n",
       "notificacion_informe_mensual                       string\n",
       "cupon_en_uso                                       string\n",
       "evidencias_consultadas                              int64\n",
       "evidencias_evaluadas                                int64\n",
       "cantidad_chats                                      int64\n",
       "habilidades_completadas                             int64\n",
       "tripartita                                         string\n",
       "ultima_habilidad_en_desarrollo                     string\n",
       "desafíos_acabados                                  string\n",
       "habilidades_acabadas                               string\n",
       "habilidades_acabadas_con_insignia                  string\n",
       "habilidades_acabadas_cnt                            int64\n",
       "habilidades_acabadas_con_insignia_cnt               int64\n",
       "dtype: object"
      ]
     },
     "execution_count": 15,
     "metadata": {},
     "output_type": "execute_result"
    }
   ],
   "source": [
    "df_users_conv.dtypes"
   ]
  },
  {
   "cell_type": "code",
   "execution_count": 16,
   "id": "9f8bbbfe",
   "metadata": {
    "scrolled": true
   },
   "outputs": [
    {
     "data": {
      "text/html": [
       "<div>\n",
       "<style scoped>\n",
       "    .dataframe tbody tr th:only-of-type {\n",
       "        vertical-align: middle;\n",
       "    }\n",
       "\n",
       "    .dataframe tbody tr th {\n",
       "        vertical-align: top;\n",
       "    }\n",
       "\n",
       "    .dataframe thead th {\n",
       "        text-align: right;\n",
       "    }\n",
       "</style>\n",
       "<table border=\"1\" class=\"dataframe\">\n",
       "  <thead>\n",
       "    <tr style=\"text-align: right;\">\n",
       "      <th></th>\n",
       "      <th>Total</th>\n",
       "      <th>PercNotNull</th>\n",
       "    </tr>\n",
       "  </thead>\n",
       "  <tbody>\n",
       "    <tr>\n",
       "      <th>cupon_en_uso</th>\n",
       "      <td>9587</td>\n",
       "      <td>3.46</td>\n",
       "    </tr>\n",
       "    <tr>\n",
       "      <th>institucion_secundaria</th>\n",
       "      <td>9362</td>\n",
       "      <td>5.73</td>\n",
       "    </tr>\n",
       "    <tr>\n",
       "      <th>telefono</th>\n",
       "      <td>8663</td>\n",
       "      <td>12.77</td>\n",
       "    </tr>\n",
       "    <tr>\n",
       "      <th>institucion_principal</th>\n",
       "      <td>7892</td>\n",
       "      <td>20.53</td>\n",
       "    </tr>\n",
       "    <tr>\n",
       "      <th>habilidades_acabadas_con_insignia</th>\n",
       "      <td>7796</td>\n",
       "      <td>21.50</td>\n",
       "    </tr>\n",
       "    <tr>\n",
       "      <th>desafíos_acabados</th>\n",
       "      <td>7264</td>\n",
       "      <td>26.86</td>\n",
       "    </tr>\n",
       "    <tr>\n",
       "      <th>habilidades_acabadas</th>\n",
       "      <td>6634</td>\n",
       "      <td>33.20</td>\n",
       "    </tr>\n",
       "    <tr>\n",
       "      <th>ultima_habilidad_en_desarrollo</th>\n",
       "      <td>4432</td>\n",
       "      <td>55.37</td>\n",
       "    </tr>\n",
       "    <tr>\n",
       "      <th>patrocinador</th>\n",
       "      <td>4176</td>\n",
       "      <td>57.95</td>\n",
       "    </tr>\n",
       "    <tr>\n",
       "      <th>como_llego_lic</th>\n",
       "      <td>4176</td>\n",
       "      <td>57.95</td>\n",
       "    </tr>\n",
       "    <tr>\n",
       "      <th>desafio_en_curso</th>\n",
       "      <td>3643</td>\n",
       "      <td>63.32</td>\n",
       "    </tr>\n",
       "    <tr>\n",
       "      <th>codigo_postal</th>\n",
       "      <td>2969</td>\n",
       "      <td>70.10</td>\n",
       "    </tr>\n",
       "    <tr>\n",
       "      <th>fecha_ulltimo_acceso</th>\n",
       "      <td>1777</td>\n",
       "      <td>82.11</td>\n",
       "    </tr>\n",
       "    <tr>\n",
       "      <th>ciudad</th>\n",
       "      <td>117</td>\n",
       "      <td>98.82</td>\n",
       "    </tr>\n",
       "    <tr>\n",
       "      <th>docencia</th>\n",
       "      <td>26</td>\n",
       "      <td>99.74</td>\n",
       "    </tr>\n",
       "    <tr>\n",
       "      <th>apellidos</th>\n",
       "      <td>3</td>\n",
       "      <td>99.97</td>\n",
       "    </tr>\n",
       "    <tr>\n",
       "      <th>cantidad_chats</th>\n",
       "      <td>0</td>\n",
       "      <td>100.00</td>\n",
       "    </tr>\n",
       "    <tr>\n",
       "      <th>notificacion_invitacion_calif_evidencia</th>\n",
       "      <td>0</td>\n",
       "      <td>100.00</td>\n",
       "    </tr>\n",
       "    <tr>\n",
       "      <th>habilidades_completadas</th>\n",
       "      <td>0</td>\n",
       "      <td>100.00</td>\n",
       "    </tr>\n",
       "    <tr>\n",
       "      <th>tripartita</th>\n",
       "      <td>0</td>\n",
       "      <td>100.00</td>\n",
       "    </tr>\n",
       "    <tr>\n",
       "      <th>evidencias_evaluadas</th>\n",
       "      <td>0</td>\n",
       "      <td>100.00</td>\n",
       "    </tr>\n",
       "    <tr>\n",
       "      <th>evidencias_consultadas</th>\n",
       "      <td>0</td>\n",
       "      <td>100.00</td>\n",
       "    </tr>\n",
       "    <tr>\n",
       "      <th>habilidades_acabadas_cnt</th>\n",
       "      <td>0</td>\n",
       "      <td>100.00</td>\n",
       "    </tr>\n",
       "    <tr>\n",
       "      <th>notificacion_informe_mensual</th>\n",
       "      <td>0</td>\n",
       "      <td>100.00</td>\n",
       "    </tr>\n",
       "    <tr>\n",
       "      <th>notificacion_material_tgp</th>\n",
       "      <td>0</td>\n",
       "      <td>100.00</td>\n",
       "    </tr>\n",
       "    <tr>\n",
       "      <th>id</th>\n",
       "      <td>0</td>\n",
       "      <td>100.00</td>\n",
       "    </tr>\n",
       "    <tr>\n",
       "      <th>notificacion_calif_evidencia</th>\n",
       "      <td>0</td>\n",
       "      <td>100.00</td>\n",
       "    </tr>\n",
       "    <tr>\n",
       "      <th>notificacion_desafio_contacto</th>\n",
       "      <td>0</td>\n",
       "      <td>100.00</td>\n",
       "    </tr>\n",
       "    <tr>\n",
       "      <th>notificacion_nuevo_mensaje</th>\n",
       "      <td>0</td>\n",
       "      <td>100.00</td>\n",
       "    </tr>\n",
       "    <tr>\n",
       "      <th>notificacion_nuevo_contacto</th>\n",
       "      <td>0</td>\n",
       "      <td>100.00</td>\n",
       "    </tr>\n",
       "    <tr>\n",
       "      <th>usuario</th>\n",
       "      <td>0</td>\n",
       "      <td>100.00</td>\n",
       "    </tr>\n",
       "    <tr>\n",
       "      <th>pais</th>\n",
       "      <td>0</td>\n",
       "      <td>100.00</td>\n",
       "    </tr>\n",
       "    <tr>\n",
       "      <th>nombre</th>\n",
       "      <td>0</td>\n",
       "      <td>100.00</td>\n",
       "    </tr>\n",
       "    <tr>\n",
       "      <th>reputacion</th>\n",
       "      <td>0</td>\n",
       "      <td>100.00</td>\n",
       "    </tr>\n",
       "    <tr>\n",
       "      <th>actividad</th>\n",
       "      <td>0</td>\n",
       "      <td>100.00</td>\n",
       "    </tr>\n",
       "    <tr>\n",
       "      <th>fecha_de_registro</th>\n",
       "      <td>0</td>\n",
       "      <td>100.00</td>\n",
       "    </tr>\n",
       "    <tr>\n",
       "      <th>idioma</th>\n",
       "      <td>0</td>\n",
       "      <td>100.00</td>\n",
       "    </tr>\n",
       "    <tr>\n",
       "      <th>correo_confirmado</th>\n",
       "      <td>0</td>\n",
       "      <td>100.00</td>\n",
       "    </tr>\n",
       "    <tr>\n",
       "      <th>usuario_pago</th>\n",
       "      <td>0</td>\n",
       "      <td>100.00</td>\n",
       "    </tr>\n",
       "    <tr>\n",
       "      <th>habilidades_acabadas_con_insignia_cnt</th>\n",
       "      <td>0</td>\n",
       "      <td>100.00</td>\n",
       "    </tr>\n",
       "  </tbody>\n",
       "</table>\n",
       "</div>"
      ],
      "text/plain": [
       "                                         Total  PercNotNull\n",
       "cupon_en_uso                              9587         3.46\n",
       "institucion_secundaria                    9362         5.73\n",
       "telefono                                  8663        12.77\n",
       "institucion_principal                     7892        20.53\n",
       "habilidades_acabadas_con_insignia         7796        21.50\n",
       "desafíos_acabados                         7264        26.86\n",
       "habilidades_acabadas                      6634        33.20\n",
       "ultima_habilidad_en_desarrollo            4432        55.37\n",
       "patrocinador                              4176        57.95\n",
       "como_llego_lic                            4176        57.95\n",
       "desafio_en_curso                          3643        63.32\n",
       "codigo_postal                             2969        70.10\n",
       "fecha_ulltimo_acceso                      1777        82.11\n",
       "ciudad                                     117        98.82\n",
       "docencia                                    26        99.74\n",
       "apellidos                                    3        99.97\n",
       "cantidad_chats                               0       100.00\n",
       "notificacion_invitacion_calif_evidencia      0       100.00\n",
       "habilidades_completadas                      0       100.00\n",
       "tripartita                                   0       100.00\n",
       "evidencias_evaluadas                         0       100.00\n",
       "evidencias_consultadas                       0       100.00\n",
       "habilidades_acabadas_cnt                     0       100.00\n",
       "notificacion_informe_mensual                 0       100.00\n",
       "notificacion_material_tgp                    0       100.00\n",
       "id                                           0       100.00\n",
       "notificacion_calif_evidencia                 0       100.00\n",
       "notificacion_desafio_contacto                0       100.00\n",
       "notificacion_nuevo_mensaje                   0       100.00\n",
       "notificacion_nuevo_contacto                  0       100.00\n",
       "usuario                                      0       100.00\n",
       "pais                                         0       100.00\n",
       "nombre                                       0       100.00\n",
       "reputacion                                   0       100.00\n",
       "actividad                                    0       100.00\n",
       "fecha_de_registro                            0       100.00\n",
       "idioma                                       0       100.00\n",
       "correo_confirmado                            0       100.00\n",
       "usuario_pago                                 0       100.00\n",
       "habilidades_acabadas_con_insignia_cnt        0       100.00"
      ]
     },
     "execution_count": 16,
     "metadata": {},
     "output_type": "execute_result"
    }
   ],
   "source": [
    "ingestHelper = IngestHelper(version = 1)\n",
    "df_users_conv_nulls = ingestHelper.get_nulls_data(df = df_users_conv)\n",
    "df_users_conv_nulls"
   ]
  },
  {
   "cell_type": "code",
   "execution_count": 17,
   "id": "a4d603a4",
   "metadata": {},
   "outputs": [
    {
     "data": {
      "text/plain": [
       "Index(['id', 'actividad', 'reputacion', 'evidencias_consultadas',\n",
       "       'evidencias_evaluadas', 'cantidad_chats', 'habilidades_completadas',\n",
       "       'habilidades_acabadas_cnt', 'habilidades_acabadas_con_insignia_cnt'],\n",
       "      dtype='object')"
      ]
     },
     "execution_count": 17,
     "metadata": {},
     "output_type": "execute_result"
    }
   ],
   "source": [
    "df_users_conv_num = df_users_conv._get_numeric_data()\n",
    "df_users_conv_num.columns"
   ]
  },
  {
   "cell_type": "code",
   "execution_count": 18,
   "id": "00064072",
   "metadata": {},
   "outputs": [],
   "source": [
    "df_users_conv_num = df_users_conv_num.drop(['id'], axis=1)"
   ]
  },
  {
   "cell_type": "code",
   "execution_count": 19,
   "id": "377f3132",
   "metadata": {},
   "outputs": [
    {
     "data": {
      "text/html": [
       "<div>\n",
       "<style scoped>\n",
       "    .dataframe tbody tr th:only-of-type {\n",
       "        vertical-align: middle;\n",
       "    }\n",
       "\n",
       "    .dataframe tbody tr th {\n",
       "        vertical-align: top;\n",
       "    }\n",
       "\n",
       "    .dataframe thead th {\n",
       "        text-align: right;\n",
       "    }\n",
       "</style>\n",
       "<table border=\"1\" class=\"dataframe\">\n",
       "  <thead>\n",
       "    <tr style=\"text-align: right;\">\n",
       "      <th></th>\n",
       "      <th>actividad</th>\n",
       "      <th>reputacion</th>\n",
       "      <th>evidencias_consultadas</th>\n",
       "      <th>evidencias_evaluadas</th>\n",
       "      <th>cantidad_chats</th>\n",
       "      <th>habilidades_completadas</th>\n",
       "      <th>habilidades_acabadas_cnt</th>\n",
       "      <th>habilidades_acabadas_con_insignia_cnt</th>\n",
       "    </tr>\n",
       "  </thead>\n",
       "  <tbody>\n",
       "    <tr>\n",
       "      <th>count</th>\n",
       "      <td>9931.000000</td>\n",
       "      <td>9931.000000</td>\n",
       "      <td>9931.000000</td>\n",
       "      <td>9931.000000</td>\n",
       "      <td>9931.000000</td>\n",
       "      <td>9931.000000</td>\n",
       "      <td>9931.000000</td>\n",
       "      <td>9931.000000</td>\n",
       "    </tr>\n",
       "    <tr>\n",
       "      <th>mean</th>\n",
       "      <td>12.783204</td>\n",
       "      <td>1.558181</td>\n",
       "      <td>13.561273</td>\n",
       "      <td>8.348001</td>\n",
       "      <td>0.839895</td>\n",
       "      <td>1.152150</td>\n",
       "      <td>0.892861</td>\n",
       "      <td>0.492901</td>\n",
       "    </tr>\n",
       "    <tr>\n",
       "      <th>std</th>\n",
       "      <td>31.302208</td>\n",
       "      <td>2.181791</td>\n",
       "      <td>36.143564</td>\n",
       "      <td>27.193483</td>\n",
       "      <td>2.240779</td>\n",
       "      <td>2.138486</td>\n",
       "      <td>1.839042</td>\n",
       "      <td>1.325414</td>\n",
       "    </tr>\n",
       "    <tr>\n",
       "      <th>min</th>\n",
       "      <td>5.000000</td>\n",
       "      <td>0.000000</td>\n",
       "      <td>0.000000</td>\n",
       "      <td>0.000000</td>\n",
       "      <td>0.000000</td>\n",
       "      <td>0.000000</td>\n",
       "      <td>0.000000</td>\n",
       "      <td>0.000000</td>\n",
       "    </tr>\n",
       "    <tr>\n",
       "      <th>25%</th>\n",
       "      <td>5.000000</td>\n",
       "      <td>0.000000</td>\n",
       "      <td>0.000000</td>\n",
       "      <td>0.000000</td>\n",
       "      <td>0.000000</td>\n",
       "      <td>0.000000</td>\n",
       "      <td>0.000000</td>\n",
       "      <td>0.000000</td>\n",
       "    </tr>\n",
       "    <tr>\n",
       "      <th>50%</th>\n",
       "      <td>5.000000</td>\n",
       "      <td>0.000000</td>\n",
       "      <td>0.000000</td>\n",
       "      <td>0.000000</td>\n",
       "      <td>0.000000</td>\n",
       "      <td>0.000000</td>\n",
       "      <td>0.000000</td>\n",
       "      <td>0.000000</td>\n",
       "    </tr>\n",
       "    <tr>\n",
       "      <th>75%</th>\n",
       "      <td>5.000000</td>\n",
       "      <td>4.400000</td>\n",
       "      <td>13.000000</td>\n",
       "      <td>6.000000</td>\n",
       "      <td>1.000000</td>\n",
       "      <td>2.000000</td>\n",
       "      <td>1.000000</td>\n",
       "      <td>0.000000</td>\n",
       "    </tr>\n",
       "    <tr>\n",
       "      <th>max</th>\n",
       "      <td>310.000000</td>\n",
       "      <td>5.000000</td>\n",
       "      <td>602.000000</td>\n",
       "      <td>539.000000</td>\n",
       "      <td>48.000000</td>\n",
       "      <td>29.000000</td>\n",
       "      <td>28.000000</td>\n",
       "      <td>13.000000</td>\n",
       "    </tr>\n",
       "  </tbody>\n",
       "</table>\n",
       "</div>"
      ],
      "text/plain": [
       "         actividad   reputacion  evidencias_consultadas  evidencias_evaluadas  \\\n",
       "count  9931.000000  9931.000000             9931.000000           9931.000000   \n",
       "mean     12.783204     1.558181               13.561273              8.348001   \n",
       "std      31.302208     2.181791               36.143564             27.193483   \n",
       "min       5.000000     0.000000                0.000000              0.000000   \n",
       "25%       5.000000     0.000000                0.000000              0.000000   \n",
       "50%       5.000000     0.000000                0.000000              0.000000   \n",
       "75%       5.000000     4.400000               13.000000              6.000000   \n",
       "max     310.000000     5.000000              602.000000            539.000000   \n",
       "\n",
       "       cantidad_chats  habilidades_completadas  habilidades_acabadas_cnt  \\\n",
       "count     9931.000000              9931.000000               9931.000000   \n",
       "mean         0.839895                 1.152150                  0.892861   \n",
       "std          2.240779                 2.138486                  1.839042   \n",
       "min          0.000000                 0.000000                  0.000000   \n",
       "25%          0.000000                 0.000000                  0.000000   \n",
       "50%          0.000000                 0.000000                  0.000000   \n",
       "75%          1.000000                 2.000000                  1.000000   \n",
       "max         48.000000                29.000000                 28.000000   \n",
       "\n",
       "       habilidades_acabadas_con_insignia_cnt  \n",
       "count                            9931.000000  \n",
       "mean                                0.492901  \n",
       "std                                 1.325414  \n",
       "min                                 0.000000  \n",
       "25%                                 0.000000  \n",
       "50%                                 0.000000  \n",
       "75%                                 0.000000  \n",
       "max                                13.000000  "
      ]
     },
     "execution_count": 19,
     "metadata": {},
     "output_type": "execute_result"
    }
   ],
   "source": [
    "df_users_conv_num.describe()"
   ]
  },
  {
   "cell_type": "code",
   "execution_count": 20,
   "id": "97f7d6a1",
   "metadata": {},
   "outputs": [],
   "source": [
    "%run Users_Helper.ipynb\n",
    "%run Users_Plot.ipynb"
   ]
  },
  {
   "cell_type": "code",
   "execution_count": 21,
   "id": "2ea9b315",
   "metadata": {},
   "outputs": [
    {
     "name": "stdout",
     "output_type": "stream",
     "text": [
      "Plotting helper version 1.0\n"
     ]
    }
   ],
   "source": [
    "plottingHelper = PlottingHelper(version = \"1.0\")\n",
    "print(plottingHelper)"
   ]
  },
  {
   "cell_type": "code",
   "execution_count": 22,
   "id": "ff9d4c38",
   "metadata": {},
   "outputs": [
    {
     "data": {
      "application/vnd.jupyter.widget-view+json": {
       "model_id": "77100106ca044b54a1b83067ab15cc0d",
       "version_major": 2,
       "version_minor": 0
      },
      "text/plain": [
       "Tab(children=(Output(), Output()), _titles={'0': 'Categorical', '1': 'Numerical'})"
      ]
     },
     "metadata": {},
     "output_type": "display_data"
    }
   ],
   "source": [
    "out1 = ipywidgets.Output()\n",
    "out2 = ipywidgets.Output()\n",
    "\n",
    "tab = ipywidgets.Tab(children = [out1, out2])\n",
    "tab.set_title(0, 'Categorical')\n",
    "tab.set_title(1, 'Numerical')\n",
    "display(tab)\n",
    "with out1:\n",
    "    plottingHelper.df_cat = df_users_conv\n",
    "    ipywidgets.interact(plottingHelper.func_count_cat_plotty, \\\n",
    "                    x_var_size=ipywidgets.IntSlider(layout={'border': '1px solid black'}, min=1, max=100, value=10, step=1, description=\"Num.Records\"), \\\n",
    "                    x_var = ipywidgets.Dropdown(layout={'border': '1px solid black'}, options=[\"usuario_pago\", \"correo_confirmado\",\"patrocinador\",\"como_llego_lic\", \"idioma\", \"docencia\", \"pais\", \\\n",
    "                                                         \"ciudad\", \"codigo_postal\", \"desafio_en_curso\", \"institucion_principal\", \"institucion_secundaria\", \\\n",
    "                                                         \"notificacion_nuevo_contacto\", \"notificacion_nuevo_mensaje\", \"notificacion_desafio_contacto\",\n",
    "                                                         \"notificacion_calif_evidencia\", \"notificacion_invitacion_calif_evidencia\", \"notificacion_material_tgp\", \\\n",
    "                                                         \"notificacion_informe_mensual\", \"cupon_en_uso\", \"ultima_habilidad_en_desarrollo\"], description=\"Feature\"), \\\n",
    "                    x_var_asc = ipywidgets.Checkbox(layout={'border': '1px solid black'}, value=False, description=\"Asc. Order\"), \\\n",
    "                    ax_title = ipywidgets.Textarea(layout={'border': '1px solid black'}, value=\"Users by Feature\", description=\"Title\") \\\n",
    "                   );\n",
    "with out2:\n",
    "    plottingHelper.df_num = df_users_conv_num\n",
    "    ipywidgets.interact(plottingHelper.func_box_numerical_plotty, \\\n",
    "                        chart_type_ = ipywidgets.Dropdown(layout={'border': '1px solid black'}, options=[\"BoxPlot\", \"Histogram\"], description=\"Chart Type\"), \\\n",
    "                        var_ = ipywidgets.Dropdown(layout={'border': '1px solid black'}, options=[\"actividad\", \"reputacion\",\"evidencias_consultadas\",\"evidencias_evaluadas\", \"cantidad_chats\", \"habilidades_completadas\", \"habilidades_acabadas_cnt\", \"habilidades_acabadas_con_insignia_cnt\"], description=\"Feature\"), \\\n",
    "                        title_ = ipywidgets.Textarea(layout={'border': '1px solid black'}, value=\"Box Plot Styling Outliers\", description=\"Title\"), \\\n",
    "                        name_ = ipywidgets.Textarea(layout={'border': '1px solid black'}, value=\"Whiskers and Outliers\", description=\"Name\") \\\n",
    "                        );"
   ]
  },
  {
   "cell_type": "code",
   "execution_count": 23,
   "id": "04e8be13",
   "metadata": {},
   "outputs": [],
   "source": [
    "#tab.write_html(current_plot_dir,\n",
    "#                full_html=False,\n",
    "#                include_plotlyjs='cdn')"
   ]
  },
  {
   "cell_type": "code",
   "execution_count": 24,
   "id": "d51d0b1b",
   "metadata": {},
   "outputs": [],
   "source": [
    "%run Users_Helper.ipynb\n",
    "%run Users_Plot.ipynb"
   ]
  },
  {
   "cell_type": "code",
   "execution_count": 25,
   "id": "80b39d52",
   "metadata": {},
   "outputs": [
    {
     "name": "stdout",
     "output_type": "stream",
     "text": [
      "Dataframe helper version 1.0\n"
     ]
    }
   ],
   "source": [
    "dataframeHelper = DataframeHelper(version = \"1.0\")\n",
    "print(dataframeHelper)"
   ]
  },
  {
   "cell_type": "code",
   "execution_count": 26,
   "id": "39df16a0",
   "metadata": {},
   "outputs": [
    {
     "name": "stdout",
     "output_type": "stream",
     "text": [
      "Plotting helper version 1.0\n"
     ]
    }
   ],
   "source": [
    "plottingHelper = PlottingHelper(version = \"1.0\")\n",
    "print(plottingHelper)"
   ]
  },
  {
   "cell_type": "code",
   "execution_count": 27,
   "id": "f40fa413",
   "metadata": {},
   "outputs": [
    {
     "data": {
      "application/vnd.jupyter.widget-view+json": {
       "model_id": "886f3b378e834cfaa8aacc1530942882",
       "version_major": 2,
       "version_minor": 0
      },
      "text/plain": [
       "Tab(children=(Output(), Output()), _titles={'0': 'Register', '1': 'Access'})"
      ]
     },
     "metadata": {},
     "output_type": "display_data"
    }
   ],
   "source": [
    "out1 = ipywidgets.Output()\n",
    "out2 = ipywidgets.Output()\n",
    "\n",
    "tab = ipywidgets.Tab(children = [out1, out2])\n",
    "tab.set_title(0, 'Register')\n",
    "tab.set_title(1, 'Access')\n",
    "display(tab)\n",
    "with out1:\n",
    "    df_rymc = dataframeHelper.get_registration_year_month_country()\n",
    "    plottingHelper._df_rymc = df_rymc\n",
    "    #plottingHelper._df_aymc = df_aymc\n",
    "    ipywidgets.interact(plottingHelper.func_count_distinct_regist_plotty, \\\n",
    "                    x_group = ipywidgets.Dropdown(layout={'border': '1px solid black'}, options=[\"register\"], description=\"Group\"), \\\n",
    "                    x_type = ipywidgets.Dropdown(layout={'border': '1px solid black'}, options=[\"reg_year_month_bar\", \"reg_year_month_scatter\",\"reg_year_month_treemap\",\"Reg_country_bar\", \"Reg_year_bar\"], description=\"Feature\"), \\\n",
    "                    ax_title = ipywidgets.Textarea(layout={'border': '1px solid black'}, value=\"reg_year_month_bar\", description=\"Title\") \\\n",
    "                   );\n",
    "with out2:\n",
    "    df_aymc = dataframeHelper.get_access_year_month_country()\n",
    "    #plottingHelper._df_rymc = df_rymc\n",
    "    plottingHelper._df_aymc = df_aymc\n",
    "    ipywidgets.interact(plottingHelper.func_count_distinct_regist_plotty, \\\n",
    "                    x_group = ipywidgets.Dropdown(layout={'border': '1px solid black'}, options=[\"access\"], description=\"Group\"), \\\n",
    "                    x_type = ipywidgets.Dropdown(layout={'border': '1px solid black'}, options=[\"access_year_month_bar\", \"access_year_month_scatter\",\"access_year_month_treemap\",\"access_country_bar\", \"access_year_bar\"], description=\"Feature\"), \\\n",
    "                    ax_title = ipywidgets.Textarea(layout={'border': '1px solid black'}, value=\"access_year_month_bar\", description=\"Title\") \\\n",
    "                   );"
   ]
  },
  {
   "cell_type": "code",
   "execution_count": 28,
   "id": "805f8f45",
   "metadata": {},
   "outputs": [
    {
     "data": {
      "application/vnd.jupyter.widget-view+json": {
       "model_id": "81fce6ae170c463e98aa91bf0f0c69c2",
       "version_major": 2,
       "version_minor": 0
      },
      "text/plain": [
       "interactive(children=(DatePicker(value=datetime.datetime(2021, 1, 29, 15, 25, 52, 972237), description='last_a…"
      ]
     },
     "metadata": {},
     "output_type": "display_data"
    }
   ],
   "source": [
    "#ini_date = datetime.date.today() - datetime.timedelta(180)\n",
    "ini_date = datetime.datetime.now() - datetime.timedelta(180)\n",
    "\n",
    "ipywidgets.interact(plottingHelper.func_comparative_bar_total_plotty, \\\n",
    "               chart_type = ipywidgets.Dropdown(layout={'border': '1px solid black'}, options=[\"Bars\", \"Sunburst\"], description=\"Chart_Type\"), \\\n",
    "               dt_from    = ipywidgets.DatePicker(layout={'border': '1px solid black'}, description='last_access',disabled=False, value = ini_date), \\\n",
    "               ax_title   = ipywidgets.Textarea(layout={'border': '1px solid black'}, value=\"User Actives\", description=\"Title\") \\\n",
    "               );"
   ]
  },
  {
   "cell_type": "code",
   "execution_count": 29,
   "id": "dd6d644b",
   "metadata": {},
   "outputs": [
    {
     "data": {
      "application/vnd.jupyter.widget-view+json": {
       "model_id": "e467cefe60dc439a9e6bead4d3ceaafa",
       "version_major": 2,
       "version_minor": 0
      },
      "text/plain": [
       "interactive(children=(DatePicker(value=datetime.datetime(2021, 1, 29, 15, 25, 53, 331657), description='last_a…"
      ]
     },
     "metadata": {},
     "output_type": "display_data"
    }
   ],
   "source": [
    "#ini_date = datetime.date.today() - datetime.timedelta(180)\n",
    "ini_date = datetime.datetime.now() - datetime.timedelta(180)\n",
    "\n",
    "ipywidgets.interact(plottingHelper.func_comparative_bar_total_paying_plotty, \\\n",
    "               chart_type = ipywidgets.Dropdown(layout={'border': '1px solid black'}, options=[\"Bars\", \"Sunburst\"], description=\"Chart_Type\"), \\\n",
    "               dt_from    = ipywidgets.DatePicker(layout={'border': '1px solid black'}, description='last_access',disabled=False, value = ini_date), \\\n",
    "               hidden_wdg_ = ipywidgets.Checkbox(layout={'border': '1px solid black'}, value=False, description=\"date filter\"), \\\n",
    "               ax_title   = ipywidgets.Textarea(layout={'border': '1px solid black'}, value=\"Users Paying&Sponsored\", description=\"Title\") \\\n",
    "               );"
   ]
  },
  {
   "cell_type": "code",
   "execution_count": 30,
   "id": "daf39477",
   "metadata": {},
   "outputs": [
    {
     "name": "stdout",
     "output_type": "stream",
     "text": [
      "3.8.8\n"
     ]
    }
   ],
   "source": [
    "from platform import python_version\n",
    "\n",
    "print(python_version())"
   ]
  },
  {
   "cell_type": "code",
   "execution_count": null,
   "id": "671a9617",
   "metadata": {},
   "outputs": [],
   "source": []
  }
 ],
 "metadata": {
  "kernelspec": {
   "display_name": "Python 3",
   "language": "python",
   "name": "python3"
  },
  "language_info": {
   "codemirror_mode": {
    "name": "ipython",
    "version": 3
   },
   "file_extension": ".py",
   "mimetype": "text/x-python",
   "name": "python",
   "nbconvert_exporter": "python",
   "pygments_lexer": "ipython3",
   "version": "3.8.8"
  }
 },
 "nbformat": 4,
 "nbformat_minor": 5
}
