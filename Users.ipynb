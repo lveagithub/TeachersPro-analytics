{
 "cells": [
  {
   "cell_type": "markdown",
   "id": "3239b3e0",
   "metadata": {},
   "source": [
    "![TP](https://github.com/lveagithub/Dump/blob/master/TeachersPro-logo-color.png?raw=1)\n",
    "\n",
    "# Descriptive analytics\n",
    "\n",
    "### Lenin Escobar <lenin.escobar@net.teacherspro.com> - Descriptive analytics (15-Jul-2021)\n",
    "\n",
    "Open this notebook in Google Colaboratory: [![Open in Colab](https://colab.research.google.com/assets/colab-badge.svg)](https://colab.research.google.com/github/lveagithub/TeachersPro-analytics/blob/main/Users.ipynb)"
   ]
  },
  {
   "cell_type": "code",
   "execution_count": 1,
   "id": "2839e221",
   "metadata": {},
   "outputs": [],
   "source": [
    "%config IPCompleter.greedy=True\n",
    "%load_ext memory_profiler\n",
    "%matplotlib notebook\n",
    "%matplotlib inline\n",
    "%run Users_Helper.ipynb\n",
    "%run Users_Plot.ipynb"
   ]
  },
  {
   "cell_type": "markdown",
   "id": "dd20b870",
   "metadata": {},
   "source": [
    "<h1 style=\"background-color:#D7F5FF;\">Data Ingestion</h1>"
   ]
  },
  {
   "cell_type": "code",
   "execution_count": 2,
   "id": "686bff60",
   "metadata": {},
   "outputs": [],
   "source": [
    "#!pip install openpyxl"
   ]
  },
  {
   "cell_type": "code",
   "execution_count": 3,
   "id": "b7b627e3",
   "metadata": {},
   "outputs": [],
   "source": [
    "#! pip install mpld3"
   ]
  },
  {
   "cell_type": "code",
   "execution_count": 4,
   "id": "67f0850b",
   "metadata": {},
   "outputs": [],
   "source": [
    "#! pip install plotly"
   ]
  },
  {
   "cell_type": "code",
   "execution_count": 5,
   "id": "c5b771ea",
   "metadata": {},
   "outputs": [],
   "source": [
    "current_dir = os.path.join(CWD, DATA_DIR)\n",
    "current_file_xlsx = os.path.join(current_dir, USERS_XLSX)\n",
    "#df_users_ori = pd.read_excel('TPro_Users_20210606_1.xlsx', engine='openpyxl', index_col=0)\n",
    "df_users_ori = pd.read_excel(current_file_xlsx, engine='openpyxl')"
   ]
  },
  {
   "cell_type": "code",
   "execution_count": 6,
   "id": "6fb64beb",
   "metadata": {},
   "outputs": [
    {
     "data": {
      "text/html": [
       "<div>\n",
       "<style scoped>\n",
       "    .dataframe tbody tr th:only-of-type {\n",
       "        vertical-align: middle;\n",
       "    }\n",
       "\n",
       "    .dataframe tbody tr th {\n",
       "        vertical-align: top;\n",
       "    }\n",
       "\n",
       "    .dataframe thead th {\n",
       "        text-align: right;\n",
       "    }\n",
       "</style>\n",
       "<table border=\"1\" class=\"dataframe\">\n",
       "  <thead>\n",
       "    <tr style=\"text-align: right;\">\n",
       "      <th></th>\n",
       "      <th>id</th>\n",
       "      <th>usuario</th>\n",
       "      <th>usuario_pago</th>\n",
       "      <th>correo_confirmado</th>\n",
       "      <th>patrocinador</th>\n",
       "      <th>como_llego_lic</th>\n",
       "      <th>idioma</th>\n",
       "      <th>fecha_de_registro</th>\n",
       "      <th>fecha_ulltimo_acceso</th>\n",
       "      <th>actividad</th>\n",
       "      <th>...</th>\n",
       "      <th>cupon_en_uso</th>\n",
       "      <th>evidencias_consultadas</th>\n",
       "      <th>evidencias_evaluadas</th>\n",
       "      <th>cantidad_chats</th>\n",
       "      <th>habilidades_completadas</th>\n",
       "      <th>tripartita</th>\n",
       "      <th>ultima_habilidad_en_desarrollo</th>\n",
       "      <th>desafíos_acabados</th>\n",
       "      <th>habilidades_acabadas</th>\n",
       "      <th>habilidades_acabadas_con_insignia</th>\n",
       "    </tr>\n",
       "  </thead>\n",
       "  <tbody>\n",
       "    <tr>\n",
       "      <th>0</th>\n",
       "      <td>45</td>\n",
       "      <td>autor@autor</td>\n",
       "      <td>No</td>\n",
       "      <td>Sí</td>\n",
       "      <td>NaN</td>\n",
       "      <td>NaN</td>\n",
       "      <td>es</td>\n",
       "      <td>2016-03-08 10:40:13</td>\n",
       "      <td>2021-01-11 10:58:17</td>\n",
       "      <td>5</td>\n",
       "      <td>...</td>\n",
       "      <td>NaN</td>\n",
       "      <td>1</td>\n",
       "      <td>0</td>\n",
       "      <td>1</td>\n",
       "      <td>15</td>\n",
       "      <td>No</td>\n",
       "      <td>FLIPPED LEARNING: CÓMO DAR LA VUELTA A LAS CLASES</td>\n",
       "      <td>APRENDIZAJE COOPERATIVO 2017</td>\n",
       "      <td>EMPATÍA Y COMUNICACIÓN EFICAZ, ASEQUIBILIDAD DE LAS ACTIVIDADES, DIAGNÓSTICO PARA EL APRENDIZAJE, FLEXIBILIDAD EN EL USO DE ESPACIOS, CONFLICTO COGNITIVO Y ACTIVACIÓN MENTAL, UTILIZACIÓN DE ESPACIOS EXTERNOS AL CENTRO, LAS FASES DE LA EVALUACIÓN, AUTOESTIMA Y AUTOCONCEPTO, CÓMO EVALUAR LAS COMPETENCIAS, APRENDIZAJE AUTÓNOMO, APRENDIZAJE BASADO EN PROBLEMAS, APRENDIZAJE SIGNIFICATIVO Y FUNCIONAL, ACTIVIDADES DE PARTICIPACIÓN, GESTIÓN DEL TIEMPO y INSTRUMENTOS DE EVALUACIÓN</td>\n",
       "      <td>NaN</td>\n",
       "    </tr>\n",
       "  </tbody>\n",
       "</table>\n",
       "<p>1 rows × 38 columns</p>\n",
       "</div>"
      ],
      "text/plain": [
       "   id      usuario usuario_pago correo_confirmado patrocinador como_llego_lic  \\\n",
       "0  45  autor@autor           No                Sí          NaN            NaN   \n",
       "\n",
       "  idioma    fecha_de_registro fecha_ulltimo_acceso  actividad  ...  \\\n",
       "0     es  2016-03-08 10:40:13  2021-01-11 10:58:17          5  ...   \n",
       "\n",
       "   cupon_en_uso evidencias_consultadas evidencias_evaluadas cantidad_chats  \\\n",
       "0           NaN                      1                    0              1   \n",
       "\n",
       "  habilidades_completadas tripartita  \\\n",
       "0                      15         No   \n",
       "\n",
       "                      ultima_habilidad_en_desarrollo  \\\n",
       "0  FLIPPED LEARNING: CÓMO DAR LA VUELTA A LAS CLASES   \n",
       "\n",
       "              desafíos_acabados  \\\n",
       "0  APRENDIZAJE COOPERATIVO 2017   \n",
       "\n",
       "                                                                                                                                                                                                                                                                                                                                                                                                                                                                             habilidades_acabadas  \\\n",
       "0  EMPATÍA Y COMUNICACIÓN EFICAZ, ASEQUIBILIDAD DE LAS ACTIVIDADES, DIAGNÓSTICO PARA EL APRENDIZAJE, FLEXIBILIDAD EN EL USO DE ESPACIOS, CONFLICTO COGNITIVO Y ACTIVACIÓN MENTAL, UTILIZACIÓN DE ESPACIOS EXTERNOS AL CENTRO, LAS FASES DE LA EVALUACIÓN, AUTOESTIMA Y AUTOCONCEPTO, CÓMO EVALUAR LAS COMPETENCIAS, APRENDIZAJE AUTÓNOMO, APRENDIZAJE BASADO EN PROBLEMAS, APRENDIZAJE SIGNIFICATIVO Y FUNCIONAL, ACTIVIDADES DE PARTICIPACIÓN, GESTIÓN DEL TIEMPO y INSTRUMENTOS DE EVALUACIÓN     \n",
       "\n",
       "  habilidades_acabadas_con_insignia  \n",
       "0                               NaN  \n",
       "\n",
       "[1 rows x 38 columns]"
      ]
     },
     "execution_count": 6,
     "metadata": {},
     "output_type": "execute_result"
    }
   ],
   "source": [
    "df_users_ori.head(1)"
   ]
  },
  {
   "cell_type": "code",
   "execution_count": 7,
   "id": "34b0a767",
   "metadata": {},
   "outputs": [
    {
     "data": {
      "text/plain": [
       "id                                           int64\n",
       "usuario                                     object\n",
       "usuario_pago                                object\n",
       "correo_confirmado                           object\n",
       "patrocinador                                object\n",
       "como_llego_lic                              object\n",
       "idioma                                      object\n",
       "fecha_de_registro                           object\n",
       "fecha_ulltimo_acceso                        object\n",
       "actividad                                    int64\n",
       "reputacion                                 float64\n",
       "nombre                                      object\n",
       "apellidos                                   object\n",
       "docencia                                    object\n",
       "pais                                        object\n",
       "ciudad                                      object\n",
       "codigo_postal                               object\n",
       "telefono                                    object\n",
       "desafio_en_curso                            object\n",
       "institucion_principal                       object\n",
       "institucion_secundaria                      object\n",
       "notificacion_nuevo_contacto                 object\n",
       "notificacion_nuevo_mensaje                  object\n",
       "notificacion_desafio_contacto               object\n",
       "notificacion_calif_evidencia                object\n",
       "notificacion_invitacion_calif_evidencia     object\n",
       "notificacion_material_tgp                   object\n",
       "notificacion_informe_mensual                object\n",
       "cupon_en_uso                                object\n",
       "evidencias_consultadas                       int64\n",
       "evidencias_evaluadas                         int64\n",
       "cantidad_chats                               int64\n",
       "habilidades_completadas                      int64\n",
       "tripartita                                  object\n",
       "ultima_habilidad_en_desarrollo              object\n",
       "desafíos_acabados                           object\n",
       "habilidades_acabadas                        object\n",
       "habilidades_acabadas_con_insignia           object\n",
       "dtype: object"
      ]
     },
     "execution_count": 7,
     "metadata": {},
     "output_type": "execute_result"
    }
   ],
   "source": [
    "df_users_ori.dtypes"
   ]
  },
  {
   "cell_type": "code",
   "execution_count": 8,
   "id": "ea5c0e44",
   "metadata": {},
   "outputs": [],
   "source": [
    "# using dictionary to convert specific columns\n",
    "convert_dict = {\n",
    "                'id': 'int',\n",
    "                'usuario': 'string',\n",
    "                'usuario_pago': 'string',\n",
    "                'correo_confirmado': 'string',\n",
    "                'patrocinador': 'string',\n",
    "                'como_llego_lic': 'string',\n",
    "                'idioma': 'string',\n",
    "                'fecha_de_registro': 'string',\n",
    "                'fecha_ulltimo_acceso': 'string',\n",
    "                'actividad': 'int',\n",
    "                'reputacion': 'float64',\n",
    "                'nombre': 'string',\n",
    "                'apellidos': 'string',\n",
    "                'docencia': 'string',\n",
    "                'pais': 'string',\n",
    "                'ciudad': 'string',\n",
    "                'codigo_postal': 'string',\n",
    "                'telefono': 'string',\n",
    "                'desafio_en_curso': 'string',\n",
    "                'institucion_principal': 'string',\n",
    "                'institucion_secundaria': 'string',\n",
    "                'notificacion_nuevo_contacto': 'string',\n",
    "                'notificacion_nuevo_mensaje': 'string',\n",
    "                'notificacion_desafio_contacto': 'string',\n",
    "                'notificacion_calif_evidencia': 'string',\n",
    "                'notificacion_invitacion_calif_evidencia': 'string',\n",
    "                'notificacion_material_tgp': 'string',\n",
    "                'notificacion_informe_mensual': 'string',\n",
    "                'cupon_en_uso': 'string',\n",
    "                'evidencias_consultadas': 'int',\n",
    "                'evidencias_evaluadas': 'int',\n",
    "                'cantidad_chats': 'int',\n",
    "                'habilidades_completadas': 'int',\n",
    "                'tripartita': 'string',\n",
    "                'ultima_habilidad_en_desarrollo': 'string',\n",
    "                'desafíos_acabados': 'string',\n",
    "                'habilidades_acabadas': 'string',\n",
    "                'habilidades_acabadas_con_insignia': 'string'\n",
    "               }"
   ]
  },
  {
   "cell_type": "code",
   "execution_count": 9,
   "id": "f6482ff1",
   "metadata": {},
   "outputs": [],
   "source": [
    "#Initial transformation\n",
    "df_users_conv = df_users_ori.astype(convert_dict)"
   ]
  },
  {
   "cell_type": "code",
   "execution_count": 10,
   "id": "b747a4fe",
   "metadata": {},
   "outputs": [],
   "source": [
    "#Date format\n",
    "df_users_conv[\"fecha_de_registro\"] = pd.to_datetime(df_users_conv[\"fecha_de_registro\"],format='%Y%m%d %H:%M:%S')\n",
    "df_users_conv[\"fecha_ulltimo_acceso\"] = pd.to_datetime(df_users_conv[\"fecha_ulltimo_acceso\"],format='%Y%m%d %H:%M:%S')"
   ]
  },
  {
   "cell_type": "code",
   "execution_count": 11,
   "id": "4875de41",
   "metadata": {},
   "outputs": [
    {
     "data": {
      "text/plain": [
       "id                                                  int64\n",
       "usuario                                            string\n",
       "usuario_pago                                       string\n",
       "correo_confirmado                                  string\n",
       "patrocinador                                       string\n",
       "como_llego_lic                                     string\n",
       "idioma                                             string\n",
       "fecha_de_registro                          datetime64[ns]\n",
       "fecha_ulltimo_acceso                       datetime64[ns]\n",
       "actividad                                           int64\n",
       "reputacion                                        float64\n",
       "nombre                                             string\n",
       "apellidos                                          string\n",
       "docencia                                           string\n",
       "pais                                               string\n",
       "ciudad                                             string\n",
       "codigo_postal                                      string\n",
       "telefono                                           string\n",
       "desafio_en_curso                                   string\n",
       "institucion_principal                              string\n",
       "institucion_secundaria                             string\n",
       "notificacion_nuevo_contacto                        string\n",
       "notificacion_nuevo_mensaje                         string\n",
       "notificacion_desafio_contacto                      string\n",
       "notificacion_calif_evidencia                       string\n",
       "notificacion_invitacion_calif_evidencia            string\n",
       "notificacion_material_tgp                          string\n",
       "notificacion_informe_mensual                       string\n",
       "cupon_en_uso                                       string\n",
       "evidencias_consultadas                              int64\n",
       "evidencias_evaluadas                                int64\n",
       "cantidad_chats                                      int64\n",
       "habilidades_completadas                             int64\n",
       "tripartita                                         string\n",
       "ultima_habilidad_en_desarrollo                     string\n",
       "desafíos_acabados                                  string\n",
       "habilidades_acabadas                               string\n",
       "habilidades_acabadas_con_insignia                  string\n",
       "dtype: object"
      ]
     },
     "execution_count": 11,
     "metadata": {},
     "output_type": "execute_result"
    }
   ],
   "source": [
    "df_users_conv.dtypes"
   ]
  },
  {
   "cell_type": "code",
   "execution_count": 12,
   "id": "9f8bbbfe",
   "metadata": {
    "scrolled": true
   },
   "outputs": [
    {
     "data": {
      "text/html": [
       "<div>\n",
       "<style scoped>\n",
       "    .dataframe tbody tr th:only-of-type {\n",
       "        vertical-align: middle;\n",
       "    }\n",
       "\n",
       "    .dataframe tbody tr th {\n",
       "        vertical-align: top;\n",
       "    }\n",
       "\n",
       "    .dataframe thead th {\n",
       "        text-align: right;\n",
       "    }\n",
       "</style>\n",
       "<table border=\"1\" class=\"dataframe\">\n",
       "  <thead>\n",
       "    <tr style=\"text-align: right;\">\n",
       "      <th></th>\n",
       "      <th>Total</th>\n",
       "      <th>PercNotNull</th>\n",
       "    </tr>\n",
       "  </thead>\n",
       "  <tbody>\n",
       "    <tr>\n",
       "      <th>cupon_en_uso</th>\n",
       "      <td>9587</td>\n",
       "      <td>3.46</td>\n",
       "    </tr>\n",
       "    <tr>\n",
       "      <th>institucion_secundaria</th>\n",
       "      <td>9362</td>\n",
       "      <td>5.73</td>\n",
       "    </tr>\n",
       "    <tr>\n",
       "      <th>telefono</th>\n",
       "      <td>8663</td>\n",
       "      <td>12.77</td>\n",
       "    </tr>\n",
       "    <tr>\n",
       "      <th>institucion_principal</th>\n",
       "      <td>7892</td>\n",
       "      <td>20.53</td>\n",
       "    </tr>\n",
       "    <tr>\n",
       "      <th>habilidades_acabadas_con_insignia</th>\n",
       "      <td>7796</td>\n",
       "      <td>21.50</td>\n",
       "    </tr>\n",
       "    <tr>\n",
       "      <th>desafíos_acabados</th>\n",
       "      <td>7264</td>\n",
       "      <td>26.86</td>\n",
       "    </tr>\n",
       "    <tr>\n",
       "      <th>habilidades_acabadas</th>\n",
       "      <td>6634</td>\n",
       "      <td>33.20</td>\n",
       "    </tr>\n",
       "    <tr>\n",
       "      <th>ultima_habilidad_en_desarrollo</th>\n",
       "      <td>4432</td>\n",
       "      <td>55.37</td>\n",
       "    </tr>\n",
       "    <tr>\n",
       "      <th>como_llego_lic</th>\n",
       "      <td>4176</td>\n",
       "      <td>57.95</td>\n",
       "    </tr>\n",
       "    <tr>\n",
       "      <th>patrocinador</th>\n",
       "      <td>4176</td>\n",
       "      <td>57.95</td>\n",
       "    </tr>\n",
       "    <tr>\n",
       "      <th>desafio_en_curso</th>\n",
       "      <td>3643</td>\n",
       "      <td>63.32</td>\n",
       "    </tr>\n",
       "    <tr>\n",
       "      <th>codigo_postal</th>\n",
       "      <td>2969</td>\n",
       "      <td>70.10</td>\n",
       "    </tr>\n",
       "    <tr>\n",
       "      <th>fecha_ulltimo_acceso</th>\n",
       "      <td>1777</td>\n",
       "      <td>82.11</td>\n",
       "    </tr>\n",
       "    <tr>\n",
       "      <th>ciudad</th>\n",
       "      <td>117</td>\n",
       "      <td>98.82</td>\n",
       "    </tr>\n",
       "    <tr>\n",
       "      <th>docencia</th>\n",
       "      <td>26</td>\n",
       "      <td>99.74</td>\n",
       "    </tr>\n",
       "    <tr>\n",
       "      <th>apellidos</th>\n",
       "      <td>3</td>\n",
       "      <td>99.97</td>\n",
       "    </tr>\n",
       "    <tr>\n",
       "      <th>habilidades_completadas</th>\n",
       "      <td>0</td>\n",
       "      <td>100.00</td>\n",
       "    </tr>\n",
       "    <tr>\n",
       "      <th>notificacion_invitacion_calif_evidencia</th>\n",
       "      <td>0</td>\n",
       "      <td>100.00</td>\n",
       "    </tr>\n",
       "    <tr>\n",
       "      <th>tripartita</th>\n",
       "      <td>0</td>\n",
       "      <td>100.00</td>\n",
       "    </tr>\n",
       "    <tr>\n",
       "      <th>cantidad_chats</th>\n",
       "      <td>0</td>\n",
       "      <td>100.00</td>\n",
       "    </tr>\n",
       "    <tr>\n",
       "      <th>evidencias_evaluadas</th>\n",
       "      <td>0</td>\n",
       "      <td>100.00</td>\n",
       "    </tr>\n",
       "    <tr>\n",
       "      <th>evidencias_consultadas</th>\n",
       "      <td>0</td>\n",
       "      <td>100.00</td>\n",
       "    </tr>\n",
       "    <tr>\n",
       "      <th>usuario_pago</th>\n",
       "      <td>0</td>\n",
       "      <td>100.00</td>\n",
       "    </tr>\n",
       "    <tr>\n",
       "      <th>notificacion_informe_mensual</th>\n",
       "      <td>0</td>\n",
       "      <td>100.00</td>\n",
       "    </tr>\n",
       "    <tr>\n",
       "      <th>notificacion_material_tgp</th>\n",
       "      <td>0</td>\n",
       "      <td>100.00</td>\n",
       "    </tr>\n",
       "    <tr>\n",
       "      <th>notificacion_nuevo_contacto</th>\n",
       "      <td>0</td>\n",
       "      <td>100.00</td>\n",
       "    </tr>\n",
       "    <tr>\n",
       "      <th>notificacion_calif_evidencia</th>\n",
       "      <td>0</td>\n",
       "      <td>100.00</td>\n",
       "    </tr>\n",
       "    <tr>\n",
       "      <th>notificacion_desafio_contacto</th>\n",
       "      <td>0</td>\n",
       "      <td>100.00</td>\n",
       "    </tr>\n",
       "    <tr>\n",
       "      <th>notificacion_nuevo_mensaje</th>\n",
       "      <td>0</td>\n",
       "      <td>100.00</td>\n",
       "    </tr>\n",
       "    <tr>\n",
       "      <th>idioma</th>\n",
       "      <td>0</td>\n",
       "      <td>100.00</td>\n",
       "    </tr>\n",
       "    <tr>\n",
       "      <th>correo_confirmado</th>\n",
       "      <td>0</td>\n",
       "      <td>100.00</td>\n",
       "    </tr>\n",
       "    <tr>\n",
       "      <th>usuario</th>\n",
       "      <td>0</td>\n",
       "      <td>100.00</td>\n",
       "    </tr>\n",
       "    <tr>\n",
       "      <th>pais</th>\n",
       "      <td>0</td>\n",
       "      <td>100.00</td>\n",
       "    </tr>\n",
       "    <tr>\n",
       "      <th>nombre</th>\n",
       "      <td>0</td>\n",
       "      <td>100.00</td>\n",
       "    </tr>\n",
       "    <tr>\n",
       "      <th>reputacion</th>\n",
       "      <td>0</td>\n",
       "      <td>100.00</td>\n",
       "    </tr>\n",
       "    <tr>\n",
       "      <th>actividad</th>\n",
       "      <td>0</td>\n",
       "      <td>100.00</td>\n",
       "    </tr>\n",
       "    <tr>\n",
       "      <th>fecha_de_registro</th>\n",
       "      <td>0</td>\n",
       "      <td>100.00</td>\n",
       "    </tr>\n",
       "    <tr>\n",
       "      <th>id</th>\n",
       "      <td>0</td>\n",
       "      <td>100.00</td>\n",
       "    </tr>\n",
       "  </tbody>\n",
       "</table>\n",
       "</div>"
      ],
      "text/plain": [
       "                                         Total  PercNotNull\n",
       "cupon_en_uso                              9587         3.46\n",
       "institucion_secundaria                    9362         5.73\n",
       "telefono                                  8663        12.77\n",
       "institucion_principal                     7892        20.53\n",
       "habilidades_acabadas_con_insignia         7796        21.50\n",
       "desafíos_acabados                         7264        26.86\n",
       "habilidades_acabadas                      6634        33.20\n",
       "ultima_habilidad_en_desarrollo            4432        55.37\n",
       "como_llego_lic                            4176        57.95\n",
       "patrocinador                              4176        57.95\n",
       "desafio_en_curso                          3643        63.32\n",
       "codigo_postal                             2969        70.10\n",
       "fecha_ulltimo_acceso                      1777        82.11\n",
       "ciudad                                     117        98.82\n",
       "docencia                                    26        99.74\n",
       "apellidos                                    3        99.97\n",
       "habilidades_completadas                      0       100.00\n",
       "notificacion_invitacion_calif_evidencia      0       100.00\n",
       "tripartita                                   0       100.00\n",
       "cantidad_chats                               0       100.00\n",
       "evidencias_evaluadas                         0       100.00\n",
       "evidencias_consultadas                       0       100.00\n",
       "usuario_pago                                 0       100.00\n",
       "notificacion_informe_mensual                 0       100.00\n",
       "notificacion_material_tgp                    0       100.00\n",
       "notificacion_nuevo_contacto                  0       100.00\n",
       "notificacion_calif_evidencia                 0       100.00\n",
       "notificacion_desafio_contacto                0       100.00\n",
       "notificacion_nuevo_mensaje                   0       100.00\n",
       "idioma                                       0       100.00\n",
       "correo_confirmado                            0       100.00\n",
       "usuario                                      0       100.00\n",
       "pais                                         0       100.00\n",
       "nombre                                       0       100.00\n",
       "reputacion                                   0       100.00\n",
       "actividad                                    0       100.00\n",
       "fecha_de_registro                            0       100.00\n",
       "id                                           0       100.00"
      ]
     },
     "execution_count": 12,
     "metadata": {},
     "output_type": "execute_result"
    }
   ],
   "source": [
    "ingestHelper = IngestHelper(version = 1)\n",
    "df_users_conv_nulls = ingestHelper.get_nulls_data(df = df_users_conv)\n",
    "df_users_conv_nulls"
   ]
  },
  {
   "cell_type": "code",
   "execution_count": 13,
   "id": "a4d603a4",
   "metadata": {},
   "outputs": [
    {
     "data": {
      "text/plain": [
       "Index(['id', 'actividad', 'reputacion', 'evidencias_consultadas',\n",
       "       'evidencias_evaluadas', 'cantidad_chats', 'habilidades_completadas'],\n",
       "      dtype='object')"
      ]
     },
     "execution_count": 13,
     "metadata": {},
     "output_type": "execute_result"
    }
   ],
   "source": [
    "df_users_conv_num = df_users_conv._get_numeric_data()\n",
    "df_users_conv_num.columns"
   ]
  },
  {
   "cell_type": "code",
   "execution_count": 14,
   "id": "00064072",
   "metadata": {},
   "outputs": [],
   "source": [
    "df_users_conv_num = df_users_conv_num.drop(['id'], axis=1)"
   ]
  },
  {
   "cell_type": "code",
   "execution_count": 15,
   "id": "377f3132",
   "metadata": {},
   "outputs": [
    {
     "data": {
      "text/html": [
       "<div>\n",
       "<style scoped>\n",
       "    .dataframe tbody tr th:only-of-type {\n",
       "        vertical-align: middle;\n",
       "    }\n",
       "\n",
       "    .dataframe tbody tr th {\n",
       "        vertical-align: top;\n",
       "    }\n",
       "\n",
       "    .dataframe thead th {\n",
       "        text-align: right;\n",
       "    }\n",
       "</style>\n",
       "<table border=\"1\" class=\"dataframe\">\n",
       "  <thead>\n",
       "    <tr style=\"text-align: right;\">\n",
       "      <th></th>\n",
       "      <th>actividad</th>\n",
       "      <th>reputacion</th>\n",
       "      <th>evidencias_consultadas</th>\n",
       "      <th>evidencias_evaluadas</th>\n",
       "      <th>cantidad_chats</th>\n",
       "      <th>habilidades_completadas</th>\n",
       "    </tr>\n",
       "  </thead>\n",
       "  <tbody>\n",
       "    <tr>\n",
       "      <th>count</th>\n",
       "      <td>9931.000000</td>\n",
       "      <td>9931.000000</td>\n",
       "      <td>9931.000000</td>\n",
       "      <td>9931.000000</td>\n",
       "      <td>9931.000000</td>\n",
       "      <td>9931.000000</td>\n",
       "    </tr>\n",
       "    <tr>\n",
       "      <th>mean</th>\n",
       "      <td>12.783204</td>\n",
       "      <td>1.558181</td>\n",
       "      <td>13.561273</td>\n",
       "      <td>8.348001</td>\n",
       "      <td>0.839895</td>\n",
       "      <td>1.152150</td>\n",
       "    </tr>\n",
       "    <tr>\n",
       "      <th>std</th>\n",
       "      <td>31.302208</td>\n",
       "      <td>2.181791</td>\n",
       "      <td>36.143564</td>\n",
       "      <td>27.193483</td>\n",
       "      <td>2.240779</td>\n",
       "      <td>2.138486</td>\n",
       "    </tr>\n",
       "    <tr>\n",
       "      <th>min</th>\n",
       "      <td>5.000000</td>\n",
       "      <td>0.000000</td>\n",
       "      <td>0.000000</td>\n",
       "      <td>0.000000</td>\n",
       "      <td>0.000000</td>\n",
       "      <td>0.000000</td>\n",
       "    </tr>\n",
       "    <tr>\n",
       "      <th>25%</th>\n",
       "      <td>5.000000</td>\n",
       "      <td>0.000000</td>\n",
       "      <td>0.000000</td>\n",
       "      <td>0.000000</td>\n",
       "      <td>0.000000</td>\n",
       "      <td>0.000000</td>\n",
       "    </tr>\n",
       "    <tr>\n",
       "      <th>50%</th>\n",
       "      <td>5.000000</td>\n",
       "      <td>0.000000</td>\n",
       "      <td>0.000000</td>\n",
       "      <td>0.000000</td>\n",
       "      <td>0.000000</td>\n",
       "      <td>0.000000</td>\n",
       "    </tr>\n",
       "    <tr>\n",
       "      <th>75%</th>\n",
       "      <td>5.000000</td>\n",
       "      <td>4.400000</td>\n",
       "      <td>13.000000</td>\n",
       "      <td>6.000000</td>\n",
       "      <td>1.000000</td>\n",
       "      <td>2.000000</td>\n",
       "    </tr>\n",
       "    <tr>\n",
       "      <th>max</th>\n",
       "      <td>310.000000</td>\n",
       "      <td>5.000000</td>\n",
       "      <td>602.000000</td>\n",
       "      <td>539.000000</td>\n",
       "      <td>48.000000</td>\n",
       "      <td>29.000000</td>\n",
       "    </tr>\n",
       "  </tbody>\n",
       "</table>\n",
       "</div>"
      ],
      "text/plain": [
       "         actividad   reputacion  evidencias_consultadas  evidencias_evaluadas  \\\n",
       "count  9931.000000  9931.000000             9931.000000           9931.000000   \n",
       "mean     12.783204     1.558181               13.561273              8.348001   \n",
       "std      31.302208     2.181791               36.143564             27.193483   \n",
       "min       5.000000     0.000000                0.000000              0.000000   \n",
       "25%       5.000000     0.000000                0.000000              0.000000   \n",
       "50%       5.000000     0.000000                0.000000              0.000000   \n",
       "75%       5.000000     4.400000               13.000000              6.000000   \n",
       "max     310.000000     5.000000              602.000000            539.000000   \n",
       "\n",
       "       cantidad_chats  habilidades_completadas  \n",
       "count     9931.000000              9931.000000  \n",
       "mean         0.839895                 1.152150  \n",
       "std          2.240779                 2.138486  \n",
       "min          0.000000                 0.000000  \n",
       "25%          0.000000                 0.000000  \n",
       "50%          0.000000                 0.000000  \n",
       "75%          1.000000                 2.000000  \n",
       "max         48.000000                29.000000  "
      ]
     },
     "execution_count": 15,
     "metadata": {},
     "output_type": "execute_result"
    }
   ],
   "source": [
    "df_users_conv_num.describe()"
   ]
  },
  {
   "cell_type": "code",
   "execution_count": 16,
   "id": "97f7d6a1",
   "metadata": {},
   "outputs": [],
   "source": [
    "%run Users_Helper.ipynb\n",
    "%run Users_Plot.ipynb"
   ]
  },
  {
   "cell_type": "code",
   "execution_count": 17,
   "id": "2ea9b315",
   "metadata": {},
   "outputs": [
    {
     "name": "stdout",
     "output_type": "stream",
     "text": [
      "Plotting helper version 1.0\n"
     ]
    }
   ],
   "source": [
    "plottingHelper = PlottingHelper(version = \"1.0\")\n",
    "print(plottingHelper)"
   ]
  },
  {
   "cell_type": "code",
   "execution_count": 18,
   "id": "ff9d4c38",
   "metadata": {},
   "outputs": [
    {
     "data": {
      "application/vnd.jupyter.widget-view+json": {
       "model_id": "0a2c88ee060d445aacdddcd3ddedeca5",
       "version_major": 2,
       "version_minor": 0
      },
      "text/plain": [
       "Tab(children=(Output(), Output()), _titles={'0': 'Categorical', '1': 'Numerical'})"
      ]
     },
     "metadata": {},
     "output_type": "display_data"
    }
   ],
   "source": [
    "out1 = ipywidgets.Output()\n",
    "out2 = ipywidgets.Output()\n",
    "\n",
    "tab = ipywidgets.Tab(children = [out1, out2])\n",
    "tab.set_title(0, 'Categorical')\n",
    "tab.set_title(1, 'Numerical')\n",
    "display(tab)\n",
    "with out1:\n",
    "    plottingHelper.df_cat = df_users_conv\n",
    "    ipywidgets.interact(plottingHelper.func_count_cat_plotty, \\\n",
    "                    x_var_size=ipywidgets.IntSlider(layout={'border': '1px solid black'}, min=1, max=100, value=10, step=1, description=\"Num.Records\"), \\\n",
    "                    x_var = ipywidgets.Dropdown(layout={'border': '1px solid black'}, options=[\"usuario_pago\", \"correo_confirmado\",\"patrocinador\",\"como_llego_lic\", \"idioma\", \"docencia\", \"pais\", \\\n",
    "                                                         \"ciudad\", \"codigo_postal\", \"desafio_en_curso\", \"institucion_principal\", \"institucion_secundaria\", \\\n",
    "                                                         \"notificacion_nuevo_contacto\", \"notificacion_nuevo_mensaje\", \"notificacion_desafio_contacto\",\n",
    "                                                         \"notificacion_calif_evidencia\", \"notificacion_invitacion_calif_evidencia\", \"notificacion_material_tgp\", \\\n",
    "                                                         \"notificacion_informe_mensual\", \"cupon_en_uso\", \"ultima_habilidad_en_desarrollo\"], description=\"Feature\"), \\\n",
    "                    x_var_asc = ipywidgets.Checkbox(layout={'border': '1px solid black'}, value=False, description=\"Asc. Order\"), \\\n",
    "                    ax_title = ipywidgets.Textarea(layout={'border': '1px solid black'}, value=\"Users by Feature\", description=\"Title\") \\\n",
    "                   );\n",
    "with out2:\n",
    "    plottingHelper.df_num = df_users_conv_num\n",
    "    ipywidgets.interact(plottingHelper.func_box_numerical_plotty, \\\n",
    "                        chart_type_ = ipywidgets.Dropdown(layout={'border': '1px solid black'}, options=[\"BoxPlot\", \"Histogram\"], description=\"Chart Type\"), \\\n",
    "                        var_ = ipywidgets.Dropdown(layout={'border': '1px solid black'}, options=[\"actividad\", \"reputacion\",\"evidencias_consultadas\",\"evidencias_evaluadas\", \"cantidad_chats\", \"habilidades_completadas\"], description=\"Feature\"), \\\n",
    "                        title_ = ipywidgets.Textarea(layout={'border': '1px solid black'}, value=\"Box Plot Styling Outliers\", description=\"Title\"), \\\n",
    "                        name_ = ipywidgets.Textarea(layout={'border': '1px solid black'}, value=\"Whiskers and Outliers\", description=\"Name\") \\\n",
    "                        );"
   ]
  },
  {
   "cell_type": "code",
   "execution_count": 19,
   "id": "a37fa32d",
   "metadata": {},
   "outputs": [
    {
     "data": {
      "text/html": [
       "<div>\n",
       "<style scoped>\n",
       "    .dataframe tbody tr th:only-of-type {\n",
       "        vertical-align: middle;\n",
       "    }\n",
       "\n",
       "    .dataframe tbody tr th {\n",
       "        vertical-align: top;\n",
       "    }\n",
       "\n",
       "    .dataframe thead th {\n",
       "        text-align: right;\n",
       "    }\n",
       "</style>\n",
       "<table border=\"1\" class=\"dataframe\">\n",
       "  <thead>\n",
       "    <tr style=\"text-align: right;\">\n",
       "      <th></th>\n",
       "      <th>fecha_de_registro</th>\n",
       "      <th>fecha_ulltimo_acceso</th>\n",
       "      <th>pais</th>\n",
       "      <th>fecha_de_registro_dt</th>\n",
       "      <th>fecha_ulltimo_acceso_dt</th>\n",
       "      <th>registration_year</th>\n",
       "      <th>registration_month</th>\n",
       "      <th>registration_year_month</th>\n",
       "    </tr>\n",
       "  </thead>\n",
       "  <tbody>\n",
       "    <tr>\n",
       "      <th>0</th>\n",
       "      <td>2016-03-08 10:40:13</td>\n",
       "      <td>2021-01-11 10:58:17</td>\n",
       "      <td>ESP</td>\n",
       "      <td>2016-03-08</td>\n",
       "      <td>2016-03-08</td>\n",
       "      <td>2016</td>\n",
       "      <td>3</td>\n",
       "      <td>20163</td>\n",
       "    </tr>\n",
       "    <tr>\n",
       "      <th>1</th>\n",
       "      <td>2016-03-08 10:40:13</td>\n",
       "      <td>NaT</td>\n",
       "      <td>ESP</td>\n",
       "      <td>2016-03-08</td>\n",
       "      <td>2016-03-08</td>\n",
       "      <td>2016</td>\n",
       "      <td>3</td>\n",
       "      <td>20163</td>\n",
       "    </tr>\n",
       "    <tr>\n",
       "      <th>2</th>\n",
       "      <td>2016-03-08 10:40:13</td>\n",
       "      <td>2018-03-22 11:09:02</td>\n",
       "      <td>ESP</td>\n",
       "      <td>2016-03-08</td>\n",
       "      <td>2016-03-08</td>\n",
       "      <td>2016</td>\n",
       "      <td>3</td>\n",
       "      <td>20163</td>\n",
       "    </tr>\n",
       "  </tbody>\n",
       "</table>\n",
       "</div>"
      ],
      "text/plain": [
       "    fecha_de_registro fecha_ulltimo_acceso pais fecha_de_registro_dt  \\\n",
       "0 2016-03-08 10:40:13  2021-01-11 10:58:17  ESP           2016-03-08   \n",
       "1 2016-03-08 10:40:13                  NaT  ESP           2016-03-08   \n",
       "2 2016-03-08 10:40:13  2018-03-22 11:09:02  ESP           2016-03-08   \n",
       "\n",
       "  fecha_ulltimo_acceso_dt  registration_year  registration_month  \\\n",
       "0              2016-03-08               2016                   3   \n",
       "1              2016-03-08               2016                   3   \n",
       "2              2016-03-08               2016                   3   \n",
       "\n",
       "  registration_year_month  \n",
       "0                   20163  \n",
       "1                   20163  \n",
       "2                   20163  "
      ]
     },
     "execution_count": 19,
     "metadata": {},
     "output_type": "execute_result"
    }
   ],
   "source": [
    "df_tmp = df_users_conv[[\"fecha_de_registro\",\"fecha_ulltimo_acceso\",\"pais\"]].copy()\n",
    "df_tmp[\"fecha_de_registro_dt\"] = df_tmp[\"fecha_de_registro\"].dt.date\n",
    "df_tmp[\"fecha_ulltimo_acceso_dt\"] = df_tmp[\"fecha_de_registro\"].dt.date\n",
    "df_tmp[\"registration_year\"] = pd.DatetimeIndex(df_tmp['fecha_de_registro_dt']).year\n",
    "df_tmp[\"registration_month\"] = pd.DatetimeIndex(df_tmp['fecha_de_registro_dt']).month\n",
    "df_tmp[\"registration_year_month\"] = df_tmp[\"registration_year\"].astype(str) + df_tmp[\"registration_month\"].astype(str)\n",
    "df_tmp.head(3)"
   ]
  },
  {
   "cell_type": "code",
   "execution_count": 20,
   "id": "8f134b86",
   "metadata": {},
   "outputs": [],
   "source": [
    "#df_tmp_1 = df_tmp.groupby([\"fecha_de_registro_dt\", \"pais\"]).agg({\"fecha_de_registro_dt\": np.size}).reset_index(level=2)\n",
    "df_tmp_1 = df_tmp.groupby([\"registration_year_month\", \"pais\"]). \\\n",
    "            agg({\"registration_year_month\": np.size}). \\\n",
    "            rename(columns={\"registration_year_month\": \"count\"}). \\\n",
    "            reset_index()"
   ]
  },
  {
   "cell_type": "code",
   "execution_count": 21,
   "id": "2992bc37",
   "metadata": {},
   "outputs": [
    {
     "data": {
      "text/html": [
       "<div>\n",
       "<style scoped>\n",
       "    .dataframe tbody tr th:only-of-type {\n",
       "        vertical-align: middle;\n",
       "    }\n",
       "\n",
       "    .dataframe tbody tr th {\n",
       "        vertical-align: top;\n",
       "    }\n",
       "\n",
       "    .dataframe thead th {\n",
       "        text-align: right;\n",
       "    }\n",
       "</style>\n",
       "<table border=\"1\" class=\"dataframe\">\n",
       "  <thead>\n",
       "    <tr style=\"text-align: right;\">\n",
       "      <th></th>\n",
       "      <th>registration_year_month</th>\n",
       "      <th>pais</th>\n",
       "      <th>count</th>\n",
       "    </tr>\n",
       "  </thead>\n",
       "  <tbody>\n",
       "    <tr>\n",
       "      <th>0</th>\n",
       "      <td>201610</td>\n",
       "      <td>DOM</td>\n",
       "      <td>1</td>\n",
       "    </tr>\n",
       "    <tr>\n",
       "      <th>1</th>\n",
       "      <td>201610</td>\n",
       "      <td>ESP</td>\n",
       "      <td>66</td>\n",
       "    </tr>\n",
       "    <tr>\n",
       "      <th>2</th>\n",
       "      <td>201610</td>\n",
       "      <td>MEX</td>\n",
       "      <td>58</td>\n",
       "    </tr>\n",
       "    <tr>\n",
       "      <th>3</th>\n",
       "      <td>201610</td>\n",
       "      <td>PER</td>\n",
       "      <td>1</td>\n",
       "    </tr>\n",
       "    <tr>\n",
       "      <th>4</th>\n",
       "      <td>201610</td>\n",
       "      <td>PHL</td>\n",
       "      <td>1</td>\n",
       "    </tr>\n",
       "    <tr>\n",
       "      <th>...</th>\n",
       "      <td>...</td>\n",
       "      <td>...</td>\n",
       "      <td>...</td>\n",
       "    </tr>\n",
       "    <tr>\n",
       "      <th>655</th>\n",
       "      <td>20215</td>\n",
       "      <td>USA</td>\n",
       "      <td>3</td>\n",
       "    </tr>\n",
       "    <tr>\n",
       "      <th>656</th>\n",
       "      <td>20216</td>\n",
       "      <td>BRA</td>\n",
       "      <td>1</td>\n",
       "    </tr>\n",
       "    <tr>\n",
       "      <th>657</th>\n",
       "      <td>20216</td>\n",
       "      <td>MEX</td>\n",
       "      <td>16</td>\n",
       "    </tr>\n",
       "    <tr>\n",
       "      <th>658</th>\n",
       "      <td>20216</td>\n",
       "      <td>USA</td>\n",
       "      <td>2</td>\n",
       "    </tr>\n",
       "    <tr>\n",
       "      <th>659</th>\n",
       "      <td>20216</td>\n",
       "      <td>VNM</td>\n",
       "      <td>1</td>\n",
       "    </tr>\n",
       "  </tbody>\n",
       "</table>\n",
       "<p>660 rows × 3 columns</p>\n",
       "</div>"
      ],
      "text/plain": [
       "    registration_year_month pais  count\n",
       "0                    201610  DOM      1\n",
       "1                    201610  ESP     66\n",
       "2                    201610  MEX     58\n",
       "3                    201610  PER      1\n",
       "4                    201610  PHL      1\n",
       "..                      ...  ...    ...\n",
       "655                   20215  USA      3\n",
       "656                   20216  BRA      1\n",
       "657                   20216  MEX     16\n",
       "658                   20216  USA      2\n",
       "659                   20216  VNM      1\n",
       "\n",
       "[660 rows x 3 columns]"
      ]
     },
     "execution_count": 21,
     "metadata": {},
     "output_type": "execute_result"
    }
   ],
   "source": [
    "df_tmp_1"
   ]
  },
  {
   "cell_type": "code",
   "execution_count": 22,
   "id": "1a41726f",
   "metadata": {},
   "outputs": [],
   "source": [
    "convert_dict = {\n",
    "                'registration_year_month': 'string',\n",
    "                'pais': 'string',\n",
    "                'count': 'int',\n",
    "               }"
   ]
  },
  {
   "cell_type": "code",
   "execution_count": 23,
   "id": "957f272f",
   "metadata": {},
   "outputs": [],
   "source": [
    "df_tmp_1 = df_tmp_1.astype(convert_dict)"
   ]
  },
  {
   "cell_type": "code",
   "execution_count": 24,
   "id": "6e0638ec",
   "metadata": {},
   "outputs": [
    {
     "data": {
      "text/plain": [
       "registration_year_month    string\n",
       "pais                       string\n",
       "count                       int64\n",
       "dtype: object"
      ]
     },
     "execution_count": 24,
     "metadata": {},
     "output_type": "execute_result"
    }
   ],
   "source": [
    "#df_tmp_1.index\n",
    "#df_tmp_1.columns\n",
    "df_tmp_1.dtypes"
   ]
  },
  {
   "cell_type": "code",
   "execution_count": 25,
   "id": "d654f85c",
   "metadata": {},
   "outputs": [
    {
     "data": {
      "text/html": [
       "<div>\n",
       "<style scoped>\n",
       "    .dataframe tbody tr th:only-of-type {\n",
       "        vertical-align: middle;\n",
       "    }\n",
       "\n",
       "    .dataframe tbody tr th {\n",
       "        vertical-align: top;\n",
       "    }\n",
       "\n",
       "    .dataframe thead th {\n",
       "        text-align: right;\n",
       "    }\n",
       "</style>\n",
       "<table border=\"1\" class=\"dataframe\">\n",
       "  <thead>\n",
       "    <tr style=\"text-align: right;\">\n",
       "      <th></th>\n",
       "      <th>registration_year_month</th>\n",
       "      <th>pais</th>\n",
       "      <th>count</th>\n",
       "    </tr>\n",
       "  </thead>\n",
       "  <tbody>\n",
       "    <tr>\n",
       "      <th>0</th>\n",
       "      <td>201610</td>\n",
       "      <td>DOM</td>\n",
       "      <td>1</td>\n",
       "    </tr>\n",
       "    <tr>\n",
       "      <th>1</th>\n",
       "      <td>201610</td>\n",
       "      <td>ESP</td>\n",
       "      <td>66</td>\n",
       "    </tr>\n",
       "    <tr>\n",
       "      <th>2</th>\n",
       "      <td>201610</td>\n",
       "      <td>MEX</td>\n",
       "      <td>58</td>\n",
       "    </tr>\n",
       "  </tbody>\n",
       "</table>\n",
       "</div>"
      ],
      "text/plain": [
       "  registration_year_month pais  count\n",
       "0                  201610  DOM      1\n",
       "1                  201610  ESP     66\n",
       "2                  201610  MEX     58"
      ]
     },
     "execution_count": 25,
     "metadata": {},
     "output_type": "execute_result"
    }
   ],
   "source": [
    "df_tmp_1.head(3)"
   ]
  },
  {
   "cell_type": "code",
   "execution_count": 26,
   "id": "55f8b8fd",
   "metadata": {},
   "outputs": [
    {
     "data": {
      "text/plain": [
       "1980"
      ]
     },
     "execution_count": 26,
     "metadata": {},
     "output_type": "execute_result"
    }
   ],
   "source": [
    "df_tmp_1.size"
   ]
  },
  {
   "cell_type": "code",
   "execution_count": 27,
   "id": "de8b6a40",
   "metadata": {},
   "outputs": [
    {
     "data": {
      "application/vnd.plotly.v1+json": {
       "config": {
        "plotlyServerURL": "https://plot.ly"
       },
       "data": [
        {
         "alignmentgroup": "True",
         "hovertemplate": "pais=%{x}<br>registration_year_month=201610<br>count=%{y}<extra></extra>",
         "ids": [
          "DOM"
         ],
         "legendgroup": "DOM",
         "marker": {
          "color": "#636efa",
          "pattern": {
           "shape": ""
          }
         },
         "name": "DOM",
         "offsetgroup": "DOM",
         "orientation": "v",
         "showlegend": true,
         "textposition": "auto",
         "type": "bar",
         "x": [
          "DOM"
         ],
         "xaxis": "x",
         "y": [
          1
         ],
         "yaxis": "y"
        },
        {
         "alignmentgroup": "True",
         "hovertemplate": "pais=%{x}<br>registration_year_month=201610<br>count=%{y}<extra></extra>",
         "ids": [
          "ESP"
         ],
         "legendgroup": "ESP",
         "marker": {
          "color": "#EF553B",
          "pattern": {
           "shape": ""
          }
         },
         "name": "ESP",
         "offsetgroup": "ESP",
         "orientation": "v",
         "showlegend": true,
         "textposition": "auto",
         "type": "bar",
         "x": [
          "ESP"
         ],
         "xaxis": "x",
         "y": [
          66
         ],
         "yaxis": "y"
        },
        {
         "alignmentgroup": "True",
         "hovertemplate": "pais=%{x}<br>registration_year_month=201610<br>count=%{y}<extra></extra>",
         "ids": [
          "MEX"
         ],
         "legendgroup": "MEX",
         "marker": {
          "color": "#00cc96",
          "pattern": {
           "shape": ""
          }
         },
         "name": "MEX",
         "offsetgroup": "MEX",
         "orientation": "v",
         "showlegend": true,
         "textposition": "auto",
         "type": "bar",
         "x": [
          "MEX"
         ],
         "xaxis": "x",
         "y": [
          58
         ],
         "yaxis": "y"
        },
        {
         "alignmentgroup": "True",
         "hovertemplate": "pais=%{x}<br>registration_year_month=201610<br>count=%{y}<extra></extra>",
         "ids": [
          "PER"
         ],
         "legendgroup": "PER",
         "marker": {
          "color": "#ab63fa",
          "pattern": {
           "shape": ""
          }
         },
         "name": "PER",
         "offsetgroup": "PER",
         "orientation": "v",
         "showlegend": true,
         "textposition": "auto",
         "type": "bar",
         "x": [
          "PER"
         ],
         "xaxis": "x",
         "y": [
          1
         ],
         "yaxis": "y"
        },
        {
         "alignmentgroup": "True",
         "hovertemplate": "pais=%{x}<br>registration_year_month=201610<br>count=%{y}<extra></extra>",
         "ids": [
          "PHL"
         ],
         "legendgroup": "PHL",
         "marker": {
          "color": "#FFA15A",
          "pattern": {
           "shape": ""
          }
         },
         "name": "PHL",
         "offsetgroup": "PHL",
         "orientation": "v",
         "showlegend": true,
         "textposition": "auto",
         "type": "bar",
         "x": [
          "PHL"
         ],
         "xaxis": "x",
         "y": [
          1
         ],
         "yaxis": "y"
        },
        {
         "alignmentgroup": "True",
         "hovertemplate": "pais=%{x}<br>registration_year_month=201610<br>count=%{y}<extra></extra>",
         "ids": [
          "PRI"
         ],
         "legendgroup": "PRI",
         "marker": {
          "color": "#19d3f3",
          "pattern": {
           "shape": ""
          }
         },
         "name": "PRI",
         "offsetgroup": "PRI",
         "orientation": "v",
         "showlegend": true,
         "textposition": "auto",
         "type": "bar",
         "x": [
          "PRI"
         ],
         "xaxis": "x",
         "y": [
          1
         ],
         "yaxis": "y"
        }
       ],
       "frames": [
        {
         "data": [
          {
           "alignmentgroup": "True",
           "hovertemplate": "pais=%{x}<br>registration_year_month=201610<br>count=%{y}<extra></extra>",
           "ids": [
            "DOM"
           ],
           "legendgroup": "DOM",
           "marker": {
            "color": "#636efa",
            "pattern": {
             "shape": ""
            }
           },
           "name": "DOM",
           "offsetgroup": "DOM",
           "orientation": "v",
           "showlegend": true,
           "textposition": "auto",
           "type": "bar",
           "x": [
            "DOM"
           ],
           "xaxis": "x",
           "y": [
            1
           ],
           "yaxis": "y"
          },
          {
           "alignmentgroup": "True",
           "hovertemplate": "pais=%{x}<br>registration_year_month=201610<br>count=%{y}<extra></extra>",
           "ids": [
            "ESP"
           ],
           "legendgroup": "ESP",
           "marker": {
            "color": "#EF553B",
            "pattern": {
             "shape": ""
            }
           },
           "name": "ESP",
           "offsetgroup": "ESP",
           "orientation": "v",
           "showlegend": true,
           "textposition": "auto",
           "type": "bar",
           "x": [
            "ESP"
           ],
           "xaxis": "x",
           "y": [
            66
           ],
           "yaxis": "y"
          },
          {
           "alignmentgroup": "True",
           "hovertemplate": "pais=%{x}<br>registration_year_month=201610<br>count=%{y}<extra></extra>",
           "ids": [
            "MEX"
           ],
           "legendgroup": "MEX",
           "marker": {
            "color": "#00cc96",
            "pattern": {
             "shape": ""
            }
           },
           "name": "MEX",
           "offsetgroup": "MEX",
           "orientation": "v",
           "showlegend": true,
           "textposition": "auto",
           "type": "bar",
           "x": [
            "MEX"
           ],
           "xaxis": "x",
           "y": [
            58
           ],
           "yaxis": "y"
          },
          {
           "alignmentgroup": "True",
           "hovertemplate": "pais=%{x}<br>registration_year_month=201610<br>count=%{y}<extra></extra>",
           "ids": [
            "PER"
           ],
           "legendgroup": "PER",
           "marker": {
            "color": "#ab63fa",
            "pattern": {
             "shape": ""
            }
           },
           "name": "PER",
           "offsetgroup": "PER",
           "orientation": "v",
           "showlegend": true,
           "textposition": "auto",
           "type": "bar",
           "x": [
            "PER"
           ],
           "xaxis": "x",
           "y": [
            1
           ],
           "yaxis": "y"
          },
          {
           "alignmentgroup": "True",
           "hovertemplate": "pais=%{x}<br>registration_year_month=201610<br>count=%{y}<extra></extra>",
           "ids": [
            "PHL"
           ],
           "legendgroup": "PHL",
           "marker": {
            "color": "#FFA15A",
            "pattern": {
             "shape": ""
            }
           },
           "name": "PHL",
           "offsetgroup": "PHL",
           "orientation": "v",
           "showlegend": true,
           "textposition": "auto",
           "type": "bar",
           "x": [
            "PHL"
           ],
           "xaxis": "x",
           "y": [
            1
           ],
           "yaxis": "y"
          },
          {
           "alignmentgroup": "True",
           "hovertemplate": "pais=%{x}<br>registration_year_month=201610<br>count=%{y}<extra></extra>",
           "ids": [
            "PRI"
           ],
           "legendgroup": "PRI",
           "marker": {
            "color": "#19d3f3",
            "pattern": {
             "shape": ""
            }
           },
           "name": "PRI",
           "offsetgroup": "PRI",
           "orientation": "v",
           "showlegend": true,
           "textposition": "auto",
           "type": "bar",
           "x": [
            "PRI"
           ],
           "xaxis": "x",
           "y": [
            1
           ],
           "yaxis": "y"
          }
         ],
         "name": "201610"
        },
        {
         "data": [
          {
           "alignmentgroup": "True",
           "hovertemplate": "pais=%{x}<br>registration_year_month=201611<br>count=%{y}<extra></extra>",
           "ids": [
            "ESP"
           ],
           "legendgroup": "ESP",
           "marker": {
            "color": "#EF553B",
            "pattern": {
             "shape": ""
            }
           },
           "name": "ESP",
           "offsetgroup": "ESP",
           "orientation": "v",
           "showlegend": true,
           "textposition": "auto",
           "type": "bar",
           "x": [
            "ESP"
           ],
           "xaxis": "x",
           "y": [
            52
           ],
           "yaxis": "y"
          },
          {
           "alignmentgroup": "True",
           "hovertemplate": "pais=%{x}<br>registration_year_month=201611<br>count=%{y}<extra></extra>",
           "ids": [
            "MEX"
           ],
           "legendgroup": "MEX",
           "marker": {
            "color": "#00cc96",
            "pattern": {
             "shape": ""
            }
           },
           "name": "MEX",
           "offsetgroup": "MEX",
           "orientation": "v",
           "showlegend": true,
           "textposition": "auto",
           "type": "bar",
           "x": [
            "MEX"
           ],
           "xaxis": "x",
           "y": [
            26
           ],
           "yaxis": "y"
          },
          {
           "alignmentgroup": "True",
           "hovertemplate": "pais=%{x}<br>registration_year_month=201611<br>count=%{y}<extra></extra>",
           "ids": [
            "PER"
           ],
           "legendgroup": "PER",
           "marker": {
            "color": "#ab63fa",
            "pattern": {
             "shape": ""
            }
           },
           "name": "PER",
           "offsetgroup": "PER",
           "orientation": "v",
           "showlegend": true,
           "textposition": "auto",
           "type": "bar",
           "x": [
            "PER"
           ],
           "xaxis": "x",
           "y": [
            2
           ],
           "yaxis": "y"
          },
          {
           "alignmentgroup": "True",
           "hovertemplate": "pais=%{x}<br>registration_year_month=201611<br>count=%{y}<extra></extra>",
           "ids": [
            "CHL"
           ],
           "legendgroup": "CHL",
           "marker": {
            "color": "#FF6692",
            "pattern": {
             "shape": ""
            }
           },
           "name": "CHL",
           "offsetgroup": "CHL",
           "orientation": "v",
           "showlegend": true,
           "textposition": "auto",
           "type": "bar",
           "x": [
            "CHL"
           ],
           "xaxis": "x",
           "y": [
            1
           ],
           "yaxis": "y"
          },
          {
           "alignmentgroup": "True",
           "hovertemplate": "pais=%{x}<br>registration_year_month=201611<br>count=%{y}<extra></extra>",
           "ids": [
            "COL"
           ],
           "legendgroup": "COL",
           "marker": {
            "color": "#B6E880",
            "pattern": {
             "shape": ""
            }
           },
           "name": "COL",
           "offsetgroup": "COL",
           "orientation": "v",
           "showlegend": true,
           "textposition": "auto",
           "type": "bar",
           "x": [
            "COL"
           ],
           "xaxis": "x",
           "y": [
            2
           ],
           "yaxis": "y"
          },
          {
           "alignmentgroup": "True",
           "hovertemplate": "pais=%{x}<br>registration_year_month=201611<br>count=%{y}<extra></extra>",
           "ids": [
            "GTM"
           ],
           "legendgroup": "GTM",
           "marker": {
            "color": "#FF97FF",
            "pattern": {
             "shape": ""
            }
           },
           "name": "GTM",
           "offsetgroup": "GTM",
           "orientation": "v",
           "showlegend": true,
           "textposition": "auto",
           "type": "bar",
           "x": [
            "GTM"
           ],
           "xaxis": "x",
           "y": [
            1
           ],
           "yaxis": "y"
          }
         ],
         "name": "201611"
        },
        {
         "data": [
          {
           "alignmentgroup": "True",
           "hovertemplate": "pais=%{x}<br>registration_year_month=201612<br>count=%{y}<extra></extra>",
           "ids": [
            "ESP"
           ],
           "legendgroup": "ESP",
           "marker": {
            "color": "#EF553B",
            "pattern": {
             "shape": ""
            }
           },
           "name": "ESP",
           "offsetgroup": "ESP",
           "orientation": "v",
           "showlegend": true,
           "textposition": "auto",
           "type": "bar",
           "x": [
            "ESP"
           ],
           "xaxis": "x",
           "y": [
            60
           ],
           "yaxis": "y"
          },
          {
           "alignmentgroup": "True",
           "hovertemplate": "pais=%{x}<br>registration_year_month=201612<br>count=%{y}<extra></extra>",
           "ids": [
            "MEX"
           ],
           "legendgroup": "MEX",
           "marker": {
            "color": "#00cc96",
            "pattern": {
             "shape": ""
            }
           },
           "name": "MEX",
           "offsetgroup": "MEX",
           "orientation": "v",
           "showlegend": true,
           "textposition": "auto",
           "type": "bar",
           "x": [
            "MEX"
           ],
           "xaxis": "x",
           "y": [
            28
           ],
           "yaxis": "y"
          },
          {
           "alignmentgroup": "True",
           "hovertemplate": "pais=%{x}<br>registration_year_month=201612<br>count=%{y}<extra></extra>",
           "ids": [
            "PER"
           ],
           "legendgroup": "PER",
           "marker": {
            "color": "#ab63fa",
            "pattern": {
             "shape": ""
            }
           },
           "name": "PER",
           "offsetgroup": "PER",
           "orientation": "v",
           "showlegend": true,
           "textposition": "auto",
           "type": "bar",
           "x": [
            "PER"
           ],
           "xaxis": "x",
           "y": [
            14
           ],
           "yaxis": "y"
          },
          {
           "alignmentgroup": "True",
           "hovertemplate": "pais=%{x}<br>registration_year_month=201612<br>count=%{y}<extra></extra>",
           "ids": [
            "ARG"
           ],
           "legendgroup": "ARG",
           "marker": {
            "color": "#FECB52",
            "pattern": {
             "shape": ""
            }
           },
           "name": "ARG",
           "offsetgroup": "ARG",
           "orientation": "v",
           "showlegend": true,
           "textposition": "auto",
           "type": "bar",
           "x": [
            "ARG"
           ],
           "xaxis": "x",
           "y": [
            4
           ],
           "yaxis": "y"
          },
          {
           "alignmentgroup": "True",
           "hovertemplate": "pais=%{x}<br>registration_year_month=201612<br>count=%{y}<extra></extra>",
           "ids": [
            "URY"
           ],
           "legendgroup": "URY",
           "marker": {
            "color": "#636efa",
            "pattern": {
             "shape": ""
            }
           },
           "name": "URY",
           "offsetgroup": "URY",
           "orientation": "v",
           "showlegend": true,
           "textposition": "auto",
           "type": "bar",
           "x": [
            "URY"
           ],
           "xaxis": "x",
           "y": [
            1
           ],
           "yaxis": "y"
          },
          {
           "alignmentgroup": "True",
           "hovertemplate": "pais=%{x}<br>registration_year_month=201612<br>count=%{y}<extra></extra>",
           "ids": [
            "VEN"
           ],
           "legendgroup": "VEN",
           "marker": {
            "color": "#EF553B",
            "pattern": {
             "shape": ""
            }
           },
           "name": "VEN",
           "offsetgroup": "VEN",
           "orientation": "v",
           "showlegend": true,
           "textposition": "auto",
           "type": "bar",
           "x": [
            "VEN"
           ],
           "xaxis": "x",
           "y": [
            1
           ],
           "yaxis": "y"
          }
         ],
         "name": "201612"
        },
        {
         "data": [
          {
           "alignmentgroup": "True",
           "hovertemplate": "pais=%{x}<br>registration_year_month=20163<br>count=%{y}<extra></extra>",
           "ids": [
            "ESP"
           ],
           "legendgroup": "ESP",
           "marker": {
            "color": "#EF553B",
            "pattern": {
             "shape": ""
            }
           },
           "name": "ESP",
           "offsetgroup": "ESP",
           "orientation": "v",
           "showlegend": true,
           "textposition": "auto",
           "type": "bar",
           "x": [
            "ESP"
           ],
           "xaxis": "x",
           "y": [
            75
           ],
           "yaxis": "y"
          },
          {
           "alignmentgroup": "True",
           "hovertemplate": "pais=%{x}<br>registration_year_month=20163<br>count=%{y}<extra></extra>",
           "ids": [
            "MEX"
           ],
           "legendgroup": "MEX",
           "marker": {
            "color": "#00cc96",
            "pattern": {
             "shape": ""
            }
           },
           "name": "MEX",
           "offsetgroup": "MEX",
           "orientation": "v",
           "showlegend": true,
           "textposition": "auto",
           "type": "bar",
           "x": [
            "MEX"
           ],
           "xaxis": "x",
           "y": [
            12
           ],
           "yaxis": "y"
          },
          {
           "alignmentgroup": "True",
           "hovertemplate": "pais=%{x}<br>registration_year_month=20163<br>count=%{y}<extra></extra>",
           "ids": [
            "PER"
           ],
           "legendgroup": "PER",
           "marker": {
            "color": "#ab63fa",
            "pattern": {
             "shape": ""
            }
           },
           "name": "PER",
           "offsetgroup": "PER",
           "orientation": "v",
           "showlegend": true,
           "textposition": "auto",
           "type": "bar",
           "x": [
            "PER"
           ],
           "xaxis": "x",
           "y": [
            2
           ],
           "yaxis": "y"
          },
          {
           "alignmentgroup": "True",
           "hovertemplate": "pais=%{x}<br>registration_year_month=20163<br>count=%{y}<extra></extra>",
           "ids": [
            "GTM"
           ],
           "legendgroup": "GTM",
           "marker": {
            "color": "#FF97FF",
            "pattern": {
             "shape": ""
            }
           },
           "name": "GTM",
           "offsetgroup": "GTM",
           "orientation": "v",
           "showlegend": true,
           "textposition": "auto",
           "type": "bar",
           "x": [
            "GTM"
           ],
           "xaxis": "x",
           "y": [
            1
           ],
           "yaxis": "y"
          },
          {
           "alignmentgroup": "True",
           "hovertemplate": "pais=%{x}<br>registration_year_month=20163<br>count=%{y}<extra></extra>",
           "ids": [
            "ARG"
           ],
           "legendgroup": "ARG",
           "marker": {
            "color": "#FECB52",
            "pattern": {
             "shape": ""
            }
           },
           "name": "ARG",
           "offsetgroup": "ARG",
           "orientation": "v",
           "showlegend": true,
           "textposition": "auto",
           "type": "bar",
           "x": [
            "ARG"
           ],
           "xaxis": "x",
           "y": [
            9
           ],
           "yaxis": "y"
          },
          {
           "alignmentgroup": "True",
           "hovertemplate": "pais=%{x}<br>registration_year_month=20163<br>count=%{y}<extra></extra>",
           "ids": [
            "AND"
           ],
           "legendgroup": "AND",
           "marker": {
            "color": "#00cc96",
            "pattern": {
             "shape": ""
            }
           },
           "name": "AND",
           "offsetgroup": "AND",
           "orientation": "v",
           "showlegend": true,
           "textposition": "auto",
           "type": "bar",
           "x": [
            "AND"
           ],
           "xaxis": "x",
           "y": [
            3
           ],
           "yaxis": "y"
          },
          {
           "alignmentgroup": "True",
           "hovertemplate": "pais=%{x}<br>registration_year_month=20163<br>count=%{y}<extra></extra>",
           "ids": [
            "BRA"
           ],
           "legendgroup": "BRA",
           "marker": {
            "color": "#ab63fa",
            "pattern": {
             "shape": ""
            }
           },
           "name": "BRA",
           "offsetgroup": "BRA",
           "orientation": "v",
           "showlegend": true,
           "textposition": "auto",
           "type": "bar",
           "x": [
            "BRA"
           ],
           "xaxis": "x",
           "y": [
            1
           ],
           "yaxis": "y"
          },
          {
           "alignmentgroup": "True",
           "hovertemplate": "pais=%{x}<br>registration_year_month=20163<br>count=%{y}<extra></extra>",
           "ids": [
            "FIN"
           ],
           "legendgroup": "FIN",
           "marker": {
            "color": "#FFA15A",
            "pattern": {
             "shape": ""
            }
           },
           "name": "FIN",
           "offsetgroup": "FIN",
           "orientation": "v",
           "showlegend": true,
           "textposition": "auto",
           "type": "bar",
           "x": [
            "FIN"
           ],
           "xaxis": "x",
           "y": [
            1
           ],
           "yaxis": "y"
          },
          {
           "alignmentgroup": "True",
           "hovertemplate": "pais=%{x}<br>registration_year_month=20163<br>count=%{y}<extra></extra>",
           "ids": [
            "GBR"
           ],
           "legendgroup": "GBR",
           "marker": {
            "color": "#19d3f3",
            "pattern": {
             "shape": ""
            }
           },
           "name": "GBR",
           "offsetgroup": "GBR",
           "orientation": "v",
           "showlegend": true,
           "textposition": "auto",
           "type": "bar",
           "x": [
            "GBR"
           ],
           "xaxis": "x",
           "y": [
            1
           ],
           "yaxis": "y"
          }
         ],
         "name": "20163"
        },
        {
         "data": [
          {
           "alignmentgroup": "True",
           "hovertemplate": "pais=%{x}<br>registration_year_month=20164<br>count=%{y}<extra></extra>",
           "ids": [
            "ESP"
           ],
           "legendgroup": "ESP",
           "marker": {
            "color": "#EF553B",
            "pattern": {
             "shape": ""
            }
           },
           "name": "ESP",
           "offsetgroup": "ESP",
           "orientation": "v",
           "showlegend": true,
           "textposition": "auto",
           "type": "bar",
           "x": [
            "ESP"
           ],
           "xaxis": "x",
           "y": [
            40
           ],
           "yaxis": "y"
          },
          {
           "alignmentgroup": "True",
           "hovertemplate": "pais=%{x}<br>registration_year_month=20164<br>count=%{y}<extra></extra>",
           "ids": [
            "MEX"
           ],
           "legendgroup": "MEX",
           "marker": {
            "color": "#00cc96",
            "pattern": {
             "shape": ""
            }
           },
           "name": "MEX",
           "offsetgroup": "MEX",
           "orientation": "v",
           "showlegend": true,
           "textposition": "auto",
           "type": "bar",
           "x": [
            "MEX"
           ],
           "xaxis": "x",
           "y": [
            19
           ],
           "yaxis": "y"
          },
          {
           "alignmentgroup": "True",
           "hovertemplate": "pais=%{x}<br>registration_year_month=20164<br>count=%{y}<extra></extra>",
           "ids": [
            "PER"
           ],
           "legendgroup": "PER",
           "marker": {
            "color": "#ab63fa",
            "pattern": {
             "shape": ""
            }
           },
           "name": "PER",
           "offsetgroup": "PER",
           "orientation": "v",
           "showlegend": true,
           "textposition": "auto",
           "type": "bar",
           "x": [
            "PER"
           ],
           "xaxis": "x",
           "y": [
            24
           ],
           "yaxis": "y"
          },
          {
           "alignmentgroup": "True",
           "hovertemplate": "pais=%{x}<br>registration_year_month=20164<br>count=%{y}<extra></extra>",
           "ids": [
            "CHL"
           ],
           "legendgroup": "CHL",
           "marker": {
            "color": "#FF6692",
            "pattern": {
             "shape": ""
            }
           },
           "name": "CHL",
           "offsetgroup": "CHL",
           "orientation": "v",
           "showlegend": true,
           "textposition": "auto",
           "type": "bar",
           "x": [
            "CHL"
           ],
           "xaxis": "x",
           "y": [
            3
           ],
           "yaxis": "y"
          },
          {
           "alignmentgroup": "True",
           "hovertemplate": "pais=%{x}<br>registration_year_month=20164<br>count=%{y}<extra></extra>",
           "ids": [
            "COL"
           ],
           "legendgroup": "COL",
           "marker": {
            "color": "#B6E880",
            "pattern": {
             "shape": ""
            }
           },
           "name": "COL",
           "offsetgroup": "COL",
           "orientation": "v",
           "showlegend": true,
           "textposition": "auto",
           "type": "bar",
           "x": [
            "COL"
           ],
           "xaxis": "x",
           "y": [
            6
           ],
           "yaxis": "y"
          },
          {
           "alignmentgroup": "True",
           "hovertemplate": "pais=%{x}<br>registration_year_month=20164<br>count=%{y}<extra></extra>",
           "ids": [
            "ARG"
           ],
           "legendgroup": "ARG",
           "marker": {
            "color": "#FECB52",
            "pattern": {
             "shape": ""
            }
           },
           "name": "ARG",
           "offsetgroup": "ARG",
           "orientation": "v",
           "showlegend": true,
           "textposition": "auto",
           "type": "bar",
           "x": [
            "ARG"
           ],
           "xaxis": "x",
           "y": [
            9
           ],
           "yaxis": "y"
          },
          {
           "alignmentgroup": "True",
           "hovertemplate": "pais=%{x}<br>registration_year_month=20164<br>count=%{y}<extra></extra>",
           "ids": [
            "BRA"
           ],
           "legendgroup": "BRA",
           "marker": {
            "color": "#ab63fa",
            "pattern": {
             "shape": ""
            }
           },
           "name": "BRA",
           "offsetgroup": "BRA",
           "orientation": "v",
           "showlegend": true,
           "textposition": "auto",
           "type": "bar",
           "x": [
            "BRA"
           ],
           "xaxis": "x",
           "y": [
            4
           ],
           "yaxis": "y"
          }
         ],
         "name": "20164"
        },
        {
         "data": [
          {
           "alignmentgroup": "True",
           "hovertemplate": "pais=%{x}<br>registration_year_month=20165<br>count=%{y}<extra></extra>",
           "ids": [
            "ESP"
           ],
           "legendgroup": "ESP",
           "marker": {
            "color": "#EF553B",
            "pattern": {
             "shape": ""
            }
           },
           "name": "ESP",
           "offsetgroup": "ESP",
           "orientation": "v",
           "showlegend": true,
           "textposition": "auto",
           "type": "bar",
           "x": [
            "ESP"
           ],
           "xaxis": "x",
           "y": [
            37
           ],
           "yaxis": "y"
          },
          {
           "alignmentgroup": "True",
           "hovertemplate": "pais=%{x}<br>registration_year_month=20165<br>count=%{y}<extra></extra>",
           "ids": [
            "MEX"
           ],
           "legendgroup": "MEX",
           "marker": {
            "color": "#00cc96",
            "pattern": {
             "shape": ""
            }
           },
           "name": "MEX",
           "offsetgroup": "MEX",
           "orientation": "v",
           "showlegend": true,
           "textposition": "auto",
           "type": "bar",
           "x": [
            "MEX"
           ],
           "xaxis": "x",
           "y": [
            4
           ],
           "yaxis": "y"
          },
          {
           "alignmentgroup": "True",
           "hovertemplate": "pais=%{x}<br>registration_year_month=20165<br>count=%{y}<extra></extra>",
           "ids": [
            "PER"
           ],
           "legendgroup": "PER",
           "marker": {
            "color": "#ab63fa",
            "pattern": {
             "shape": ""
            }
           },
           "name": "PER",
           "offsetgroup": "PER",
           "orientation": "v",
           "showlegend": true,
           "textposition": "auto",
           "type": "bar",
           "x": [
            "PER"
           ],
           "xaxis": "x",
           "y": [
            4
           ],
           "yaxis": "y"
          },
          {
           "alignmentgroup": "True",
           "hovertemplate": "pais=%{x}<br>registration_year_month=20165<br>count=%{y}<extra></extra>",
           "ids": [
            "GTM"
           ],
           "legendgroup": "GTM",
           "marker": {
            "color": "#FF97FF",
            "pattern": {
             "shape": ""
            }
           },
           "name": "GTM",
           "offsetgroup": "GTM",
           "orientation": "v",
           "showlegend": true,
           "textposition": "auto",
           "type": "bar",
           "x": [
            "GTM"
           ],
           "xaxis": "x",
           "y": [
            1
           ],
           "yaxis": "y"
          },
          {
           "alignmentgroup": "True",
           "hovertemplate": "pais=%{x}<br>registration_year_month=20165<br>count=%{y}<extra></extra>",
           "ids": [
            "ARG"
           ],
           "legendgroup": "ARG",
           "marker": {
            "color": "#FECB52",
            "pattern": {
             "shape": ""
            }
           },
           "name": "ARG",
           "offsetgroup": "ARG",
           "orientation": "v",
           "showlegend": true,
           "textposition": "auto",
           "type": "bar",
           "x": [
            "ARG"
           ],
           "xaxis": "x",
           "y": [
            16
           ],
           "yaxis": "y"
          },
          {
           "alignmentgroup": "True",
           "hovertemplate": "pais=%{x}<br>registration_year_month=20165<br>count=%{y}<extra></extra>",
           "ids": [
            "FIN"
           ],
           "legendgroup": "FIN",
           "marker": {
            "color": "#FFA15A",
            "pattern": {
             "shape": ""
            }
           },
           "name": "FIN",
           "offsetgroup": "FIN",
           "orientation": "v",
           "showlegend": true,
           "textposition": "auto",
           "type": "bar",
           "x": [
            "FIN"
           ],
           "xaxis": "x",
           "y": [
            1
           ],
           "yaxis": "y"
          }
         ],
         "name": "20165"
        },
        {
         "data": [
          {
           "alignmentgroup": "True",
           "hovertemplate": "pais=%{x}<br>registration_year_month=20166<br>count=%{y}<extra></extra>",
           "ids": [
            "ESP"
           ],
           "legendgroup": "ESP",
           "marker": {
            "color": "#EF553B",
            "pattern": {
             "shape": ""
            }
           },
           "name": "ESP",
           "offsetgroup": "ESP",
           "orientation": "v",
           "showlegend": true,
           "textposition": "auto",
           "type": "bar",
           "x": [
            "ESP"
           ],
           "xaxis": "x",
           "y": [
            8
           ],
           "yaxis": "y"
          },
          {
           "alignmentgroup": "True",
           "hovertemplate": "pais=%{x}<br>registration_year_month=20166<br>count=%{y}<extra></extra>",
           "ids": [
            "MEX"
           ],
           "legendgroup": "MEX",
           "marker": {
            "color": "#00cc96",
            "pattern": {
             "shape": ""
            }
           },
           "name": "MEX",
           "offsetgroup": "MEX",
           "orientation": "v",
           "showlegend": true,
           "textposition": "auto",
           "type": "bar",
           "x": [
            "MEX"
           ],
           "xaxis": "x",
           "y": [
            13
           ],
           "yaxis": "y"
          },
          {
           "alignmentgroup": "True",
           "hovertemplate": "pais=%{x}<br>registration_year_month=20166<br>count=%{y}<extra></extra>",
           "ids": [
            "COL"
           ],
           "legendgroup": "COL",
           "marker": {
            "color": "#B6E880",
            "pattern": {
             "shape": ""
            }
           },
           "name": "COL",
           "offsetgroup": "COL",
           "orientation": "v",
           "showlegend": true,
           "textposition": "auto",
           "type": "bar",
           "x": [
            "COL"
           ],
           "xaxis": "x",
           "y": [
            1
           ],
           "yaxis": "y"
          },
          {
           "alignmentgroup": "True",
           "hovertemplate": "pais=%{x}<br>registration_year_month=20166<br>count=%{y}<extra></extra>",
           "ids": [
            "ARG"
           ],
           "legendgroup": "ARG",
           "marker": {
            "color": "#FECB52",
            "pattern": {
             "shape": ""
            }
           },
           "name": "ARG",
           "offsetgroup": "ARG",
           "orientation": "v",
           "showlegend": true,
           "textposition": "auto",
           "type": "bar",
           "x": [
            "ARG"
           ],
           "xaxis": "x",
           "y": [
            1
           ],
           "yaxis": "y"
          }
         ],
         "name": "20166"
        },
        {
         "data": [
          {
           "alignmentgroup": "True",
           "hovertemplate": "pais=%{x}<br>registration_year_month=20167<br>count=%{y}<extra></extra>",
           "ids": [
            "ESP"
           ],
           "legendgroup": "ESP",
           "marker": {
            "color": "#EF553B",
            "pattern": {
             "shape": ""
            }
           },
           "name": "ESP",
           "offsetgroup": "ESP",
           "orientation": "v",
           "showlegend": true,
           "textposition": "auto",
           "type": "bar",
           "x": [
            "ESP"
           ],
           "xaxis": "x",
           "y": [
            43
           ],
           "yaxis": "y"
          },
          {
           "alignmentgroup": "True",
           "hovertemplate": "pais=%{x}<br>registration_year_month=20167<br>count=%{y}<extra></extra>",
           "ids": [
            "MEX"
           ],
           "legendgroup": "MEX",
           "marker": {
            "color": "#00cc96",
            "pattern": {
             "shape": ""
            }
           },
           "name": "MEX",
           "offsetgroup": "MEX",
           "orientation": "v",
           "showlegend": true,
           "textposition": "auto",
           "type": "bar",
           "x": [
            "MEX"
           ],
           "xaxis": "x",
           "y": [
            5
           ],
           "yaxis": "y"
          },
          {
           "alignmentgroup": "True",
           "hovertemplate": "pais=%{x}<br>registration_year_month=20167<br>count=%{y}<extra></extra>",
           "ids": [
            "PER"
           ],
           "legendgroup": "PER",
           "marker": {
            "color": "#ab63fa",
            "pattern": {
             "shape": ""
            }
           },
           "name": "PER",
           "offsetgroup": "PER",
           "orientation": "v",
           "showlegend": true,
           "textposition": "auto",
           "type": "bar",
           "x": [
            "PER"
           ],
           "xaxis": "x",
           "y": [
            2
           ],
           "yaxis": "y"
          },
          {
           "alignmentgroup": "True",
           "hovertemplate": "pais=%{x}<br>registration_year_month=20167<br>count=%{y}<extra></extra>",
           "ids": [
            "CHL"
           ],
           "legendgroup": "CHL",
           "marker": {
            "color": "#FF6692",
            "pattern": {
             "shape": ""
            }
           },
           "name": "CHL",
           "offsetgroup": "CHL",
           "orientation": "v",
           "showlegend": true,
           "textposition": "auto",
           "type": "bar",
           "x": [
            "CHL"
           ],
           "xaxis": "x",
           "y": [
            1
           ],
           "yaxis": "y"
          },
          {
           "alignmentgroup": "True",
           "hovertemplate": "pais=%{x}<br>registration_year_month=20167<br>count=%{y}<extra></extra>",
           "ids": [
            "CHN"
           ],
           "legendgroup": "CHN",
           "marker": {
            "color": "#FF6692",
            "pattern": {
             "shape": ""
            }
           },
           "name": "CHN",
           "offsetgroup": "CHN",
           "orientation": "v",
           "showlegend": true,
           "textposition": "auto",
           "type": "bar",
           "x": [
            "CHN"
           ],
           "xaxis": "x",
           "y": [
            1
           ],
           "yaxis": "y"
          },
          {
           "alignmentgroup": "True",
           "hovertemplate": "pais=%{x}<br>registration_year_month=20167<br>count=%{y}<extra></extra>",
           "ids": [
            "ECU"
           ],
           "legendgroup": "ECU",
           "marker": {
            "color": "#B6E880",
            "pattern": {
             "shape": ""
            }
           },
           "name": "ECU",
           "offsetgroup": "ECU",
           "orientation": "v",
           "showlegend": true,
           "textposition": "auto",
           "type": "bar",
           "x": [
            "ECU"
           ],
           "xaxis": "x",
           "y": [
            1
           ],
           "yaxis": "y"
          },
          {
           "alignmentgroup": "True",
           "hovertemplate": "pais=%{x}<br>registration_year_month=20167<br>count=%{y}<extra></extra>",
           "ids": [
            "USA"
           ],
           "legendgroup": "USA",
           "marker": {
            "color": "#FF97FF",
            "pattern": {
             "shape": ""
            }
           },
           "name": "USA",
           "offsetgroup": "USA",
           "orientation": "v",
           "showlegend": true,
           "textposition": "auto",
           "type": "bar",
           "x": [
            "USA"
           ],
           "xaxis": "x",
           "y": [
            1
           ],
           "yaxis": "y"
          }
         ],
         "name": "20167"
        },
        {
         "data": [
          {
           "alignmentgroup": "True",
           "hovertemplate": "pais=%{x}<br>registration_year_month=20168<br>count=%{y}<extra></extra>",
           "ids": [
            "ESP"
           ],
           "legendgroup": "ESP",
           "marker": {
            "color": "#EF553B",
            "pattern": {
             "shape": ""
            }
           },
           "name": "ESP",
           "offsetgroup": "ESP",
           "orientation": "v",
           "showlegend": true,
           "textposition": "auto",
           "type": "bar",
           "x": [
            "ESP"
           ],
           "xaxis": "x",
           "y": [
            41
           ],
           "yaxis": "y"
          },
          {
           "alignmentgroup": "True",
           "hovertemplate": "pais=%{x}<br>registration_year_month=20168<br>count=%{y}<extra></extra>",
           "ids": [
            "MEX"
           ],
           "legendgroup": "MEX",
           "marker": {
            "color": "#00cc96",
            "pattern": {
             "shape": ""
            }
           },
           "name": "MEX",
           "offsetgroup": "MEX",
           "orientation": "v",
           "showlegend": true,
           "textposition": "auto",
           "type": "bar",
           "x": [
            "MEX"
           ],
           "xaxis": "x",
           "y": [
            3
           ],
           "yaxis": "y"
          },
          {
           "alignmentgroup": "True",
           "hovertemplate": "pais=%{x}<br>registration_year_month=20168<br>count=%{y}<extra></extra>",
           "ids": [
            "PER"
           ],
           "legendgroup": "PER",
           "marker": {
            "color": "#ab63fa",
            "pattern": {
             "shape": ""
            }
           },
           "name": "PER",
           "offsetgroup": "PER",
           "orientation": "v",
           "showlegend": true,
           "textposition": "auto",
           "type": "bar",
           "x": [
            "PER"
           ],
           "xaxis": "x",
           "y": [
            7
           ],
           "yaxis": "y"
          },
          {
           "alignmentgroup": "True",
           "hovertemplate": "pais=%{x}<br>registration_year_month=20168<br>count=%{y}<extra></extra>",
           "ids": [
            "COL"
           ],
           "legendgroup": "COL",
           "marker": {
            "color": "#B6E880",
            "pattern": {
             "shape": ""
            }
           },
           "name": "COL",
           "offsetgroup": "COL",
           "orientation": "v",
           "showlegend": true,
           "textposition": "auto",
           "type": "bar",
           "x": [
            "COL"
           ],
           "xaxis": "x",
           "y": [
            8
           ],
           "yaxis": "y"
          },
          {
           "alignmentgroup": "True",
           "hovertemplate": "pais=%{x}<br>registration_year_month=20168<br>count=%{y}<extra></extra>",
           "ids": [
            "ARG"
           ],
           "legendgroup": "ARG",
           "marker": {
            "color": "#FECB52",
            "pattern": {
             "shape": ""
            }
           },
           "name": "ARG",
           "offsetgroup": "ARG",
           "orientation": "v",
           "showlegend": true,
           "textposition": "auto",
           "type": "bar",
           "x": [
            "ARG"
           ],
           "xaxis": "x",
           "y": [
            6
           ],
           "yaxis": "y"
          },
          {
           "alignmentgroup": "True",
           "hovertemplate": "pais=%{x}<br>registration_year_month=20168<br>count=%{y}<extra></extra>",
           "ids": [
            "URY"
           ],
           "legendgroup": "URY",
           "marker": {
            "color": "#636efa",
            "pattern": {
             "shape": ""
            }
           },
           "name": "URY",
           "offsetgroup": "URY",
           "orientation": "v",
           "showlegend": true,
           "textposition": "auto",
           "type": "bar",
           "x": [
            "URY"
           ],
           "xaxis": "x",
           "y": [
            1
           ],
           "yaxis": "y"
          },
          {
           "alignmentgroup": "True",
           "hovertemplate": "pais=%{x}<br>registration_year_month=20168<br>count=%{y}<extra></extra>",
           "ids": [
            "VEN"
           ],
           "legendgroup": "VEN",
           "marker": {
            "color": "#EF553B",
            "pattern": {
             "shape": ""
            }
           },
           "name": "VEN",
           "offsetgroup": "VEN",
           "orientation": "v",
           "showlegend": true,
           "textposition": "auto",
           "type": "bar",
           "x": [
            "VEN"
           ],
           "xaxis": "x",
           "y": [
            2
           ],
           "yaxis": "y"
          },
          {
           "alignmentgroup": "True",
           "hovertemplate": "pais=%{x}<br>registration_year_month=20168<br>count=%{y}<extra></extra>",
           "ids": [
            "ECU"
           ],
           "legendgroup": "ECU",
           "marker": {
            "color": "#B6E880",
            "pattern": {
             "shape": ""
            }
           },
           "name": "ECU",
           "offsetgroup": "ECU",
           "orientation": "v",
           "showlegend": true,
           "textposition": "auto",
           "type": "bar",
           "x": [
            "ECU"
           ],
           "xaxis": "x",
           "y": [
            1
           ],
           "yaxis": "y"
          },
          {
           "alignmentgroup": "True",
           "hovertemplate": "pais=%{x}<br>registration_year_month=20168<br>count=%{y}<extra></extra>",
           "ids": [
            "USA"
           ],
           "legendgroup": "USA",
           "marker": {
            "color": "#FF97FF",
            "pattern": {
             "shape": ""
            }
           },
           "name": "USA",
           "offsetgroup": "USA",
           "orientation": "v",
           "showlegend": true,
           "textposition": "auto",
           "type": "bar",
           "x": [
            "USA"
           ],
           "xaxis": "x",
           "y": [
            1
           ],
           "yaxis": "y"
          },
          {
           "alignmentgroup": "True",
           "hovertemplate": "pais=%{x}<br>registration_year_month=20168<br>count=%{y}<extra></extra>",
           "ids": [
            "CRI"
           ],
           "legendgroup": "CRI",
           "marker": {
            "color": "#FECB52",
            "pattern": {
             "shape": ""
            }
           },
           "name": "CRI",
           "offsetgroup": "CRI",
           "orientation": "v",
           "showlegend": true,
           "textposition": "auto",
           "type": "bar",
           "x": [
            "CRI"
           ],
           "xaxis": "x",
           "y": [
            1
           ],
           "yaxis": "y"
          },
          {
           "alignmentgroup": "True",
           "hovertemplate": "pais=%{x}<br>registration_year_month=20168<br>count=%{y}<extra></extra>",
           "ids": [
            "CZE"
           ],
           "legendgroup": "CZE",
           "marker": {
            "color": "#636efa",
            "pattern": {
             "shape": ""
            }
           },
           "name": "CZE",
           "offsetgroup": "CZE",
           "orientation": "v",
           "showlegend": true,
           "textposition": "auto",
           "type": "bar",
           "x": [
            "CZE"
           ],
           "xaxis": "x",
           "y": [
            1
           ],
           "yaxis": "y"
          },
          {
           "alignmentgroup": "True",
           "hovertemplate": "pais=%{x}<br>registration_year_month=20168<br>count=%{y}<extra></extra>",
           "ids": [
            "PAN"
           ],
           "legendgroup": "PAN",
           "marker": {
            "color": "#EF553B",
            "pattern": {
             "shape": ""
            }
           },
           "name": "PAN",
           "offsetgroup": "PAN",
           "orientation": "v",
           "showlegend": true,
           "textposition": "auto",
           "type": "bar",
           "x": [
            "PAN"
           ],
           "xaxis": "x",
           "y": [
            1
           ],
           "yaxis": "y"
          }
         ],
         "name": "20168"
        },
        {
         "data": [
          {
           "alignmentgroup": "True",
           "hovertemplate": "pais=%{x}<br>registration_year_month=20169<br>count=%{y}<extra></extra>",
           "ids": [
            "ESP"
           ],
           "legendgroup": "ESP",
           "marker": {
            "color": "#EF553B",
            "pattern": {
             "shape": ""
            }
           },
           "name": "ESP",
           "offsetgroup": "ESP",
           "orientation": "v",
           "showlegend": true,
           "textposition": "auto",
           "type": "bar",
           "x": [
            "ESP"
           ],
           "xaxis": "x",
           "y": [
            49
           ],
           "yaxis": "y"
          },
          {
           "alignmentgroup": "True",
           "hovertemplate": "pais=%{x}<br>registration_year_month=20169<br>count=%{y}<extra></extra>",
           "ids": [
            "MEX"
           ],
           "legendgroup": "MEX",
           "marker": {
            "color": "#00cc96",
            "pattern": {
             "shape": ""
            }
           },
           "name": "MEX",
           "offsetgroup": "MEX",
           "orientation": "v",
           "showlegend": true,
           "textposition": "auto",
           "type": "bar",
           "x": [
            "MEX"
           ],
           "xaxis": "x",
           "y": [
            15
           ],
           "yaxis": "y"
          },
          {
           "alignmentgroup": "True",
           "hovertemplate": "pais=%{x}<br>registration_year_month=20169<br>count=%{y}<extra></extra>",
           "ids": [
            "PER"
           ],
           "legendgroup": "PER",
           "marker": {
            "color": "#ab63fa",
            "pattern": {
             "shape": ""
            }
           },
           "name": "PER",
           "offsetgroup": "PER",
           "orientation": "v",
           "showlegend": true,
           "textposition": "auto",
           "type": "bar",
           "x": [
            "PER"
           ],
           "xaxis": "x",
           "y": [
            7
           ],
           "yaxis": "y"
          },
          {
           "alignmentgroup": "True",
           "hovertemplate": "pais=%{x}<br>registration_year_month=20169<br>count=%{y}<extra></extra>",
           "ids": [
            "CHL"
           ],
           "legendgroup": "CHL",
           "marker": {
            "color": "#FF6692",
            "pattern": {
             "shape": ""
            }
           },
           "name": "CHL",
           "offsetgroup": "CHL",
           "orientation": "v",
           "showlegend": true,
           "textposition": "auto",
           "type": "bar",
           "x": [
            "CHL"
           ],
           "xaxis": "x",
           "y": [
            3
           ],
           "yaxis": "y"
          },
          {
           "alignmentgroup": "True",
           "hovertemplate": "pais=%{x}<br>registration_year_month=20169<br>count=%{y}<extra></extra>",
           "ids": [
            "COL"
           ],
           "legendgroup": "COL",
           "marker": {
            "color": "#B6E880",
            "pattern": {
             "shape": ""
            }
           },
           "name": "COL",
           "offsetgroup": "COL",
           "orientation": "v",
           "showlegend": true,
           "textposition": "auto",
           "type": "bar",
           "x": [
            "COL"
           ],
           "xaxis": "x",
           "y": [
            9
           ],
           "yaxis": "y"
          },
          {
           "alignmentgroup": "True",
           "hovertemplate": "pais=%{x}<br>registration_year_month=20169<br>count=%{y}<extra></extra>",
           "ids": [
            "ARG"
           ],
           "legendgroup": "ARG",
           "marker": {
            "color": "#FECB52",
            "pattern": {
             "shape": ""
            }
           },
           "name": "ARG",
           "offsetgroup": "ARG",
           "orientation": "v",
           "showlegend": true,
           "textposition": "auto",
           "type": "bar",
           "x": [
            "ARG"
           ],
           "xaxis": "x",
           "y": [
            7
           ],
           "yaxis": "y"
          },
          {
           "alignmentgroup": "True",
           "hovertemplate": "pais=%{x}<br>registration_year_month=20169<br>count=%{y}<extra></extra>",
           "ids": [
            "URY"
           ],
           "legendgroup": "URY",
           "marker": {
            "color": "#636efa",
            "pattern": {
             "shape": ""
            }
           },
           "name": "URY",
           "offsetgroup": "URY",
           "orientation": "v",
           "showlegend": true,
           "textposition": "auto",
           "type": "bar",
           "x": [
            "URY"
           ],
           "xaxis": "x",
           "y": [
            4
           ],
           "yaxis": "y"
          },
          {
           "alignmentgroup": "True",
           "hovertemplate": "pais=%{x}<br>registration_year_month=20169<br>count=%{y}<extra></extra>",
           "ids": [
            "VEN"
           ],
           "legendgroup": "VEN",
           "marker": {
            "color": "#EF553B",
            "pattern": {
             "shape": ""
            }
           },
           "name": "VEN",
           "offsetgroup": "VEN",
           "orientation": "v",
           "showlegend": true,
           "textposition": "auto",
           "type": "bar",
           "x": [
            "VEN"
           ],
           "xaxis": "x",
           "y": [
            1
           ],
           "yaxis": "y"
          },
          {
           "alignmentgroup": "True",
           "hovertemplate": "pais=%{x}<br>registration_year_month=20169<br>count=%{y}<extra></extra>",
           "ids": [
            "BRA"
           ],
           "legendgroup": "BRA",
           "marker": {
            "color": "#ab63fa",
            "pattern": {
             "shape": ""
            }
           },
           "name": "BRA",
           "offsetgroup": "BRA",
           "orientation": "v",
           "showlegend": true,
           "textposition": "auto",
           "type": "bar",
           "x": [
            "BRA"
           ],
           "xaxis": "x",
           "y": [
            1
           ],
           "yaxis": "y"
          },
          {
           "alignmentgroup": "True",
           "hovertemplate": "pais=%{x}<br>registration_year_month=20169<br>count=%{y}<extra></extra>",
           "ids": [
            "GBR"
           ],
           "legendgroup": "GBR",
           "marker": {
            "color": "#19d3f3",
            "pattern": {
             "shape": ""
            }
           },
           "name": "GBR",
           "offsetgroup": "GBR",
           "orientation": "v",
           "showlegend": true,
           "textposition": "auto",
           "type": "bar",
           "x": [
            "GBR"
           ],
           "xaxis": "x",
           "y": [
            3
           ],
           "yaxis": "y"
          },
          {
           "alignmentgroup": "True",
           "hovertemplate": "pais=%{x}<br>registration_year_month=20169<br>count=%{y}<extra></extra>",
           "ids": [
            "ECU"
           ],
           "legendgroup": "ECU",
           "marker": {
            "color": "#B6E880",
            "pattern": {
             "shape": ""
            }
           },
           "name": "ECU",
           "offsetgroup": "ECU",
           "orientation": "v",
           "showlegend": true,
           "textposition": "auto",
           "type": "bar",
           "x": [
            "ECU"
           ],
           "xaxis": "x",
           "y": [
            3
           ],
           "yaxis": "y"
          },
          {
           "alignmentgroup": "True",
           "hovertemplate": "pais=%{x}<br>registration_year_month=20169<br>count=%{y}<extra></extra>",
           "ids": [
            "USA"
           ],
           "legendgroup": "USA",
           "marker": {
            "color": "#FF97FF",
            "pattern": {
             "shape": ""
            }
           },
           "name": "USA",
           "offsetgroup": "USA",
           "orientation": "v",
           "showlegend": true,
           "textposition": "auto",
           "type": "bar",
           "x": [
            "USA"
           ],
           "xaxis": "x",
           "y": [
            1
           ],
           "yaxis": "y"
          },
          {
           "alignmentgroup": "True",
           "hovertemplate": "pais=%{x}<br>registration_year_month=20169<br>count=%{y}<extra></extra>",
           "ids": [
            "CRI"
           ],
           "legendgroup": "CRI",
           "marker": {
            "color": "#FECB52",
            "pattern": {
             "shape": ""
            }
           },
           "name": "CRI",
           "offsetgroup": "CRI",
           "orientation": "v",
           "showlegend": true,
           "textposition": "auto",
           "type": "bar",
           "x": [
            "CRI"
           ],
           "xaxis": "x",
           "y": [
            1
           ],
           "yaxis": "y"
          },
          {
           "alignmentgroup": "True",
           "hovertemplate": "pais=%{x}<br>registration_year_month=20169<br>count=%{y}<extra></extra>",
           "ids": [
            "PAN"
           ],
           "legendgroup": "PAN",
           "marker": {
            "color": "#EF553B",
            "pattern": {
             "shape": ""
            }
           },
           "name": "PAN",
           "offsetgroup": "PAN",
           "orientation": "v",
           "showlegend": true,
           "textposition": "auto",
           "type": "bar",
           "x": [
            "PAN"
           ],
           "xaxis": "x",
           "y": [
            3
           ],
           "yaxis": "y"
          },
          {
           "alignmentgroup": "True",
           "hovertemplate": "pais=%{x}<br>registration_year_month=20169<br>count=%{y}<extra></extra>",
           "ids": [
            "IRL"
           ],
           "legendgroup": "IRL",
           "marker": {
            "color": "#00cc96",
            "pattern": {
             "shape": ""
            }
           },
           "name": "IRL",
           "offsetgroup": "IRL",
           "orientation": "v",
           "showlegend": true,
           "textposition": "auto",
           "type": "bar",
           "x": [
            "IRL"
           ],
           "xaxis": "x",
           "y": [
            1
           ],
           "yaxis": "y"
          },
          {
           "alignmentgroup": "True",
           "hovertemplate": "pais=%{x}<br>registration_year_month=20169<br>count=%{y}<extra></extra>",
           "ids": [
            "ITA"
           ],
           "legendgroup": "ITA",
           "marker": {
            "color": "#ab63fa",
            "pattern": {
             "shape": ""
            }
           },
           "name": "ITA",
           "offsetgroup": "ITA",
           "orientation": "v",
           "showlegend": true,
           "textposition": "auto",
           "type": "bar",
           "x": [
            "ITA"
           ],
           "xaxis": "x",
           "y": [
            1
           ],
           "yaxis": "y"
          },
          {
           "alignmentgroup": "True",
           "hovertemplate": "pais=%{x}<br>registration_year_month=20169<br>count=%{y}<extra></extra>",
           "ids": [
            "KGZ"
           ],
           "legendgroup": "KGZ",
           "marker": {
            "color": "#FFA15A",
            "pattern": {
             "shape": ""
            }
           },
           "name": "KGZ",
           "offsetgroup": "KGZ",
           "orientation": "v",
           "showlegend": true,
           "textposition": "auto",
           "type": "bar",
           "x": [
            "KGZ"
           ],
           "xaxis": "x",
           "y": [
            1
           ],
           "yaxis": "y"
          },
          {
           "alignmentgroup": "True",
           "hovertemplate": "pais=%{x}<br>registration_year_month=20169<br>count=%{y}<extra></extra>",
           "ids": [
            "PRY"
           ],
           "legendgroup": "PRY",
           "marker": {
            "color": "#19d3f3",
            "pattern": {
             "shape": ""
            }
           },
           "name": "PRY",
           "offsetgroup": "PRY",
           "orientation": "v",
           "showlegend": true,
           "textposition": "auto",
           "type": "bar",
           "x": [
            "PRY"
           ],
           "xaxis": "x",
           "y": [
            2
           ],
           "yaxis": "y"
          }
         ],
         "name": "20169"
        },
        {
         "data": [
          {
           "alignmentgroup": "True",
           "hovertemplate": "pais=%{x}<br>registration_year_month=20171<br>count=%{y}<extra></extra>",
           "ids": [
            "ESP"
           ],
           "legendgroup": "ESP",
           "marker": {
            "color": "#EF553B",
            "pattern": {
             "shape": ""
            }
           },
           "name": "ESP",
           "offsetgroup": "ESP",
           "orientation": "v",
           "showlegend": true,
           "textposition": "auto",
           "type": "bar",
           "x": [
            "ESP"
           ],
           "xaxis": "x",
           "y": [
            194
           ],
           "yaxis": "y"
          },
          {
           "alignmentgroup": "True",
           "hovertemplate": "pais=%{x}<br>registration_year_month=20171<br>count=%{y}<extra></extra>",
           "ids": [
            "MEX"
           ],
           "legendgroup": "MEX",
           "marker": {
            "color": "#00cc96",
            "pattern": {
             "shape": ""
            }
           },
           "name": "MEX",
           "offsetgroup": "MEX",
           "orientation": "v",
           "showlegend": true,
           "textposition": "auto",
           "type": "bar",
           "x": [
            "MEX"
           ],
           "xaxis": "x",
           "y": [
            29
           ],
           "yaxis": "y"
          },
          {
           "alignmentgroup": "True",
           "hovertemplate": "pais=%{x}<br>registration_year_month=20171<br>count=%{y}<extra></extra>",
           "ids": [
            "PER"
           ],
           "legendgroup": "PER",
           "marker": {
            "color": "#ab63fa",
            "pattern": {
             "shape": ""
            }
           },
           "name": "PER",
           "offsetgroup": "PER",
           "orientation": "v",
           "showlegend": true,
           "textposition": "auto",
           "type": "bar",
           "x": [
            "PER"
           ],
           "xaxis": "x",
           "y": [
            1
           ],
           "yaxis": "y"
          },
          {
           "alignmentgroup": "True",
           "hovertemplate": "pais=%{x}<br>registration_year_month=20171<br>count=%{y}<extra></extra>",
           "ids": [
            "CHL"
           ],
           "legendgroup": "CHL",
           "marker": {
            "color": "#FF6692",
            "pattern": {
             "shape": ""
            }
           },
           "name": "CHL",
           "offsetgroup": "CHL",
           "orientation": "v",
           "showlegend": true,
           "textposition": "auto",
           "type": "bar",
           "x": [
            "CHL"
           ],
           "xaxis": "x",
           "y": [
            1
           ],
           "yaxis": "y"
          },
          {
           "alignmentgroup": "True",
           "hovertemplate": "pais=%{x}<br>registration_year_month=20171<br>count=%{y}<extra></extra>",
           "ids": [
            "CRI"
           ],
           "legendgroup": "CRI",
           "marker": {
            "color": "#FECB52",
            "pattern": {
             "shape": ""
            }
           },
           "name": "CRI",
           "offsetgroup": "CRI",
           "orientation": "v",
           "showlegend": true,
           "textposition": "auto",
           "type": "bar",
           "x": [
            "CRI"
           ],
           "xaxis": "x",
           "y": [
            1
           ],
           "yaxis": "y"
          },
          {
           "alignmentgroup": "True",
           "hovertemplate": "pais=%{x}<br>registration_year_month=20171<br>count=%{y}<extra></extra>",
           "ids": [
            "AGO"
           ],
           "legendgroup": "AGO",
           "marker": {
            "color": "#FF6692",
            "pattern": {
             "shape": ""
            }
           },
           "name": "AGO",
           "offsetgroup": "AGO",
           "orientation": "v",
           "showlegend": true,
           "textposition": "auto",
           "type": "bar",
           "x": [
            "AGO"
           ],
           "xaxis": "x",
           "y": [
            1
           ],
           "yaxis": "y"
          }
         ],
         "name": "20171"
        },
        {
         "data": [
          {
           "alignmentgroup": "True",
           "hovertemplate": "pais=%{x}<br>registration_year_month=201710<br>count=%{y}<extra></extra>",
           "ids": [
            "ESP"
           ],
           "legendgroup": "ESP",
           "marker": {
            "color": "#EF553B",
            "pattern": {
             "shape": ""
            }
           },
           "name": "ESP",
           "offsetgroup": "ESP",
           "orientation": "v",
           "showlegend": true,
           "textposition": "auto",
           "type": "bar",
           "x": [
            "ESP"
           ],
           "xaxis": "x",
           "y": [
            172
           ],
           "yaxis": "y"
          },
          {
           "alignmentgroup": "True",
           "hovertemplate": "pais=%{x}<br>registration_year_month=201710<br>count=%{y}<extra></extra>",
           "ids": [
            "MEX"
           ],
           "legendgroup": "MEX",
           "marker": {
            "color": "#00cc96",
            "pattern": {
             "shape": ""
            }
           },
           "name": "MEX",
           "offsetgroup": "MEX",
           "orientation": "v",
           "showlegend": true,
           "textposition": "auto",
           "type": "bar",
           "x": [
            "MEX"
           ],
           "xaxis": "x",
           "y": [
            8
           ],
           "yaxis": "y"
          },
          {
           "alignmentgroup": "True",
           "hovertemplate": "pais=%{x}<br>registration_year_month=201710<br>count=%{y}<extra></extra>",
           "ids": [
            "PER"
           ],
           "legendgroup": "PER",
           "marker": {
            "color": "#ab63fa",
            "pattern": {
             "shape": ""
            }
           },
           "name": "PER",
           "offsetgroup": "PER",
           "orientation": "v",
           "showlegend": true,
           "textposition": "auto",
           "type": "bar",
           "x": [
            "PER"
           ],
           "xaxis": "x",
           "y": [
            2
           ],
           "yaxis": "y"
          },
          {
           "alignmentgroup": "True",
           "hovertemplate": "pais=%{x}<br>registration_year_month=201710<br>count=%{y}<extra></extra>",
           "ids": [
            "CHL"
           ],
           "legendgroup": "CHL",
           "marker": {
            "color": "#FF6692",
            "pattern": {
             "shape": ""
            }
           },
           "name": "CHL",
           "offsetgroup": "CHL",
           "orientation": "v",
           "showlegend": true,
           "textposition": "auto",
           "type": "bar",
           "x": [
            "CHL"
           ],
           "xaxis": "x",
           "y": [
            6
           ],
           "yaxis": "y"
          },
          {
           "alignmentgroup": "True",
           "hovertemplate": "pais=%{x}<br>registration_year_month=201710<br>count=%{y}<extra></extra>",
           "ids": [
            "COL"
           ],
           "legendgroup": "COL",
           "marker": {
            "color": "#B6E880",
            "pattern": {
             "shape": ""
            }
           },
           "name": "COL",
           "offsetgroup": "COL",
           "orientation": "v",
           "showlegend": true,
           "textposition": "auto",
           "type": "bar",
           "x": [
            "COL"
           ],
           "xaxis": "x",
           "y": [
            3
           ],
           "yaxis": "y"
          },
          {
           "alignmentgroup": "True",
           "hovertemplate": "pais=%{x}<br>registration_year_month=201710<br>count=%{y}<extra></extra>",
           "ids": [
            "ARG"
           ],
           "legendgroup": "ARG",
           "marker": {
            "color": "#FECB52",
            "pattern": {
             "shape": ""
            }
           },
           "name": "ARG",
           "offsetgroup": "ARG",
           "orientation": "v",
           "showlegend": true,
           "textposition": "auto",
           "type": "bar",
           "x": [
            "ARG"
           ],
           "xaxis": "x",
           "y": [
            8
           ],
           "yaxis": "y"
          },
          {
           "alignmentgroup": "True",
           "hovertemplate": "pais=%{x}<br>registration_year_month=201710<br>count=%{y}<extra></extra>",
           "ids": [
            "VEN"
           ],
           "legendgroup": "VEN",
           "marker": {
            "color": "#EF553B",
            "pattern": {
             "shape": ""
            }
           },
           "name": "VEN",
           "offsetgroup": "VEN",
           "orientation": "v",
           "showlegend": true,
           "textposition": "auto",
           "type": "bar",
           "x": [
            "VEN"
           ],
           "xaxis": "x",
           "y": [
            1
           ],
           "yaxis": "y"
          },
          {
           "alignmentgroup": "True",
           "hovertemplate": "pais=%{x}<br>registration_year_month=201710<br>count=%{y}<extra></extra>",
           "ids": [
            "CHN"
           ],
           "legendgroup": "CHN",
           "marker": {
            "color": "#FF6692",
            "pattern": {
             "shape": ""
            }
           },
           "name": "CHN",
           "offsetgroup": "CHN",
           "orientation": "v",
           "showlegend": true,
           "textposition": "auto",
           "type": "bar",
           "x": [
            "CHN"
           ],
           "xaxis": "x",
           "y": [
            1
           ],
           "yaxis": "y"
          },
          {
           "alignmentgroup": "True",
           "hovertemplate": "pais=%{x}<br>registration_year_month=201710<br>count=%{y}<extra></extra>",
           "ids": [
            "ECU"
           ],
           "legendgroup": "ECU",
           "marker": {
            "color": "#B6E880",
            "pattern": {
             "shape": ""
            }
           },
           "name": "ECU",
           "offsetgroup": "ECU",
           "orientation": "v",
           "showlegend": true,
           "textposition": "auto",
           "type": "bar",
           "x": [
            "ECU"
           ],
           "xaxis": "x",
           "y": [
            1
           ],
           "yaxis": "y"
          },
          {
           "alignmentgroup": "True",
           "hovertemplate": "pais=%{x}<br>registration_year_month=201710<br>count=%{y}<extra></extra>",
           "ids": [
            "CRI"
           ],
           "legendgroup": "CRI",
           "marker": {
            "color": "#FECB52",
            "pattern": {
             "shape": ""
            }
           },
           "name": "CRI",
           "offsetgroup": "CRI",
           "orientation": "v",
           "showlegend": true,
           "textposition": "auto",
           "type": "bar",
           "x": [
            "CRI"
           ],
           "xaxis": "x",
           "y": [
            2
           ],
           "yaxis": "y"
          },
          {
           "alignmentgroup": "True",
           "hovertemplate": "pais=%{x}<br>registration_year_month=201710<br>count=%{y}<extra></extra>",
           "ids": [
            "PRY"
           ],
           "legendgroup": "PRY",
           "marker": {
            "color": "#19d3f3",
            "pattern": {
             "shape": ""
            }
           },
           "name": "PRY",
           "offsetgroup": "PRY",
           "orientation": "v",
           "showlegend": true,
           "textposition": "auto",
           "type": "bar",
           "x": [
            "PRY"
           ],
           "xaxis": "x",
           "y": [
            1
           ],
           "yaxis": "y"
          },
          {
           "alignmentgroup": "True",
           "hovertemplate": "pais=%{x}<br>registration_year_month=201710<br>count=%{y}<extra></extra>",
           "ids": [
            "HND"
           ],
           "legendgroup": "HND",
           "marker": {
            "color": "#B6E880",
            "pattern": {
             "shape": ""
            }
           },
           "name": "HND",
           "offsetgroup": "HND",
           "orientation": "v",
           "showlegend": true,
           "textposition": "auto",
           "type": "bar",
           "x": [
            "HND"
           ],
           "xaxis": "x",
           "y": [
            1
           ],
           "yaxis": "y"
          },
          {
           "alignmentgroup": "True",
           "hovertemplate": "pais=%{x}<br>registration_year_month=201710<br>count=%{y}<extra></extra>",
           "ids": [
            "ROU"
           ],
           "legendgroup": "ROU",
           "marker": {
            "color": "#FF97FF",
            "pattern": {
             "shape": ""
            }
           },
           "name": "ROU",
           "offsetgroup": "ROU",
           "orientation": "v",
           "showlegend": true,
           "textposition": "auto",
           "type": "bar",
           "x": [
            "ROU"
           ],
           "xaxis": "x",
           "y": [
            1
           ],
           "yaxis": "y"
          },
          {
           "alignmentgroup": "True",
           "hovertemplate": "pais=%{x}<br>registration_year_month=201710<br>count=%{y}<extra></extra>",
           "ids": [
            "SLV"
           ],
           "legendgroup": "SLV",
           "marker": {
            "color": "#FECB52",
            "pattern": {
             "shape": ""
            }
           },
           "name": "SLV",
           "offsetgroup": "SLV",
           "orientation": "v",
           "showlegend": true,
           "textposition": "auto",
           "type": "bar",
           "x": [
            "SLV"
           ],
           "xaxis": "x",
           "y": [
            1
           ],
           "yaxis": "y"
          }
         ],
         "name": "201710"
        },
        {
         "data": [
          {
           "alignmentgroup": "True",
           "hovertemplate": "pais=%{x}<br>registration_year_month=201711<br>count=%{y}<extra></extra>",
           "ids": [
            "DOM"
           ],
           "legendgroup": "DOM",
           "marker": {
            "color": "#636efa",
            "pattern": {
             "shape": ""
            }
           },
           "name": "DOM",
           "offsetgroup": "DOM",
           "orientation": "v",
           "showlegend": true,
           "textposition": "auto",
           "type": "bar",
           "x": [
            "DOM"
           ],
           "xaxis": "x",
           "y": [
            1
           ],
           "yaxis": "y"
          },
          {
           "alignmentgroup": "True",
           "hovertemplate": "pais=%{x}<br>registration_year_month=201711<br>count=%{y}<extra></extra>",
           "ids": [
            "ESP"
           ],
           "legendgroup": "ESP",
           "marker": {
            "color": "#EF553B",
            "pattern": {
             "shape": ""
            }
           },
           "name": "ESP",
           "offsetgroup": "ESP",
           "orientation": "v",
           "showlegend": true,
           "textposition": "auto",
           "type": "bar",
           "x": [
            "ESP"
           ],
           "xaxis": "x",
           "y": [
            267
           ],
           "yaxis": "y"
          },
          {
           "alignmentgroup": "True",
           "hovertemplate": "pais=%{x}<br>registration_year_month=201711<br>count=%{y}<extra></extra>",
           "ids": [
            "MEX"
           ],
           "legendgroup": "MEX",
           "marker": {
            "color": "#00cc96",
            "pattern": {
             "shape": ""
            }
           },
           "name": "MEX",
           "offsetgroup": "MEX",
           "orientation": "v",
           "showlegend": true,
           "textposition": "auto",
           "type": "bar",
           "x": [
            "MEX"
           ],
           "xaxis": "x",
           "y": [
            18
           ],
           "yaxis": "y"
          },
          {
           "alignmentgroup": "True",
           "hovertemplate": "pais=%{x}<br>registration_year_month=201711<br>count=%{y}<extra></extra>",
           "ids": [
            "PER"
           ],
           "legendgroup": "PER",
           "marker": {
            "color": "#ab63fa",
            "pattern": {
             "shape": ""
            }
           },
           "name": "PER",
           "offsetgroup": "PER",
           "orientation": "v",
           "showlegend": true,
           "textposition": "auto",
           "type": "bar",
           "x": [
            "PER"
           ],
           "xaxis": "x",
           "y": [
            8
           ],
           "yaxis": "y"
          },
          {
           "alignmentgroup": "True",
           "hovertemplate": "pais=%{x}<br>registration_year_month=201711<br>count=%{y}<extra></extra>",
           "ids": [
            "CHL"
           ],
           "legendgroup": "CHL",
           "marker": {
            "color": "#FF6692",
            "pattern": {
             "shape": ""
            }
           },
           "name": "CHL",
           "offsetgroup": "CHL",
           "orientation": "v",
           "showlegend": true,
           "textposition": "auto",
           "type": "bar",
           "x": [
            "CHL"
           ],
           "xaxis": "x",
           "y": [
            3
           ],
           "yaxis": "y"
          },
          {
           "alignmentgroup": "True",
           "hovertemplate": "pais=%{x}<br>registration_year_month=201711<br>count=%{y}<extra></extra>",
           "ids": [
            "COL"
           ],
           "legendgroup": "COL",
           "marker": {
            "color": "#B6E880",
            "pattern": {
             "shape": ""
            }
           },
           "name": "COL",
           "offsetgroup": "COL",
           "orientation": "v",
           "showlegend": true,
           "textposition": "auto",
           "type": "bar",
           "x": [
            "COL"
           ],
           "xaxis": "x",
           "y": [
            3
           ],
           "yaxis": "y"
          },
          {
           "alignmentgroup": "True",
           "hovertemplate": "pais=%{x}<br>registration_year_month=201711<br>count=%{y}<extra></extra>",
           "ids": [
            "GTM"
           ],
           "legendgroup": "GTM",
           "marker": {
            "color": "#FF97FF",
            "pattern": {
             "shape": ""
            }
           },
           "name": "GTM",
           "offsetgroup": "GTM",
           "orientation": "v",
           "showlegend": true,
           "textposition": "auto",
           "type": "bar",
           "x": [
            "GTM"
           ],
           "xaxis": "x",
           "y": [
            1
           ],
           "yaxis": "y"
          },
          {
           "alignmentgroup": "True",
           "hovertemplate": "pais=%{x}<br>registration_year_month=201711<br>count=%{y}<extra></extra>",
           "ids": [
            "ARG"
           ],
           "legendgroup": "ARG",
           "marker": {
            "color": "#FECB52",
            "pattern": {
             "shape": ""
            }
           },
           "name": "ARG",
           "offsetgroup": "ARG",
           "orientation": "v",
           "showlegend": true,
           "textposition": "auto",
           "type": "bar",
           "x": [
            "ARG"
           ],
           "xaxis": "x",
           "y": [
            2
           ],
           "yaxis": "y"
          },
          {
           "alignmentgroup": "True",
           "hovertemplate": "pais=%{x}<br>registration_year_month=201711<br>count=%{y}<extra></extra>",
           "ids": [
            "VEN"
           ],
           "legendgroup": "VEN",
           "marker": {
            "color": "#EF553B",
            "pattern": {
             "shape": ""
            }
           },
           "name": "VEN",
           "offsetgroup": "VEN",
           "orientation": "v",
           "showlegend": true,
           "textposition": "auto",
           "type": "bar",
           "x": [
            "VEN"
           ],
           "xaxis": "x",
           "y": [
            1
           ],
           "yaxis": "y"
          },
          {
           "alignmentgroup": "True",
           "hovertemplate": "pais=%{x}<br>registration_year_month=201711<br>count=%{y}<extra></extra>",
           "ids": [
            "FIN"
           ],
           "legendgroup": "FIN",
           "marker": {
            "color": "#FFA15A",
            "pattern": {
             "shape": ""
            }
           },
           "name": "FIN",
           "offsetgroup": "FIN",
           "orientation": "v",
           "showlegend": true,
           "textposition": "auto",
           "type": "bar",
           "x": [
            "FIN"
           ],
           "xaxis": "x",
           "y": [
            2
           ],
           "yaxis": "y"
          },
          {
           "alignmentgroup": "True",
           "hovertemplate": "pais=%{x}<br>registration_year_month=201711<br>count=%{y}<extra></extra>",
           "ids": [
            "ECU"
           ],
           "legendgroup": "ECU",
           "marker": {
            "color": "#B6E880",
            "pattern": {
             "shape": ""
            }
           },
           "name": "ECU",
           "offsetgroup": "ECU",
           "orientation": "v",
           "showlegend": true,
           "textposition": "auto",
           "type": "bar",
           "x": [
            "ECU"
           ],
           "xaxis": "x",
           "y": [
            1
           ],
           "yaxis": "y"
          },
          {
           "alignmentgroup": "True",
           "hovertemplate": "pais=%{x}<br>registration_year_month=201711<br>count=%{y}<extra></extra>",
           "ids": [
            "USA"
           ],
           "legendgroup": "USA",
           "marker": {
            "color": "#FF97FF",
            "pattern": {
             "shape": ""
            }
           },
           "name": "USA",
           "offsetgroup": "USA",
           "orientation": "v",
           "showlegend": true,
           "textposition": "auto",
           "type": "bar",
           "x": [
            "USA"
           ],
           "xaxis": "x",
           "y": [
            1
           ],
           "yaxis": "y"
          },
          {
           "alignmentgroup": "True",
           "hovertemplate": "pais=%{x}<br>registration_year_month=201711<br>count=%{y}<extra></extra>",
           "ids": [
            "BOL"
           ],
           "legendgroup": "BOL",
           "marker": {
            "color": "#636efa",
            "pattern": {
             "shape": ""
            }
           },
           "name": "BOL",
           "offsetgroup": "BOL",
           "orientation": "v",
           "showlegend": true,
           "textposition": "auto",
           "type": "bar",
           "x": [
            "BOL"
           ],
           "xaxis": "x",
           "y": [
            1
           ],
           "yaxis": "y"
          }
         ],
         "name": "201711"
        },
        {
         "data": [
          {
           "alignmentgroup": "True",
           "hovertemplate": "pais=%{x}<br>registration_year_month=201712<br>count=%{y}<extra></extra>",
           "ids": [
            "DOM"
           ],
           "legendgroup": "DOM",
           "marker": {
            "color": "#636efa",
            "pattern": {
             "shape": ""
            }
           },
           "name": "DOM",
           "offsetgroup": "DOM",
           "orientation": "v",
           "showlegend": true,
           "textposition": "auto",
           "type": "bar",
           "x": [
            "DOM"
           ],
           "xaxis": "x",
           "y": [
            1
           ],
           "yaxis": "y"
          },
          {
           "alignmentgroup": "True",
           "hovertemplate": "pais=%{x}<br>registration_year_month=201712<br>count=%{y}<extra></extra>",
           "ids": [
            "ESP"
           ],
           "legendgroup": "ESP",
           "marker": {
            "color": "#EF553B",
            "pattern": {
             "shape": ""
            }
           },
           "name": "ESP",
           "offsetgroup": "ESP",
           "orientation": "v",
           "showlegend": true,
           "textposition": "auto",
           "type": "bar",
           "x": [
            "ESP"
           ],
           "xaxis": "x",
           "y": [
            29
           ],
           "yaxis": "y"
          },
          {
           "alignmentgroup": "True",
           "hovertemplate": "pais=%{x}<br>registration_year_month=201712<br>count=%{y}<extra></extra>",
           "ids": [
            "MEX"
           ],
           "legendgroup": "MEX",
           "marker": {
            "color": "#00cc96",
            "pattern": {
             "shape": ""
            }
           },
           "name": "MEX",
           "offsetgroup": "MEX",
           "orientation": "v",
           "showlegend": true,
           "textposition": "auto",
           "type": "bar",
           "x": [
            "MEX"
           ],
           "xaxis": "x",
           "y": [
            1
           ],
           "yaxis": "y"
          },
          {
           "alignmentgroup": "True",
           "hovertemplate": "pais=%{x}<br>registration_year_month=201712<br>count=%{y}<extra></extra>",
           "ids": [
            "PER"
           ],
           "legendgroup": "PER",
           "marker": {
            "color": "#ab63fa",
            "pattern": {
             "shape": ""
            }
           },
           "name": "PER",
           "offsetgroup": "PER",
           "orientation": "v",
           "showlegend": true,
           "textposition": "auto",
           "type": "bar",
           "x": [
            "PER"
           ],
           "xaxis": "x",
           "y": [
            4
           ],
           "yaxis": "y"
          },
          {
           "alignmentgroup": "True",
           "hovertemplate": "pais=%{x}<br>registration_year_month=201712<br>count=%{y}<extra></extra>",
           "ids": [
            "CHL"
           ],
           "legendgroup": "CHL",
           "marker": {
            "color": "#FF6692",
            "pattern": {
             "shape": ""
            }
           },
           "name": "CHL",
           "offsetgroup": "CHL",
           "orientation": "v",
           "showlegend": true,
           "textposition": "auto",
           "type": "bar",
           "x": [
            "CHL"
           ],
           "xaxis": "x",
           "y": [
            1
           ],
           "yaxis": "y"
          },
          {
           "alignmentgroup": "True",
           "hovertemplate": "pais=%{x}<br>registration_year_month=201712<br>count=%{y}<extra></extra>",
           "ids": [
            "COL"
           ],
           "legendgroup": "COL",
           "marker": {
            "color": "#B6E880",
            "pattern": {
             "shape": ""
            }
           },
           "name": "COL",
           "offsetgroup": "COL",
           "orientation": "v",
           "showlegend": true,
           "textposition": "auto",
           "type": "bar",
           "x": [
            "COL"
           ],
           "xaxis": "x",
           "y": [
            3
           ],
           "yaxis": "y"
          },
          {
           "alignmentgroup": "True",
           "hovertemplate": "pais=%{x}<br>registration_year_month=201712<br>count=%{y}<extra></extra>",
           "ids": [
            "GTM"
           ],
           "legendgroup": "GTM",
           "marker": {
            "color": "#FF97FF",
            "pattern": {
             "shape": ""
            }
           },
           "name": "GTM",
           "offsetgroup": "GTM",
           "orientation": "v",
           "showlegend": true,
           "textposition": "auto",
           "type": "bar",
           "x": [
            "GTM"
           ],
           "xaxis": "x",
           "y": [
            1
           ],
           "yaxis": "y"
          },
          {
           "alignmentgroup": "True",
           "hovertemplate": "pais=%{x}<br>registration_year_month=201712<br>count=%{y}<extra></extra>",
           "ids": [
            "ARG"
           ],
           "legendgroup": "ARG",
           "marker": {
            "color": "#FECB52",
            "pattern": {
             "shape": ""
            }
           },
           "name": "ARG",
           "offsetgroup": "ARG",
           "orientation": "v",
           "showlegend": true,
           "textposition": "auto",
           "type": "bar",
           "x": [
            "ARG"
           ],
           "xaxis": "x",
           "y": [
            7
           ],
           "yaxis": "y"
          },
          {
           "alignmentgroup": "True",
           "hovertemplate": "pais=%{x}<br>registration_year_month=201712<br>count=%{y}<extra></extra>",
           "ids": [
            "VEN"
           ],
           "legendgroup": "VEN",
           "marker": {
            "color": "#EF553B",
            "pattern": {
             "shape": ""
            }
           },
           "name": "VEN",
           "offsetgroup": "VEN",
           "orientation": "v",
           "showlegend": true,
           "textposition": "auto",
           "type": "bar",
           "x": [
            "VEN"
           ],
           "xaxis": "x",
           "y": [
            2
           ],
           "yaxis": "y"
          },
          {
           "alignmentgroup": "True",
           "hovertemplate": "pais=%{x}<br>registration_year_month=201712<br>count=%{y}<extra></extra>",
           "ids": [
            "PRY"
           ],
           "legendgroup": "PRY",
           "marker": {
            "color": "#19d3f3",
            "pattern": {
             "shape": ""
            }
           },
           "name": "PRY",
           "offsetgroup": "PRY",
           "orientation": "v",
           "showlegend": true,
           "textposition": "auto",
           "type": "bar",
           "x": [
            "PRY"
           ],
           "xaxis": "x",
           "y": [
            1
           ],
           "yaxis": "y"
          },
          {
           "alignmentgroup": "True",
           "hovertemplate": "pais=%{x}<br>registration_year_month=201712<br>count=%{y}<extra></extra>",
           "ids": [
            "HND"
           ],
           "legendgroup": "HND",
           "marker": {
            "color": "#B6E880",
            "pattern": {
             "shape": ""
            }
           },
           "name": "HND",
           "offsetgroup": "HND",
           "orientation": "v",
           "showlegend": true,
           "textposition": "auto",
           "type": "bar",
           "x": [
            "HND"
           ],
           "xaxis": "x",
           "y": [
            1
           ],
           "yaxis": "y"
          },
          {
           "alignmentgroup": "True",
           "hovertemplate": "pais=%{x}<br>registration_year_month=201712<br>count=%{y}<extra></extra>",
           "ids": [
            "SLV"
           ],
           "legendgroup": "SLV",
           "marker": {
            "color": "#FECB52",
            "pattern": {
             "shape": ""
            }
           },
           "name": "SLV",
           "offsetgroup": "SLV",
           "orientation": "v",
           "showlegend": true,
           "textposition": "auto",
           "type": "bar",
           "x": [
            "SLV"
           ],
           "xaxis": "x",
           "y": [
            1
           ],
           "yaxis": "y"
          },
          {
           "alignmentgroup": "True",
           "hovertemplate": "pais=%{x}<br>registration_year_month=201712<br>count=%{y}<extra></extra>",
           "ids": [
            "BOL"
           ],
           "legendgroup": "BOL",
           "marker": {
            "color": "#636efa",
            "pattern": {
             "shape": ""
            }
           },
           "name": "BOL",
           "offsetgroup": "BOL",
           "orientation": "v",
           "showlegend": true,
           "textposition": "auto",
           "type": "bar",
           "x": [
            "BOL"
           ],
           "xaxis": "x",
           "y": [
            1
           ],
           "yaxis": "y"
          },
          {
           "alignmentgroup": "True",
           "hovertemplate": "pais=%{x}<br>registration_year_month=201712<br>count=%{y}<extra></extra>",
           "ids": [
            "MAR"
           ],
           "legendgroup": "MAR",
           "marker": {
            "color": "#EF553B",
            "pattern": {
             "shape": ""
            }
           },
           "name": "MAR",
           "offsetgroup": "MAR",
           "orientation": "v",
           "showlegend": true,
           "textposition": "auto",
           "type": "bar",
           "x": [
            "MAR"
           ],
           "xaxis": "x",
           "y": [
            1
           ],
           "yaxis": "y"
          }
         ],
         "name": "201712"
        },
        {
         "data": [
          {
           "alignmentgroup": "True",
           "hovertemplate": "pais=%{x}<br>registration_year_month=20172<br>count=%{y}<extra></extra>",
           "ids": [
            "ESP"
           ],
           "legendgroup": "ESP",
           "marker": {
            "color": "#EF553B",
            "pattern": {
             "shape": ""
            }
           },
           "name": "ESP",
           "offsetgroup": "ESP",
           "orientation": "v",
           "showlegend": true,
           "textposition": "auto",
           "type": "bar",
           "x": [
            "ESP"
           ],
           "xaxis": "x",
           "y": [
            672
           ],
           "yaxis": "y"
          },
          {
           "alignmentgroup": "True",
           "hovertemplate": "pais=%{x}<br>registration_year_month=20172<br>count=%{y}<extra></extra>",
           "ids": [
            "MEX"
           ],
           "legendgroup": "MEX",
           "marker": {
            "color": "#00cc96",
            "pattern": {
             "shape": ""
            }
           },
           "name": "MEX",
           "offsetgroup": "MEX",
           "orientation": "v",
           "showlegend": true,
           "textposition": "auto",
           "type": "bar",
           "x": [
            "MEX"
           ],
           "xaxis": "x",
           "y": [
            44
           ],
           "yaxis": "y"
          },
          {
           "alignmentgroup": "True",
           "hovertemplate": "pais=%{x}<br>registration_year_month=20172<br>count=%{y}<extra></extra>",
           "ids": [
            "PER"
           ],
           "legendgroup": "PER",
           "marker": {
            "color": "#ab63fa",
            "pattern": {
             "shape": ""
            }
           },
           "name": "PER",
           "offsetgroup": "PER",
           "orientation": "v",
           "showlegend": true,
           "textposition": "auto",
           "type": "bar",
           "x": [
            "PER"
           ],
           "xaxis": "x",
           "y": [
            24
           ],
           "yaxis": "y"
          },
          {
           "alignmentgroup": "True",
           "hovertemplate": "pais=%{x}<br>registration_year_month=20172<br>count=%{y}<extra></extra>",
           "ids": [
            "CHL"
           ],
           "legendgroup": "CHL",
           "marker": {
            "color": "#FF6692",
            "pattern": {
             "shape": ""
            }
           },
           "name": "CHL",
           "offsetgroup": "CHL",
           "orientation": "v",
           "showlegend": true,
           "textposition": "auto",
           "type": "bar",
           "x": [
            "CHL"
           ],
           "xaxis": "x",
           "y": [
            3
           ],
           "yaxis": "y"
          },
          {
           "alignmentgroup": "True",
           "hovertemplate": "pais=%{x}<br>registration_year_month=20172<br>count=%{y}<extra></extra>",
           "ids": [
            "COL"
           ],
           "legendgroup": "COL",
           "marker": {
            "color": "#B6E880",
            "pattern": {
             "shape": ""
            }
           },
           "name": "COL",
           "offsetgroup": "COL",
           "orientation": "v",
           "showlegend": true,
           "textposition": "auto",
           "type": "bar",
           "x": [
            "COL"
           ],
           "xaxis": "x",
           "y": [
            5
           ],
           "yaxis": "y"
          },
          {
           "alignmentgroup": "True",
           "hovertemplate": "pais=%{x}<br>registration_year_month=20172<br>count=%{y}<extra></extra>",
           "ids": [
            "ARG"
           ],
           "legendgroup": "ARG",
           "marker": {
            "color": "#FECB52",
            "pattern": {
             "shape": ""
            }
           },
           "name": "ARG",
           "offsetgroup": "ARG",
           "orientation": "v",
           "showlegend": true,
           "textposition": "auto",
           "type": "bar",
           "x": [
            "ARG"
           ],
           "xaxis": "x",
           "y": [
            14
           ],
           "yaxis": "y"
          },
          {
           "alignmentgroup": "True",
           "hovertemplate": "pais=%{x}<br>registration_year_month=20172<br>count=%{y}<extra></extra>",
           "ids": [
            "FIN"
           ],
           "legendgroup": "FIN",
           "marker": {
            "color": "#FFA15A",
            "pattern": {
             "shape": ""
            }
           },
           "name": "FIN",
           "offsetgroup": "FIN",
           "orientation": "v",
           "showlegend": true,
           "textposition": "auto",
           "type": "bar",
           "x": [
            "FIN"
           ],
           "xaxis": "x",
           "y": [
            1
           ],
           "yaxis": "y"
          }
         ],
         "name": "20172"
        },
        {
         "data": [
          {
           "alignmentgroup": "True",
           "hovertemplate": "pais=%{x}<br>registration_year_month=20173<br>count=%{y}<extra></extra>",
           "ids": [
            "ESP"
           ],
           "legendgroup": "ESP",
           "marker": {
            "color": "#EF553B",
            "pattern": {
             "shape": ""
            }
           },
           "name": "ESP",
           "offsetgroup": "ESP",
           "orientation": "v",
           "showlegend": true,
           "textposition": "auto",
           "type": "bar",
           "x": [
            "ESP"
           ],
           "xaxis": "x",
           "y": [
            383
           ],
           "yaxis": "y"
          },
          {
           "alignmentgroup": "True",
           "hovertemplate": "pais=%{x}<br>registration_year_month=20173<br>count=%{y}<extra></extra>",
           "ids": [
            "MEX"
           ],
           "legendgroup": "MEX",
           "marker": {
            "color": "#00cc96",
            "pattern": {
             "shape": ""
            }
           },
           "name": "MEX",
           "offsetgroup": "MEX",
           "orientation": "v",
           "showlegend": true,
           "textposition": "auto",
           "type": "bar",
           "x": [
            "MEX"
           ],
           "xaxis": "x",
           "y": [
            81
           ],
           "yaxis": "y"
          },
          {
           "alignmentgroup": "True",
           "hovertemplate": "pais=%{x}<br>registration_year_month=20173<br>count=%{y}<extra></extra>",
           "ids": [
            "PER"
           ],
           "legendgroup": "PER",
           "marker": {
            "color": "#ab63fa",
            "pattern": {
             "shape": ""
            }
           },
           "name": "PER",
           "offsetgroup": "PER",
           "orientation": "v",
           "showlegend": true,
           "textposition": "auto",
           "type": "bar",
           "x": [
            "PER"
           ],
           "xaxis": "x",
           "y": [
            46
           ],
           "yaxis": "y"
          },
          {
           "alignmentgroup": "True",
           "hovertemplate": "pais=%{x}<br>registration_year_month=20173<br>count=%{y}<extra></extra>",
           "ids": [
            "CHL"
           ],
           "legendgroup": "CHL",
           "marker": {
            "color": "#FF6692",
            "pattern": {
             "shape": ""
            }
           },
           "name": "CHL",
           "offsetgroup": "CHL",
           "orientation": "v",
           "showlegend": true,
           "textposition": "auto",
           "type": "bar",
           "x": [
            "CHL"
           ],
           "xaxis": "x",
           "y": [
            1
           ],
           "yaxis": "y"
          },
          {
           "alignmentgroup": "True",
           "hovertemplate": "pais=%{x}<br>registration_year_month=20173<br>count=%{y}<extra></extra>",
           "ids": [
            "COL"
           ],
           "legendgroup": "COL",
           "marker": {
            "color": "#B6E880",
            "pattern": {
             "shape": ""
            }
           },
           "name": "COL",
           "offsetgroup": "COL",
           "orientation": "v",
           "showlegend": true,
           "textposition": "auto",
           "type": "bar",
           "x": [
            "COL"
           ],
           "xaxis": "x",
           "y": [
            29
           ],
           "yaxis": "y"
          },
          {
           "alignmentgroup": "True",
           "hovertemplate": "pais=%{x}<br>registration_year_month=20173<br>count=%{y}<extra></extra>",
           "ids": [
            "ARG"
           ],
           "legendgroup": "ARG",
           "marker": {
            "color": "#FECB52",
            "pattern": {
             "shape": ""
            }
           },
           "name": "ARG",
           "offsetgroup": "ARG",
           "orientation": "v",
           "showlegend": true,
           "textposition": "auto",
           "type": "bar",
           "x": [
            "ARG"
           ],
           "xaxis": "x",
           "y": [
            22
           ],
           "yaxis": "y"
          },
          {
           "alignmentgroup": "True",
           "hovertemplate": "pais=%{x}<br>registration_year_month=20173<br>count=%{y}<extra></extra>",
           "ids": [
            "VEN"
           ],
           "legendgroup": "VEN",
           "marker": {
            "color": "#EF553B",
            "pattern": {
             "shape": ""
            }
           },
           "name": "VEN",
           "offsetgroup": "VEN",
           "orientation": "v",
           "showlegend": true,
           "textposition": "auto",
           "type": "bar",
           "x": [
            "VEN"
           ],
           "xaxis": "x",
           "y": [
            1
           ],
           "yaxis": "y"
          },
          {
           "alignmentgroup": "True",
           "hovertemplate": "pais=%{x}<br>registration_year_month=20173<br>count=%{y}<extra></extra>",
           "ids": [
            "FIN"
           ],
           "legendgroup": "FIN",
           "marker": {
            "color": "#FFA15A",
            "pattern": {
             "shape": ""
            }
           },
           "name": "FIN",
           "offsetgroup": "FIN",
           "orientation": "v",
           "showlegend": true,
           "textposition": "auto",
           "type": "bar",
           "x": [
            "FIN"
           ],
           "xaxis": "x",
           "y": [
            1
           ],
           "yaxis": "y"
          },
          {
           "alignmentgroup": "True",
           "hovertemplate": "pais=%{x}<br>registration_year_month=20173<br>count=%{y}<extra></extra>",
           "ids": [
            "USA"
           ],
           "legendgroup": "USA",
           "marker": {
            "color": "#FF97FF",
            "pattern": {
             "shape": ""
            }
           },
           "name": "USA",
           "offsetgroup": "USA",
           "orientation": "v",
           "showlegend": true,
           "textposition": "auto",
           "type": "bar",
           "x": [
            "USA"
           ],
           "xaxis": "x",
           "y": [
            1
           ],
           "yaxis": "y"
          },
          {
           "alignmentgroup": "True",
           "hovertemplate": "pais=%{x}<br>registration_year_month=20173<br>count=%{y}<extra></extra>",
           "ids": [
            "CRI"
           ],
           "legendgroup": "CRI",
           "marker": {
            "color": "#FECB52",
            "pattern": {
             "shape": ""
            }
           },
           "name": "CRI",
           "offsetgroup": "CRI",
           "orientation": "v",
           "showlegend": true,
           "textposition": "auto",
           "type": "bar",
           "x": [
            "CRI"
           ],
           "xaxis": "x",
           "y": [
            1
           ],
           "yaxis": "y"
          },
          {
           "alignmentgroup": "True",
           "hovertemplate": "pais=%{x}<br>registration_year_month=20173<br>count=%{y}<extra></extra>",
           "ids": [
            "NIC"
           ],
           "legendgroup": "NIC",
           "marker": {
            "color": "#00cc96",
            "pattern": {
             "shape": ""
            }
           },
           "name": "NIC",
           "offsetgroup": "NIC",
           "orientation": "v",
           "showlegend": true,
           "textposition": "auto",
           "type": "bar",
           "x": [
            "NIC"
           ],
           "xaxis": "x",
           "y": [
            1
           ],
           "yaxis": "y"
          }
         ],
         "name": "20173"
        },
        {
         "data": [
          {
           "alignmentgroup": "True",
           "hovertemplate": "pais=%{x}<br>registration_year_month=20174<br>count=%{y}<extra></extra>",
           "ids": [
            "DOM"
           ],
           "legendgroup": "DOM",
           "marker": {
            "color": "#636efa",
            "pattern": {
             "shape": ""
            }
           },
           "name": "DOM",
           "offsetgroup": "DOM",
           "orientation": "v",
           "showlegend": true,
           "textposition": "auto",
           "type": "bar",
           "x": [
            "DOM"
           ],
           "xaxis": "x",
           "y": [
            3
           ],
           "yaxis": "y"
          },
          {
           "alignmentgroup": "True",
           "hovertemplate": "pais=%{x}<br>registration_year_month=20174<br>count=%{y}<extra></extra>",
           "ids": [
            "ESP"
           ],
           "legendgroup": "ESP",
           "marker": {
            "color": "#EF553B",
            "pattern": {
             "shape": ""
            }
           },
           "name": "ESP",
           "offsetgroup": "ESP",
           "orientation": "v",
           "showlegend": true,
           "textposition": "auto",
           "type": "bar",
           "x": [
            "ESP"
           ],
           "xaxis": "x",
           "y": [
            60
           ],
           "yaxis": "y"
          },
          {
           "alignmentgroup": "True",
           "hovertemplate": "pais=%{x}<br>registration_year_month=20174<br>count=%{y}<extra></extra>",
           "ids": [
            "MEX"
           ],
           "legendgroup": "MEX",
           "marker": {
            "color": "#00cc96",
            "pattern": {
             "shape": ""
            }
           },
           "name": "MEX",
           "offsetgroup": "MEX",
           "orientation": "v",
           "showlegend": true,
           "textposition": "auto",
           "type": "bar",
           "x": [
            "MEX"
           ],
           "xaxis": "x",
           "y": [
            16
           ],
           "yaxis": "y"
          },
          {
           "alignmentgroup": "True",
           "hovertemplate": "pais=%{x}<br>registration_year_month=20174<br>count=%{y}<extra></extra>",
           "ids": [
            "PER"
           ],
           "legendgroup": "PER",
           "marker": {
            "color": "#ab63fa",
            "pattern": {
             "shape": ""
            }
           },
           "name": "PER",
           "offsetgroup": "PER",
           "orientation": "v",
           "showlegend": true,
           "textposition": "auto",
           "type": "bar",
           "x": [
            "PER"
           ],
           "xaxis": "x",
           "y": [
            6
           ],
           "yaxis": "y"
          },
          {
           "alignmentgroup": "True",
           "hovertemplate": "pais=%{x}<br>registration_year_month=20174<br>count=%{y}<extra></extra>",
           "ids": [
            "CHL"
           ],
           "legendgroup": "CHL",
           "marker": {
            "color": "#FF6692",
            "pattern": {
             "shape": ""
            }
           },
           "name": "CHL",
           "offsetgroup": "CHL",
           "orientation": "v",
           "showlegend": true,
           "textposition": "auto",
           "type": "bar",
           "x": [
            "CHL"
           ],
           "xaxis": "x",
           "y": [
            3
           ],
           "yaxis": "y"
          },
          {
           "alignmentgroup": "True",
           "hovertemplate": "pais=%{x}<br>registration_year_month=20174<br>count=%{y}<extra></extra>",
           "ids": [
            "COL"
           ],
           "legendgroup": "COL",
           "marker": {
            "color": "#B6E880",
            "pattern": {
             "shape": ""
            }
           },
           "name": "COL",
           "offsetgroup": "COL",
           "orientation": "v",
           "showlegend": true,
           "textposition": "auto",
           "type": "bar",
           "x": [
            "COL"
           ],
           "xaxis": "x",
           "y": [
            3
           ],
           "yaxis": "y"
          },
          {
           "alignmentgroup": "True",
           "hovertemplate": "pais=%{x}<br>registration_year_month=20174<br>count=%{y}<extra></extra>",
           "ids": [
            "ARG"
           ],
           "legendgroup": "ARG",
           "marker": {
            "color": "#FECB52",
            "pattern": {
             "shape": ""
            }
           },
           "name": "ARG",
           "offsetgroup": "ARG",
           "orientation": "v",
           "showlegend": true,
           "textposition": "auto",
           "type": "bar",
           "x": [
            "ARG"
           ],
           "xaxis": "x",
           "y": [
            3
           ],
           "yaxis": "y"
          },
          {
           "alignmentgroup": "True",
           "hovertemplate": "pais=%{x}<br>registration_year_month=20174<br>count=%{y}<extra></extra>",
           "ids": [
            "URY"
           ],
           "legendgroup": "URY",
           "marker": {
            "color": "#636efa",
            "pattern": {
             "shape": ""
            }
           },
           "name": "URY",
           "offsetgroup": "URY",
           "orientation": "v",
           "showlegend": true,
           "textposition": "auto",
           "type": "bar",
           "x": [
            "URY"
           ],
           "xaxis": "x",
           "y": [
            1
           ],
           "yaxis": "y"
          },
          {
           "alignmentgroup": "True",
           "hovertemplate": "pais=%{x}<br>registration_year_month=20174<br>count=%{y}<extra></extra>",
           "ids": [
            "VEN"
           ],
           "legendgroup": "VEN",
           "marker": {
            "color": "#EF553B",
            "pattern": {
             "shape": ""
            }
           },
           "name": "VEN",
           "offsetgroup": "VEN",
           "orientation": "v",
           "showlegend": true,
           "textposition": "auto",
           "type": "bar",
           "x": [
            "VEN"
           ],
           "xaxis": "x",
           "y": [
            1
           ],
           "yaxis": "y"
          },
          {
           "alignmentgroup": "True",
           "hovertemplate": "pais=%{x}<br>registration_year_month=20174<br>count=%{y}<extra></extra>",
           "ids": [
            "ECU"
           ],
           "legendgroup": "ECU",
           "marker": {
            "color": "#B6E880",
            "pattern": {
             "shape": ""
            }
           },
           "name": "ECU",
           "offsetgroup": "ECU",
           "orientation": "v",
           "showlegend": true,
           "textposition": "auto",
           "type": "bar",
           "x": [
            "ECU"
           ],
           "xaxis": "x",
           "y": [
            3
           ],
           "yaxis": "y"
          },
          {
           "alignmentgroup": "True",
           "hovertemplate": "pais=%{x}<br>registration_year_month=20174<br>count=%{y}<extra></extra>",
           "ids": [
            "CRI"
           ],
           "legendgroup": "CRI",
           "marker": {
            "color": "#FECB52",
            "pattern": {
             "shape": ""
            }
           },
           "name": "CRI",
           "offsetgroup": "CRI",
           "orientation": "v",
           "showlegend": true,
           "textposition": "auto",
           "type": "bar",
           "x": [
            "CRI"
           ],
           "xaxis": "x",
           "y": [
            2
           ],
           "yaxis": "y"
          },
          {
           "alignmentgroup": "True",
           "hovertemplate": "pais=%{x}<br>registration_year_month=20174<br>count=%{y}<extra></extra>",
           "ids": [
            "DEU"
           ],
           "legendgroup": "DEU",
           "marker": {
            "color": "#ab63fa",
            "pattern": {
             "shape": ""
            }
           },
           "name": "DEU",
           "offsetgroup": "DEU",
           "orientation": "v",
           "showlegend": true,
           "textposition": "auto",
           "type": "bar",
           "x": [
            "DEU"
           ],
           "xaxis": "x",
           "y": [
            1
           ],
           "yaxis": "y"
          }
         ],
         "name": "20174"
        },
        {
         "data": [
          {
           "alignmentgroup": "True",
           "hovertemplate": "pais=%{x}<br>registration_year_month=20175<br>count=%{y}<extra></extra>",
           "ids": [
            "ESP"
           ],
           "legendgroup": "ESP",
           "marker": {
            "color": "#EF553B",
            "pattern": {
             "shape": ""
            }
           },
           "name": "ESP",
           "offsetgroup": "ESP",
           "orientation": "v",
           "showlegend": true,
           "textposition": "auto",
           "type": "bar",
           "x": [
            "ESP"
           ],
           "xaxis": "x",
           "y": [
            80
           ],
           "yaxis": "y"
          },
          {
           "alignmentgroup": "True",
           "hovertemplate": "pais=%{x}<br>registration_year_month=20175<br>count=%{y}<extra></extra>",
           "ids": [
            "MEX"
           ],
           "legendgroup": "MEX",
           "marker": {
            "color": "#00cc96",
            "pattern": {
             "shape": ""
            }
           },
           "name": "MEX",
           "offsetgroup": "MEX",
           "orientation": "v",
           "showlegend": true,
           "textposition": "auto",
           "type": "bar",
           "x": [
            "MEX"
           ],
           "xaxis": "x",
           "y": [
            35
           ],
           "yaxis": "y"
          },
          {
           "alignmentgroup": "True",
           "hovertemplate": "pais=%{x}<br>registration_year_month=20175<br>count=%{y}<extra></extra>",
           "ids": [
            "PER"
           ],
           "legendgroup": "PER",
           "marker": {
            "color": "#ab63fa",
            "pattern": {
             "shape": ""
            }
           },
           "name": "PER",
           "offsetgroup": "PER",
           "orientation": "v",
           "showlegend": true,
           "textposition": "auto",
           "type": "bar",
           "x": [
            "PER"
           ],
           "xaxis": "x",
           "y": [
            5
           ],
           "yaxis": "y"
          },
          {
           "alignmentgroup": "True",
           "hovertemplate": "pais=%{x}<br>registration_year_month=20175<br>count=%{y}<extra></extra>",
           "ids": [
            "CHL"
           ],
           "legendgroup": "CHL",
           "marker": {
            "color": "#FF6692",
            "pattern": {
             "shape": ""
            }
           },
           "name": "CHL",
           "offsetgroup": "CHL",
           "orientation": "v",
           "showlegend": true,
           "textposition": "auto",
           "type": "bar",
           "x": [
            "CHL"
           ],
           "xaxis": "x",
           "y": [
            2
           ],
           "yaxis": "y"
          },
          {
           "alignmentgroup": "True",
           "hovertemplate": "pais=%{x}<br>registration_year_month=20175<br>count=%{y}<extra></extra>",
           "ids": [
            "COL"
           ],
           "legendgroup": "COL",
           "marker": {
            "color": "#B6E880",
            "pattern": {
             "shape": ""
            }
           },
           "name": "COL",
           "offsetgroup": "COL",
           "orientation": "v",
           "showlegend": true,
           "textposition": "auto",
           "type": "bar",
           "x": [
            "COL"
           ],
           "xaxis": "x",
           "y": [
            14
           ],
           "yaxis": "y"
          },
          {
           "alignmentgroup": "True",
           "hovertemplate": "pais=%{x}<br>registration_year_month=20175<br>count=%{y}<extra></extra>",
           "ids": [
            "ARG"
           ],
           "legendgroup": "ARG",
           "marker": {
            "color": "#FECB52",
            "pattern": {
             "shape": ""
            }
           },
           "name": "ARG",
           "offsetgroup": "ARG",
           "orientation": "v",
           "showlegend": true,
           "textposition": "auto",
           "type": "bar",
           "x": [
            "ARG"
           ],
           "xaxis": "x",
           "y": [
            6
           ],
           "yaxis": "y"
          },
          {
           "alignmentgroup": "True",
           "hovertemplate": "pais=%{x}<br>registration_year_month=20175<br>count=%{y}<extra></extra>",
           "ids": [
            "VEN"
           ],
           "legendgroup": "VEN",
           "marker": {
            "color": "#EF553B",
            "pattern": {
             "shape": ""
            }
           },
           "name": "VEN",
           "offsetgroup": "VEN",
           "orientation": "v",
           "showlegend": true,
           "textposition": "auto",
           "type": "bar",
           "x": [
            "VEN"
           ],
           "xaxis": "x",
           "y": [
            1
           ],
           "yaxis": "y"
          },
          {
           "alignmentgroup": "True",
           "hovertemplate": "pais=%{x}<br>registration_year_month=20175<br>count=%{y}<extra></extra>",
           "ids": [
            "ECU"
           ],
           "legendgroup": "ECU",
           "marker": {
            "color": "#B6E880",
            "pattern": {
             "shape": ""
            }
           },
           "name": "ECU",
           "offsetgroup": "ECU",
           "orientation": "v",
           "showlegend": true,
           "textposition": "auto",
           "type": "bar",
           "x": [
            "ECU"
           ],
           "xaxis": "x",
           "y": [
            2
           ],
           "yaxis": "y"
          },
          {
           "alignmentgroup": "True",
           "hovertemplate": "pais=%{x}<br>registration_year_month=20175<br>count=%{y}<extra></extra>",
           "ids": [
            "USA"
           ],
           "legendgroup": "USA",
           "marker": {
            "color": "#FF97FF",
            "pattern": {
             "shape": ""
            }
           },
           "name": "USA",
           "offsetgroup": "USA",
           "orientation": "v",
           "showlegend": true,
           "textposition": "auto",
           "type": "bar",
           "x": [
            "USA"
           ],
           "xaxis": "x",
           "y": [
            8
           ],
           "yaxis": "y"
          },
          {
           "alignmentgroup": "True",
           "hovertemplate": "pais=%{x}<br>registration_year_month=20175<br>count=%{y}<extra></extra>",
           "ids": [
            "CRI"
           ],
           "legendgroup": "CRI",
           "marker": {
            "color": "#FECB52",
            "pattern": {
             "shape": ""
            }
           },
           "name": "CRI",
           "offsetgroup": "CRI",
           "orientation": "v",
           "showlegend": true,
           "textposition": "auto",
           "type": "bar",
           "x": [
            "CRI"
           ],
           "xaxis": "x",
           "y": [
            2
           ],
           "yaxis": "y"
          },
          {
           "alignmentgroup": "True",
           "hovertemplate": "pais=%{x}<br>registration_year_month=20175<br>count=%{y}<extra></extra>",
           "ids": [
            "BOL"
           ],
           "legendgroup": "BOL",
           "marker": {
            "color": "#636efa",
            "pattern": {
             "shape": ""
            }
           },
           "name": "BOL",
           "offsetgroup": "BOL",
           "orientation": "v",
           "showlegend": true,
           "textposition": "auto",
           "type": "bar",
           "x": [
            "BOL"
           ],
           "xaxis": "x",
           "y": [
            3
           ],
           "yaxis": "y"
          },
          {
           "alignmentgroup": "True",
           "hovertemplate": "pais=%{x}<br>registration_year_month=20175<br>count=%{y}<extra></extra>",
           "ids": [
            "PRT"
           ],
           "legendgroup": "PRT",
           "marker": {
            "color": "#FFA15A",
            "pattern": {
             "shape": ""
            }
           },
           "name": "PRT",
           "offsetgroup": "PRT",
           "orientation": "v",
           "showlegend": true,
           "textposition": "auto",
           "type": "bar",
           "x": [
            "PRT"
           ],
           "xaxis": "x",
           "y": [
            2
           ],
           "yaxis": "y"
          }
         ],
         "name": "20175"
        },
        {
         "data": [
          {
           "alignmentgroup": "True",
           "hovertemplate": "pais=%{x}<br>registration_year_month=20176<br>count=%{y}<extra></extra>",
           "ids": [
            "ESP"
           ],
           "legendgroup": "ESP",
           "marker": {
            "color": "#EF553B",
            "pattern": {
             "shape": ""
            }
           },
           "name": "ESP",
           "offsetgroup": "ESP",
           "orientation": "v",
           "showlegend": true,
           "textposition": "auto",
           "type": "bar",
           "x": [
            "ESP"
           ],
           "xaxis": "x",
           "y": [
            66
           ],
           "yaxis": "y"
          },
          {
           "alignmentgroup": "True",
           "hovertemplate": "pais=%{x}<br>registration_year_month=20176<br>count=%{y}<extra></extra>",
           "ids": [
            "MEX"
           ],
           "legendgroup": "MEX",
           "marker": {
            "color": "#00cc96",
            "pattern": {
             "shape": ""
            }
           },
           "name": "MEX",
           "offsetgroup": "MEX",
           "orientation": "v",
           "showlegend": true,
           "textposition": "auto",
           "type": "bar",
           "x": [
            "MEX"
           ],
           "xaxis": "x",
           "y": [
            66
           ],
           "yaxis": "y"
          },
          {
           "alignmentgroup": "True",
           "hovertemplate": "pais=%{x}<br>registration_year_month=20176<br>count=%{y}<extra></extra>",
           "ids": [
            "PER"
           ],
           "legendgroup": "PER",
           "marker": {
            "color": "#ab63fa",
            "pattern": {
             "shape": ""
            }
           },
           "name": "PER",
           "offsetgroup": "PER",
           "orientation": "v",
           "showlegend": true,
           "textposition": "auto",
           "type": "bar",
           "x": [
            "PER"
           ],
           "xaxis": "x",
           "y": [
            1
           ],
           "yaxis": "y"
          },
          {
           "alignmentgroup": "True",
           "hovertemplate": "pais=%{x}<br>registration_year_month=20176<br>count=%{y}<extra></extra>",
           "ids": [
            "PRI"
           ],
           "legendgroup": "PRI",
           "marker": {
            "color": "#19d3f3",
            "pattern": {
             "shape": ""
            }
           },
           "name": "PRI",
           "offsetgroup": "PRI",
           "orientation": "v",
           "showlegend": true,
           "textposition": "auto",
           "type": "bar",
           "x": [
            "PRI"
           ],
           "xaxis": "x",
           "y": [
            1
           ],
           "yaxis": "y"
          },
          {
           "alignmentgroup": "True",
           "hovertemplate": "pais=%{x}<br>registration_year_month=20176<br>count=%{y}<extra></extra>",
           "ids": [
            "CHL"
           ],
           "legendgroup": "CHL",
           "marker": {
            "color": "#FF6692",
            "pattern": {
             "shape": ""
            }
           },
           "name": "CHL",
           "offsetgroup": "CHL",
           "orientation": "v",
           "showlegend": true,
           "textposition": "auto",
           "type": "bar",
           "x": [
            "CHL"
           ],
           "xaxis": "x",
           "y": [
            2
           ],
           "yaxis": "y"
          },
          {
           "alignmentgroup": "True",
           "hovertemplate": "pais=%{x}<br>registration_year_month=20176<br>count=%{y}<extra></extra>",
           "ids": [
            "COL"
           ],
           "legendgroup": "COL",
           "marker": {
            "color": "#B6E880",
            "pattern": {
             "shape": ""
            }
           },
           "name": "COL",
           "offsetgroup": "COL",
           "orientation": "v",
           "showlegend": true,
           "textposition": "auto",
           "type": "bar",
           "x": [
            "COL"
           ],
           "xaxis": "x",
           "y": [
            13
           ],
           "yaxis": "y"
          },
          {
           "alignmentgroup": "True",
           "hovertemplate": "pais=%{x}<br>registration_year_month=20176<br>count=%{y}<extra></extra>",
           "ids": [
            "GTM"
           ],
           "legendgroup": "GTM",
           "marker": {
            "color": "#FF97FF",
            "pattern": {
             "shape": ""
            }
           },
           "name": "GTM",
           "offsetgroup": "GTM",
           "orientation": "v",
           "showlegend": true,
           "textposition": "auto",
           "type": "bar",
           "x": [
            "GTM"
           ],
           "xaxis": "x",
           "y": [
            3
           ],
           "yaxis": "y"
          },
          {
           "alignmentgroup": "True",
           "hovertemplate": "pais=%{x}<br>registration_year_month=20176<br>count=%{y}<extra></extra>",
           "ids": [
            "ARG"
           ],
           "legendgroup": "ARG",
           "marker": {
            "color": "#FECB52",
            "pattern": {
             "shape": ""
            }
           },
           "name": "ARG",
           "offsetgroup": "ARG",
           "orientation": "v",
           "showlegend": true,
           "textposition": "auto",
           "type": "bar",
           "x": [
            "ARG"
           ],
           "xaxis": "x",
           "y": [
            2
           ],
           "yaxis": "y"
          },
          {
           "alignmentgroup": "True",
           "hovertemplate": "pais=%{x}<br>registration_year_month=20176<br>count=%{y}<extra></extra>",
           "ids": [
            "ECU"
           ],
           "legendgroup": "ECU",
           "marker": {
            "color": "#B6E880",
            "pattern": {
             "shape": ""
            }
           },
           "name": "ECU",
           "offsetgroup": "ECU",
           "orientation": "v",
           "showlegend": true,
           "textposition": "auto",
           "type": "bar",
           "x": [
            "ECU"
           ],
           "xaxis": "x",
           "y": [
            7
           ],
           "yaxis": "y"
          },
          {
           "alignmentgroup": "True",
           "hovertemplate": "pais=%{x}<br>registration_year_month=20176<br>count=%{y}<extra></extra>",
           "ids": [
            "HND"
           ],
           "legendgroup": "HND",
           "marker": {
            "color": "#B6E880",
            "pattern": {
             "shape": ""
            }
           },
           "name": "HND",
           "offsetgroup": "HND",
           "orientation": "v",
           "showlegend": true,
           "textposition": "auto",
           "type": "bar",
           "x": [
            "HND"
           ],
           "xaxis": "x",
           "y": [
            1
           ],
           "yaxis": "y"
          },
          {
           "alignmentgroup": "True",
           "hovertemplate": "pais=%{x}<br>registration_year_month=20176<br>count=%{y}<extra></extra>",
           "ids": [
            "SLV"
           ],
           "legendgroup": "SLV",
           "marker": {
            "color": "#FECB52",
            "pattern": {
             "shape": ""
            }
           },
           "name": "SLV",
           "offsetgroup": "SLV",
           "orientation": "v",
           "showlegend": true,
           "textposition": "auto",
           "type": "bar",
           "x": [
            "SLV"
           ],
           "xaxis": "x",
           "y": [
            1
           ],
           "yaxis": "y"
          },
          {
           "alignmentgroup": "True",
           "hovertemplate": "pais=%{x}<br>registration_year_month=20176<br>count=%{y}<extra></extra>",
           "ids": [
            "NIC"
           ],
           "legendgroup": "NIC",
           "marker": {
            "color": "#00cc96",
            "pattern": {
             "shape": ""
            }
           },
           "name": "NIC",
           "offsetgroup": "NIC",
           "orientation": "v",
           "showlegend": true,
           "textposition": "auto",
           "type": "bar",
           "x": [
            "NIC"
           ],
           "xaxis": "x",
           "y": [
            1
           ],
           "yaxis": "y"
          },
          {
           "alignmentgroup": "True",
           "hovertemplate": "pais=%{x}<br>registration_year_month=20176<br>count=%{y}<extra></extra>",
           "ids": [
            "NOR"
           ],
           "legendgroup": "NOR",
           "marker": {
            "color": "#19d3f3",
            "pattern": {
             "shape": ""
            }
           },
           "name": "NOR",
           "offsetgroup": "NOR",
           "orientation": "v",
           "showlegend": true,
           "textposition": "auto",
           "type": "bar",
           "x": [
            "NOR"
           ],
           "xaxis": "x",
           "y": [
            1
           ],
           "yaxis": "y"
          }
         ],
         "name": "20176"
        },
        {
         "data": [
          {
           "alignmentgroup": "True",
           "hovertemplate": "pais=%{x}<br>registration_year_month=20177<br>count=%{y}<extra></extra>",
           "ids": [
            "DOM"
           ],
           "legendgroup": "DOM",
           "marker": {
            "color": "#636efa",
            "pattern": {
             "shape": ""
            }
           },
           "name": "DOM",
           "offsetgroup": "DOM",
           "orientation": "v",
           "showlegend": true,
           "textposition": "auto",
           "type": "bar",
           "x": [
            "DOM"
           ],
           "xaxis": "x",
           "y": [
            3
           ],
           "yaxis": "y"
          },
          {
           "alignmentgroup": "True",
           "hovertemplate": "pais=%{x}<br>registration_year_month=20177<br>count=%{y}<extra></extra>",
           "ids": [
            "ESP"
           ],
           "legendgroup": "ESP",
           "marker": {
            "color": "#EF553B",
            "pattern": {
             "shape": ""
            }
           },
           "name": "ESP",
           "offsetgroup": "ESP",
           "orientation": "v",
           "showlegend": true,
           "textposition": "auto",
           "type": "bar",
           "x": [
            "ESP"
           ],
           "xaxis": "x",
           "y": [
            39
           ],
           "yaxis": "y"
          },
          {
           "alignmentgroup": "True",
           "hovertemplate": "pais=%{x}<br>registration_year_month=20177<br>count=%{y}<extra></extra>",
           "ids": [
            "MEX"
           ],
           "legendgroup": "MEX",
           "marker": {
            "color": "#00cc96",
            "pattern": {
             "shape": ""
            }
           },
           "name": "MEX",
           "offsetgroup": "MEX",
           "orientation": "v",
           "showlegend": true,
           "textposition": "auto",
           "type": "bar",
           "x": [
            "MEX"
           ],
           "xaxis": "x",
           "y": [
            17
           ],
           "yaxis": "y"
          },
          {
           "alignmentgroup": "True",
           "hovertemplate": "pais=%{x}<br>registration_year_month=20177<br>count=%{y}<extra></extra>",
           "ids": [
            "PER"
           ],
           "legendgroup": "PER",
           "marker": {
            "color": "#ab63fa",
            "pattern": {
             "shape": ""
            }
           },
           "name": "PER",
           "offsetgroup": "PER",
           "orientation": "v",
           "showlegend": true,
           "textposition": "auto",
           "type": "bar",
           "x": [
            "PER"
           ],
           "xaxis": "x",
           "y": [
            6
           ],
           "yaxis": "y"
          },
          {
           "alignmentgroup": "True",
           "hovertemplate": "pais=%{x}<br>registration_year_month=20177<br>count=%{y}<extra></extra>",
           "ids": [
            "PRI"
           ],
           "legendgroup": "PRI",
           "marker": {
            "color": "#19d3f3",
            "pattern": {
             "shape": ""
            }
           },
           "name": "PRI",
           "offsetgroup": "PRI",
           "orientation": "v",
           "showlegend": true,
           "textposition": "auto",
           "type": "bar",
           "x": [
            "PRI"
           ],
           "xaxis": "x",
           "y": [
            2
           ],
           "yaxis": "y"
          },
          {
           "alignmentgroup": "True",
           "hovertemplate": "pais=%{x}<br>registration_year_month=20177<br>count=%{y}<extra></extra>",
           "ids": [
            "CHL"
           ],
           "legendgroup": "CHL",
           "marker": {
            "color": "#FF6692",
            "pattern": {
             "shape": ""
            }
           },
           "name": "CHL",
           "offsetgroup": "CHL",
           "orientation": "v",
           "showlegend": true,
           "textposition": "auto",
           "type": "bar",
           "x": [
            "CHL"
           ],
           "xaxis": "x",
           "y": [
            3
           ],
           "yaxis": "y"
          },
          {
           "alignmentgroup": "True",
           "hovertemplate": "pais=%{x}<br>registration_year_month=20177<br>count=%{y}<extra></extra>",
           "ids": [
            "COL"
           ],
           "legendgroup": "COL",
           "marker": {
            "color": "#B6E880",
            "pattern": {
             "shape": ""
            }
           },
           "name": "COL",
           "offsetgroup": "COL",
           "orientation": "v",
           "showlegend": true,
           "textposition": "auto",
           "type": "bar",
           "x": [
            "COL"
           ],
           "xaxis": "x",
           "y": [
            8
           ],
           "yaxis": "y"
          },
          {
           "alignmentgroup": "True",
           "hovertemplate": "pais=%{x}<br>registration_year_month=20177<br>count=%{y}<extra></extra>",
           "ids": [
            "ARG"
           ],
           "legendgroup": "ARG",
           "marker": {
            "color": "#FECB52",
            "pattern": {
             "shape": ""
            }
           },
           "name": "ARG",
           "offsetgroup": "ARG",
           "orientation": "v",
           "showlegend": true,
           "textposition": "auto",
           "type": "bar",
           "x": [
            "ARG"
           ],
           "xaxis": "x",
           "y": [
            3
           ],
           "yaxis": "y"
          },
          {
           "alignmentgroup": "True",
           "hovertemplate": "pais=%{x}<br>registration_year_month=20177<br>count=%{y}<extra></extra>",
           "ids": [
            "VEN"
           ],
           "legendgroup": "VEN",
           "marker": {
            "color": "#EF553B",
            "pattern": {
             "shape": ""
            }
           },
           "name": "VEN",
           "offsetgroup": "VEN",
           "orientation": "v",
           "showlegend": true,
           "textposition": "auto",
           "type": "bar",
           "x": [
            "VEN"
           ],
           "xaxis": "x",
           "y": [
            1
           ],
           "yaxis": "y"
          },
          {
           "alignmentgroup": "True",
           "hovertemplate": "pais=%{x}<br>registration_year_month=20177<br>count=%{y}<extra></extra>",
           "ids": [
            "ECU"
           ],
           "legendgroup": "ECU",
           "marker": {
            "color": "#B6E880",
            "pattern": {
             "shape": ""
            }
           },
           "name": "ECU",
           "offsetgroup": "ECU",
           "orientation": "v",
           "showlegend": true,
           "textposition": "auto",
           "type": "bar",
           "x": [
            "ECU"
           ],
           "xaxis": "x",
           "y": [
            7
           ],
           "yaxis": "y"
          },
          {
           "alignmentgroup": "True",
           "hovertemplate": "pais=%{x}<br>registration_year_month=20177<br>count=%{y}<extra></extra>",
           "ids": [
            "PAN"
           ],
           "legendgroup": "PAN",
           "marker": {
            "color": "#EF553B",
            "pattern": {
             "shape": ""
            }
           },
           "name": "PAN",
           "offsetgroup": "PAN",
           "orientation": "v",
           "showlegend": true,
           "textposition": "auto",
           "type": "bar",
           "x": [
            "PAN"
           ],
           "xaxis": "x",
           "y": [
            3
           ],
           "yaxis": "y"
          },
          {
           "alignmentgroup": "True",
           "hovertemplate": "pais=%{x}<br>registration_year_month=20177<br>count=%{y}<extra></extra>",
           "ids": [
            "HND"
           ],
           "legendgroup": "HND",
           "marker": {
            "color": "#B6E880",
            "pattern": {
             "shape": ""
            }
           },
           "name": "HND",
           "offsetgroup": "HND",
           "orientation": "v",
           "showlegend": true,
           "textposition": "auto",
           "type": "bar",
           "x": [
            "HND"
           ],
           "xaxis": "x",
           "y": [
            2
           ],
           "yaxis": "y"
          },
          {
           "alignmentgroup": "True",
           "hovertemplate": "pais=%{x}<br>registration_year_month=20177<br>count=%{y}<extra></extra>",
           "ids": [
            "SLV"
           ],
           "legendgroup": "SLV",
           "marker": {
            "color": "#FECB52",
            "pattern": {
             "shape": ""
            }
           },
           "name": "SLV",
           "offsetgroup": "SLV",
           "orientation": "v",
           "showlegend": true,
           "textposition": "auto",
           "type": "bar",
           "x": [
            "SLV"
           ],
           "xaxis": "x",
           "y": [
            1
           ],
           "yaxis": "y"
          },
          {
           "alignmentgroup": "True",
           "hovertemplate": "pais=%{x}<br>registration_year_month=20177<br>count=%{y}<extra></extra>",
           "ids": [
            "BOL"
           ],
           "legendgroup": "BOL",
           "marker": {
            "color": "#636efa",
            "pattern": {
             "shape": ""
            }
           },
           "name": "BOL",
           "offsetgroup": "BOL",
           "orientation": "v",
           "showlegend": true,
           "textposition": "auto",
           "type": "bar",
           "x": [
            "BOL"
           ],
           "xaxis": "x",
           "y": [
            3
           ],
           "yaxis": "y"
          },
          {
           "alignmentgroup": "True",
           "hovertemplate": "pais=%{x}<br>registration_year_month=20177<br>count=%{y}<extra></extra>",
           "ids": [
            "DEU"
           ],
           "legendgroup": "DEU",
           "marker": {
            "color": "#ab63fa",
            "pattern": {
             "shape": ""
            }
           },
           "name": "DEU",
           "offsetgroup": "DEU",
           "orientation": "v",
           "showlegend": true,
           "textposition": "auto",
           "type": "bar",
           "x": [
            "DEU"
           ],
           "xaxis": "x",
           "y": [
            1
           ],
           "yaxis": "y"
          }
         ],
         "name": "20177"
        },
        {
         "data": [
          {
           "alignmentgroup": "True",
           "hovertemplate": "pais=%{x}<br>registration_year_month=20178<br>count=%{y}<extra></extra>",
           "ids": [
            "DOM"
           ],
           "legendgroup": "DOM",
           "marker": {
            "color": "#636efa",
            "pattern": {
             "shape": ""
            }
           },
           "name": "DOM",
           "offsetgroup": "DOM",
           "orientation": "v",
           "showlegend": true,
           "textposition": "auto",
           "type": "bar",
           "x": [
            "DOM"
           ],
           "xaxis": "x",
           "y": [
            3
           ],
           "yaxis": "y"
          },
          {
           "alignmentgroup": "True",
           "hovertemplate": "pais=%{x}<br>registration_year_month=20178<br>count=%{y}<extra></extra>",
           "ids": [
            "ESP"
           ],
           "legendgroup": "ESP",
           "marker": {
            "color": "#EF553B",
            "pattern": {
             "shape": ""
            }
           },
           "name": "ESP",
           "offsetgroup": "ESP",
           "orientation": "v",
           "showlegend": true,
           "textposition": "auto",
           "type": "bar",
           "x": [
            "ESP"
           ],
           "xaxis": "x",
           "y": [
            25
           ],
           "yaxis": "y"
          },
          {
           "alignmentgroup": "True",
           "hovertemplate": "pais=%{x}<br>registration_year_month=20178<br>count=%{y}<extra></extra>",
           "ids": [
            "MEX"
           ],
           "legendgroup": "MEX",
           "marker": {
            "color": "#00cc96",
            "pattern": {
             "shape": ""
            }
           },
           "name": "MEX",
           "offsetgroup": "MEX",
           "orientation": "v",
           "showlegend": true,
           "textposition": "auto",
           "type": "bar",
           "x": [
            "MEX"
           ],
           "xaxis": "x",
           "y": [
            12
           ],
           "yaxis": "y"
          },
          {
           "alignmentgroup": "True",
           "hovertemplate": "pais=%{x}<br>registration_year_month=20178<br>count=%{y}<extra></extra>",
           "ids": [
            "PER"
           ],
           "legendgroup": "PER",
           "marker": {
            "color": "#ab63fa",
            "pattern": {
             "shape": ""
            }
           },
           "name": "PER",
           "offsetgroup": "PER",
           "orientation": "v",
           "showlegend": true,
           "textposition": "auto",
           "type": "bar",
           "x": [
            "PER"
           ],
           "xaxis": "x",
           "y": [
            6
           ],
           "yaxis": "y"
          },
          {
           "alignmentgroup": "True",
           "hovertemplate": "pais=%{x}<br>registration_year_month=20178<br>count=%{y}<extra></extra>",
           "ids": [
            "PRI"
           ],
           "legendgroup": "PRI",
           "marker": {
            "color": "#19d3f3",
            "pattern": {
             "shape": ""
            }
           },
           "name": "PRI",
           "offsetgroup": "PRI",
           "orientation": "v",
           "showlegend": true,
           "textposition": "auto",
           "type": "bar",
           "x": [
            "PRI"
           ],
           "xaxis": "x",
           "y": [
            1
           ],
           "yaxis": "y"
          },
          {
           "alignmentgroup": "True",
           "hovertemplate": "pais=%{x}<br>registration_year_month=20178<br>count=%{y}<extra></extra>",
           "ids": [
            "CHL"
           ],
           "legendgroup": "CHL",
           "marker": {
            "color": "#FF6692",
            "pattern": {
             "shape": ""
            }
           },
           "name": "CHL",
           "offsetgroup": "CHL",
           "orientation": "v",
           "showlegend": true,
           "textposition": "auto",
           "type": "bar",
           "x": [
            "CHL"
           ],
           "xaxis": "x",
           "y": [
            3
           ],
           "yaxis": "y"
          },
          {
           "alignmentgroup": "True",
           "hovertemplate": "pais=%{x}<br>registration_year_month=20178<br>count=%{y}<extra></extra>",
           "ids": [
            "COL"
           ],
           "legendgroup": "COL",
           "marker": {
            "color": "#B6E880",
            "pattern": {
             "shape": ""
            }
           },
           "name": "COL",
           "offsetgroup": "COL",
           "orientation": "v",
           "showlegend": true,
           "textposition": "auto",
           "type": "bar",
           "x": [
            "COL"
           ],
           "xaxis": "x",
           "y": [
            7
           ],
           "yaxis": "y"
          },
          {
           "alignmentgroup": "True",
           "hovertemplate": "pais=%{x}<br>registration_year_month=20178<br>count=%{y}<extra></extra>",
           "ids": [
            "ARG"
           ],
           "legendgroup": "ARG",
           "marker": {
            "color": "#FECB52",
            "pattern": {
             "shape": ""
            }
           },
           "name": "ARG",
           "offsetgroup": "ARG",
           "orientation": "v",
           "showlegend": true,
           "textposition": "auto",
           "type": "bar",
           "x": [
            "ARG"
           ],
           "xaxis": "x",
           "y": [
            7
           ],
           "yaxis": "y"
          },
          {
           "alignmentgroup": "True",
           "hovertemplate": "pais=%{x}<br>registration_year_month=20178<br>count=%{y}<extra></extra>",
           "ids": [
            "ECU"
           ],
           "legendgroup": "ECU",
           "marker": {
            "color": "#B6E880",
            "pattern": {
             "shape": ""
            }
           },
           "name": "ECU",
           "offsetgroup": "ECU",
           "orientation": "v",
           "showlegend": true,
           "textposition": "auto",
           "type": "bar",
           "x": [
            "ECU"
           ],
           "xaxis": "x",
           "y": [
            12
           ],
           "yaxis": "y"
          },
          {
           "alignmentgroup": "True",
           "hovertemplate": "pais=%{x}<br>registration_year_month=20178<br>count=%{y}<extra></extra>",
           "ids": [
            "PAN"
           ],
           "legendgroup": "PAN",
           "marker": {
            "color": "#EF553B",
            "pattern": {
             "shape": ""
            }
           },
           "name": "PAN",
           "offsetgroup": "PAN",
           "orientation": "v",
           "showlegend": true,
           "textposition": "auto",
           "type": "bar",
           "x": [
            "PAN"
           ],
           "xaxis": "x",
           "y": [
            2
           ],
           "yaxis": "y"
          },
          {
           "alignmentgroup": "True",
           "hovertemplate": "pais=%{x}<br>registration_year_month=20178<br>count=%{y}<extra></extra>",
           "ids": [
            "PRT"
           ],
           "legendgroup": "PRT",
           "marker": {
            "color": "#FFA15A",
            "pattern": {
             "shape": ""
            }
           },
           "name": "PRT",
           "offsetgroup": "PRT",
           "orientation": "v",
           "showlegend": true,
           "textposition": "auto",
           "type": "bar",
           "x": [
            "PRT"
           ],
           "xaxis": "x",
           "y": [
            1
           ],
           "yaxis": "y"
          },
          {
           "alignmentgroup": "True",
           "hovertemplate": "pais=%{x}<br>registration_year_month=20178<br>count=%{y}<extra></extra>",
           "ids": [
            "BGR"
           ],
           "legendgroup": "BGR",
           "marker": {
            "color": "#FF6692",
            "pattern": {
             "shape": ""
            }
           },
           "name": "BGR",
           "offsetgroup": "BGR",
           "orientation": "v",
           "showlegend": true,
           "textposition": "auto",
           "type": "bar",
           "x": [
            "BGR"
           ],
           "xaxis": "x",
           "y": [
            1
           ],
           "yaxis": "y"
          }
         ],
         "name": "20178"
        },
        {
         "data": [
          {
           "alignmentgroup": "True",
           "hovertemplate": "pais=%{x}<br>registration_year_month=20179<br>count=%{y}<extra></extra>",
           "ids": [
            "ESP"
           ],
           "legendgroup": "ESP",
           "marker": {
            "color": "#EF553B",
            "pattern": {
             "shape": ""
            }
           },
           "name": "ESP",
           "offsetgroup": "ESP",
           "orientation": "v",
           "showlegend": true,
           "textposition": "auto",
           "type": "bar",
           "x": [
            "ESP"
           ],
           "xaxis": "x",
           "y": [
            51
           ],
           "yaxis": "y"
          },
          {
           "alignmentgroup": "True",
           "hovertemplate": "pais=%{x}<br>registration_year_month=20179<br>count=%{y}<extra></extra>",
           "ids": [
            "MEX"
           ],
           "legendgroup": "MEX",
           "marker": {
            "color": "#00cc96",
            "pattern": {
             "shape": ""
            }
           },
           "name": "MEX",
           "offsetgroup": "MEX",
           "orientation": "v",
           "showlegend": true,
           "textposition": "auto",
           "type": "bar",
           "x": [
            "MEX"
           ],
           "xaxis": "x",
           "y": [
            9
           ],
           "yaxis": "y"
          },
          {
           "alignmentgroup": "True",
           "hovertemplate": "pais=%{x}<br>registration_year_month=20179<br>count=%{y}<extra></extra>",
           "ids": [
            "PER"
           ],
           "legendgroup": "PER",
           "marker": {
            "color": "#ab63fa",
            "pattern": {
             "shape": ""
            }
           },
           "name": "PER",
           "offsetgroup": "PER",
           "orientation": "v",
           "showlegend": true,
           "textposition": "auto",
           "type": "bar",
           "x": [
            "PER"
           ],
           "xaxis": "x",
           "y": [
            1
           ],
           "yaxis": "y"
          },
          {
           "alignmentgroup": "True",
           "hovertemplate": "pais=%{x}<br>registration_year_month=20179<br>count=%{y}<extra></extra>",
           "ids": [
            "CHL"
           ],
           "legendgroup": "CHL",
           "marker": {
            "color": "#FF6692",
            "pattern": {
             "shape": ""
            }
           },
           "name": "CHL",
           "offsetgroup": "CHL",
           "orientation": "v",
           "showlegend": true,
           "textposition": "auto",
           "type": "bar",
           "x": [
            "CHL"
           ],
           "xaxis": "x",
           "y": [
            1
           ],
           "yaxis": "y"
          },
          {
           "alignmentgroup": "True",
           "hovertemplate": "pais=%{x}<br>registration_year_month=20179<br>count=%{y}<extra></extra>",
           "ids": [
            "COL"
           ],
           "legendgroup": "COL",
           "marker": {
            "color": "#B6E880",
            "pattern": {
             "shape": ""
            }
           },
           "name": "COL",
           "offsetgroup": "COL",
           "orientation": "v",
           "showlegend": true,
           "textposition": "auto",
           "type": "bar",
           "x": [
            "COL"
           ],
           "xaxis": "x",
           "y": [
            2
           ],
           "yaxis": "y"
          },
          {
           "alignmentgroup": "True",
           "hovertemplate": "pais=%{x}<br>registration_year_month=20179<br>count=%{y}<extra></extra>",
           "ids": [
            "GTM"
           ],
           "legendgroup": "GTM",
           "marker": {
            "color": "#FF97FF",
            "pattern": {
             "shape": ""
            }
           },
           "name": "GTM",
           "offsetgroup": "GTM",
           "orientation": "v",
           "showlegend": true,
           "textposition": "auto",
           "type": "bar",
           "x": [
            "GTM"
           ],
           "xaxis": "x",
           "y": [
            1
           ],
           "yaxis": "y"
          },
          {
           "alignmentgroup": "True",
           "hovertemplate": "pais=%{x}<br>registration_year_month=20179<br>count=%{y}<extra></extra>",
           "ids": [
            "ARG"
           ],
           "legendgroup": "ARG",
           "marker": {
            "color": "#FECB52",
            "pattern": {
             "shape": ""
            }
           },
           "name": "ARG",
           "offsetgroup": "ARG",
           "orientation": "v",
           "showlegend": true,
           "textposition": "auto",
           "type": "bar",
           "x": [
            "ARG"
           ],
           "xaxis": "x",
           "y": [
            2
           ],
           "yaxis": "y"
          },
          {
           "alignmentgroup": "True",
           "hovertemplate": "pais=%{x}<br>registration_year_month=20179<br>count=%{y}<extra></extra>",
           "ids": [
            "VEN"
           ],
           "legendgroup": "VEN",
           "marker": {
            "color": "#EF553B",
            "pattern": {
             "shape": ""
            }
           },
           "name": "VEN",
           "offsetgroup": "VEN",
           "orientation": "v",
           "showlegend": true,
           "textposition": "auto",
           "type": "bar",
           "x": [
            "VEN"
           ],
           "xaxis": "x",
           "y": [
            1
           ],
           "yaxis": "y"
          },
          {
           "alignmentgroup": "True",
           "hovertemplate": "pais=%{x}<br>registration_year_month=20179<br>count=%{y}<extra></extra>",
           "ids": [
            "ECU"
           ],
           "legendgroup": "ECU",
           "marker": {
            "color": "#B6E880",
            "pattern": {
             "shape": ""
            }
           },
           "name": "ECU",
           "offsetgroup": "ECU",
           "orientation": "v",
           "showlegend": true,
           "textposition": "auto",
           "type": "bar",
           "x": [
            "ECU"
           ],
           "xaxis": "x",
           "y": [
            1
           ],
           "yaxis": "y"
          },
          {
           "alignmentgroup": "True",
           "hovertemplate": "pais=%{x}<br>registration_year_month=20179<br>count=%{y}<extra></extra>",
           "ids": [
            "CRI"
           ],
           "legendgroup": "CRI",
           "marker": {
            "color": "#FECB52",
            "pattern": {
             "shape": ""
            }
           },
           "name": "CRI",
           "offsetgroup": "CRI",
           "orientation": "v",
           "showlegend": true,
           "textposition": "auto",
           "type": "bar",
           "x": [
            "CRI"
           ],
           "xaxis": "x",
           "y": [
            2
           ],
           "yaxis": "y"
          },
          {
           "alignmentgroup": "True",
           "hovertemplate": "pais=%{x}<br>registration_year_month=20179<br>count=%{y}<extra></extra>",
           "ids": [
            "PAN"
           ],
           "legendgroup": "PAN",
           "marker": {
            "color": "#EF553B",
            "pattern": {
             "shape": ""
            }
           },
           "name": "PAN",
           "offsetgroup": "PAN",
           "orientation": "v",
           "showlegend": true,
           "textposition": "auto",
           "type": "bar",
           "x": [
            "PAN"
           ],
           "xaxis": "x",
           "y": [
            2
           ],
           "yaxis": "y"
          },
          {
           "alignmentgroup": "True",
           "hovertemplate": "pais=%{x}<br>registration_year_month=20179<br>count=%{y}<extra></extra>",
           "ids": [
            "SLV"
           ],
           "legendgroup": "SLV",
           "marker": {
            "color": "#FECB52",
            "pattern": {
             "shape": ""
            }
           },
           "name": "SLV",
           "offsetgroup": "SLV",
           "orientation": "v",
           "showlegend": true,
           "textposition": "auto",
           "type": "bar",
           "x": [
            "SLV"
           ],
           "xaxis": "x",
           "y": [
            1
           ],
           "yaxis": "y"
          },
          {
           "alignmentgroup": "True",
           "hovertemplate": "pais=%{x}<br>registration_year_month=20179<br>count=%{y}<extra></extra>",
           "ids": [
            "NIC"
           ],
           "legendgroup": "NIC",
           "marker": {
            "color": "#00cc96",
            "pattern": {
             "shape": ""
            }
           },
           "name": "NIC",
           "offsetgroup": "NIC",
           "orientation": "v",
           "showlegend": true,
           "textposition": "auto",
           "type": "bar",
           "x": [
            "NIC"
           ],
           "xaxis": "x",
           "y": [
            1
           ],
           "yaxis": "y"
          },
          {
           "alignmentgroup": "True",
           "hovertemplate": "pais=%{x}<br>registration_year_month=20179<br>count=%{y}<extra></extra>",
           "ids": [
            "RUS"
           ],
           "legendgroup": "RUS",
           "marker": {
            "color": "#B6E880",
            "pattern": {
             "shape": ""
            }
           },
           "name": "RUS",
           "offsetgroup": "RUS",
           "orientation": "v",
           "showlegend": true,
           "textposition": "auto",
           "type": "bar",
           "x": [
            "RUS"
           ],
           "xaxis": "x",
           "y": [
            1
           ],
           "yaxis": "y"
          }
         ],
         "name": "20179"
        },
        {
         "data": [
          {
           "alignmentgroup": "True",
           "hovertemplate": "pais=%{x}<br>registration_year_month=20181<br>count=%{y}<extra></extra>",
           "ids": [
            "DOM"
           ],
           "legendgroup": "DOM",
           "marker": {
            "color": "#636efa",
            "pattern": {
             "shape": ""
            }
           },
           "name": "DOM",
           "offsetgroup": "DOM",
           "orientation": "v",
           "showlegend": true,
           "textposition": "auto",
           "type": "bar",
           "x": [
            "DOM"
           ],
           "xaxis": "x",
           "y": [
            1
           ],
           "yaxis": "y"
          },
          {
           "alignmentgroup": "True",
           "hovertemplate": "pais=%{x}<br>registration_year_month=20181<br>count=%{y}<extra></extra>",
           "ids": [
            "ESP"
           ],
           "legendgroup": "ESP",
           "marker": {
            "color": "#EF553B",
            "pattern": {
             "shape": ""
            }
           },
           "name": "ESP",
           "offsetgroup": "ESP",
           "orientation": "v",
           "showlegend": true,
           "textposition": "auto",
           "type": "bar",
           "x": [
            "ESP"
           ],
           "xaxis": "x",
           "y": [
            173
           ],
           "yaxis": "y"
          },
          {
           "alignmentgroup": "True",
           "hovertemplate": "pais=%{x}<br>registration_year_month=20181<br>count=%{y}<extra></extra>",
           "ids": [
            "MEX"
           ],
           "legendgroup": "MEX",
           "marker": {
            "color": "#00cc96",
            "pattern": {
             "shape": ""
            }
           },
           "name": "MEX",
           "offsetgroup": "MEX",
           "orientation": "v",
           "showlegend": true,
           "textposition": "auto",
           "type": "bar",
           "x": [
            "MEX"
           ],
           "xaxis": "x",
           "y": [
            135
           ],
           "yaxis": "y"
          },
          {
           "alignmentgroup": "True",
           "hovertemplate": "pais=%{x}<br>registration_year_month=20181<br>count=%{y}<extra></extra>",
           "ids": [
            "PER"
           ],
           "legendgroup": "PER",
           "marker": {
            "color": "#ab63fa",
            "pattern": {
             "shape": ""
            }
           },
           "name": "PER",
           "offsetgroup": "PER",
           "orientation": "v",
           "showlegend": true,
           "textposition": "auto",
           "type": "bar",
           "x": [
            "PER"
           ],
           "xaxis": "x",
           "y": [
            2
           ],
           "yaxis": "y"
          },
          {
           "alignmentgroup": "True",
           "hovertemplate": "pais=%{x}<br>registration_year_month=20181<br>count=%{y}<extra></extra>",
           "ids": [
            "CHL"
           ],
           "legendgroup": "CHL",
           "marker": {
            "color": "#FF6692",
            "pattern": {
             "shape": ""
            }
           },
           "name": "CHL",
           "offsetgroup": "CHL",
           "orientation": "v",
           "showlegend": true,
           "textposition": "auto",
           "type": "bar",
           "x": [
            "CHL"
           ],
           "xaxis": "x",
           "y": [
            1
           ],
           "yaxis": "y"
          },
          {
           "alignmentgroup": "True",
           "hovertemplate": "pais=%{x}<br>registration_year_month=20181<br>count=%{y}<extra></extra>",
           "ids": [
            "COL"
           ],
           "legendgroup": "COL",
           "marker": {
            "color": "#B6E880",
            "pattern": {
             "shape": ""
            }
           },
           "name": "COL",
           "offsetgroup": "COL",
           "orientation": "v",
           "showlegend": true,
           "textposition": "auto",
           "type": "bar",
           "x": [
            "COL"
           ],
           "xaxis": "x",
           "y": [
            2
           ],
           "yaxis": "y"
          },
          {
           "alignmentgroup": "True",
           "hovertemplate": "pais=%{x}<br>registration_year_month=20181<br>count=%{y}<extra></extra>",
           "ids": [
            "GTM"
           ],
           "legendgroup": "GTM",
           "marker": {
            "color": "#FF97FF",
            "pattern": {
             "shape": ""
            }
           },
           "name": "GTM",
           "offsetgroup": "GTM",
           "orientation": "v",
           "showlegend": true,
           "textposition": "auto",
           "type": "bar",
           "x": [
            "GTM"
           ],
           "xaxis": "x",
           "y": [
            1
           ],
           "yaxis": "y"
          },
          {
           "alignmentgroup": "True",
           "hovertemplate": "pais=%{x}<br>registration_year_month=20181<br>count=%{y}<extra></extra>",
           "ids": [
            "ARG"
           ],
           "legendgroup": "ARG",
           "marker": {
            "color": "#FECB52",
            "pattern": {
             "shape": ""
            }
           },
           "name": "ARG",
           "offsetgroup": "ARG",
           "orientation": "v",
           "showlegend": true,
           "textposition": "auto",
           "type": "bar",
           "x": [
            "ARG"
           ],
           "xaxis": "x",
           "y": [
            2
           ],
           "yaxis": "y"
          },
          {
           "alignmentgroup": "True",
           "hovertemplate": "pais=%{x}<br>registration_year_month=20181<br>count=%{y}<extra></extra>",
           "ids": [
            "AND"
           ],
           "legendgroup": "AND",
           "marker": {
            "color": "#00cc96",
            "pattern": {
             "shape": ""
            }
           },
           "name": "AND",
           "offsetgroup": "AND",
           "orientation": "v",
           "showlegend": true,
           "textposition": "auto",
           "type": "bar",
           "x": [
            "AND"
           ],
           "xaxis": "x",
           "y": [
            3
           ],
           "yaxis": "y"
          },
          {
           "alignmentgroup": "True",
           "hovertemplate": "pais=%{x}<br>registration_year_month=20181<br>count=%{y}<extra></extra>",
           "ids": [
            "USA"
           ],
           "legendgroup": "USA",
           "marker": {
            "color": "#FF97FF",
            "pattern": {
             "shape": ""
            }
           },
           "name": "USA",
           "offsetgroup": "USA",
           "orientation": "v",
           "showlegend": true,
           "textposition": "auto",
           "type": "bar",
           "x": [
            "USA"
           ],
           "xaxis": "x",
           "y": [
            1
           ],
           "yaxis": "y"
          },
          {
           "alignmentgroup": "True",
           "hovertemplate": "pais=%{x}<br>registration_year_month=20181<br>count=%{y}<extra></extra>",
           "ids": [
            "PRY"
           ],
           "legendgroup": "PRY",
           "marker": {
            "color": "#19d3f3",
            "pattern": {
             "shape": ""
            }
           },
           "name": "PRY",
           "offsetgroup": "PRY",
           "orientation": "v",
           "showlegend": true,
           "textposition": "auto",
           "type": "bar",
           "x": [
            "PRY"
           ],
           "xaxis": "x",
           "y": [
            1
           ],
           "yaxis": "y"
          },
          {
           "alignmentgroup": "True",
           "hovertemplate": "pais=%{x}<br>registration_year_month=20181<br>count=%{y}<extra></extra>",
           "ids": [
            "MYS"
           ],
           "legendgroup": "MYS",
           "marker": {
            "color": "#FF97FF",
            "pattern": {
             "shape": ""
            }
           },
           "name": "MYS",
           "offsetgroup": "MYS",
           "orientation": "v",
           "showlegend": true,
           "textposition": "auto",
           "type": "bar",
           "x": [
            "MYS"
           ],
           "xaxis": "x",
           "y": [
            1
           ],
           "yaxis": "y"
          },
          {
           "alignmentgroup": "True",
           "hovertemplate": "pais=%{x}<br>registration_year_month=20181<br>count=%{y}<extra></extra>",
           "ids": [
            "TUR"
           ],
           "legendgroup": "TUR",
           "marker": {
            "color": "#FECB52",
            "pattern": {
             "shape": ""
            }
           },
           "name": "TUR",
           "offsetgroup": "TUR",
           "orientation": "v",
           "showlegend": true,
           "textposition": "auto",
           "type": "bar",
           "x": [
            "TUR"
           ],
           "xaxis": "x",
           "y": [
            1
           ],
           "yaxis": "y"
          }
         ],
         "name": "20181"
        },
        {
         "data": [
          {
           "alignmentgroup": "True",
           "hovertemplate": "pais=%{x}<br>registration_year_month=201810<br>count=%{y}<extra></extra>",
           "ids": [
            "DOM"
           ],
           "legendgroup": "DOM",
           "marker": {
            "color": "#636efa",
            "pattern": {
             "shape": ""
            }
           },
           "name": "DOM",
           "offsetgroup": "DOM",
           "orientation": "v",
           "showlegend": true,
           "textposition": "auto",
           "type": "bar",
           "x": [
            "DOM"
           ],
           "xaxis": "x",
           "y": [
            18
           ],
           "yaxis": "y"
          },
          {
           "alignmentgroup": "True",
           "hovertemplate": "pais=%{x}<br>registration_year_month=201810<br>count=%{y}<extra></extra>",
           "ids": [
            "ESP"
           ],
           "legendgroup": "ESP",
           "marker": {
            "color": "#EF553B",
            "pattern": {
             "shape": ""
            }
           },
           "name": "ESP",
           "offsetgroup": "ESP",
           "orientation": "v",
           "showlegend": true,
           "textposition": "auto",
           "type": "bar",
           "x": [
            "ESP"
           ],
           "xaxis": "x",
           "y": [
            72
           ],
           "yaxis": "y"
          },
          {
           "alignmentgroup": "True",
           "hovertemplate": "pais=%{x}<br>registration_year_month=201810<br>count=%{y}<extra></extra>",
           "ids": [
            "MEX"
           ],
           "legendgroup": "MEX",
           "marker": {
            "color": "#00cc96",
            "pattern": {
             "shape": ""
            }
           },
           "name": "MEX",
           "offsetgroup": "MEX",
           "orientation": "v",
           "showlegend": true,
           "textposition": "auto",
           "type": "bar",
           "x": [
            "MEX"
           ],
           "xaxis": "x",
           "y": [
            22
           ],
           "yaxis": "y"
          },
          {
           "alignmentgroup": "True",
           "hovertemplate": "pais=%{x}<br>registration_year_month=201810<br>count=%{y}<extra></extra>",
           "ids": [
            "PER"
           ],
           "legendgroup": "PER",
           "marker": {
            "color": "#ab63fa",
            "pattern": {
             "shape": ""
            }
           },
           "name": "PER",
           "offsetgroup": "PER",
           "orientation": "v",
           "showlegend": true,
           "textposition": "auto",
           "type": "bar",
           "x": [
            "PER"
           ],
           "xaxis": "x",
           "y": [
            1
           ],
           "yaxis": "y"
          },
          {
           "alignmentgroup": "True",
           "hovertemplate": "pais=%{x}<br>registration_year_month=201810<br>count=%{y}<extra></extra>",
           "ids": [
            "CHL"
           ],
           "legendgroup": "CHL",
           "marker": {
            "color": "#FF6692",
            "pattern": {
             "shape": ""
            }
           },
           "name": "CHL",
           "offsetgroup": "CHL",
           "orientation": "v",
           "showlegend": true,
           "textposition": "auto",
           "type": "bar",
           "x": [
            "CHL"
           ],
           "xaxis": "x",
           "y": [
            1
           ],
           "yaxis": "y"
          },
          {
           "alignmentgroup": "True",
           "hovertemplate": "pais=%{x}<br>registration_year_month=201810<br>count=%{y}<extra></extra>",
           "ids": [
            "COL"
           ],
           "legendgroup": "COL",
           "marker": {
            "color": "#B6E880",
            "pattern": {
             "shape": ""
            }
           },
           "name": "COL",
           "offsetgroup": "COL",
           "orientation": "v",
           "showlegend": true,
           "textposition": "auto",
           "type": "bar",
           "x": [
            "COL"
           ],
           "xaxis": "x",
           "y": [
            2
           ],
           "yaxis": "y"
          },
          {
           "alignmentgroup": "True",
           "hovertemplate": "pais=%{x}<br>registration_year_month=201810<br>count=%{y}<extra></extra>",
           "ids": [
            "GTM"
           ],
           "legendgroup": "GTM",
           "marker": {
            "color": "#FF97FF",
            "pattern": {
             "shape": ""
            }
           },
           "name": "GTM",
           "offsetgroup": "GTM",
           "orientation": "v",
           "showlegend": true,
           "textposition": "auto",
           "type": "bar",
           "x": [
            "GTM"
           ],
           "xaxis": "x",
           "y": [
            1
           ],
           "yaxis": "y"
          },
          {
           "alignmentgroup": "True",
           "hovertemplate": "pais=%{x}<br>registration_year_month=201810<br>count=%{y}<extra></extra>",
           "ids": [
            "ARG"
           ],
           "legendgroup": "ARG",
           "marker": {
            "color": "#FECB52",
            "pattern": {
             "shape": ""
            }
           },
           "name": "ARG",
           "offsetgroup": "ARG",
           "orientation": "v",
           "showlegend": true,
           "textposition": "auto",
           "type": "bar",
           "x": [
            "ARG"
           ],
           "xaxis": "x",
           "y": [
            1
           ],
           "yaxis": "y"
          },
          {
           "alignmentgroup": "True",
           "hovertemplate": "pais=%{x}<br>registration_year_month=201810<br>count=%{y}<extra></extra>",
           "ids": [
            "ECU"
           ],
           "legendgroup": "ECU",
           "marker": {
            "color": "#B6E880",
            "pattern": {
             "shape": ""
            }
           },
           "name": "ECU",
           "offsetgroup": "ECU",
           "orientation": "v",
           "showlegend": true,
           "textposition": "auto",
           "type": "bar",
           "x": [
            "ECU"
           ],
           "xaxis": "x",
           "y": [
            4
           ],
           "yaxis": "y"
          },
          {
           "alignmentgroup": "True",
           "hovertemplate": "pais=%{x}<br>registration_year_month=201810<br>count=%{y}<extra></extra>",
           "ids": [
            "CRI"
           ],
           "legendgroup": "CRI",
           "marker": {
            "color": "#FECB52",
            "pattern": {
             "shape": ""
            }
           },
           "name": "CRI",
           "offsetgroup": "CRI",
           "orientation": "v",
           "showlegend": true,
           "textposition": "auto",
           "type": "bar",
           "x": [
            "CRI"
           ],
           "xaxis": "x",
           "y": [
            3
           ],
           "yaxis": "y"
          },
          {
           "alignmentgroup": "True",
           "hovertemplate": "pais=%{x}<br>registration_year_month=201810<br>count=%{y}<extra></extra>",
           "ids": [
            "HND"
           ],
           "legendgroup": "HND",
           "marker": {
            "color": "#B6E880",
            "pattern": {
             "shape": ""
            }
           },
           "name": "HND",
           "offsetgroup": "HND",
           "orientation": "v",
           "showlegend": true,
           "textposition": "auto",
           "type": "bar",
           "x": [
            "HND"
           ],
           "xaxis": "x",
           "y": [
            4
           ],
           "yaxis": "y"
          },
          {
           "alignmentgroup": "True",
           "hovertemplate": "pais=%{x}<br>registration_year_month=201810<br>count=%{y}<extra></extra>",
           "ids": [
            "AFG"
           ],
           "legendgroup": "AFG",
           "marker": {
            "color": "#636efa",
            "pattern": {
             "shape": ""
            }
           },
           "name": "AFG",
           "offsetgroup": "AFG",
           "orientation": "v",
           "showlegend": true,
           "textposition": "auto",
           "type": "bar",
           "x": [
            "AFG"
           ],
           "xaxis": "x",
           "y": [
            3
           ],
           "yaxis": "y"
          }
         ],
         "name": "201810"
        },
        {
         "data": [
          {
           "alignmentgroup": "True",
           "hovertemplate": "pais=%{x}<br>registration_year_month=201811<br>count=%{y}<extra></extra>",
           "ids": [
            "DOM"
           ],
           "legendgroup": "DOM",
           "marker": {
            "color": "#636efa",
            "pattern": {
             "shape": ""
            }
           },
           "name": "DOM",
           "offsetgroup": "DOM",
           "orientation": "v",
           "showlegend": true,
           "textposition": "auto",
           "type": "bar",
           "x": [
            "DOM"
           ],
           "xaxis": "x",
           "y": [
            2
           ],
           "yaxis": "y"
          },
          {
           "alignmentgroup": "True",
           "hovertemplate": "pais=%{x}<br>registration_year_month=201811<br>count=%{y}<extra></extra>",
           "ids": [
            "ESP"
           ],
           "legendgroup": "ESP",
           "marker": {
            "color": "#EF553B",
            "pattern": {
             "shape": ""
            }
           },
           "name": "ESP",
           "offsetgroup": "ESP",
           "orientation": "v",
           "showlegend": true,
           "textposition": "auto",
           "type": "bar",
           "x": [
            "ESP"
           ],
           "xaxis": "x",
           "y": [
            224
           ],
           "yaxis": "y"
          },
          {
           "alignmentgroup": "True",
           "hovertemplate": "pais=%{x}<br>registration_year_month=201811<br>count=%{y}<extra></extra>",
           "ids": [
            "MEX"
           ],
           "legendgroup": "MEX",
           "marker": {
            "color": "#00cc96",
            "pattern": {
             "shape": ""
            }
           },
           "name": "MEX",
           "offsetgroup": "MEX",
           "orientation": "v",
           "showlegend": true,
           "textposition": "auto",
           "type": "bar",
           "x": [
            "MEX"
           ],
           "xaxis": "x",
           "y": [
            3
           ],
           "yaxis": "y"
          },
          {
           "alignmentgroup": "True",
           "hovertemplate": "pais=%{x}<br>registration_year_month=201811<br>count=%{y}<extra></extra>",
           "ids": [
            "PER"
           ],
           "legendgroup": "PER",
           "marker": {
            "color": "#ab63fa",
            "pattern": {
             "shape": ""
            }
           },
           "name": "PER",
           "offsetgroup": "PER",
           "orientation": "v",
           "showlegend": true,
           "textposition": "auto",
           "type": "bar",
           "x": [
            "PER"
           ],
           "xaxis": "x",
           "y": [
            4
           ],
           "yaxis": "y"
          },
          {
           "alignmentgroup": "True",
           "hovertemplate": "pais=%{x}<br>registration_year_month=201811<br>count=%{y}<extra></extra>",
           "ids": [
            "CHL"
           ],
           "legendgroup": "CHL",
           "marker": {
            "color": "#FF6692",
            "pattern": {
             "shape": ""
            }
           },
           "name": "CHL",
           "offsetgroup": "CHL",
           "orientation": "v",
           "showlegend": true,
           "textposition": "auto",
           "type": "bar",
           "x": [
            "CHL"
           ],
           "xaxis": "x",
           "y": [
            2
           ],
           "yaxis": "y"
          },
          {
           "alignmentgroup": "True",
           "hovertemplate": "pais=%{x}<br>registration_year_month=201811<br>count=%{y}<extra></extra>",
           "ids": [
            "COL"
           ],
           "legendgroup": "COL",
           "marker": {
            "color": "#B6E880",
            "pattern": {
             "shape": ""
            }
           },
           "name": "COL",
           "offsetgroup": "COL",
           "orientation": "v",
           "showlegend": true,
           "textposition": "auto",
           "type": "bar",
           "x": [
            "COL"
           ],
           "xaxis": "x",
           "y": [
            1
           ],
           "yaxis": "y"
          },
          {
           "alignmentgroup": "True",
           "hovertemplate": "pais=%{x}<br>registration_year_month=201811<br>count=%{y}<extra></extra>",
           "ids": [
            "GTM"
           ],
           "legendgroup": "GTM",
           "marker": {
            "color": "#FF97FF",
            "pattern": {
             "shape": ""
            }
           },
           "name": "GTM",
           "offsetgroup": "GTM",
           "orientation": "v",
           "showlegend": true,
           "textposition": "auto",
           "type": "bar",
           "x": [
            "GTM"
           ],
           "xaxis": "x",
           "y": [
            1
           ],
           "yaxis": "y"
          },
          {
           "alignmentgroup": "True",
           "hovertemplate": "pais=%{x}<br>registration_year_month=201811<br>count=%{y}<extra></extra>",
           "ids": [
            "ARG"
           ],
           "legendgroup": "ARG",
           "marker": {
            "color": "#FECB52",
            "pattern": {
             "shape": ""
            }
           },
           "name": "ARG",
           "offsetgroup": "ARG",
           "orientation": "v",
           "showlegend": true,
           "textposition": "auto",
           "type": "bar",
           "x": [
            "ARG"
           ],
           "xaxis": "x",
           "y": [
            2
           ],
           "yaxis": "y"
          },
          {
           "alignmentgroup": "True",
           "hovertemplate": "pais=%{x}<br>registration_year_month=201811<br>count=%{y}<extra></extra>",
           "ids": [
            "AND"
           ],
           "legendgroup": "AND",
           "marker": {
            "color": "#00cc96",
            "pattern": {
             "shape": ""
            }
           },
           "name": "AND",
           "offsetgroup": "AND",
           "orientation": "v",
           "showlegend": true,
           "textposition": "auto",
           "type": "bar",
           "x": [
            "AND"
           ],
           "xaxis": "x",
           "y": [
            1
           ],
           "yaxis": "y"
          },
          {
           "alignmentgroup": "True",
           "hovertemplate": "pais=%{x}<br>registration_year_month=201811<br>count=%{y}<extra></extra>",
           "ids": [
            "ECU"
           ],
           "legendgroup": "ECU",
           "marker": {
            "color": "#B6E880",
            "pattern": {
             "shape": ""
            }
           },
           "name": "ECU",
           "offsetgroup": "ECU",
           "orientation": "v",
           "showlegend": true,
           "textposition": "auto",
           "type": "bar",
           "x": [
            "ECU"
           ],
           "xaxis": "x",
           "y": [
            1
           ],
           "yaxis": "y"
          },
          {
           "alignmentgroup": "True",
           "hovertemplate": "pais=%{x}<br>registration_year_month=201811<br>count=%{y}<extra></extra>",
           "ids": [
            "CRI"
           ],
           "legendgroup": "CRI",
           "marker": {
            "color": "#FECB52",
            "pattern": {
             "shape": ""
            }
           },
           "name": "CRI",
           "offsetgroup": "CRI",
           "orientation": "v",
           "showlegend": true,
           "textposition": "auto",
           "type": "bar",
           "x": [
            "CRI"
           ],
           "xaxis": "x",
           "y": [
            4
           ],
           "yaxis": "y"
          },
          {
           "alignmentgroup": "True",
           "hovertemplate": "pais=%{x}<br>registration_year_month=201811<br>count=%{y}<extra></extra>",
           "ids": [
            "PAN"
           ],
           "legendgroup": "PAN",
           "marker": {
            "color": "#EF553B",
            "pattern": {
             "shape": ""
            }
           },
           "name": "PAN",
           "offsetgroup": "PAN",
           "orientation": "v",
           "showlegend": true,
           "textposition": "auto",
           "type": "bar",
           "x": [
            "PAN"
           ],
           "xaxis": "x",
           "y": [
            2
           ],
           "yaxis": "y"
          },
          {
           "alignmentgroup": "True",
           "hovertemplate": "pais=%{x}<br>registration_year_month=201811<br>count=%{y}<extra></extra>",
           "ids": [
            "HND"
           ],
           "legendgroup": "HND",
           "marker": {
            "color": "#B6E880",
            "pattern": {
             "shape": ""
            }
           },
           "name": "HND",
           "offsetgroup": "HND",
           "orientation": "v",
           "showlegend": true,
           "textposition": "auto",
           "type": "bar",
           "x": [
            "HND"
           ],
           "xaxis": "x",
           "y": [
            1
           ],
           "yaxis": "y"
          }
         ],
         "name": "201811"
        },
        {
         "data": [
          {
           "alignmentgroup": "True",
           "hovertemplate": "pais=%{x}<br>registration_year_month=201812<br>count=%{y}<extra></extra>",
           "ids": [
            "DOM"
           ],
           "legendgroup": "DOM",
           "marker": {
            "color": "#636efa",
            "pattern": {
             "shape": ""
            }
           },
           "name": "DOM",
           "offsetgroup": "DOM",
           "orientation": "v",
           "showlegend": true,
           "textposition": "auto",
           "type": "bar",
           "x": [
            "DOM"
           ],
           "xaxis": "x",
           "y": [
            1
           ],
           "yaxis": "y"
          },
          {
           "alignmentgroup": "True",
           "hovertemplate": "pais=%{x}<br>registration_year_month=201812<br>count=%{y}<extra></extra>",
           "ids": [
            "ESP"
           ],
           "legendgroup": "ESP",
           "marker": {
            "color": "#EF553B",
            "pattern": {
             "shape": ""
            }
           },
           "name": "ESP",
           "offsetgroup": "ESP",
           "orientation": "v",
           "showlegend": true,
           "textposition": "auto",
           "type": "bar",
           "x": [
            "ESP"
           ],
           "xaxis": "x",
           "y": [
            39
           ],
           "yaxis": "y"
          },
          {
           "alignmentgroup": "True",
           "hovertemplate": "pais=%{x}<br>registration_year_month=201812<br>count=%{y}<extra></extra>",
           "ids": [
            "MEX"
           ],
           "legendgroup": "MEX",
           "marker": {
            "color": "#00cc96",
            "pattern": {
             "shape": ""
            }
           },
           "name": "MEX",
           "offsetgroup": "MEX",
           "orientation": "v",
           "showlegend": true,
           "textposition": "auto",
           "type": "bar",
           "x": [
            "MEX"
           ],
           "xaxis": "x",
           "y": [
            28
           ],
           "yaxis": "y"
          },
          {
           "alignmentgroup": "True",
           "hovertemplate": "pais=%{x}<br>registration_year_month=201812<br>count=%{y}<extra></extra>",
           "ids": [
            "PER"
           ],
           "legendgroup": "PER",
           "marker": {
            "color": "#ab63fa",
            "pattern": {
             "shape": ""
            }
           },
           "name": "PER",
           "offsetgroup": "PER",
           "orientation": "v",
           "showlegend": true,
           "textposition": "auto",
           "type": "bar",
           "x": [
            "PER"
           ],
           "xaxis": "x",
           "y": [
            72
           ],
           "yaxis": "y"
          },
          {
           "alignmentgroup": "True",
           "hovertemplate": "pais=%{x}<br>registration_year_month=201812<br>count=%{y}<extra></extra>",
           "ids": [
            "COL"
           ],
           "legendgroup": "COL",
           "marker": {
            "color": "#B6E880",
            "pattern": {
             "shape": ""
            }
           },
           "name": "COL",
           "offsetgroup": "COL",
           "orientation": "v",
           "showlegend": true,
           "textposition": "auto",
           "type": "bar",
           "x": [
            "COL"
           ],
           "xaxis": "x",
           "y": [
            3
           ],
           "yaxis": "y"
          },
          {
           "alignmentgroup": "True",
           "hovertemplate": "pais=%{x}<br>registration_year_month=201812<br>count=%{y}<extra></extra>",
           "ids": [
            "ARG"
           ],
           "legendgroup": "ARG",
           "marker": {
            "color": "#FECB52",
            "pattern": {
             "shape": ""
            }
           },
           "name": "ARG",
           "offsetgroup": "ARG",
           "orientation": "v",
           "showlegend": true,
           "textposition": "auto",
           "type": "bar",
           "x": [
            "ARG"
           ],
           "xaxis": "x",
           "y": [
            3
           ],
           "yaxis": "y"
          },
          {
           "alignmentgroup": "True",
           "hovertemplate": "pais=%{x}<br>registration_year_month=201812<br>count=%{y}<extra></extra>",
           "ids": [
            "VEN"
           ],
           "legendgroup": "VEN",
           "marker": {
            "color": "#EF553B",
            "pattern": {
             "shape": ""
            }
           },
           "name": "VEN",
           "offsetgroup": "VEN",
           "orientation": "v",
           "showlegend": true,
           "textposition": "auto",
           "type": "bar",
           "x": [
            "VEN"
           ],
           "xaxis": "x",
           "y": [
            1
           ],
           "yaxis": "y"
          },
          {
           "alignmentgroup": "True",
           "hovertemplate": "pais=%{x}<br>registration_year_month=201812<br>count=%{y}<extra></extra>",
           "ids": [
            "ECU"
           ],
           "legendgroup": "ECU",
           "marker": {
            "color": "#B6E880",
            "pattern": {
             "shape": ""
            }
           },
           "name": "ECU",
           "offsetgroup": "ECU",
           "orientation": "v",
           "showlegend": true,
           "textposition": "auto",
           "type": "bar",
           "x": [
            "ECU"
           ],
           "xaxis": "x",
           "y": [
            1
           ],
           "yaxis": "y"
          },
          {
           "alignmentgroup": "True",
           "hovertemplate": "pais=%{x}<br>registration_year_month=201812<br>count=%{y}<extra></extra>",
           "ids": [
            "CRI"
           ],
           "legendgroup": "CRI",
           "marker": {
            "color": "#FECB52",
            "pattern": {
             "shape": ""
            }
           },
           "name": "CRI",
           "offsetgroup": "CRI",
           "orientation": "v",
           "showlegend": true,
           "textposition": "auto",
           "type": "bar",
           "x": [
            "CRI"
           ],
           "xaxis": "x",
           "y": [
            1
           ],
           "yaxis": "y"
          },
          {
           "alignmentgroup": "True",
           "hovertemplate": "pais=%{x}<br>registration_year_month=201812<br>count=%{y}<extra></extra>",
           "ids": [
            "HND"
           ],
           "legendgroup": "HND",
           "marker": {
            "color": "#B6E880",
            "pattern": {
             "shape": ""
            }
           },
           "name": "HND",
           "offsetgroup": "HND",
           "orientation": "v",
           "showlegend": true,
           "textposition": "auto",
           "type": "bar",
           "x": [
            "HND"
           ],
           "xaxis": "x",
           "y": [
            2
           ],
           "yaxis": "y"
          }
         ],
         "name": "201812"
        },
        {
         "data": [
          {
           "alignmentgroup": "True",
           "hovertemplate": "pais=%{x}<br>registration_year_month=20182<br>count=%{y}<extra></extra>",
           "ids": [
            "DOM"
           ],
           "legendgroup": "DOM",
           "marker": {
            "color": "#636efa",
            "pattern": {
             "shape": ""
            }
           },
           "name": "DOM",
           "offsetgroup": "DOM",
           "orientation": "v",
           "showlegend": true,
           "textposition": "auto",
           "type": "bar",
           "x": [
            "DOM"
           ],
           "xaxis": "x",
           "y": [
            1
           ],
           "yaxis": "y"
          },
          {
           "alignmentgroup": "True",
           "hovertemplate": "pais=%{x}<br>registration_year_month=20182<br>count=%{y}<extra></extra>",
           "ids": [
            "ESP"
           ],
           "legendgroup": "ESP",
           "marker": {
            "color": "#EF553B",
            "pattern": {
             "shape": ""
            }
           },
           "name": "ESP",
           "offsetgroup": "ESP",
           "orientation": "v",
           "showlegend": true,
           "textposition": "auto",
           "type": "bar",
           "x": [
            "ESP"
           ],
           "xaxis": "x",
           "y": [
            85
           ],
           "yaxis": "y"
          },
          {
           "alignmentgroup": "True",
           "hovertemplate": "pais=%{x}<br>registration_year_month=20182<br>count=%{y}<extra></extra>",
           "ids": [
            "MEX"
           ],
           "legendgroup": "MEX",
           "marker": {
            "color": "#00cc96",
            "pattern": {
             "shape": ""
            }
           },
           "name": "MEX",
           "offsetgroup": "MEX",
           "orientation": "v",
           "showlegend": true,
           "textposition": "auto",
           "type": "bar",
           "x": [
            "MEX"
           ],
           "xaxis": "x",
           "y": [
            29
           ],
           "yaxis": "y"
          },
          {
           "alignmentgroup": "True",
           "hovertemplate": "pais=%{x}<br>registration_year_month=20182<br>count=%{y}<extra></extra>",
           "ids": [
            "COL"
           ],
           "legendgroup": "COL",
           "marker": {
            "color": "#B6E880",
            "pattern": {
             "shape": ""
            }
           },
           "name": "COL",
           "offsetgroup": "COL",
           "orientation": "v",
           "showlegend": true,
           "textposition": "auto",
           "type": "bar",
           "x": [
            "COL"
           ],
           "xaxis": "x",
           "y": [
            1
           ],
           "yaxis": "y"
          },
          {
           "alignmentgroup": "True",
           "hovertemplate": "pais=%{x}<br>registration_year_month=20182<br>count=%{y}<extra></extra>",
           "ids": [
            "ARG"
           ],
           "legendgroup": "ARG",
           "marker": {
            "color": "#FECB52",
            "pattern": {
             "shape": ""
            }
           },
           "name": "ARG",
           "offsetgroup": "ARG",
           "orientation": "v",
           "showlegend": true,
           "textposition": "auto",
           "type": "bar",
           "x": [
            "ARG"
           ],
           "xaxis": "x",
           "y": [
            6
           ],
           "yaxis": "y"
          },
          {
           "alignmentgroup": "True",
           "hovertemplate": "pais=%{x}<br>registration_year_month=20182<br>count=%{y}<extra></extra>",
           "ids": [
            "VEN"
           ],
           "legendgroup": "VEN",
           "marker": {
            "color": "#EF553B",
            "pattern": {
             "shape": ""
            }
           },
           "name": "VEN",
           "offsetgroup": "VEN",
           "orientation": "v",
           "showlegend": true,
           "textposition": "auto",
           "type": "bar",
           "x": [
            "VEN"
           ],
           "xaxis": "x",
           "y": [
            1
           ],
           "yaxis": "y"
          },
          {
           "alignmentgroup": "True",
           "hovertemplate": "pais=%{x}<br>registration_year_month=20182<br>count=%{y}<extra></extra>",
           "ids": [
            "AND"
           ],
           "legendgroup": "AND",
           "marker": {
            "color": "#00cc96",
            "pattern": {
             "shape": ""
            }
           },
           "name": "AND",
           "offsetgroup": "AND",
           "orientation": "v",
           "showlegend": true,
           "textposition": "auto",
           "type": "bar",
           "x": [
            "AND"
           ],
           "xaxis": "x",
           "y": [
            87
           ],
           "yaxis": "y"
          },
          {
           "alignmentgroup": "True",
           "hovertemplate": "pais=%{x}<br>registration_year_month=20182<br>count=%{y}<extra></extra>",
           "ids": [
            "ECU"
           ],
           "legendgroup": "ECU",
           "marker": {
            "color": "#B6E880",
            "pattern": {
             "shape": ""
            }
           },
           "name": "ECU",
           "offsetgroup": "ECU",
           "orientation": "v",
           "showlegend": true,
           "textposition": "auto",
           "type": "bar",
           "x": [
            "ECU"
           ],
           "xaxis": "x",
           "y": [
            1
           ],
           "yaxis": "y"
          },
          {
           "alignmentgroup": "True",
           "hovertemplate": "pais=%{x}<br>registration_year_month=20182<br>count=%{y}<extra></extra>",
           "ids": [
            "CRI"
           ],
           "legendgroup": "CRI",
           "marker": {
            "color": "#FECB52",
            "pattern": {
             "shape": ""
            }
           },
           "name": "CRI",
           "offsetgroup": "CRI",
           "orientation": "v",
           "showlegend": true,
           "textposition": "auto",
           "type": "bar",
           "x": [
            "CRI"
           ],
           "xaxis": "x",
           "y": [
            1
           ],
           "yaxis": "y"
          }
         ],
         "name": "20182"
        },
        {
         "data": [
          {
           "alignmentgroup": "True",
           "hovertemplate": "pais=%{x}<br>registration_year_month=20183<br>count=%{y}<extra></extra>",
           "ids": [
            "DOM"
           ],
           "legendgroup": "DOM",
           "marker": {
            "color": "#636efa",
            "pattern": {
             "shape": ""
            }
           },
           "name": "DOM",
           "offsetgroup": "DOM",
           "orientation": "v",
           "showlegend": true,
           "textposition": "auto",
           "type": "bar",
           "x": [
            "DOM"
           ],
           "xaxis": "x",
           "y": [
            69
           ],
           "yaxis": "y"
          },
          {
           "alignmentgroup": "True",
           "hovertemplate": "pais=%{x}<br>registration_year_month=20183<br>count=%{y}<extra></extra>",
           "ids": [
            "ESP"
           ],
           "legendgroup": "ESP",
           "marker": {
            "color": "#EF553B",
            "pattern": {
             "shape": ""
            }
           },
           "name": "ESP",
           "offsetgroup": "ESP",
           "orientation": "v",
           "showlegend": true,
           "textposition": "auto",
           "type": "bar",
           "x": [
            "ESP"
           ],
           "xaxis": "x",
           "y": [
            28
           ],
           "yaxis": "y"
          },
          {
           "alignmentgroup": "True",
           "hovertemplate": "pais=%{x}<br>registration_year_month=20183<br>count=%{y}<extra></extra>",
           "ids": [
            "MEX"
           ],
           "legendgroup": "MEX",
           "marker": {
            "color": "#00cc96",
            "pattern": {
             "shape": ""
            }
           },
           "name": "MEX",
           "offsetgroup": "MEX",
           "orientation": "v",
           "showlegend": true,
           "textposition": "auto",
           "type": "bar",
           "x": [
            "MEX"
           ],
           "xaxis": "x",
           "y": [
            23
           ],
           "yaxis": "y"
          },
          {
           "alignmentgroup": "True",
           "hovertemplate": "pais=%{x}<br>registration_year_month=20183<br>count=%{y}<extra></extra>",
           "ids": [
            "PER"
           ],
           "legendgroup": "PER",
           "marker": {
            "color": "#ab63fa",
            "pattern": {
             "shape": ""
            }
           },
           "name": "PER",
           "offsetgroup": "PER",
           "orientation": "v",
           "showlegend": true,
           "textposition": "auto",
           "type": "bar",
           "x": [
            "PER"
           ],
           "xaxis": "x",
           "y": [
            1
           ],
           "yaxis": "y"
          },
          {
           "alignmentgroup": "True",
           "hovertemplate": "pais=%{x}<br>registration_year_month=20183<br>count=%{y}<extra></extra>",
           "ids": [
            "CHL"
           ],
           "legendgroup": "CHL",
           "marker": {
            "color": "#FF6692",
            "pattern": {
             "shape": ""
            }
           },
           "name": "CHL",
           "offsetgroup": "CHL",
           "orientation": "v",
           "showlegend": true,
           "textposition": "auto",
           "type": "bar",
           "x": [
            "CHL"
           ],
           "xaxis": "x",
           "y": [
            1
           ],
           "yaxis": "y"
          },
          {
           "alignmentgroup": "True",
           "hovertemplate": "pais=%{x}<br>registration_year_month=20183<br>count=%{y}<extra></extra>",
           "ids": [
            "COL"
           ],
           "legendgroup": "COL",
           "marker": {
            "color": "#B6E880",
            "pattern": {
             "shape": ""
            }
           },
           "name": "COL",
           "offsetgroup": "COL",
           "orientation": "v",
           "showlegend": true,
           "textposition": "auto",
           "type": "bar",
           "x": [
            "COL"
           ],
           "xaxis": "x",
           "y": [
            1
           ],
           "yaxis": "y"
          },
          {
           "alignmentgroup": "True",
           "hovertemplate": "pais=%{x}<br>registration_year_month=20183<br>count=%{y}<extra></extra>",
           "ids": [
            "ARG"
           ],
           "legendgroup": "ARG",
           "marker": {
            "color": "#FECB52",
            "pattern": {
             "shape": ""
            }
           },
           "name": "ARG",
           "offsetgroup": "ARG",
           "orientation": "v",
           "showlegend": true,
           "textposition": "auto",
           "type": "bar",
           "x": [
            "ARG"
           ],
           "xaxis": "x",
           "y": [
            2
           ],
           "yaxis": "y"
          },
          {
           "alignmentgroup": "True",
           "hovertemplate": "pais=%{x}<br>registration_year_month=20183<br>count=%{y}<extra></extra>",
           "ids": [
            "URY"
           ],
           "legendgroup": "URY",
           "marker": {
            "color": "#636efa",
            "pattern": {
             "shape": ""
            }
           },
           "name": "URY",
           "offsetgroup": "URY",
           "orientation": "v",
           "showlegend": true,
           "textposition": "auto",
           "type": "bar",
           "x": [
            "URY"
           ],
           "xaxis": "x",
           "y": [
            3
           ],
           "yaxis": "y"
          },
          {
           "alignmentgroup": "True",
           "hovertemplate": "pais=%{x}<br>registration_year_month=20183<br>count=%{y}<extra></extra>",
           "ids": [
            "AND"
           ],
           "legendgroup": "AND",
           "marker": {
            "color": "#00cc96",
            "pattern": {
             "shape": ""
            }
           },
           "name": "AND",
           "offsetgroup": "AND",
           "orientation": "v",
           "showlegend": true,
           "textposition": "auto",
           "type": "bar",
           "x": [
            "AND"
           ],
           "xaxis": "x",
           "y": [
            2
           ],
           "yaxis": "y"
          },
          {
           "alignmentgroup": "True",
           "hovertemplate": "pais=%{x}<br>registration_year_month=20183<br>count=%{y}<extra></extra>",
           "ids": [
            "ECU"
           ],
           "legendgroup": "ECU",
           "marker": {
            "color": "#B6E880",
            "pattern": {
             "shape": ""
            }
           },
           "name": "ECU",
           "offsetgroup": "ECU",
           "orientation": "v",
           "showlegend": true,
           "textposition": "auto",
           "type": "bar",
           "x": [
            "ECU"
           ],
           "xaxis": "x",
           "y": [
            106
           ],
           "yaxis": "y"
          }
         ],
         "name": "20183"
        },
        {
         "data": [
          {
           "alignmentgroup": "True",
           "hovertemplate": "pais=%{x}<br>registration_year_month=20184<br>count=%{y}<extra></extra>",
           "ids": [
            "DOM"
           ],
           "legendgroup": "DOM",
           "marker": {
            "color": "#636efa",
            "pattern": {
             "shape": ""
            }
           },
           "name": "DOM",
           "offsetgroup": "DOM",
           "orientation": "v",
           "showlegend": true,
           "textposition": "auto",
           "type": "bar",
           "x": [
            "DOM"
           ],
           "xaxis": "x",
           "y": [
            7
           ],
           "yaxis": "y"
          },
          {
           "alignmentgroup": "True",
           "hovertemplate": "pais=%{x}<br>registration_year_month=20184<br>count=%{y}<extra></extra>",
           "ids": [
            "ESP"
           ],
           "legendgroup": "ESP",
           "marker": {
            "color": "#EF553B",
            "pattern": {
             "shape": ""
            }
           },
           "name": "ESP",
           "offsetgroup": "ESP",
           "orientation": "v",
           "showlegend": true,
           "textposition": "auto",
           "type": "bar",
           "x": [
            "ESP"
           ],
           "xaxis": "x",
           "y": [
            12
           ],
           "yaxis": "y"
          },
          {
           "alignmentgroup": "True",
           "hovertemplate": "pais=%{x}<br>registration_year_month=20184<br>count=%{y}<extra></extra>",
           "ids": [
            "MEX"
           ],
           "legendgroup": "MEX",
           "marker": {
            "color": "#00cc96",
            "pattern": {
             "shape": ""
            }
           },
           "name": "MEX",
           "offsetgroup": "MEX",
           "orientation": "v",
           "showlegend": true,
           "textposition": "auto",
           "type": "bar",
           "x": [
            "MEX"
           ],
           "xaxis": "x",
           "y": [
            11
           ],
           "yaxis": "y"
          },
          {
           "alignmentgroup": "True",
           "hovertemplate": "pais=%{x}<br>registration_year_month=20184<br>count=%{y}<extra></extra>",
           "ids": [
            "PER"
           ],
           "legendgroup": "PER",
           "marker": {
            "color": "#ab63fa",
            "pattern": {
             "shape": ""
            }
           },
           "name": "PER",
           "offsetgroup": "PER",
           "orientation": "v",
           "showlegend": true,
           "textposition": "auto",
           "type": "bar",
           "x": [
            "PER"
           ],
           "xaxis": "x",
           "y": [
            2
           ],
           "yaxis": "y"
          },
          {
           "alignmentgroup": "True",
           "hovertemplate": "pais=%{x}<br>registration_year_month=20184<br>count=%{y}<extra></extra>",
           "ids": [
            "COL"
           ],
           "legendgroup": "COL",
           "marker": {
            "color": "#B6E880",
            "pattern": {
             "shape": ""
            }
           },
           "name": "COL",
           "offsetgroup": "COL",
           "orientation": "v",
           "showlegend": true,
           "textposition": "auto",
           "type": "bar",
           "x": [
            "COL"
           ],
           "xaxis": "x",
           "y": [
            3
           ],
           "yaxis": "y"
          },
          {
           "alignmentgroup": "True",
           "hovertemplate": "pais=%{x}<br>registration_year_month=20184<br>count=%{y}<extra></extra>",
           "ids": [
            "ARG"
           ],
           "legendgroup": "ARG",
           "marker": {
            "color": "#FECB52",
            "pattern": {
             "shape": ""
            }
           },
           "name": "ARG",
           "offsetgroup": "ARG",
           "orientation": "v",
           "showlegend": true,
           "textposition": "auto",
           "type": "bar",
           "x": [
            "ARG"
           ],
           "xaxis": "x",
           "y": [
            1
           ],
           "yaxis": "y"
          },
          {
           "alignmentgroup": "True",
           "hovertemplate": "pais=%{x}<br>registration_year_month=20184<br>count=%{y}<extra></extra>",
           "ids": [
            "VEN"
           ],
           "legendgroup": "VEN",
           "marker": {
            "color": "#EF553B",
            "pattern": {
             "shape": ""
            }
           },
           "name": "VEN",
           "offsetgroup": "VEN",
           "orientation": "v",
           "showlegend": true,
           "textposition": "auto",
           "type": "bar",
           "x": [
            "VEN"
           ],
           "xaxis": "x",
           "y": [
            2
           ],
           "yaxis": "y"
          },
          {
           "alignmentgroup": "True",
           "hovertemplate": "pais=%{x}<br>registration_year_month=20184<br>count=%{y}<extra></extra>",
           "ids": [
            "ECU"
           ],
           "legendgroup": "ECU",
           "marker": {
            "color": "#B6E880",
            "pattern": {
             "shape": ""
            }
           },
           "name": "ECU",
           "offsetgroup": "ECU",
           "orientation": "v",
           "showlegend": true,
           "textposition": "auto",
           "type": "bar",
           "x": [
            "ECU"
           ],
           "xaxis": "x",
           "y": [
            6
           ],
           "yaxis": "y"
          },
          {
           "alignmentgroup": "True",
           "hovertemplate": "pais=%{x}<br>registration_year_month=20184<br>count=%{y}<extra></extra>",
           "ids": [
            "PRY"
           ],
           "legendgroup": "PRY",
           "marker": {
            "color": "#19d3f3",
            "pattern": {
             "shape": ""
            }
           },
           "name": "PRY",
           "offsetgroup": "PRY",
           "orientation": "v",
           "showlegend": true,
           "textposition": "auto",
           "type": "bar",
           "x": [
            "PRY"
           ],
           "xaxis": "x",
           "y": [
            1
           ],
           "yaxis": "y"
          }
         ],
         "name": "20184"
        },
        {
         "data": [
          {
           "alignmentgroup": "True",
           "hovertemplate": "pais=%{x}<br>registration_year_month=20185<br>count=%{y}<extra></extra>",
           "ids": [
            "DOM"
           ],
           "legendgroup": "DOM",
           "marker": {
            "color": "#636efa",
            "pattern": {
             "shape": ""
            }
           },
           "name": "DOM",
           "offsetgroup": "DOM",
           "orientation": "v",
           "showlegend": true,
           "textposition": "auto",
           "type": "bar",
           "x": [
            "DOM"
           ],
           "xaxis": "x",
           "y": [
            4
           ],
           "yaxis": "y"
          },
          {
           "alignmentgroup": "True",
           "hovertemplate": "pais=%{x}<br>registration_year_month=20185<br>count=%{y}<extra></extra>",
           "ids": [
            "ESP"
           ],
           "legendgroup": "ESP",
           "marker": {
            "color": "#EF553B",
            "pattern": {
             "shape": ""
            }
           },
           "name": "ESP",
           "offsetgroup": "ESP",
           "orientation": "v",
           "showlegend": true,
           "textposition": "auto",
           "type": "bar",
           "x": [
            "ESP"
           ],
           "xaxis": "x",
           "y": [
            51
           ],
           "yaxis": "y"
          },
          {
           "alignmentgroup": "True",
           "hovertemplate": "pais=%{x}<br>registration_year_month=20185<br>count=%{y}<extra></extra>",
           "ids": [
            "MEX"
           ],
           "legendgroup": "MEX",
           "marker": {
            "color": "#00cc96",
            "pattern": {
             "shape": ""
            }
           },
           "name": "MEX",
           "offsetgroup": "MEX",
           "orientation": "v",
           "showlegend": true,
           "textposition": "auto",
           "type": "bar",
           "x": [
            "MEX"
           ],
           "xaxis": "x",
           "y": [
            8
           ],
           "yaxis": "y"
          },
          {
           "alignmentgroup": "True",
           "hovertemplate": "pais=%{x}<br>registration_year_month=20185<br>count=%{y}<extra></extra>",
           "ids": [
            "PER"
           ],
           "legendgroup": "PER",
           "marker": {
            "color": "#ab63fa",
            "pattern": {
             "shape": ""
            }
           },
           "name": "PER",
           "offsetgroup": "PER",
           "orientation": "v",
           "showlegend": true,
           "textposition": "auto",
           "type": "bar",
           "x": [
            "PER"
           ],
           "xaxis": "x",
           "y": [
            5
           ],
           "yaxis": "y"
          },
          {
           "alignmentgroup": "True",
           "hovertemplate": "pais=%{x}<br>registration_year_month=20185<br>count=%{y}<extra></extra>",
           "ids": [
            "COL"
           ],
           "legendgroup": "COL",
           "marker": {
            "color": "#B6E880",
            "pattern": {
             "shape": ""
            }
           },
           "name": "COL",
           "offsetgroup": "COL",
           "orientation": "v",
           "showlegend": true,
           "textposition": "auto",
           "type": "bar",
           "x": [
            "COL"
           ],
           "xaxis": "x",
           "y": [
            1
           ],
           "yaxis": "y"
          },
          {
           "alignmentgroup": "True",
           "hovertemplate": "pais=%{x}<br>registration_year_month=20185<br>count=%{y}<extra></extra>",
           "ids": [
            "ARG"
           ],
           "legendgroup": "ARG",
           "marker": {
            "color": "#FECB52",
            "pattern": {
             "shape": ""
            }
           },
           "name": "ARG",
           "offsetgroup": "ARG",
           "orientation": "v",
           "showlegend": true,
           "textposition": "auto",
           "type": "bar",
           "x": [
            "ARG"
           ],
           "xaxis": "x",
           "y": [
            5
           ],
           "yaxis": "y"
          },
          {
           "alignmentgroup": "True",
           "hovertemplate": "pais=%{x}<br>registration_year_month=20185<br>count=%{y}<extra></extra>",
           "ids": [
            "ECU"
           ],
           "legendgroup": "ECU",
           "marker": {
            "color": "#B6E880",
            "pattern": {
             "shape": ""
            }
           },
           "name": "ECU",
           "offsetgroup": "ECU",
           "orientation": "v",
           "showlegend": true,
           "textposition": "auto",
           "type": "bar",
           "x": [
            "ECU"
           ],
           "xaxis": "x",
           "y": [
            2
           ],
           "yaxis": "y"
          },
          {
           "alignmentgroup": "True",
           "hovertemplate": "pais=%{x}<br>registration_year_month=20185<br>count=%{y}<extra></extra>",
           "ids": [
            "CRI"
           ],
           "legendgroup": "CRI",
           "marker": {
            "color": "#FECB52",
            "pattern": {
             "shape": ""
            }
           },
           "name": "CRI",
           "offsetgroup": "CRI",
           "orientation": "v",
           "showlegend": true,
           "textposition": "auto",
           "type": "bar",
           "x": [
            "CRI"
           ],
           "xaxis": "x",
           "y": [
            1
           ],
           "yaxis": "y"
          },
          {
           "alignmentgroup": "True",
           "hovertemplate": "pais=%{x}<br>registration_year_month=20185<br>count=%{y}<extra></extra>",
           "ids": [
            "HND"
           ],
           "legendgroup": "HND",
           "marker": {
            "color": "#B6E880",
            "pattern": {
             "shape": ""
            }
           },
           "name": "HND",
           "offsetgroup": "HND",
           "orientation": "v",
           "showlegend": true,
           "textposition": "auto",
           "type": "bar",
           "x": [
            "HND"
           ],
           "xaxis": "x",
           "y": [
            3
           ],
           "yaxis": "y"
          },
          {
           "alignmentgroup": "True",
           "hovertemplate": "pais=%{x}<br>registration_year_month=20185<br>count=%{y}<extra></extra>",
           "ids": [
            "BOL"
           ],
           "legendgroup": "BOL",
           "marker": {
            "color": "#636efa",
            "pattern": {
             "shape": ""
            }
           },
           "name": "BOL",
           "offsetgroup": "BOL",
           "orientation": "v",
           "showlegend": true,
           "textposition": "auto",
           "type": "bar",
           "x": [
            "BOL"
           ],
           "xaxis": "x",
           "y": [
            1
           ],
           "yaxis": "y"
          },
          {
           "alignmentgroup": "True",
           "hovertemplate": "pais=%{x}<br>registration_year_month=20185<br>count=%{y}<extra></extra>",
           "ids": [
            "THA"
           ],
           "legendgroup": "THA",
           "marker": {
            "color": "#EF553B",
            "pattern": {
             "shape": ""
            }
           },
           "name": "THA",
           "offsetgroup": "THA",
           "orientation": "v",
           "showlegend": true,
           "textposition": "auto",
           "type": "bar",
           "x": [
            "THA"
           ],
           "xaxis": "x",
           "y": [
            1
           ],
           "yaxis": "y"
          }
         ],
         "name": "20185"
        },
        {
         "data": [
          {
           "alignmentgroup": "True",
           "hovertemplate": "pais=%{x}<br>registration_year_month=20186<br>count=%{y}<extra></extra>",
           "ids": [
            "ESP"
           ],
           "legendgroup": "ESP",
           "marker": {
            "color": "#EF553B",
            "pattern": {
             "shape": ""
            }
           },
           "name": "ESP",
           "offsetgroup": "ESP",
           "orientation": "v",
           "showlegend": true,
           "textposition": "auto",
           "type": "bar",
           "x": [
            "ESP"
           ],
           "xaxis": "x",
           "y": [
            14
           ],
           "yaxis": "y"
          },
          {
           "alignmentgroup": "True",
           "hovertemplate": "pais=%{x}<br>registration_year_month=20186<br>count=%{y}<extra></extra>",
           "ids": [
            "MEX"
           ],
           "legendgroup": "MEX",
           "marker": {
            "color": "#00cc96",
            "pattern": {
             "shape": ""
            }
           },
           "name": "MEX",
           "offsetgroup": "MEX",
           "orientation": "v",
           "showlegend": true,
           "textposition": "auto",
           "type": "bar",
           "x": [
            "MEX"
           ],
           "xaxis": "x",
           "y": [
            9
           ],
           "yaxis": "y"
          },
          {
           "alignmentgroup": "True",
           "hovertemplate": "pais=%{x}<br>registration_year_month=20186<br>count=%{y}<extra></extra>",
           "ids": [
            "COL"
           ],
           "legendgroup": "COL",
           "marker": {
            "color": "#B6E880",
            "pattern": {
             "shape": ""
            }
           },
           "name": "COL",
           "offsetgroup": "COL",
           "orientation": "v",
           "showlegend": true,
           "textposition": "auto",
           "type": "bar",
           "x": [
            "COL"
           ],
           "xaxis": "x",
           "y": [
            1
           ],
           "yaxis": "y"
          },
          {
           "alignmentgroup": "True",
           "hovertemplate": "pais=%{x}<br>registration_year_month=20186<br>count=%{y}<extra></extra>",
           "ids": [
            "GTM"
           ],
           "legendgroup": "GTM",
           "marker": {
            "color": "#FF97FF",
            "pattern": {
             "shape": ""
            }
           },
           "name": "GTM",
           "offsetgroup": "GTM",
           "orientation": "v",
           "showlegend": true,
           "textposition": "auto",
           "type": "bar",
           "x": [
            "GTM"
           ],
           "xaxis": "x",
           "y": [
            1
           ],
           "yaxis": "y"
          },
          {
           "alignmentgroup": "True",
           "hovertemplate": "pais=%{x}<br>registration_year_month=20186<br>count=%{y}<extra></extra>",
           "ids": [
            "ARG"
           ],
           "legendgroup": "ARG",
           "marker": {
            "color": "#FECB52",
            "pattern": {
             "shape": ""
            }
           },
           "name": "ARG",
           "offsetgroup": "ARG",
           "orientation": "v",
           "showlegend": true,
           "textposition": "auto",
           "type": "bar",
           "x": [
            "ARG"
           ],
           "xaxis": "x",
           "y": [
            37
           ],
           "yaxis": "y"
          },
          {
           "alignmentgroup": "True",
           "hovertemplate": "pais=%{x}<br>registration_year_month=20186<br>count=%{y}<extra></extra>",
           "ids": [
            "FIN"
           ],
           "legendgroup": "FIN",
           "marker": {
            "color": "#FFA15A",
            "pattern": {
             "shape": ""
            }
           },
           "name": "FIN",
           "offsetgroup": "FIN",
           "orientation": "v",
           "showlegend": true,
           "textposition": "auto",
           "type": "bar",
           "x": [
            "FIN"
           ],
           "xaxis": "x",
           "y": [
            1
           ],
           "yaxis": "y"
          }
         ],
         "name": "20186"
        },
        {
         "data": [
          {
           "alignmentgroup": "True",
           "hovertemplate": "pais=%{x}<br>registration_year_month=20187<br>count=%{y}<extra></extra>",
           "ids": [
            "DOM"
           ],
           "legendgroup": "DOM",
           "marker": {
            "color": "#636efa",
            "pattern": {
             "shape": ""
            }
           },
           "name": "DOM",
           "offsetgroup": "DOM",
           "orientation": "v",
           "showlegend": true,
           "textposition": "auto",
           "type": "bar",
           "x": [
            "DOM"
           ],
           "xaxis": "x",
           "y": [
            2
           ],
           "yaxis": "y"
          },
          {
           "alignmentgroup": "True",
           "hovertemplate": "pais=%{x}<br>registration_year_month=20187<br>count=%{y}<extra></extra>",
           "ids": [
            "ESP"
           ],
           "legendgroup": "ESP",
           "marker": {
            "color": "#EF553B",
            "pattern": {
             "shape": ""
            }
           },
           "name": "ESP",
           "offsetgroup": "ESP",
           "orientation": "v",
           "showlegend": true,
           "textposition": "auto",
           "type": "bar",
           "x": [
            "ESP"
           ],
           "xaxis": "x",
           "y": [
            27
           ],
           "yaxis": "y"
          },
          {
           "alignmentgroup": "True",
           "hovertemplate": "pais=%{x}<br>registration_year_month=20187<br>count=%{y}<extra></extra>",
           "ids": [
            "MEX"
           ],
           "legendgroup": "MEX",
           "marker": {
            "color": "#00cc96",
            "pattern": {
             "shape": ""
            }
           },
           "name": "MEX",
           "offsetgroup": "MEX",
           "orientation": "v",
           "showlegend": true,
           "textposition": "auto",
           "type": "bar",
           "x": [
            "MEX"
           ],
           "xaxis": "x",
           "y": [
            15
           ],
           "yaxis": "y"
          },
          {
           "alignmentgroup": "True",
           "hovertemplate": "pais=%{x}<br>registration_year_month=20187<br>count=%{y}<extra></extra>",
           "ids": [
            "PER"
           ],
           "legendgroup": "PER",
           "marker": {
            "color": "#ab63fa",
            "pattern": {
             "shape": ""
            }
           },
           "name": "PER",
           "offsetgroup": "PER",
           "orientation": "v",
           "showlegend": true,
           "textposition": "auto",
           "type": "bar",
           "x": [
            "PER"
           ],
           "xaxis": "x",
           "y": [
            3
           ],
           "yaxis": "y"
          },
          {
           "alignmentgroup": "True",
           "hovertemplate": "pais=%{x}<br>registration_year_month=20187<br>count=%{y}<extra></extra>",
           "ids": [
            "CHL"
           ],
           "legendgroup": "CHL",
           "marker": {
            "color": "#FF6692",
            "pattern": {
             "shape": ""
            }
           },
           "name": "CHL",
           "offsetgroup": "CHL",
           "orientation": "v",
           "showlegend": true,
           "textposition": "auto",
           "type": "bar",
           "x": [
            "CHL"
           ],
           "xaxis": "x",
           "y": [
            2
           ],
           "yaxis": "y"
          },
          {
           "alignmentgroup": "True",
           "hovertemplate": "pais=%{x}<br>registration_year_month=20187<br>count=%{y}<extra></extra>",
           "ids": [
            "VEN"
           ],
           "legendgroup": "VEN",
           "marker": {
            "color": "#EF553B",
            "pattern": {
             "shape": ""
            }
           },
           "name": "VEN",
           "offsetgroup": "VEN",
           "orientation": "v",
           "showlegend": true,
           "textposition": "auto",
           "type": "bar",
           "x": [
            "VEN"
           ],
           "xaxis": "x",
           "y": [
            1
           ],
           "yaxis": "y"
          },
          {
           "alignmentgroup": "True",
           "hovertemplate": "pais=%{x}<br>registration_year_month=20187<br>count=%{y}<extra></extra>",
           "ids": [
            "PRY"
           ],
           "legendgroup": "PRY",
           "marker": {
            "color": "#19d3f3",
            "pattern": {
             "shape": ""
            }
           },
           "name": "PRY",
           "offsetgroup": "PRY",
           "orientation": "v",
           "showlegend": true,
           "textposition": "auto",
           "type": "bar",
           "x": [
            "PRY"
           ],
           "xaxis": "x",
           "y": [
            10
           ],
           "yaxis": "y"
          }
         ],
         "name": "20187"
        },
        {
         "data": [
          {
           "alignmentgroup": "True",
           "hovertemplate": "pais=%{x}<br>registration_year_month=20188<br>count=%{y}<extra></extra>",
           "ids": [
            "ESP"
           ],
           "legendgroup": "ESP",
           "marker": {
            "color": "#EF553B",
            "pattern": {
             "shape": ""
            }
           },
           "name": "ESP",
           "offsetgroup": "ESP",
           "orientation": "v",
           "showlegend": true,
           "textposition": "auto",
           "type": "bar",
           "x": [
            "ESP"
           ],
           "xaxis": "x",
           "y": [
            3
           ],
           "yaxis": "y"
          },
          {
           "alignmentgroup": "True",
           "hovertemplate": "pais=%{x}<br>registration_year_month=20188<br>count=%{y}<extra></extra>",
           "ids": [
            "MEX"
           ],
           "legendgroup": "MEX",
           "marker": {
            "color": "#00cc96",
            "pattern": {
             "shape": ""
            }
           },
           "name": "MEX",
           "offsetgroup": "MEX",
           "orientation": "v",
           "showlegend": true,
           "textposition": "auto",
           "type": "bar",
           "x": [
            "MEX"
           ],
           "xaxis": "x",
           "y": [
            5
           ],
           "yaxis": "y"
          },
          {
           "alignmentgroup": "True",
           "hovertemplate": "pais=%{x}<br>registration_year_month=20188<br>count=%{y}<extra></extra>",
           "ids": [
            "PER"
           ],
           "legendgroup": "PER",
           "marker": {
            "color": "#ab63fa",
            "pattern": {
             "shape": ""
            }
           },
           "name": "PER",
           "offsetgroup": "PER",
           "orientation": "v",
           "showlegend": true,
           "textposition": "auto",
           "type": "bar",
           "x": [
            "PER"
           ],
           "xaxis": "x",
           "y": [
            2
           ],
           "yaxis": "y"
          },
          {
           "alignmentgroup": "True",
           "hovertemplate": "pais=%{x}<br>registration_year_month=20188<br>count=%{y}<extra></extra>",
           "ids": [
            "COL"
           ],
           "legendgroup": "COL",
           "marker": {
            "color": "#B6E880",
            "pattern": {
             "shape": ""
            }
           },
           "name": "COL",
           "offsetgroup": "COL",
           "orientation": "v",
           "showlegend": true,
           "textposition": "auto",
           "type": "bar",
           "x": [
            "COL"
           ],
           "xaxis": "x",
           "y": [
            3
           ],
           "yaxis": "y"
          },
          {
           "alignmentgroup": "True",
           "hovertemplate": "pais=%{x}<br>registration_year_month=20188<br>count=%{y}<extra></extra>",
           "ids": [
            "GTM"
           ],
           "legendgroup": "GTM",
           "marker": {
            "color": "#FF97FF",
            "pattern": {
             "shape": ""
            }
           },
           "name": "GTM",
           "offsetgroup": "GTM",
           "orientation": "v",
           "showlegend": true,
           "textposition": "auto",
           "type": "bar",
           "x": [
            "GTM"
           ],
           "xaxis": "x",
           "y": [
            2
           ],
           "yaxis": "y"
          },
          {
           "alignmentgroup": "True",
           "hovertemplate": "pais=%{x}<br>registration_year_month=20188<br>count=%{y}<extra></extra>",
           "ids": [
            "ARG"
           ],
           "legendgroup": "ARG",
           "marker": {
            "color": "#FECB52",
            "pattern": {
             "shape": ""
            }
           },
           "name": "ARG",
           "offsetgroup": "ARG",
           "orientation": "v",
           "showlegend": true,
           "textposition": "auto",
           "type": "bar",
           "x": [
            "ARG"
           ],
           "xaxis": "x",
           "y": [
            3
           ],
           "yaxis": "y"
          },
          {
           "alignmentgroup": "True",
           "hovertemplate": "pais=%{x}<br>registration_year_month=20188<br>count=%{y}<extra></extra>",
           "ids": [
            "CRI"
           ],
           "legendgroup": "CRI",
           "marker": {
            "color": "#FECB52",
            "pattern": {
             "shape": ""
            }
           },
           "name": "CRI",
           "offsetgroup": "CRI",
           "orientation": "v",
           "showlegend": true,
           "textposition": "auto",
           "type": "bar",
           "x": [
            "CRI"
           ],
           "xaxis": "x",
           "y": [
            4
           ],
           "yaxis": "y"
          },
          {
           "alignmentgroup": "True",
           "hovertemplate": "pais=%{x}<br>registration_year_month=20188<br>count=%{y}<extra></extra>",
           "ids": [
            "PAN"
           ],
           "legendgroup": "PAN",
           "marker": {
            "color": "#EF553B",
            "pattern": {
             "shape": ""
            }
           },
           "name": "PAN",
           "offsetgroup": "PAN",
           "orientation": "v",
           "showlegend": true,
           "textposition": "auto",
           "type": "bar",
           "x": [
            "PAN"
           ],
           "xaxis": "x",
           "y": [
            2
           ],
           "yaxis": "y"
          },
          {
           "alignmentgroup": "True",
           "hovertemplate": "pais=%{x}<br>registration_year_month=20188<br>count=%{y}<extra></extra>",
           "ids": [
            "PRY"
           ],
           "legendgroup": "PRY",
           "marker": {
            "color": "#19d3f3",
            "pattern": {
             "shape": ""
            }
           },
           "name": "PRY",
           "offsetgroup": "PRY",
           "orientation": "v",
           "showlegend": true,
           "textposition": "auto",
           "type": "bar",
           "x": [
            "PRY"
           ],
           "xaxis": "x",
           "y": [
            1
           ],
           "yaxis": "y"
          },
          {
           "alignmentgroup": "True",
           "hovertemplate": "pais=%{x}<br>registration_year_month=20188<br>count=%{y}<extra></extra>",
           "ids": [
            "FRA"
           ],
           "legendgroup": "FRA",
           "marker": {
            "color": "#00cc96",
            "pattern": {
             "shape": ""
            }
           },
           "name": "FRA",
           "offsetgroup": "FRA",
           "orientation": "v",
           "showlegend": true,
           "textposition": "auto",
           "type": "bar",
           "x": [
            "FRA"
           ],
           "xaxis": "x",
           "y": [
            1
           ],
           "yaxis": "y"
          }
         ],
         "name": "20188"
        },
        {
         "data": [
          {
           "alignmentgroup": "True",
           "hovertemplate": "pais=%{x}<br>registration_year_month=20189<br>count=%{y}<extra></extra>",
           "ids": [
            "DOM"
           ],
           "legendgroup": "DOM",
           "marker": {
            "color": "#636efa",
            "pattern": {
             "shape": ""
            }
           },
           "name": "DOM",
           "offsetgroup": "DOM",
           "orientation": "v",
           "showlegend": true,
           "textposition": "auto",
           "type": "bar",
           "x": [
            "DOM"
           ],
           "xaxis": "x",
           "y": [
            39
           ],
           "yaxis": "y"
          },
          {
           "alignmentgroup": "True",
           "hovertemplate": "pais=%{x}<br>registration_year_month=20189<br>count=%{y}<extra></extra>",
           "ids": [
            "ESP"
           ],
           "legendgroup": "ESP",
           "marker": {
            "color": "#EF553B",
            "pattern": {
             "shape": ""
            }
           },
           "name": "ESP",
           "offsetgroup": "ESP",
           "orientation": "v",
           "showlegend": true,
           "textposition": "auto",
           "type": "bar",
           "x": [
            "ESP"
           ],
           "xaxis": "x",
           "y": [
            55
           ],
           "yaxis": "y"
          },
          {
           "alignmentgroup": "True",
           "hovertemplate": "pais=%{x}<br>registration_year_month=20189<br>count=%{y}<extra></extra>",
           "ids": [
            "MEX"
           ],
           "legendgroup": "MEX",
           "marker": {
            "color": "#00cc96",
            "pattern": {
             "shape": ""
            }
           },
           "name": "MEX",
           "offsetgroup": "MEX",
           "orientation": "v",
           "showlegend": true,
           "textposition": "auto",
           "type": "bar",
           "x": [
            "MEX"
           ],
           "xaxis": "x",
           "y": [
            85
           ],
           "yaxis": "y"
          },
          {
           "alignmentgroup": "True",
           "hovertemplate": "pais=%{x}<br>registration_year_month=20189<br>count=%{y}<extra></extra>",
           "ids": [
            "CHL"
           ],
           "legendgroup": "CHL",
           "marker": {
            "color": "#FF6692",
            "pattern": {
             "shape": ""
            }
           },
           "name": "CHL",
           "offsetgroup": "CHL",
           "orientation": "v",
           "showlegend": true,
           "textposition": "auto",
           "type": "bar",
           "x": [
            "CHL"
           ],
           "xaxis": "x",
           "y": [
            2
           ],
           "yaxis": "y"
          },
          {
           "alignmentgroup": "True",
           "hovertemplate": "pais=%{x}<br>registration_year_month=20189<br>count=%{y}<extra></extra>",
           "ids": [
            "COL"
           ],
           "legendgroup": "COL",
           "marker": {
            "color": "#B6E880",
            "pattern": {
             "shape": ""
            }
           },
           "name": "COL",
           "offsetgroup": "COL",
           "orientation": "v",
           "showlegend": true,
           "textposition": "auto",
           "type": "bar",
           "x": [
            "COL"
           ],
           "xaxis": "x",
           "y": [
            2
           ],
           "yaxis": "y"
          },
          {
           "alignmentgroup": "True",
           "hovertemplate": "pais=%{x}<br>registration_year_month=20189<br>count=%{y}<extra></extra>",
           "ids": [
            "ARG"
           ],
           "legendgroup": "ARG",
           "marker": {
            "color": "#FECB52",
            "pattern": {
             "shape": ""
            }
           },
           "name": "ARG",
           "offsetgroup": "ARG",
           "orientation": "v",
           "showlegend": true,
           "textposition": "auto",
           "type": "bar",
           "x": [
            "ARG"
           ],
           "xaxis": "x",
           "y": [
            2
           ],
           "yaxis": "y"
          },
          {
           "alignmentgroup": "True",
           "hovertemplate": "pais=%{x}<br>registration_year_month=20189<br>count=%{y}<extra></extra>",
           "ids": [
            "ECU"
           ],
           "legendgroup": "ECU",
           "marker": {
            "color": "#B6E880",
            "pattern": {
             "shape": ""
            }
           },
           "name": "ECU",
           "offsetgroup": "ECU",
           "orientation": "v",
           "showlegend": true,
           "textposition": "auto",
           "type": "bar",
           "x": [
            "ECU"
           ],
           "xaxis": "x",
           "y": [
            1
           ],
           "yaxis": "y"
          },
          {
           "alignmentgroup": "True",
           "hovertemplate": "pais=%{x}<br>registration_year_month=20189<br>count=%{y}<extra></extra>",
           "ids": [
            "PRY"
           ],
           "legendgroup": "PRY",
           "marker": {
            "color": "#19d3f3",
            "pattern": {
             "shape": ""
            }
           },
           "name": "PRY",
           "offsetgroup": "PRY",
           "orientation": "v",
           "showlegend": true,
           "textposition": "auto",
           "type": "bar",
           "x": [
            "PRY"
           ],
           "xaxis": "x",
           "y": [
            1
           ],
           "yaxis": "y"
          }
         ],
         "name": "20189"
        },
        {
         "data": [
          {
           "alignmentgroup": "True",
           "hovertemplate": "pais=%{x}<br>registration_year_month=20191<br>count=%{y}<extra></extra>",
           "ids": [
            "ESP"
           ],
           "legendgroup": "ESP",
           "marker": {
            "color": "#EF553B",
            "pattern": {
             "shape": ""
            }
           },
           "name": "ESP",
           "offsetgroup": "ESP",
           "orientation": "v",
           "showlegend": true,
           "textposition": "auto",
           "type": "bar",
           "x": [
            "ESP"
           ],
           "xaxis": "x",
           "y": [
            358
           ],
           "yaxis": "y"
          },
          {
           "alignmentgroup": "True",
           "hovertemplate": "pais=%{x}<br>registration_year_month=20191<br>count=%{y}<extra></extra>",
           "ids": [
            "MEX"
           ],
           "legendgroup": "MEX",
           "marker": {
            "color": "#00cc96",
            "pattern": {
             "shape": ""
            }
           },
           "name": "MEX",
           "offsetgroup": "MEX",
           "orientation": "v",
           "showlegend": true,
           "textposition": "auto",
           "type": "bar",
           "x": [
            "MEX"
           ],
           "xaxis": "x",
           "y": [
            5
           ],
           "yaxis": "y"
          },
          {
           "alignmentgroup": "True",
           "hovertemplate": "pais=%{x}<br>registration_year_month=20191<br>count=%{y}<extra></extra>",
           "ids": [
            "PER"
           ],
           "legendgroup": "PER",
           "marker": {
            "color": "#ab63fa",
            "pattern": {
             "shape": ""
            }
           },
           "name": "PER",
           "offsetgroup": "PER",
           "orientation": "v",
           "showlegend": true,
           "textposition": "auto",
           "type": "bar",
           "x": [
            "PER"
           ],
           "xaxis": "x",
           "y": [
            11
           ],
           "yaxis": "y"
          },
          {
           "alignmentgroup": "True",
           "hovertemplate": "pais=%{x}<br>registration_year_month=20191<br>count=%{y}<extra></extra>",
           "ids": [
            "CHL"
           ],
           "legendgroup": "CHL",
           "marker": {
            "color": "#FF6692",
            "pattern": {
             "shape": ""
            }
           },
           "name": "CHL",
           "offsetgroup": "CHL",
           "orientation": "v",
           "showlegend": true,
           "textposition": "auto",
           "type": "bar",
           "x": [
            "CHL"
           ],
           "xaxis": "x",
           "y": [
            1
           ],
           "yaxis": "y"
          },
          {
           "alignmentgroup": "True",
           "hovertemplate": "pais=%{x}<br>registration_year_month=20191<br>count=%{y}<extra></extra>",
           "ids": [
            "COL"
           ],
           "legendgroup": "COL",
           "marker": {
            "color": "#B6E880",
            "pattern": {
             "shape": ""
            }
           },
           "name": "COL",
           "offsetgroup": "COL",
           "orientation": "v",
           "showlegend": true,
           "textposition": "auto",
           "type": "bar",
           "x": [
            "COL"
           ],
           "xaxis": "x",
           "y": [
            2
           ],
           "yaxis": "y"
          },
          {
           "alignmentgroup": "True",
           "hovertemplate": "pais=%{x}<br>registration_year_month=20191<br>count=%{y}<extra></extra>",
           "ids": [
            "GTM"
           ],
           "legendgroup": "GTM",
           "marker": {
            "color": "#FF97FF",
            "pattern": {
             "shape": ""
            }
           },
           "name": "GTM",
           "offsetgroup": "GTM",
           "orientation": "v",
           "showlegend": true,
           "textposition": "auto",
           "type": "bar",
           "x": [
            "GTM"
           ],
           "xaxis": "x",
           "y": [
            1
           ],
           "yaxis": "y"
          },
          {
           "alignmentgroup": "True",
           "hovertemplate": "pais=%{x}<br>registration_year_month=20191<br>count=%{y}<extra></extra>",
           "ids": [
            "ARG"
           ],
           "legendgroup": "ARG",
           "marker": {
            "color": "#FECB52",
            "pattern": {
             "shape": ""
            }
           },
           "name": "ARG",
           "offsetgroup": "ARG",
           "orientation": "v",
           "showlegend": true,
           "textposition": "auto",
           "type": "bar",
           "x": [
            "ARG"
           ],
           "xaxis": "x",
           "y": [
            2
           ],
           "yaxis": "y"
          },
          {
           "alignmentgroup": "True",
           "hovertemplate": "pais=%{x}<br>registration_year_month=20191<br>count=%{y}<extra></extra>",
           "ids": [
            "ECU"
           ],
           "legendgroup": "ECU",
           "marker": {
            "color": "#B6E880",
            "pattern": {
             "shape": ""
            }
           },
           "name": "ECU",
           "offsetgroup": "ECU",
           "orientation": "v",
           "showlegend": true,
           "textposition": "auto",
           "type": "bar",
           "x": [
            "ECU"
           ],
           "xaxis": "x",
           "y": [
            5
           ],
           "yaxis": "y"
          },
          {
           "alignmentgroup": "True",
           "hovertemplate": "pais=%{x}<br>registration_year_month=20191<br>count=%{y}<extra></extra>",
           "ids": [
            "CRI"
           ],
           "legendgroup": "CRI",
           "marker": {
            "color": "#FECB52",
            "pattern": {
             "shape": ""
            }
           },
           "name": "CRI",
           "offsetgroup": "CRI",
           "orientation": "v",
           "showlegend": true,
           "textposition": "auto",
           "type": "bar",
           "x": [
            "CRI"
           ],
           "xaxis": "x",
           "y": [
            1
           ],
           "yaxis": "y"
          },
          {
           "alignmentgroup": "True",
           "hovertemplate": "pais=%{x}<br>registration_year_month=20191<br>count=%{y}<extra></extra>",
           "ids": [
            "PAN"
           ],
           "legendgroup": "PAN",
           "marker": {
            "color": "#EF553B",
            "pattern": {
             "shape": ""
            }
           },
           "name": "PAN",
           "offsetgroup": "PAN",
           "orientation": "v",
           "showlegend": true,
           "textposition": "auto",
           "type": "bar",
           "x": [
            "PAN"
           ],
           "xaxis": "x",
           "y": [
            1
           ],
           "yaxis": "y"
          },
          {
           "alignmentgroup": "True",
           "hovertemplate": "pais=%{x}<br>registration_year_month=20191<br>count=%{y}<extra></extra>",
           "ids": [
            "IRL"
           ],
           "legendgroup": "IRL",
           "marker": {
            "color": "#00cc96",
            "pattern": {
             "shape": ""
            }
           },
           "name": "IRL",
           "offsetgroup": "IRL",
           "orientation": "v",
           "showlegend": true,
           "textposition": "auto",
           "type": "bar",
           "x": [
            "IRL"
           ],
           "xaxis": "x",
           "y": [
            2
           ],
           "yaxis": "y"
          },
          {
           "alignmentgroup": "True",
           "hovertemplate": "pais=%{x}<br>registration_year_month=20191<br>count=%{y}<extra></extra>",
           "ids": [
            "BOL"
           ],
           "legendgroup": "BOL",
           "marker": {
            "color": "#636efa",
            "pattern": {
             "shape": ""
            }
           },
           "name": "BOL",
           "offsetgroup": "BOL",
           "orientation": "v",
           "showlegend": true,
           "textposition": "auto",
           "type": "bar",
           "x": [
            "BOL"
           ],
           "xaxis": "x",
           "y": [
            1
           ],
           "yaxis": "y"
          }
         ],
         "name": "20191"
        },
        {
         "data": [
          {
           "alignmentgroup": "True",
           "hovertemplate": "pais=%{x}<br>registration_year_month=201910<br>count=%{y}<extra></extra>",
           "ids": [
            "ESP"
           ],
           "legendgroup": "ESP",
           "marker": {
            "color": "#EF553B",
            "pattern": {
             "shape": ""
            }
           },
           "name": "ESP",
           "offsetgroup": "ESP",
           "orientation": "v",
           "showlegend": true,
           "textposition": "auto",
           "type": "bar",
           "x": [
            "ESP"
           ],
           "xaxis": "x",
           "y": [
            73
           ],
           "yaxis": "y"
          },
          {
           "alignmentgroup": "True",
           "hovertemplate": "pais=%{x}<br>registration_year_month=201910<br>count=%{y}<extra></extra>",
           "ids": [
            "MEX"
           ],
           "legendgroup": "MEX",
           "marker": {
            "color": "#00cc96",
            "pattern": {
             "shape": ""
            }
           },
           "name": "MEX",
           "offsetgroup": "MEX",
           "orientation": "v",
           "showlegend": true,
           "textposition": "auto",
           "type": "bar",
           "x": [
            "MEX"
           ],
           "xaxis": "x",
           "y": [
            22
           ],
           "yaxis": "y"
          },
          {
           "alignmentgroup": "True",
           "hovertemplate": "pais=%{x}<br>registration_year_month=201910<br>count=%{y}<extra></extra>",
           "ids": [
            "PER"
           ],
           "legendgroup": "PER",
           "marker": {
            "color": "#ab63fa",
            "pattern": {
             "shape": ""
            }
           },
           "name": "PER",
           "offsetgroup": "PER",
           "orientation": "v",
           "showlegend": true,
           "textposition": "auto",
           "type": "bar",
           "x": [
            "PER"
           ],
           "xaxis": "x",
           "y": [
            5
           ],
           "yaxis": "y"
          },
          {
           "alignmentgroup": "True",
           "hovertemplate": "pais=%{x}<br>registration_year_month=201910<br>count=%{y}<extra></extra>",
           "ids": [
            "CHL"
           ],
           "legendgroup": "CHL",
           "marker": {
            "color": "#FF6692",
            "pattern": {
             "shape": ""
            }
           },
           "name": "CHL",
           "offsetgroup": "CHL",
           "orientation": "v",
           "showlegend": true,
           "textposition": "auto",
           "type": "bar",
           "x": [
            "CHL"
           ],
           "xaxis": "x",
           "y": [
            2
           ],
           "yaxis": "y"
          },
          {
           "alignmentgroup": "True",
           "hovertemplate": "pais=%{x}<br>registration_year_month=201910<br>count=%{y}<extra></extra>",
           "ids": [
            "ECU"
           ],
           "legendgroup": "ECU",
           "marker": {
            "color": "#B6E880",
            "pattern": {
             "shape": ""
            }
           },
           "name": "ECU",
           "offsetgroup": "ECU",
           "orientation": "v",
           "showlegend": true,
           "textposition": "auto",
           "type": "bar",
           "x": [
            "ECU"
           ],
           "xaxis": "x",
           "y": [
            2
           ],
           "yaxis": "y"
          },
          {
           "alignmentgroup": "True",
           "hovertemplate": "pais=%{x}<br>registration_year_month=201910<br>count=%{y}<extra></extra>",
           "ids": [
            "CRI"
           ],
           "legendgroup": "CRI",
           "marker": {
            "color": "#FECB52",
            "pattern": {
             "shape": ""
            }
           },
           "name": "CRI",
           "offsetgroup": "CRI",
           "orientation": "v",
           "showlegend": true,
           "textposition": "auto",
           "type": "bar",
           "x": [
            "CRI"
           ],
           "xaxis": "x",
           "y": [
            1
           ],
           "yaxis": "y"
          }
         ],
         "name": "201910"
        },
        {
         "data": [
          {
           "alignmentgroup": "True",
           "hovertemplate": "pais=%{x}<br>registration_year_month=201911<br>count=%{y}<extra></extra>",
           "ids": [
            "DOM"
           ],
           "legendgroup": "DOM",
           "marker": {
            "color": "#636efa",
            "pattern": {
             "shape": ""
            }
           },
           "name": "DOM",
           "offsetgroup": "DOM",
           "orientation": "v",
           "showlegend": true,
           "textposition": "auto",
           "type": "bar",
           "x": [
            "DOM"
           ],
           "xaxis": "x",
           "y": [
            1
           ],
           "yaxis": "y"
          },
          {
           "alignmentgroup": "True",
           "hovertemplate": "pais=%{x}<br>registration_year_month=201911<br>count=%{y}<extra></extra>",
           "ids": [
            "ESP"
           ],
           "legendgroup": "ESP",
           "marker": {
            "color": "#EF553B",
            "pattern": {
             "shape": ""
            }
           },
           "name": "ESP",
           "offsetgroup": "ESP",
           "orientation": "v",
           "showlegend": true,
           "textposition": "auto",
           "type": "bar",
           "x": [
            "ESP"
           ],
           "xaxis": "x",
           "y": [
            28
           ],
           "yaxis": "y"
          },
          {
           "alignmentgroup": "True",
           "hovertemplate": "pais=%{x}<br>registration_year_month=201911<br>count=%{y}<extra></extra>",
           "ids": [
            "MEX"
           ],
           "legendgroup": "MEX",
           "marker": {
            "color": "#00cc96",
            "pattern": {
             "shape": ""
            }
           },
           "name": "MEX",
           "offsetgroup": "MEX",
           "orientation": "v",
           "showlegend": true,
           "textposition": "auto",
           "type": "bar",
           "x": [
            "MEX"
           ],
           "xaxis": "x",
           "y": [
            13
           ],
           "yaxis": "y"
          },
          {
           "alignmentgroup": "True",
           "hovertemplate": "pais=%{x}<br>registration_year_month=201911<br>count=%{y}<extra></extra>",
           "ids": [
            "PER"
           ],
           "legendgroup": "PER",
           "marker": {
            "color": "#ab63fa",
            "pattern": {
             "shape": ""
            }
           },
           "name": "PER",
           "offsetgroup": "PER",
           "orientation": "v",
           "showlegend": true,
           "textposition": "auto",
           "type": "bar",
           "x": [
            "PER"
           ],
           "xaxis": "x",
           "y": [
            15
           ],
           "yaxis": "y"
          },
          {
           "alignmentgroup": "True",
           "hovertemplate": "pais=%{x}<br>registration_year_month=201911<br>count=%{y}<extra></extra>",
           "ids": [
            "COL"
           ],
           "legendgroup": "COL",
           "marker": {
            "color": "#B6E880",
            "pattern": {
             "shape": ""
            }
           },
           "name": "COL",
           "offsetgroup": "COL",
           "orientation": "v",
           "showlegend": true,
           "textposition": "auto",
           "type": "bar",
           "x": [
            "COL"
           ],
           "xaxis": "x",
           "y": [
            5
           ],
           "yaxis": "y"
          },
          {
           "alignmentgroup": "True",
           "hovertemplate": "pais=%{x}<br>registration_year_month=201911<br>count=%{y}<extra></extra>",
           "ids": [
            "GTM"
           ],
           "legendgroup": "GTM",
           "marker": {
            "color": "#FF97FF",
            "pattern": {
             "shape": ""
            }
           },
           "name": "GTM",
           "offsetgroup": "GTM",
           "orientation": "v",
           "showlegend": true,
           "textposition": "auto",
           "type": "bar",
           "x": [
            "GTM"
           ],
           "xaxis": "x",
           "y": [
            13
           ],
           "yaxis": "y"
          },
          {
           "alignmentgroup": "True",
           "hovertemplate": "pais=%{x}<br>registration_year_month=201911<br>count=%{y}<extra></extra>",
           "ids": [
            "ARG"
           ],
           "legendgroup": "ARG",
           "marker": {
            "color": "#FECB52",
            "pattern": {
             "shape": ""
            }
           },
           "name": "ARG",
           "offsetgroup": "ARG",
           "orientation": "v",
           "showlegend": true,
           "textposition": "auto",
           "type": "bar",
           "x": [
            "ARG"
           ],
           "xaxis": "x",
           "y": [
            4
           ],
           "yaxis": "y"
          },
          {
           "alignmentgroup": "True",
           "hovertemplate": "pais=%{x}<br>registration_year_month=201911<br>count=%{y}<extra></extra>",
           "ids": [
            "BRA"
           ],
           "legendgroup": "BRA",
           "marker": {
            "color": "#ab63fa",
            "pattern": {
             "shape": ""
            }
           },
           "name": "BRA",
           "offsetgroup": "BRA",
           "orientation": "v",
           "showlegend": true,
           "textposition": "auto",
           "type": "bar",
           "x": [
            "BRA"
           ],
           "xaxis": "x",
           "y": [
            1
           ],
           "yaxis": "y"
          },
          {
           "alignmentgroup": "True",
           "hovertemplate": "pais=%{x}<br>registration_year_month=201911<br>count=%{y}<extra></extra>",
           "ids": [
            "ECU"
           ],
           "legendgroup": "ECU",
           "marker": {
            "color": "#B6E880",
            "pattern": {
             "shape": ""
            }
           },
           "name": "ECU",
           "offsetgroup": "ECU",
           "orientation": "v",
           "showlegend": true,
           "textposition": "auto",
           "type": "bar",
           "x": [
            "ECU"
           ],
           "xaxis": "x",
           "y": [
            1
           ],
           "yaxis": "y"
          },
          {
           "alignmentgroup": "True",
           "hovertemplate": "pais=%{x}<br>registration_year_month=201911<br>count=%{y}<extra></extra>",
           "ids": [
            "USA"
           ],
           "legendgroup": "USA",
           "marker": {
            "color": "#FF97FF",
            "pattern": {
             "shape": ""
            }
           },
           "name": "USA",
           "offsetgroup": "USA",
           "orientation": "v",
           "showlegend": true,
           "textposition": "auto",
           "type": "bar",
           "x": [
            "USA"
           ],
           "xaxis": "x",
           "y": [
            1
           ],
           "yaxis": "y"
          },
          {
           "alignmentgroup": "True",
           "hovertemplate": "pais=%{x}<br>registration_year_month=201911<br>count=%{y}<extra></extra>",
           "ids": [
            "CRI"
           ],
           "legendgroup": "CRI",
           "marker": {
            "color": "#FECB52",
            "pattern": {
             "shape": ""
            }
           },
           "name": "CRI",
           "offsetgroup": "CRI",
           "orientation": "v",
           "showlegend": true,
           "textposition": "auto",
           "type": "bar",
           "x": [
            "CRI"
           ],
           "xaxis": "x",
           "y": [
            2
           ],
           "yaxis": "y"
          },
          {
           "alignmentgroup": "True",
           "hovertemplate": "pais=%{x}<br>registration_year_month=201911<br>count=%{y}<extra></extra>",
           "ids": [
            "PAN"
           ],
           "legendgroup": "PAN",
           "marker": {
            "color": "#EF553B",
            "pattern": {
             "shape": ""
            }
           },
           "name": "PAN",
           "offsetgroup": "PAN",
           "orientation": "v",
           "showlegend": true,
           "textposition": "auto",
           "type": "bar",
           "x": [
            "PAN"
           ],
           "xaxis": "x",
           "y": [
            8
           ],
           "yaxis": "y"
          },
          {
           "alignmentgroup": "True",
           "hovertemplate": "pais=%{x}<br>registration_year_month=201911<br>count=%{y}<extra></extra>",
           "ids": [
            "HND"
           ],
           "legendgroup": "HND",
           "marker": {
            "color": "#B6E880",
            "pattern": {
             "shape": ""
            }
           },
           "name": "HND",
           "offsetgroup": "HND",
           "orientation": "v",
           "showlegend": true,
           "textposition": "auto",
           "type": "bar",
           "x": [
            "HND"
           ],
           "xaxis": "x",
           "y": [
            1
           ],
           "yaxis": "y"
          },
          {
           "alignmentgroup": "True",
           "hovertemplate": "pais=%{x}<br>registration_year_month=201911<br>count=%{y}<extra></extra>",
           "ids": [
            "PRT"
           ],
           "legendgroup": "PRT",
           "marker": {
            "color": "#FFA15A",
            "pattern": {
             "shape": ""
            }
           },
           "name": "PRT",
           "offsetgroup": "PRT",
           "orientation": "v",
           "showlegend": true,
           "textposition": "auto",
           "type": "bar",
           "x": [
            "PRT"
           ],
           "xaxis": "x",
           "y": [
            1
           ],
           "yaxis": "y"
          },
          {
           "alignmentgroup": "True",
           "hovertemplate": "pais=%{x}<br>registration_year_month=201911<br>count=%{y}<extra></extra>",
           "ids": [
            "IND"
           ],
           "legendgroup": "IND",
           "marker": {
            "color": "#ab63fa",
            "pattern": {
             "shape": ""
            }
           },
           "name": "IND",
           "offsetgroup": "IND",
           "orientation": "v",
           "showlegend": true,
           "textposition": "auto",
           "type": "bar",
           "x": [
            "IND"
           ],
           "xaxis": "x",
           "y": [
            2
           ],
           "yaxis": "y"
          }
         ],
         "name": "201911"
        },
        {
         "data": [
          {
           "alignmentgroup": "True",
           "hovertemplate": "pais=%{x}<br>registration_year_month=201912<br>count=%{y}<extra></extra>",
           "ids": [
            "ESP"
           ],
           "legendgroup": "ESP",
           "marker": {
            "color": "#EF553B",
            "pattern": {
             "shape": ""
            }
           },
           "name": "ESP",
           "offsetgroup": "ESP",
           "orientation": "v",
           "showlegend": true,
           "textposition": "auto",
           "type": "bar",
           "x": [
            "ESP"
           ],
           "xaxis": "x",
           "y": [
            39
           ],
           "yaxis": "y"
          },
          {
           "alignmentgroup": "True",
           "hovertemplate": "pais=%{x}<br>registration_year_month=201912<br>count=%{y}<extra></extra>",
           "ids": [
            "MEX"
           ],
           "legendgroup": "MEX",
           "marker": {
            "color": "#00cc96",
            "pattern": {
             "shape": ""
            }
           },
           "name": "MEX",
           "offsetgroup": "MEX",
           "orientation": "v",
           "showlegend": true,
           "textposition": "auto",
           "type": "bar",
           "x": [
            "MEX"
           ],
           "xaxis": "x",
           "y": [
            192
           ],
           "yaxis": "y"
          },
          {
           "alignmentgroup": "True",
           "hovertemplate": "pais=%{x}<br>registration_year_month=201912<br>count=%{y}<extra></extra>",
           "ids": [
            "PER"
           ],
           "legendgroup": "PER",
           "marker": {
            "color": "#ab63fa",
            "pattern": {
             "shape": ""
            }
           },
           "name": "PER",
           "offsetgroup": "PER",
           "orientation": "v",
           "showlegend": true,
           "textposition": "auto",
           "type": "bar",
           "x": [
            "PER"
           ],
           "xaxis": "x",
           "y": [
            1
           ],
           "yaxis": "y"
          },
          {
           "alignmentgroup": "True",
           "hovertemplate": "pais=%{x}<br>registration_year_month=201912<br>count=%{y}<extra></extra>",
           "ids": [
            "COL"
           ],
           "legendgroup": "COL",
           "marker": {
            "color": "#B6E880",
            "pattern": {
             "shape": ""
            }
           },
           "name": "COL",
           "offsetgroup": "COL",
           "orientation": "v",
           "showlegend": true,
           "textposition": "auto",
           "type": "bar",
           "x": [
            "COL"
           ],
           "xaxis": "x",
           "y": [
            2
           ],
           "yaxis": "y"
          },
          {
           "alignmentgroup": "True",
           "hovertemplate": "pais=%{x}<br>registration_year_month=201912<br>count=%{y}<extra></extra>",
           "ids": [
            "GTM"
           ],
           "legendgroup": "GTM",
           "marker": {
            "color": "#FF97FF",
            "pattern": {
             "shape": ""
            }
           },
           "name": "GTM",
           "offsetgroup": "GTM",
           "orientation": "v",
           "showlegend": true,
           "textposition": "auto",
           "type": "bar",
           "x": [
            "GTM"
           ],
           "xaxis": "x",
           "y": [
            2
           ],
           "yaxis": "y"
          },
          {
           "alignmentgroup": "True",
           "hovertemplate": "pais=%{x}<br>registration_year_month=201912<br>count=%{y}<extra></extra>",
           "ids": [
            "ARG"
           ],
           "legendgroup": "ARG",
           "marker": {
            "color": "#FECB52",
            "pattern": {
             "shape": ""
            }
           },
           "name": "ARG",
           "offsetgroup": "ARG",
           "orientation": "v",
           "showlegend": true,
           "textposition": "auto",
           "type": "bar",
           "x": [
            "ARG"
           ],
           "xaxis": "x",
           "y": [
            2
           ],
           "yaxis": "y"
          },
          {
           "alignmentgroup": "True",
           "hovertemplate": "pais=%{x}<br>registration_year_month=201912<br>count=%{y}<extra></extra>",
           "ids": [
            "VEN"
           ],
           "legendgroup": "VEN",
           "marker": {
            "color": "#EF553B",
            "pattern": {
             "shape": ""
            }
           },
           "name": "VEN",
           "offsetgroup": "VEN",
           "orientation": "v",
           "showlegend": true,
           "textposition": "auto",
           "type": "bar",
           "x": [
            "VEN"
           ],
           "xaxis": "x",
           "y": [
            1
           ],
           "yaxis": "y"
          },
          {
           "alignmentgroup": "True",
           "hovertemplate": "pais=%{x}<br>registration_year_month=201912<br>count=%{y}<extra></extra>",
           "ids": [
            "ECU"
           ],
           "legendgroup": "ECU",
           "marker": {
            "color": "#B6E880",
            "pattern": {
             "shape": ""
            }
           },
           "name": "ECU",
           "offsetgroup": "ECU",
           "orientation": "v",
           "showlegend": true,
           "textposition": "auto",
           "type": "bar",
           "x": [
            "ECU"
           ],
           "xaxis": "x",
           "y": [
            2
           ],
           "yaxis": "y"
          },
          {
           "alignmentgroup": "True",
           "hovertemplate": "pais=%{x}<br>registration_year_month=201912<br>count=%{y}<extra></extra>",
           "ids": [
            "CRI"
           ],
           "legendgroup": "CRI",
           "marker": {
            "color": "#FECB52",
            "pattern": {
             "shape": ""
            }
           },
           "name": "CRI",
           "offsetgroup": "CRI",
           "orientation": "v",
           "showlegend": true,
           "textposition": "auto",
           "type": "bar",
           "x": [
            "CRI"
           ],
           "xaxis": "x",
           "y": [
            5
           ],
           "yaxis": "y"
          },
          {
           "alignmentgroup": "True",
           "hovertemplate": "pais=%{x}<br>registration_year_month=201912<br>count=%{y}<extra></extra>",
           "ids": [
            "NZL"
           ],
           "legendgroup": "NZL",
           "marker": {
            "color": "#FFA15A",
            "pattern": {
             "shape": ""
            }
           },
           "name": "NZL",
           "offsetgroup": "NZL",
           "orientation": "v",
           "showlegend": true,
           "textposition": "auto",
           "type": "bar",
           "x": [
            "NZL"
           ],
           "xaxis": "x",
           "y": [
            1
           ],
           "yaxis": "y"
          }
         ],
         "name": "201912"
        },
        {
         "data": [
          {
           "alignmentgroup": "True",
           "hovertemplate": "pais=%{x}<br>registration_year_month=20192<br>count=%{y}<extra></extra>",
           "ids": [
            "DOM"
           ],
           "legendgroup": "DOM",
           "marker": {
            "color": "#636efa",
            "pattern": {
             "shape": ""
            }
           },
           "name": "DOM",
           "offsetgroup": "DOM",
           "orientation": "v",
           "showlegend": true,
           "textposition": "auto",
           "type": "bar",
           "x": [
            "DOM"
           ],
           "xaxis": "x",
           "y": [
            2
           ],
           "yaxis": "y"
          },
          {
           "alignmentgroup": "True",
           "hovertemplate": "pais=%{x}<br>registration_year_month=20192<br>count=%{y}<extra></extra>",
           "ids": [
            "ESP"
           ],
           "legendgroup": "ESP",
           "marker": {
            "color": "#EF553B",
            "pattern": {
             "shape": ""
            }
           },
           "name": "ESP",
           "offsetgroup": "ESP",
           "orientation": "v",
           "showlegend": true,
           "textposition": "auto",
           "type": "bar",
           "x": [
            "ESP"
           ],
           "xaxis": "x",
           "y": [
            486
           ],
           "yaxis": "y"
          },
          {
           "alignmentgroup": "True",
           "hovertemplate": "pais=%{x}<br>registration_year_month=20192<br>count=%{y}<extra></extra>",
           "ids": [
            "MEX"
           ],
           "legendgroup": "MEX",
           "marker": {
            "color": "#00cc96",
            "pattern": {
             "shape": ""
            }
           },
           "name": "MEX",
           "offsetgroup": "MEX",
           "orientation": "v",
           "showlegend": true,
           "textposition": "auto",
           "type": "bar",
           "x": [
            "MEX"
           ],
           "xaxis": "x",
           "y": [
            53
           ],
           "yaxis": "y"
          },
          {
           "alignmentgroup": "True",
           "hovertemplate": "pais=%{x}<br>registration_year_month=20192<br>count=%{y}<extra></extra>",
           "ids": [
            "PER"
           ],
           "legendgroup": "PER",
           "marker": {
            "color": "#ab63fa",
            "pattern": {
             "shape": ""
            }
           },
           "name": "PER",
           "offsetgroup": "PER",
           "orientation": "v",
           "showlegend": true,
           "textposition": "auto",
           "type": "bar",
           "x": [
            "PER"
           ],
           "xaxis": "x",
           "y": [
            7
           ],
           "yaxis": "y"
          },
          {
           "alignmentgroup": "True",
           "hovertemplate": "pais=%{x}<br>registration_year_month=20192<br>count=%{y}<extra></extra>",
           "ids": [
            "COL"
           ],
           "legendgroup": "COL",
           "marker": {
            "color": "#B6E880",
            "pattern": {
             "shape": ""
            }
           },
           "name": "COL",
           "offsetgroup": "COL",
           "orientation": "v",
           "showlegend": true,
           "textposition": "auto",
           "type": "bar",
           "x": [
            "COL"
           ],
           "xaxis": "x",
           "y": [
            4
           ],
           "yaxis": "y"
          },
          {
           "alignmentgroup": "True",
           "hovertemplate": "pais=%{x}<br>registration_year_month=20192<br>count=%{y}<extra></extra>",
           "ids": [
            "ARG"
           ],
           "legendgroup": "ARG",
           "marker": {
            "color": "#FECB52",
            "pattern": {
             "shape": ""
            }
           },
           "name": "ARG",
           "offsetgroup": "ARG",
           "orientation": "v",
           "showlegend": true,
           "textposition": "auto",
           "type": "bar",
           "x": [
            "ARG"
           ],
           "xaxis": "x",
           "y": [
            117
           ],
           "yaxis": "y"
          },
          {
           "alignmentgroup": "True",
           "hovertemplate": "pais=%{x}<br>registration_year_month=20192<br>count=%{y}<extra></extra>",
           "ids": [
            "URY"
           ],
           "legendgroup": "URY",
           "marker": {
            "color": "#636efa",
            "pattern": {
             "shape": ""
            }
           },
           "name": "URY",
           "offsetgroup": "URY",
           "orientation": "v",
           "showlegend": true,
           "textposition": "auto",
           "type": "bar",
           "x": [
            "URY"
           ],
           "xaxis": "x",
           "y": [
            1
           ],
           "yaxis": "y"
          },
          {
           "alignmentgroup": "True",
           "hovertemplate": "pais=%{x}<br>registration_year_month=20192<br>count=%{y}<extra></extra>",
           "ids": [
            "AND"
           ],
           "legendgroup": "AND",
           "marker": {
            "color": "#00cc96",
            "pattern": {
             "shape": ""
            }
           },
           "name": "AND",
           "offsetgroup": "AND",
           "orientation": "v",
           "showlegend": true,
           "textposition": "auto",
           "type": "bar",
           "x": [
            "AND"
           ],
           "xaxis": "x",
           "y": [
            1
           ],
           "yaxis": "y"
          },
          {
           "alignmentgroup": "True",
           "hovertemplate": "pais=%{x}<br>registration_year_month=20192<br>count=%{y}<extra></extra>",
           "ids": [
            "ECU"
           ],
           "legendgroup": "ECU",
           "marker": {
            "color": "#B6E880",
            "pattern": {
             "shape": ""
            }
           },
           "name": "ECU",
           "offsetgroup": "ECU",
           "orientation": "v",
           "showlegend": true,
           "textposition": "auto",
           "type": "bar",
           "x": [
            "ECU"
           ],
           "xaxis": "x",
           "y": [
            3
           ],
           "yaxis": "y"
          },
          {
           "alignmentgroup": "True",
           "hovertemplate": "pais=%{x}<br>registration_year_month=20192<br>count=%{y}<extra></extra>",
           "ids": [
            "CRI"
           ],
           "legendgroup": "CRI",
           "marker": {
            "color": "#FECB52",
            "pattern": {
             "shape": ""
            }
           },
           "name": "CRI",
           "offsetgroup": "CRI",
           "orientation": "v",
           "showlegend": true,
           "textposition": "auto",
           "type": "bar",
           "x": [
            "CRI"
           ],
           "xaxis": "x",
           "y": [
            38
           ],
           "yaxis": "y"
          },
          {
           "alignmentgroup": "True",
           "hovertemplate": "pais=%{x}<br>registration_year_month=20192<br>count=%{y}<extra></extra>",
           "ids": [
            "HND"
           ],
           "legendgroup": "HND",
           "marker": {
            "color": "#B6E880",
            "pattern": {
             "shape": ""
            }
           },
           "name": "HND",
           "offsetgroup": "HND",
           "orientation": "v",
           "showlegend": true,
           "textposition": "auto",
           "type": "bar",
           "x": [
            "HND"
           ],
           "xaxis": "x",
           "y": [
            1
           ],
           "yaxis": "y"
          }
         ],
         "name": "20192"
        },
        {
         "data": [
          {
           "alignmentgroup": "True",
           "hovertemplate": "pais=%{x}<br>registration_year_month=20193<br>count=%{y}<extra></extra>",
           "ids": [
            "ESP"
           ],
           "legendgroup": "ESP",
           "marker": {
            "color": "#EF553B",
            "pattern": {
             "shape": ""
            }
           },
           "name": "ESP",
           "offsetgroup": "ESP",
           "orientation": "v",
           "showlegend": true,
           "textposition": "auto",
           "type": "bar",
           "x": [
            "ESP"
           ],
           "xaxis": "x",
           "y": [
            78
           ],
           "yaxis": "y"
          },
          {
           "alignmentgroup": "True",
           "hovertemplate": "pais=%{x}<br>registration_year_month=20193<br>count=%{y}<extra></extra>",
           "ids": [
            "MEX"
           ],
           "legendgroup": "MEX",
           "marker": {
            "color": "#00cc96",
            "pattern": {
             "shape": ""
            }
           },
           "name": "MEX",
           "offsetgroup": "MEX",
           "orientation": "v",
           "showlegend": true,
           "textposition": "auto",
           "type": "bar",
           "x": [
            "MEX"
           ],
           "xaxis": "x",
           "y": [
            21
           ],
           "yaxis": "y"
          },
          {
           "alignmentgroup": "True",
           "hovertemplate": "pais=%{x}<br>registration_year_month=20193<br>count=%{y}<extra></extra>",
           "ids": [
            "PER"
           ],
           "legendgroup": "PER",
           "marker": {
            "color": "#ab63fa",
            "pattern": {
             "shape": ""
            }
           },
           "name": "PER",
           "offsetgroup": "PER",
           "orientation": "v",
           "showlegend": true,
           "textposition": "auto",
           "type": "bar",
           "x": [
            "PER"
           ],
           "xaxis": "x",
           "y": [
            6
           ],
           "yaxis": "y"
          },
          {
           "alignmentgroup": "True",
           "hovertemplate": "pais=%{x}<br>registration_year_month=20193<br>count=%{y}<extra></extra>",
           "ids": [
            "GTM"
           ],
           "legendgroup": "GTM",
           "marker": {
            "color": "#FF97FF",
            "pattern": {
             "shape": ""
            }
           },
           "name": "GTM",
           "offsetgroup": "GTM",
           "orientation": "v",
           "showlegend": true,
           "textposition": "auto",
           "type": "bar",
           "x": [
            "GTM"
           ],
           "xaxis": "x",
           "y": [
            1
           ],
           "yaxis": "y"
          },
          {
           "alignmentgroup": "True",
           "hovertemplate": "pais=%{x}<br>registration_year_month=20193<br>count=%{y}<extra></extra>",
           "ids": [
            "ARG"
           ],
           "legendgroup": "ARG",
           "marker": {
            "color": "#FECB52",
            "pattern": {
             "shape": ""
            }
           },
           "name": "ARG",
           "offsetgroup": "ARG",
           "orientation": "v",
           "showlegend": true,
           "textposition": "auto",
           "type": "bar",
           "x": [
            "ARG"
           ],
           "xaxis": "x",
           "y": [
            4
           ],
           "yaxis": "y"
          },
          {
           "alignmentgroup": "True",
           "hovertemplate": "pais=%{x}<br>registration_year_month=20193<br>count=%{y}<extra></extra>",
           "ids": [
            "FIN"
           ],
           "legendgroup": "FIN",
           "marker": {
            "color": "#FFA15A",
            "pattern": {
             "shape": ""
            }
           },
           "name": "FIN",
           "offsetgroup": "FIN",
           "orientation": "v",
           "showlegend": true,
           "textposition": "auto",
           "type": "bar",
           "x": [
            "FIN"
           ],
           "xaxis": "x",
           "y": [
            1
           ],
           "yaxis": "y"
          },
          {
           "alignmentgroup": "True",
           "hovertemplate": "pais=%{x}<br>registration_year_month=20193<br>count=%{y}<extra></extra>",
           "ids": [
            "ECU"
           ],
           "legendgroup": "ECU",
           "marker": {
            "color": "#B6E880",
            "pattern": {
             "shape": ""
            }
           },
           "name": "ECU",
           "offsetgroup": "ECU",
           "orientation": "v",
           "showlegend": true,
           "textposition": "auto",
           "type": "bar",
           "x": [
            "ECU"
           ],
           "xaxis": "x",
           "y": [
            1
           ],
           "yaxis": "y"
          },
          {
           "alignmentgroup": "True",
           "hovertemplate": "pais=%{x}<br>registration_year_month=20193<br>count=%{y}<extra></extra>",
           "ids": [
            "CRI"
           ],
           "legendgroup": "CRI",
           "marker": {
            "color": "#FECB52",
            "pattern": {
             "shape": ""
            }
           },
           "name": "CRI",
           "offsetgroup": "CRI",
           "orientation": "v",
           "showlegend": true,
           "textposition": "auto",
           "type": "bar",
           "x": [
            "CRI"
           ],
           "xaxis": "x",
           "y": [
            20
           ],
           "yaxis": "y"
          },
          {
           "alignmentgroup": "True",
           "hovertemplate": "pais=%{x}<br>registration_year_month=20193<br>count=%{y}<extra></extra>",
           "ids": [
            "IND"
           ],
           "legendgroup": "IND",
           "marker": {
            "color": "#ab63fa",
            "pattern": {
             "shape": ""
            }
           },
           "name": "IND",
           "offsetgroup": "IND",
           "orientation": "v",
           "showlegend": true,
           "textposition": "auto",
           "type": "bar",
           "x": [
            "IND"
           ],
           "xaxis": "x",
           "y": [
            1
           ],
           "yaxis": "y"
          }
         ],
         "name": "20193"
        },
        {
         "data": [
          {
           "alignmentgroup": "True",
           "hovertemplate": "pais=%{x}<br>registration_year_month=20194<br>count=%{y}<extra></extra>",
           "ids": [
            "DOM"
           ],
           "legendgroup": "DOM",
           "marker": {
            "color": "#636efa",
            "pattern": {
             "shape": ""
            }
           },
           "name": "DOM",
           "offsetgroup": "DOM",
           "orientation": "v",
           "showlegend": true,
           "textposition": "auto",
           "type": "bar",
           "x": [
            "DOM"
           ],
           "xaxis": "x",
           "y": [
            1
           ],
           "yaxis": "y"
          },
          {
           "alignmentgroup": "True",
           "hovertemplate": "pais=%{x}<br>registration_year_month=20194<br>count=%{y}<extra></extra>",
           "ids": [
            "ESP"
           ],
           "legendgroup": "ESP",
           "marker": {
            "color": "#EF553B",
            "pattern": {
             "shape": ""
            }
           },
           "name": "ESP",
           "offsetgroup": "ESP",
           "orientation": "v",
           "showlegend": true,
           "textposition": "auto",
           "type": "bar",
           "x": [
            "ESP"
           ],
           "xaxis": "x",
           "y": [
            11
           ],
           "yaxis": "y"
          },
          {
           "alignmentgroup": "True",
           "hovertemplate": "pais=%{x}<br>registration_year_month=20194<br>count=%{y}<extra></extra>",
           "ids": [
            "MEX"
           ],
           "legendgroup": "MEX",
           "marker": {
            "color": "#00cc96",
            "pattern": {
             "shape": ""
            }
           },
           "name": "MEX",
           "offsetgroup": "MEX",
           "orientation": "v",
           "showlegend": true,
           "textposition": "auto",
           "type": "bar",
           "x": [
            "MEX"
           ],
           "xaxis": "x",
           "y": [
            9
           ],
           "yaxis": "y"
          },
          {
           "alignmentgroup": "True",
           "hovertemplate": "pais=%{x}<br>registration_year_month=20194<br>count=%{y}<extra></extra>",
           "ids": [
            "PER"
           ],
           "legendgroup": "PER",
           "marker": {
            "color": "#ab63fa",
            "pattern": {
             "shape": ""
            }
           },
           "name": "PER",
           "offsetgroup": "PER",
           "orientation": "v",
           "showlegend": true,
           "textposition": "auto",
           "type": "bar",
           "x": [
            "PER"
           ],
           "xaxis": "x",
           "y": [
            4
           ],
           "yaxis": "y"
          },
          {
           "alignmentgroup": "True",
           "hovertemplate": "pais=%{x}<br>registration_year_month=20194<br>count=%{y}<extra></extra>",
           "ids": [
            "CHL"
           ],
           "legendgroup": "CHL",
           "marker": {
            "color": "#FF6692",
            "pattern": {
             "shape": ""
            }
           },
           "name": "CHL",
           "offsetgroup": "CHL",
           "orientation": "v",
           "showlegend": true,
           "textposition": "auto",
           "type": "bar",
           "x": [
            "CHL"
           ],
           "xaxis": "x",
           "y": [
            1
           ],
           "yaxis": "y"
          },
          {
           "alignmentgroup": "True",
           "hovertemplate": "pais=%{x}<br>registration_year_month=20194<br>count=%{y}<extra></extra>",
           "ids": [
            "COL"
           ],
           "legendgroup": "COL",
           "marker": {
            "color": "#B6E880",
            "pattern": {
             "shape": ""
            }
           },
           "name": "COL",
           "offsetgroup": "COL",
           "orientation": "v",
           "showlegend": true,
           "textposition": "auto",
           "type": "bar",
           "x": [
            "COL"
           ],
           "xaxis": "x",
           "y": [
            5
           ],
           "yaxis": "y"
          },
          {
           "alignmentgroup": "True",
           "hovertemplate": "pais=%{x}<br>registration_year_month=20194<br>count=%{y}<extra></extra>",
           "ids": [
            "ARG"
           ],
           "legendgroup": "ARG",
           "marker": {
            "color": "#FECB52",
            "pattern": {
             "shape": ""
            }
           },
           "name": "ARG",
           "offsetgroup": "ARG",
           "orientation": "v",
           "showlegend": true,
           "textposition": "auto",
           "type": "bar",
           "x": [
            "ARG"
           ],
           "xaxis": "x",
           "y": [
            6
           ],
           "yaxis": "y"
          },
          {
           "alignmentgroup": "True",
           "hovertemplate": "pais=%{x}<br>registration_year_month=20194<br>count=%{y}<extra></extra>",
           "ids": [
            "ECU"
           ],
           "legendgroup": "ECU",
           "marker": {
            "color": "#B6E880",
            "pattern": {
             "shape": ""
            }
           },
           "name": "ECU",
           "offsetgroup": "ECU",
           "orientation": "v",
           "showlegend": true,
           "textposition": "auto",
           "type": "bar",
           "x": [
            "ECU"
           ],
           "xaxis": "x",
           "y": [
            2
           ],
           "yaxis": "y"
          },
          {
           "alignmentgroup": "True",
           "hovertemplate": "pais=%{x}<br>registration_year_month=20194<br>count=%{y}<extra></extra>",
           "ids": [
            "USA"
           ],
           "legendgroup": "USA",
           "marker": {
            "color": "#FF97FF",
            "pattern": {
             "shape": ""
            }
           },
           "name": "USA",
           "offsetgroup": "USA",
           "orientation": "v",
           "showlegend": true,
           "textposition": "auto",
           "type": "bar",
           "x": [
            "USA"
           ],
           "xaxis": "x",
           "y": [
            1
           ],
           "yaxis": "y"
          },
          {
           "alignmentgroup": "True",
           "hovertemplate": "pais=%{x}<br>registration_year_month=20194<br>count=%{y}<extra></extra>",
           "ids": [
            "CRI"
           ],
           "legendgroup": "CRI",
           "marker": {
            "color": "#FECB52",
            "pattern": {
             "shape": ""
            }
           },
           "name": "CRI",
           "offsetgroup": "CRI",
           "orientation": "v",
           "showlegend": true,
           "textposition": "auto",
           "type": "bar",
           "x": [
            "CRI"
           ],
           "xaxis": "x",
           "y": [
            2
           ],
           "yaxis": "y"
          },
          {
           "alignmentgroup": "True",
           "hovertemplate": "pais=%{x}<br>registration_year_month=20194<br>count=%{y}<extra></extra>",
           "ids": [
            "PAN"
           ],
           "legendgroup": "PAN",
           "marker": {
            "color": "#EF553B",
            "pattern": {
             "shape": ""
            }
           },
           "name": "PAN",
           "offsetgroup": "PAN",
           "orientation": "v",
           "showlegend": true,
           "textposition": "auto",
           "type": "bar",
           "x": [
            "PAN"
           ],
           "xaxis": "x",
           "y": [
            1
           ],
           "yaxis": "y"
          },
          {
           "alignmentgroup": "True",
           "hovertemplate": "pais=%{x}<br>registration_year_month=20194<br>count=%{y}<extra></extra>",
           "ids": [
            "PRY"
           ],
           "legendgroup": "PRY",
           "marker": {
            "color": "#19d3f3",
            "pattern": {
             "shape": ""
            }
           },
           "name": "PRY",
           "offsetgroup": "PRY",
           "orientation": "v",
           "showlegend": true,
           "textposition": "auto",
           "type": "bar",
           "x": [
            "PRY"
           ],
           "xaxis": "x",
           "y": [
            1
           ],
           "yaxis": "y"
          },
          {
           "alignmentgroup": "True",
           "hovertemplate": "pais=%{x}<br>registration_year_month=20194<br>count=%{y}<extra></extra>",
           "ids": [
            "SLV"
           ],
           "legendgroup": "SLV",
           "marker": {
            "color": "#FECB52",
            "pattern": {
             "shape": ""
            }
           },
           "name": "SLV",
           "offsetgroup": "SLV",
           "orientation": "v",
           "showlegend": true,
           "textposition": "auto",
           "type": "bar",
           "x": [
            "SLV"
           ],
           "xaxis": "x",
           "y": [
            1
           ],
           "yaxis": "y"
          },
          {
           "alignmentgroup": "True",
           "hovertemplate": "pais=%{x}<br>registration_year_month=20194<br>count=%{y}<extra></extra>",
           "ids": [
            "AUS"
           ],
           "legendgroup": "AUS",
           "marker": {
            "color": "#19d3f3",
            "pattern": {
             "shape": ""
            }
           },
           "name": "AUS",
           "offsetgroup": "AUS",
           "orientation": "v",
           "showlegend": true,
           "textposition": "auto",
           "type": "bar",
           "x": [
            "AUS"
           ],
           "xaxis": "x",
           "y": [
            1
           ],
           "yaxis": "y"
          },
          {
           "alignmentgroup": "True",
           "hovertemplate": "pais=%{x}<br>registration_year_month=20194<br>count=%{y}<extra></extra>",
           "ids": [
            "PAK"
           ],
           "legendgroup": "PAK",
           "marker": {
            "color": "#FF6692",
            "pattern": {
             "shape": ""
            }
           },
           "name": "PAK",
           "offsetgroup": "PAK",
           "orientation": "v",
           "showlegend": true,
           "textposition": "auto",
           "type": "bar",
           "x": [
            "PAK"
           ],
           "xaxis": "x",
           "y": [
            1
           ],
           "yaxis": "y"
          }
         ],
         "name": "20194"
        },
        {
         "data": [
          {
           "alignmentgroup": "True",
           "hovertemplate": "pais=%{x}<br>registration_year_month=20195<br>count=%{y}<extra></extra>",
           "ids": [
            "DOM"
           ],
           "legendgroup": "DOM",
           "marker": {
            "color": "#636efa",
            "pattern": {
             "shape": ""
            }
           },
           "name": "DOM",
           "offsetgroup": "DOM",
           "orientation": "v",
           "showlegend": true,
           "textposition": "auto",
           "type": "bar",
           "x": [
            "DOM"
           ],
           "xaxis": "x",
           "y": [
            2
           ],
           "yaxis": "y"
          },
          {
           "alignmentgroup": "True",
           "hovertemplate": "pais=%{x}<br>registration_year_month=20195<br>count=%{y}<extra></extra>",
           "ids": [
            "ESP"
           ],
           "legendgroup": "ESP",
           "marker": {
            "color": "#EF553B",
            "pattern": {
             "shape": ""
            }
           },
           "name": "ESP",
           "offsetgroup": "ESP",
           "orientation": "v",
           "showlegend": true,
           "textposition": "auto",
           "type": "bar",
           "x": [
            "ESP"
           ],
           "xaxis": "x",
           "y": [
            27
           ],
           "yaxis": "y"
          },
          {
           "alignmentgroup": "True",
           "hovertemplate": "pais=%{x}<br>registration_year_month=20195<br>count=%{y}<extra></extra>",
           "ids": [
            "MEX"
           ],
           "legendgroup": "MEX",
           "marker": {
            "color": "#00cc96",
            "pattern": {
             "shape": ""
            }
           },
           "name": "MEX",
           "offsetgroup": "MEX",
           "orientation": "v",
           "showlegend": true,
           "textposition": "auto",
           "type": "bar",
           "x": [
            "MEX"
           ],
           "xaxis": "x",
           "y": [
            43
           ],
           "yaxis": "y"
          },
          {
           "alignmentgroup": "True",
           "hovertemplate": "pais=%{x}<br>registration_year_month=20195<br>count=%{y}<extra></extra>",
           "ids": [
            "PER"
           ],
           "legendgroup": "PER",
           "marker": {
            "color": "#ab63fa",
            "pattern": {
             "shape": ""
            }
           },
           "name": "PER",
           "offsetgroup": "PER",
           "orientation": "v",
           "showlegend": true,
           "textposition": "auto",
           "type": "bar",
           "x": [
            "PER"
           ],
           "xaxis": "x",
           "y": [
            2
           ],
           "yaxis": "y"
          },
          {
           "alignmentgroup": "True",
           "hovertemplate": "pais=%{x}<br>registration_year_month=20195<br>count=%{y}<extra></extra>",
           "ids": [
            "PRI"
           ],
           "legendgroup": "PRI",
           "marker": {
            "color": "#19d3f3",
            "pattern": {
             "shape": ""
            }
           },
           "name": "PRI",
           "offsetgroup": "PRI",
           "orientation": "v",
           "showlegend": true,
           "textposition": "auto",
           "type": "bar",
           "x": [
            "PRI"
           ],
           "xaxis": "x",
           "y": [
            1
           ],
           "yaxis": "y"
          },
          {
           "alignmentgroup": "True",
           "hovertemplate": "pais=%{x}<br>registration_year_month=20195<br>count=%{y}<extra></extra>",
           "ids": [
            "CHL"
           ],
           "legendgroup": "CHL",
           "marker": {
            "color": "#FF6692",
            "pattern": {
             "shape": ""
            }
           },
           "name": "CHL",
           "offsetgroup": "CHL",
           "orientation": "v",
           "showlegend": true,
           "textposition": "auto",
           "type": "bar",
           "x": [
            "CHL"
           ],
           "xaxis": "x",
           "y": [
            1
           ],
           "yaxis": "y"
          },
          {
           "alignmentgroup": "True",
           "hovertemplate": "pais=%{x}<br>registration_year_month=20195<br>count=%{y}<extra></extra>",
           "ids": [
            "COL"
           ],
           "legendgroup": "COL",
           "marker": {
            "color": "#B6E880",
            "pattern": {
             "shape": ""
            }
           },
           "name": "COL",
           "offsetgroup": "COL",
           "orientation": "v",
           "showlegend": true,
           "textposition": "auto",
           "type": "bar",
           "x": [
            "COL"
           ],
           "xaxis": "x",
           "y": [
            2
           ],
           "yaxis": "y"
          },
          {
           "alignmentgroup": "True",
           "hovertemplate": "pais=%{x}<br>registration_year_month=20195<br>count=%{y}<extra></extra>",
           "ids": [
            "GTM"
           ],
           "legendgroup": "GTM",
           "marker": {
            "color": "#FF97FF",
            "pattern": {
             "shape": ""
            }
           },
           "name": "GTM",
           "offsetgroup": "GTM",
           "orientation": "v",
           "showlegend": true,
           "textposition": "auto",
           "type": "bar",
           "x": [
            "GTM"
           ],
           "xaxis": "x",
           "y": [
            1
           ],
           "yaxis": "y"
          },
          {
           "alignmentgroup": "True",
           "hovertemplate": "pais=%{x}<br>registration_year_month=20195<br>count=%{y}<extra></extra>",
           "ids": [
            "ARG"
           ],
           "legendgroup": "ARG",
           "marker": {
            "color": "#FECB52",
            "pattern": {
             "shape": ""
            }
           },
           "name": "ARG",
           "offsetgroup": "ARG",
           "orientation": "v",
           "showlegend": true,
           "textposition": "auto",
           "type": "bar",
           "x": [
            "ARG"
           ],
           "xaxis": "x",
           "y": [
            3
           ],
           "yaxis": "y"
          },
          {
           "alignmentgroup": "True",
           "hovertemplate": "pais=%{x}<br>registration_year_month=20195<br>count=%{y}<extra></extra>",
           "ids": [
            "ECU"
           ],
           "legendgroup": "ECU",
           "marker": {
            "color": "#B6E880",
            "pattern": {
             "shape": ""
            }
           },
           "name": "ECU",
           "offsetgroup": "ECU",
           "orientation": "v",
           "showlegend": true,
           "textposition": "auto",
           "type": "bar",
           "x": [
            "ECU"
           ],
           "xaxis": "x",
           "y": [
            6
           ],
           "yaxis": "y"
          },
          {
           "alignmentgroup": "True",
           "hovertemplate": "pais=%{x}<br>registration_year_month=20195<br>count=%{y}<extra></extra>",
           "ids": [
            "CRI"
           ],
           "legendgroup": "CRI",
           "marker": {
            "color": "#FECB52",
            "pattern": {
             "shape": ""
            }
           },
           "name": "CRI",
           "offsetgroup": "CRI",
           "orientation": "v",
           "showlegend": true,
           "textposition": "auto",
           "type": "bar",
           "x": [
            "CRI"
           ],
           "xaxis": "x",
           "y": [
            77
           ],
           "yaxis": "y"
          }
         ],
         "name": "20195"
        },
        {
         "data": [
          {
           "alignmentgroup": "True",
           "hovertemplate": "pais=%{x}<br>registration_year_month=20196<br>count=%{y}<extra></extra>",
           "ids": [
            "DOM"
           ],
           "legendgroup": "DOM",
           "marker": {
            "color": "#636efa",
            "pattern": {
             "shape": ""
            }
           },
           "name": "DOM",
           "offsetgroup": "DOM",
           "orientation": "v",
           "showlegend": true,
           "textposition": "auto",
           "type": "bar",
           "x": [
            "DOM"
           ],
           "xaxis": "x",
           "y": [
            1
           ],
           "yaxis": "y"
          },
          {
           "alignmentgroup": "True",
           "hovertemplate": "pais=%{x}<br>registration_year_month=20196<br>count=%{y}<extra></extra>",
           "ids": [
            "ESP"
           ],
           "legendgroup": "ESP",
           "marker": {
            "color": "#EF553B",
            "pattern": {
             "shape": ""
            }
           },
           "name": "ESP",
           "offsetgroup": "ESP",
           "orientation": "v",
           "showlegend": true,
           "textposition": "auto",
           "type": "bar",
           "x": [
            "ESP"
           ],
           "xaxis": "x",
           "y": [
            52
           ],
           "yaxis": "y"
          },
          {
           "alignmentgroup": "True",
           "hovertemplate": "pais=%{x}<br>registration_year_month=20196<br>count=%{y}<extra></extra>",
           "ids": [
            "MEX"
           ],
           "legendgroup": "MEX",
           "marker": {
            "color": "#00cc96",
            "pattern": {
             "shape": ""
            }
           },
           "name": "MEX",
           "offsetgroup": "MEX",
           "orientation": "v",
           "showlegend": true,
           "textposition": "auto",
           "type": "bar",
           "x": [
            "MEX"
           ],
           "xaxis": "x",
           "y": [
            12
           ],
           "yaxis": "y"
          },
          {
           "alignmentgroup": "True",
           "hovertemplate": "pais=%{x}<br>registration_year_month=20196<br>count=%{y}<extra></extra>",
           "ids": [
            "PER"
           ],
           "legendgroup": "PER",
           "marker": {
            "color": "#ab63fa",
            "pattern": {
             "shape": ""
            }
           },
           "name": "PER",
           "offsetgroup": "PER",
           "orientation": "v",
           "showlegend": true,
           "textposition": "auto",
           "type": "bar",
           "x": [
            "PER"
           ],
           "xaxis": "x",
           "y": [
            1
           ],
           "yaxis": "y"
          },
          {
           "alignmentgroup": "True",
           "hovertemplate": "pais=%{x}<br>registration_year_month=20196<br>count=%{y}<extra></extra>",
           "ids": [
            "COL"
           ],
           "legendgroup": "COL",
           "marker": {
            "color": "#B6E880",
            "pattern": {
             "shape": ""
            }
           },
           "name": "COL",
           "offsetgroup": "COL",
           "orientation": "v",
           "showlegend": true,
           "textposition": "auto",
           "type": "bar",
           "x": [
            "COL"
           ],
           "xaxis": "x",
           "y": [
            3
           ],
           "yaxis": "y"
          },
          {
           "alignmentgroup": "True",
           "hovertemplate": "pais=%{x}<br>registration_year_month=20196<br>count=%{y}<extra></extra>",
           "ids": [
            "GTM"
           ],
           "legendgroup": "GTM",
           "marker": {
            "color": "#FF97FF",
            "pattern": {
             "shape": ""
            }
           },
           "name": "GTM",
           "offsetgroup": "GTM",
           "orientation": "v",
           "showlegend": true,
           "textposition": "auto",
           "type": "bar",
           "x": [
            "GTM"
           ],
           "xaxis": "x",
           "y": [
            1
           ],
           "yaxis": "y"
          },
          {
           "alignmentgroup": "True",
           "hovertemplate": "pais=%{x}<br>registration_year_month=20196<br>count=%{y}<extra></extra>",
           "ids": [
            "URY"
           ],
           "legendgroup": "URY",
           "marker": {
            "color": "#636efa",
            "pattern": {
             "shape": ""
            }
           },
           "name": "URY",
           "offsetgroup": "URY",
           "orientation": "v",
           "showlegend": true,
           "textposition": "auto",
           "type": "bar",
           "x": [
            "URY"
           ],
           "xaxis": "x",
           "y": [
            1
           ],
           "yaxis": "y"
          },
          {
           "alignmentgroup": "True",
           "hovertemplate": "pais=%{x}<br>registration_year_month=20196<br>count=%{y}<extra></extra>",
           "ids": [
            "ECU"
           ],
           "legendgroup": "ECU",
           "marker": {
            "color": "#B6E880",
            "pattern": {
             "shape": ""
            }
           },
           "name": "ECU",
           "offsetgroup": "ECU",
           "orientation": "v",
           "showlegend": true,
           "textposition": "auto",
           "type": "bar",
           "x": [
            "ECU"
           ],
           "xaxis": "x",
           "y": [
            2
           ],
           "yaxis": "y"
          },
          {
           "alignmentgroup": "True",
           "hovertemplate": "pais=%{x}<br>registration_year_month=20196<br>count=%{y}<extra></extra>",
           "ids": [
            "USA"
           ],
           "legendgroup": "USA",
           "marker": {
            "color": "#FF97FF",
            "pattern": {
             "shape": ""
            }
           },
           "name": "USA",
           "offsetgroup": "USA",
           "orientation": "v",
           "showlegend": true,
           "textposition": "auto",
           "type": "bar",
           "x": [
            "USA"
           ],
           "xaxis": "x",
           "y": [
            1
           ],
           "yaxis": "y"
          },
          {
           "alignmentgroup": "True",
           "hovertemplate": "pais=%{x}<br>registration_year_month=20196<br>count=%{y}<extra></extra>",
           "ids": [
            "CRI"
           ],
           "legendgroup": "CRI",
           "marker": {
            "color": "#FECB52",
            "pattern": {
             "shape": ""
            }
           },
           "name": "CRI",
           "offsetgroup": "CRI",
           "orientation": "v",
           "showlegend": true,
           "textposition": "auto",
           "type": "bar",
           "x": [
            "CRI"
           ],
           "xaxis": "x",
           "y": [
            2
           ],
           "yaxis": "y"
          }
         ],
         "name": "20196"
        },
        {
         "data": [
          {
           "alignmentgroup": "True",
           "hovertemplate": "pais=%{x}<br>registration_year_month=20197<br>count=%{y}<extra></extra>",
           "ids": [
            "DOM"
           ],
           "legendgroup": "DOM",
           "marker": {
            "color": "#636efa",
            "pattern": {
             "shape": ""
            }
           },
           "name": "DOM",
           "offsetgroup": "DOM",
           "orientation": "v",
           "showlegend": true,
           "textposition": "auto",
           "type": "bar",
           "x": [
            "DOM"
           ],
           "xaxis": "x",
           "y": [
            1
           ],
           "yaxis": "y"
          },
          {
           "alignmentgroup": "True",
           "hovertemplate": "pais=%{x}<br>registration_year_month=20197<br>count=%{y}<extra></extra>",
           "ids": [
            "ESP"
           ],
           "legendgroup": "ESP",
           "marker": {
            "color": "#EF553B",
            "pattern": {
             "shape": ""
            }
           },
           "name": "ESP",
           "offsetgroup": "ESP",
           "orientation": "v",
           "showlegend": true,
           "textposition": "auto",
           "type": "bar",
           "x": [
            "ESP"
           ],
           "xaxis": "x",
           "y": [
            21
           ],
           "yaxis": "y"
          },
          {
           "alignmentgroup": "True",
           "hovertemplate": "pais=%{x}<br>registration_year_month=20197<br>count=%{y}<extra></extra>",
           "ids": [
            "MEX"
           ],
           "legendgroup": "MEX",
           "marker": {
            "color": "#00cc96",
            "pattern": {
             "shape": ""
            }
           },
           "name": "MEX",
           "offsetgroup": "MEX",
           "orientation": "v",
           "showlegend": true,
           "textposition": "auto",
           "type": "bar",
           "x": [
            "MEX"
           ],
           "xaxis": "x",
           "y": [
            10
           ],
           "yaxis": "y"
          },
          {
           "alignmentgroup": "True",
           "hovertemplate": "pais=%{x}<br>registration_year_month=20197<br>count=%{y}<extra></extra>",
           "ids": [
            "PER"
           ],
           "legendgroup": "PER",
           "marker": {
            "color": "#ab63fa",
            "pattern": {
             "shape": ""
            }
           },
           "name": "PER",
           "offsetgroup": "PER",
           "orientation": "v",
           "showlegend": true,
           "textposition": "auto",
           "type": "bar",
           "x": [
            "PER"
           ],
           "xaxis": "x",
           "y": [
            3
           ],
           "yaxis": "y"
          },
          {
           "alignmentgroup": "True",
           "hovertemplate": "pais=%{x}<br>registration_year_month=20197<br>count=%{y}<extra></extra>",
           "ids": [
            "COL"
           ],
           "legendgroup": "COL",
           "marker": {
            "color": "#B6E880",
            "pattern": {
             "shape": ""
            }
           },
           "name": "COL",
           "offsetgroup": "COL",
           "orientation": "v",
           "showlegend": true,
           "textposition": "auto",
           "type": "bar",
           "x": [
            "COL"
           ],
           "xaxis": "x",
           "y": [
            2
           ],
           "yaxis": "y"
          },
          {
           "alignmentgroup": "True",
           "hovertemplate": "pais=%{x}<br>registration_year_month=20197<br>count=%{y}<extra></extra>",
           "ids": [
            "GTM"
           ],
           "legendgroup": "GTM",
           "marker": {
            "color": "#FF97FF",
            "pattern": {
             "shape": ""
            }
           },
           "name": "GTM",
           "offsetgroup": "GTM",
           "orientation": "v",
           "showlegend": true,
           "textposition": "auto",
           "type": "bar",
           "x": [
            "GTM"
           ],
           "xaxis": "x",
           "y": [
            2
           ],
           "yaxis": "y"
          },
          {
           "alignmentgroup": "True",
           "hovertemplate": "pais=%{x}<br>registration_year_month=20197<br>count=%{y}<extra></extra>",
           "ids": [
            "ARG"
           ],
           "legendgroup": "ARG",
           "marker": {
            "color": "#FECB52",
            "pattern": {
             "shape": ""
            }
           },
           "name": "ARG",
           "offsetgroup": "ARG",
           "orientation": "v",
           "showlegend": true,
           "textposition": "auto",
           "type": "bar",
           "x": [
            "ARG"
           ],
           "xaxis": "x",
           "y": [
            1
           ],
           "yaxis": "y"
          },
          {
           "alignmentgroup": "True",
           "hovertemplate": "pais=%{x}<br>registration_year_month=20197<br>count=%{y}<extra></extra>",
           "ids": [
            "VEN"
           ],
           "legendgroup": "VEN",
           "marker": {
            "color": "#EF553B",
            "pattern": {
             "shape": ""
            }
           },
           "name": "VEN",
           "offsetgroup": "VEN",
           "orientation": "v",
           "showlegend": true,
           "textposition": "auto",
           "type": "bar",
           "x": [
            "VEN"
           ],
           "xaxis": "x",
           "y": [
            1
           ],
           "yaxis": "y"
          },
          {
           "alignmentgroup": "True",
           "hovertemplate": "pais=%{x}<br>registration_year_month=20197<br>count=%{y}<extra></extra>",
           "ids": [
            "ECU"
           ],
           "legendgroup": "ECU",
           "marker": {
            "color": "#B6E880",
            "pattern": {
             "shape": ""
            }
           },
           "name": "ECU",
           "offsetgroup": "ECU",
           "orientation": "v",
           "showlegend": true,
           "textposition": "auto",
           "type": "bar",
           "x": [
            "ECU"
           ],
           "xaxis": "x",
           "y": [
            2
           ],
           "yaxis": "y"
          },
          {
           "alignmentgroup": "True",
           "hovertemplate": "pais=%{x}<br>registration_year_month=20197<br>count=%{y}<extra></extra>",
           "ids": [
            "CRI"
           ],
           "legendgroup": "CRI",
           "marker": {
            "color": "#FECB52",
            "pattern": {
             "shape": ""
            }
           },
           "name": "CRI",
           "offsetgroup": "CRI",
           "orientation": "v",
           "showlegend": true,
           "textposition": "auto",
           "type": "bar",
           "x": [
            "CRI"
           ],
           "xaxis": "x",
           "y": [
            4
           ],
           "yaxis": "y"
          },
          {
           "alignmentgroup": "True",
           "hovertemplate": "pais=%{x}<br>registration_year_month=20197<br>count=%{y}<extra></extra>",
           "ids": [
            "VNM"
           ],
           "legendgroup": "VNM",
           "marker": {
            "color": "#B6E880",
            "pattern": {
             "shape": ""
            }
           },
           "name": "VNM",
           "offsetgroup": "VNM",
           "orientation": "v",
           "showlegend": true,
           "textposition": "auto",
           "type": "bar",
           "x": [
            "VNM"
           ],
           "xaxis": "x",
           "y": [
            1
           ],
           "yaxis": "y"
          }
         ],
         "name": "20197"
        },
        {
         "data": [
          {
           "alignmentgroup": "True",
           "hovertemplate": "pais=%{x}<br>registration_year_month=20198<br>count=%{y}<extra></extra>",
           "ids": [
            "ESP"
           ],
           "legendgroup": "ESP",
           "marker": {
            "color": "#EF553B",
            "pattern": {
             "shape": ""
            }
           },
           "name": "ESP",
           "offsetgroup": "ESP",
           "orientation": "v",
           "showlegend": true,
           "textposition": "auto",
           "type": "bar",
           "x": [
            "ESP"
           ],
           "xaxis": "x",
           "y": [
            6
           ],
           "yaxis": "y"
          },
          {
           "alignmentgroup": "True",
           "hovertemplate": "pais=%{x}<br>registration_year_month=20198<br>count=%{y}<extra></extra>",
           "ids": [
            "MEX"
           ],
           "legendgroup": "MEX",
           "marker": {
            "color": "#00cc96",
            "pattern": {
             "shape": ""
            }
           },
           "name": "MEX",
           "offsetgroup": "MEX",
           "orientation": "v",
           "showlegend": true,
           "textposition": "auto",
           "type": "bar",
           "x": [
            "MEX"
           ],
           "xaxis": "x",
           "y": [
            3
           ],
           "yaxis": "y"
          },
          {
           "alignmentgroup": "True",
           "hovertemplate": "pais=%{x}<br>registration_year_month=20198<br>count=%{y}<extra></extra>",
           "ids": [
            "PER"
           ],
           "legendgroup": "PER",
           "marker": {
            "color": "#ab63fa",
            "pattern": {
             "shape": ""
            }
           },
           "name": "PER",
           "offsetgroup": "PER",
           "orientation": "v",
           "showlegend": true,
           "textposition": "auto",
           "type": "bar",
           "x": [
            "PER"
           ],
           "xaxis": "x",
           "y": [
            1
           ],
           "yaxis": "y"
          },
          {
           "alignmentgroup": "True",
           "hovertemplate": "pais=%{x}<br>registration_year_month=20198<br>count=%{y}<extra></extra>",
           "ids": [
            "CHL"
           ],
           "legendgroup": "CHL",
           "marker": {
            "color": "#FF6692",
            "pattern": {
             "shape": ""
            }
           },
           "name": "CHL",
           "offsetgroup": "CHL",
           "orientation": "v",
           "showlegend": true,
           "textposition": "auto",
           "type": "bar",
           "x": [
            "CHL"
           ],
           "xaxis": "x",
           "y": [
            1
           ],
           "yaxis": "y"
          },
          {
           "alignmentgroup": "True",
           "hovertemplate": "pais=%{x}<br>registration_year_month=20198<br>count=%{y}<extra></extra>",
           "ids": [
            "GTM"
           ],
           "legendgroup": "GTM",
           "marker": {
            "color": "#FF97FF",
            "pattern": {
             "shape": ""
            }
           },
           "name": "GTM",
           "offsetgroup": "GTM",
           "orientation": "v",
           "showlegend": true,
           "textposition": "auto",
           "type": "bar",
           "x": [
            "GTM"
           ],
           "xaxis": "x",
           "y": [
            6
           ],
           "yaxis": "y"
          },
          {
           "alignmentgroup": "True",
           "hovertemplate": "pais=%{x}<br>registration_year_month=20198<br>count=%{y}<extra></extra>",
           "ids": [
            "AND"
           ],
           "legendgroup": "AND",
           "marker": {
            "color": "#00cc96",
            "pattern": {
             "shape": ""
            }
           },
           "name": "AND",
           "offsetgroup": "AND",
           "orientation": "v",
           "showlegend": true,
           "textposition": "auto",
           "type": "bar",
           "x": [
            "AND"
           ],
           "xaxis": "x",
           "y": [
            2
           ],
           "yaxis": "y"
          },
          {
           "alignmentgroup": "True",
           "hovertemplate": "pais=%{x}<br>registration_year_month=20198<br>count=%{y}<extra></extra>",
           "ids": [
            "FIN"
           ],
           "legendgroup": "FIN",
           "marker": {
            "color": "#FFA15A",
            "pattern": {
             "shape": ""
            }
           },
           "name": "FIN",
           "offsetgroup": "FIN",
           "orientation": "v",
           "showlegend": true,
           "textposition": "auto",
           "type": "bar",
           "x": [
            "FIN"
           ],
           "xaxis": "x",
           "y": [
            1
           ],
           "yaxis": "y"
          },
          {
           "alignmentgroup": "True",
           "hovertemplate": "pais=%{x}<br>registration_year_month=20198<br>count=%{y}<extra></extra>",
           "ids": [
            "ECU"
           ],
           "legendgroup": "ECU",
           "marker": {
            "color": "#B6E880",
            "pattern": {
             "shape": ""
            }
           },
           "name": "ECU",
           "offsetgroup": "ECU",
           "orientation": "v",
           "showlegend": true,
           "textposition": "auto",
           "type": "bar",
           "x": [
            "ECU"
           ],
           "xaxis": "x",
           "y": [
            15
           ],
           "yaxis": "y"
          },
          {
           "alignmentgroup": "True",
           "hovertemplate": "pais=%{x}<br>registration_year_month=20198<br>count=%{y}<extra></extra>",
           "ids": [
            "USA"
           ],
           "legendgroup": "USA",
           "marker": {
            "color": "#FF97FF",
            "pattern": {
             "shape": ""
            }
           },
           "name": "USA",
           "offsetgroup": "USA",
           "orientation": "v",
           "showlegend": true,
           "textposition": "auto",
           "type": "bar",
           "x": [
            "USA"
           ],
           "xaxis": "x",
           "y": [
            1
           ],
           "yaxis": "y"
          },
          {
           "alignmentgroup": "True",
           "hovertemplate": "pais=%{x}<br>registration_year_month=20198<br>count=%{y}<extra></extra>",
           "ids": [
            "PAN"
           ],
           "legendgroup": "PAN",
           "marker": {
            "color": "#EF553B",
            "pattern": {
             "shape": ""
            }
           },
           "name": "PAN",
           "offsetgroup": "PAN",
           "orientation": "v",
           "showlegend": true,
           "textposition": "auto",
           "type": "bar",
           "x": [
            "PAN"
           ],
           "xaxis": "x",
           "y": [
            1
           ],
           "yaxis": "y"
          }
         ],
         "name": "20198"
        },
        {
         "data": [
          {
           "alignmentgroup": "True",
           "hovertemplate": "pais=%{x}<br>registration_year_month=20199<br>count=%{y}<extra></extra>",
           "ids": [
            "ESP"
           ],
           "legendgroup": "ESP",
           "marker": {
            "color": "#EF553B",
            "pattern": {
             "shape": ""
            }
           },
           "name": "ESP",
           "offsetgroup": "ESP",
           "orientation": "v",
           "showlegend": true,
           "textposition": "auto",
           "type": "bar",
           "x": [
            "ESP"
           ],
           "xaxis": "x",
           "y": [
            136
           ],
           "yaxis": "y"
          },
          {
           "alignmentgroup": "True",
           "hovertemplate": "pais=%{x}<br>registration_year_month=20199<br>count=%{y}<extra></extra>",
           "ids": [
            "MEX"
           ],
           "legendgroup": "MEX",
           "marker": {
            "color": "#00cc96",
            "pattern": {
             "shape": ""
            }
           },
           "name": "MEX",
           "offsetgroup": "MEX",
           "orientation": "v",
           "showlegend": true,
           "textposition": "auto",
           "type": "bar",
           "x": [
            "MEX"
           ],
           "xaxis": "x",
           "y": [
            6
           ],
           "yaxis": "y"
          },
          {
           "alignmentgroup": "True",
           "hovertemplate": "pais=%{x}<br>registration_year_month=20199<br>count=%{y}<extra></extra>",
           "ids": [
            "PER"
           ],
           "legendgroup": "PER",
           "marker": {
            "color": "#ab63fa",
            "pattern": {
             "shape": ""
            }
           },
           "name": "PER",
           "offsetgroup": "PER",
           "orientation": "v",
           "showlegend": true,
           "textposition": "auto",
           "type": "bar",
           "x": [
            "PER"
           ],
           "xaxis": "x",
           "y": [
            3
           ],
           "yaxis": "y"
          },
          {
           "alignmentgroup": "True",
           "hovertemplate": "pais=%{x}<br>registration_year_month=20199<br>count=%{y}<extra></extra>",
           "ids": [
            "ARG"
           ],
           "legendgroup": "ARG",
           "marker": {
            "color": "#FECB52",
            "pattern": {
             "shape": ""
            }
           },
           "name": "ARG",
           "offsetgroup": "ARG",
           "orientation": "v",
           "showlegend": true,
           "textposition": "auto",
           "type": "bar",
           "x": [
            "ARG"
           ],
           "xaxis": "x",
           "y": [
            1
           ],
           "yaxis": "y"
          },
          {
           "alignmentgroup": "True",
           "hovertemplate": "pais=%{x}<br>registration_year_month=20199<br>count=%{y}<extra></extra>",
           "ids": [
            "AND"
           ],
           "legendgroup": "AND",
           "marker": {
            "color": "#00cc96",
            "pattern": {
             "shape": ""
            }
           },
           "name": "AND",
           "offsetgroup": "AND",
           "orientation": "v",
           "showlegend": true,
           "textposition": "auto",
           "type": "bar",
           "x": [
            "AND"
           ],
           "xaxis": "x",
           "y": [
            1
           ],
           "yaxis": "y"
          },
          {
           "alignmentgroup": "True",
           "hovertemplate": "pais=%{x}<br>registration_year_month=20199<br>count=%{y}<extra></extra>",
           "ids": [
            "FIN"
           ],
           "legendgroup": "FIN",
           "marker": {
            "color": "#FFA15A",
            "pattern": {
             "shape": ""
            }
           },
           "name": "FIN",
           "offsetgroup": "FIN",
           "orientation": "v",
           "showlegend": true,
           "textposition": "auto",
           "type": "bar",
           "x": [
            "FIN"
           ],
           "xaxis": "x",
           "y": [
            1
           ],
           "yaxis": "y"
          },
          {
           "alignmentgroup": "True",
           "hovertemplate": "pais=%{x}<br>registration_year_month=20199<br>count=%{y}<extra></extra>",
           "ids": [
            "CRI"
           ],
           "legendgroup": "CRI",
           "marker": {
            "color": "#FECB52",
            "pattern": {
             "shape": ""
            }
           },
           "name": "CRI",
           "offsetgroup": "CRI",
           "orientation": "v",
           "showlegend": true,
           "textposition": "auto",
           "type": "bar",
           "x": [
            "CRI"
           ],
           "xaxis": "x",
           "y": [
            6
           ],
           "yaxis": "y"
          },
          {
           "alignmentgroup": "True",
           "hovertemplate": "pais=%{x}<br>registration_year_month=20199<br>count=%{y}<extra></extra>",
           "ids": [
            "PAN"
           ],
           "legendgroup": "PAN",
           "marker": {
            "color": "#EF553B",
            "pattern": {
             "shape": ""
            }
           },
           "name": "PAN",
           "offsetgroup": "PAN",
           "orientation": "v",
           "showlegend": true,
           "textposition": "auto",
           "type": "bar",
           "x": [
            "PAN"
           ],
           "xaxis": "x",
           "y": [
            1
           ],
           "yaxis": "y"
          },
          {
           "alignmentgroup": "True",
           "hovertemplate": "pais=%{x}<br>registration_year_month=20199<br>count=%{y}<extra></extra>",
           "ids": [
            "BOL"
           ],
           "legendgroup": "BOL",
           "marker": {
            "color": "#636efa",
            "pattern": {
             "shape": ""
            }
           },
           "name": "BOL",
           "offsetgroup": "BOL",
           "orientation": "v",
           "showlegend": true,
           "textposition": "auto",
           "type": "bar",
           "x": [
            "BOL"
           ],
           "xaxis": "x",
           "y": [
            1
           ],
           "yaxis": "y"
          },
          {
           "alignmentgroup": "True",
           "hovertemplate": "pais=%{x}<br>registration_year_month=20199<br>count=%{y}<extra></extra>",
           "ids": [
            "AUS"
           ],
           "legendgroup": "AUS",
           "marker": {
            "color": "#19d3f3",
            "pattern": {
             "shape": ""
            }
           },
           "name": "AUS",
           "offsetgroup": "AUS",
           "orientation": "v",
           "showlegend": true,
           "textposition": "auto",
           "type": "bar",
           "x": [
            "AUS"
           ],
           "xaxis": "x",
           "y": [
            2
           ],
           "yaxis": "y"
          },
          {
           "alignmentgroup": "True",
           "hovertemplate": "pais=%{x}<br>registration_year_month=20199<br>count=%{y}<extra></extra>",
           "ids": [
            "VNM"
           ],
           "legendgroup": "VNM",
           "marker": {
            "color": "#B6E880",
            "pattern": {
             "shape": ""
            }
           },
           "name": "VNM",
           "offsetgroup": "VNM",
           "orientation": "v",
           "showlegend": true,
           "textposition": "auto",
           "type": "bar",
           "x": [
            "VNM"
           ],
           "xaxis": "x",
           "y": [
            7
           ],
           "yaxis": "y"
          },
          {
           "alignmentgroup": "True",
           "hovertemplate": "pais=%{x}<br>registration_year_month=20199<br>count=%{y}<extra></extra>",
           "ids": [
            "MMR"
           ],
           "legendgroup": "MMR",
           "marker": {
            "color": "#FF97FF",
            "pattern": {
             "shape": ""
            }
           },
           "name": "MMR",
           "offsetgroup": "MMR",
           "orientation": "v",
           "showlegend": true,
           "textposition": "auto",
           "type": "bar",
           "x": [
            "MMR"
           ],
           "xaxis": "x",
           "y": [
            1
           ],
           "yaxis": "y"
          }
         ],
         "name": "20199"
        },
        {
         "data": [
          {
           "alignmentgroup": "True",
           "hovertemplate": "pais=%{x}<br>registration_year_month=20201<br>count=%{y}<extra></extra>",
           "ids": [
            "DOM"
           ],
           "legendgroup": "DOM",
           "marker": {
            "color": "#636efa",
            "pattern": {
             "shape": ""
            }
           },
           "name": "DOM",
           "offsetgroup": "DOM",
           "orientation": "v",
           "showlegend": true,
           "textposition": "auto",
           "type": "bar",
           "x": [
            "DOM"
           ],
           "xaxis": "x",
           "y": [
            2
           ],
           "yaxis": "y"
          },
          {
           "alignmentgroup": "True",
           "hovertemplate": "pais=%{x}<br>registration_year_month=20201<br>count=%{y}<extra></extra>",
           "ids": [
            "ESP"
           ],
           "legendgroup": "ESP",
           "marker": {
            "color": "#EF553B",
            "pattern": {
             "shape": ""
            }
           },
           "name": "ESP",
           "offsetgroup": "ESP",
           "orientation": "v",
           "showlegend": true,
           "textposition": "auto",
           "type": "bar",
           "x": [
            "ESP"
           ],
           "xaxis": "x",
           "y": [
            19
           ],
           "yaxis": "y"
          },
          {
           "alignmentgroup": "True",
           "hovertemplate": "pais=%{x}<br>registration_year_month=20201<br>count=%{y}<extra></extra>",
           "ids": [
            "MEX"
           ],
           "legendgroup": "MEX",
           "marker": {
            "color": "#00cc96",
            "pattern": {
             "shape": ""
            }
           },
           "name": "MEX",
           "offsetgroup": "MEX",
           "orientation": "v",
           "showlegend": true,
           "textposition": "auto",
           "type": "bar",
           "x": [
            "MEX"
           ],
           "xaxis": "x",
           "y": [
            132
           ],
           "yaxis": "y"
          },
          {
           "alignmentgroup": "True",
           "hovertemplate": "pais=%{x}<br>registration_year_month=20201<br>count=%{y}<extra></extra>",
           "ids": [
            "PER"
           ],
           "legendgroup": "PER",
           "marker": {
            "color": "#ab63fa",
            "pattern": {
             "shape": ""
            }
           },
           "name": "PER",
           "offsetgroup": "PER",
           "orientation": "v",
           "showlegend": true,
           "textposition": "auto",
           "type": "bar",
           "x": [
            "PER"
           ],
           "xaxis": "x",
           "y": [
            6
           ],
           "yaxis": "y"
          },
          {
           "alignmentgroup": "True",
           "hovertemplate": "pais=%{x}<br>registration_year_month=20201<br>count=%{y}<extra></extra>",
           "ids": [
            "COL"
           ],
           "legendgroup": "COL",
           "marker": {
            "color": "#B6E880",
            "pattern": {
             "shape": ""
            }
           },
           "name": "COL",
           "offsetgroup": "COL",
           "orientation": "v",
           "showlegend": true,
           "textposition": "auto",
           "type": "bar",
           "x": [
            "COL"
           ],
           "xaxis": "x",
           "y": [
            6
           ],
           "yaxis": "y"
          },
          {
           "alignmentgroup": "True",
           "hovertemplate": "pais=%{x}<br>registration_year_month=20201<br>count=%{y}<extra></extra>",
           "ids": [
            "GTM"
           ],
           "legendgroup": "GTM",
           "marker": {
            "color": "#FF97FF",
            "pattern": {
             "shape": ""
            }
           },
           "name": "GTM",
           "offsetgroup": "GTM",
           "orientation": "v",
           "showlegend": true,
           "textposition": "auto",
           "type": "bar",
           "x": [
            "GTM"
           ],
           "xaxis": "x",
           "y": [
            1
           ],
           "yaxis": "y"
          },
          {
           "alignmentgroup": "True",
           "hovertemplate": "pais=%{x}<br>registration_year_month=20201<br>count=%{y}<extra></extra>",
           "ids": [
            "ECU"
           ],
           "legendgroup": "ECU",
           "marker": {
            "color": "#B6E880",
            "pattern": {
             "shape": ""
            }
           },
           "name": "ECU",
           "offsetgroup": "ECU",
           "orientation": "v",
           "showlegend": true,
           "textposition": "auto",
           "type": "bar",
           "x": [
            "ECU"
           ],
           "xaxis": "x",
           "y": [
            3
           ],
           "yaxis": "y"
          },
          {
           "alignmentgroup": "True",
           "hovertemplate": "pais=%{x}<br>registration_year_month=20201<br>count=%{y}<extra></extra>",
           "ids": [
            "USA"
           ],
           "legendgroup": "USA",
           "marker": {
            "color": "#FF97FF",
            "pattern": {
             "shape": ""
            }
           },
           "name": "USA",
           "offsetgroup": "USA",
           "orientation": "v",
           "showlegend": true,
           "textposition": "auto",
           "type": "bar",
           "x": [
            "USA"
           ],
           "xaxis": "x",
           "y": [
            2
           ],
           "yaxis": "y"
          },
          {
           "alignmentgroup": "True",
           "hovertemplate": "pais=%{x}<br>registration_year_month=20201<br>count=%{y}<extra></extra>",
           "ids": [
            "CRI"
           ],
           "legendgroup": "CRI",
           "marker": {
            "color": "#FECB52",
            "pattern": {
             "shape": ""
            }
           },
           "name": "CRI",
           "offsetgroup": "CRI",
           "orientation": "v",
           "showlegend": true,
           "textposition": "auto",
           "type": "bar",
           "x": [
            "CRI"
           ],
           "xaxis": "x",
           "y": [
            1
           ],
           "yaxis": "y"
          },
          {
           "alignmentgroup": "True",
           "hovertemplate": "pais=%{x}<br>registration_year_month=20201<br>count=%{y}<extra></extra>",
           "ids": [
            "PAN"
           ],
           "legendgroup": "PAN",
           "marker": {
            "color": "#EF553B",
            "pattern": {
             "shape": ""
            }
           },
           "name": "PAN",
           "offsetgroup": "PAN",
           "orientation": "v",
           "showlegend": true,
           "textposition": "auto",
           "type": "bar",
           "x": [
            "PAN"
           ],
           "xaxis": "x",
           "y": [
            1
           ],
           "yaxis": "y"
          },
          {
           "alignmentgroup": "True",
           "hovertemplate": "pais=%{x}<br>registration_year_month=20201<br>count=%{y}<extra></extra>",
           "ids": [
            "HND"
           ],
           "legendgroup": "HND",
           "marker": {
            "color": "#B6E880",
            "pattern": {
             "shape": ""
            }
           },
           "name": "HND",
           "offsetgroup": "HND",
           "orientation": "v",
           "showlegend": true,
           "textposition": "auto",
           "type": "bar",
           "x": [
            "HND"
           ],
           "xaxis": "x",
           "y": [
            2
           ],
           "yaxis": "y"
          },
          {
           "alignmentgroup": "True",
           "hovertemplate": "pais=%{x}<br>registration_year_month=20201<br>count=%{y}<extra></extra>",
           "ids": [
            "IND"
           ],
           "legendgroup": "IND",
           "marker": {
            "color": "#ab63fa",
            "pattern": {
             "shape": ""
            }
           },
           "name": "IND",
           "offsetgroup": "IND",
           "orientation": "v",
           "showlegend": true,
           "textposition": "auto",
           "type": "bar",
           "x": [
            "IND"
           ],
           "xaxis": "x",
           "y": [
            2
           ],
           "yaxis": "y"
          }
         ],
         "name": "20201"
        },
        {
         "data": [
          {
           "alignmentgroup": "True",
           "hovertemplate": "pais=%{x}<br>registration_year_month=202010<br>count=%{y}<extra></extra>",
           "ids": [
            "ESP"
           ],
           "legendgroup": "ESP",
           "marker": {
            "color": "#EF553B",
            "pattern": {
             "shape": ""
            }
           },
           "name": "ESP",
           "offsetgroup": "ESP",
           "orientation": "v",
           "showlegend": true,
           "textposition": "auto",
           "type": "bar",
           "x": [
            "ESP"
           ],
           "xaxis": "x",
           "y": [
            8
           ],
           "yaxis": "y"
          },
          {
           "alignmentgroup": "True",
           "hovertemplate": "pais=%{x}<br>registration_year_month=202010<br>count=%{y}<extra></extra>",
           "ids": [
            "MEX"
           ],
           "legendgroup": "MEX",
           "marker": {
            "color": "#00cc96",
            "pattern": {
             "shape": ""
            }
           },
           "name": "MEX",
           "offsetgroup": "MEX",
           "orientation": "v",
           "showlegend": true,
           "textposition": "auto",
           "type": "bar",
           "x": [
            "MEX"
           ],
           "xaxis": "x",
           "y": [
            9
           ],
           "yaxis": "y"
          },
          {
           "alignmentgroup": "True",
           "hovertemplate": "pais=%{x}<br>registration_year_month=202010<br>count=%{y}<extra></extra>",
           "ids": [
            "CHL"
           ],
           "legendgroup": "CHL",
           "marker": {
            "color": "#FF6692",
            "pattern": {
             "shape": ""
            }
           },
           "name": "CHL",
           "offsetgroup": "CHL",
           "orientation": "v",
           "showlegend": true,
           "textposition": "auto",
           "type": "bar",
           "x": [
            "CHL"
           ],
           "xaxis": "x",
           "y": [
            1
           ],
           "yaxis": "y"
          },
          {
           "alignmentgroup": "True",
           "hovertemplate": "pais=%{x}<br>registration_year_month=202010<br>count=%{y}<extra></extra>",
           "ids": [
            "GTM"
           ],
           "legendgroup": "GTM",
           "marker": {
            "color": "#FF97FF",
            "pattern": {
             "shape": ""
            }
           },
           "name": "GTM",
           "offsetgroup": "GTM",
           "orientation": "v",
           "showlegend": true,
           "textposition": "auto",
           "type": "bar",
           "x": [
            "GTM"
           ],
           "xaxis": "x",
           "y": [
            9
           ],
           "yaxis": "y"
          },
          {
           "alignmentgroup": "True",
           "hovertemplate": "pais=%{x}<br>registration_year_month=202010<br>count=%{y}<extra></extra>",
           "ids": [
            "ECU"
           ],
           "legendgroup": "ECU",
           "marker": {
            "color": "#B6E880",
            "pattern": {
             "shape": ""
            }
           },
           "name": "ECU",
           "offsetgroup": "ECU",
           "orientation": "v",
           "showlegend": true,
           "textposition": "auto",
           "type": "bar",
           "x": [
            "ECU"
           ],
           "xaxis": "x",
           "y": [
            2
           ],
           "yaxis": "y"
          },
          {
           "alignmentgroup": "True",
           "hovertemplate": "pais=%{x}<br>registration_year_month=202010<br>count=%{y}<extra></extra>",
           "ids": [
            "BOL"
           ],
           "legendgroup": "BOL",
           "marker": {
            "color": "#636efa",
            "pattern": {
             "shape": ""
            }
           },
           "name": "BOL",
           "offsetgroup": "BOL",
           "orientation": "v",
           "showlegend": true,
           "textposition": "auto",
           "type": "bar",
           "x": [
            "BOL"
           ],
           "xaxis": "x",
           "y": [
            1
           ],
           "yaxis": "y"
          },
          {
           "alignmentgroup": "True",
           "hovertemplate": "pais=%{x}<br>registration_year_month=202010<br>count=%{y}<extra></extra>",
           "ids": [
            "IND"
           ],
           "legendgroup": "IND",
           "marker": {
            "color": "#ab63fa",
            "pattern": {
             "shape": ""
            }
           },
           "name": "IND",
           "offsetgroup": "IND",
           "orientation": "v",
           "showlegend": true,
           "textposition": "auto",
           "type": "bar",
           "x": [
            "IND"
           ],
           "xaxis": "x",
           "y": [
            1
           ],
           "yaxis": "y"
          }
         ],
         "name": "202010"
        },
        {
         "data": [
          {
           "alignmentgroup": "True",
           "hovertemplate": "pais=%{x}<br>registration_year_month=202011<br>count=%{y}<extra></extra>",
           "ids": [
            "ESP"
           ],
           "legendgroup": "ESP",
           "marker": {
            "color": "#EF553B",
            "pattern": {
             "shape": ""
            }
           },
           "name": "ESP",
           "offsetgroup": "ESP",
           "orientation": "v",
           "showlegend": true,
           "textposition": "auto",
           "type": "bar",
           "x": [
            "ESP"
           ],
           "xaxis": "x",
           "y": [
            32
           ],
           "yaxis": "y"
          },
          {
           "alignmentgroup": "True",
           "hovertemplate": "pais=%{x}<br>registration_year_month=202011<br>count=%{y}<extra></extra>",
           "ids": [
            "MEX"
           ],
           "legendgroup": "MEX",
           "marker": {
            "color": "#00cc96",
            "pattern": {
             "shape": ""
            }
           },
           "name": "MEX",
           "offsetgroup": "MEX",
           "orientation": "v",
           "showlegend": true,
           "textposition": "auto",
           "type": "bar",
           "x": [
            "MEX"
           ],
           "xaxis": "x",
           "y": [
            93
           ],
           "yaxis": "y"
          },
          {
           "alignmentgroup": "True",
           "hovertemplate": "pais=%{x}<br>registration_year_month=202011<br>count=%{y}<extra></extra>",
           "ids": [
            "PER"
           ],
           "legendgroup": "PER",
           "marker": {
            "color": "#ab63fa",
            "pattern": {
             "shape": ""
            }
           },
           "name": "PER",
           "offsetgroup": "PER",
           "orientation": "v",
           "showlegend": true,
           "textposition": "auto",
           "type": "bar",
           "x": [
            "PER"
           ],
           "xaxis": "x",
           "y": [
            2
           ],
           "yaxis": "y"
          },
          {
           "alignmentgroup": "True",
           "hovertemplate": "pais=%{x}<br>registration_year_month=202011<br>count=%{y}<extra></extra>",
           "ids": [
            "GTM"
           ],
           "legendgroup": "GTM",
           "marker": {
            "color": "#FF97FF",
            "pattern": {
             "shape": ""
            }
           },
           "name": "GTM",
           "offsetgroup": "GTM",
           "orientation": "v",
           "showlegend": true,
           "textposition": "auto",
           "type": "bar",
           "x": [
            "GTM"
           ],
           "xaxis": "x",
           "y": [
            170
           ],
           "yaxis": "y"
          },
          {
           "alignmentgroup": "True",
           "hovertemplate": "pais=%{x}<br>registration_year_month=202011<br>count=%{y}<extra></extra>",
           "ids": [
            "BRA"
           ],
           "legendgroup": "BRA",
           "marker": {
            "color": "#ab63fa",
            "pattern": {
             "shape": ""
            }
           },
           "name": "BRA",
           "offsetgroup": "BRA",
           "orientation": "v",
           "showlegend": true,
           "textposition": "auto",
           "type": "bar",
           "x": [
            "BRA"
           ],
           "xaxis": "x",
           "y": [
            3
           ],
           "yaxis": "y"
          },
          {
           "alignmentgroup": "True",
           "hovertemplate": "pais=%{x}<br>registration_year_month=202011<br>count=%{y}<extra></extra>",
           "ids": [
            "CRI"
           ],
           "legendgroup": "CRI",
           "marker": {
            "color": "#FECB52",
            "pattern": {
             "shape": ""
            }
           },
           "name": "CRI",
           "offsetgroup": "CRI",
           "orientation": "v",
           "showlegend": true,
           "textposition": "auto",
           "type": "bar",
           "x": [
            "CRI"
           ],
           "xaxis": "x",
           "y": [
            2
           ],
           "yaxis": "y"
          },
          {
           "alignmentgroup": "True",
           "hovertemplate": "pais=%{x}<br>registration_year_month=202011<br>count=%{y}<extra></extra>",
           "ids": [
            "PAN"
           ],
           "legendgroup": "PAN",
           "marker": {
            "color": "#EF553B",
            "pattern": {
             "shape": ""
            }
           },
           "name": "PAN",
           "offsetgroup": "PAN",
           "orientation": "v",
           "showlegend": true,
           "textposition": "auto",
           "type": "bar",
           "x": [
            "PAN"
           ],
           "xaxis": "x",
           "y": [
            2
           ],
           "yaxis": "y"
          },
          {
           "alignmentgroup": "True",
           "hovertemplate": "pais=%{x}<br>registration_year_month=202011<br>count=%{y}<extra></extra>",
           "ids": [
            "HND"
           ],
           "legendgroup": "HND",
           "marker": {
            "color": "#B6E880",
            "pattern": {
             "shape": ""
            }
           },
           "name": "HND",
           "offsetgroup": "HND",
           "orientation": "v",
           "showlegend": true,
           "textposition": "auto",
           "type": "bar",
           "x": [
            "HND"
           ],
           "xaxis": "x",
           "y": [
            1
           ],
           "yaxis": "y"
          },
          {
           "alignmentgroup": "True",
           "hovertemplate": "pais=%{x}<br>registration_year_month=202011<br>count=%{y}<extra></extra>",
           "ids": [
            "SLV"
           ],
           "legendgroup": "SLV",
           "marker": {
            "color": "#FECB52",
            "pattern": {
             "shape": ""
            }
           },
           "name": "SLV",
           "offsetgroup": "SLV",
           "orientation": "v",
           "showlegend": true,
           "textposition": "auto",
           "type": "bar",
           "x": [
            "SLV"
           ],
           "xaxis": "x",
           "y": [
            1
           ],
           "yaxis": "y"
          },
          {
           "alignmentgroup": "True",
           "hovertemplate": "pais=%{x}<br>registration_year_month=202011<br>count=%{y}<extra></extra>",
           "ids": [
            "BOL"
           ],
           "legendgroup": "BOL",
           "marker": {
            "color": "#636efa",
            "pattern": {
             "shape": ""
            }
           },
           "name": "BOL",
           "offsetgroup": "BOL",
           "orientation": "v",
           "showlegend": true,
           "textposition": "auto",
           "type": "bar",
           "x": [
            "BOL"
           ],
           "xaxis": "x",
           "y": [
            1
           ],
           "yaxis": "y"
          },
          {
           "alignmentgroup": "True",
           "hovertemplate": "pais=%{x}<br>registration_year_month=202011<br>count=%{y}<extra></extra>",
           "ids": [
            "ATA"
           ],
           "legendgroup": "ATA",
           "marker": {
            "color": "#FECB52",
            "pattern": {
             "shape": ""
            }
           },
           "name": "ATA",
           "offsetgroup": "ATA",
           "orientation": "v",
           "showlegend": true,
           "textposition": "auto",
           "type": "bar",
           "x": [
            "ATA"
           ],
           "xaxis": "x",
           "y": [
            1
           ],
           "yaxis": "y"
          },
          {
           "alignmentgroup": "True",
           "hovertemplate": "pais=%{x}<br>registration_year_month=202011<br>count=%{y}<extra></extra>",
           "ids": [
            "GRC"
           ],
           "legendgroup": "GRC",
           "marker": {
            "color": "#636efa",
            "pattern": {
             "shape": ""
            }
           },
           "name": "GRC",
           "offsetgroup": "GRC",
           "orientation": "v",
           "showlegend": true,
           "textposition": "auto",
           "type": "bar",
           "x": [
            "GRC"
           ],
           "xaxis": "x",
           "y": [
            1
           ],
           "yaxis": "y"
          }
         ],
         "name": "202011"
        },
        {
         "data": [
          {
           "alignmentgroup": "True",
           "hovertemplate": "pais=%{x}<br>registration_year_month=202012<br>count=%{y}<extra></extra>",
           "ids": [
            "DOM"
           ],
           "legendgroup": "DOM",
           "marker": {
            "color": "#636efa",
            "pattern": {
             "shape": ""
            }
           },
           "name": "DOM",
           "offsetgroup": "DOM",
           "orientation": "v",
           "showlegend": true,
           "textposition": "auto",
           "type": "bar",
           "x": [
            "DOM"
           ],
           "xaxis": "x",
           "y": [
            2
           ],
           "yaxis": "y"
          },
          {
           "alignmentgroup": "True",
           "hovertemplate": "pais=%{x}<br>registration_year_month=202012<br>count=%{y}<extra></extra>",
           "ids": [
            "ESP"
           ],
           "legendgroup": "ESP",
           "marker": {
            "color": "#EF553B",
            "pattern": {
             "shape": ""
            }
           },
           "name": "ESP",
           "offsetgroup": "ESP",
           "orientation": "v",
           "showlegend": true,
           "textposition": "auto",
           "type": "bar",
           "x": [
            "ESP"
           ],
           "xaxis": "x",
           "y": [
            32
           ],
           "yaxis": "y"
          },
          {
           "alignmentgroup": "True",
           "hovertemplate": "pais=%{x}<br>registration_year_month=202012<br>count=%{y}<extra></extra>",
           "ids": [
            "MEX"
           ],
           "legendgroup": "MEX",
           "marker": {
            "color": "#00cc96",
            "pattern": {
             "shape": ""
            }
           },
           "name": "MEX",
           "offsetgroup": "MEX",
           "orientation": "v",
           "showlegend": true,
           "textposition": "auto",
           "type": "bar",
           "x": [
            "MEX"
           ],
           "xaxis": "x",
           "y": [
            13
           ],
           "yaxis": "y"
          },
          {
           "alignmentgroup": "True",
           "hovertemplate": "pais=%{x}<br>registration_year_month=202012<br>count=%{y}<extra></extra>",
           "ids": [
            "PER"
           ],
           "legendgroup": "PER",
           "marker": {
            "color": "#ab63fa",
            "pattern": {
             "shape": ""
            }
           },
           "name": "PER",
           "offsetgroup": "PER",
           "orientation": "v",
           "showlegend": true,
           "textposition": "auto",
           "type": "bar",
           "x": [
            "PER"
           ],
           "xaxis": "x",
           "y": [
            2
           ],
           "yaxis": "y"
          },
          {
           "alignmentgroup": "True",
           "hovertemplate": "pais=%{x}<br>registration_year_month=202012<br>count=%{y}<extra></extra>",
           "ids": [
            "GTM"
           ],
           "legendgroup": "GTM",
           "marker": {
            "color": "#FF97FF",
            "pattern": {
             "shape": ""
            }
           },
           "name": "GTM",
           "offsetgroup": "GTM",
           "orientation": "v",
           "showlegend": true,
           "textposition": "auto",
           "type": "bar",
           "x": [
            "GTM"
           ],
           "xaxis": "x",
           "y": [
            1
           ],
           "yaxis": "y"
          },
          {
           "alignmentgroup": "True",
           "hovertemplate": "pais=%{x}<br>registration_year_month=202012<br>count=%{y}<extra></extra>",
           "ids": [
            "USA"
           ],
           "legendgroup": "USA",
           "marker": {
            "color": "#FF97FF",
            "pattern": {
             "shape": ""
            }
           },
           "name": "USA",
           "offsetgroup": "USA",
           "orientation": "v",
           "showlegend": true,
           "textposition": "auto",
           "type": "bar",
           "x": [
            "USA"
           ],
           "xaxis": "x",
           "y": [
            1
           ],
           "yaxis": "y"
          },
          {
           "alignmentgroup": "True",
           "hovertemplate": "pais=%{x}<br>registration_year_month=202012<br>count=%{y}<extra></extra>",
           "ids": [
            "NIC"
           ],
           "legendgroup": "NIC",
           "marker": {
            "color": "#00cc96",
            "pattern": {
             "shape": ""
            }
           },
           "name": "NIC",
           "offsetgroup": "NIC",
           "orientation": "v",
           "showlegend": true,
           "textposition": "auto",
           "type": "bar",
           "x": [
            "NIC"
           ],
           "xaxis": "x",
           "y": [
            1
           ],
           "yaxis": "y"
          },
          {
           "alignmentgroup": "True",
           "hovertemplate": "pais=%{x}<br>registration_year_month=202012<br>count=%{y}<extra></extra>",
           "ids": [
            "IND"
           ],
           "legendgroup": "IND",
           "marker": {
            "color": "#ab63fa",
            "pattern": {
             "shape": ""
            }
           },
           "name": "IND",
           "offsetgroup": "IND",
           "orientation": "v",
           "showlegend": true,
           "textposition": "auto",
           "type": "bar",
           "x": [
            "IND"
           ],
           "xaxis": "x",
           "y": [
            3
           ],
           "yaxis": "y"
          }
         ],
         "name": "202012"
        },
        {
         "data": [
          {
           "alignmentgroup": "True",
           "hovertemplate": "pais=%{x}<br>registration_year_month=20202<br>count=%{y}<extra></extra>",
           "ids": [
            "ESP"
           ],
           "legendgroup": "ESP",
           "marker": {
            "color": "#EF553B",
            "pattern": {
             "shape": ""
            }
           },
           "name": "ESP",
           "offsetgroup": "ESP",
           "orientation": "v",
           "showlegend": true,
           "textposition": "auto",
           "type": "bar",
           "x": [
            "ESP"
           ],
           "xaxis": "x",
           "y": [
            34
           ],
           "yaxis": "y"
          },
          {
           "alignmentgroup": "True",
           "hovertemplate": "pais=%{x}<br>registration_year_month=20202<br>count=%{y}<extra></extra>",
           "ids": [
            "MEX"
           ],
           "legendgroup": "MEX",
           "marker": {
            "color": "#00cc96",
            "pattern": {
             "shape": ""
            }
           },
           "name": "MEX",
           "offsetgroup": "MEX",
           "orientation": "v",
           "showlegend": true,
           "textposition": "auto",
           "type": "bar",
           "x": [
            "MEX"
           ],
           "xaxis": "x",
           "y": [
            307
           ],
           "yaxis": "y"
          },
          {
           "alignmentgroup": "True",
           "hovertemplate": "pais=%{x}<br>registration_year_month=20202<br>count=%{y}<extra></extra>",
           "ids": [
            "PER"
           ],
           "legendgroup": "PER",
           "marker": {
            "color": "#ab63fa",
            "pattern": {
             "shape": ""
            }
           },
           "name": "PER",
           "offsetgroup": "PER",
           "orientation": "v",
           "showlegend": true,
           "textposition": "auto",
           "type": "bar",
           "x": [
            "PER"
           ],
           "xaxis": "x",
           "y": [
            4
           ],
           "yaxis": "y"
          },
          {
           "alignmentgroup": "True",
           "hovertemplate": "pais=%{x}<br>registration_year_month=20202<br>count=%{y}<extra></extra>",
           "ids": [
            "CHL"
           ],
           "legendgroup": "CHL",
           "marker": {
            "color": "#FF6692",
            "pattern": {
             "shape": ""
            }
           },
           "name": "CHL",
           "offsetgroup": "CHL",
           "orientation": "v",
           "showlegend": true,
           "textposition": "auto",
           "type": "bar",
           "x": [
            "CHL"
           ],
           "xaxis": "x",
           "y": [
            1
           ],
           "yaxis": "y"
          },
          {
           "alignmentgroup": "True",
           "hovertemplate": "pais=%{x}<br>registration_year_month=20202<br>count=%{y}<extra></extra>",
           "ids": [
            "COL"
           ],
           "legendgroup": "COL",
           "marker": {
            "color": "#B6E880",
            "pattern": {
             "shape": ""
            }
           },
           "name": "COL",
           "offsetgroup": "COL",
           "orientation": "v",
           "showlegend": true,
           "textposition": "auto",
           "type": "bar",
           "x": [
            "COL"
           ],
           "xaxis": "x",
           "y": [
            1
           ],
           "yaxis": "y"
          },
          {
           "alignmentgroup": "True",
           "hovertemplate": "pais=%{x}<br>registration_year_month=20202<br>count=%{y}<extra></extra>",
           "ids": [
            "GTM"
           ],
           "legendgroup": "GTM",
           "marker": {
            "color": "#FF97FF",
            "pattern": {
             "shape": ""
            }
           },
           "name": "GTM",
           "offsetgroup": "GTM",
           "orientation": "v",
           "showlegend": true,
           "textposition": "auto",
           "type": "bar",
           "x": [
            "GTM"
           ],
           "xaxis": "x",
           "y": [
            1
           ],
           "yaxis": "y"
          },
          {
           "alignmentgroup": "True",
           "hovertemplate": "pais=%{x}<br>registration_year_month=20202<br>count=%{y}<extra></extra>",
           "ids": [
            "ARG"
           ],
           "legendgroup": "ARG",
           "marker": {
            "color": "#FECB52",
            "pattern": {
             "shape": ""
            }
           },
           "name": "ARG",
           "offsetgroup": "ARG",
           "orientation": "v",
           "showlegend": true,
           "textposition": "auto",
           "type": "bar",
           "x": [
            "ARG"
           ],
           "xaxis": "x",
           "y": [
            2
           ],
           "yaxis": "y"
          },
          {
           "alignmentgroup": "True",
           "hovertemplate": "pais=%{x}<br>registration_year_month=20202<br>count=%{y}<extra></extra>",
           "ids": [
            "FIN"
           ],
           "legendgroup": "FIN",
           "marker": {
            "color": "#FFA15A",
            "pattern": {
             "shape": ""
            }
           },
           "name": "FIN",
           "offsetgroup": "FIN",
           "orientation": "v",
           "showlegend": true,
           "textposition": "auto",
           "type": "bar",
           "x": [
            "FIN"
           ],
           "xaxis": "x",
           "y": [
            1
           ],
           "yaxis": "y"
          },
          {
           "alignmentgroup": "True",
           "hovertemplate": "pais=%{x}<br>registration_year_month=20202<br>count=%{y}<extra></extra>",
           "ids": [
            "ECU"
           ],
           "legendgroup": "ECU",
           "marker": {
            "color": "#B6E880",
            "pattern": {
             "shape": ""
            }
           },
           "name": "ECU",
           "offsetgroup": "ECU",
           "orientation": "v",
           "showlegend": true,
           "textposition": "auto",
           "type": "bar",
           "x": [
            "ECU"
           ],
           "xaxis": "x",
           "y": [
            1
           ],
           "yaxis": "y"
          },
          {
           "alignmentgroup": "True",
           "hovertemplate": "pais=%{x}<br>registration_year_month=20202<br>count=%{y}<extra></extra>",
           "ids": [
            "CRI"
           ],
           "legendgroup": "CRI",
           "marker": {
            "color": "#FECB52",
            "pattern": {
             "shape": ""
            }
           },
           "name": "CRI",
           "offsetgroup": "CRI",
           "orientation": "v",
           "showlegend": true,
           "textposition": "auto",
           "type": "bar",
           "x": [
            "CRI"
           ],
           "xaxis": "x",
           "y": [
            34
           ],
           "yaxis": "y"
          },
          {
           "alignmentgroup": "True",
           "hovertemplate": "pais=%{x}<br>registration_year_month=20202<br>count=%{y}<extra></extra>",
           "ids": [
            "BOL"
           ],
           "legendgroup": "BOL",
           "marker": {
            "color": "#636efa",
            "pattern": {
             "shape": ""
            }
           },
           "name": "BOL",
           "offsetgroup": "BOL",
           "orientation": "v",
           "showlegend": true,
           "textposition": "auto",
           "type": "bar",
           "x": [
            "BOL"
           ],
           "xaxis": "x",
           "y": [
            2
           ],
           "yaxis": "y"
          },
          {
           "alignmentgroup": "True",
           "hovertemplate": "pais=%{x}<br>registration_year_month=20202<br>count=%{y}<extra></extra>",
           "ids": [
            "PRT"
           ],
           "legendgroup": "PRT",
           "marker": {
            "color": "#FFA15A",
            "pattern": {
             "shape": ""
            }
           },
           "name": "PRT",
           "offsetgroup": "PRT",
           "orientation": "v",
           "showlegend": true,
           "textposition": "auto",
           "type": "bar",
           "x": [
            "PRT"
           ],
           "xaxis": "x",
           "y": [
            1
           ],
           "yaxis": "y"
          },
          {
           "alignmentgroup": "True",
           "hovertemplate": "pais=%{x}<br>registration_year_month=20202<br>count=%{y}<extra></extra>",
           "ids": [
            "AFG"
           ],
           "legendgroup": "AFG",
           "marker": {
            "color": "#636efa",
            "pattern": {
             "shape": ""
            }
           },
           "name": "AFG",
           "offsetgroup": "AFG",
           "orientation": "v",
           "showlegend": true,
           "textposition": "auto",
           "type": "bar",
           "x": [
            "AFG"
           ],
           "xaxis": "x",
           "y": [
            1
           ],
           "yaxis": "y"
          }
         ],
         "name": "20202"
        },
        {
         "data": [
          {
           "alignmentgroup": "True",
           "hovertemplate": "pais=%{x}<br>registration_year_month=20203<br>count=%{y}<extra></extra>",
           "ids": [
            "DOM"
           ],
           "legendgroup": "DOM",
           "marker": {
            "color": "#636efa",
            "pattern": {
             "shape": ""
            }
           },
           "name": "DOM",
           "offsetgroup": "DOM",
           "orientation": "v",
           "showlegend": true,
           "textposition": "auto",
           "type": "bar",
           "x": [
            "DOM"
           ],
           "xaxis": "x",
           "y": [
            1
           ],
           "yaxis": "y"
          },
          {
           "alignmentgroup": "True",
           "hovertemplate": "pais=%{x}<br>registration_year_month=20203<br>count=%{y}<extra></extra>",
           "ids": [
            "ESP"
           ],
           "legendgroup": "ESP",
           "marker": {
            "color": "#EF553B",
            "pattern": {
             "shape": ""
            }
           },
           "name": "ESP",
           "offsetgroup": "ESP",
           "orientation": "v",
           "showlegend": true,
           "textposition": "auto",
           "type": "bar",
           "x": [
            "ESP"
           ],
           "xaxis": "x",
           "y": [
            6
           ],
           "yaxis": "y"
          },
          {
           "alignmentgroup": "True",
           "hovertemplate": "pais=%{x}<br>registration_year_month=20203<br>count=%{y}<extra></extra>",
           "ids": [
            "MEX"
           ],
           "legendgroup": "MEX",
           "marker": {
            "color": "#00cc96",
            "pattern": {
             "shape": ""
            }
           },
           "name": "MEX",
           "offsetgroup": "MEX",
           "orientation": "v",
           "showlegend": true,
           "textposition": "auto",
           "type": "bar",
           "x": [
            "MEX"
           ],
           "xaxis": "x",
           "y": [
            50
           ],
           "yaxis": "y"
          },
          {
           "alignmentgroup": "True",
           "hovertemplate": "pais=%{x}<br>registration_year_month=20203<br>count=%{y}<extra></extra>",
           "ids": [
            "PER"
           ],
           "legendgroup": "PER",
           "marker": {
            "color": "#ab63fa",
            "pattern": {
             "shape": ""
            }
           },
           "name": "PER",
           "offsetgroup": "PER",
           "orientation": "v",
           "showlegend": true,
           "textposition": "auto",
           "type": "bar",
           "x": [
            "PER"
           ],
           "xaxis": "x",
           "y": [
            3
           ],
           "yaxis": "y"
          },
          {
           "alignmentgroup": "True",
           "hovertemplate": "pais=%{x}<br>registration_year_month=20203<br>count=%{y}<extra></extra>",
           "ids": [
            "CHL"
           ],
           "legendgroup": "CHL",
           "marker": {
            "color": "#FF6692",
            "pattern": {
             "shape": ""
            }
           },
           "name": "CHL",
           "offsetgroup": "CHL",
           "orientation": "v",
           "showlegend": true,
           "textposition": "auto",
           "type": "bar",
           "x": [
            "CHL"
           ],
           "xaxis": "x",
           "y": [
            1
           ],
           "yaxis": "y"
          },
          {
           "alignmentgroup": "True",
           "hovertemplate": "pais=%{x}<br>registration_year_month=20203<br>count=%{y}<extra></extra>",
           "ids": [
            "GTM"
           ],
           "legendgroup": "GTM",
           "marker": {
            "color": "#FF97FF",
            "pattern": {
             "shape": ""
            }
           },
           "name": "GTM",
           "offsetgroup": "GTM",
           "orientation": "v",
           "showlegend": true,
           "textposition": "auto",
           "type": "bar",
           "x": [
            "GTM"
           ],
           "xaxis": "x",
           "y": [
            1
           ],
           "yaxis": "y"
          },
          {
           "alignmentgroup": "True",
           "hovertemplate": "pais=%{x}<br>registration_year_month=20203<br>count=%{y}<extra></extra>",
           "ids": [
            "ARG"
           ],
           "legendgroup": "ARG",
           "marker": {
            "color": "#FECB52",
            "pattern": {
             "shape": ""
            }
           },
           "name": "ARG",
           "offsetgroup": "ARG",
           "orientation": "v",
           "showlegend": true,
           "textposition": "auto",
           "type": "bar",
           "x": [
            "ARG"
           ],
           "xaxis": "x",
           "y": [
            1
           ],
           "yaxis": "y"
          },
          {
           "alignmentgroup": "True",
           "hovertemplate": "pais=%{x}<br>registration_year_month=20203<br>count=%{y}<extra></extra>",
           "ids": [
            "ECU"
           ],
           "legendgroup": "ECU",
           "marker": {
            "color": "#B6E880",
            "pattern": {
             "shape": ""
            }
           },
           "name": "ECU",
           "offsetgroup": "ECU",
           "orientation": "v",
           "showlegend": true,
           "textposition": "auto",
           "type": "bar",
           "x": [
            "ECU"
           ],
           "xaxis": "x",
           "y": [
            2
           ],
           "yaxis": "y"
          },
          {
           "alignmentgroup": "True",
           "hovertemplate": "pais=%{x}<br>registration_year_month=20203<br>count=%{y}<extra></extra>",
           "ids": [
            "CRI"
           ],
           "legendgroup": "CRI",
           "marker": {
            "color": "#FECB52",
            "pattern": {
             "shape": ""
            }
           },
           "name": "CRI",
           "offsetgroup": "CRI",
           "orientation": "v",
           "showlegend": true,
           "textposition": "auto",
           "type": "bar",
           "x": [
            "CRI"
           ],
           "xaxis": "x",
           "y": [
            9
           ],
           "yaxis": "y"
          },
          {
           "alignmentgroup": "True",
           "hovertemplate": "pais=%{x}<br>registration_year_month=20203<br>count=%{y}<extra></extra>",
           "ids": [
            "PAN"
           ],
           "legendgroup": "PAN",
           "marker": {
            "color": "#EF553B",
            "pattern": {
             "shape": ""
            }
           },
           "name": "PAN",
           "offsetgroup": "PAN",
           "orientation": "v",
           "showlegend": true,
           "textposition": "auto",
           "type": "bar",
           "x": [
            "PAN"
           ],
           "xaxis": "x",
           "y": [
            2
           ],
           "yaxis": "y"
          },
          {
           "alignmentgroup": "True",
           "hovertemplate": "pais=%{x}<br>registration_year_month=20203<br>count=%{y}<extra></extra>",
           "ids": [
            "HND"
           ],
           "legendgroup": "HND",
           "marker": {
            "color": "#B6E880",
            "pattern": {
             "shape": ""
            }
           },
           "name": "HND",
           "offsetgroup": "HND",
           "orientation": "v",
           "showlegend": true,
           "textposition": "auto",
           "type": "bar",
           "x": [
            "HND"
           ],
           "xaxis": "x",
           "y": [
            5
           ],
           "yaxis": "y"
          },
          {
           "alignmentgroup": "True",
           "hovertemplate": "pais=%{x}<br>registration_year_month=20203<br>count=%{y}<extra></extra>",
           "ids": [
            "BOL"
           ],
           "legendgroup": "BOL",
           "marker": {
            "color": "#636efa",
            "pattern": {
             "shape": ""
            }
           },
           "name": "BOL",
           "offsetgroup": "BOL",
           "orientation": "v",
           "showlegend": true,
           "textposition": "auto",
           "type": "bar",
           "x": [
            "BOL"
           ],
           "xaxis": "x",
           "y": [
            1
           ],
           "yaxis": "y"
          }
         ],
         "name": "20203"
        },
        {
         "data": [
          {
           "alignmentgroup": "True",
           "hovertemplate": "pais=%{x}<br>registration_year_month=20204<br>count=%{y}<extra></extra>",
           "ids": [
            "DOM"
           ],
           "legendgroup": "DOM",
           "marker": {
            "color": "#636efa",
            "pattern": {
             "shape": ""
            }
           },
           "name": "DOM",
           "offsetgroup": "DOM",
           "orientation": "v",
           "showlegend": true,
           "textposition": "auto",
           "type": "bar",
           "x": [
            "DOM"
           ],
           "xaxis": "x",
           "y": [
            20
           ],
           "yaxis": "y"
          },
          {
           "alignmentgroup": "True",
           "hovertemplate": "pais=%{x}<br>registration_year_month=20204<br>count=%{y}<extra></extra>",
           "ids": [
            "ESP"
           ],
           "legendgroup": "ESP",
           "marker": {
            "color": "#EF553B",
            "pattern": {
             "shape": ""
            }
           },
           "name": "ESP",
           "offsetgroup": "ESP",
           "orientation": "v",
           "showlegend": true,
           "textposition": "auto",
           "type": "bar",
           "x": [
            "ESP"
           ],
           "xaxis": "x",
           "y": [
            10
           ],
           "yaxis": "y"
          },
          {
           "alignmentgroup": "True",
           "hovertemplate": "pais=%{x}<br>registration_year_month=20204<br>count=%{y}<extra></extra>",
           "ids": [
            "MEX"
           ],
           "legendgroup": "MEX",
           "marker": {
            "color": "#00cc96",
            "pattern": {
             "shape": ""
            }
           },
           "name": "MEX",
           "offsetgroup": "MEX",
           "orientation": "v",
           "showlegend": true,
           "textposition": "auto",
           "type": "bar",
           "x": [
            "MEX"
           ],
           "xaxis": "x",
           "y": [
            20
           ],
           "yaxis": "y"
          },
          {
           "alignmentgroup": "True",
           "hovertemplate": "pais=%{x}<br>registration_year_month=20204<br>count=%{y}<extra></extra>",
           "ids": [
            "PER"
           ],
           "legendgroup": "PER",
           "marker": {
            "color": "#ab63fa",
            "pattern": {
             "shape": ""
            }
           },
           "name": "PER",
           "offsetgroup": "PER",
           "orientation": "v",
           "showlegend": true,
           "textposition": "auto",
           "type": "bar",
           "x": [
            "PER"
           ],
           "xaxis": "x",
           "y": [
            2
           ],
           "yaxis": "y"
          },
          {
           "alignmentgroup": "True",
           "hovertemplate": "pais=%{x}<br>registration_year_month=20204<br>count=%{y}<extra></extra>",
           "ids": [
            "COL"
           ],
           "legendgroup": "COL",
           "marker": {
            "color": "#B6E880",
            "pattern": {
             "shape": ""
            }
           },
           "name": "COL",
           "offsetgroup": "COL",
           "orientation": "v",
           "showlegend": true,
           "textposition": "auto",
           "type": "bar",
           "x": [
            "COL"
           ],
           "xaxis": "x",
           "y": [
            2
           ],
           "yaxis": "y"
          },
          {
           "alignmentgroup": "True",
           "hovertemplate": "pais=%{x}<br>registration_year_month=20204<br>count=%{y}<extra></extra>",
           "ids": [
            "GTM"
           ],
           "legendgroup": "GTM",
           "marker": {
            "color": "#FF97FF",
            "pattern": {
             "shape": ""
            }
           },
           "name": "GTM",
           "offsetgroup": "GTM",
           "orientation": "v",
           "showlegend": true,
           "textposition": "auto",
           "type": "bar",
           "x": [
            "GTM"
           ],
           "xaxis": "x",
           "y": [
            66
           ],
           "yaxis": "y"
          },
          {
           "alignmentgroup": "True",
           "hovertemplate": "pais=%{x}<br>registration_year_month=20204<br>count=%{y}<extra></extra>",
           "ids": [
            "ARG"
           ],
           "legendgroup": "ARG",
           "marker": {
            "color": "#FECB52",
            "pattern": {
             "shape": ""
            }
           },
           "name": "ARG",
           "offsetgroup": "ARG",
           "orientation": "v",
           "showlegend": true,
           "textposition": "auto",
           "type": "bar",
           "x": [
            "ARG"
           ],
           "xaxis": "x",
           "y": [
            2
           ],
           "yaxis": "y"
          },
          {
           "alignmentgroup": "True",
           "hovertemplate": "pais=%{x}<br>registration_year_month=20204<br>count=%{y}<extra></extra>",
           "ids": [
            "GBR"
           ],
           "legendgroup": "GBR",
           "marker": {
            "color": "#19d3f3",
            "pattern": {
             "shape": ""
            }
           },
           "name": "GBR",
           "offsetgroup": "GBR",
           "orientation": "v",
           "showlegend": true,
           "textposition": "auto",
           "type": "bar",
           "x": [
            "GBR"
           ],
           "xaxis": "x",
           "y": [
            1
           ],
           "yaxis": "y"
          },
          {
           "alignmentgroup": "True",
           "hovertemplate": "pais=%{x}<br>registration_year_month=20204<br>count=%{y}<extra></extra>",
           "ids": [
            "ECU"
           ],
           "legendgroup": "ECU",
           "marker": {
            "color": "#B6E880",
            "pattern": {
             "shape": ""
            }
           },
           "name": "ECU",
           "offsetgroup": "ECU",
           "orientation": "v",
           "showlegend": true,
           "textposition": "auto",
           "type": "bar",
           "x": [
            "ECU"
           ],
           "xaxis": "x",
           "y": [
            14
           ],
           "yaxis": "y"
          },
          {
           "alignmentgroup": "True",
           "hovertemplate": "pais=%{x}<br>registration_year_month=20204<br>count=%{y}<extra></extra>",
           "ids": [
            "CRI"
           ],
           "legendgroup": "CRI",
           "marker": {
            "color": "#FECB52",
            "pattern": {
             "shape": ""
            }
           },
           "name": "CRI",
           "offsetgroup": "CRI",
           "orientation": "v",
           "showlegend": true,
           "textposition": "auto",
           "type": "bar",
           "x": [
            "CRI"
           ],
           "xaxis": "x",
           "y": [
            146
           ],
           "yaxis": "y"
          },
          {
           "alignmentgroup": "True",
           "hovertemplate": "pais=%{x}<br>registration_year_month=20204<br>count=%{y}<extra></extra>",
           "ids": [
            "HND"
           ],
           "legendgroup": "HND",
           "marker": {
            "color": "#B6E880",
            "pattern": {
             "shape": ""
            }
           },
           "name": "HND",
           "offsetgroup": "HND",
           "orientation": "v",
           "showlegend": true,
           "textposition": "auto",
           "type": "bar",
           "x": [
            "HND"
           ],
           "xaxis": "x",
           "y": [
            2
           ],
           "yaxis": "y"
          },
          {
           "alignmentgroup": "True",
           "hovertemplate": "pais=%{x}<br>registration_year_month=20204<br>count=%{y}<extra></extra>",
           "ids": [
            "IND"
           ],
           "legendgroup": "IND",
           "marker": {
            "color": "#ab63fa",
            "pattern": {
             "shape": ""
            }
           },
           "name": "IND",
           "offsetgroup": "IND",
           "orientation": "v",
           "showlegend": true,
           "textposition": "auto",
           "type": "bar",
           "x": [
            "IND"
           ],
           "xaxis": "x",
           "y": [
            1
           ],
           "yaxis": "y"
          },
          {
           "alignmentgroup": "True",
           "hovertemplate": "pais=%{x}<br>registration_year_month=20204<br>count=%{y}<extra></extra>",
           "ids": [
            "BEL"
           ],
           "legendgroup": "BEL",
           "marker": {
            "color": "#EF553B",
            "pattern": {
             "shape": ""
            }
           },
           "name": "BEL",
           "offsetgroup": "BEL",
           "orientation": "v",
           "showlegend": true,
           "textposition": "auto",
           "type": "bar",
           "x": [
            "BEL"
           ],
           "xaxis": "x",
           "y": [
            1
           ],
           "yaxis": "y"
          }
         ],
         "name": "20204"
        },
        {
         "data": [
          {
           "alignmentgroup": "True",
           "hovertemplate": "pais=%{x}<br>registration_year_month=20205<br>count=%{y}<extra></extra>",
           "ids": [
            "DOM"
           ],
           "legendgroup": "DOM",
           "marker": {
            "color": "#636efa",
            "pattern": {
             "shape": ""
            }
           },
           "name": "DOM",
           "offsetgroup": "DOM",
           "orientation": "v",
           "showlegend": true,
           "textposition": "auto",
           "type": "bar",
           "x": [
            "DOM"
           ],
           "xaxis": "x",
           "y": [
            1
           ],
           "yaxis": "y"
          },
          {
           "alignmentgroup": "True",
           "hovertemplate": "pais=%{x}<br>registration_year_month=20205<br>count=%{y}<extra></extra>",
           "ids": [
            "ESP"
           ],
           "legendgroup": "ESP",
           "marker": {
            "color": "#EF553B",
            "pattern": {
             "shape": ""
            }
           },
           "name": "ESP",
           "offsetgroup": "ESP",
           "orientation": "v",
           "showlegend": true,
           "textposition": "auto",
           "type": "bar",
           "x": [
            "ESP"
           ],
           "xaxis": "x",
           "y": [
            5
           ],
           "yaxis": "y"
          },
          {
           "alignmentgroup": "True",
           "hovertemplate": "pais=%{x}<br>registration_year_month=20205<br>count=%{y}<extra></extra>",
           "ids": [
            "MEX"
           ],
           "legendgroup": "MEX",
           "marker": {
            "color": "#00cc96",
            "pattern": {
             "shape": ""
            }
           },
           "name": "MEX",
           "offsetgroup": "MEX",
           "orientation": "v",
           "showlegend": true,
           "textposition": "auto",
           "type": "bar",
           "x": [
            "MEX"
           ],
           "xaxis": "x",
           "y": [
            12
           ],
           "yaxis": "y"
          },
          {
           "alignmentgroup": "True",
           "hovertemplate": "pais=%{x}<br>registration_year_month=20205<br>count=%{y}<extra></extra>",
           "ids": [
            "PER"
           ],
           "legendgroup": "PER",
           "marker": {
            "color": "#ab63fa",
            "pattern": {
             "shape": ""
            }
           },
           "name": "PER",
           "offsetgroup": "PER",
           "orientation": "v",
           "showlegend": true,
           "textposition": "auto",
           "type": "bar",
           "x": [
            "PER"
           ],
           "xaxis": "x",
           "y": [
            2
           ],
           "yaxis": "y"
          },
          {
           "alignmentgroup": "True",
           "hovertemplate": "pais=%{x}<br>registration_year_month=20205<br>count=%{y}<extra></extra>",
           "ids": [
            "COL"
           ],
           "legendgroup": "COL",
           "marker": {
            "color": "#B6E880",
            "pattern": {
             "shape": ""
            }
           },
           "name": "COL",
           "offsetgroup": "COL",
           "orientation": "v",
           "showlegend": true,
           "textposition": "auto",
           "type": "bar",
           "x": [
            "COL"
           ],
           "xaxis": "x",
           "y": [
            3
           ],
           "yaxis": "y"
          },
          {
           "alignmentgroup": "True",
           "hovertemplate": "pais=%{x}<br>registration_year_month=20205<br>count=%{y}<extra></extra>",
           "ids": [
            "FIN"
           ],
           "legendgroup": "FIN",
           "marker": {
            "color": "#FFA15A",
            "pattern": {
             "shape": ""
            }
           },
           "name": "FIN",
           "offsetgroup": "FIN",
           "orientation": "v",
           "showlegend": true,
           "textposition": "auto",
           "type": "bar",
           "x": [
            "FIN"
           ],
           "xaxis": "x",
           "y": [
            1
           ],
           "yaxis": "y"
          },
          {
           "alignmentgroup": "True",
           "hovertemplate": "pais=%{x}<br>registration_year_month=20205<br>count=%{y}<extra></extra>",
           "ids": [
            "ECU"
           ],
           "legendgroup": "ECU",
           "marker": {
            "color": "#B6E880",
            "pattern": {
             "shape": ""
            }
           },
           "name": "ECU",
           "offsetgroup": "ECU",
           "orientation": "v",
           "showlegend": true,
           "textposition": "auto",
           "type": "bar",
           "x": [
            "ECU"
           ],
           "xaxis": "x",
           "y": [
            4
           ],
           "yaxis": "y"
          },
          {
           "alignmentgroup": "True",
           "hovertemplate": "pais=%{x}<br>registration_year_month=20205<br>count=%{y}<extra></extra>",
           "ids": [
            "CRI"
           ],
           "legendgroup": "CRI",
           "marker": {
            "color": "#FECB52",
            "pattern": {
             "shape": ""
            }
           },
           "name": "CRI",
           "offsetgroup": "CRI",
           "orientation": "v",
           "showlegend": true,
           "textposition": "auto",
           "type": "bar",
           "x": [
            "CRI"
           ],
           "xaxis": "x",
           "y": [
            1
           ],
           "yaxis": "y"
          },
          {
           "alignmentgroup": "True",
           "hovertemplate": "pais=%{x}<br>registration_year_month=20205<br>count=%{y}<extra></extra>",
           "ids": [
            "IND"
           ],
           "legendgroup": "IND",
           "marker": {
            "color": "#ab63fa",
            "pattern": {
             "shape": ""
            }
           },
           "name": "IND",
           "offsetgroup": "IND",
           "orientation": "v",
           "showlegend": true,
           "textposition": "auto",
           "type": "bar",
           "x": [
            "IND"
           ],
           "xaxis": "x",
           "y": [
            3
           ],
           "yaxis": "y"
          },
          {
           "alignmentgroup": "True",
           "hovertemplate": "pais=%{x}<br>registration_year_month=20205<br>count=%{y}<extra></extra>",
           "ids": [
            "AUS"
           ],
           "legendgroup": "AUS",
           "marker": {
            "color": "#19d3f3",
            "pattern": {
             "shape": ""
            }
           },
           "name": "AUS",
           "offsetgroup": "AUS",
           "orientation": "v",
           "showlegend": true,
           "textposition": "auto",
           "type": "bar",
           "x": [
            "AUS"
           ],
           "xaxis": "x",
           "y": [
            1
           ],
           "yaxis": "y"
          }
         ],
         "name": "20205"
        },
        {
         "data": [
          {
           "alignmentgroup": "True",
           "hovertemplate": "pais=%{x}<br>registration_year_month=20206<br>count=%{y}<extra></extra>",
           "ids": [
            "DOM"
           ],
           "legendgroup": "DOM",
           "marker": {
            "color": "#636efa",
            "pattern": {
             "shape": ""
            }
           },
           "name": "DOM",
           "offsetgroup": "DOM",
           "orientation": "v",
           "showlegend": true,
           "textposition": "auto",
           "type": "bar",
           "x": [
            "DOM"
           ],
           "xaxis": "x",
           "y": [
            1
           ],
           "yaxis": "y"
          },
          {
           "alignmentgroup": "True",
           "hovertemplate": "pais=%{x}<br>registration_year_month=20206<br>count=%{y}<extra></extra>",
           "ids": [
            "ESP"
           ],
           "legendgroup": "ESP",
           "marker": {
            "color": "#EF553B",
            "pattern": {
             "shape": ""
            }
           },
           "name": "ESP",
           "offsetgroup": "ESP",
           "orientation": "v",
           "showlegend": true,
           "textposition": "auto",
           "type": "bar",
           "x": [
            "ESP"
           ],
           "xaxis": "x",
           "y": [
            3
           ],
           "yaxis": "y"
          },
          {
           "alignmentgroup": "True",
           "hovertemplate": "pais=%{x}<br>registration_year_month=20206<br>count=%{y}<extra></extra>",
           "ids": [
            "MEX"
           ],
           "legendgroup": "MEX",
           "marker": {
            "color": "#00cc96",
            "pattern": {
             "shape": ""
            }
           },
           "name": "MEX",
           "offsetgroup": "MEX",
           "orientation": "v",
           "showlegend": true,
           "textposition": "auto",
           "type": "bar",
           "x": [
            "MEX"
           ],
           "xaxis": "x",
           "y": [
            13
           ],
           "yaxis": "y"
          },
          {
           "alignmentgroup": "True",
           "hovertemplate": "pais=%{x}<br>registration_year_month=20206<br>count=%{y}<extra></extra>",
           "ids": [
            "PER"
           ],
           "legendgroup": "PER",
           "marker": {
            "color": "#ab63fa",
            "pattern": {
             "shape": ""
            }
           },
           "name": "PER",
           "offsetgroup": "PER",
           "orientation": "v",
           "showlegend": true,
           "textposition": "auto",
           "type": "bar",
           "x": [
            "PER"
           ],
           "xaxis": "x",
           "y": [
            1
           ],
           "yaxis": "y"
          },
          {
           "alignmentgroup": "True",
           "hovertemplate": "pais=%{x}<br>registration_year_month=20206<br>count=%{y}<extra></extra>",
           "ids": [
            "COL"
           ],
           "legendgroup": "COL",
           "marker": {
            "color": "#B6E880",
            "pattern": {
             "shape": ""
            }
           },
           "name": "COL",
           "offsetgroup": "COL",
           "orientation": "v",
           "showlegend": true,
           "textposition": "auto",
           "type": "bar",
           "x": [
            "COL"
           ],
           "xaxis": "x",
           "y": [
            1
           ],
           "yaxis": "y"
          },
          {
           "alignmentgroup": "True",
           "hovertemplate": "pais=%{x}<br>registration_year_month=20206<br>count=%{y}<extra></extra>",
           "ids": [
            "ARG"
           ],
           "legendgroup": "ARG",
           "marker": {
            "color": "#FECB52",
            "pattern": {
             "shape": ""
            }
           },
           "name": "ARG",
           "offsetgroup": "ARG",
           "orientation": "v",
           "showlegend": true,
           "textposition": "auto",
           "type": "bar",
           "x": [
            "ARG"
           ],
           "xaxis": "x",
           "y": [
            1
           ],
           "yaxis": "y"
          },
          {
           "alignmentgroup": "True",
           "hovertemplate": "pais=%{x}<br>registration_year_month=20206<br>count=%{y}<extra></extra>",
           "ids": [
            "ECU"
           ],
           "legendgroup": "ECU",
           "marker": {
            "color": "#B6E880",
            "pattern": {
             "shape": ""
            }
           },
           "name": "ECU",
           "offsetgroup": "ECU",
           "orientation": "v",
           "showlegend": true,
           "textposition": "auto",
           "type": "bar",
           "x": [
            "ECU"
           ],
           "xaxis": "x",
           "y": [
            1
           ],
           "yaxis": "y"
          },
          {
           "alignmentgroup": "True",
           "hovertemplate": "pais=%{x}<br>registration_year_month=20206<br>count=%{y}<extra></extra>",
           "ids": [
            "PAN"
           ],
           "legendgroup": "PAN",
           "marker": {
            "color": "#EF553B",
            "pattern": {
             "shape": ""
            }
           },
           "name": "PAN",
           "offsetgroup": "PAN",
           "orientation": "v",
           "showlegend": true,
           "textposition": "auto",
           "type": "bar",
           "x": [
            "PAN"
           ],
           "xaxis": "x",
           "y": [
            1
           ],
           "yaxis": "y"
          }
         ],
         "name": "20206"
        },
        {
         "data": [
          {
           "alignmentgroup": "True",
           "hovertemplate": "pais=%{x}<br>registration_year_month=20207<br>count=%{y}<extra></extra>",
           "ids": [
            "DOM"
           ],
           "legendgroup": "DOM",
           "marker": {
            "color": "#636efa",
            "pattern": {
             "shape": ""
            }
           },
           "name": "DOM",
           "offsetgroup": "DOM",
           "orientation": "v",
           "showlegend": true,
           "textposition": "auto",
           "type": "bar",
           "x": [
            "DOM"
           ],
           "xaxis": "x",
           "y": [
            2
           ],
           "yaxis": "y"
          },
          {
           "alignmentgroup": "True",
           "hovertemplate": "pais=%{x}<br>registration_year_month=20207<br>count=%{y}<extra></extra>",
           "ids": [
            "ESP"
           ],
           "legendgroup": "ESP",
           "marker": {
            "color": "#EF553B",
            "pattern": {
             "shape": ""
            }
           },
           "name": "ESP",
           "offsetgroup": "ESP",
           "orientation": "v",
           "showlegend": true,
           "textposition": "auto",
           "type": "bar",
           "x": [
            "ESP"
           ],
           "xaxis": "x",
           "y": [
            10
           ],
           "yaxis": "y"
          },
          {
           "alignmentgroup": "True",
           "hovertemplate": "pais=%{x}<br>registration_year_month=20207<br>count=%{y}<extra></extra>",
           "ids": [
            "MEX"
           ],
           "legendgroup": "MEX",
           "marker": {
            "color": "#00cc96",
            "pattern": {
             "shape": ""
            }
           },
           "name": "MEX",
           "offsetgroup": "MEX",
           "orientation": "v",
           "showlegend": true,
           "textposition": "auto",
           "type": "bar",
           "x": [
            "MEX"
           ],
           "xaxis": "x",
           "y": [
            31
           ],
           "yaxis": "y"
          },
          {
           "alignmentgroup": "True",
           "hovertemplate": "pais=%{x}<br>registration_year_month=20207<br>count=%{y}<extra></extra>",
           "ids": [
            "CHL"
           ],
           "legendgroup": "CHL",
           "marker": {
            "color": "#FF6692",
            "pattern": {
             "shape": ""
            }
           },
           "name": "CHL",
           "offsetgroup": "CHL",
           "orientation": "v",
           "showlegend": true,
           "textposition": "auto",
           "type": "bar",
           "x": [
            "CHL"
           ],
           "xaxis": "x",
           "y": [
            1
           ],
           "yaxis": "y"
          },
          {
           "alignmentgroup": "True",
           "hovertemplate": "pais=%{x}<br>registration_year_month=20207<br>count=%{y}<extra></extra>",
           "ids": [
            "COL"
           ],
           "legendgroup": "COL",
           "marker": {
            "color": "#B6E880",
            "pattern": {
             "shape": ""
            }
           },
           "name": "COL",
           "offsetgroup": "COL",
           "orientation": "v",
           "showlegend": true,
           "textposition": "auto",
           "type": "bar",
           "x": [
            "COL"
           ],
           "xaxis": "x",
           "y": [
            2
           ],
           "yaxis": "y"
          },
          {
           "alignmentgroup": "True",
           "hovertemplate": "pais=%{x}<br>registration_year_month=20207<br>count=%{y}<extra></extra>",
           "ids": [
            "ARG"
           ],
           "legendgroup": "ARG",
           "marker": {
            "color": "#FECB52",
            "pattern": {
             "shape": ""
            }
           },
           "name": "ARG",
           "offsetgroup": "ARG",
           "orientation": "v",
           "showlegend": true,
           "textposition": "auto",
           "type": "bar",
           "x": [
            "ARG"
           ],
           "xaxis": "x",
           "y": [
            7
           ],
           "yaxis": "y"
          },
          {
           "alignmentgroup": "True",
           "hovertemplate": "pais=%{x}<br>registration_year_month=20207<br>count=%{y}<extra></extra>",
           "ids": [
            "ECU"
           ],
           "legendgroup": "ECU",
           "marker": {
            "color": "#B6E880",
            "pattern": {
             "shape": ""
            }
           },
           "name": "ECU",
           "offsetgroup": "ECU",
           "orientation": "v",
           "showlegend": true,
           "textposition": "auto",
           "type": "bar",
           "x": [
            "ECU"
           ],
           "xaxis": "x",
           "y": [
            3
           ],
           "yaxis": "y"
          },
          {
           "alignmentgroup": "True",
           "hovertemplate": "pais=%{x}<br>registration_year_month=20207<br>count=%{y}<extra></extra>",
           "ids": [
            "CRI"
           ],
           "legendgroup": "CRI",
           "marker": {
            "color": "#FECB52",
            "pattern": {
             "shape": ""
            }
           },
           "name": "CRI",
           "offsetgroup": "CRI",
           "orientation": "v",
           "showlegend": true,
           "textposition": "auto",
           "type": "bar",
           "x": [
            "CRI"
           ],
           "xaxis": "x",
           "y": [
            1
           ],
           "yaxis": "y"
          },
          {
           "alignmentgroup": "True",
           "hovertemplate": "pais=%{x}<br>registration_year_month=20207<br>count=%{y}<extra></extra>",
           "ids": [
            "PAN"
           ],
           "legendgroup": "PAN",
           "marker": {
            "color": "#EF553B",
            "pattern": {
             "shape": ""
            }
           },
           "name": "PAN",
           "offsetgroup": "PAN",
           "orientation": "v",
           "showlegend": true,
           "textposition": "auto",
           "type": "bar",
           "x": [
            "PAN"
           ],
           "xaxis": "x",
           "y": [
            1
           ],
           "yaxis": "y"
          },
          {
           "alignmentgroup": "True",
           "hovertemplate": "pais=%{x}<br>registration_year_month=20207<br>count=%{y}<extra></extra>",
           "ids": [
            "PRY"
           ],
           "legendgroup": "PRY",
           "marker": {
            "color": "#19d3f3",
            "pattern": {
             "shape": ""
            }
           },
           "name": "PRY",
           "offsetgroup": "PRY",
           "orientation": "v",
           "showlegend": true,
           "textposition": "auto",
           "type": "bar",
           "x": [
            "PRY"
           ],
           "xaxis": "x",
           "y": [
            1
           ],
           "yaxis": "y"
          },
          {
           "alignmentgroup": "True",
           "hovertemplate": "pais=%{x}<br>registration_year_month=20207<br>count=%{y}<extra></extra>",
           "ids": [
            "NIC"
           ],
           "legendgroup": "NIC",
           "marker": {
            "color": "#00cc96",
            "pattern": {
             "shape": ""
            }
           },
           "name": "NIC",
           "offsetgroup": "NIC",
           "orientation": "v",
           "showlegend": true,
           "textposition": "auto",
           "type": "bar",
           "x": [
            "NIC"
           ],
           "xaxis": "x",
           "y": [
            1
           ],
           "yaxis": "y"
          },
          {
           "alignmentgroup": "True",
           "hovertemplate": "pais=%{x}<br>registration_year_month=20207<br>count=%{y}<extra></extra>",
           "ids": [
            "IND"
           ],
           "legendgroup": "IND",
           "marker": {
            "color": "#ab63fa",
            "pattern": {
             "shape": ""
            }
           },
           "name": "IND",
           "offsetgroup": "IND",
           "orientation": "v",
           "showlegend": true,
           "textposition": "auto",
           "type": "bar",
           "x": [
            "IND"
           ],
           "xaxis": "x",
           "y": [
            3
           ],
           "yaxis": "y"
          }
         ],
         "name": "20207"
        },
        {
         "data": [
          {
           "alignmentgroup": "True",
           "hovertemplate": "pais=%{x}<br>registration_year_month=20208<br>count=%{y}<extra></extra>",
           "ids": [
            "DOM"
           ],
           "legendgroup": "DOM",
           "marker": {
            "color": "#636efa",
            "pattern": {
             "shape": ""
            }
           },
           "name": "DOM",
           "offsetgroup": "DOM",
           "orientation": "v",
           "showlegend": true,
           "textposition": "auto",
           "type": "bar",
           "x": [
            "DOM"
           ],
           "xaxis": "x",
           "y": [
            1
           ],
           "yaxis": "y"
          },
          {
           "alignmentgroup": "True",
           "hovertemplate": "pais=%{x}<br>registration_year_month=20208<br>count=%{y}<extra></extra>",
           "ids": [
            "ESP"
           ],
           "legendgroup": "ESP",
           "marker": {
            "color": "#EF553B",
            "pattern": {
             "shape": ""
            }
           },
           "name": "ESP",
           "offsetgroup": "ESP",
           "orientation": "v",
           "showlegend": true,
           "textposition": "auto",
           "type": "bar",
           "x": [
            "ESP"
           ],
           "xaxis": "x",
           "y": [
            1
           ],
           "yaxis": "y"
          },
          {
           "alignmentgroup": "True",
           "hovertemplate": "pais=%{x}<br>registration_year_month=20208<br>count=%{y}<extra></extra>",
           "ids": [
            "MEX"
           ],
           "legendgroup": "MEX",
           "marker": {
            "color": "#00cc96",
            "pattern": {
             "shape": ""
            }
           },
           "name": "MEX",
           "offsetgroup": "MEX",
           "orientation": "v",
           "showlegend": true,
           "textposition": "auto",
           "type": "bar",
           "x": [
            "MEX"
           ],
           "xaxis": "x",
           "y": [
            6
           ],
           "yaxis": "y"
          },
          {
           "alignmentgroup": "True",
           "hovertemplate": "pais=%{x}<br>registration_year_month=20208<br>count=%{y}<extra></extra>",
           "ids": [
            "PER"
           ],
           "legendgroup": "PER",
           "marker": {
            "color": "#ab63fa",
            "pattern": {
             "shape": ""
            }
           },
           "name": "PER",
           "offsetgroup": "PER",
           "orientation": "v",
           "showlegend": true,
           "textposition": "auto",
           "type": "bar",
           "x": [
            "PER"
           ],
           "xaxis": "x",
           "y": [
            1
           ],
           "yaxis": "y"
          },
          {
           "alignmentgroup": "True",
           "hovertemplate": "pais=%{x}<br>registration_year_month=20208<br>count=%{y}<extra></extra>",
           "ids": [
            "PRI"
           ],
           "legendgroup": "PRI",
           "marker": {
            "color": "#19d3f3",
            "pattern": {
             "shape": ""
            }
           },
           "name": "PRI",
           "offsetgroup": "PRI",
           "orientation": "v",
           "showlegend": true,
           "textposition": "auto",
           "type": "bar",
           "x": [
            "PRI"
           ],
           "xaxis": "x",
           "y": [
            2
           ],
           "yaxis": "y"
          },
          {
           "alignmentgroup": "True",
           "hovertemplate": "pais=%{x}<br>registration_year_month=20208<br>count=%{y}<extra></extra>",
           "ids": [
            "COL"
           ],
           "legendgroup": "COL",
           "marker": {
            "color": "#B6E880",
            "pattern": {
             "shape": ""
            }
           },
           "name": "COL",
           "offsetgroup": "COL",
           "orientation": "v",
           "showlegend": true,
           "textposition": "auto",
           "type": "bar",
           "x": [
            "COL"
           ],
           "xaxis": "x",
           "y": [
            1
           ],
           "yaxis": "y"
          },
          {
           "alignmentgroup": "True",
           "hovertemplate": "pais=%{x}<br>registration_year_month=20208<br>count=%{y}<extra></extra>",
           "ids": [
            "PAN"
           ],
           "legendgroup": "PAN",
           "marker": {
            "color": "#EF553B",
            "pattern": {
             "shape": ""
            }
           },
           "name": "PAN",
           "offsetgroup": "PAN",
           "orientation": "v",
           "showlegend": true,
           "textposition": "auto",
           "type": "bar",
           "x": [
            "PAN"
           ],
           "xaxis": "x",
           "y": [
            1
           ],
           "yaxis": "y"
          },
          {
           "alignmentgroup": "True",
           "hovertemplate": "pais=%{x}<br>registration_year_month=20208<br>count=%{y}<extra></extra>",
           "ids": [
            "PRY"
           ],
           "legendgroup": "PRY",
           "marker": {
            "color": "#19d3f3",
            "pattern": {
             "shape": ""
            }
           },
           "name": "PRY",
           "offsetgroup": "PRY",
           "orientation": "v",
           "showlegend": true,
           "textposition": "auto",
           "type": "bar",
           "x": [
            "PRY"
           ],
           "xaxis": "x",
           "y": [
            1
           ],
           "yaxis": "y"
          },
          {
           "alignmentgroup": "True",
           "hovertemplate": "pais=%{x}<br>registration_year_month=20208<br>count=%{y}<extra></extra>",
           "ids": [
            "HND"
           ],
           "legendgroup": "HND",
           "marker": {
            "color": "#B6E880",
            "pattern": {
             "shape": ""
            }
           },
           "name": "HND",
           "offsetgroup": "HND",
           "orientation": "v",
           "showlegend": true,
           "textposition": "auto",
           "type": "bar",
           "x": [
            "HND"
           ],
           "xaxis": "x",
           "y": [
            12
           ],
           "yaxis": "y"
          }
         ],
         "name": "20208"
        },
        {
         "data": [
          {
           "alignmentgroup": "True",
           "hovertemplate": "pais=%{x}<br>registration_year_month=20209<br>count=%{y}<extra></extra>",
           "ids": [
            "ESP"
           ],
           "legendgroup": "ESP",
           "marker": {
            "color": "#EF553B",
            "pattern": {
             "shape": ""
            }
           },
           "name": "ESP",
           "offsetgroup": "ESP",
           "orientation": "v",
           "showlegend": true,
           "textposition": "auto",
           "type": "bar",
           "x": [
            "ESP"
           ],
           "xaxis": "x",
           "y": [
            36
           ],
           "yaxis": "y"
          },
          {
           "alignmentgroup": "True",
           "hovertemplate": "pais=%{x}<br>registration_year_month=20209<br>count=%{y}<extra></extra>",
           "ids": [
            "MEX"
           ],
           "legendgroup": "MEX",
           "marker": {
            "color": "#00cc96",
            "pattern": {
             "shape": ""
            }
           },
           "name": "MEX",
           "offsetgroup": "MEX",
           "orientation": "v",
           "showlegend": true,
           "textposition": "auto",
           "type": "bar",
           "x": [
            "MEX"
           ],
           "xaxis": "x",
           "y": [
            26
           ],
           "yaxis": "y"
          },
          {
           "alignmentgroup": "True",
           "hovertemplate": "pais=%{x}<br>registration_year_month=20209<br>count=%{y}<extra></extra>",
           "ids": [
            "PER"
           ],
           "legendgroup": "PER",
           "marker": {
            "color": "#ab63fa",
            "pattern": {
             "shape": ""
            }
           },
           "name": "PER",
           "offsetgroup": "PER",
           "orientation": "v",
           "showlegend": true,
           "textposition": "auto",
           "type": "bar",
           "x": [
            "PER"
           ],
           "xaxis": "x",
           "y": [
            1
           ],
           "yaxis": "y"
          },
          {
           "alignmentgroup": "True",
           "hovertemplate": "pais=%{x}<br>registration_year_month=20209<br>count=%{y}<extra></extra>",
           "ids": [
            "GTM"
           ],
           "legendgroup": "GTM",
           "marker": {
            "color": "#FF97FF",
            "pattern": {
             "shape": ""
            }
           },
           "name": "GTM",
           "offsetgroup": "GTM",
           "orientation": "v",
           "showlegend": true,
           "textposition": "auto",
           "type": "bar",
           "x": [
            "GTM"
           ],
           "xaxis": "x",
           "y": [
            4
           ],
           "yaxis": "y"
          },
          {
           "alignmentgroup": "True",
           "hovertemplate": "pais=%{x}<br>registration_year_month=20209<br>count=%{y}<extra></extra>",
           "ids": [
            "ARG"
           ],
           "legendgroup": "ARG",
           "marker": {
            "color": "#FECB52",
            "pattern": {
             "shape": ""
            }
           },
           "name": "ARG",
           "offsetgroup": "ARG",
           "orientation": "v",
           "showlegend": true,
           "textposition": "auto",
           "type": "bar",
           "x": [
            "ARG"
           ],
           "xaxis": "x",
           "y": [
            3
           ],
           "yaxis": "y"
          },
          {
           "alignmentgroup": "True",
           "hovertemplate": "pais=%{x}<br>registration_year_month=20209<br>count=%{y}<extra></extra>",
           "ids": [
            "USA"
           ],
           "legendgroup": "USA",
           "marker": {
            "color": "#FF97FF",
            "pattern": {
             "shape": ""
            }
           },
           "name": "USA",
           "offsetgroup": "USA",
           "orientation": "v",
           "showlegend": true,
           "textposition": "auto",
           "type": "bar",
           "x": [
            "USA"
           ],
           "xaxis": "x",
           "y": [
            1
           ],
           "yaxis": "y"
          },
          {
           "alignmentgroup": "True",
           "hovertemplate": "pais=%{x}<br>registration_year_month=20209<br>count=%{y}<extra></extra>",
           "ids": [
            "CRI"
           ],
           "legendgroup": "CRI",
           "marker": {
            "color": "#FECB52",
            "pattern": {
             "shape": ""
            }
           },
           "name": "CRI",
           "offsetgroup": "CRI",
           "orientation": "v",
           "showlegend": true,
           "textposition": "auto",
           "type": "bar",
           "x": [
            "CRI"
           ],
           "xaxis": "x",
           "y": [
            9
           ],
           "yaxis": "y"
          },
          {
           "alignmentgroup": "True",
           "hovertemplate": "pais=%{x}<br>registration_year_month=20209<br>count=%{y}<extra></extra>",
           "ids": [
            "HND"
           ],
           "legendgroup": "HND",
           "marker": {
            "color": "#B6E880",
            "pattern": {
             "shape": ""
            }
           },
           "name": "HND",
           "offsetgroup": "HND",
           "orientation": "v",
           "showlegend": true,
           "textposition": "auto",
           "type": "bar",
           "x": [
            "HND"
           ],
           "xaxis": "x",
           "y": [
            7
           ],
           "yaxis": "y"
          },
          {
           "alignmentgroup": "True",
           "hovertemplate": "pais=%{x}<br>registration_year_month=20209<br>count=%{y}<extra></extra>",
           "ids": [
            "IND"
           ],
           "legendgroup": "IND",
           "marker": {
            "color": "#ab63fa",
            "pattern": {
             "shape": ""
            }
           },
           "name": "IND",
           "offsetgroup": "IND",
           "orientation": "v",
           "showlegend": true,
           "textposition": "auto",
           "type": "bar",
           "x": [
            "IND"
           ],
           "xaxis": "x",
           "y": [
            4
           ],
           "yaxis": "y"
          }
         ],
         "name": "20209"
        },
        {
         "data": [
          {
           "alignmentgroup": "True",
           "hovertemplate": "pais=%{x}<br>registration_year_month=20211<br>count=%{y}<extra></extra>",
           "ids": [
            "ESP"
           ],
           "legendgroup": "ESP",
           "marker": {
            "color": "#EF553B",
            "pattern": {
             "shape": ""
            }
           },
           "name": "ESP",
           "offsetgroup": "ESP",
           "orientation": "v",
           "showlegend": true,
           "textposition": "auto",
           "type": "bar",
           "x": [
            "ESP"
           ],
           "xaxis": "x",
           "y": [
            6
           ],
           "yaxis": "y"
          },
          {
           "alignmentgroup": "True",
           "hovertemplate": "pais=%{x}<br>registration_year_month=20211<br>count=%{y}<extra></extra>",
           "ids": [
            "MEX"
           ],
           "legendgroup": "MEX",
           "marker": {
            "color": "#00cc96",
            "pattern": {
             "shape": ""
            }
           },
           "name": "MEX",
           "offsetgroup": "MEX",
           "orientation": "v",
           "showlegend": true,
           "textposition": "auto",
           "type": "bar",
           "x": [
            "MEX"
           ],
           "xaxis": "x",
           "y": [
            5
           ],
           "yaxis": "y"
          },
          {
           "alignmentgroup": "True",
           "hovertemplate": "pais=%{x}<br>registration_year_month=20211<br>count=%{y}<extra></extra>",
           "ids": [
            "PER"
           ],
           "legendgroup": "PER",
           "marker": {
            "color": "#ab63fa",
            "pattern": {
             "shape": ""
            }
           },
           "name": "PER",
           "offsetgroup": "PER",
           "orientation": "v",
           "showlegend": true,
           "textposition": "auto",
           "type": "bar",
           "x": [
            "PER"
           ],
           "xaxis": "x",
           "y": [
            1
           ],
           "yaxis": "y"
          },
          {
           "alignmentgroup": "True",
           "hovertemplate": "pais=%{x}<br>registration_year_month=20211<br>count=%{y}<extra></extra>",
           "ids": [
            "CHL"
           ],
           "legendgroup": "CHL",
           "marker": {
            "color": "#FF6692",
            "pattern": {
             "shape": ""
            }
           },
           "name": "CHL",
           "offsetgroup": "CHL",
           "orientation": "v",
           "showlegend": true,
           "textposition": "auto",
           "type": "bar",
           "x": [
            "CHL"
           ],
           "xaxis": "x",
           "y": [
            1
           ],
           "yaxis": "y"
          },
          {
           "alignmentgroup": "True",
           "hovertemplate": "pais=%{x}<br>registration_year_month=20211<br>count=%{y}<extra></extra>",
           "ids": [
            "COL"
           ],
           "legendgroup": "COL",
           "marker": {
            "color": "#B6E880",
            "pattern": {
             "shape": ""
            }
           },
           "name": "COL",
           "offsetgroup": "COL",
           "orientation": "v",
           "showlegend": true,
           "textposition": "auto",
           "type": "bar",
           "x": [
            "COL"
           ],
           "xaxis": "x",
           "y": [
            1
           ],
           "yaxis": "y"
          },
          {
           "alignmentgroup": "True",
           "hovertemplate": "pais=%{x}<br>registration_year_month=20211<br>count=%{y}<extra></extra>",
           "ids": [
            "GTM"
           ],
           "legendgroup": "GTM",
           "marker": {
            "color": "#FF97FF",
            "pattern": {
             "shape": ""
            }
           },
           "name": "GTM",
           "offsetgroup": "GTM",
           "orientation": "v",
           "showlegend": true,
           "textposition": "auto",
           "type": "bar",
           "x": [
            "GTM"
           ],
           "xaxis": "x",
           "y": [
            7
           ],
           "yaxis": "y"
          },
          {
           "alignmentgroup": "True",
           "hovertemplate": "pais=%{x}<br>registration_year_month=20211<br>count=%{y}<extra></extra>",
           "ids": [
            "ECU"
           ],
           "legendgroup": "ECU",
           "marker": {
            "color": "#B6E880",
            "pattern": {
             "shape": ""
            }
           },
           "name": "ECU",
           "offsetgroup": "ECU",
           "orientation": "v",
           "showlegend": true,
           "textposition": "auto",
           "type": "bar",
           "x": [
            "ECU"
           ],
           "xaxis": "x",
           "y": [
            1
           ],
           "yaxis": "y"
          },
          {
           "alignmentgroup": "True",
           "hovertemplate": "pais=%{x}<br>registration_year_month=20211<br>count=%{y}<extra></extra>",
           "ids": [
            "CRI"
           ],
           "legendgroup": "CRI",
           "marker": {
            "color": "#FECB52",
            "pattern": {
             "shape": ""
            }
           },
           "name": "CRI",
           "offsetgroup": "CRI",
           "orientation": "v",
           "showlegend": true,
           "textposition": "auto",
           "type": "bar",
           "x": [
            "CRI"
           ],
           "xaxis": "x",
           "y": [
            13
           ],
           "yaxis": "y"
          },
          {
           "alignmentgroup": "True",
           "hovertemplate": "pais=%{x}<br>registration_year_month=20211<br>count=%{y}<extra></extra>",
           "ids": [
            "HND"
           ],
           "legendgroup": "HND",
           "marker": {
            "color": "#B6E880",
            "pattern": {
             "shape": ""
            }
           },
           "name": "HND",
           "offsetgroup": "HND",
           "orientation": "v",
           "showlegend": true,
           "textposition": "auto",
           "type": "bar",
           "x": [
            "HND"
           ],
           "xaxis": "x",
           "y": [
            31
           ],
           "yaxis": "y"
          },
          {
           "alignmentgroup": "True",
           "hovertemplate": "pais=%{x}<br>registration_year_month=20211<br>count=%{y}<extra></extra>",
           "ids": [
            "AFG"
           ],
           "legendgroup": "AFG",
           "marker": {
            "color": "#636efa",
            "pattern": {
             "shape": ""
            }
           },
           "name": "AFG",
           "offsetgroup": "AFG",
           "orientation": "v",
           "showlegend": true,
           "textposition": "auto",
           "type": "bar",
           "x": [
            "AFG"
           ],
           "xaxis": "x",
           "y": [
            1
           ],
           "yaxis": "y"
          },
          {
           "alignmentgroup": "True",
           "hovertemplate": "pais=%{x}<br>registration_year_month=20211<br>count=%{y}<extra></extra>",
           "ids": [
            "IND"
           ],
           "legendgroup": "IND",
           "marker": {
            "color": "#ab63fa",
            "pattern": {
             "shape": ""
            }
           },
           "name": "IND",
           "offsetgroup": "IND",
           "orientation": "v",
           "showlegend": true,
           "textposition": "auto",
           "type": "bar",
           "x": [
            "IND"
           ],
           "xaxis": "x",
           "y": [
            2
           ],
           "yaxis": "y"
          },
          {
           "alignmentgroup": "True",
           "hovertemplate": "pais=%{x}<br>registration_year_month=20211<br>count=%{y}<extra></extra>",
           "ids": [
            "BHR"
           ],
           "legendgroup": "BHR",
           "marker": {
            "color": "#00cc96",
            "pattern": {
             "shape": ""
            }
           },
           "name": "BHR",
           "offsetgroup": "BHR",
           "orientation": "v",
           "showlegend": true,
           "textposition": "auto",
           "type": "bar",
           "x": [
            "BHR"
           ],
           "xaxis": "x",
           "y": [
            1
           ],
           "yaxis": "y"
          }
         ],
         "name": "20211"
        },
        {
         "data": [
          {
           "alignmentgroup": "True",
           "hovertemplate": "pais=%{x}<br>registration_year_month=20212<br>count=%{y}<extra></extra>",
           "ids": [
            "DOM"
           ],
           "legendgroup": "DOM",
           "marker": {
            "color": "#636efa",
            "pattern": {
             "shape": ""
            }
           },
           "name": "DOM",
           "offsetgroup": "DOM",
           "orientation": "v",
           "showlegend": true,
           "textposition": "auto",
           "type": "bar",
           "x": [
            "DOM"
           ],
           "xaxis": "x",
           "y": [
            12
           ],
           "yaxis": "y"
          },
          {
           "alignmentgroup": "True",
           "hovertemplate": "pais=%{x}<br>registration_year_month=20212<br>count=%{y}<extra></extra>",
           "ids": [
            "ESP"
           ],
           "legendgroup": "ESP",
           "marker": {
            "color": "#EF553B",
            "pattern": {
             "shape": ""
            }
           },
           "name": "ESP",
           "offsetgroup": "ESP",
           "orientation": "v",
           "showlegend": true,
           "textposition": "auto",
           "type": "bar",
           "x": [
            "ESP"
           ],
           "xaxis": "x",
           "y": [
            113
           ],
           "yaxis": "y"
          },
          {
           "alignmentgroup": "True",
           "hovertemplate": "pais=%{x}<br>registration_year_month=20212<br>count=%{y}<extra></extra>",
           "ids": [
            "MEX"
           ],
           "legendgroup": "MEX",
           "marker": {
            "color": "#00cc96",
            "pattern": {
             "shape": ""
            }
           },
           "name": "MEX",
           "offsetgroup": "MEX",
           "orientation": "v",
           "showlegend": true,
           "textposition": "auto",
           "type": "bar",
           "x": [
            "MEX"
           ],
           "xaxis": "x",
           "y": [
            26
           ],
           "yaxis": "y"
          },
          {
           "alignmentgroup": "True",
           "hovertemplate": "pais=%{x}<br>registration_year_month=20212<br>count=%{y}<extra></extra>",
           "ids": [
            "PER"
           ],
           "legendgroup": "PER",
           "marker": {
            "color": "#ab63fa",
            "pattern": {
             "shape": ""
            }
           },
           "name": "PER",
           "offsetgroup": "PER",
           "orientation": "v",
           "showlegend": true,
           "textposition": "auto",
           "type": "bar",
           "x": [
            "PER"
           ],
           "xaxis": "x",
           "y": [
            3
           ],
           "yaxis": "y"
          },
          {
           "alignmentgroup": "True",
           "hovertemplate": "pais=%{x}<br>registration_year_month=20212<br>count=%{y}<extra></extra>",
           "ids": [
            "COL"
           ],
           "legendgroup": "COL",
           "marker": {
            "color": "#B6E880",
            "pattern": {
             "shape": ""
            }
           },
           "name": "COL",
           "offsetgroup": "COL",
           "orientation": "v",
           "showlegend": true,
           "textposition": "auto",
           "type": "bar",
           "x": [
            "COL"
           ],
           "xaxis": "x",
           "y": [
            2
           ],
           "yaxis": "y"
          },
          {
           "alignmentgroup": "True",
           "hovertemplate": "pais=%{x}<br>registration_year_month=20212<br>count=%{y}<extra></extra>",
           "ids": [
            "GTM"
           ],
           "legendgroup": "GTM",
           "marker": {
            "color": "#FF97FF",
            "pattern": {
             "shape": ""
            }
           },
           "name": "GTM",
           "offsetgroup": "GTM",
           "orientation": "v",
           "showlegend": true,
           "textposition": "auto",
           "type": "bar",
           "x": [
            "GTM"
           ],
           "xaxis": "x",
           "y": [
            1
           ],
           "yaxis": "y"
          },
          {
           "alignmentgroup": "True",
           "hovertemplate": "pais=%{x}<br>registration_year_month=20212<br>count=%{y}<extra></extra>",
           "ids": [
            "CRI"
           ],
           "legendgroup": "CRI",
           "marker": {
            "color": "#FECB52",
            "pattern": {
             "shape": ""
            }
           },
           "name": "CRI",
           "offsetgroup": "CRI",
           "orientation": "v",
           "showlegend": true,
           "textposition": "auto",
           "type": "bar",
           "x": [
            "CRI"
           ],
           "xaxis": "x",
           "y": [
            64
           ],
           "yaxis": "y"
          },
          {
           "alignmentgroup": "True",
           "hovertemplate": "pais=%{x}<br>registration_year_month=20212<br>count=%{y}<extra></extra>",
           "ids": [
            "FSM"
           ],
           "legendgroup": "FSM",
           "marker": {
            "color": "#ab63fa",
            "pattern": {
             "shape": ""
            }
           },
           "name": "FSM",
           "offsetgroup": "FSM",
           "orientation": "v",
           "showlegend": true,
           "textposition": "auto",
           "type": "bar",
           "x": [
            "FSM"
           ],
           "xaxis": "x",
           "y": [
            1
           ],
           "yaxis": "y"
          }
         ],
         "name": "20212"
        },
        {
         "data": [
          {
           "alignmentgroup": "True",
           "hovertemplate": "pais=%{x}<br>registration_year_month=20213<br>count=%{y}<extra></extra>",
           "ids": [
            "DOM"
           ],
           "legendgroup": "DOM",
           "marker": {
            "color": "#636efa",
            "pattern": {
             "shape": ""
            }
           },
           "name": "DOM",
           "offsetgroup": "DOM",
           "orientation": "v",
           "showlegend": true,
           "textposition": "auto",
           "type": "bar",
           "x": [
            "DOM"
           ],
           "xaxis": "x",
           "y": [
            18
           ],
           "yaxis": "y"
          },
          {
           "alignmentgroup": "True",
           "hovertemplate": "pais=%{x}<br>registration_year_month=20213<br>count=%{y}<extra></extra>",
           "ids": [
            "ESP"
           ],
           "legendgroup": "ESP",
           "marker": {
            "color": "#EF553B",
            "pattern": {
             "shape": ""
            }
           },
           "name": "ESP",
           "offsetgroup": "ESP",
           "orientation": "v",
           "showlegend": true,
           "textposition": "auto",
           "type": "bar",
           "x": [
            "ESP"
           ],
           "xaxis": "x",
           "y": [
            107
           ],
           "yaxis": "y"
          },
          {
           "alignmentgroup": "True",
           "hovertemplate": "pais=%{x}<br>registration_year_month=20213<br>count=%{y}<extra></extra>",
           "ids": [
            "MEX"
           ],
           "legendgroup": "MEX",
           "marker": {
            "color": "#00cc96",
            "pattern": {
             "shape": ""
            }
           },
           "name": "MEX",
           "offsetgroup": "MEX",
           "orientation": "v",
           "showlegend": true,
           "textposition": "auto",
           "type": "bar",
           "x": [
            "MEX"
           ],
           "xaxis": "x",
           "y": [
            21
           ],
           "yaxis": "y"
          },
          {
           "alignmentgroup": "True",
           "hovertemplate": "pais=%{x}<br>registration_year_month=20213<br>count=%{y}<extra></extra>",
           "ids": [
            "PER"
           ],
           "legendgroup": "PER",
           "marker": {
            "color": "#ab63fa",
            "pattern": {
             "shape": ""
            }
           },
           "name": "PER",
           "offsetgroup": "PER",
           "orientation": "v",
           "showlegend": true,
           "textposition": "auto",
           "type": "bar",
           "x": [
            "PER"
           ],
           "xaxis": "x",
           "y": [
            1
           ],
           "yaxis": "y"
          },
          {
           "alignmentgroup": "True",
           "hovertemplate": "pais=%{x}<br>registration_year_month=20213<br>count=%{y}<extra></extra>",
           "ids": [
            "GTM"
           ],
           "legendgroup": "GTM",
           "marker": {
            "color": "#FF97FF",
            "pattern": {
             "shape": ""
            }
           },
           "name": "GTM",
           "offsetgroup": "GTM",
           "orientation": "v",
           "showlegend": true,
           "textposition": "auto",
           "type": "bar",
           "x": [
            "GTM"
           ],
           "xaxis": "x",
           "y": [
            3
           ],
           "yaxis": "y"
          },
          {
           "alignmentgroup": "True",
           "hovertemplate": "pais=%{x}<br>registration_year_month=20213<br>count=%{y}<extra></extra>",
           "ids": [
            "ARG"
           ],
           "legendgroup": "ARG",
           "marker": {
            "color": "#FECB52",
            "pattern": {
             "shape": ""
            }
           },
           "name": "ARG",
           "offsetgroup": "ARG",
           "orientation": "v",
           "showlegend": true,
           "textposition": "auto",
           "type": "bar",
           "x": [
            "ARG"
           ],
           "xaxis": "x",
           "y": [
            1
           ],
           "yaxis": "y"
          },
          {
           "alignmentgroup": "True",
           "hovertemplate": "pais=%{x}<br>registration_year_month=20213<br>count=%{y}<extra></extra>",
           "ids": [
            "URY"
           ],
           "legendgroup": "URY",
           "marker": {
            "color": "#636efa",
            "pattern": {
             "shape": ""
            }
           },
           "name": "URY",
           "offsetgroup": "URY",
           "orientation": "v",
           "showlegend": true,
           "textposition": "auto",
           "type": "bar",
           "x": [
            "URY"
           ],
           "xaxis": "x",
           "y": [
            1
           ],
           "yaxis": "y"
          },
          {
           "alignmentgroup": "True",
           "hovertemplate": "pais=%{x}<br>registration_year_month=20213<br>count=%{y}<extra></extra>",
           "ids": [
            "ECU"
           ],
           "legendgroup": "ECU",
           "marker": {
            "color": "#B6E880",
            "pattern": {
             "shape": ""
            }
           },
           "name": "ECU",
           "offsetgroup": "ECU",
           "orientation": "v",
           "showlegend": true,
           "textposition": "auto",
           "type": "bar",
           "x": [
            "ECU"
           ],
           "xaxis": "x",
           "y": [
            5
           ],
           "yaxis": "y"
          },
          {
           "alignmentgroup": "True",
           "hovertemplate": "pais=%{x}<br>registration_year_month=20213<br>count=%{y}<extra></extra>",
           "ids": [
            "USA"
           ],
           "legendgroup": "USA",
           "marker": {
            "color": "#FF97FF",
            "pattern": {
             "shape": ""
            }
           },
           "name": "USA",
           "offsetgroup": "USA",
           "orientation": "v",
           "showlegend": true,
           "textposition": "auto",
           "type": "bar",
           "x": [
            "USA"
           ],
           "xaxis": "x",
           "y": [
            1
           ],
           "yaxis": "y"
          },
          {
           "alignmentgroup": "True",
           "hovertemplate": "pais=%{x}<br>registration_year_month=20213<br>count=%{y}<extra></extra>",
           "ids": [
            "IND"
           ],
           "legendgroup": "IND",
           "marker": {
            "color": "#ab63fa",
            "pattern": {
             "shape": ""
            }
           },
           "name": "IND",
           "offsetgroup": "IND",
           "orientation": "v",
           "showlegend": true,
           "textposition": "auto",
           "type": "bar",
           "x": [
            "IND"
           ],
           "xaxis": "x",
           "y": [
            1
           ],
           "yaxis": "y"
          },
          {
           "alignmentgroup": "True",
           "hovertemplate": "pais=%{x}<br>registration_year_month=20213<br>count=%{y}<extra></extra>",
           "ids": [
            "MNG"
           ],
           "legendgroup": "MNG",
           "marker": {
            "color": "#FFA15A",
            "pattern": {
             "shape": ""
            }
           },
           "name": "MNG",
           "offsetgroup": "MNG",
           "orientation": "v",
           "showlegend": true,
           "textposition": "auto",
           "type": "bar",
           "x": [
            "MNG"
           ],
           "xaxis": "x",
           "y": [
            1
           ],
           "yaxis": "y"
          }
         ],
         "name": "20213"
        },
        {
         "data": [
          {
           "alignmentgroup": "True",
           "hovertemplate": "pais=%{x}<br>registration_year_month=20214<br>count=%{y}<extra></extra>",
           "ids": [
            "DOM"
           ],
           "legendgroup": "DOM",
           "marker": {
            "color": "#636efa",
            "pattern": {
             "shape": ""
            }
           },
           "name": "DOM",
           "offsetgroup": "DOM",
           "orientation": "v",
           "showlegend": true,
           "textposition": "auto",
           "type": "bar",
           "x": [
            "DOM"
           ],
           "xaxis": "x",
           "y": [
            1
           ],
           "yaxis": "y"
          },
          {
           "alignmentgroup": "True",
           "hovertemplate": "pais=%{x}<br>registration_year_month=20214<br>count=%{y}<extra></extra>",
           "ids": [
            "ESP"
           ],
           "legendgroup": "ESP",
           "marker": {
            "color": "#EF553B",
            "pattern": {
             "shape": ""
            }
           },
           "name": "ESP",
           "offsetgroup": "ESP",
           "orientation": "v",
           "showlegend": true,
           "textposition": "auto",
           "type": "bar",
           "x": [
            "ESP"
           ],
           "xaxis": "x",
           "y": [
            4
           ],
           "yaxis": "y"
          },
          {
           "alignmentgroup": "True",
           "hovertemplate": "pais=%{x}<br>registration_year_month=20214<br>count=%{y}<extra></extra>",
           "ids": [
            "MEX"
           ],
           "legendgroup": "MEX",
           "marker": {
            "color": "#00cc96",
            "pattern": {
             "shape": ""
            }
           },
           "name": "MEX",
           "offsetgroup": "MEX",
           "orientation": "v",
           "showlegend": true,
           "textposition": "auto",
           "type": "bar",
           "x": [
            "MEX"
           ],
           "xaxis": "x",
           "y": [
            103
           ],
           "yaxis": "y"
          },
          {
           "alignmentgroup": "True",
           "hovertemplate": "pais=%{x}<br>registration_year_month=20214<br>count=%{y}<extra></extra>",
           "ids": [
            "PER"
           ],
           "legendgroup": "PER",
           "marker": {
            "color": "#ab63fa",
            "pattern": {
             "shape": ""
            }
           },
           "name": "PER",
           "offsetgroup": "PER",
           "orientation": "v",
           "showlegend": true,
           "textposition": "auto",
           "type": "bar",
           "x": [
            "PER"
           ],
           "xaxis": "x",
           "y": [
            3
           ],
           "yaxis": "y"
          },
          {
           "alignmentgroup": "True",
           "hovertemplate": "pais=%{x}<br>registration_year_month=20214<br>count=%{y}<extra></extra>",
           "ids": [
            "BRA"
           ],
           "legendgroup": "BRA",
           "marker": {
            "color": "#ab63fa",
            "pattern": {
             "shape": ""
            }
           },
           "name": "BRA",
           "offsetgroup": "BRA",
           "orientation": "v",
           "showlegend": true,
           "textposition": "auto",
           "type": "bar",
           "x": [
            "BRA"
           ],
           "xaxis": "x",
           "y": [
            2
           ],
           "yaxis": "y"
          },
          {
           "alignmentgroup": "True",
           "hovertemplate": "pais=%{x}<br>registration_year_month=20214<br>count=%{y}<extra></extra>",
           "ids": [
            "ECU"
           ],
           "legendgroup": "ECU",
           "marker": {
            "color": "#B6E880",
            "pattern": {
             "shape": ""
            }
           },
           "name": "ECU",
           "offsetgroup": "ECU",
           "orientation": "v",
           "showlegend": true,
           "textposition": "auto",
           "type": "bar",
           "x": [
            "ECU"
           ],
           "xaxis": "x",
           "y": [
            1
           ],
           "yaxis": "y"
          },
          {
           "alignmentgroup": "True",
           "hovertemplate": "pais=%{x}<br>registration_year_month=20214<br>count=%{y}<extra></extra>",
           "ids": [
            "USA"
           ],
           "legendgroup": "USA",
           "marker": {
            "color": "#FF97FF",
            "pattern": {
             "shape": ""
            }
           },
           "name": "USA",
           "offsetgroup": "USA",
           "orientation": "v",
           "showlegend": true,
           "textposition": "auto",
           "type": "bar",
           "x": [
            "USA"
           ],
           "xaxis": "x",
           "y": [
            1
           ],
           "yaxis": "y"
          },
          {
           "alignmentgroup": "True",
           "hovertemplate": "pais=%{x}<br>registration_year_month=20214<br>count=%{y}<extra></extra>",
           "ids": [
            "CRI"
           ],
           "legendgroup": "CRI",
           "marker": {
            "color": "#FECB52",
            "pattern": {
             "shape": ""
            }
           },
           "name": "CRI",
           "offsetgroup": "CRI",
           "orientation": "v",
           "showlegend": true,
           "textposition": "auto",
           "type": "bar",
           "x": [
            "CRI"
           ],
           "xaxis": "x",
           "y": [
            1
           ],
           "yaxis": "y"
          },
          {
           "alignmentgroup": "True",
           "hovertemplate": "pais=%{x}<br>registration_year_month=20214<br>count=%{y}<extra></extra>",
           "ids": [
            "PRY"
           ],
           "legendgroup": "PRY",
           "marker": {
            "color": "#19d3f3",
            "pattern": {
             "shape": ""
            }
           },
           "name": "PRY",
           "offsetgroup": "PRY",
           "orientation": "v",
           "showlegend": true,
           "textposition": "auto",
           "type": "bar",
           "x": [
            "PRY"
           ],
           "xaxis": "x",
           "y": [
            1
           ],
           "yaxis": "y"
          },
          {
           "alignmentgroup": "True",
           "hovertemplate": "pais=%{x}<br>registration_year_month=20214<br>count=%{y}<extra></extra>",
           "ids": [
            "HND"
           ],
           "legendgroup": "HND",
           "marker": {
            "color": "#B6E880",
            "pattern": {
             "shape": ""
            }
           },
           "name": "HND",
           "offsetgroup": "HND",
           "orientation": "v",
           "showlegend": true,
           "textposition": "auto",
           "type": "bar",
           "x": [
            "HND"
           ],
           "xaxis": "x",
           "y": [
            1
           ],
           "yaxis": "y"
          },
          {
           "alignmentgroup": "True",
           "hovertemplate": "pais=%{x}<br>registration_year_month=20214<br>count=%{y}<extra></extra>",
           "ids": [
            "IND"
           ],
           "legendgroup": "IND",
           "marker": {
            "color": "#ab63fa",
            "pattern": {
             "shape": ""
            }
           },
           "name": "IND",
           "offsetgroup": "IND",
           "orientation": "v",
           "showlegend": true,
           "textposition": "auto",
           "type": "bar",
           "x": [
            "IND"
           ],
           "xaxis": "x",
           "y": [
            1
           ],
           "yaxis": "y"
          },
          {
           "alignmentgroup": "True",
           "hovertemplate": "pais=%{x}<br>registration_year_month=20214<br>count=%{y}<extra></extra>",
           "ids": [
            "CUB"
           ],
           "legendgroup": "CUB",
           "marker": {
            "color": "#19d3f3",
            "pattern": {
             "shape": ""
            }
           },
           "name": "CUB",
           "offsetgroup": "CUB",
           "orientation": "v",
           "showlegend": true,
           "textposition": "auto",
           "type": "bar",
           "x": [
            "CUB"
           ],
           "xaxis": "x",
           "y": [
            1
           ],
           "yaxis": "y"
          },
          {
           "alignmentgroup": "True",
           "hovertemplate": "pais=%{x}<br>registration_year_month=20214<br>count=%{y}<extra></extra>",
           "ids": [
            "ISR"
           ],
           "legendgroup": "ISR",
           "marker": {
            "color": "#FF6692",
            "pattern": {
             "shape": ""
            }
           },
           "name": "ISR",
           "offsetgroup": "ISR",
           "orientation": "v",
           "showlegend": true,
           "textposition": "auto",
           "type": "bar",
           "x": [
            "ISR"
           ],
           "xaxis": "x",
           "y": [
            1
           ],
           "yaxis": "y"
          }
         ],
         "name": "20214"
        },
        {
         "data": [
          {
           "alignmentgroup": "True",
           "hovertemplate": "pais=%{x}<br>registration_year_month=20215<br>count=%{y}<extra></extra>",
           "ids": [
            "DOM"
           ],
           "legendgroup": "DOM",
           "marker": {
            "color": "#636efa",
            "pattern": {
             "shape": ""
            }
           },
           "name": "DOM",
           "offsetgroup": "DOM",
           "orientation": "v",
           "showlegend": true,
           "textposition": "auto",
           "type": "bar",
           "x": [
            "DOM"
           ],
           "xaxis": "x",
           "y": [
            4
           ],
           "yaxis": "y"
          },
          {
           "alignmentgroup": "True",
           "hovertemplate": "pais=%{x}<br>registration_year_month=20215<br>count=%{y}<extra></extra>",
           "ids": [
            "ESP"
           ],
           "legendgroup": "ESP",
           "marker": {
            "color": "#EF553B",
            "pattern": {
             "shape": ""
            }
           },
           "name": "ESP",
           "offsetgroup": "ESP",
           "orientation": "v",
           "showlegend": true,
           "textposition": "auto",
           "type": "bar",
           "x": [
            "ESP"
           ],
           "xaxis": "x",
           "y": [
            5
           ],
           "yaxis": "y"
          },
          {
           "alignmentgroup": "True",
           "hovertemplate": "pais=%{x}<br>registration_year_month=20215<br>count=%{y}<extra></extra>",
           "ids": [
            "MEX"
           ],
           "legendgroup": "MEX",
           "marker": {
            "color": "#00cc96",
            "pattern": {
             "shape": ""
            }
           },
           "name": "MEX",
           "offsetgroup": "MEX",
           "orientation": "v",
           "showlegend": true,
           "textposition": "auto",
           "type": "bar",
           "x": [
            "MEX"
           ],
           "xaxis": "x",
           "y": [
            15
           ],
           "yaxis": "y"
          },
          {
           "alignmentgroup": "True",
           "hovertemplate": "pais=%{x}<br>registration_year_month=20215<br>count=%{y}<extra></extra>",
           "ids": [
            "PER"
           ],
           "legendgroup": "PER",
           "marker": {
            "color": "#ab63fa",
            "pattern": {
             "shape": ""
            }
           },
           "name": "PER",
           "offsetgroup": "PER",
           "orientation": "v",
           "showlegend": true,
           "textposition": "auto",
           "type": "bar",
           "x": [
            "PER"
           ],
           "xaxis": "x",
           "y": [
            2
           ],
           "yaxis": "y"
          },
          {
           "alignmentgroup": "True",
           "hovertemplate": "pais=%{x}<br>registration_year_month=20215<br>count=%{y}<extra></extra>",
           "ids": [
            "COL"
           ],
           "legendgroup": "COL",
           "marker": {
            "color": "#B6E880",
            "pattern": {
             "shape": ""
            }
           },
           "name": "COL",
           "offsetgroup": "COL",
           "orientation": "v",
           "showlegend": true,
           "textposition": "auto",
           "type": "bar",
           "x": [
            "COL"
           ],
           "xaxis": "x",
           "y": [
            2
           ],
           "yaxis": "y"
          },
          {
           "alignmentgroup": "True",
           "hovertemplate": "pais=%{x}<br>registration_year_month=20215<br>count=%{y}<extra></extra>",
           "ids": [
            "GTM"
           ],
           "legendgroup": "GTM",
           "marker": {
            "color": "#FF97FF",
            "pattern": {
             "shape": ""
            }
           },
           "name": "GTM",
           "offsetgroup": "GTM",
           "orientation": "v",
           "showlegend": true,
           "textposition": "auto",
           "type": "bar",
           "x": [
            "GTM"
           ],
           "xaxis": "x",
           "y": [
            1
           ],
           "yaxis": "y"
          },
          {
           "alignmentgroup": "True",
           "hovertemplate": "pais=%{x}<br>registration_year_month=20215<br>count=%{y}<extra></extra>",
           "ids": [
            "ARG"
           ],
           "legendgroup": "ARG",
           "marker": {
            "color": "#FECB52",
            "pattern": {
             "shape": ""
            }
           },
           "name": "ARG",
           "offsetgroup": "ARG",
           "orientation": "v",
           "showlegend": true,
           "textposition": "auto",
           "type": "bar",
           "x": [
            "ARG"
           ],
           "xaxis": "x",
           "y": [
            2
           ],
           "yaxis": "y"
          },
          {
           "alignmentgroup": "True",
           "hovertemplate": "pais=%{x}<br>registration_year_month=20215<br>count=%{y}<extra></extra>",
           "ids": [
            "BRA"
           ],
           "legendgroup": "BRA",
           "marker": {
            "color": "#ab63fa",
            "pattern": {
             "shape": ""
            }
           },
           "name": "BRA",
           "offsetgroup": "BRA",
           "orientation": "v",
           "showlegend": true,
           "textposition": "auto",
           "type": "bar",
           "x": [
            "BRA"
           ],
           "xaxis": "x",
           "y": [
            10
           ],
           "yaxis": "y"
          },
          {
           "alignmentgroup": "True",
           "hovertemplate": "pais=%{x}<br>registration_year_month=20215<br>count=%{y}<extra></extra>",
           "ids": [
            "ECU"
           ],
           "legendgroup": "ECU",
           "marker": {
            "color": "#B6E880",
            "pattern": {
             "shape": ""
            }
           },
           "name": "ECU",
           "offsetgroup": "ECU",
           "orientation": "v",
           "showlegend": true,
           "textposition": "auto",
           "type": "bar",
           "x": [
            "ECU"
           ],
           "xaxis": "x",
           "y": [
            56
           ],
           "yaxis": "y"
          },
          {
           "alignmentgroup": "True",
           "hovertemplate": "pais=%{x}<br>registration_year_month=20215<br>count=%{y}<extra></extra>",
           "ids": [
            "USA"
           ],
           "legendgroup": "USA",
           "marker": {
            "color": "#FF97FF",
            "pattern": {
             "shape": ""
            }
           },
           "name": "USA",
           "offsetgroup": "USA",
           "orientation": "v",
           "showlegend": true,
           "textposition": "auto",
           "type": "bar",
           "x": [
            "USA"
           ],
           "xaxis": "x",
           "y": [
            3
           ],
           "yaxis": "y"
          },
          {
           "alignmentgroup": "True",
           "hovertemplate": "pais=%{x}<br>registration_year_month=20215<br>count=%{y}<extra></extra>",
           "ids": [
            "CRI"
           ],
           "legendgroup": "CRI",
           "marker": {
            "color": "#FECB52",
            "pattern": {
             "shape": ""
            }
           },
           "name": "CRI",
           "offsetgroup": "CRI",
           "orientation": "v",
           "showlegend": true,
           "textposition": "auto",
           "type": "bar",
           "x": [
            "CRI"
           ],
           "xaxis": "x",
           "y": [
            16
           ],
           "yaxis": "y"
          },
          {
           "alignmentgroup": "True",
           "hovertemplate": "pais=%{x}<br>registration_year_month=20215<br>count=%{y}<extra></extra>",
           "ids": [
            "HND"
           ],
           "legendgroup": "HND",
           "marker": {
            "color": "#B6E880",
            "pattern": {
             "shape": ""
            }
           },
           "name": "HND",
           "offsetgroup": "HND",
           "orientation": "v",
           "showlegend": true,
           "textposition": "auto",
           "type": "bar",
           "x": [
            "HND"
           ],
           "xaxis": "x",
           "y": [
            1
           ],
           "yaxis": "y"
          },
          {
           "alignmentgroup": "True",
           "hovertemplate": "pais=%{x}<br>registration_year_month=20215<br>count=%{y}<extra></extra>",
           "ids": [
            "IDN"
           ],
           "legendgroup": "IDN",
           "marker": {
            "color": "#B6E880",
            "pattern": {
             "shape": ""
            }
           },
           "name": "IDN",
           "offsetgroup": "IDN",
           "orientation": "v",
           "showlegend": true,
           "textposition": "auto",
           "type": "bar",
           "x": [
            "IDN"
           ],
           "xaxis": "x",
           "y": [
            1
           ],
           "yaxis": "y"
          }
         ],
         "name": "20215"
        },
        {
         "data": [
          {
           "alignmentgroup": "True",
           "hovertemplate": "pais=%{x}<br>registration_year_month=20216<br>count=%{y}<extra></extra>",
           "ids": [
            "MEX"
           ],
           "legendgroup": "MEX",
           "marker": {
            "color": "#00cc96",
            "pattern": {
             "shape": ""
            }
           },
           "name": "MEX",
           "offsetgroup": "MEX",
           "orientation": "v",
           "showlegend": true,
           "textposition": "auto",
           "type": "bar",
           "x": [
            "MEX"
           ],
           "xaxis": "x",
           "y": [
            16
           ],
           "yaxis": "y"
          },
          {
           "alignmentgroup": "True",
           "hovertemplate": "pais=%{x}<br>registration_year_month=20216<br>count=%{y}<extra></extra>",
           "ids": [
            "BRA"
           ],
           "legendgroup": "BRA",
           "marker": {
            "color": "#ab63fa",
            "pattern": {
             "shape": ""
            }
           },
           "name": "BRA",
           "offsetgroup": "BRA",
           "orientation": "v",
           "showlegend": true,
           "textposition": "auto",
           "type": "bar",
           "x": [
            "BRA"
           ],
           "xaxis": "x",
           "y": [
            1
           ],
           "yaxis": "y"
          },
          {
           "alignmentgroup": "True",
           "hovertemplate": "pais=%{x}<br>registration_year_month=20216<br>count=%{y}<extra></extra>",
           "ids": [
            "USA"
           ],
           "legendgroup": "USA",
           "marker": {
            "color": "#FF97FF",
            "pattern": {
             "shape": ""
            }
           },
           "name": "USA",
           "offsetgroup": "USA",
           "orientation": "v",
           "showlegend": true,
           "textposition": "auto",
           "type": "bar",
           "x": [
            "USA"
           ],
           "xaxis": "x",
           "y": [
            2
           ],
           "yaxis": "y"
          },
          {
           "alignmentgroup": "True",
           "hovertemplate": "pais=%{x}<br>registration_year_month=20216<br>count=%{y}<extra></extra>",
           "ids": [
            "VNM"
           ],
           "legendgroup": "VNM",
           "marker": {
            "color": "#B6E880",
            "pattern": {
             "shape": ""
            }
           },
           "name": "VNM",
           "offsetgroup": "VNM",
           "orientation": "v",
           "showlegend": true,
           "textposition": "auto",
           "type": "bar",
           "x": [
            "VNM"
           ],
           "xaxis": "x",
           "y": [
            1
           ],
           "yaxis": "y"
          }
         ],
         "name": "20216"
        }
       ],
       "layout": {
        "barmode": "relative",
        "legend": {
         "title": {
          "text": "pais"
         },
         "tracegroupgap": 0
        },
        "margin": {
         "t": 60
        },
        "sliders": [
         {
          "active": 0,
          "currentvalue": {
           "prefix": "registration_year_month="
          },
          "len": 0.9,
          "pad": {
           "b": 10,
           "t": 60
          },
          "steps": [
           {
            "args": [
             [
              "201610"
             ],
             {
              "frame": {
               "duration": 0,
               "redraw": true
              },
              "fromcurrent": true,
              "mode": "immediate",
              "transition": {
               "duration": 0,
               "easing": "linear"
              }
             }
            ],
            "label": "201610",
            "method": "animate"
           },
           {
            "args": [
             [
              "201611"
             ],
             {
              "frame": {
               "duration": 0,
               "redraw": true
              },
              "fromcurrent": true,
              "mode": "immediate",
              "transition": {
               "duration": 0,
               "easing": "linear"
              }
             }
            ],
            "label": "201611",
            "method": "animate"
           },
           {
            "args": [
             [
              "201612"
             ],
             {
              "frame": {
               "duration": 0,
               "redraw": true
              },
              "fromcurrent": true,
              "mode": "immediate",
              "transition": {
               "duration": 0,
               "easing": "linear"
              }
             }
            ],
            "label": "201612",
            "method": "animate"
           },
           {
            "args": [
             [
              "20163"
             ],
             {
              "frame": {
               "duration": 0,
               "redraw": true
              },
              "fromcurrent": true,
              "mode": "immediate",
              "transition": {
               "duration": 0,
               "easing": "linear"
              }
             }
            ],
            "label": "20163",
            "method": "animate"
           },
           {
            "args": [
             [
              "20164"
             ],
             {
              "frame": {
               "duration": 0,
               "redraw": true
              },
              "fromcurrent": true,
              "mode": "immediate",
              "transition": {
               "duration": 0,
               "easing": "linear"
              }
             }
            ],
            "label": "20164",
            "method": "animate"
           },
           {
            "args": [
             [
              "20165"
             ],
             {
              "frame": {
               "duration": 0,
               "redraw": true
              },
              "fromcurrent": true,
              "mode": "immediate",
              "transition": {
               "duration": 0,
               "easing": "linear"
              }
             }
            ],
            "label": "20165",
            "method": "animate"
           },
           {
            "args": [
             [
              "20166"
             ],
             {
              "frame": {
               "duration": 0,
               "redraw": true
              },
              "fromcurrent": true,
              "mode": "immediate",
              "transition": {
               "duration": 0,
               "easing": "linear"
              }
             }
            ],
            "label": "20166",
            "method": "animate"
           },
           {
            "args": [
             [
              "20167"
             ],
             {
              "frame": {
               "duration": 0,
               "redraw": true
              },
              "fromcurrent": true,
              "mode": "immediate",
              "transition": {
               "duration": 0,
               "easing": "linear"
              }
             }
            ],
            "label": "20167",
            "method": "animate"
           },
           {
            "args": [
             [
              "20168"
             ],
             {
              "frame": {
               "duration": 0,
               "redraw": true
              },
              "fromcurrent": true,
              "mode": "immediate",
              "transition": {
               "duration": 0,
               "easing": "linear"
              }
             }
            ],
            "label": "20168",
            "method": "animate"
           },
           {
            "args": [
             [
              "20169"
             ],
             {
              "frame": {
               "duration": 0,
               "redraw": true
              },
              "fromcurrent": true,
              "mode": "immediate",
              "transition": {
               "duration": 0,
               "easing": "linear"
              }
             }
            ],
            "label": "20169",
            "method": "animate"
           },
           {
            "args": [
             [
              "20171"
             ],
             {
              "frame": {
               "duration": 0,
               "redraw": true
              },
              "fromcurrent": true,
              "mode": "immediate",
              "transition": {
               "duration": 0,
               "easing": "linear"
              }
             }
            ],
            "label": "20171",
            "method": "animate"
           },
           {
            "args": [
             [
              "201710"
             ],
             {
              "frame": {
               "duration": 0,
               "redraw": true
              },
              "fromcurrent": true,
              "mode": "immediate",
              "transition": {
               "duration": 0,
               "easing": "linear"
              }
             }
            ],
            "label": "201710",
            "method": "animate"
           },
           {
            "args": [
             [
              "201711"
             ],
             {
              "frame": {
               "duration": 0,
               "redraw": true
              },
              "fromcurrent": true,
              "mode": "immediate",
              "transition": {
               "duration": 0,
               "easing": "linear"
              }
             }
            ],
            "label": "201711",
            "method": "animate"
           },
           {
            "args": [
             [
              "201712"
             ],
             {
              "frame": {
               "duration": 0,
               "redraw": true
              },
              "fromcurrent": true,
              "mode": "immediate",
              "transition": {
               "duration": 0,
               "easing": "linear"
              }
             }
            ],
            "label": "201712",
            "method": "animate"
           },
           {
            "args": [
             [
              "20172"
             ],
             {
              "frame": {
               "duration": 0,
               "redraw": true
              },
              "fromcurrent": true,
              "mode": "immediate",
              "transition": {
               "duration": 0,
               "easing": "linear"
              }
             }
            ],
            "label": "20172",
            "method": "animate"
           },
           {
            "args": [
             [
              "20173"
             ],
             {
              "frame": {
               "duration": 0,
               "redraw": true
              },
              "fromcurrent": true,
              "mode": "immediate",
              "transition": {
               "duration": 0,
               "easing": "linear"
              }
             }
            ],
            "label": "20173",
            "method": "animate"
           },
           {
            "args": [
             [
              "20174"
             ],
             {
              "frame": {
               "duration": 0,
               "redraw": true
              },
              "fromcurrent": true,
              "mode": "immediate",
              "transition": {
               "duration": 0,
               "easing": "linear"
              }
             }
            ],
            "label": "20174",
            "method": "animate"
           },
           {
            "args": [
             [
              "20175"
             ],
             {
              "frame": {
               "duration": 0,
               "redraw": true
              },
              "fromcurrent": true,
              "mode": "immediate",
              "transition": {
               "duration": 0,
               "easing": "linear"
              }
             }
            ],
            "label": "20175",
            "method": "animate"
           },
           {
            "args": [
             [
              "20176"
             ],
             {
              "frame": {
               "duration": 0,
               "redraw": true
              },
              "fromcurrent": true,
              "mode": "immediate",
              "transition": {
               "duration": 0,
               "easing": "linear"
              }
             }
            ],
            "label": "20176",
            "method": "animate"
           },
           {
            "args": [
             [
              "20177"
             ],
             {
              "frame": {
               "duration": 0,
               "redraw": true
              },
              "fromcurrent": true,
              "mode": "immediate",
              "transition": {
               "duration": 0,
               "easing": "linear"
              }
             }
            ],
            "label": "20177",
            "method": "animate"
           },
           {
            "args": [
             [
              "20178"
             ],
             {
              "frame": {
               "duration": 0,
               "redraw": true
              },
              "fromcurrent": true,
              "mode": "immediate",
              "transition": {
               "duration": 0,
               "easing": "linear"
              }
             }
            ],
            "label": "20178",
            "method": "animate"
           },
           {
            "args": [
             [
              "20179"
             ],
             {
              "frame": {
               "duration": 0,
               "redraw": true
              },
              "fromcurrent": true,
              "mode": "immediate",
              "transition": {
               "duration": 0,
               "easing": "linear"
              }
             }
            ],
            "label": "20179",
            "method": "animate"
           },
           {
            "args": [
             [
              "20181"
             ],
             {
              "frame": {
               "duration": 0,
               "redraw": true
              },
              "fromcurrent": true,
              "mode": "immediate",
              "transition": {
               "duration": 0,
               "easing": "linear"
              }
             }
            ],
            "label": "20181",
            "method": "animate"
           },
           {
            "args": [
             [
              "201810"
             ],
             {
              "frame": {
               "duration": 0,
               "redraw": true
              },
              "fromcurrent": true,
              "mode": "immediate",
              "transition": {
               "duration": 0,
               "easing": "linear"
              }
             }
            ],
            "label": "201810",
            "method": "animate"
           },
           {
            "args": [
             [
              "201811"
             ],
             {
              "frame": {
               "duration": 0,
               "redraw": true
              },
              "fromcurrent": true,
              "mode": "immediate",
              "transition": {
               "duration": 0,
               "easing": "linear"
              }
             }
            ],
            "label": "201811",
            "method": "animate"
           },
           {
            "args": [
             [
              "201812"
             ],
             {
              "frame": {
               "duration": 0,
               "redraw": true
              },
              "fromcurrent": true,
              "mode": "immediate",
              "transition": {
               "duration": 0,
               "easing": "linear"
              }
             }
            ],
            "label": "201812",
            "method": "animate"
           },
           {
            "args": [
             [
              "20182"
             ],
             {
              "frame": {
               "duration": 0,
               "redraw": true
              },
              "fromcurrent": true,
              "mode": "immediate",
              "transition": {
               "duration": 0,
               "easing": "linear"
              }
             }
            ],
            "label": "20182",
            "method": "animate"
           },
           {
            "args": [
             [
              "20183"
             ],
             {
              "frame": {
               "duration": 0,
               "redraw": true
              },
              "fromcurrent": true,
              "mode": "immediate",
              "transition": {
               "duration": 0,
               "easing": "linear"
              }
             }
            ],
            "label": "20183",
            "method": "animate"
           },
           {
            "args": [
             [
              "20184"
             ],
             {
              "frame": {
               "duration": 0,
               "redraw": true
              },
              "fromcurrent": true,
              "mode": "immediate",
              "transition": {
               "duration": 0,
               "easing": "linear"
              }
             }
            ],
            "label": "20184",
            "method": "animate"
           },
           {
            "args": [
             [
              "20185"
             ],
             {
              "frame": {
               "duration": 0,
               "redraw": true
              },
              "fromcurrent": true,
              "mode": "immediate",
              "transition": {
               "duration": 0,
               "easing": "linear"
              }
             }
            ],
            "label": "20185",
            "method": "animate"
           },
           {
            "args": [
             [
              "20186"
             ],
             {
              "frame": {
               "duration": 0,
               "redraw": true
              },
              "fromcurrent": true,
              "mode": "immediate",
              "transition": {
               "duration": 0,
               "easing": "linear"
              }
             }
            ],
            "label": "20186",
            "method": "animate"
           },
           {
            "args": [
             [
              "20187"
             ],
             {
              "frame": {
               "duration": 0,
               "redraw": true
              },
              "fromcurrent": true,
              "mode": "immediate",
              "transition": {
               "duration": 0,
               "easing": "linear"
              }
             }
            ],
            "label": "20187",
            "method": "animate"
           },
           {
            "args": [
             [
              "20188"
             ],
             {
              "frame": {
               "duration": 0,
               "redraw": true
              },
              "fromcurrent": true,
              "mode": "immediate",
              "transition": {
               "duration": 0,
               "easing": "linear"
              }
             }
            ],
            "label": "20188",
            "method": "animate"
           },
           {
            "args": [
             [
              "20189"
             ],
             {
              "frame": {
               "duration": 0,
               "redraw": true
              },
              "fromcurrent": true,
              "mode": "immediate",
              "transition": {
               "duration": 0,
               "easing": "linear"
              }
             }
            ],
            "label": "20189",
            "method": "animate"
           },
           {
            "args": [
             [
              "20191"
             ],
             {
              "frame": {
               "duration": 0,
               "redraw": true
              },
              "fromcurrent": true,
              "mode": "immediate",
              "transition": {
               "duration": 0,
               "easing": "linear"
              }
             }
            ],
            "label": "20191",
            "method": "animate"
           },
           {
            "args": [
             [
              "201910"
             ],
             {
              "frame": {
               "duration": 0,
               "redraw": true
              },
              "fromcurrent": true,
              "mode": "immediate",
              "transition": {
               "duration": 0,
               "easing": "linear"
              }
             }
            ],
            "label": "201910",
            "method": "animate"
           },
           {
            "args": [
             [
              "201911"
             ],
             {
              "frame": {
               "duration": 0,
               "redraw": true
              },
              "fromcurrent": true,
              "mode": "immediate",
              "transition": {
               "duration": 0,
               "easing": "linear"
              }
             }
            ],
            "label": "201911",
            "method": "animate"
           },
           {
            "args": [
             [
              "201912"
             ],
             {
              "frame": {
               "duration": 0,
               "redraw": true
              },
              "fromcurrent": true,
              "mode": "immediate",
              "transition": {
               "duration": 0,
               "easing": "linear"
              }
             }
            ],
            "label": "201912",
            "method": "animate"
           },
           {
            "args": [
             [
              "20192"
             ],
             {
              "frame": {
               "duration": 0,
               "redraw": true
              },
              "fromcurrent": true,
              "mode": "immediate",
              "transition": {
               "duration": 0,
               "easing": "linear"
              }
             }
            ],
            "label": "20192",
            "method": "animate"
           },
           {
            "args": [
             [
              "20193"
             ],
             {
              "frame": {
               "duration": 0,
               "redraw": true
              },
              "fromcurrent": true,
              "mode": "immediate",
              "transition": {
               "duration": 0,
               "easing": "linear"
              }
             }
            ],
            "label": "20193",
            "method": "animate"
           },
           {
            "args": [
             [
              "20194"
             ],
             {
              "frame": {
               "duration": 0,
               "redraw": true
              },
              "fromcurrent": true,
              "mode": "immediate",
              "transition": {
               "duration": 0,
               "easing": "linear"
              }
             }
            ],
            "label": "20194",
            "method": "animate"
           },
           {
            "args": [
             [
              "20195"
             ],
             {
              "frame": {
               "duration": 0,
               "redraw": true
              },
              "fromcurrent": true,
              "mode": "immediate",
              "transition": {
               "duration": 0,
               "easing": "linear"
              }
             }
            ],
            "label": "20195",
            "method": "animate"
           },
           {
            "args": [
             [
              "20196"
             ],
             {
              "frame": {
               "duration": 0,
               "redraw": true
              },
              "fromcurrent": true,
              "mode": "immediate",
              "transition": {
               "duration": 0,
               "easing": "linear"
              }
             }
            ],
            "label": "20196",
            "method": "animate"
           },
           {
            "args": [
             [
              "20197"
             ],
             {
              "frame": {
               "duration": 0,
               "redraw": true
              },
              "fromcurrent": true,
              "mode": "immediate",
              "transition": {
               "duration": 0,
               "easing": "linear"
              }
             }
            ],
            "label": "20197",
            "method": "animate"
           },
           {
            "args": [
             [
              "20198"
             ],
             {
              "frame": {
               "duration": 0,
               "redraw": true
              },
              "fromcurrent": true,
              "mode": "immediate",
              "transition": {
               "duration": 0,
               "easing": "linear"
              }
             }
            ],
            "label": "20198",
            "method": "animate"
           },
           {
            "args": [
             [
              "20199"
             ],
             {
              "frame": {
               "duration": 0,
               "redraw": true
              },
              "fromcurrent": true,
              "mode": "immediate",
              "transition": {
               "duration": 0,
               "easing": "linear"
              }
             }
            ],
            "label": "20199",
            "method": "animate"
           },
           {
            "args": [
             [
              "20201"
             ],
             {
              "frame": {
               "duration": 0,
               "redraw": true
              },
              "fromcurrent": true,
              "mode": "immediate",
              "transition": {
               "duration": 0,
               "easing": "linear"
              }
             }
            ],
            "label": "20201",
            "method": "animate"
           },
           {
            "args": [
             [
              "202010"
             ],
             {
              "frame": {
               "duration": 0,
               "redraw": true
              },
              "fromcurrent": true,
              "mode": "immediate",
              "transition": {
               "duration": 0,
               "easing": "linear"
              }
             }
            ],
            "label": "202010",
            "method": "animate"
           },
           {
            "args": [
             [
              "202011"
             ],
             {
              "frame": {
               "duration": 0,
               "redraw": true
              },
              "fromcurrent": true,
              "mode": "immediate",
              "transition": {
               "duration": 0,
               "easing": "linear"
              }
             }
            ],
            "label": "202011",
            "method": "animate"
           },
           {
            "args": [
             [
              "202012"
             ],
             {
              "frame": {
               "duration": 0,
               "redraw": true
              },
              "fromcurrent": true,
              "mode": "immediate",
              "transition": {
               "duration": 0,
               "easing": "linear"
              }
             }
            ],
            "label": "202012",
            "method": "animate"
           },
           {
            "args": [
             [
              "20202"
             ],
             {
              "frame": {
               "duration": 0,
               "redraw": true
              },
              "fromcurrent": true,
              "mode": "immediate",
              "transition": {
               "duration": 0,
               "easing": "linear"
              }
             }
            ],
            "label": "20202",
            "method": "animate"
           },
           {
            "args": [
             [
              "20203"
             ],
             {
              "frame": {
               "duration": 0,
               "redraw": true
              },
              "fromcurrent": true,
              "mode": "immediate",
              "transition": {
               "duration": 0,
               "easing": "linear"
              }
             }
            ],
            "label": "20203",
            "method": "animate"
           },
           {
            "args": [
             [
              "20204"
             ],
             {
              "frame": {
               "duration": 0,
               "redraw": true
              },
              "fromcurrent": true,
              "mode": "immediate",
              "transition": {
               "duration": 0,
               "easing": "linear"
              }
             }
            ],
            "label": "20204",
            "method": "animate"
           },
           {
            "args": [
             [
              "20205"
             ],
             {
              "frame": {
               "duration": 0,
               "redraw": true
              },
              "fromcurrent": true,
              "mode": "immediate",
              "transition": {
               "duration": 0,
               "easing": "linear"
              }
             }
            ],
            "label": "20205",
            "method": "animate"
           },
           {
            "args": [
             [
              "20206"
             ],
             {
              "frame": {
               "duration": 0,
               "redraw": true
              },
              "fromcurrent": true,
              "mode": "immediate",
              "transition": {
               "duration": 0,
               "easing": "linear"
              }
             }
            ],
            "label": "20206",
            "method": "animate"
           },
           {
            "args": [
             [
              "20207"
             ],
             {
              "frame": {
               "duration": 0,
               "redraw": true
              },
              "fromcurrent": true,
              "mode": "immediate",
              "transition": {
               "duration": 0,
               "easing": "linear"
              }
             }
            ],
            "label": "20207",
            "method": "animate"
           },
           {
            "args": [
             [
              "20208"
             ],
             {
              "frame": {
               "duration": 0,
               "redraw": true
              },
              "fromcurrent": true,
              "mode": "immediate",
              "transition": {
               "duration": 0,
               "easing": "linear"
              }
             }
            ],
            "label": "20208",
            "method": "animate"
           },
           {
            "args": [
             [
              "20209"
             ],
             {
              "frame": {
               "duration": 0,
               "redraw": true
              },
              "fromcurrent": true,
              "mode": "immediate",
              "transition": {
               "duration": 0,
               "easing": "linear"
              }
             }
            ],
            "label": "20209",
            "method": "animate"
           },
           {
            "args": [
             [
              "20211"
             ],
             {
              "frame": {
               "duration": 0,
               "redraw": true
              },
              "fromcurrent": true,
              "mode": "immediate",
              "transition": {
               "duration": 0,
               "easing": "linear"
              }
             }
            ],
            "label": "20211",
            "method": "animate"
           },
           {
            "args": [
             [
              "20212"
             ],
             {
              "frame": {
               "duration": 0,
               "redraw": true
              },
              "fromcurrent": true,
              "mode": "immediate",
              "transition": {
               "duration": 0,
               "easing": "linear"
              }
             }
            ],
            "label": "20212",
            "method": "animate"
           },
           {
            "args": [
             [
              "20213"
             ],
             {
              "frame": {
               "duration": 0,
               "redraw": true
              },
              "fromcurrent": true,
              "mode": "immediate",
              "transition": {
               "duration": 0,
               "easing": "linear"
              }
             }
            ],
            "label": "20213",
            "method": "animate"
           },
           {
            "args": [
             [
              "20214"
             ],
             {
              "frame": {
               "duration": 0,
               "redraw": true
              },
              "fromcurrent": true,
              "mode": "immediate",
              "transition": {
               "duration": 0,
               "easing": "linear"
              }
             }
            ],
            "label": "20214",
            "method": "animate"
           },
           {
            "args": [
             [
              "20215"
             ],
             {
              "frame": {
               "duration": 0,
               "redraw": true
              },
              "fromcurrent": true,
              "mode": "immediate",
              "transition": {
               "duration": 0,
               "easing": "linear"
              }
             }
            ],
            "label": "20215",
            "method": "animate"
           },
           {
            "args": [
             [
              "20216"
             ],
             {
              "frame": {
               "duration": 0,
               "redraw": true
              },
              "fromcurrent": true,
              "mode": "immediate",
              "transition": {
               "duration": 0,
               "easing": "linear"
              }
             }
            ],
            "label": "20216",
            "method": "animate"
           }
          ],
          "x": 0.1,
          "xanchor": "left",
          "y": 0,
          "yanchor": "top"
         }
        ],
        "template": {
         "data": {
          "bar": [
           {
            "error_x": {
             "color": "#2a3f5f"
            },
            "error_y": {
             "color": "#2a3f5f"
            },
            "marker": {
             "line": {
              "color": "#E5ECF6",
              "width": 0.5
             },
             "pattern": {
              "fillmode": "overlay",
              "size": 10,
              "solidity": 0.2
             }
            },
            "type": "bar"
           }
          ],
          "barpolar": [
           {
            "marker": {
             "line": {
              "color": "#E5ECF6",
              "width": 0.5
             },
             "pattern": {
              "fillmode": "overlay",
              "size": 10,
              "solidity": 0.2
             }
            },
            "type": "barpolar"
           }
          ],
          "carpet": [
           {
            "aaxis": {
             "endlinecolor": "#2a3f5f",
             "gridcolor": "white",
             "linecolor": "white",
             "minorgridcolor": "white",
             "startlinecolor": "#2a3f5f"
            },
            "baxis": {
             "endlinecolor": "#2a3f5f",
             "gridcolor": "white",
             "linecolor": "white",
             "minorgridcolor": "white",
             "startlinecolor": "#2a3f5f"
            },
            "type": "carpet"
           }
          ],
          "choropleth": [
           {
            "colorbar": {
             "outlinewidth": 0,
             "ticks": ""
            },
            "type": "choropleth"
           }
          ],
          "contour": [
           {
            "colorbar": {
             "outlinewidth": 0,
             "ticks": ""
            },
            "colorscale": [
             [
              0,
              "#0d0887"
             ],
             [
              0.1111111111111111,
              "#46039f"
             ],
             [
              0.2222222222222222,
              "#7201a8"
             ],
             [
              0.3333333333333333,
              "#9c179e"
             ],
             [
              0.4444444444444444,
              "#bd3786"
             ],
             [
              0.5555555555555556,
              "#d8576b"
             ],
             [
              0.6666666666666666,
              "#ed7953"
             ],
             [
              0.7777777777777778,
              "#fb9f3a"
             ],
             [
              0.8888888888888888,
              "#fdca26"
             ],
             [
              1,
              "#f0f921"
             ]
            ],
            "type": "contour"
           }
          ],
          "contourcarpet": [
           {
            "colorbar": {
             "outlinewidth": 0,
             "ticks": ""
            },
            "type": "contourcarpet"
           }
          ],
          "heatmap": [
           {
            "colorbar": {
             "outlinewidth": 0,
             "ticks": ""
            },
            "colorscale": [
             [
              0,
              "#0d0887"
             ],
             [
              0.1111111111111111,
              "#46039f"
             ],
             [
              0.2222222222222222,
              "#7201a8"
             ],
             [
              0.3333333333333333,
              "#9c179e"
             ],
             [
              0.4444444444444444,
              "#bd3786"
             ],
             [
              0.5555555555555556,
              "#d8576b"
             ],
             [
              0.6666666666666666,
              "#ed7953"
             ],
             [
              0.7777777777777778,
              "#fb9f3a"
             ],
             [
              0.8888888888888888,
              "#fdca26"
             ],
             [
              1,
              "#f0f921"
             ]
            ],
            "type": "heatmap"
           }
          ],
          "heatmapgl": [
           {
            "colorbar": {
             "outlinewidth": 0,
             "ticks": ""
            },
            "colorscale": [
             [
              0,
              "#0d0887"
             ],
             [
              0.1111111111111111,
              "#46039f"
             ],
             [
              0.2222222222222222,
              "#7201a8"
             ],
             [
              0.3333333333333333,
              "#9c179e"
             ],
             [
              0.4444444444444444,
              "#bd3786"
             ],
             [
              0.5555555555555556,
              "#d8576b"
             ],
             [
              0.6666666666666666,
              "#ed7953"
             ],
             [
              0.7777777777777778,
              "#fb9f3a"
             ],
             [
              0.8888888888888888,
              "#fdca26"
             ],
             [
              1,
              "#f0f921"
             ]
            ],
            "type": "heatmapgl"
           }
          ],
          "histogram": [
           {
            "marker": {
             "pattern": {
              "fillmode": "overlay",
              "size": 10,
              "solidity": 0.2
             }
            },
            "type": "histogram"
           }
          ],
          "histogram2d": [
           {
            "colorbar": {
             "outlinewidth": 0,
             "ticks": ""
            },
            "colorscale": [
             [
              0,
              "#0d0887"
             ],
             [
              0.1111111111111111,
              "#46039f"
             ],
             [
              0.2222222222222222,
              "#7201a8"
             ],
             [
              0.3333333333333333,
              "#9c179e"
             ],
             [
              0.4444444444444444,
              "#bd3786"
             ],
             [
              0.5555555555555556,
              "#d8576b"
             ],
             [
              0.6666666666666666,
              "#ed7953"
             ],
             [
              0.7777777777777778,
              "#fb9f3a"
             ],
             [
              0.8888888888888888,
              "#fdca26"
             ],
             [
              1,
              "#f0f921"
             ]
            ],
            "type": "histogram2d"
           }
          ],
          "histogram2dcontour": [
           {
            "colorbar": {
             "outlinewidth": 0,
             "ticks": ""
            },
            "colorscale": [
             [
              0,
              "#0d0887"
             ],
             [
              0.1111111111111111,
              "#46039f"
             ],
             [
              0.2222222222222222,
              "#7201a8"
             ],
             [
              0.3333333333333333,
              "#9c179e"
             ],
             [
              0.4444444444444444,
              "#bd3786"
             ],
             [
              0.5555555555555556,
              "#d8576b"
             ],
             [
              0.6666666666666666,
              "#ed7953"
             ],
             [
              0.7777777777777778,
              "#fb9f3a"
             ],
             [
              0.8888888888888888,
              "#fdca26"
             ],
             [
              1,
              "#f0f921"
             ]
            ],
            "type": "histogram2dcontour"
           }
          ],
          "mesh3d": [
           {
            "colorbar": {
             "outlinewidth": 0,
             "ticks": ""
            },
            "type": "mesh3d"
           }
          ],
          "parcoords": [
           {
            "line": {
             "colorbar": {
              "outlinewidth": 0,
              "ticks": ""
             }
            },
            "type": "parcoords"
           }
          ],
          "pie": [
           {
            "automargin": true,
            "type": "pie"
           }
          ],
          "scatter": [
           {
            "marker": {
             "colorbar": {
              "outlinewidth": 0,
              "ticks": ""
             }
            },
            "type": "scatter"
           }
          ],
          "scatter3d": [
           {
            "line": {
             "colorbar": {
              "outlinewidth": 0,
              "ticks": ""
             }
            },
            "marker": {
             "colorbar": {
              "outlinewidth": 0,
              "ticks": ""
             }
            },
            "type": "scatter3d"
           }
          ],
          "scattercarpet": [
           {
            "marker": {
             "colorbar": {
              "outlinewidth": 0,
              "ticks": ""
             }
            },
            "type": "scattercarpet"
           }
          ],
          "scattergeo": [
           {
            "marker": {
             "colorbar": {
              "outlinewidth": 0,
              "ticks": ""
             }
            },
            "type": "scattergeo"
           }
          ],
          "scattergl": [
           {
            "marker": {
             "colorbar": {
              "outlinewidth": 0,
              "ticks": ""
             }
            },
            "type": "scattergl"
           }
          ],
          "scattermapbox": [
           {
            "marker": {
             "colorbar": {
              "outlinewidth": 0,
              "ticks": ""
             }
            },
            "type": "scattermapbox"
           }
          ],
          "scatterpolar": [
           {
            "marker": {
             "colorbar": {
              "outlinewidth": 0,
              "ticks": ""
             }
            },
            "type": "scatterpolar"
           }
          ],
          "scatterpolargl": [
           {
            "marker": {
             "colorbar": {
              "outlinewidth": 0,
              "ticks": ""
             }
            },
            "type": "scatterpolargl"
           }
          ],
          "scatterternary": [
           {
            "marker": {
             "colorbar": {
              "outlinewidth": 0,
              "ticks": ""
             }
            },
            "type": "scatterternary"
           }
          ],
          "surface": [
           {
            "colorbar": {
             "outlinewidth": 0,
             "ticks": ""
            },
            "colorscale": [
             [
              0,
              "#0d0887"
             ],
             [
              0.1111111111111111,
              "#46039f"
             ],
             [
              0.2222222222222222,
              "#7201a8"
             ],
             [
              0.3333333333333333,
              "#9c179e"
             ],
             [
              0.4444444444444444,
              "#bd3786"
             ],
             [
              0.5555555555555556,
              "#d8576b"
             ],
             [
              0.6666666666666666,
              "#ed7953"
             ],
             [
              0.7777777777777778,
              "#fb9f3a"
             ],
             [
              0.8888888888888888,
              "#fdca26"
             ],
             [
              1,
              "#f0f921"
             ]
            ],
            "type": "surface"
           }
          ],
          "table": [
           {
            "cells": {
             "fill": {
              "color": "#EBF0F8"
             },
             "line": {
              "color": "white"
             }
            },
            "header": {
             "fill": {
              "color": "#C8D4E3"
             },
             "line": {
              "color": "white"
             }
            },
            "type": "table"
           }
          ]
         },
         "layout": {
          "annotationdefaults": {
           "arrowcolor": "#2a3f5f",
           "arrowhead": 0,
           "arrowwidth": 1
          },
          "autotypenumbers": "strict",
          "coloraxis": {
           "colorbar": {
            "outlinewidth": 0,
            "ticks": ""
           }
          },
          "colorscale": {
           "diverging": [
            [
             0,
             "#8e0152"
            ],
            [
             0.1,
             "#c51b7d"
            ],
            [
             0.2,
             "#de77ae"
            ],
            [
             0.3,
             "#f1b6da"
            ],
            [
             0.4,
             "#fde0ef"
            ],
            [
             0.5,
             "#f7f7f7"
            ],
            [
             0.6,
             "#e6f5d0"
            ],
            [
             0.7,
             "#b8e186"
            ],
            [
             0.8,
             "#7fbc41"
            ],
            [
             0.9,
             "#4d9221"
            ],
            [
             1,
             "#276419"
            ]
           ],
           "sequential": [
            [
             0,
             "#0d0887"
            ],
            [
             0.1111111111111111,
             "#46039f"
            ],
            [
             0.2222222222222222,
             "#7201a8"
            ],
            [
             0.3333333333333333,
             "#9c179e"
            ],
            [
             0.4444444444444444,
             "#bd3786"
            ],
            [
             0.5555555555555556,
             "#d8576b"
            ],
            [
             0.6666666666666666,
             "#ed7953"
            ],
            [
             0.7777777777777778,
             "#fb9f3a"
            ],
            [
             0.8888888888888888,
             "#fdca26"
            ],
            [
             1,
             "#f0f921"
            ]
           ],
           "sequentialminus": [
            [
             0,
             "#0d0887"
            ],
            [
             0.1111111111111111,
             "#46039f"
            ],
            [
             0.2222222222222222,
             "#7201a8"
            ],
            [
             0.3333333333333333,
             "#9c179e"
            ],
            [
             0.4444444444444444,
             "#bd3786"
            ],
            [
             0.5555555555555556,
             "#d8576b"
            ],
            [
             0.6666666666666666,
             "#ed7953"
            ],
            [
             0.7777777777777778,
             "#fb9f3a"
            ],
            [
             0.8888888888888888,
             "#fdca26"
            ],
            [
             1,
             "#f0f921"
            ]
           ]
          },
          "colorway": [
           "#636efa",
           "#EF553B",
           "#00cc96",
           "#ab63fa",
           "#FFA15A",
           "#19d3f3",
           "#FF6692",
           "#B6E880",
           "#FF97FF",
           "#FECB52"
          ],
          "font": {
           "color": "#2a3f5f"
          },
          "geo": {
           "bgcolor": "white",
           "lakecolor": "white",
           "landcolor": "#E5ECF6",
           "showlakes": true,
           "showland": true,
           "subunitcolor": "white"
          },
          "hoverlabel": {
           "align": "left"
          },
          "hovermode": "closest",
          "mapbox": {
           "style": "light"
          },
          "paper_bgcolor": "white",
          "plot_bgcolor": "#E5ECF6",
          "polar": {
           "angularaxis": {
            "gridcolor": "white",
            "linecolor": "white",
            "ticks": ""
           },
           "bgcolor": "#E5ECF6",
           "radialaxis": {
            "gridcolor": "white",
            "linecolor": "white",
            "ticks": ""
           }
          },
          "scene": {
           "xaxis": {
            "backgroundcolor": "#E5ECF6",
            "gridcolor": "white",
            "gridwidth": 2,
            "linecolor": "white",
            "showbackground": true,
            "ticks": "",
            "zerolinecolor": "white"
           },
           "yaxis": {
            "backgroundcolor": "#E5ECF6",
            "gridcolor": "white",
            "gridwidth": 2,
            "linecolor": "white",
            "showbackground": true,
            "ticks": "",
            "zerolinecolor": "white"
           },
           "zaxis": {
            "backgroundcolor": "#E5ECF6",
            "gridcolor": "white",
            "gridwidth": 2,
            "linecolor": "white",
            "showbackground": true,
            "ticks": "",
            "zerolinecolor": "white"
           }
          },
          "shapedefaults": {
           "line": {
            "color": "#2a3f5f"
           }
          },
          "ternary": {
           "aaxis": {
            "gridcolor": "white",
            "linecolor": "white",
            "ticks": ""
           },
           "baxis": {
            "gridcolor": "white",
            "linecolor": "white",
            "ticks": ""
           },
           "bgcolor": "#E5ECF6",
           "caxis": {
            "gridcolor": "white",
            "linecolor": "white",
            "ticks": ""
           }
          },
          "title": {
           "x": 0.05
          },
          "xaxis": {
           "automargin": true,
           "gridcolor": "white",
           "linecolor": "white",
           "ticks": "",
           "title": {
            "standoff": 15
           },
           "zerolinecolor": "white",
           "zerolinewidth": 2
          },
          "yaxis": {
           "automargin": true,
           "gridcolor": "white",
           "linecolor": "white",
           "ticks": "",
           "title": {
            "standoff": 15
           },
           "zerolinecolor": "white",
           "zerolinewidth": 2
          }
         }
        },
        "title": {
         "text": "title_"
        },
        "updatemenus": [
         {
          "buttons": [
           {
            "args": [
             null,
             {
              "frame": {
               "duration": 500,
               "redraw": true
              },
              "fromcurrent": true,
              "mode": "immediate",
              "transition": {
               "duration": 500,
               "easing": "linear"
              }
             }
            ],
            "label": "&#9654;",
            "method": "animate"
           },
           {
            "args": [
             [
              null
             ],
             {
              "frame": {
               "duration": 0,
               "redraw": true
              },
              "fromcurrent": true,
              "mode": "immediate",
              "transition": {
               "duration": 0,
               "easing": "linear"
              }
             }
            ],
            "label": "&#9724;",
            "method": "animate"
           }
          ],
          "direction": "left",
          "pad": {
           "r": 10,
           "t": 70
          },
          "showactive": false,
          "type": "buttons",
          "x": 0.1,
          "xanchor": "right",
          "y": 0,
          "yanchor": "top"
         }
        ],
        "xaxis": {
         "anchor": "y",
         "categoryarray": [
          "DOM",
          "ESP",
          "MEX",
          "PER",
          "PHL",
          "PRI",
          "CHL",
          "COL",
          "GTM",
          "ARG",
          "URY",
          "VEN",
          "AND",
          "BRA",
          "FIN",
          "GBR",
          "CHN",
          "ECU",
          "USA",
          "CRI",
          "CZE",
          "PAN",
          "IRL",
          "ITA",
          "KGZ",
          "PRY",
          "AGO",
          "HND",
          "ROU",
          "SLV",
          "BOL",
          "MAR",
          "NIC",
          "DEU",
          "PRT",
          "NOR",
          "BGR",
          "RUS",
          "MYS",
          "TUR",
          "AFG",
          "THA",
          "FRA",
          "IND",
          "NZL",
          "AUS",
          "PAK",
          "VNM",
          "MMR",
          "ATA",
          "GRC",
          "BEL",
          "BHR",
          "FSM",
          "MNG",
          "CUB",
          "ISR",
          "IDN"
         ],
         "categoryorder": "array",
         "domain": [
          0,
          1
         ],
         "title": {
          "text": "pais"
         }
        },
        "yaxis": {
         "anchor": "x",
         "domain": [
          0,
          1
         ],
         "range": [
          0,
          1000
         ],
         "title": {
          "text": "count"
         }
        }
       }
      },
      "text/html": [
       "<div>                            <div id=\"442dbcea-cd7a-4053-a096-164cf19609b7\" class=\"plotly-graph-div\" style=\"height:525px; width:100%;\"></div>            <script type=\"text/javascript\">                require([\"plotly\"], function(Plotly) {                    window.PLOTLYENV=window.PLOTLYENV || {};                                    if (document.getElementById(\"442dbcea-cd7a-4053-a096-164cf19609b7\")) {                    Plotly.newPlot(                        \"442dbcea-cd7a-4053-a096-164cf19609b7\",                        [{\"alignmentgroup\":\"True\",\"hovertemplate\":\"pais=%{x}<br>registration_year_month=201610<br>count=%{y}<extra></extra>\",\"ids\":[\"DOM\"],\"legendgroup\":\"DOM\",\"marker\":{\"color\":\"#636efa\",\"pattern\":{\"shape\":\"\"}},\"name\":\"DOM\",\"offsetgroup\":\"DOM\",\"orientation\":\"v\",\"showlegend\":true,\"textposition\":\"auto\",\"type\":\"bar\",\"x\":[\"DOM\"],\"xaxis\":\"x\",\"y\":[1],\"yaxis\":\"y\"},{\"alignmentgroup\":\"True\",\"hovertemplate\":\"pais=%{x}<br>registration_year_month=201610<br>count=%{y}<extra></extra>\",\"ids\":[\"ESP\"],\"legendgroup\":\"ESP\",\"marker\":{\"color\":\"#EF553B\",\"pattern\":{\"shape\":\"\"}},\"name\":\"ESP\",\"offsetgroup\":\"ESP\",\"orientation\":\"v\",\"showlegend\":true,\"textposition\":\"auto\",\"type\":\"bar\",\"x\":[\"ESP\"],\"xaxis\":\"x\",\"y\":[66],\"yaxis\":\"y\"},{\"alignmentgroup\":\"True\",\"hovertemplate\":\"pais=%{x}<br>registration_year_month=201610<br>count=%{y}<extra></extra>\",\"ids\":[\"MEX\"],\"legendgroup\":\"MEX\",\"marker\":{\"color\":\"#00cc96\",\"pattern\":{\"shape\":\"\"}},\"name\":\"MEX\",\"offsetgroup\":\"MEX\",\"orientation\":\"v\",\"showlegend\":true,\"textposition\":\"auto\",\"type\":\"bar\",\"x\":[\"MEX\"],\"xaxis\":\"x\",\"y\":[58],\"yaxis\":\"y\"},{\"alignmentgroup\":\"True\",\"hovertemplate\":\"pais=%{x}<br>registration_year_month=201610<br>count=%{y}<extra></extra>\",\"ids\":[\"PER\"],\"legendgroup\":\"PER\",\"marker\":{\"color\":\"#ab63fa\",\"pattern\":{\"shape\":\"\"}},\"name\":\"PER\",\"offsetgroup\":\"PER\",\"orientation\":\"v\",\"showlegend\":true,\"textposition\":\"auto\",\"type\":\"bar\",\"x\":[\"PER\"],\"xaxis\":\"x\",\"y\":[1],\"yaxis\":\"y\"},{\"alignmentgroup\":\"True\",\"hovertemplate\":\"pais=%{x}<br>registration_year_month=201610<br>count=%{y}<extra></extra>\",\"ids\":[\"PHL\"],\"legendgroup\":\"PHL\",\"marker\":{\"color\":\"#FFA15A\",\"pattern\":{\"shape\":\"\"}},\"name\":\"PHL\",\"offsetgroup\":\"PHL\",\"orientation\":\"v\",\"showlegend\":true,\"textposition\":\"auto\",\"type\":\"bar\",\"x\":[\"PHL\"],\"xaxis\":\"x\",\"y\":[1],\"yaxis\":\"y\"},{\"alignmentgroup\":\"True\",\"hovertemplate\":\"pais=%{x}<br>registration_year_month=201610<br>count=%{y}<extra></extra>\",\"ids\":[\"PRI\"],\"legendgroup\":\"PRI\",\"marker\":{\"color\":\"#19d3f3\",\"pattern\":{\"shape\":\"\"}},\"name\":\"PRI\",\"offsetgroup\":\"PRI\",\"orientation\":\"v\",\"showlegend\":true,\"textposition\":\"auto\",\"type\":\"bar\",\"x\":[\"PRI\"],\"xaxis\":\"x\",\"y\":[1],\"yaxis\":\"y\"}],                        {\"barmode\":\"relative\",\"legend\":{\"title\":{\"text\":\"pais\"},\"tracegroupgap\":0},\"margin\":{\"t\":60},\"sliders\":[{\"active\":0,\"currentvalue\":{\"prefix\":\"registration_year_month=\"},\"len\":0.9,\"pad\":{\"b\":10,\"t\":60},\"steps\":[{\"args\":[[\"201610\"],{\"frame\":{\"duration\":0,\"redraw\":true},\"fromcurrent\":true,\"mode\":\"immediate\",\"transition\":{\"duration\":0,\"easing\":\"linear\"}}],\"label\":\"201610\",\"method\":\"animate\"},{\"args\":[[\"201611\"],{\"frame\":{\"duration\":0,\"redraw\":true},\"fromcurrent\":true,\"mode\":\"immediate\",\"transition\":{\"duration\":0,\"easing\":\"linear\"}}],\"label\":\"201611\",\"method\":\"animate\"},{\"args\":[[\"201612\"],{\"frame\":{\"duration\":0,\"redraw\":true},\"fromcurrent\":true,\"mode\":\"immediate\",\"transition\":{\"duration\":0,\"easing\":\"linear\"}}],\"label\":\"201612\",\"method\":\"animate\"},{\"args\":[[\"20163\"],{\"frame\":{\"duration\":0,\"redraw\":true},\"fromcurrent\":true,\"mode\":\"immediate\",\"transition\":{\"duration\":0,\"easing\":\"linear\"}}],\"label\":\"20163\",\"method\":\"animate\"},{\"args\":[[\"20164\"],{\"frame\":{\"duration\":0,\"redraw\":true},\"fromcurrent\":true,\"mode\":\"immediate\",\"transition\":{\"duration\":0,\"easing\":\"linear\"}}],\"label\":\"20164\",\"method\":\"animate\"},{\"args\":[[\"20165\"],{\"frame\":{\"duration\":0,\"redraw\":true},\"fromcurrent\":true,\"mode\":\"immediate\",\"transition\":{\"duration\":0,\"easing\":\"linear\"}}],\"label\":\"20165\",\"method\":\"animate\"},{\"args\":[[\"20166\"],{\"frame\":{\"duration\":0,\"redraw\":true},\"fromcurrent\":true,\"mode\":\"immediate\",\"transition\":{\"duration\":0,\"easing\":\"linear\"}}],\"label\":\"20166\",\"method\":\"animate\"},{\"args\":[[\"20167\"],{\"frame\":{\"duration\":0,\"redraw\":true},\"fromcurrent\":true,\"mode\":\"immediate\",\"transition\":{\"duration\":0,\"easing\":\"linear\"}}],\"label\":\"20167\",\"method\":\"animate\"},{\"args\":[[\"20168\"],{\"frame\":{\"duration\":0,\"redraw\":true},\"fromcurrent\":true,\"mode\":\"immediate\",\"transition\":{\"duration\":0,\"easing\":\"linear\"}}],\"label\":\"20168\",\"method\":\"animate\"},{\"args\":[[\"20169\"],{\"frame\":{\"duration\":0,\"redraw\":true},\"fromcurrent\":true,\"mode\":\"immediate\",\"transition\":{\"duration\":0,\"easing\":\"linear\"}}],\"label\":\"20169\",\"method\":\"animate\"},{\"args\":[[\"20171\"],{\"frame\":{\"duration\":0,\"redraw\":true},\"fromcurrent\":true,\"mode\":\"immediate\",\"transition\":{\"duration\":0,\"easing\":\"linear\"}}],\"label\":\"20171\",\"method\":\"animate\"},{\"args\":[[\"201710\"],{\"frame\":{\"duration\":0,\"redraw\":true},\"fromcurrent\":true,\"mode\":\"immediate\",\"transition\":{\"duration\":0,\"easing\":\"linear\"}}],\"label\":\"201710\",\"method\":\"animate\"},{\"args\":[[\"201711\"],{\"frame\":{\"duration\":0,\"redraw\":true},\"fromcurrent\":true,\"mode\":\"immediate\",\"transition\":{\"duration\":0,\"easing\":\"linear\"}}],\"label\":\"201711\",\"method\":\"animate\"},{\"args\":[[\"201712\"],{\"frame\":{\"duration\":0,\"redraw\":true},\"fromcurrent\":true,\"mode\":\"immediate\",\"transition\":{\"duration\":0,\"easing\":\"linear\"}}],\"label\":\"201712\",\"method\":\"animate\"},{\"args\":[[\"20172\"],{\"frame\":{\"duration\":0,\"redraw\":true},\"fromcurrent\":true,\"mode\":\"immediate\",\"transition\":{\"duration\":0,\"easing\":\"linear\"}}],\"label\":\"20172\",\"method\":\"animate\"},{\"args\":[[\"20173\"],{\"frame\":{\"duration\":0,\"redraw\":true},\"fromcurrent\":true,\"mode\":\"immediate\",\"transition\":{\"duration\":0,\"easing\":\"linear\"}}],\"label\":\"20173\",\"method\":\"animate\"},{\"args\":[[\"20174\"],{\"frame\":{\"duration\":0,\"redraw\":true},\"fromcurrent\":true,\"mode\":\"immediate\",\"transition\":{\"duration\":0,\"easing\":\"linear\"}}],\"label\":\"20174\",\"method\":\"animate\"},{\"args\":[[\"20175\"],{\"frame\":{\"duration\":0,\"redraw\":true},\"fromcurrent\":true,\"mode\":\"immediate\",\"transition\":{\"duration\":0,\"easing\":\"linear\"}}],\"label\":\"20175\",\"method\":\"animate\"},{\"args\":[[\"20176\"],{\"frame\":{\"duration\":0,\"redraw\":true},\"fromcurrent\":true,\"mode\":\"immediate\",\"transition\":{\"duration\":0,\"easing\":\"linear\"}}],\"label\":\"20176\",\"method\":\"animate\"},{\"args\":[[\"20177\"],{\"frame\":{\"duration\":0,\"redraw\":true},\"fromcurrent\":true,\"mode\":\"immediate\",\"transition\":{\"duration\":0,\"easing\":\"linear\"}}],\"label\":\"20177\",\"method\":\"animate\"},{\"args\":[[\"20178\"],{\"frame\":{\"duration\":0,\"redraw\":true},\"fromcurrent\":true,\"mode\":\"immediate\",\"transition\":{\"duration\":0,\"easing\":\"linear\"}}],\"label\":\"20178\",\"method\":\"animate\"},{\"args\":[[\"20179\"],{\"frame\":{\"duration\":0,\"redraw\":true},\"fromcurrent\":true,\"mode\":\"immediate\",\"transition\":{\"duration\":0,\"easing\":\"linear\"}}],\"label\":\"20179\",\"method\":\"animate\"},{\"args\":[[\"20181\"],{\"frame\":{\"duration\":0,\"redraw\":true},\"fromcurrent\":true,\"mode\":\"immediate\",\"transition\":{\"duration\":0,\"easing\":\"linear\"}}],\"label\":\"20181\",\"method\":\"animate\"},{\"args\":[[\"201810\"],{\"frame\":{\"duration\":0,\"redraw\":true},\"fromcurrent\":true,\"mode\":\"immediate\",\"transition\":{\"duration\":0,\"easing\":\"linear\"}}],\"label\":\"201810\",\"method\":\"animate\"},{\"args\":[[\"201811\"],{\"frame\":{\"duration\":0,\"redraw\":true},\"fromcurrent\":true,\"mode\":\"immediate\",\"transition\":{\"duration\":0,\"easing\":\"linear\"}}],\"label\":\"201811\",\"method\":\"animate\"},{\"args\":[[\"201812\"],{\"frame\":{\"duration\":0,\"redraw\":true},\"fromcurrent\":true,\"mode\":\"immediate\",\"transition\":{\"duration\":0,\"easing\":\"linear\"}}],\"label\":\"201812\",\"method\":\"animate\"},{\"args\":[[\"20182\"],{\"frame\":{\"duration\":0,\"redraw\":true},\"fromcurrent\":true,\"mode\":\"immediate\",\"transition\":{\"duration\":0,\"easing\":\"linear\"}}],\"label\":\"20182\",\"method\":\"animate\"},{\"args\":[[\"20183\"],{\"frame\":{\"duration\":0,\"redraw\":true},\"fromcurrent\":true,\"mode\":\"immediate\",\"transition\":{\"duration\":0,\"easing\":\"linear\"}}],\"label\":\"20183\",\"method\":\"animate\"},{\"args\":[[\"20184\"],{\"frame\":{\"duration\":0,\"redraw\":true},\"fromcurrent\":true,\"mode\":\"immediate\",\"transition\":{\"duration\":0,\"easing\":\"linear\"}}],\"label\":\"20184\",\"method\":\"animate\"},{\"args\":[[\"20185\"],{\"frame\":{\"duration\":0,\"redraw\":true},\"fromcurrent\":true,\"mode\":\"immediate\",\"transition\":{\"duration\":0,\"easing\":\"linear\"}}],\"label\":\"20185\",\"method\":\"animate\"},{\"args\":[[\"20186\"],{\"frame\":{\"duration\":0,\"redraw\":true},\"fromcurrent\":true,\"mode\":\"immediate\",\"transition\":{\"duration\":0,\"easing\":\"linear\"}}],\"label\":\"20186\",\"method\":\"animate\"},{\"args\":[[\"20187\"],{\"frame\":{\"duration\":0,\"redraw\":true},\"fromcurrent\":true,\"mode\":\"immediate\",\"transition\":{\"duration\":0,\"easing\":\"linear\"}}],\"label\":\"20187\",\"method\":\"animate\"},{\"args\":[[\"20188\"],{\"frame\":{\"duration\":0,\"redraw\":true},\"fromcurrent\":true,\"mode\":\"immediate\",\"transition\":{\"duration\":0,\"easing\":\"linear\"}}],\"label\":\"20188\",\"method\":\"animate\"},{\"args\":[[\"20189\"],{\"frame\":{\"duration\":0,\"redraw\":true},\"fromcurrent\":true,\"mode\":\"immediate\",\"transition\":{\"duration\":0,\"easing\":\"linear\"}}],\"label\":\"20189\",\"method\":\"animate\"},{\"args\":[[\"20191\"],{\"frame\":{\"duration\":0,\"redraw\":true},\"fromcurrent\":true,\"mode\":\"immediate\",\"transition\":{\"duration\":0,\"easing\":\"linear\"}}],\"label\":\"20191\",\"method\":\"animate\"},{\"args\":[[\"201910\"],{\"frame\":{\"duration\":0,\"redraw\":true},\"fromcurrent\":true,\"mode\":\"immediate\",\"transition\":{\"duration\":0,\"easing\":\"linear\"}}],\"label\":\"201910\",\"method\":\"animate\"},{\"args\":[[\"201911\"],{\"frame\":{\"duration\":0,\"redraw\":true},\"fromcurrent\":true,\"mode\":\"immediate\",\"transition\":{\"duration\":0,\"easing\":\"linear\"}}],\"label\":\"201911\",\"method\":\"animate\"},{\"args\":[[\"201912\"],{\"frame\":{\"duration\":0,\"redraw\":true},\"fromcurrent\":true,\"mode\":\"immediate\",\"transition\":{\"duration\":0,\"easing\":\"linear\"}}],\"label\":\"201912\",\"method\":\"animate\"},{\"args\":[[\"20192\"],{\"frame\":{\"duration\":0,\"redraw\":true},\"fromcurrent\":true,\"mode\":\"immediate\",\"transition\":{\"duration\":0,\"easing\":\"linear\"}}],\"label\":\"20192\",\"method\":\"animate\"},{\"args\":[[\"20193\"],{\"frame\":{\"duration\":0,\"redraw\":true},\"fromcurrent\":true,\"mode\":\"immediate\",\"transition\":{\"duration\":0,\"easing\":\"linear\"}}],\"label\":\"20193\",\"method\":\"animate\"},{\"args\":[[\"20194\"],{\"frame\":{\"duration\":0,\"redraw\":true},\"fromcurrent\":true,\"mode\":\"immediate\",\"transition\":{\"duration\":0,\"easing\":\"linear\"}}],\"label\":\"20194\",\"method\":\"animate\"},{\"args\":[[\"20195\"],{\"frame\":{\"duration\":0,\"redraw\":true},\"fromcurrent\":true,\"mode\":\"immediate\",\"transition\":{\"duration\":0,\"easing\":\"linear\"}}],\"label\":\"20195\",\"method\":\"animate\"},{\"args\":[[\"20196\"],{\"frame\":{\"duration\":0,\"redraw\":true},\"fromcurrent\":true,\"mode\":\"immediate\",\"transition\":{\"duration\":0,\"easing\":\"linear\"}}],\"label\":\"20196\",\"method\":\"animate\"},{\"args\":[[\"20197\"],{\"frame\":{\"duration\":0,\"redraw\":true},\"fromcurrent\":true,\"mode\":\"immediate\",\"transition\":{\"duration\":0,\"easing\":\"linear\"}}],\"label\":\"20197\",\"method\":\"animate\"},{\"args\":[[\"20198\"],{\"frame\":{\"duration\":0,\"redraw\":true},\"fromcurrent\":true,\"mode\":\"immediate\",\"transition\":{\"duration\":0,\"easing\":\"linear\"}}],\"label\":\"20198\",\"method\":\"animate\"},{\"args\":[[\"20199\"],{\"frame\":{\"duration\":0,\"redraw\":true},\"fromcurrent\":true,\"mode\":\"immediate\",\"transition\":{\"duration\":0,\"easing\":\"linear\"}}],\"label\":\"20199\",\"method\":\"animate\"},{\"args\":[[\"20201\"],{\"frame\":{\"duration\":0,\"redraw\":true},\"fromcurrent\":true,\"mode\":\"immediate\",\"transition\":{\"duration\":0,\"easing\":\"linear\"}}],\"label\":\"20201\",\"method\":\"animate\"},{\"args\":[[\"202010\"],{\"frame\":{\"duration\":0,\"redraw\":true},\"fromcurrent\":true,\"mode\":\"immediate\",\"transition\":{\"duration\":0,\"easing\":\"linear\"}}],\"label\":\"202010\",\"method\":\"animate\"},{\"args\":[[\"202011\"],{\"frame\":{\"duration\":0,\"redraw\":true},\"fromcurrent\":true,\"mode\":\"immediate\",\"transition\":{\"duration\":0,\"easing\":\"linear\"}}],\"label\":\"202011\",\"method\":\"animate\"},{\"args\":[[\"202012\"],{\"frame\":{\"duration\":0,\"redraw\":true},\"fromcurrent\":true,\"mode\":\"immediate\",\"transition\":{\"duration\":0,\"easing\":\"linear\"}}],\"label\":\"202012\",\"method\":\"animate\"},{\"args\":[[\"20202\"],{\"frame\":{\"duration\":0,\"redraw\":true},\"fromcurrent\":true,\"mode\":\"immediate\",\"transition\":{\"duration\":0,\"easing\":\"linear\"}}],\"label\":\"20202\",\"method\":\"animate\"},{\"args\":[[\"20203\"],{\"frame\":{\"duration\":0,\"redraw\":true},\"fromcurrent\":true,\"mode\":\"immediate\",\"transition\":{\"duration\":0,\"easing\":\"linear\"}}],\"label\":\"20203\",\"method\":\"animate\"},{\"args\":[[\"20204\"],{\"frame\":{\"duration\":0,\"redraw\":true},\"fromcurrent\":true,\"mode\":\"immediate\",\"transition\":{\"duration\":0,\"easing\":\"linear\"}}],\"label\":\"20204\",\"method\":\"animate\"},{\"args\":[[\"20205\"],{\"frame\":{\"duration\":0,\"redraw\":true},\"fromcurrent\":true,\"mode\":\"immediate\",\"transition\":{\"duration\":0,\"easing\":\"linear\"}}],\"label\":\"20205\",\"method\":\"animate\"},{\"args\":[[\"20206\"],{\"frame\":{\"duration\":0,\"redraw\":true},\"fromcurrent\":true,\"mode\":\"immediate\",\"transition\":{\"duration\":0,\"easing\":\"linear\"}}],\"label\":\"20206\",\"method\":\"animate\"},{\"args\":[[\"20207\"],{\"frame\":{\"duration\":0,\"redraw\":true},\"fromcurrent\":true,\"mode\":\"immediate\",\"transition\":{\"duration\":0,\"easing\":\"linear\"}}],\"label\":\"20207\",\"method\":\"animate\"},{\"args\":[[\"20208\"],{\"frame\":{\"duration\":0,\"redraw\":true},\"fromcurrent\":true,\"mode\":\"immediate\",\"transition\":{\"duration\":0,\"easing\":\"linear\"}}],\"label\":\"20208\",\"method\":\"animate\"},{\"args\":[[\"20209\"],{\"frame\":{\"duration\":0,\"redraw\":true},\"fromcurrent\":true,\"mode\":\"immediate\",\"transition\":{\"duration\":0,\"easing\":\"linear\"}}],\"label\":\"20209\",\"method\":\"animate\"},{\"args\":[[\"20211\"],{\"frame\":{\"duration\":0,\"redraw\":true},\"fromcurrent\":true,\"mode\":\"immediate\",\"transition\":{\"duration\":0,\"easing\":\"linear\"}}],\"label\":\"20211\",\"method\":\"animate\"},{\"args\":[[\"20212\"],{\"frame\":{\"duration\":0,\"redraw\":true},\"fromcurrent\":true,\"mode\":\"immediate\",\"transition\":{\"duration\":0,\"easing\":\"linear\"}}],\"label\":\"20212\",\"method\":\"animate\"},{\"args\":[[\"20213\"],{\"frame\":{\"duration\":0,\"redraw\":true},\"fromcurrent\":true,\"mode\":\"immediate\",\"transition\":{\"duration\":0,\"easing\":\"linear\"}}],\"label\":\"20213\",\"method\":\"animate\"},{\"args\":[[\"20214\"],{\"frame\":{\"duration\":0,\"redraw\":true},\"fromcurrent\":true,\"mode\":\"immediate\",\"transition\":{\"duration\":0,\"easing\":\"linear\"}}],\"label\":\"20214\",\"method\":\"animate\"},{\"args\":[[\"20215\"],{\"frame\":{\"duration\":0,\"redraw\":true},\"fromcurrent\":true,\"mode\":\"immediate\",\"transition\":{\"duration\":0,\"easing\":\"linear\"}}],\"label\":\"20215\",\"method\":\"animate\"},{\"args\":[[\"20216\"],{\"frame\":{\"duration\":0,\"redraw\":true},\"fromcurrent\":true,\"mode\":\"immediate\",\"transition\":{\"duration\":0,\"easing\":\"linear\"}}],\"label\":\"20216\",\"method\":\"animate\"}],\"x\":0.1,\"xanchor\":\"left\",\"y\":0,\"yanchor\":\"top\"}],\"template\":{\"data\":{\"bar\":[{\"error_x\":{\"color\":\"#2a3f5f\"},\"error_y\":{\"color\":\"#2a3f5f\"},\"marker\":{\"line\":{\"color\":\"#E5ECF6\",\"width\":0.5},\"pattern\":{\"fillmode\":\"overlay\",\"size\":10,\"solidity\":0.2}},\"type\":\"bar\"}],\"barpolar\":[{\"marker\":{\"line\":{\"color\":\"#E5ECF6\",\"width\":0.5},\"pattern\":{\"fillmode\":\"overlay\",\"size\":10,\"solidity\":0.2}},\"type\":\"barpolar\"}],\"carpet\":[{\"aaxis\":{\"endlinecolor\":\"#2a3f5f\",\"gridcolor\":\"white\",\"linecolor\":\"white\",\"minorgridcolor\":\"white\",\"startlinecolor\":\"#2a3f5f\"},\"baxis\":{\"endlinecolor\":\"#2a3f5f\",\"gridcolor\":\"white\",\"linecolor\":\"white\",\"minorgridcolor\":\"white\",\"startlinecolor\":\"#2a3f5f\"},\"type\":\"carpet\"}],\"choropleth\":[{\"colorbar\":{\"outlinewidth\":0,\"ticks\":\"\"},\"type\":\"choropleth\"}],\"contour\":[{\"colorbar\":{\"outlinewidth\":0,\"ticks\":\"\"},\"colorscale\":[[0.0,\"#0d0887\"],[0.1111111111111111,\"#46039f\"],[0.2222222222222222,\"#7201a8\"],[0.3333333333333333,\"#9c179e\"],[0.4444444444444444,\"#bd3786\"],[0.5555555555555556,\"#d8576b\"],[0.6666666666666666,\"#ed7953\"],[0.7777777777777778,\"#fb9f3a\"],[0.8888888888888888,\"#fdca26\"],[1.0,\"#f0f921\"]],\"type\":\"contour\"}],\"contourcarpet\":[{\"colorbar\":{\"outlinewidth\":0,\"ticks\":\"\"},\"type\":\"contourcarpet\"}],\"heatmap\":[{\"colorbar\":{\"outlinewidth\":0,\"ticks\":\"\"},\"colorscale\":[[0.0,\"#0d0887\"],[0.1111111111111111,\"#46039f\"],[0.2222222222222222,\"#7201a8\"],[0.3333333333333333,\"#9c179e\"],[0.4444444444444444,\"#bd3786\"],[0.5555555555555556,\"#d8576b\"],[0.6666666666666666,\"#ed7953\"],[0.7777777777777778,\"#fb9f3a\"],[0.8888888888888888,\"#fdca26\"],[1.0,\"#f0f921\"]],\"type\":\"heatmap\"}],\"heatmapgl\":[{\"colorbar\":{\"outlinewidth\":0,\"ticks\":\"\"},\"colorscale\":[[0.0,\"#0d0887\"],[0.1111111111111111,\"#46039f\"],[0.2222222222222222,\"#7201a8\"],[0.3333333333333333,\"#9c179e\"],[0.4444444444444444,\"#bd3786\"],[0.5555555555555556,\"#d8576b\"],[0.6666666666666666,\"#ed7953\"],[0.7777777777777778,\"#fb9f3a\"],[0.8888888888888888,\"#fdca26\"],[1.0,\"#f0f921\"]],\"type\":\"heatmapgl\"}],\"histogram\":[{\"marker\":{\"pattern\":{\"fillmode\":\"overlay\",\"size\":10,\"solidity\":0.2}},\"type\":\"histogram\"}],\"histogram2d\":[{\"colorbar\":{\"outlinewidth\":0,\"ticks\":\"\"},\"colorscale\":[[0.0,\"#0d0887\"],[0.1111111111111111,\"#46039f\"],[0.2222222222222222,\"#7201a8\"],[0.3333333333333333,\"#9c179e\"],[0.4444444444444444,\"#bd3786\"],[0.5555555555555556,\"#d8576b\"],[0.6666666666666666,\"#ed7953\"],[0.7777777777777778,\"#fb9f3a\"],[0.8888888888888888,\"#fdca26\"],[1.0,\"#f0f921\"]],\"type\":\"histogram2d\"}],\"histogram2dcontour\":[{\"colorbar\":{\"outlinewidth\":0,\"ticks\":\"\"},\"colorscale\":[[0.0,\"#0d0887\"],[0.1111111111111111,\"#46039f\"],[0.2222222222222222,\"#7201a8\"],[0.3333333333333333,\"#9c179e\"],[0.4444444444444444,\"#bd3786\"],[0.5555555555555556,\"#d8576b\"],[0.6666666666666666,\"#ed7953\"],[0.7777777777777778,\"#fb9f3a\"],[0.8888888888888888,\"#fdca26\"],[1.0,\"#f0f921\"]],\"type\":\"histogram2dcontour\"}],\"mesh3d\":[{\"colorbar\":{\"outlinewidth\":0,\"ticks\":\"\"},\"type\":\"mesh3d\"}],\"parcoords\":[{\"line\":{\"colorbar\":{\"outlinewidth\":0,\"ticks\":\"\"}},\"type\":\"parcoords\"}],\"pie\":[{\"automargin\":true,\"type\":\"pie\"}],\"scatter\":[{\"marker\":{\"colorbar\":{\"outlinewidth\":0,\"ticks\":\"\"}},\"type\":\"scatter\"}],\"scatter3d\":[{\"line\":{\"colorbar\":{\"outlinewidth\":0,\"ticks\":\"\"}},\"marker\":{\"colorbar\":{\"outlinewidth\":0,\"ticks\":\"\"}},\"type\":\"scatter3d\"}],\"scattercarpet\":[{\"marker\":{\"colorbar\":{\"outlinewidth\":0,\"ticks\":\"\"}},\"type\":\"scattercarpet\"}],\"scattergeo\":[{\"marker\":{\"colorbar\":{\"outlinewidth\":0,\"ticks\":\"\"}},\"type\":\"scattergeo\"}],\"scattergl\":[{\"marker\":{\"colorbar\":{\"outlinewidth\":0,\"ticks\":\"\"}},\"type\":\"scattergl\"}],\"scattermapbox\":[{\"marker\":{\"colorbar\":{\"outlinewidth\":0,\"ticks\":\"\"}},\"type\":\"scattermapbox\"}],\"scatterpolar\":[{\"marker\":{\"colorbar\":{\"outlinewidth\":0,\"ticks\":\"\"}},\"type\":\"scatterpolar\"}],\"scatterpolargl\":[{\"marker\":{\"colorbar\":{\"outlinewidth\":0,\"ticks\":\"\"}},\"type\":\"scatterpolargl\"}],\"scatterternary\":[{\"marker\":{\"colorbar\":{\"outlinewidth\":0,\"ticks\":\"\"}},\"type\":\"scatterternary\"}],\"surface\":[{\"colorbar\":{\"outlinewidth\":0,\"ticks\":\"\"},\"colorscale\":[[0.0,\"#0d0887\"],[0.1111111111111111,\"#46039f\"],[0.2222222222222222,\"#7201a8\"],[0.3333333333333333,\"#9c179e\"],[0.4444444444444444,\"#bd3786\"],[0.5555555555555556,\"#d8576b\"],[0.6666666666666666,\"#ed7953\"],[0.7777777777777778,\"#fb9f3a\"],[0.8888888888888888,\"#fdca26\"],[1.0,\"#f0f921\"]],\"type\":\"surface\"}],\"table\":[{\"cells\":{\"fill\":{\"color\":\"#EBF0F8\"},\"line\":{\"color\":\"white\"}},\"header\":{\"fill\":{\"color\":\"#C8D4E3\"},\"line\":{\"color\":\"white\"}},\"type\":\"table\"}]},\"layout\":{\"annotationdefaults\":{\"arrowcolor\":\"#2a3f5f\",\"arrowhead\":0,\"arrowwidth\":1},\"autotypenumbers\":\"strict\",\"coloraxis\":{\"colorbar\":{\"outlinewidth\":0,\"ticks\":\"\"}},\"colorscale\":{\"diverging\":[[0,\"#8e0152\"],[0.1,\"#c51b7d\"],[0.2,\"#de77ae\"],[0.3,\"#f1b6da\"],[0.4,\"#fde0ef\"],[0.5,\"#f7f7f7\"],[0.6,\"#e6f5d0\"],[0.7,\"#b8e186\"],[0.8,\"#7fbc41\"],[0.9,\"#4d9221\"],[1,\"#276419\"]],\"sequential\":[[0.0,\"#0d0887\"],[0.1111111111111111,\"#46039f\"],[0.2222222222222222,\"#7201a8\"],[0.3333333333333333,\"#9c179e\"],[0.4444444444444444,\"#bd3786\"],[0.5555555555555556,\"#d8576b\"],[0.6666666666666666,\"#ed7953\"],[0.7777777777777778,\"#fb9f3a\"],[0.8888888888888888,\"#fdca26\"],[1.0,\"#f0f921\"]],\"sequentialminus\":[[0.0,\"#0d0887\"],[0.1111111111111111,\"#46039f\"],[0.2222222222222222,\"#7201a8\"],[0.3333333333333333,\"#9c179e\"],[0.4444444444444444,\"#bd3786\"],[0.5555555555555556,\"#d8576b\"],[0.6666666666666666,\"#ed7953\"],[0.7777777777777778,\"#fb9f3a\"],[0.8888888888888888,\"#fdca26\"],[1.0,\"#f0f921\"]]},\"colorway\":[\"#636efa\",\"#EF553B\",\"#00cc96\",\"#ab63fa\",\"#FFA15A\",\"#19d3f3\",\"#FF6692\",\"#B6E880\",\"#FF97FF\",\"#FECB52\"],\"font\":{\"color\":\"#2a3f5f\"},\"geo\":{\"bgcolor\":\"white\",\"lakecolor\":\"white\",\"landcolor\":\"#E5ECF6\",\"showlakes\":true,\"showland\":true,\"subunitcolor\":\"white\"},\"hoverlabel\":{\"align\":\"left\"},\"hovermode\":\"closest\",\"mapbox\":{\"style\":\"light\"},\"paper_bgcolor\":\"white\",\"plot_bgcolor\":\"#E5ECF6\",\"polar\":{\"angularaxis\":{\"gridcolor\":\"white\",\"linecolor\":\"white\",\"ticks\":\"\"},\"bgcolor\":\"#E5ECF6\",\"radialaxis\":{\"gridcolor\":\"white\",\"linecolor\":\"white\",\"ticks\":\"\"}},\"scene\":{\"xaxis\":{\"backgroundcolor\":\"#E5ECF6\",\"gridcolor\":\"white\",\"gridwidth\":2,\"linecolor\":\"white\",\"showbackground\":true,\"ticks\":\"\",\"zerolinecolor\":\"white\"},\"yaxis\":{\"backgroundcolor\":\"#E5ECF6\",\"gridcolor\":\"white\",\"gridwidth\":2,\"linecolor\":\"white\",\"showbackground\":true,\"ticks\":\"\",\"zerolinecolor\":\"white\"},\"zaxis\":{\"backgroundcolor\":\"#E5ECF6\",\"gridcolor\":\"white\",\"gridwidth\":2,\"linecolor\":\"white\",\"showbackground\":true,\"ticks\":\"\",\"zerolinecolor\":\"white\"}},\"shapedefaults\":{\"line\":{\"color\":\"#2a3f5f\"}},\"ternary\":{\"aaxis\":{\"gridcolor\":\"white\",\"linecolor\":\"white\",\"ticks\":\"\"},\"baxis\":{\"gridcolor\":\"white\",\"linecolor\":\"white\",\"ticks\":\"\"},\"bgcolor\":\"#E5ECF6\",\"caxis\":{\"gridcolor\":\"white\",\"linecolor\":\"white\",\"ticks\":\"\"}},\"title\":{\"x\":0.05},\"xaxis\":{\"automargin\":true,\"gridcolor\":\"white\",\"linecolor\":\"white\",\"ticks\":\"\",\"title\":{\"standoff\":15},\"zerolinecolor\":\"white\",\"zerolinewidth\":2},\"yaxis\":{\"automargin\":true,\"gridcolor\":\"white\",\"linecolor\":\"white\",\"ticks\":\"\",\"title\":{\"standoff\":15},\"zerolinecolor\":\"white\",\"zerolinewidth\":2}}},\"title\":{\"text\":\"title_\"},\"updatemenus\":[{\"buttons\":[{\"args\":[null,{\"frame\":{\"duration\":500,\"redraw\":true},\"fromcurrent\":true,\"mode\":\"immediate\",\"transition\":{\"duration\":500,\"easing\":\"linear\"}}],\"label\":\"&#9654;\",\"method\":\"animate\"},{\"args\":[[null],{\"frame\":{\"duration\":0,\"redraw\":true},\"fromcurrent\":true,\"mode\":\"immediate\",\"transition\":{\"duration\":0,\"easing\":\"linear\"}}],\"label\":\"&#9724;\",\"method\":\"animate\"}],\"direction\":\"left\",\"pad\":{\"r\":10,\"t\":70},\"showactive\":false,\"type\":\"buttons\",\"x\":0.1,\"xanchor\":\"right\",\"y\":0,\"yanchor\":\"top\"}],\"xaxis\":{\"anchor\":\"y\",\"categoryarray\":[\"DOM\",\"ESP\",\"MEX\",\"PER\",\"PHL\",\"PRI\",\"CHL\",\"COL\",\"GTM\",\"ARG\",\"URY\",\"VEN\",\"AND\",\"BRA\",\"FIN\",\"GBR\",\"CHN\",\"ECU\",\"USA\",\"CRI\",\"CZE\",\"PAN\",\"IRL\",\"ITA\",\"KGZ\",\"PRY\",\"AGO\",\"HND\",\"ROU\",\"SLV\",\"BOL\",\"MAR\",\"NIC\",\"DEU\",\"PRT\",\"NOR\",\"BGR\",\"RUS\",\"MYS\",\"TUR\",\"AFG\",\"THA\",\"FRA\",\"IND\",\"NZL\",\"AUS\",\"PAK\",\"VNM\",\"MMR\",\"ATA\",\"GRC\",\"BEL\",\"BHR\",\"FSM\",\"MNG\",\"CUB\",\"ISR\",\"IDN\"],\"categoryorder\":\"array\",\"domain\":[0.0,1.0],\"title\":{\"text\":\"pais\"}},\"yaxis\":{\"anchor\":\"x\",\"domain\":[0.0,1.0],\"range\":[0,1000],\"title\":{\"text\":\"count\"}}},                        {\"responsive\": true}                    ).then(function(){\n",
       "                            Plotly.addFrames('442dbcea-cd7a-4053-a096-164cf19609b7', [{\"data\":[{\"alignmentgroup\":\"True\",\"hovertemplate\":\"pais=%{x}<br>registration_year_month=201610<br>count=%{y}<extra></extra>\",\"ids\":[\"DOM\"],\"legendgroup\":\"DOM\",\"marker\":{\"color\":\"#636efa\",\"pattern\":{\"shape\":\"\"}},\"name\":\"DOM\",\"offsetgroup\":\"DOM\",\"orientation\":\"v\",\"showlegend\":true,\"textposition\":\"auto\",\"type\":\"bar\",\"x\":[\"DOM\"],\"xaxis\":\"x\",\"y\":[1],\"yaxis\":\"y\"},{\"alignmentgroup\":\"True\",\"hovertemplate\":\"pais=%{x}<br>registration_year_month=201610<br>count=%{y}<extra></extra>\",\"ids\":[\"ESP\"],\"legendgroup\":\"ESP\",\"marker\":{\"color\":\"#EF553B\",\"pattern\":{\"shape\":\"\"}},\"name\":\"ESP\",\"offsetgroup\":\"ESP\",\"orientation\":\"v\",\"showlegend\":true,\"textposition\":\"auto\",\"type\":\"bar\",\"x\":[\"ESP\"],\"xaxis\":\"x\",\"y\":[66],\"yaxis\":\"y\"},{\"alignmentgroup\":\"True\",\"hovertemplate\":\"pais=%{x}<br>registration_year_month=201610<br>count=%{y}<extra></extra>\",\"ids\":[\"MEX\"],\"legendgroup\":\"MEX\",\"marker\":{\"color\":\"#00cc96\",\"pattern\":{\"shape\":\"\"}},\"name\":\"MEX\",\"offsetgroup\":\"MEX\",\"orientation\":\"v\",\"showlegend\":true,\"textposition\":\"auto\",\"type\":\"bar\",\"x\":[\"MEX\"],\"xaxis\":\"x\",\"y\":[58],\"yaxis\":\"y\"},{\"alignmentgroup\":\"True\",\"hovertemplate\":\"pais=%{x}<br>registration_year_month=201610<br>count=%{y}<extra></extra>\",\"ids\":[\"PER\"],\"legendgroup\":\"PER\",\"marker\":{\"color\":\"#ab63fa\",\"pattern\":{\"shape\":\"\"}},\"name\":\"PER\",\"offsetgroup\":\"PER\",\"orientation\":\"v\",\"showlegend\":true,\"textposition\":\"auto\",\"type\":\"bar\",\"x\":[\"PER\"],\"xaxis\":\"x\",\"y\":[1],\"yaxis\":\"y\"},{\"alignmentgroup\":\"True\",\"hovertemplate\":\"pais=%{x}<br>registration_year_month=201610<br>count=%{y}<extra></extra>\",\"ids\":[\"PHL\"],\"legendgroup\":\"PHL\",\"marker\":{\"color\":\"#FFA15A\",\"pattern\":{\"shape\":\"\"}},\"name\":\"PHL\",\"offsetgroup\":\"PHL\",\"orientation\":\"v\",\"showlegend\":true,\"textposition\":\"auto\",\"type\":\"bar\",\"x\":[\"PHL\"],\"xaxis\":\"x\",\"y\":[1],\"yaxis\":\"y\"},{\"alignmentgroup\":\"True\",\"hovertemplate\":\"pais=%{x}<br>registration_year_month=201610<br>count=%{y}<extra></extra>\",\"ids\":[\"PRI\"],\"legendgroup\":\"PRI\",\"marker\":{\"color\":\"#19d3f3\",\"pattern\":{\"shape\":\"\"}},\"name\":\"PRI\",\"offsetgroup\":\"PRI\",\"orientation\":\"v\",\"showlegend\":true,\"textposition\":\"auto\",\"type\":\"bar\",\"x\":[\"PRI\"],\"xaxis\":\"x\",\"y\":[1],\"yaxis\":\"y\"}],\"name\":\"201610\"},{\"data\":[{\"alignmentgroup\":\"True\",\"hovertemplate\":\"pais=%{x}<br>registration_year_month=201611<br>count=%{y}<extra></extra>\",\"ids\":[\"ESP\"],\"legendgroup\":\"ESP\",\"marker\":{\"color\":\"#EF553B\",\"pattern\":{\"shape\":\"\"}},\"name\":\"ESP\",\"offsetgroup\":\"ESP\",\"orientation\":\"v\",\"showlegend\":true,\"textposition\":\"auto\",\"type\":\"bar\",\"x\":[\"ESP\"],\"xaxis\":\"x\",\"y\":[52],\"yaxis\":\"y\"},{\"alignmentgroup\":\"True\",\"hovertemplate\":\"pais=%{x}<br>registration_year_month=201611<br>count=%{y}<extra></extra>\",\"ids\":[\"MEX\"],\"legendgroup\":\"MEX\",\"marker\":{\"color\":\"#00cc96\",\"pattern\":{\"shape\":\"\"}},\"name\":\"MEX\",\"offsetgroup\":\"MEX\",\"orientation\":\"v\",\"showlegend\":true,\"textposition\":\"auto\",\"type\":\"bar\",\"x\":[\"MEX\"],\"xaxis\":\"x\",\"y\":[26],\"yaxis\":\"y\"},{\"alignmentgroup\":\"True\",\"hovertemplate\":\"pais=%{x}<br>registration_year_month=201611<br>count=%{y}<extra></extra>\",\"ids\":[\"PER\"],\"legendgroup\":\"PER\",\"marker\":{\"color\":\"#ab63fa\",\"pattern\":{\"shape\":\"\"}},\"name\":\"PER\",\"offsetgroup\":\"PER\",\"orientation\":\"v\",\"showlegend\":true,\"textposition\":\"auto\",\"type\":\"bar\",\"x\":[\"PER\"],\"xaxis\":\"x\",\"y\":[2],\"yaxis\":\"y\"},{\"alignmentgroup\":\"True\",\"hovertemplate\":\"pais=%{x}<br>registration_year_month=201611<br>count=%{y}<extra></extra>\",\"ids\":[\"CHL\"],\"legendgroup\":\"CHL\",\"marker\":{\"color\":\"#FF6692\",\"pattern\":{\"shape\":\"\"}},\"name\":\"CHL\",\"offsetgroup\":\"CHL\",\"orientation\":\"v\",\"showlegend\":true,\"textposition\":\"auto\",\"type\":\"bar\",\"x\":[\"CHL\"],\"xaxis\":\"x\",\"y\":[1],\"yaxis\":\"y\"},{\"alignmentgroup\":\"True\",\"hovertemplate\":\"pais=%{x}<br>registration_year_month=201611<br>count=%{y}<extra></extra>\",\"ids\":[\"COL\"],\"legendgroup\":\"COL\",\"marker\":{\"color\":\"#B6E880\",\"pattern\":{\"shape\":\"\"}},\"name\":\"COL\",\"offsetgroup\":\"COL\",\"orientation\":\"v\",\"showlegend\":true,\"textposition\":\"auto\",\"type\":\"bar\",\"x\":[\"COL\"],\"xaxis\":\"x\",\"y\":[2],\"yaxis\":\"y\"},{\"alignmentgroup\":\"True\",\"hovertemplate\":\"pais=%{x}<br>registration_year_month=201611<br>count=%{y}<extra></extra>\",\"ids\":[\"GTM\"],\"legendgroup\":\"GTM\",\"marker\":{\"color\":\"#FF97FF\",\"pattern\":{\"shape\":\"\"}},\"name\":\"GTM\",\"offsetgroup\":\"GTM\",\"orientation\":\"v\",\"showlegend\":true,\"textposition\":\"auto\",\"type\":\"bar\",\"x\":[\"GTM\"],\"xaxis\":\"x\",\"y\":[1],\"yaxis\":\"y\"}],\"name\":\"201611\"},{\"data\":[{\"alignmentgroup\":\"True\",\"hovertemplate\":\"pais=%{x}<br>registration_year_month=201612<br>count=%{y}<extra></extra>\",\"ids\":[\"ESP\"],\"legendgroup\":\"ESP\",\"marker\":{\"color\":\"#EF553B\",\"pattern\":{\"shape\":\"\"}},\"name\":\"ESP\",\"offsetgroup\":\"ESP\",\"orientation\":\"v\",\"showlegend\":true,\"textposition\":\"auto\",\"type\":\"bar\",\"x\":[\"ESP\"],\"xaxis\":\"x\",\"y\":[60],\"yaxis\":\"y\"},{\"alignmentgroup\":\"True\",\"hovertemplate\":\"pais=%{x}<br>registration_year_month=201612<br>count=%{y}<extra></extra>\",\"ids\":[\"MEX\"],\"legendgroup\":\"MEX\",\"marker\":{\"color\":\"#00cc96\",\"pattern\":{\"shape\":\"\"}},\"name\":\"MEX\",\"offsetgroup\":\"MEX\",\"orientation\":\"v\",\"showlegend\":true,\"textposition\":\"auto\",\"type\":\"bar\",\"x\":[\"MEX\"],\"xaxis\":\"x\",\"y\":[28],\"yaxis\":\"y\"},{\"alignmentgroup\":\"True\",\"hovertemplate\":\"pais=%{x}<br>registration_year_month=201612<br>count=%{y}<extra></extra>\",\"ids\":[\"PER\"],\"legendgroup\":\"PER\",\"marker\":{\"color\":\"#ab63fa\",\"pattern\":{\"shape\":\"\"}},\"name\":\"PER\",\"offsetgroup\":\"PER\",\"orientation\":\"v\",\"showlegend\":true,\"textposition\":\"auto\",\"type\":\"bar\",\"x\":[\"PER\"],\"xaxis\":\"x\",\"y\":[14],\"yaxis\":\"y\"},{\"alignmentgroup\":\"True\",\"hovertemplate\":\"pais=%{x}<br>registration_year_month=201612<br>count=%{y}<extra></extra>\",\"ids\":[\"ARG\"],\"legendgroup\":\"ARG\",\"marker\":{\"color\":\"#FECB52\",\"pattern\":{\"shape\":\"\"}},\"name\":\"ARG\",\"offsetgroup\":\"ARG\",\"orientation\":\"v\",\"showlegend\":true,\"textposition\":\"auto\",\"type\":\"bar\",\"x\":[\"ARG\"],\"xaxis\":\"x\",\"y\":[4],\"yaxis\":\"y\"},{\"alignmentgroup\":\"True\",\"hovertemplate\":\"pais=%{x}<br>registration_year_month=201612<br>count=%{y}<extra></extra>\",\"ids\":[\"URY\"],\"legendgroup\":\"URY\",\"marker\":{\"color\":\"#636efa\",\"pattern\":{\"shape\":\"\"}},\"name\":\"URY\",\"offsetgroup\":\"URY\",\"orientation\":\"v\",\"showlegend\":true,\"textposition\":\"auto\",\"type\":\"bar\",\"x\":[\"URY\"],\"xaxis\":\"x\",\"y\":[1],\"yaxis\":\"y\"},{\"alignmentgroup\":\"True\",\"hovertemplate\":\"pais=%{x}<br>registration_year_month=201612<br>count=%{y}<extra></extra>\",\"ids\":[\"VEN\"],\"legendgroup\":\"VEN\",\"marker\":{\"color\":\"#EF553B\",\"pattern\":{\"shape\":\"\"}},\"name\":\"VEN\",\"offsetgroup\":\"VEN\",\"orientation\":\"v\",\"showlegend\":true,\"textposition\":\"auto\",\"type\":\"bar\",\"x\":[\"VEN\"],\"xaxis\":\"x\",\"y\":[1],\"yaxis\":\"y\"}],\"name\":\"201612\"},{\"data\":[{\"alignmentgroup\":\"True\",\"hovertemplate\":\"pais=%{x}<br>registration_year_month=20163<br>count=%{y}<extra></extra>\",\"ids\":[\"ESP\"],\"legendgroup\":\"ESP\",\"marker\":{\"color\":\"#EF553B\",\"pattern\":{\"shape\":\"\"}},\"name\":\"ESP\",\"offsetgroup\":\"ESP\",\"orientation\":\"v\",\"showlegend\":true,\"textposition\":\"auto\",\"type\":\"bar\",\"x\":[\"ESP\"],\"xaxis\":\"x\",\"y\":[75],\"yaxis\":\"y\"},{\"alignmentgroup\":\"True\",\"hovertemplate\":\"pais=%{x}<br>registration_year_month=20163<br>count=%{y}<extra></extra>\",\"ids\":[\"MEX\"],\"legendgroup\":\"MEX\",\"marker\":{\"color\":\"#00cc96\",\"pattern\":{\"shape\":\"\"}},\"name\":\"MEX\",\"offsetgroup\":\"MEX\",\"orientation\":\"v\",\"showlegend\":true,\"textposition\":\"auto\",\"type\":\"bar\",\"x\":[\"MEX\"],\"xaxis\":\"x\",\"y\":[12],\"yaxis\":\"y\"},{\"alignmentgroup\":\"True\",\"hovertemplate\":\"pais=%{x}<br>registration_year_month=20163<br>count=%{y}<extra></extra>\",\"ids\":[\"PER\"],\"legendgroup\":\"PER\",\"marker\":{\"color\":\"#ab63fa\",\"pattern\":{\"shape\":\"\"}},\"name\":\"PER\",\"offsetgroup\":\"PER\",\"orientation\":\"v\",\"showlegend\":true,\"textposition\":\"auto\",\"type\":\"bar\",\"x\":[\"PER\"],\"xaxis\":\"x\",\"y\":[2],\"yaxis\":\"y\"},{\"alignmentgroup\":\"True\",\"hovertemplate\":\"pais=%{x}<br>registration_year_month=20163<br>count=%{y}<extra></extra>\",\"ids\":[\"GTM\"],\"legendgroup\":\"GTM\",\"marker\":{\"color\":\"#FF97FF\",\"pattern\":{\"shape\":\"\"}},\"name\":\"GTM\",\"offsetgroup\":\"GTM\",\"orientation\":\"v\",\"showlegend\":true,\"textposition\":\"auto\",\"type\":\"bar\",\"x\":[\"GTM\"],\"xaxis\":\"x\",\"y\":[1],\"yaxis\":\"y\"},{\"alignmentgroup\":\"True\",\"hovertemplate\":\"pais=%{x}<br>registration_year_month=20163<br>count=%{y}<extra></extra>\",\"ids\":[\"ARG\"],\"legendgroup\":\"ARG\",\"marker\":{\"color\":\"#FECB52\",\"pattern\":{\"shape\":\"\"}},\"name\":\"ARG\",\"offsetgroup\":\"ARG\",\"orientation\":\"v\",\"showlegend\":true,\"textposition\":\"auto\",\"type\":\"bar\",\"x\":[\"ARG\"],\"xaxis\":\"x\",\"y\":[9],\"yaxis\":\"y\"},{\"alignmentgroup\":\"True\",\"hovertemplate\":\"pais=%{x}<br>registration_year_month=20163<br>count=%{y}<extra></extra>\",\"ids\":[\"AND\"],\"legendgroup\":\"AND\",\"marker\":{\"color\":\"#00cc96\",\"pattern\":{\"shape\":\"\"}},\"name\":\"AND\",\"offsetgroup\":\"AND\",\"orientation\":\"v\",\"showlegend\":true,\"textposition\":\"auto\",\"type\":\"bar\",\"x\":[\"AND\"],\"xaxis\":\"x\",\"y\":[3],\"yaxis\":\"y\"},{\"alignmentgroup\":\"True\",\"hovertemplate\":\"pais=%{x}<br>registration_year_month=20163<br>count=%{y}<extra></extra>\",\"ids\":[\"BRA\"],\"legendgroup\":\"BRA\",\"marker\":{\"color\":\"#ab63fa\",\"pattern\":{\"shape\":\"\"}},\"name\":\"BRA\",\"offsetgroup\":\"BRA\",\"orientation\":\"v\",\"showlegend\":true,\"textposition\":\"auto\",\"type\":\"bar\",\"x\":[\"BRA\"],\"xaxis\":\"x\",\"y\":[1],\"yaxis\":\"y\"},{\"alignmentgroup\":\"True\",\"hovertemplate\":\"pais=%{x}<br>registration_year_month=20163<br>count=%{y}<extra></extra>\",\"ids\":[\"FIN\"],\"legendgroup\":\"FIN\",\"marker\":{\"color\":\"#FFA15A\",\"pattern\":{\"shape\":\"\"}},\"name\":\"FIN\",\"offsetgroup\":\"FIN\",\"orientation\":\"v\",\"showlegend\":true,\"textposition\":\"auto\",\"type\":\"bar\",\"x\":[\"FIN\"],\"xaxis\":\"x\",\"y\":[1],\"yaxis\":\"y\"},{\"alignmentgroup\":\"True\",\"hovertemplate\":\"pais=%{x}<br>registration_year_month=20163<br>count=%{y}<extra></extra>\",\"ids\":[\"GBR\"],\"legendgroup\":\"GBR\",\"marker\":{\"color\":\"#19d3f3\",\"pattern\":{\"shape\":\"\"}},\"name\":\"GBR\",\"offsetgroup\":\"GBR\",\"orientation\":\"v\",\"showlegend\":true,\"textposition\":\"auto\",\"type\":\"bar\",\"x\":[\"GBR\"],\"xaxis\":\"x\",\"y\":[1],\"yaxis\":\"y\"}],\"name\":\"20163\"},{\"data\":[{\"alignmentgroup\":\"True\",\"hovertemplate\":\"pais=%{x}<br>registration_year_month=20164<br>count=%{y}<extra></extra>\",\"ids\":[\"ESP\"],\"legendgroup\":\"ESP\",\"marker\":{\"color\":\"#EF553B\",\"pattern\":{\"shape\":\"\"}},\"name\":\"ESP\",\"offsetgroup\":\"ESP\",\"orientation\":\"v\",\"showlegend\":true,\"textposition\":\"auto\",\"type\":\"bar\",\"x\":[\"ESP\"],\"xaxis\":\"x\",\"y\":[40],\"yaxis\":\"y\"},{\"alignmentgroup\":\"True\",\"hovertemplate\":\"pais=%{x}<br>registration_year_month=20164<br>count=%{y}<extra></extra>\",\"ids\":[\"MEX\"],\"legendgroup\":\"MEX\",\"marker\":{\"color\":\"#00cc96\",\"pattern\":{\"shape\":\"\"}},\"name\":\"MEX\",\"offsetgroup\":\"MEX\",\"orientation\":\"v\",\"showlegend\":true,\"textposition\":\"auto\",\"type\":\"bar\",\"x\":[\"MEX\"],\"xaxis\":\"x\",\"y\":[19],\"yaxis\":\"y\"},{\"alignmentgroup\":\"True\",\"hovertemplate\":\"pais=%{x}<br>registration_year_month=20164<br>count=%{y}<extra></extra>\",\"ids\":[\"PER\"],\"legendgroup\":\"PER\",\"marker\":{\"color\":\"#ab63fa\",\"pattern\":{\"shape\":\"\"}},\"name\":\"PER\",\"offsetgroup\":\"PER\",\"orientation\":\"v\",\"showlegend\":true,\"textposition\":\"auto\",\"type\":\"bar\",\"x\":[\"PER\"],\"xaxis\":\"x\",\"y\":[24],\"yaxis\":\"y\"},{\"alignmentgroup\":\"True\",\"hovertemplate\":\"pais=%{x}<br>registration_year_month=20164<br>count=%{y}<extra></extra>\",\"ids\":[\"CHL\"],\"legendgroup\":\"CHL\",\"marker\":{\"color\":\"#FF6692\",\"pattern\":{\"shape\":\"\"}},\"name\":\"CHL\",\"offsetgroup\":\"CHL\",\"orientation\":\"v\",\"showlegend\":true,\"textposition\":\"auto\",\"type\":\"bar\",\"x\":[\"CHL\"],\"xaxis\":\"x\",\"y\":[3],\"yaxis\":\"y\"},{\"alignmentgroup\":\"True\",\"hovertemplate\":\"pais=%{x}<br>registration_year_month=20164<br>count=%{y}<extra></extra>\",\"ids\":[\"COL\"],\"legendgroup\":\"COL\",\"marker\":{\"color\":\"#B6E880\",\"pattern\":{\"shape\":\"\"}},\"name\":\"COL\",\"offsetgroup\":\"COL\",\"orientation\":\"v\",\"showlegend\":true,\"textposition\":\"auto\",\"type\":\"bar\",\"x\":[\"COL\"],\"xaxis\":\"x\",\"y\":[6],\"yaxis\":\"y\"},{\"alignmentgroup\":\"True\",\"hovertemplate\":\"pais=%{x}<br>registration_year_month=20164<br>count=%{y}<extra></extra>\",\"ids\":[\"ARG\"],\"legendgroup\":\"ARG\",\"marker\":{\"color\":\"#FECB52\",\"pattern\":{\"shape\":\"\"}},\"name\":\"ARG\",\"offsetgroup\":\"ARG\",\"orientation\":\"v\",\"showlegend\":true,\"textposition\":\"auto\",\"type\":\"bar\",\"x\":[\"ARG\"],\"xaxis\":\"x\",\"y\":[9],\"yaxis\":\"y\"},{\"alignmentgroup\":\"True\",\"hovertemplate\":\"pais=%{x}<br>registration_year_month=20164<br>count=%{y}<extra></extra>\",\"ids\":[\"BRA\"],\"legendgroup\":\"BRA\",\"marker\":{\"color\":\"#ab63fa\",\"pattern\":{\"shape\":\"\"}},\"name\":\"BRA\",\"offsetgroup\":\"BRA\",\"orientation\":\"v\",\"showlegend\":true,\"textposition\":\"auto\",\"type\":\"bar\",\"x\":[\"BRA\"],\"xaxis\":\"x\",\"y\":[4],\"yaxis\":\"y\"}],\"name\":\"20164\"},{\"data\":[{\"alignmentgroup\":\"True\",\"hovertemplate\":\"pais=%{x}<br>registration_year_month=20165<br>count=%{y}<extra></extra>\",\"ids\":[\"ESP\"],\"legendgroup\":\"ESP\",\"marker\":{\"color\":\"#EF553B\",\"pattern\":{\"shape\":\"\"}},\"name\":\"ESP\",\"offsetgroup\":\"ESP\",\"orientation\":\"v\",\"showlegend\":true,\"textposition\":\"auto\",\"type\":\"bar\",\"x\":[\"ESP\"],\"xaxis\":\"x\",\"y\":[37],\"yaxis\":\"y\"},{\"alignmentgroup\":\"True\",\"hovertemplate\":\"pais=%{x}<br>registration_year_month=20165<br>count=%{y}<extra></extra>\",\"ids\":[\"MEX\"],\"legendgroup\":\"MEX\",\"marker\":{\"color\":\"#00cc96\",\"pattern\":{\"shape\":\"\"}},\"name\":\"MEX\",\"offsetgroup\":\"MEX\",\"orientation\":\"v\",\"showlegend\":true,\"textposition\":\"auto\",\"type\":\"bar\",\"x\":[\"MEX\"],\"xaxis\":\"x\",\"y\":[4],\"yaxis\":\"y\"},{\"alignmentgroup\":\"True\",\"hovertemplate\":\"pais=%{x}<br>registration_year_month=20165<br>count=%{y}<extra></extra>\",\"ids\":[\"PER\"],\"legendgroup\":\"PER\",\"marker\":{\"color\":\"#ab63fa\",\"pattern\":{\"shape\":\"\"}},\"name\":\"PER\",\"offsetgroup\":\"PER\",\"orientation\":\"v\",\"showlegend\":true,\"textposition\":\"auto\",\"type\":\"bar\",\"x\":[\"PER\"],\"xaxis\":\"x\",\"y\":[4],\"yaxis\":\"y\"},{\"alignmentgroup\":\"True\",\"hovertemplate\":\"pais=%{x}<br>registration_year_month=20165<br>count=%{y}<extra></extra>\",\"ids\":[\"GTM\"],\"legendgroup\":\"GTM\",\"marker\":{\"color\":\"#FF97FF\",\"pattern\":{\"shape\":\"\"}},\"name\":\"GTM\",\"offsetgroup\":\"GTM\",\"orientation\":\"v\",\"showlegend\":true,\"textposition\":\"auto\",\"type\":\"bar\",\"x\":[\"GTM\"],\"xaxis\":\"x\",\"y\":[1],\"yaxis\":\"y\"},{\"alignmentgroup\":\"True\",\"hovertemplate\":\"pais=%{x}<br>registration_year_month=20165<br>count=%{y}<extra></extra>\",\"ids\":[\"ARG\"],\"legendgroup\":\"ARG\",\"marker\":{\"color\":\"#FECB52\",\"pattern\":{\"shape\":\"\"}},\"name\":\"ARG\",\"offsetgroup\":\"ARG\",\"orientation\":\"v\",\"showlegend\":true,\"textposition\":\"auto\",\"type\":\"bar\",\"x\":[\"ARG\"],\"xaxis\":\"x\",\"y\":[16],\"yaxis\":\"y\"},{\"alignmentgroup\":\"True\",\"hovertemplate\":\"pais=%{x}<br>registration_year_month=20165<br>count=%{y}<extra></extra>\",\"ids\":[\"FIN\"],\"legendgroup\":\"FIN\",\"marker\":{\"color\":\"#FFA15A\",\"pattern\":{\"shape\":\"\"}},\"name\":\"FIN\",\"offsetgroup\":\"FIN\",\"orientation\":\"v\",\"showlegend\":true,\"textposition\":\"auto\",\"type\":\"bar\",\"x\":[\"FIN\"],\"xaxis\":\"x\",\"y\":[1],\"yaxis\":\"y\"}],\"name\":\"20165\"},{\"data\":[{\"alignmentgroup\":\"True\",\"hovertemplate\":\"pais=%{x}<br>registration_year_month=20166<br>count=%{y}<extra></extra>\",\"ids\":[\"ESP\"],\"legendgroup\":\"ESP\",\"marker\":{\"color\":\"#EF553B\",\"pattern\":{\"shape\":\"\"}},\"name\":\"ESP\",\"offsetgroup\":\"ESP\",\"orientation\":\"v\",\"showlegend\":true,\"textposition\":\"auto\",\"type\":\"bar\",\"x\":[\"ESP\"],\"xaxis\":\"x\",\"y\":[8],\"yaxis\":\"y\"},{\"alignmentgroup\":\"True\",\"hovertemplate\":\"pais=%{x}<br>registration_year_month=20166<br>count=%{y}<extra></extra>\",\"ids\":[\"MEX\"],\"legendgroup\":\"MEX\",\"marker\":{\"color\":\"#00cc96\",\"pattern\":{\"shape\":\"\"}},\"name\":\"MEX\",\"offsetgroup\":\"MEX\",\"orientation\":\"v\",\"showlegend\":true,\"textposition\":\"auto\",\"type\":\"bar\",\"x\":[\"MEX\"],\"xaxis\":\"x\",\"y\":[13],\"yaxis\":\"y\"},{\"alignmentgroup\":\"True\",\"hovertemplate\":\"pais=%{x}<br>registration_year_month=20166<br>count=%{y}<extra></extra>\",\"ids\":[\"COL\"],\"legendgroup\":\"COL\",\"marker\":{\"color\":\"#B6E880\",\"pattern\":{\"shape\":\"\"}},\"name\":\"COL\",\"offsetgroup\":\"COL\",\"orientation\":\"v\",\"showlegend\":true,\"textposition\":\"auto\",\"type\":\"bar\",\"x\":[\"COL\"],\"xaxis\":\"x\",\"y\":[1],\"yaxis\":\"y\"},{\"alignmentgroup\":\"True\",\"hovertemplate\":\"pais=%{x}<br>registration_year_month=20166<br>count=%{y}<extra></extra>\",\"ids\":[\"ARG\"],\"legendgroup\":\"ARG\",\"marker\":{\"color\":\"#FECB52\",\"pattern\":{\"shape\":\"\"}},\"name\":\"ARG\",\"offsetgroup\":\"ARG\",\"orientation\":\"v\",\"showlegend\":true,\"textposition\":\"auto\",\"type\":\"bar\",\"x\":[\"ARG\"],\"xaxis\":\"x\",\"y\":[1],\"yaxis\":\"y\"}],\"name\":\"20166\"},{\"data\":[{\"alignmentgroup\":\"True\",\"hovertemplate\":\"pais=%{x}<br>registration_year_month=20167<br>count=%{y}<extra></extra>\",\"ids\":[\"ESP\"],\"legendgroup\":\"ESP\",\"marker\":{\"color\":\"#EF553B\",\"pattern\":{\"shape\":\"\"}},\"name\":\"ESP\",\"offsetgroup\":\"ESP\",\"orientation\":\"v\",\"showlegend\":true,\"textposition\":\"auto\",\"type\":\"bar\",\"x\":[\"ESP\"],\"xaxis\":\"x\",\"y\":[43],\"yaxis\":\"y\"},{\"alignmentgroup\":\"True\",\"hovertemplate\":\"pais=%{x}<br>registration_year_month=20167<br>count=%{y}<extra></extra>\",\"ids\":[\"MEX\"],\"legendgroup\":\"MEX\",\"marker\":{\"color\":\"#00cc96\",\"pattern\":{\"shape\":\"\"}},\"name\":\"MEX\",\"offsetgroup\":\"MEX\",\"orientation\":\"v\",\"showlegend\":true,\"textposition\":\"auto\",\"type\":\"bar\",\"x\":[\"MEX\"],\"xaxis\":\"x\",\"y\":[5],\"yaxis\":\"y\"},{\"alignmentgroup\":\"True\",\"hovertemplate\":\"pais=%{x}<br>registration_year_month=20167<br>count=%{y}<extra></extra>\",\"ids\":[\"PER\"],\"legendgroup\":\"PER\",\"marker\":{\"color\":\"#ab63fa\",\"pattern\":{\"shape\":\"\"}},\"name\":\"PER\",\"offsetgroup\":\"PER\",\"orientation\":\"v\",\"showlegend\":true,\"textposition\":\"auto\",\"type\":\"bar\",\"x\":[\"PER\"],\"xaxis\":\"x\",\"y\":[2],\"yaxis\":\"y\"},{\"alignmentgroup\":\"True\",\"hovertemplate\":\"pais=%{x}<br>registration_year_month=20167<br>count=%{y}<extra></extra>\",\"ids\":[\"CHL\"],\"legendgroup\":\"CHL\",\"marker\":{\"color\":\"#FF6692\",\"pattern\":{\"shape\":\"\"}},\"name\":\"CHL\",\"offsetgroup\":\"CHL\",\"orientation\":\"v\",\"showlegend\":true,\"textposition\":\"auto\",\"type\":\"bar\",\"x\":[\"CHL\"],\"xaxis\":\"x\",\"y\":[1],\"yaxis\":\"y\"},{\"alignmentgroup\":\"True\",\"hovertemplate\":\"pais=%{x}<br>registration_year_month=20167<br>count=%{y}<extra></extra>\",\"ids\":[\"CHN\"],\"legendgroup\":\"CHN\",\"marker\":{\"color\":\"#FF6692\",\"pattern\":{\"shape\":\"\"}},\"name\":\"CHN\",\"offsetgroup\":\"CHN\",\"orientation\":\"v\",\"showlegend\":true,\"textposition\":\"auto\",\"type\":\"bar\",\"x\":[\"CHN\"],\"xaxis\":\"x\",\"y\":[1],\"yaxis\":\"y\"},{\"alignmentgroup\":\"True\",\"hovertemplate\":\"pais=%{x}<br>registration_year_month=20167<br>count=%{y}<extra></extra>\",\"ids\":[\"ECU\"],\"legendgroup\":\"ECU\",\"marker\":{\"color\":\"#B6E880\",\"pattern\":{\"shape\":\"\"}},\"name\":\"ECU\",\"offsetgroup\":\"ECU\",\"orientation\":\"v\",\"showlegend\":true,\"textposition\":\"auto\",\"type\":\"bar\",\"x\":[\"ECU\"],\"xaxis\":\"x\",\"y\":[1],\"yaxis\":\"y\"},{\"alignmentgroup\":\"True\",\"hovertemplate\":\"pais=%{x}<br>registration_year_month=20167<br>count=%{y}<extra></extra>\",\"ids\":[\"USA\"],\"legendgroup\":\"USA\",\"marker\":{\"color\":\"#FF97FF\",\"pattern\":{\"shape\":\"\"}},\"name\":\"USA\",\"offsetgroup\":\"USA\",\"orientation\":\"v\",\"showlegend\":true,\"textposition\":\"auto\",\"type\":\"bar\",\"x\":[\"USA\"],\"xaxis\":\"x\",\"y\":[1],\"yaxis\":\"y\"}],\"name\":\"20167\"},{\"data\":[{\"alignmentgroup\":\"True\",\"hovertemplate\":\"pais=%{x}<br>registration_year_month=20168<br>count=%{y}<extra></extra>\",\"ids\":[\"ESP\"],\"legendgroup\":\"ESP\",\"marker\":{\"color\":\"#EF553B\",\"pattern\":{\"shape\":\"\"}},\"name\":\"ESP\",\"offsetgroup\":\"ESP\",\"orientation\":\"v\",\"showlegend\":true,\"textposition\":\"auto\",\"type\":\"bar\",\"x\":[\"ESP\"],\"xaxis\":\"x\",\"y\":[41],\"yaxis\":\"y\"},{\"alignmentgroup\":\"True\",\"hovertemplate\":\"pais=%{x}<br>registration_year_month=20168<br>count=%{y}<extra></extra>\",\"ids\":[\"MEX\"],\"legendgroup\":\"MEX\",\"marker\":{\"color\":\"#00cc96\",\"pattern\":{\"shape\":\"\"}},\"name\":\"MEX\",\"offsetgroup\":\"MEX\",\"orientation\":\"v\",\"showlegend\":true,\"textposition\":\"auto\",\"type\":\"bar\",\"x\":[\"MEX\"],\"xaxis\":\"x\",\"y\":[3],\"yaxis\":\"y\"},{\"alignmentgroup\":\"True\",\"hovertemplate\":\"pais=%{x}<br>registration_year_month=20168<br>count=%{y}<extra></extra>\",\"ids\":[\"PER\"],\"legendgroup\":\"PER\",\"marker\":{\"color\":\"#ab63fa\",\"pattern\":{\"shape\":\"\"}},\"name\":\"PER\",\"offsetgroup\":\"PER\",\"orientation\":\"v\",\"showlegend\":true,\"textposition\":\"auto\",\"type\":\"bar\",\"x\":[\"PER\"],\"xaxis\":\"x\",\"y\":[7],\"yaxis\":\"y\"},{\"alignmentgroup\":\"True\",\"hovertemplate\":\"pais=%{x}<br>registration_year_month=20168<br>count=%{y}<extra></extra>\",\"ids\":[\"COL\"],\"legendgroup\":\"COL\",\"marker\":{\"color\":\"#B6E880\",\"pattern\":{\"shape\":\"\"}},\"name\":\"COL\",\"offsetgroup\":\"COL\",\"orientation\":\"v\",\"showlegend\":true,\"textposition\":\"auto\",\"type\":\"bar\",\"x\":[\"COL\"],\"xaxis\":\"x\",\"y\":[8],\"yaxis\":\"y\"},{\"alignmentgroup\":\"True\",\"hovertemplate\":\"pais=%{x}<br>registration_year_month=20168<br>count=%{y}<extra></extra>\",\"ids\":[\"ARG\"],\"legendgroup\":\"ARG\",\"marker\":{\"color\":\"#FECB52\",\"pattern\":{\"shape\":\"\"}},\"name\":\"ARG\",\"offsetgroup\":\"ARG\",\"orientation\":\"v\",\"showlegend\":true,\"textposition\":\"auto\",\"type\":\"bar\",\"x\":[\"ARG\"],\"xaxis\":\"x\",\"y\":[6],\"yaxis\":\"y\"},{\"alignmentgroup\":\"True\",\"hovertemplate\":\"pais=%{x}<br>registration_year_month=20168<br>count=%{y}<extra></extra>\",\"ids\":[\"URY\"],\"legendgroup\":\"URY\",\"marker\":{\"color\":\"#636efa\",\"pattern\":{\"shape\":\"\"}},\"name\":\"URY\",\"offsetgroup\":\"URY\",\"orientation\":\"v\",\"showlegend\":true,\"textposition\":\"auto\",\"type\":\"bar\",\"x\":[\"URY\"],\"xaxis\":\"x\",\"y\":[1],\"yaxis\":\"y\"},{\"alignmentgroup\":\"True\",\"hovertemplate\":\"pais=%{x}<br>registration_year_month=20168<br>count=%{y}<extra></extra>\",\"ids\":[\"VEN\"],\"legendgroup\":\"VEN\",\"marker\":{\"color\":\"#EF553B\",\"pattern\":{\"shape\":\"\"}},\"name\":\"VEN\",\"offsetgroup\":\"VEN\",\"orientation\":\"v\",\"showlegend\":true,\"textposition\":\"auto\",\"type\":\"bar\",\"x\":[\"VEN\"],\"xaxis\":\"x\",\"y\":[2],\"yaxis\":\"y\"},{\"alignmentgroup\":\"True\",\"hovertemplate\":\"pais=%{x}<br>registration_year_month=20168<br>count=%{y}<extra></extra>\",\"ids\":[\"ECU\"],\"legendgroup\":\"ECU\",\"marker\":{\"color\":\"#B6E880\",\"pattern\":{\"shape\":\"\"}},\"name\":\"ECU\",\"offsetgroup\":\"ECU\",\"orientation\":\"v\",\"showlegend\":true,\"textposition\":\"auto\",\"type\":\"bar\",\"x\":[\"ECU\"],\"xaxis\":\"x\",\"y\":[1],\"yaxis\":\"y\"},{\"alignmentgroup\":\"True\",\"hovertemplate\":\"pais=%{x}<br>registration_year_month=20168<br>count=%{y}<extra></extra>\",\"ids\":[\"USA\"],\"legendgroup\":\"USA\",\"marker\":{\"color\":\"#FF97FF\",\"pattern\":{\"shape\":\"\"}},\"name\":\"USA\",\"offsetgroup\":\"USA\",\"orientation\":\"v\",\"showlegend\":true,\"textposition\":\"auto\",\"type\":\"bar\",\"x\":[\"USA\"],\"xaxis\":\"x\",\"y\":[1],\"yaxis\":\"y\"},{\"alignmentgroup\":\"True\",\"hovertemplate\":\"pais=%{x}<br>registration_year_month=20168<br>count=%{y}<extra></extra>\",\"ids\":[\"CRI\"],\"legendgroup\":\"CRI\",\"marker\":{\"color\":\"#FECB52\",\"pattern\":{\"shape\":\"\"}},\"name\":\"CRI\",\"offsetgroup\":\"CRI\",\"orientation\":\"v\",\"showlegend\":true,\"textposition\":\"auto\",\"type\":\"bar\",\"x\":[\"CRI\"],\"xaxis\":\"x\",\"y\":[1],\"yaxis\":\"y\"},{\"alignmentgroup\":\"True\",\"hovertemplate\":\"pais=%{x}<br>registration_year_month=20168<br>count=%{y}<extra></extra>\",\"ids\":[\"CZE\"],\"legendgroup\":\"CZE\",\"marker\":{\"color\":\"#636efa\",\"pattern\":{\"shape\":\"\"}},\"name\":\"CZE\",\"offsetgroup\":\"CZE\",\"orientation\":\"v\",\"showlegend\":true,\"textposition\":\"auto\",\"type\":\"bar\",\"x\":[\"CZE\"],\"xaxis\":\"x\",\"y\":[1],\"yaxis\":\"y\"},{\"alignmentgroup\":\"True\",\"hovertemplate\":\"pais=%{x}<br>registration_year_month=20168<br>count=%{y}<extra></extra>\",\"ids\":[\"PAN\"],\"legendgroup\":\"PAN\",\"marker\":{\"color\":\"#EF553B\",\"pattern\":{\"shape\":\"\"}},\"name\":\"PAN\",\"offsetgroup\":\"PAN\",\"orientation\":\"v\",\"showlegend\":true,\"textposition\":\"auto\",\"type\":\"bar\",\"x\":[\"PAN\"],\"xaxis\":\"x\",\"y\":[1],\"yaxis\":\"y\"}],\"name\":\"20168\"},{\"data\":[{\"alignmentgroup\":\"True\",\"hovertemplate\":\"pais=%{x}<br>registration_year_month=20169<br>count=%{y}<extra></extra>\",\"ids\":[\"ESP\"],\"legendgroup\":\"ESP\",\"marker\":{\"color\":\"#EF553B\",\"pattern\":{\"shape\":\"\"}},\"name\":\"ESP\",\"offsetgroup\":\"ESP\",\"orientation\":\"v\",\"showlegend\":true,\"textposition\":\"auto\",\"type\":\"bar\",\"x\":[\"ESP\"],\"xaxis\":\"x\",\"y\":[49],\"yaxis\":\"y\"},{\"alignmentgroup\":\"True\",\"hovertemplate\":\"pais=%{x}<br>registration_year_month=20169<br>count=%{y}<extra></extra>\",\"ids\":[\"MEX\"],\"legendgroup\":\"MEX\",\"marker\":{\"color\":\"#00cc96\",\"pattern\":{\"shape\":\"\"}},\"name\":\"MEX\",\"offsetgroup\":\"MEX\",\"orientation\":\"v\",\"showlegend\":true,\"textposition\":\"auto\",\"type\":\"bar\",\"x\":[\"MEX\"],\"xaxis\":\"x\",\"y\":[15],\"yaxis\":\"y\"},{\"alignmentgroup\":\"True\",\"hovertemplate\":\"pais=%{x}<br>registration_year_month=20169<br>count=%{y}<extra></extra>\",\"ids\":[\"PER\"],\"legendgroup\":\"PER\",\"marker\":{\"color\":\"#ab63fa\",\"pattern\":{\"shape\":\"\"}},\"name\":\"PER\",\"offsetgroup\":\"PER\",\"orientation\":\"v\",\"showlegend\":true,\"textposition\":\"auto\",\"type\":\"bar\",\"x\":[\"PER\"],\"xaxis\":\"x\",\"y\":[7],\"yaxis\":\"y\"},{\"alignmentgroup\":\"True\",\"hovertemplate\":\"pais=%{x}<br>registration_year_month=20169<br>count=%{y}<extra></extra>\",\"ids\":[\"CHL\"],\"legendgroup\":\"CHL\",\"marker\":{\"color\":\"#FF6692\",\"pattern\":{\"shape\":\"\"}},\"name\":\"CHL\",\"offsetgroup\":\"CHL\",\"orientation\":\"v\",\"showlegend\":true,\"textposition\":\"auto\",\"type\":\"bar\",\"x\":[\"CHL\"],\"xaxis\":\"x\",\"y\":[3],\"yaxis\":\"y\"},{\"alignmentgroup\":\"True\",\"hovertemplate\":\"pais=%{x}<br>registration_year_month=20169<br>count=%{y}<extra></extra>\",\"ids\":[\"COL\"],\"legendgroup\":\"COL\",\"marker\":{\"color\":\"#B6E880\",\"pattern\":{\"shape\":\"\"}},\"name\":\"COL\",\"offsetgroup\":\"COL\",\"orientation\":\"v\",\"showlegend\":true,\"textposition\":\"auto\",\"type\":\"bar\",\"x\":[\"COL\"],\"xaxis\":\"x\",\"y\":[9],\"yaxis\":\"y\"},{\"alignmentgroup\":\"True\",\"hovertemplate\":\"pais=%{x}<br>registration_year_month=20169<br>count=%{y}<extra></extra>\",\"ids\":[\"ARG\"],\"legendgroup\":\"ARG\",\"marker\":{\"color\":\"#FECB52\",\"pattern\":{\"shape\":\"\"}},\"name\":\"ARG\",\"offsetgroup\":\"ARG\",\"orientation\":\"v\",\"showlegend\":true,\"textposition\":\"auto\",\"type\":\"bar\",\"x\":[\"ARG\"],\"xaxis\":\"x\",\"y\":[7],\"yaxis\":\"y\"},{\"alignmentgroup\":\"True\",\"hovertemplate\":\"pais=%{x}<br>registration_year_month=20169<br>count=%{y}<extra></extra>\",\"ids\":[\"URY\"],\"legendgroup\":\"URY\",\"marker\":{\"color\":\"#636efa\",\"pattern\":{\"shape\":\"\"}},\"name\":\"URY\",\"offsetgroup\":\"URY\",\"orientation\":\"v\",\"showlegend\":true,\"textposition\":\"auto\",\"type\":\"bar\",\"x\":[\"URY\"],\"xaxis\":\"x\",\"y\":[4],\"yaxis\":\"y\"},{\"alignmentgroup\":\"True\",\"hovertemplate\":\"pais=%{x}<br>registration_year_month=20169<br>count=%{y}<extra></extra>\",\"ids\":[\"VEN\"],\"legendgroup\":\"VEN\",\"marker\":{\"color\":\"#EF553B\",\"pattern\":{\"shape\":\"\"}},\"name\":\"VEN\",\"offsetgroup\":\"VEN\",\"orientation\":\"v\",\"showlegend\":true,\"textposition\":\"auto\",\"type\":\"bar\",\"x\":[\"VEN\"],\"xaxis\":\"x\",\"y\":[1],\"yaxis\":\"y\"},{\"alignmentgroup\":\"True\",\"hovertemplate\":\"pais=%{x}<br>registration_year_month=20169<br>count=%{y}<extra></extra>\",\"ids\":[\"BRA\"],\"legendgroup\":\"BRA\",\"marker\":{\"color\":\"#ab63fa\",\"pattern\":{\"shape\":\"\"}},\"name\":\"BRA\",\"offsetgroup\":\"BRA\",\"orientation\":\"v\",\"showlegend\":true,\"textposition\":\"auto\",\"type\":\"bar\",\"x\":[\"BRA\"],\"xaxis\":\"x\",\"y\":[1],\"yaxis\":\"y\"},{\"alignmentgroup\":\"True\",\"hovertemplate\":\"pais=%{x}<br>registration_year_month=20169<br>count=%{y}<extra></extra>\",\"ids\":[\"GBR\"],\"legendgroup\":\"GBR\",\"marker\":{\"color\":\"#19d3f3\",\"pattern\":{\"shape\":\"\"}},\"name\":\"GBR\",\"offsetgroup\":\"GBR\",\"orientation\":\"v\",\"showlegend\":true,\"textposition\":\"auto\",\"type\":\"bar\",\"x\":[\"GBR\"],\"xaxis\":\"x\",\"y\":[3],\"yaxis\":\"y\"},{\"alignmentgroup\":\"True\",\"hovertemplate\":\"pais=%{x}<br>registration_year_month=20169<br>count=%{y}<extra></extra>\",\"ids\":[\"ECU\"],\"legendgroup\":\"ECU\",\"marker\":{\"color\":\"#B6E880\",\"pattern\":{\"shape\":\"\"}},\"name\":\"ECU\",\"offsetgroup\":\"ECU\",\"orientation\":\"v\",\"showlegend\":true,\"textposition\":\"auto\",\"type\":\"bar\",\"x\":[\"ECU\"],\"xaxis\":\"x\",\"y\":[3],\"yaxis\":\"y\"},{\"alignmentgroup\":\"True\",\"hovertemplate\":\"pais=%{x}<br>registration_year_month=20169<br>count=%{y}<extra></extra>\",\"ids\":[\"USA\"],\"legendgroup\":\"USA\",\"marker\":{\"color\":\"#FF97FF\",\"pattern\":{\"shape\":\"\"}},\"name\":\"USA\",\"offsetgroup\":\"USA\",\"orientation\":\"v\",\"showlegend\":true,\"textposition\":\"auto\",\"type\":\"bar\",\"x\":[\"USA\"],\"xaxis\":\"x\",\"y\":[1],\"yaxis\":\"y\"},{\"alignmentgroup\":\"True\",\"hovertemplate\":\"pais=%{x}<br>registration_year_month=20169<br>count=%{y}<extra></extra>\",\"ids\":[\"CRI\"],\"legendgroup\":\"CRI\",\"marker\":{\"color\":\"#FECB52\",\"pattern\":{\"shape\":\"\"}},\"name\":\"CRI\",\"offsetgroup\":\"CRI\",\"orientation\":\"v\",\"showlegend\":true,\"textposition\":\"auto\",\"type\":\"bar\",\"x\":[\"CRI\"],\"xaxis\":\"x\",\"y\":[1],\"yaxis\":\"y\"},{\"alignmentgroup\":\"True\",\"hovertemplate\":\"pais=%{x}<br>registration_year_month=20169<br>count=%{y}<extra></extra>\",\"ids\":[\"PAN\"],\"legendgroup\":\"PAN\",\"marker\":{\"color\":\"#EF553B\",\"pattern\":{\"shape\":\"\"}},\"name\":\"PAN\",\"offsetgroup\":\"PAN\",\"orientation\":\"v\",\"showlegend\":true,\"textposition\":\"auto\",\"type\":\"bar\",\"x\":[\"PAN\"],\"xaxis\":\"x\",\"y\":[3],\"yaxis\":\"y\"},{\"alignmentgroup\":\"True\",\"hovertemplate\":\"pais=%{x}<br>registration_year_month=20169<br>count=%{y}<extra></extra>\",\"ids\":[\"IRL\"],\"legendgroup\":\"IRL\",\"marker\":{\"color\":\"#00cc96\",\"pattern\":{\"shape\":\"\"}},\"name\":\"IRL\",\"offsetgroup\":\"IRL\",\"orientation\":\"v\",\"showlegend\":true,\"textposition\":\"auto\",\"type\":\"bar\",\"x\":[\"IRL\"],\"xaxis\":\"x\",\"y\":[1],\"yaxis\":\"y\"},{\"alignmentgroup\":\"True\",\"hovertemplate\":\"pais=%{x}<br>registration_year_month=20169<br>count=%{y}<extra></extra>\",\"ids\":[\"ITA\"],\"legendgroup\":\"ITA\",\"marker\":{\"color\":\"#ab63fa\",\"pattern\":{\"shape\":\"\"}},\"name\":\"ITA\",\"offsetgroup\":\"ITA\",\"orientation\":\"v\",\"showlegend\":true,\"textposition\":\"auto\",\"type\":\"bar\",\"x\":[\"ITA\"],\"xaxis\":\"x\",\"y\":[1],\"yaxis\":\"y\"},{\"alignmentgroup\":\"True\",\"hovertemplate\":\"pais=%{x}<br>registration_year_month=20169<br>count=%{y}<extra></extra>\",\"ids\":[\"KGZ\"],\"legendgroup\":\"KGZ\",\"marker\":{\"color\":\"#FFA15A\",\"pattern\":{\"shape\":\"\"}},\"name\":\"KGZ\",\"offsetgroup\":\"KGZ\",\"orientation\":\"v\",\"showlegend\":true,\"textposition\":\"auto\",\"type\":\"bar\",\"x\":[\"KGZ\"],\"xaxis\":\"x\",\"y\":[1],\"yaxis\":\"y\"},{\"alignmentgroup\":\"True\",\"hovertemplate\":\"pais=%{x}<br>registration_year_month=20169<br>count=%{y}<extra></extra>\",\"ids\":[\"PRY\"],\"legendgroup\":\"PRY\",\"marker\":{\"color\":\"#19d3f3\",\"pattern\":{\"shape\":\"\"}},\"name\":\"PRY\",\"offsetgroup\":\"PRY\",\"orientation\":\"v\",\"showlegend\":true,\"textposition\":\"auto\",\"type\":\"bar\",\"x\":[\"PRY\"],\"xaxis\":\"x\",\"y\":[2],\"yaxis\":\"y\"}],\"name\":\"20169\"},{\"data\":[{\"alignmentgroup\":\"True\",\"hovertemplate\":\"pais=%{x}<br>registration_year_month=20171<br>count=%{y}<extra></extra>\",\"ids\":[\"ESP\"],\"legendgroup\":\"ESP\",\"marker\":{\"color\":\"#EF553B\",\"pattern\":{\"shape\":\"\"}},\"name\":\"ESP\",\"offsetgroup\":\"ESP\",\"orientation\":\"v\",\"showlegend\":true,\"textposition\":\"auto\",\"type\":\"bar\",\"x\":[\"ESP\"],\"xaxis\":\"x\",\"y\":[194],\"yaxis\":\"y\"},{\"alignmentgroup\":\"True\",\"hovertemplate\":\"pais=%{x}<br>registration_year_month=20171<br>count=%{y}<extra></extra>\",\"ids\":[\"MEX\"],\"legendgroup\":\"MEX\",\"marker\":{\"color\":\"#00cc96\",\"pattern\":{\"shape\":\"\"}},\"name\":\"MEX\",\"offsetgroup\":\"MEX\",\"orientation\":\"v\",\"showlegend\":true,\"textposition\":\"auto\",\"type\":\"bar\",\"x\":[\"MEX\"],\"xaxis\":\"x\",\"y\":[29],\"yaxis\":\"y\"},{\"alignmentgroup\":\"True\",\"hovertemplate\":\"pais=%{x}<br>registration_year_month=20171<br>count=%{y}<extra></extra>\",\"ids\":[\"PER\"],\"legendgroup\":\"PER\",\"marker\":{\"color\":\"#ab63fa\",\"pattern\":{\"shape\":\"\"}},\"name\":\"PER\",\"offsetgroup\":\"PER\",\"orientation\":\"v\",\"showlegend\":true,\"textposition\":\"auto\",\"type\":\"bar\",\"x\":[\"PER\"],\"xaxis\":\"x\",\"y\":[1],\"yaxis\":\"y\"},{\"alignmentgroup\":\"True\",\"hovertemplate\":\"pais=%{x}<br>registration_year_month=20171<br>count=%{y}<extra></extra>\",\"ids\":[\"CHL\"],\"legendgroup\":\"CHL\",\"marker\":{\"color\":\"#FF6692\",\"pattern\":{\"shape\":\"\"}},\"name\":\"CHL\",\"offsetgroup\":\"CHL\",\"orientation\":\"v\",\"showlegend\":true,\"textposition\":\"auto\",\"type\":\"bar\",\"x\":[\"CHL\"],\"xaxis\":\"x\",\"y\":[1],\"yaxis\":\"y\"},{\"alignmentgroup\":\"True\",\"hovertemplate\":\"pais=%{x}<br>registration_year_month=20171<br>count=%{y}<extra></extra>\",\"ids\":[\"CRI\"],\"legendgroup\":\"CRI\",\"marker\":{\"color\":\"#FECB52\",\"pattern\":{\"shape\":\"\"}},\"name\":\"CRI\",\"offsetgroup\":\"CRI\",\"orientation\":\"v\",\"showlegend\":true,\"textposition\":\"auto\",\"type\":\"bar\",\"x\":[\"CRI\"],\"xaxis\":\"x\",\"y\":[1],\"yaxis\":\"y\"},{\"alignmentgroup\":\"True\",\"hovertemplate\":\"pais=%{x}<br>registration_year_month=20171<br>count=%{y}<extra></extra>\",\"ids\":[\"AGO\"],\"legendgroup\":\"AGO\",\"marker\":{\"color\":\"#FF6692\",\"pattern\":{\"shape\":\"\"}},\"name\":\"AGO\",\"offsetgroup\":\"AGO\",\"orientation\":\"v\",\"showlegend\":true,\"textposition\":\"auto\",\"type\":\"bar\",\"x\":[\"AGO\"],\"xaxis\":\"x\",\"y\":[1],\"yaxis\":\"y\"}],\"name\":\"20171\"},{\"data\":[{\"alignmentgroup\":\"True\",\"hovertemplate\":\"pais=%{x}<br>registration_year_month=201710<br>count=%{y}<extra></extra>\",\"ids\":[\"ESP\"],\"legendgroup\":\"ESP\",\"marker\":{\"color\":\"#EF553B\",\"pattern\":{\"shape\":\"\"}},\"name\":\"ESP\",\"offsetgroup\":\"ESP\",\"orientation\":\"v\",\"showlegend\":true,\"textposition\":\"auto\",\"type\":\"bar\",\"x\":[\"ESP\"],\"xaxis\":\"x\",\"y\":[172],\"yaxis\":\"y\"},{\"alignmentgroup\":\"True\",\"hovertemplate\":\"pais=%{x}<br>registration_year_month=201710<br>count=%{y}<extra></extra>\",\"ids\":[\"MEX\"],\"legendgroup\":\"MEX\",\"marker\":{\"color\":\"#00cc96\",\"pattern\":{\"shape\":\"\"}},\"name\":\"MEX\",\"offsetgroup\":\"MEX\",\"orientation\":\"v\",\"showlegend\":true,\"textposition\":\"auto\",\"type\":\"bar\",\"x\":[\"MEX\"],\"xaxis\":\"x\",\"y\":[8],\"yaxis\":\"y\"},{\"alignmentgroup\":\"True\",\"hovertemplate\":\"pais=%{x}<br>registration_year_month=201710<br>count=%{y}<extra></extra>\",\"ids\":[\"PER\"],\"legendgroup\":\"PER\",\"marker\":{\"color\":\"#ab63fa\",\"pattern\":{\"shape\":\"\"}},\"name\":\"PER\",\"offsetgroup\":\"PER\",\"orientation\":\"v\",\"showlegend\":true,\"textposition\":\"auto\",\"type\":\"bar\",\"x\":[\"PER\"],\"xaxis\":\"x\",\"y\":[2],\"yaxis\":\"y\"},{\"alignmentgroup\":\"True\",\"hovertemplate\":\"pais=%{x}<br>registration_year_month=201710<br>count=%{y}<extra></extra>\",\"ids\":[\"CHL\"],\"legendgroup\":\"CHL\",\"marker\":{\"color\":\"#FF6692\",\"pattern\":{\"shape\":\"\"}},\"name\":\"CHL\",\"offsetgroup\":\"CHL\",\"orientation\":\"v\",\"showlegend\":true,\"textposition\":\"auto\",\"type\":\"bar\",\"x\":[\"CHL\"],\"xaxis\":\"x\",\"y\":[6],\"yaxis\":\"y\"},{\"alignmentgroup\":\"True\",\"hovertemplate\":\"pais=%{x}<br>registration_year_month=201710<br>count=%{y}<extra></extra>\",\"ids\":[\"COL\"],\"legendgroup\":\"COL\",\"marker\":{\"color\":\"#B6E880\",\"pattern\":{\"shape\":\"\"}},\"name\":\"COL\",\"offsetgroup\":\"COL\",\"orientation\":\"v\",\"showlegend\":true,\"textposition\":\"auto\",\"type\":\"bar\",\"x\":[\"COL\"],\"xaxis\":\"x\",\"y\":[3],\"yaxis\":\"y\"},{\"alignmentgroup\":\"True\",\"hovertemplate\":\"pais=%{x}<br>registration_year_month=201710<br>count=%{y}<extra></extra>\",\"ids\":[\"ARG\"],\"legendgroup\":\"ARG\",\"marker\":{\"color\":\"#FECB52\",\"pattern\":{\"shape\":\"\"}},\"name\":\"ARG\",\"offsetgroup\":\"ARG\",\"orientation\":\"v\",\"showlegend\":true,\"textposition\":\"auto\",\"type\":\"bar\",\"x\":[\"ARG\"],\"xaxis\":\"x\",\"y\":[8],\"yaxis\":\"y\"},{\"alignmentgroup\":\"True\",\"hovertemplate\":\"pais=%{x}<br>registration_year_month=201710<br>count=%{y}<extra></extra>\",\"ids\":[\"VEN\"],\"legendgroup\":\"VEN\",\"marker\":{\"color\":\"#EF553B\",\"pattern\":{\"shape\":\"\"}},\"name\":\"VEN\",\"offsetgroup\":\"VEN\",\"orientation\":\"v\",\"showlegend\":true,\"textposition\":\"auto\",\"type\":\"bar\",\"x\":[\"VEN\"],\"xaxis\":\"x\",\"y\":[1],\"yaxis\":\"y\"},{\"alignmentgroup\":\"True\",\"hovertemplate\":\"pais=%{x}<br>registration_year_month=201710<br>count=%{y}<extra></extra>\",\"ids\":[\"CHN\"],\"legendgroup\":\"CHN\",\"marker\":{\"color\":\"#FF6692\",\"pattern\":{\"shape\":\"\"}},\"name\":\"CHN\",\"offsetgroup\":\"CHN\",\"orientation\":\"v\",\"showlegend\":true,\"textposition\":\"auto\",\"type\":\"bar\",\"x\":[\"CHN\"],\"xaxis\":\"x\",\"y\":[1],\"yaxis\":\"y\"},{\"alignmentgroup\":\"True\",\"hovertemplate\":\"pais=%{x}<br>registration_year_month=201710<br>count=%{y}<extra></extra>\",\"ids\":[\"ECU\"],\"legendgroup\":\"ECU\",\"marker\":{\"color\":\"#B6E880\",\"pattern\":{\"shape\":\"\"}},\"name\":\"ECU\",\"offsetgroup\":\"ECU\",\"orientation\":\"v\",\"showlegend\":true,\"textposition\":\"auto\",\"type\":\"bar\",\"x\":[\"ECU\"],\"xaxis\":\"x\",\"y\":[1],\"yaxis\":\"y\"},{\"alignmentgroup\":\"True\",\"hovertemplate\":\"pais=%{x}<br>registration_year_month=201710<br>count=%{y}<extra></extra>\",\"ids\":[\"CRI\"],\"legendgroup\":\"CRI\",\"marker\":{\"color\":\"#FECB52\",\"pattern\":{\"shape\":\"\"}},\"name\":\"CRI\",\"offsetgroup\":\"CRI\",\"orientation\":\"v\",\"showlegend\":true,\"textposition\":\"auto\",\"type\":\"bar\",\"x\":[\"CRI\"],\"xaxis\":\"x\",\"y\":[2],\"yaxis\":\"y\"},{\"alignmentgroup\":\"True\",\"hovertemplate\":\"pais=%{x}<br>registration_year_month=201710<br>count=%{y}<extra></extra>\",\"ids\":[\"PRY\"],\"legendgroup\":\"PRY\",\"marker\":{\"color\":\"#19d3f3\",\"pattern\":{\"shape\":\"\"}},\"name\":\"PRY\",\"offsetgroup\":\"PRY\",\"orientation\":\"v\",\"showlegend\":true,\"textposition\":\"auto\",\"type\":\"bar\",\"x\":[\"PRY\"],\"xaxis\":\"x\",\"y\":[1],\"yaxis\":\"y\"},{\"alignmentgroup\":\"True\",\"hovertemplate\":\"pais=%{x}<br>registration_year_month=201710<br>count=%{y}<extra></extra>\",\"ids\":[\"HND\"],\"legendgroup\":\"HND\",\"marker\":{\"color\":\"#B6E880\",\"pattern\":{\"shape\":\"\"}},\"name\":\"HND\",\"offsetgroup\":\"HND\",\"orientation\":\"v\",\"showlegend\":true,\"textposition\":\"auto\",\"type\":\"bar\",\"x\":[\"HND\"],\"xaxis\":\"x\",\"y\":[1],\"yaxis\":\"y\"},{\"alignmentgroup\":\"True\",\"hovertemplate\":\"pais=%{x}<br>registration_year_month=201710<br>count=%{y}<extra></extra>\",\"ids\":[\"ROU\"],\"legendgroup\":\"ROU\",\"marker\":{\"color\":\"#FF97FF\",\"pattern\":{\"shape\":\"\"}},\"name\":\"ROU\",\"offsetgroup\":\"ROU\",\"orientation\":\"v\",\"showlegend\":true,\"textposition\":\"auto\",\"type\":\"bar\",\"x\":[\"ROU\"],\"xaxis\":\"x\",\"y\":[1],\"yaxis\":\"y\"},{\"alignmentgroup\":\"True\",\"hovertemplate\":\"pais=%{x}<br>registration_year_month=201710<br>count=%{y}<extra></extra>\",\"ids\":[\"SLV\"],\"legendgroup\":\"SLV\",\"marker\":{\"color\":\"#FECB52\",\"pattern\":{\"shape\":\"\"}},\"name\":\"SLV\",\"offsetgroup\":\"SLV\",\"orientation\":\"v\",\"showlegend\":true,\"textposition\":\"auto\",\"type\":\"bar\",\"x\":[\"SLV\"],\"xaxis\":\"x\",\"y\":[1],\"yaxis\":\"y\"}],\"name\":\"201710\"},{\"data\":[{\"alignmentgroup\":\"True\",\"hovertemplate\":\"pais=%{x}<br>registration_year_month=201711<br>count=%{y}<extra></extra>\",\"ids\":[\"DOM\"],\"legendgroup\":\"DOM\",\"marker\":{\"color\":\"#636efa\",\"pattern\":{\"shape\":\"\"}},\"name\":\"DOM\",\"offsetgroup\":\"DOM\",\"orientation\":\"v\",\"showlegend\":true,\"textposition\":\"auto\",\"type\":\"bar\",\"x\":[\"DOM\"],\"xaxis\":\"x\",\"y\":[1],\"yaxis\":\"y\"},{\"alignmentgroup\":\"True\",\"hovertemplate\":\"pais=%{x}<br>registration_year_month=201711<br>count=%{y}<extra></extra>\",\"ids\":[\"ESP\"],\"legendgroup\":\"ESP\",\"marker\":{\"color\":\"#EF553B\",\"pattern\":{\"shape\":\"\"}},\"name\":\"ESP\",\"offsetgroup\":\"ESP\",\"orientation\":\"v\",\"showlegend\":true,\"textposition\":\"auto\",\"type\":\"bar\",\"x\":[\"ESP\"],\"xaxis\":\"x\",\"y\":[267],\"yaxis\":\"y\"},{\"alignmentgroup\":\"True\",\"hovertemplate\":\"pais=%{x}<br>registration_year_month=201711<br>count=%{y}<extra></extra>\",\"ids\":[\"MEX\"],\"legendgroup\":\"MEX\",\"marker\":{\"color\":\"#00cc96\",\"pattern\":{\"shape\":\"\"}},\"name\":\"MEX\",\"offsetgroup\":\"MEX\",\"orientation\":\"v\",\"showlegend\":true,\"textposition\":\"auto\",\"type\":\"bar\",\"x\":[\"MEX\"],\"xaxis\":\"x\",\"y\":[18],\"yaxis\":\"y\"},{\"alignmentgroup\":\"True\",\"hovertemplate\":\"pais=%{x}<br>registration_year_month=201711<br>count=%{y}<extra></extra>\",\"ids\":[\"PER\"],\"legendgroup\":\"PER\",\"marker\":{\"color\":\"#ab63fa\",\"pattern\":{\"shape\":\"\"}},\"name\":\"PER\",\"offsetgroup\":\"PER\",\"orientation\":\"v\",\"showlegend\":true,\"textposition\":\"auto\",\"type\":\"bar\",\"x\":[\"PER\"],\"xaxis\":\"x\",\"y\":[8],\"yaxis\":\"y\"},{\"alignmentgroup\":\"True\",\"hovertemplate\":\"pais=%{x}<br>registration_year_month=201711<br>count=%{y}<extra></extra>\",\"ids\":[\"CHL\"],\"legendgroup\":\"CHL\",\"marker\":{\"color\":\"#FF6692\",\"pattern\":{\"shape\":\"\"}},\"name\":\"CHL\",\"offsetgroup\":\"CHL\",\"orientation\":\"v\",\"showlegend\":true,\"textposition\":\"auto\",\"type\":\"bar\",\"x\":[\"CHL\"],\"xaxis\":\"x\",\"y\":[3],\"yaxis\":\"y\"},{\"alignmentgroup\":\"True\",\"hovertemplate\":\"pais=%{x}<br>registration_year_month=201711<br>count=%{y}<extra></extra>\",\"ids\":[\"COL\"],\"legendgroup\":\"COL\",\"marker\":{\"color\":\"#B6E880\",\"pattern\":{\"shape\":\"\"}},\"name\":\"COL\",\"offsetgroup\":\"COL\",\"orientation\":\"v\",\"showlegend\":true,\"textposition\":\"auto\",\"type\":\"bar\",\"x\":[\"COL\"],\"xaxis\":\"x\",\"y\":[3],\"yaxis\":\"y\"},{\"alignmentgroup\":\"True\",\"hovertemplate\":\"pais=%{x}<br>registration_year_month=201711<br>count=%{y}<extra></extra>\",\"ids\":[\"GTM\"],\"legendgroup\":\"GTM\",\"marker\":{\"color\":\"#FF97FF\",\"pattern\":{\"shape\":\"\"}},\"name\":\"GTM\",\"offsetgroup\":\"GTM\",\"orientation\":\"v\",\"showlegend\":true,\"textposition\":\"auto\",\"type\":\"bar\",\"x\":[\"GTM\"],\"xaxis\":\"x\",\"y\":[1],\"yaxis\":\"y\"},{\"alignmentgroup\":\"True\",\"hovertemplate\":\"pais=%{x}<br>registration_year_month=201711<br>count=%{y}<extra></extra>\",\"ids\":[\"ARG\"],\"legendgroup\":\"ARG\",\"marker\":{\"color\":\"#FECB52\",\"pattern\":{\"shape\":\"\"}},\"name\":\"ARG\",\"offsetgroup\":\"ARG\",\"orientation\":\"v\",\"showlegend\":true,\"textposition\":\"auto\",\"type\":\"bar\",\"x\":[\"ARG\"],\"xaxis\":\"x\",\"y\":[2],\"yaxis\":\"y\"},{\"alignmentgroup\":\"True\",\"hovertemplate\":\"pais=%{x}<br>registration_year_month=201711<br>count=%{y}<extra></extra>\",\"ids\":[\"VEN\"],\"legendgroup\":\"VEN\",\"marker\":{\"color\":\"#EF553B\",\"pattern\":{\"shape\":\"\"}},\"name\":\"VEN\",\"offsetgroup\":\"VEN\",\"orientation\":\"v\",\"showlegend\":true,\"textposition\":\"auto\",\"type\":\"bar\",\"x\":[\"VEN\"],\"xaxis\":\"x\",\"y\":[1],\"yaxis\":\"y\"},{\"alignmentgroup\":\"True\",\"hovertemplate\":\"pais=%{x}<br>registration_year_month=201711<br>count=%{y}<extra></extra>\",\"ids\":[\"FIN\"],\"legendgroup\":\"FIN\",\"marker\":{\"color\":\"#FFA15A\",\"pattern\":{\"shape\":\"\"}},\"name\":\"FIN\",\"offsetgroup\":\"FIN\",\"orientation\":\"v\",\"showlegend\":true,\"textposition\":\"auto\",\"type\":\"bar\",\"x\":[\"FIN\"],\"xaxis\":\"x\",\"y\":[2],\"yaxis\":\"y\"},{\"alignmentgroup\":\"True\",\"hovertemplate\":\"pais=%{x}<br>registration_year_month=201711<br>count=%{y}<extra></extra>\",\"ids\":[\"ECU\"],\"legendgroup\":\"ECU\",\"marker\":{\"color\":\"#B6E880\",\"pattern\":{\"shape\":\"\"}},\"name\":\"ECU\",\"offsetgroup\":\"ECU\",\"orientation\":\"v\",\"showlegend\":true,\"textposition\":\"auto\",\"type\":\"bar\",\"x\":[\"ECU\"],\"xaxis\":\"x\",\"y\":[1],\"yaxis\":\"y\"},{\"alignmentgroup\":\"True\",\"hovertemplate\":\"pais=%{x}<br>registration_year_month=201711<br>count=%{y}<extra></extra>\",\"ids\":[\"USA\"],\"legendgroup\":\"USA\",\"marker\":{\"color\":\"#FF97FF\",\"pattern\":{\"shape\":\"\"}},\"name\":\"USA\",\"offsetgroup\":\"USA\",\"orientation\":\"v\",\"showlegend\":true,\"textposition\":\"auto\",\"type\":\"bar\",\"x\":[\"USA\"],\"xaxis\":\"x\",\"y\":[1],\"yaxis\":\"y\"},{\"alignmentgroup\":\"True\",\"hovertemplate\":\"pais=%{x}<br>registration_year_month=201711<br>count=%{y}<extra></extra>\",\"ids\":[\"BOL\"],\"legendgroup\":\"BOL\",\"marker\":{\"color\":\"#636efa\",\"pattern\":{\"shape\":\"\"}},\"name\":\"BOL\",\"offsetgroup\":\"BOL\",\"orientation\":\"v\",\"showlegend\":true,\"textposition\":\"auto\",\"type\":\"bar\",\"x\":[\"BOL\"],\"xaxis\":\"x\",\"y\":[1],\"yaxis\":\"y\"}],\"name\":\"201711\"},{\"data\":[{\"alignmentgroup\":\"True\",\"hovertemplate\":\"pais=%{x}<br>registration_year_month=201712<br>count=%{y}<extra></extra>\",\"ids\":[\"DOM\"],\"legendgroup\":\"DOM\",\"marker\":{\"color\":\"#636efa\",\"pattern\":{\"shape\":\"\"}},\"name\":\"DOM\",\"offsetgroup\":\"DOM\",\"orientation\":\"v\",\"showlegend\":true,\"textposition\":\"auto\",\"type\":\"bar\",\"x\":[\"DOM\"],\"xaxis\":\"x\",\"y\":[1],\"yaxis\":\"y\"},{\"alignmentgroup\":\"True\",\"hovertemplate\":\"pais=%{x}<br>registration_year_month=201712<br>count=%{y}<extra></extra>\",\"ids\":[\"ESP\"],\"legendgroup\":\"ESP\",\"marker\":{\"color\":\"#EF553B\",\"pattern\":{\"shape\":\"\"}},\"name\":\"ESP\",\"offsetgroup\":\"ESP\",\"orientation\":\"v\",\"showlegend\":true,\"textposition\":\"auto\",\"type\":\"bar\",\"x\":[\"ESP\"],\"xaxis\":\"x\",\"y\":[29],\"yaxis\":\"y\"},{\"alignmentgroup\":\"True\",\"hovertemplate\":\"pais=%{x}<br>registration_year_month=201712<br>count=%{y}<extra></extra>\",\"ids\":[\"MEX\"],\"legendgroup\":\"MEX\",\"marker\":{\"color\":\"#00cc96\",\"pattern\":{\"shape\":\"\"}},\"name\":\"MEX\",\"offsetgroup\":\"MEX\",\"orientation\":\"v\",\"showlegend\":true,\"textposition\":\"auto\",\"type\":\"bar\",\"x\":[\"MEX\"],\"xaxis\":\"x\",\"y\":[1],\"yaxis\":\"y\"},{\"alignmentgroup\":\"True\",\"hovertemplate\":\"pais=%{x}<br>registration_year_month=201712<br>count=%{y}<extra></extra>\",\"ids\":[\"PER\"],\"legendgroup\":\"PER\",\"marker\":{\"color\":\"#ab63fa\",\"pattern\":{\"shape\":\"\"}},\"name\":\"PER\",\"offsetgroup\":\"PER\",\"orientation\":\"v\",\"showlegend\":true,\"textposition\":\"auto\",\"type\":\"bar\",\"x\":[\"PER\"],\"xaxis\":\"x\",\"y\":[4],\"yaxis\":\"y\"},{\"alignmentgroup\":\"True\",\"hovertemplate\":\"pais=%{x}<br>registration_year_month=201712<br>count=%{y}<extra></extra>\",\"ids\":[\"CHL\"],\"legendgroup\":\"CHL\",\"marker\":{\"color\":\"#FF6692\",\"pattern\":{\"shape\":\"\"}},\"name\":\"CHL\",\"offsetgroup\":\"CHL\",\"orientation\":\"v\",\"showlegend\":true,\"textposition\":\"auto\",\"type\":\"bar\",\"x\":[\"CHL\"],\"xaxis\":\"x\",\"y\":[1],\"yaxis\":\"y\"},{\"alignmentgroup\":\"True\",\"hovertemplate\":\"pais=%{x}<br>registration_year_month=201712<br>count=%{y}<extra></extra>\",\"ids\":[\"COL\"],\"legendgroup\":\"COL\",\"marker\":{\"color\":\"#B6E880\",\"pattern\":{\"shape\":\"\"}},\"name\":\"COL\",\"offsetgroup\":\"COL\",\"orientation\":\"v\",\"showlegend\":true,\"textposition\":\"auto\",\"type\":\"bar\",\"x\":[\"COL\"],\"xaxis\":\"x\",\"y\":[3],\"yaxis\":\"y\"},{\"alignmentgroup\":\"True\",\"hovertemplate\":\"pais=%{x}<br>registration_year_month=201712<br>count=%{y}<extra></extra>\",\"ids\":[\"GTM\"],\"legendgroup\":\"GTM\",\"marker\":{\"color\":\"#FF97FF\",\"pattern\":{\"shape\":\"\"}},\"name\":\"GTM\",\"offsetgroup\":\"GTM\",\"orientation\":\"v\",\"showlegend\":true,\"textposition\":\"auto\",\"type\":\"bar\",\"x\":[\"GTM\"],\"xaxis\":\"x\",\"y\":[1],\"yaxis\":\"y\"},{\"alignmentgroup\":\"True\",\"hovertemplate\":\"pais=%{x}<br>registration_year_month=201712<br>count=%{y}<extra></extra>\",\"ids\":[\"ARG\"],\"legendgroup\":\"ARG\",\"marker\":{\"color\":\"#FECB52\",\"pattern\":{\"shape\":\"\"}},\"name\":\"ARG\",\"offsetgroup\":\"ARG\",\"orientation\":\"v\",\"showlegend\":true,\"textposition\":\"auto\",\"type\":\"bar\",\"x\":[\"ARG\"],\"xaxis\":\"x\",\"y\":[7],\"yaxis\":\"y\"},{\"alignmentgroup\":\"True\",\"hovertemplate\":\"pais=%{x}<br>registration_year_month=201712<br>count=%{y}<extra></extra>\",\"ids\":[\"VEN\"],\"legendgroup\":\"VEN\",\"marker\":{\"color\":\"#EF553B\",\"pattern\":{\"shape\":\"\"}},\"name\":\"VEN\",\"offsetgroup\":\"VEN\",\"orientation\":\"v\",\"showlegend\":true,\"textposition\":\"auto\",\"type\":\"bar\",\"x\":[\"VEN\"],\"xaxis\":\"x\",\"y\":[2],\"yaxis\":\"y\"},{\"alignmentgroup\":\"True\",\"hovertemplate\":\"pais=%{x}<br>registration_year_month=201712<br>count=%{y}<extra></extra>\",\"ids\":[\"PRY\"],\"legendgroup\":\"PRY\",\"marker\":{\"color\":\"#19d3f3\",\"pattern\":{\"shape\":\"\"}},\"name\":\"PRY\",\"offsetgroup\":\"PRY\",\"orientation\":\"v\",\"showlegend\":true,\"textposition\":\"auto\",\"type\":\"bar\",\"x\":[\"PRY\"],\"xaxis\":\"x\",\"y\":[1],\"yaxis\":\"y\"},{\"alignmentgroup\":\"True\",\"hovertemplate\":\"pais=%{x}<br>registration_year_month=201712<br>count=%{y}<extra></extra>\",\"ids\":[\"HND\"],\"legendgroup\":\"HND\",\"marker\":{\"color\":\"#B6E880\",\"pattern\":{\"shape\":\"\"}},\"name\":\"HND\",\"offsetgroup\":\"HND\",\"orientation\":\"v\",\"showlegend\":true,\"textposition\":\"auto\",\"type\":\"bar\",\"x\":[\"HND\"],\"xaxis\":\"x\",\"y\":[1],\"yaxis\":\"y\"},{\"alignmentgroup\":\"True\",\"hovertemplate\":\"pais=%{x}<br>registration_year_month=201712<br>count=%{y}<extra></extra>\",\"ids\":[\"SLV\"],\"legendgroup\":\"SLV\",\"marker\":{\"color\":\"#FECB52\",\"pattern\":{\"shape\":\"\"}},\"name\":\"SLV\",\"offsetgroup\":\"SLV\",\"orientation\":\"v\",\"showlegend\":true,\"textposition\":\"auto\",\"type\":\"bar\",\"x\":[\"SLV\"],\"xaxis\":\"x\",\"y\":[1],\"yaxis\":\"y\"},{\"alignmentgroup\":\"True\",\"hovertemplate\":\"pais=%{x}<br>registration_year_month=201712<br>count=%{y}<extra></extra>\",\"ids\":[\"BOL\"],\"legendgroup\":\"BOL\",\"marker\":{\"color\":\"#636efa\",\"pattern\":{\"shape\":\"\"}},\"name\":\"BOL\",\"offsetgroup\":\"BOL\",\"orientation\":\"v\",\"showlegend\":true,\"textposition\":\"auto\",\"type\":\"bar\",\"x\":[\"BOL\"],\"xaxis\":\"x\",\"y\":[1],\"yaxis\":\"y\"},{\"alignmentgroup\":\"True\",\"hovertemplate\":\"pais=%{x}<br>registration_year_month=201712<br>count=%{y}<extra></extra>\",\"ids\":[\"MAR\"],\"legendgroup\":\"MAR\",\"marker\":{\"color\":\"#EF553B\",\"pattern\":{\"shape\":\"\"}},\"name\":\"MAR\",\"offsetgroup\":\"MAR\",\"orientation\":\"v\",\"showlegend\":true,\"textposition\":\"auto\",\"type\":\"bar\",\"x\":[\"MAR\"],\"xaxis\":\"x\",\"y\":[1],\"yaxis\":\"y\"}],\"name\":\"201712\"},{\"data\":[{\"alignmentgroup\":\"True\",\"hovertemplate\":\"pais=%{x}<br>registration_year_month=20172<br>count=%{y}<extra></extra>\",\"ids\":[\"ESP\"],\"legendgroup\":\"ESP\",\"marker\":{\"color\":\"#EF553B\",\"pattern\":{\"shape\":\"\"}},\"name\":\"ESP\",\"offsetgroup\":\"ESP\",\"orientation\":\"v\",\"showlegend\":true,\"textposition\":\"auto\",\"type\":\"bar\",\"x\":[\"ESP\"],\"xaxis\":\"x\",\"y\":[672],\"yaxis\":\"y\"},{\"alignmentgroup\":\"True\",\"hovertemplate\":\"pais=%{x}<br>registration_year_month=20172<br>count=%{y}<extra></extra>\",\"ids\":[\"MEX\"],\"legendgroup\":\"MEX\",\"marker\":{\"color\":\"#00cc96\",\"pattern\":{\"shape\":\"\"}},\"name\":\"MEX\",\"offsetgroup\":\"MEX\",\"orientation\":\"v\",\"showlegend\":true,\"textposition\":\"auto\",\"type\":\"bar\",\"x\":[\"MEX\"],\"xaxis\":\"x\",\"y\":[44],\"yaxis\":\"y\"},{\"alignmentgroup\":\"True\",\"hovertemplate\":\"pais=%{x}<br>registration_year_month=20172<br>count=%{y}<extra></extra>\",\"ids\":[\"PER\"],\"legendgroup\":\"PER\",\"marker\":{\"color\":\"#ab63fa\",\"pattern\":{\"shape\":\"\"}},\"name\":\"PER\",\"offsetgroup\":\"PER\",\"orientation\":\"v\",\"showlegend\":true,\"textposition\":\"auto\",\"type\":\"bar\",\"x\":[\"PER\"],\"xaxis\":\"x\",\"y\":[24],\"yaxis\":\"y\"},{\"alignmentgroup\":\"True\",\"hovertemplate\":\"pais=%{x}<br>registration_year_month=20172<br>count=%{y}<extra></extra>\",\"ids\":[\"CHL\"],\"legendgroup\":\"CHL\",\"marker\":{\"color\":\"#FF6692\",\"pattern\":{\"shape\":\"\"}},\"name\":\"CHL\",\"offsetgroup\":\"CHL\",\"orientation\":\"v\",\"showlegend\":true,\"textposition\":\"auto\",\"type\":\"bar\",\"x\":[\"CHL\"],\"xaxis\":\"x\",\"y\":[3],\"yaxis\":\"y\"},{\"alignmentgroup\":\"True\",\"hovertemplate\":\"pais=%{x}<br>registration_year_month=20172<br>count=%{y}<extra></extra>\",\"ids\":[\"COL\"],\"legendgroup\":\"COL\",\"marker\":{\"color\":\"#B6E880\",\"pattern\":{\"shape\":\"\"}},\"name\":\"COL\",\"offsetgroup\":\"COL\",\"orientation\":\"v\",\"showlegend\":true,\"textposition\":\"auto\",\"type\":\"bar\",\"x\":[\"COL\"],\"xaxis\":\"x\",\"y\":[5],\"yaxis\":\"y\"},{\"alignmentgroup\":\"True\",\"hovertemplate\":\"pais=%{x}<br>registration_year_month=20172<br>count=%{y}<extra></extra>\",\"ids\":[\"ARG\"],\"legendgroup\":\"ARG\",\"marker\":{\"color\":\"#FECB52\",\"pattern\":{\"shape\":\"\"}},\"name\":\"ARG\",\"offsetgroup\":\"ARG\",\"orientation\":\"v\",\"showlegend\":true,\"textposition\":\"auto\",\"type\":\"bar\",\"x\":[\"ARG\"],\"xaxis\":\"x\",\"y\":[14],\"yaxis\":\"y\"},{\"alignmentgroup\":\"True\",\"hovertemplate\":\"pais=%{x}<br>registration_year_month=20172<br>count=%{y}<extra></extra>\",\"ids\":[\"FIN\"],\"legendgroup\":\"FIN\",\"marker\":{\"color\":\"#FFA15A\",\"pattern\":{\"shape\":\"\"}},\"name\":\"FIN\",\"offsetgroup\":\"FIN\",\"orientation\":\"v\",\"showlegend\":true,\"textposition\":\"auto\",\"type\":\"bar\",\"x\":[\"FIN\"],\"xaxis\":\"x\",\"y\":[1],\"yaxis\":\"y\"}],\"name\":\"20172\"},{\"data\":[{\"alignmentgroup\":\"True\",\"hovertemplate\":\"pais=%{x}<br>registration_year_month=20173<br>count=%{y}<extra></extra>\",\"ids\":[\"ESP\"],\"legendgroup\":\"ESP\",\"marker\":{\"color\":\"#EF553B\",\"pattern\":{\"shape\":\"\"}},\"name\":\"ESP\",\"offsetgroup\":\"ESP\",\"orientation\":\"v\",\"showlegend\":true,\"textposition\":\"auto\",\"type\":\"bar\",\"x\":[\"ESP\"],\"xaxis\":\"x\",\"y\":[383],\"yaxis\":\"y\"},{\"alignmentgroup\":\"True\",\"hovertemplate\":\"pais=%{x}<br>registration_year_month=20173<br>count=%{y}<extra></extra>\",\"ids\":[\"MEX\"],\"legendgroup\":\"MEX\",\"marker\":{\"color\":\"#00cc96\",\"pattern\":{\"shape\":\"\"}},\"name\":\"MEX\",\"offsetgroup\":\"MEX\",\"orientation\":\"v\",\"showlegend\":true,\"textposition\":\"auto\",\"type\":\"bar\",\"x\":[\"MEX\"],\"xaxis\":\"x\",\"y\":[81],\"yaxis\":\"y\"},{\"alignmentgroup\":\"True\",\"hovertemplate\":\"pais=%{x}<br>registration_year_month=20173<br>count=%{y}<extra></extra>\",\"ids\":[\"PER\"],\"legendgroup\":\"PER\",\"marker\":{\"color\":\"#ab63fa\",\"pattern\":{\"shape\":\"\"}},\"name\":\"PER\",\"offsetgroup\":\"PER\",\"orientation\":\"v\",\"showlegend\":true,\"textposition\":\"auto\",\"type\":\"bar\",\"x\":[\"PER\"],\"xaxis\":\"x\",\"y\":[46],\"yaxis\":\"y\"},{\"alignmentgroup\":\"True\",\"hovertemplate\":\"pais=%{x}<br>registration_year_month=20173<br>count=%{y}<extra></extra>\",\"ids\":[\"CHL\"],\"legendgroup\":\"CHL\",\"marker\":{\"color\":\"#FF6692\",\"pattern\":{\"shape\":\"\"}},\"name\":\"CHL\",\"offsetgroup\":\"CHL\",\"orientation\":\"v\",\"showlegend\":true,\"textposition\":\"auto\",\"type\":\"bar\",\"x\":[\"CHL\"],\"xaxis\":\"x\",\"y\":[1],\"yaxis\":\"y\"},{\"alignmentgroup\":\"True\",\"hovertemplate\":\"pais=%{x}<br>registration_year_month=20173<br>count=%{y}<extra></extra>\",\"ids\":[\"COL\"],\"legendgroup\":\"COL\",\"marker\":{\"color\":\"#B6E880\",\"pattern\":{\"shape\":\"\"}},\"name\":\"COL\",\"offsetgroup\":\"COL\",\"orientation\":\"v\",\"showlegend\":true,\"textposition\":\"auto\",\"type\":\"bar\",\"x\":[\"COL\"],\"xaxis\":\"x\",\"y\":[29],\"yaxis\":\"y\"},{\"alignmentgroup\":\"True\",\"hovertemplate\":\"pais=%{x}<br>registration_year_month=20173<br>count=%{y}<extra></extra>\",\"ids\":[\"ARG\"],\"legendgroup\":\"ARG\",\"marker\":{\"color\":\"#FECB52\",\"pattern\":{\"shape\":\"\"}},\"name\":\"ARG\",\"offsetgroup\":\"ARG\",\"orientation\":\"v\",\"showlegend\":true,\"textposition\":\"auto\",\"type\":\"bar\",\"x\":[\"ARG\"],\"xaxis\":\"x\",\"y\":[22],\"yaxis\":\"y\"},{\"alignmentgroup\":\"True\",\"hovertemplate\":\"pais=%{x}<br>registration_year_month=20173<br>count=%{y}<extra></extra>\",\"ids\":[\"VEN\"],\"legendgroup\":\"VEN\",\"marker\":{\"color\":\"#EF553B\",\"pattern\":{\"shape\":\"\"}},\"name\":\"VEN\",\"offsetgroup\":\"VEN\",\"orientation\":\"v\",\"showlegend\":true,\"textposition\":\"auto\",\"type\":\"bar\",\"x\":[\"VEN\"],\"xaxis\":\"x\",\"y\":[1],\"yaxis\":\"y\"},{\"alignmentgroup\":\"True\",\"hovertemplate\":\"pais=%{x}<br>registration_year_month=20173<br>count=%{y}<extra></extra>\",\"ids\":[\"FIN\"],\"legendgroup\":\"FIN\",\"marker\":{\"color\":\"#FFA15A\",\"pattern\":{\"shape\":\"\"}},\"name\":\"FIN\",\"offsetgroup\":\"FIN\",\"orientation\":\"v\",\"showlegend\":true,\"textposition\":\"auto\",\"type\":\"bar\",\"x\":[\"FIN\"],\"xaxis\":\"x\",\"y\":[1],\"yaxis\":\"y\"},{\"alignmentgroup\":\"True\",\"hovertemplate\":\"pais=%{x}<br>registration_year_month=20173<br>count=%{y}<extra></extra>\",\"ids\":[\"USA\"],\"legendgroup\":\"USA\",\"marker\":{\"color\":\"#FF97FF\",\"pattern\":{\"shape\":\"\"}},\"name\":\"USA\",\"offsetgroup\":\"USA\",\"orientation\":\"v\",\"showlegend\":true,\"textposition\":\"auto\",\"type\":\"bar\",\"x\":[\"USA\"],\"xaxis\":\"x\",\"y\":[1],\"yaxis\":\"y\"},{\"alignmentgroup\":\"True\",\"hovertemplate\":\"pais=%{x}<br>registration_year_month=20173<br>count=%{y}<extra></extra>\",\"ids\":[\"CRI\"],\"legendgroup\":\"CRI\",\"marker\":{\"color\":\"#FECB52\",\"pattern\":{\"shape\":\"\"}},\"name\":\"CRI\",\"offsetgroup\":\"CRI\",\"orientation\":\"v\",\"showlegend\":true,\"textposition\":\"auto\",\"type\":\"bar\",\"x\":[\"CRI\"],\"xaxis\":\"x\",\"y\":[1],\"yaxis\":\"y\"},{\"alignmentgroup\":\"True\",\"hovertemplate\":\"pais=%{x}<br>registration_year_month=20173<br>count=%{y}<extra></extra>\",\"ids\":[\"NIC\"],\"legendgroup\":\"NIC\",\"marker\":{\"color\":\"#00cc96\",\"pattern\":{\"shape\":\"\"}},\"name\":\"NIC\",\"offsetgroup\":\"NIC\",\"orientation\":\"v\",\"showlegend\":true,\"textposition\":\"auto\",\"type\":\"bar\",\"x\":[\"NIC\"],\"xaxis\":\"x\",\"y\":[1],\"yaxis\":\"y\"}],\"name\":\"20173\"},{\"data\":[{\"alignmentgroup\":\"True\",\"hovertemplate\":\"pais=%{x}<br>registration_year_month=20174<br>count=%{y}<extra></extra>\",\"ids\":[\"DOM\"],\"legendgroup\":\"DOM\",\"marker\":{\"color\":\"#636efa\",\"pattern\":{\"shape\":\"\"}},\"name\":\"DOM\",\"offsetgroup\":\"DOM\",\"orientation\":\"v\",\"showlegend\":true,\"textposition\":\"auto\",\"type\":\"bar\",\"x\":[\"DOM\"],\"xaxis\":\"x\",\"y\":[3],\"yaxis\":\"y\"},{\"alignmentgroup\":\"True\",\"hovertemplate\":\"pais=%{x}<br>registration_year_month=20174<br>count=%{y}<extra></extra>\",\"ids\":[\"ESP\"],\"legendgroup\":\"ESP\",\"marker\":{\"color\":\"#EF553B\",\"pattern\":{\"shape\":\"\"}},\"name\":\"ESP\",\"offsetgroup\":\"ESP\",\"orientation\":\"v\",\"showlegend\":true,\"textposition\":\"auto\",\"type\":\"bar\",\"x\":[\"ESP\"],\"xaxis\":\"x\",\"y\":[60],\"yaxis\":\"y\"},{\"alignmentgroup\":\"True\",\"hovertemplate\":\"pais=%{x}<br>registration_year_month=20174<br>count=%{y}<extra></extra>\",\"ids\":[\"MEX\"],\"legendgroup\":\"MEX\",\"marker\":{\"color\":\"#00cc96\",\"pattern\":{\"shape\":\"\"}},\"name\":\"MEX\",\"offsetgroup\":\"MEX\",\"orientation\":\"v\",\"showlegend\":true,\"textposition\":\"auto\",\"type\":\"bar\",\"x\":[\"MEX\"],\"xaxis\":\"x\",\"y\":[16],\"yaxis\":\"y\"},{\"alignmentgroup\":\"True\",\"hovertemplate\":\"pais=%{x}<br>registration_year_month=20174<br>count=%{y}<extra></extra>\",\"ids\":[\"PER\"],\"legendgroup\":\"PER\",\"marker\":{\"color\":\"#ab63fa\",\"pattern\":{\"shape\":\"\"}},\"name\":\"PER\",\"offsetgroup\":\"PER\",\"orientation\":\"v\",\"showlegend\":true,\"textposition\":\"auto\",\"type\":\"bar\",\"x\":[\"PER\"],\"xaxis\":\"x\",\"y\":[6],\"yaxis\":\"y\"},{\"alignmentgroup\":\"True\",\"hovertemplate\":\"pais=%{x}<br>registration_year_month=20174<br>count=%{y}<extra></extra>\",\"ids\":[\"CHL\"],\"legendgroup\":\"CHL\",\"marker\":{\"color\":\"#FF6692\",\"pattern\":{\"shape\":\"\"}},\"name\":\"CHL\",\"offsetgroup\":\"CHL\",\"orientation\":\"v\",\"showlegend\":true,\"textposition\":\"auto\",\"type\":\"bar\",\"x\":[\"CHL\"],\"xaxis\":\"x\",\"y\":[3],\"yaxis\":\"y\"},{\"alignmentgroup\":\"True\",\"hovertemplate\":\"pais=%{x}<br>registration_year_month=20174<br>count=%{y}<extra></extra>\",\"ids\":[\"COL\"],\"legendgroup\":\"COL\",\"marker\":{\"color\":\"#B6E880\",\"pattern\":{\"shape\":\"\"}},\"name\":\"COL\",\"offsetgroup\":\"COL\",\"orientation\":\"v\",\"showlegend\":true,\"textposition\":\"auto\",\"type\":\"bar\",\"x\":[\"COL\"],\"xaxis\":\"x\",\"y\":[3],\"yaxis\":\"y\"},{\"alignmentgroup\":\"True\",\"hovertemplate\":\"pais=%{x}<br>registration_year_month=20174<br>count=%{y}<extra></extra>\",\"ids\":[\"ARG\"],\"legendgroup\":\"ARG\",\"marker\":{\"color\":\"#FECB52\",\"pattern\":{\"shape\":\"\"}},\"name\":\"ARG\",\"offsetgroup\":\"ARG\",\"orientation\":\"v\",\"showlegend\":true,\"textposition\":\"auto\",\"type\":\"bar\",\"x\":[\"ARG\"],\"xaxis\":\"x\",\"y\":[3],\"yaxis\":\"y\"},{\"alignmentgroup\":\"True\",\"hovertemplate\":\"pais=%{x}<br>registration_year_month=20174<br>count=%{y}<extra></extra>\",\"ids\":[\"URY\"],\"legendgroup\":\"URY\",\"marker\":{\"color\":\"#636efa\",\"pattern\":{\"shape\":\"\"}},\"name\":\"URY\",\"offsetgroup\":\"URY\",\"orientation\":\"v\",\"showlegend\":true,\"textposition\":\"auto\",\"type\":\"bar\",\"x\":[\"URY\"],\"xaxis\":\"x\",\"y\":[1],\"yaxis\":\"y\"},{\"alignmentgroup\":\"True\",\"hovertemplate\":\"pais=%{x}<br>registration_year_month=20174<br>count=%{y}<extra></extra>\",\"ids\":[\"VEN\"],\"legendgroup\":\"VEN\",\"marker\":{\"color\":\"#EF553B\",\"pattern\":{\"shape\":\"\"}},\"name\":\"VEN\",\"offsetgroup\":\"VEN\",\"orientation\":\"v\",\"showlegend\":true,\"textposition\":\"auto\",\"type\":\"bar\",\"x\":[\"VEN\"],\"xaxis\":\"x\",\"y\":[1],\"yaxis\":\"y\"},{\"alignmentgroup\":\"True\",\"hovertemplate\":\"pais=%{x}<br>registration_year_month=20174<br>count=%{y}<extra></extra>\",\"ids\":[\"ECU\"],\"legendgroup\":\"ECU\",\"marker\":{\"color\":\"#B6E880\",\"pattern\":{\"shape\":\"\"}},\"name\":\"ECU\",\"offsetgroup\":\"ECU\",\"orientation\":\"v\",\"showlegend\":true,\"textposition\":\"auto\",\"type\":\"bar\",\"x\":[\"ECU\"],\"xaxis\":\"x\",\"y\":[3],\"yaxis\":\"y\"},{\"alignmentgroup\":\"True\",\"hovertemplate\":\"pais=%{x}<br>registration_year_month=20174<br>count=%{y}<extra></extra>\",\"ids\":[\"CRI\"],\"legendgroup\":\"CRI\",\"marker\":{\"color\":\"#FECB52\",\"pattern\":{\"shape\":\"\"}},\"name\":\"CRI\",\"offsetgroup\":\"CRI\",\"orientation\":\"v\",\"showlegend\":true,\"textposition\":\"auto\",\"type\":\"bar\",\"x\":[\"CRI\"],\"xaxis\":\"x\",\"y\":[2],\"yaxis\":\"y\"},{\"alignmentgroup\":\"True\",\"hovertemplate\":\"pais=%{x}<br>registration_year_month=20174<br>count=%{y}<extra></extra>\",\"ids\":[\"DEU\"],\"legendgroup\":\"DEU\",\"marker\":{\"color\":\"#ab63fa\",\"pattern\":{\"shape\":\"\"}},\"name\":\"DEU\",\"offsetgroup\":\"DEU\",\"orientation\":\"v\",\"showlegend\":true,\"textposition\":\"auto\",\"type\":\"bar\",\"x\":[\"DEU\"],\"xaxis\":\"x\",\"y\":[1],\"yaxis\":\"y\"}],\"name\":\"20174\"},{\"data\":[{\"alignmentgroup\":\"True\",\"hovertemplate\":\"pais=%{x}<br>registration_year_month=20175<br>count=%{y}<extra></extra>\",\"ids\":[\"ESP\"],\"legendgroup\":\"ESP\",\"marker\":{\"color\":\"#EF553B\",\"pattern\":{\"shape\":\"\"}},\"name\":\"ESP\",\"offsetgroup\":\"ESP\",\"orientation\":\"v\",\"showlegend\":true,\"textposition\":\"auto\",\"type\":\"bar\",\"x\":[\"ESP\"],\"xaxis\":\"x\",\"y\":[80],\"yaxis\":\"y\"},{\"alignmentgroup\":\"True\",\"hovertemplate\":\"pais=%{x}<br>registration_year_month=20175<br>count=%{y}<extra></extra>\",\"ids\":[\"MEX\"],\"legendgroup\":\"MEX\",\"marker\":{\"color\":\"#00cc96\",\"pattern\":{\"shape\":\"\"}},\"name\":\"MEX\",\"offsetgroup\":\"MEX\",\"orientation\":\"v\",\"showlegend\":true,\"textposition\":\"auto\",\"type\":\"bar\",\"x\":[\"MEX\"],\"xaxis\":\"x\",\"y\":[35],\"yaxis\":\"y\"},{\"alignmentgroup\":\"True\",\"hovertemplate\":\"pais=%{x}<br>registration_year_month=20175<br>count=%{y}<extra></extra>\",\"ids\":[\"PER\"],\"legendgroup\":\"PER\",\"marker\":{\"color\":\"#ab63fa\",\"pattern\":{\"shape\":\"\"}},\"name\":\"PER\",\"offsetgroup\":\"PER\",\"orientation\":\"v\",\"showlegend\":true,\"textposition\":\"auto\",\"type\":\"bar\",\"x\":[\"PER\"],\"xaxis\":\"x\",\"y\":[5],\"yaxis\":\"y\"},{\"alignmentgroup\":\"True\",\"hovertemplate\":\"pais=%{x}<br>registration_year_month=20175<br>count=%{y}<extra></extra>\",\"ids\":[\"CHL\"],\"legendgroup\":\"CHL\",\"marker\":{\"color\":\"#FF6692\",\"pattern\":{\"shape\":\"\"}},\"name\":\"CHL\",\"offsetgroup\":\"CHL\",\"orientation\":\"v\",\"showlegend\":true,\"textposition\":\"auto\",\"type\":\"bar\",\"x\":[\"CHL\"],\"xaxis\":\"x\",\"y\":[2],\"yaxis\":\"y\"},{\"alignmentgroup\":\"True\",\"hovertemplate\":\"pais=%{x}<br>registration_year_month=20175<br>count=%{y}<extra></extra>\",\"ids\":[\"COL\"],\"legendgroup\":\"COL\",\"marker\":{\"color\":\"#B6E880\",\"pattern\":{\"shape\":\"\"}},\"name\":\"COL\",\"offsetgroup\":\"COL\",\"orientation\":\"v\",\"showlegend\":true,\"textposition\":\"auto\",\"type\":\"bar\",\"x\":[\"COL\"],\"xaxis\":\"x\",\"y\":[14],\"yaxis\":\"y\"},{\"alignmentgroup\":\"True\",\"hovertemplate\":\"pais=%{x}<br>registration_year_month=20175<br>count=%{y}<extra></extra>\",\"ids\":[\"ARG\"],\"legendgroup\":\"ARG\",\"marker\":{\"color\":\"#FECB52\",\"pattern\":{\"shape\":\"\"}},\"name\":\"ARG\",\"offsetgroup\":\"ARG\",\"orientation\":\"v\",\"showlegend\":true,\"textposition\":\"auto\",\"type\":\"bar\",\"x\":[\"ARG\"],\"xaxis\":\"x\",\"y\":[6],\"yaxis\":\"y\"},{\"alignmentgroup\":\"True\",\"hovertemplate\":\"pais=%{x}<br>registration_year_month=20175<br>count=%{y}<extra></extra>\",\"ids\":[\"VEN\"],\"legendgroup\":\"VEN\",\"marker\":{\"color\":\"#EF553B\",\"pattern\":{\"shape\":\"\"}},\"name\":\"VEN\",\"offsetgroup\":\"VEN\",\"orientation\":\"v\",\"showlegend\":true,\"textposition\":\"auto\",\"type\":\"bar\",\"x\":[\"VEN\"],\"xaxis\":\"x\",\"y\":[1],\"yaxis\":\"y\"},{\"alignmentgroup\":\"True\",\"hovertemplate\":\"pais=%{x}<br>registration_year_month=20175<br>count=%{y}<extra></extra>\",\"ids\":[\"ECU\"],\"legendgroup\":\"ECU\",\"marker\":{\"color\":\"#B6E880\",\"pattern\":{\"shape\":\"\"}},\"name\":\"ECU\",\"offsetgroup\":\"ECU\",\"orientation\":\"v\",\"showlegend\":true,\"textposition\":\"auto\",\"type\":\"bar\",\"x\":[\"ECU\"],\"xaxis\":\"x\",\"y\":[2],\"yaxis\":\"y\"},{\"alignmentgroup\":\"True\",\"hovertemplate\":\"pais=%{x}<br>registration_year_month=20175<br>count=%{y}<extra></extra>\",\"ids\":[\"USA\"],\"legendgroup\":\"USA\",\"marker\":{\"color\":\"#FF97FF\",\"pattern\":{\"shape\":\"\"}},\"name\":\"USA\",\"offsetgroup\":\"USA\",\"orientation\":\"v\",\"showlegend\":true,\"textposition\":\"auto\",\"type\":\"bar\",\"x\":[\"USA\"],\"xaxis\":\"x\",\"y\":[8],\"yaxis\":\"y\"},{\"alignmentgroup\":\"True\",\"hovertemplate\":\"pais=%{x}<br>registration_year_month=20175<br>count=%{y}<extra></extra>\",\"ids\":[\"CRI\"],\"legendgroup\":\"CRI\",\"marker\":{\"color\":\"#FECB52\",\"pattern\":{\"shape\":\"\"}},\"name\":\"CRI\",\"offsetgroup\":\"CRI\",\"orientation\":\"v\",\"showlegend\":true,\"textposition\":\"auto\",\"type\":\"bar\",\"x\":[\"CRI\"],\"xaxis\":\"x\",\"y\":[2],\"yaxis\":\"y\"},{\"alignmentgroup\":\"True\",\"hovertemplate\":\"pais=%{x}<br>registration_year_month=20175<br>count=%{y}<extra></extra>\",\"ids\":[\"BOL\"],\"legendgroup\":\"BOL\",\"marker\":{\"color\":\"#636efa\",\"pattern\":{\"shape\":\"\"}},\"name\":\"BOL\",\"offsetgroup\":\"BOL\",\"orientation\":\"v\",\"showlegend\":true,\"textposition\":\"auto\",\"type\":\"bar\",\"x\":[\"BOL\"],\"xaxis\":\"x\",\"y\":[3],\"yaxis\":\"y\"},{\"alignmentgroup\":\"True\",\"hovertemplate\":\"pais=%{x}<br>registration_year_month=20175<br>count=%{y}<extra></extra>\",\"ids\":[\"PRT\"],\"legendgroup\":\"PRT\",\"marker\":{\"color\":\"#FFA15A\",\"pattern\":{\"shape\":\"\"}},\"name\":\"PRT\",\"offsetgroup\":\"PRT\",\"orientation\":\"v\",\"showlegend\":true,\"textposition\":\"auto\",\"type\":\"bar\",\"x\":[\"PRT\"],\"xaxis\":\"x\",\"y\":[2],\"yaxis\":\"y\"}],\"name\":\"20175\"},{\"data\":[{\"alignmentgroup\":\"True\",\"hovertemplate\":\"pais=%{x}<br>registration_year_month=20176<br>count=%{y}<extra></extra>\",\"ids\":[\"ESP\"],\"legendgroup\":\"ESP\",\"marker\":{\"color\":\"#EF553B\",\"pattern\":{\"shape\":\"\"}},\"name\":\"ESP\",\"offsetgroup\":\"ESP\",\"orientation\":\"v\",\"showlegend\":true,\"textposition\":\"auto\",\"type\":\"bar\",\"x\":[\"ESP\"],\"xaxis\":\"x\",\"y\":[66],\"yaxis\":\"y\"},{\"alignmentgroup\":\"True\",\"hovertemplate\":\"pais=%{x}<br>registration_year_month=20176<br>count=%{y}<extra></extra>\",\"ids\":[\"MEX\"],\"legendgroup\":\"MEX\",\"marker\":{\"color\":\"#00cc96\",\"pattern\":{\"shape\":\"\"}},\"name\":\"MEX\",\"offsetgroup\":\"MEX\",\"orientation\":\"v\",\"showlegend\":true,\"textposition\":\"auto\",\"type\":\"bar\",\"x\":[\"MEX\"],\"xaxis\":\"x\",\"y\":[66],\"yaxis\":\"y\"},{\"alignmentgroup\":\"True\",\"hovertemplate\":\"pais=%{x}<br>registration_year_month=20176<br>count=%{y}<extra></extra>\",\"ids\":[\"PER\"],\"legendgroup\":\"PER\",\"marker\":{\"color\":\"#ab63fa\",\"pattern\":{\"shape\":\"\"}},\"name\":\"PER\",\"offsetgroup\":\"PER\",\"orientation\":\"v\",\"showlegend\":true,\"textposition\":\"auto\",\"type\":\"bar\",\"x\":[\"PER\"],\"xaxis\":\"x\",\"y\":[1],\"yaxis\":\"y\"},{\"alignmentgroup\":\"True\",\"hovertemplate\":\"pais=%{x}<br>registration_year_month=20176<br>count=%{y}<extra></extra>\",\"ids\":[\"PRI\"],\"legendgroup\":\"PRI\",\"marker\":{\"color\":\"#19d3f3\",\"pattern\":{\"shape\":\"\"}},\"name\":\"PRI\",\"offsetgroup\":\"PRI\",\"orientation\":\"v\",\"showlegend\":true,\"textposition\":\"auto\",\"type\":\"bar\",\"x\":[\"PRI\"],\"xaxis\":\"x\",\"y\":[1],\"yaxis\":\"y\"},{\"alignmentgroup\":\"True\",\"hovertemplate\":\"pais=%{x}<br>registration_year_month=20176<br>count=%{y}<extra></extra>\",\"ids\":[\"CHL\"],\"legendgroup\":\"CHL\",\"marker\":{\"color\":\"#FF6692\",\"pattern\":{\"shape\":\"\"}},\"name\":\"CHL\",\"offsetgroup\":\"CHL\",\"orientation\":\"v\",\"showlegend\":true,\"textposition\":\"auto\",\"type\":\"bar\",\"x\":[\"CHL\"],\"xaxis\":\"x\",\"y\":[2],\"yaxis\":\"y\"},{\"alignmentgroup\":\"True\",\"hovertemplate\":\"pais=%{x}<br>registration_year_month=20176<br>count=%{y}<extra></extra>\",\"ids\":[\"COL\"],\"legendgroup\":\"COL\",\"marker\":{\"color\":\"#B6E880\",\"pattern\":{\"shape\":\"\"}},\"name\":\"COL\",\"offsetgroup\":\"COL\",\"orientation\":\"v\",\"showlegend\":true,\"textposition\":\"auto\",\"type\":\"bar\",\"x\":[\"COL\"],\"xaxis\":\"x\",\"y\":[13],\"yaxis\":\"y\"},{\"alignmentgroup\":\"True\",\"hovertemplate\":\"pais=%{x}<br>registration_year_month=20176<br>count=%{y}<extra></extra>\",\"ids\":[\"GTM\"],\"legendgroup\":\"GTM\",\"marker\":{\"color\":\"#FF97FF\",\"pattern\":{\"shape\":\"\"}},\"name\":\"GTM\",\"offsetgroup\":\"GTM\",\"orientation\":\"v\",\"showlegend\":true,\"textposition\":\"auto\",\"type\":\"bar\",\"x\":[\"GTM\"],\"xaxis\":\"x\",\"y\":[3],\"yaxis\":\"y\"},{\"alignmentgroup\":\"True\",\"hovertemplate\":\"pais=%{x}<br>registration_year_month=20176<br>count=%{y}<extra></extra>\",\"ids\":[\"ARG\"],\"legendgroup\":\"ARG\",\"marker\":{\"color\":\"#FECB52\",\"pattern\":{\"shape\":\"\"}},\"name\":\"ARG\",\"offsetgroup\":\"ARG\",\"orientation\":\"v\",\"showlegend\":true,\"textposition\":\"auto\",\"type\":\"bar\",\"x\":[\"ARG\"],\"xaxis\":\"x\",\"y\":[2],\"yaxis\":\"y\"},{\"alignmentgroup\":\"True\",\"hovertemplate\":\"pais=%{x}<br>registration_year_month=20176<br>count=%{y}<extra></extra>\",\"ids\":[\"ECU\"],\"legendgroup\":\"ECU\",\"marker\":{\"color\":\"#B6E880\",\"pattern\":{\"shape\":\"\"}},\"name\":\"ECU\",\"offsetgroup\":\"ECU\",\"orientation\":\"v\",\"showlegend\":true,\"textposition\":\"auto\",\"type\":\"bar\",\"x\":[\"ECU\"],\"xaxis\":\"x\",\"y\":[7],\"yaxis\":\"y\"},{\"alignmentgroup\":\"True\",\"hovertemplate\":\"pais=%{x}<br>registration_year_month=20176<br>count=%{y}<extra></extra>\",\"ids\":[\"HND\"],\"legendgroup\":\"HND\",\"marker\":{\"color\":\"#B6E880\",\"pattern\":{\"shape\":\"\"}},\"name\":\"HND\",\"offsetgroup\":\"HND\",\"orientation\":\"v\",\"showlegend\":true,\"textposition\":\"auto\",\"type\":\"bar\",\"x\":[\"HND\"],\"xaxis\":\"x\",\"y\":[1],\"yaxis\":\"y\"},{\"alignmentgroup\":\"True\",\"hovertemplate\":\"pais=%{x}<br>registration_year_month=20176<br>count=%{y}<extra></extra>\",\"ids\":[\"SLV\"],\"legendgroup\":\"SLV\",\"marker\":{\"color\":\"#FECB52\",\"pattern\":{\"shape\":\"\"}},\"name\":\"SLV\",\"offsetgroup\":\"SLV\",\"orientation\":\"v\",\"showlegend\":true,\"textposition\":\"auto\",\"type\":\"bar\",\"x\":[\"SLV\"],\"xaxis\":\"x\",\"y\":[1],\"yaxis\":\"y\"},{\"alignmentgroup\":\"True\",\"hovertemplate\":\"pais=%{x}<br>registration_year_month=20176<br>count=%{y}<extra></extra>\",\"ids\":[\"NIC\"],\"legendgroup\":\"NIC\",\"marker\":{\"color\":\"#00cc96\",\"pattern\":{\"shape\":\"\"}},\"name\":\"NIC\",\"offsetgroup\":\"NIC\",\"orientation\":\"v\",\"showlegend\":true,\"textposition\":\"auto\",\"type\":\"bar\",\"x\":[\"NIC\"],\"xaxis\":\"x\",\"y\":[1],\"yaxis\":\"y\"},{\"alignmentgroup\":\"True\",\"hovertemplate\":\"pais=%{x}<br>registration_year_month=20176<br>count=%{y}<extra></extra>\",\"ids\":[\"NOR\"],\"legendgroup\":\"NOR\",\"marker\":{\"color\":\"#19d3f3\",\"pattern\":{\"shape\":\"\"}},\"name\":\"NOR\",\"offsetgroup\":\"NOR\",\"orientation\":\"v\",\"showlegend\":true,\"textposition\":\"auto\",\"type\":\"bar\",\"x\":[\"NOR\"],\"xaxis\":\"x\",\"y\":[1],\"yaxis\":\"y\"}],\"name\":\"20176\"},{\"data\":[{\"alignmentgroup\":\"True\",\"hovertemplate\":\"pais=%{x}<br>registration_year_month=20177<br>count=%{y}<extra></extra>\",\"ids\":[\"DOM\"],\"legendgroup\":\"DOM\",\"marker\":{\"color\":\"#636efa\",\"pattern\":{\"shape\":\"\"}},\"name\":\"DOM\",\"offsetgroup\":\"DOM\",\"orientation\":\"v\",\"showlegend\":true,\"textposition\":\"auto\",\"type\":\"bar\",\"x\":[\"DOM\"],\"xaxis\":\"x\",\"y\":[3],\"yaxis\":\"y\"},{\"alignmentgroup\":\"True\",\"hovertemplate\":\"pais=%{x}<br>registration_year_month=20177<br>count=%{y}<extra></extra>\",\"ids\":[\"ESP\"],\"legendgroup\":\"ESP\",\"marker\":{\"color\":\"#EF553B\",\"pattern\":{\"shape\":\"\"}},\"name\":\"ESP\",\"offsetgroup\":\"ESP\",\"orientation\":\"v\",\"showlegend\":true,\"textposition\":\"auto\",\"type\":\"bar\",\"x\":[\"ESP\"],\"xaxis\":\"x\",\"y\":[39],\"yaxis\":\"y\"},{\"alignmentgroup\":\"True\",\"hovertemplate\":\"pais=%{x}<br>registration_year_month=20177<br>count=%{y}<extra></extra>\",\"ids\":[\"MEX\"],\"legendgroup\":\"MEX\",\"marker\":{\"color\":\"#00cc96\",\"pattern\":{\"shape\":\"\"}},\"name\":\"MEX\",\"offsetgroup\":\"MEX\",\"orientation\":\"v\",\"showlegend\":true,\"textposition\":\"auto\",\"type\":\"bar\",\"x\":[\"MEX\"],\"xaxis\":\"x\",\"y\":[17],\"yaxis\":\"y\"},{\"alignmentgroup\":\"True\",\"hovertemplate\":\"pais=%{x}<br>registration_year_month=20177<br>count=%{y}<extra></extra>\",\"ids\":[\"PER\"],\"legendgroup\":\"PER\",\"marker\":{\"color\":\"#ab63fa\",\"pattern\":{\"shape\":\"\"}},\"name\":\"PER\",\"offsetgroup\":\"PER\",\"orientation\":\"v\",\"showlegend\":true,\"textposition\":\"auto\",\"type\":\"bar\",\"x\":[\"PER\"],\"xaxis\":\"x\",\"y\":[6],\"yaxis\":\"y\"},{\"alignmentgroup\":\"True\",\"hovertemplate\":\"pais=%{x}<br>registration_year_month=20177<br>count=%{y}<extra></extra>\",\"ids\":[\"PRI\"],\"legendgroup\":\"PRI\",\"marker\":{\"color\":\"#19d3f3\",\"pattern\":{\"shape\":\"\"}},\"name\":\"PRI\",\"offsetgroup\":\"PRI\",\"orientation\":\"v\",\"showlegend\":true,\"textposition\":\"auto\",\"type\":\"bar\",\"x\":[\"PRI\"],\"xaxis\":\"x\",\"y\":[2],\"yaxis\":\"y\"},{\"alignmentgroup\":\"True\",\"hovertemplate\":\"pais=%{x}<br>registration_year_month=20177<br>count=%{y}<extra></extra>\",\"ids\":[\"CHL\"],\"legendgroup\":\"CHL\",\"marker\":{\"color\":\"#FF6692\",\"pattern\":{\"shape\":\"\"}},\"name\":\"CHL\",\"offsetgroup\":\"CHL\",\"orientation\":\"v\",\"showlegend\":true,\"textposition\":\"auto\",\"type\":\"bar\",\"x\":[\"CHL\"],\"xaxis\":\"x\",\"y\":[3],\"yaxis\":\"y\"},{\"alignmentgroup\":\"True\",\"hovertemplate\":\"pais=%{x}<br>registration_year_month=20177<br>count=%{y}<extra></extra>\",\"ids\":[\"COL\"],\"legendgroup\":\"COL\",\"marker\":{\"color\":\"#B6E880\",\"pattern\":{\"shape\":\"\"}},\"name\":\"COL\",\"offsetgroup\":\"COL\",\"orientation\":\"v\",\"showlegend\":true,\"textposition\":\"auto\",\"type\":\"bar\",\"x\":[\"COL\"],\"xaxis\":\"x\",\"y\":[8],\"yaxis\":\"y\"},{\"alignmentgroup\":\"True\",\"hovertemplate\":\"pais=%{x}<br>registration_year_month=20177<br>count=%{y}<extra></extra>\",\"ids\":[\"ARG\"],\"legendgroup\":\"ARG\",\"marker\":{\"color\":\"#FECB52\",\"pattern\":{\"shape\":\"\"}},\"name\":\"ARG\",\"offsetgroup\":\"ARG\",\"orientation\":\"v\",\"showlegend\":true,\"textposition\":\"auto\",\"type\":\"bar\",\"x\":[\"ARG\"],\"xaxis\":\"x\",\"y\":[3],\"yaxis\":\"y\"},{\"alignmentgroup\":\"True\",\"hovertemplate\":\"pais=%{x}<br>registration_year_month=20177<br>count=%{y}<extra></extra>\",\"ids\":[\"VEN\"],\"legendgroup\":\"VEN\",\"marker\":{\"color\":\"#EF553B\",\"pattern\":{\"shape\":\"\"}},\"name\":\"VEN\",\"offsetgroup\":\"VEN\",\"orientation\":\"v\",\"showlegend\":true,\"textposition\":\"auto\",\"type\":\"bar\",\"x\":[\"VEN\"],\"xaxis\":\"x\",\"y\":[1],\"yaxis\":\"y\"},{\"alignmentgroup\":\"True\",\"hovertemplate\":\"pais=%{x}<br>registration_year_month=20177<br>count=%{y}<extra></extra>\",\"ids\":[\"ECU\"],\"legendgroup\":\"ECU\",\"marker\":{\"color\":\"#B6E880\",\"pattern\":{\"shape\":\"\"}},\"name\":\"ECU\",\"offsetgroup\":\"ECU\",\"orientation\":\"v\",\"showlegend\":true,\"textposition\":\"auto\",\"type\":\"bar\",\"x\":[\"ECU\"],\"xaxis\":\"x\",\"y\":[7],\"yaxis\":\"y\"},{\"alignmentgroup\":\"True\",\"hovertemplate\":\"pais=%{x}<br>registration_year_month=20177<br>count=%{y}<extra></extra>\",\"ids\":[\"PAN\"],\"legendgroup\":\"PAN\",\"marker\":{\"color\":\"#EF553B\",\"pattern\":{\"shape\":\"\"}},\"name\":\"PAN\",\"offsetgroup\":\"PAN\",\"orientation\":\"v\",\"showlegend\":true,\"textposition\":\"auto\",\"type\":\"bar\",\"x\":[\"PAN\"],\"xaxis\":\"x\",\"y\":[3],\"yaxis\":\"y\"},{\"alignmentgroup\":\"True\",\"hovertemplate\":\"pais=%{x}<br>registration_year_month=20177<br>count=%{y}<extra></extra>\",\"ids\":[\"HND\"],\"legendgroup\":\"HND\",\"marker\":{\"color\":\"#B6E880\",\"pattern\":{\"shape\":\"\"}},\"name\":\"HND\",\"offsetgroup\":\"HND\",\"orientation\":\"v\",\"showlegend\":true,\"textposition\":\"auto\",\"type\":\"bar\",\"x\":[\"HND\"],\"xaxis\":\"x\",\"y\":[2],\"yaxis\":\"y\"},{\"alignmentgroup\":\"True\",\"hovertemplate\":\"pais=%{x}<br>registration_year_month=20177<br>count=%{y}<extra></extra>\",\"ids\":[\"SLV\"],\"legendgroup\":\"SLV\",\"marker\":{\"color\":\"#FECB52\",\"pattern\":{\"shape\":\"\"}},\"name\":\"SLV\",\"offsetgroup\":\"SLV\",\"orientation\":\"v\",\"showlegend\":true,\"textposition\":\"auto\",\"type\":\"bar\",\"x\":[\"SLV\"],\"xaxis\":\"x\",\"y\":[1],\"yaxis\":\"y\"},{\"alignmentgroup\":\"True\",\"hovertemplate\":\"pais=%{x}<br>registration_year_month=20177<br>count=%{y}<extra></extra>\",\"ids\":[\"BOL\"],\"legendgroup\":\"BOL\",\"marker\":{\"color\":\"#636efa\",\"pattern\":{\"shape\":\"\"}},\"name\":\"BOL\",\"offsetgroup\":\"BOL\",\"orientation\":\"v\",\"showlegend\":true,\"textposition\":\"auto\",\"type\":\"bar\",\"x\":[\"BOL\"],\"xaxis\":\"x\",\"y\":[3],\"yaxis\":\"y\"},{\"alignmentgroup\":\"True\",\"hovertemplate\":\"pais=%{x}<br>registration_year_month=20177<br>count=%{y}<extra></extra>\",\"ids\":[\"DEU\"],\"legendgroup\":\"DEU\",\"marker\":{\"color\":\"#ab63fa\",\"pattern\":{\"shape\":\"\"}},\"name\":\"DEU\",\"offsetgroup\":\"DEU\",\"orientation\":\"v\",\"showlegend\":true,\"textposition\":\"auto\",\"type\":\"bar\",\"x\":[\"DEU\"],\"xaxis\":\"x\",\"y\":[1],\"yaxis\":\"y\"}],\"name\":\"20177\"},{\"data\":[{\"alignmentgroup\":\"True\",\"hovertemplate\":\"pais=%{x}<br>registration_year_month=20178<br>count=%{y}<extra></extra>\",\"ids\":[\"DOM\"],\"legendgroup\":\"DOM\",\"marker\":{\"color\":\"#636efa\",\"pattern\":{\"shape\":\"\"}},\"name\":\"DOM\",\"offsetgroup\":\"DOM\",\"orientation\":\"v\",\"showlegend\":true,\"textposition\":\"auto\",\"type\":\"bar\",\"x\":[\"DOM\"],\"xaxis\":\"x\",\"y\":[3],\"yaxis\":\"y\"},{\"alignmentgroup\":\"True\",\"hovertemplate\":\"pais=%{x}<br>registration_year_month=20178<br>count=%{y}<extra></extra>\",\"ids\":[\"ESP\"],\"legendgroup\":\"ESP\",\"marker\":{\"color\":\"#EF553B\",\"pattern\":{\"shape\":\"\"}},\"name\":\"ESP\",\"offsetgroup\":\"ESP\",\"orientation\":\"v\",\"showlegend\":true,\"textposition\":\"auto\",\"type\":\"bar\",\"x\":[\"ESP\"],\"xaxis\":\"x\",\"y\":[25],\"yaxis\":\"y\"},{\"alignmentgroup\":\"True\",\"hovertemplate\":\"pais=%{x}<br>registration_year_month=20178<br>count=%{y}<extra></extra>\",\"ids\":[\"MEX\"],\"legendgroup\":\"MEX\",\"marker\":{\"color\":\"#00cc96\",\"pattern\":{\"shape\":\"\"}},\"name\":\"MEX\",\"offsetgroup\":\"MEX\",\"orientation\":\"v\",\"showlegend\":true,\"textposition\":\"auto\",\"type\":\"bar\",\"x\":[\"MEX\"],\"xaxis\":\"x\",\"y\":[12],\"yaxis\":\"y\"},{\"alignmentgroup\":\"True\",\"hovertemplate\":\"pais=%{x}<br>registration_year_month=20178<br>count=%{y}<extra></extra>\",\"ids\":[\"PER\"],\"legendgroup\":\"PER\",\"marker\":{\"color\":\"#ab63fa\",\"pattern\":{\"shape\":\"\"}},\"name\":\"PER\",\"offsetgroup\":\"PER\",\"orientation\":\"v\",\"showlegend\":true,\"textposition\":\"auto\",\"type\":\"bar\",\"x\":[\"PER\"],\"xaxis\":\"x\",\"y\":[6],\"yaxis\":\"y\"},{\"alignmentgroup\":\"True\",\"hovertemplate\":\"pais=%{x}<br>registration_year_month=20178<br>count=%{y}<extra></extra>\",\"ids\":[\"PRI\"],\"legendgroup\":\"PRI\",\"marker\":{\"color\":\"#19d3f3\",\"pattern\":{\"shape\":\"\"}},\"name\":\"PRI\",\"offsetgroup\":\"PRI\",\"orientation\":\"v\",\"showlegend\":true,\"textposition\":\"auto\",\"type\":\"bar\",\"x\":[\"PRI\"],\"xaxis\":\"x\",\"y\":[1],\"yaxis\":\"y\"},{\"alignmentgroup\":\"True\",\"hovertemplate\":\"pais=%{x}<br>registration_year_month=20178<br>count=%{y}<extra></extra>\",\"ids\":[\"CHL\"],\"legendgroup\":\"CHL\",\"marker\":{\"color\":\"#FF6692\",\"pattern\":{\"shape\":\"\"}},\"name\":\"CHL\",\"offsetgroup\":\"CHL\",\"orientation\":\"v\",\"showlegend\":true,\"textposition\":\"auto\",\"type\":\"bar\",\"x\":[\"CHL\"],\"xaxis\":\"x\",\"y\":[3],\"yaxis\":\"y\"},{\"alignmentgroup\":\"True\",\"hovertemplate\":\"pais=%{x}<br>registration_year_month=20178<br>count=%{y}<extra></extra>\",\"ids\":[\"COL\"],\"legendgroup\":\"COL\",\"marker\":{\"color\":\"#B6E880\",\"pattern\":{\"shape\":\"\"}},\"name\":\"COL\",\"offsetgroup\":\"COL\",\"orientation\":\"v\",\"showlegend\":true,\"textposition\":\"auto\",\"type\":\"bar\",\"x\":[\"COL\"],\"xaxis\":\"x\",\"y\":[7],\"yaxis\":\"y\"},{\"alignmentgroup\":\"True\",\"hovertemplate\":\"pais=%{x}<br>registration_year_month=20178<br>count=%{y}<extra></extra>\",\"ids\":[\"ARG\"],\"legendgroup\":\"ARG\",\"marker\":{\"color\":\"#FECB52\",\"pattern\":{\"shape\":\"\"}},\"name\":\"ARG\",\"offsetgroup\":\"ARG\",\"orientation\":\"v\",\"showlegend\":true,\"textposition\":\"auto\",\"type\":\"bar\",\"x\":[\"ARG\"],\"xaxis\":\"x\",\"y\":[7],\"yaxis\":\"y\"},{\"alignmentgroup\":\"True\",\"hovertemplate\":\"pais=%{x}<br>registration_year_month=20178<br>count=%{y}<extra></extra>\",\"ids\":[\"ECU\"],\"legendgroup\":\"ECU\",\"marker\":{\"color\":\"#B6E880\",\"pattern\":{\"shape\":\"\"}},\"name\":\"ECU\",\"offsetgroup\":\"ECU\",\"orientation\":\"v\",\"showlegend\":true,\"textposition\":\"auto\",\"type\":\"bar\",\"x\":[\"ECU\"],\"xaxis\":\"x\",\"y\":[12],\"yaxis\":\"y\"},{\"alignmentgroup\":\"True\",\"hovertemplate\":\"pais=%{x}<br>registration_year_month=20178<br>count=%{y}<extra></extra>\",\"ids\":[\"PAN\"],\"legendgroup\":\"PAN\",\"marker\":{\"color\":\"#EF553B\",\"pattern\":{\"shape\":\"\"}},\"name\":\"PAN\",\"offsetgroup\":\"PAN\",\"orientation\":\"v\",\"showlegend\":true,\"textposition\":\"auto\",\"type\":\"bar\",\"x\":[\"PAN\"],\"xaxis\":\"x\",\"y\":[2],\"yaxis\":\"y\"},{\"alignmentgroup\":\"True\",\"hovertemplate\":\"pais=%{x}<br>registration_year_month=20178<br>count=%{y}<extra></extra>\",\"ids\":[\"PRT\"],\"legendgroup\":\"PRT\",\"marker\":{\"color\":\"#FFA15A\",\"pattern\":{\"shape\":\"\"}},\"name\":\"PRT\",\"offsetgroup\":\"PRT\",\"orientation\":\"v\",\"showlegend\":true,\"textposition\":\"auto\",\"type\":\"bar\",\"x\":[\"PRT\"],\"xaxis\":\"x\",\"y\":[1],\"yaxis\":\"y\"},{\"alignmentgroup\":\"True\",\"hovertemplate\":\"pais=%{x}<br>registration_year_month=20178<br>count=%{y}<extra></extra>\",\"ids\":[\"BGR\"],\"legendgroup\":\"BGR\",\"marker\":{\"color\":\"#FF6692\",\"pattern\":{\"shape\":\"\"}},\"name\":\"BGR\",\"offsetgroup\":\"BGR\",\"orientation\":\"v\",\"showlegend\":true,\"textposition\":\"auto\",\"type\":\"bar\",\"x\":[\"BGR\"],\"xaxis\":\"x\",\"y\":[1],\"yaxis\":\"y\"}],\"name\":\"20178\"},{\"data\":[{\"alignmentgroup\":\"True\",\"hovertemplate\":\"pais=%{x}<br>registration_year_month=20179<br>count=%{y}<extra></extra>\",\"ids\":[\"ESP\"],\"legendgroup\":\"ESP\",\"marker\":{\"color\":\"#EF553B\",\"pattern\":{\"shape\":\"\"}},\"name\":\"ESP\",\"offsetgroup\":\"ESP\",\"orientation\":\"v\",\"showlegend\":true,\"textposition\":\"auto\",\"type\":\"bar\",\"x\":[\"ESP\"],\"xaxis\":\"x\",\"y\":[51],\"yaxis\":\"y\"},{\"alignmentgroup\":\"True\",\"hovertemplate\":\"pais=%{x}<br>registration_year_month=20179<br>count=%{y}<extra></extra>\",\"ids\":[\"MEX\"],\"legendgroup\":\"MEX\",\"marker\":{\"color\":\"#00cc96\",\"pattern\":{\"shape\":\"\"}},\"name\":\"MEX\",\"offsetgroup\":\"MEX\",\"orientation\":\"v\",\"showlegend\":true,\"textposition\":\"auto\",\"type\":\"bar\",\"x\":[\"MEX\"],\"xaxis\":\"x\",\"y\":[9],\"yaxis\":\"y\"},{\"alignmentgroup\":\"True\",\"hovertemplate\":\"pais=%{x}<br>registration_year_month=20179<br>count=%{y}<extra></extra>\",\"ids\":[\"PER\"],\"legendgroup\":\"PER\",\"marker\":{\"color\":\"#ab63fa\",\"pattern\":{\"shape\":\"\"}},\"name\":\"PER\",\"offsetgroup\":\"PER\",\"orientation\":\"v\",\"showlegend\":true,\"textposition\":\"auto\",\"type\":\"bar\",\"x\":[\"PER\"],\"xaxis\":\"x\",\"y\":[1],\"yaxis\":\"y\"},{\"alignmentgroup\":\"True\",\"hovertemplate\":\"pais=%{x}<br>registration_year_month=20179<br>count=%{y}<extra></extra>\",\"ids\":[\"CHL\"],\"legendgroup\":\"CHL\",\"marker\":{\"color\":\"#FF6692\",\"pattern\":{\"shape\":\"\"}},\"name\":\"CHL\",\"offsetgroup\":\"CHL\",\"orientation\":\"v\",\"showlegend\":true,\"textposition\":\"auto\",\"type\":\"bar\",\"x\":[\"CHL\"],\"xaxis\":\"x\",\"y\":[1],\"yaxis\":\"y\"},{\"alignmentgroup\":\"True\",\"hovertemplate\":\"pais=%{x}<br>registration_year_month=20179<br>count=%{y}<extra></extra>\",\"ids\":[\"COL\"],\"legendgroup\":\"COL\",\"marker\":{\"color\":\"#B6E880\",\"pattern\":{\"shape\":\"\"}},\"name\":\"COL\",\"offsetgroup\":\"COL\",\"orientation\":\"v\",\"showlegend\":true,\"textposition\":\"auto\",\"type\":\"bar\",\"x\":[\"COL\"],\"xaxis\":\"x\",\"y\":[2],\"yaxis\":\"y\"},{\"alignmentgroup\":\"True\",\"hovertemplate\":\"pais=%{x}<br>registration_year_month=20179<br>count=%{y}<extra></extra>\",\"ids\":[\"GTM\"],\"legendgroup\":\"GTM\",\"marker\":{\"color\":\"#FF97FF\",\"pattern\":{\"shape\":\"\"}},\"name\":\"GTM\",\"offsetgroup\":\"GTM\",\"orientation\":\"v\",\"showlegend\":true,\"textposition\":\"auto\",\"type\":\"bar\",\"x\":[\"GTM\"],\"xaxis\":\"x\",\"y\":[1],\"yaxis\":\"y\"},{\"alignmentgroup\":\"True\",\"hovertemplate\":\"pais=%{x}<br>registration_year_month=20179<br>count=%{y}<extra></extra>\",\"ids\":[\"ARG\"],\"legendgroup\":\"ARG\",\"marker\":{\"color\":\"#FECB52\",\"pattern\":{\"shape\":\"\"}},\"name\":\"ARG\",\"offsetgroup\":\"ARG\",\"orientation\":\"v\",\"showlegend\":true,\"textposition\":\"auto\",\"type\":\"bar\",\"x\":[\"ARG\"],\"xaxis\":\"x\",\"y\":[2],\"yaxis\":\"y\"},{\"alignmentgroup\":\"True\",\"hovertemplate\":\"pais=%{x}<br>registration_year_month=20179<br>count=%{y}<extra></extra>\",\"ids\":[\"VEN\"],\"legendgroup\":\"VEN\",\"marker\":{\"color\":\"#EF553B\",\"pattern\":{\"shape\":\"\"}},\"name\":\"VEN\",\"offsetgroup\":\"VEN\",\"orientation\":\"v\",\"showlegend\":true,\"textposition\":\"auto\",\"type\":\"bar\",\"x\":[\"VEN\"],\"xaxis\":\"x\",\"y\":[1],\"yaxis\":\"y\"},{\"alignmentgroup\":\"True\",\"hovertemplate\":\"pais=%{x}<br>registration_year_month=20179<br>count=%{y}<extra></extra>\",\"ids\":[\"ECU\"],\"legendgroup\":\"ECU\",\"marker\":{\"color\":\"#B6E880\",\"pattern\":{\"shape\":\"\"}},\"name\":\"ECU\",\"offsetgroup\":\"ECU\",\"orientation\":\"v\",\"showlegend\":true,\"textposition\":\"auto\",\"type\":\"bar\",\"x\":[\"ECU\"],\"xaxis\":\"x\",\"y\":[1],\"yaxis\":\"y\"},{\"alignmentgroup\":\"True\",\"hovertemplate\":\"pais=%{x}<br>registration_year_month=20179<br>count=%{y}<extra></extra>\",\"ids\":[\"CRI\"],\"legendgroup\":\"CRI\",\"marker\":{\"color\":\"#FECB52\",\"pattern\":{\"shape\":\"\"}},\"name\":\"CRI\",\"offsetgroup\":\"CRI\",\"orientation\":\"v\",\"showlegend\":true,\"textposition\":\"auto\",\"type\":\"bar\",\"x\":[\"CRI\"],\"xaxis\":\"x\",\"y\":[2],\"yaxis\":\"y\"},{\"alignmentgroup\":\"True\",\"hovertemplate\":\"pais=%{x}<br>registration_year_month=20179<br>count=%{y}<extra></extra>\",\"ids\":[\"PAN\"],\"legendgroup\":\"PAN\",\"marker\":{\"color\":\"#EF553B\",\"pattern\":{\"shape\":\"\"}},\"name\":\"PAN\",\"offsetgroup\":\"PAN\",\"orientation\":\"v\",\"showlegend\":true,\"textposition\":\"auto\",\"type\":\"bar\",\"x\":[\"PAN\"],\"xaxis\":\"x\",\"y\":[2],\"yaxis\":\"y\"},{\"alignmentgroup\":\"True\",\"hovertemplate\":\"pais=%{x}<br>registration_year_month=20179<br>count=%{y}<extra></extra>\",\"ids\":[\"SLV\"],\"legendgroup\":\"SLV\",\"marker\":{\"color\":\"#FECB52\",\"pattern\":{\"shape\":\"\"}},\"name\":\"SLV\",\"offsetgroup\":\"SLV\",\"orientation\":\"v\",\"showlegend\":true,\"textposition\":\"auto\",\"type\":\"bar\",\"x\":[\"SLV\"],\"xaxis\":\"x\",\"y\":[1],\"yaxis\":\"y\"},{\"alignmentgroup\":\"True\",\"hovertemplate\":\"pais=%{x}<br>registration_year_month=20179<br>count=%{y}<extra></extra>\",\"ids\":[\"NIC\"],\"legendgroup\":\"NIC\",\"marker\":{\"color\":\"#00cc96\",\"pattern\":{\"shape\":\"\"}},\"name\":\"NIC\",\"offsetgroup\":\"NIC\",\"orientation\":\"v\",\"showlegend\":true,\"textposition\":\"auto\",\"type\":\"bar\",\"x\":[\"NIC\"],\"xaxis\":\"x\",\"y\":[1],\"yaxis\":\"y\"},{\"alignmentgroup\":\"True\",\"hovertemplate\":\"pais=%{x}<br>registration_year_month=20179<br>count=%{y}<extra></extra>\",\"ids\":[\"RUS\"],\"legendgroup\":\"RUS\",\"marker\":{\"color\":\"#B6E880\",\"pattern\":{\"shape\":\"\"}},\"name\":\"RUS\",\"offsetgroup\":\"RUS\",\"orientation\":\"v\",\"showlegend\":true,\"textposition\":\"auto\",\"type\":\"bar\",\"x\":[\"RUS\"],\"xaxis\":\"x\",\"y\":[1],\"yaxis\":\"y\"}],\"name\":\"20179\"},{\"data\":[{\"alignmentgroup\":\"True\",\"hovertemplate\":\"pais=%{x}<br>registration_year_month=20181<br>count=%{y}<extra></extra>\",\"ids\":[\"DOM\"],\"legendgroup\":\"DOM\",\"marker\":{\"color\":\"#636efa\",\"pattern\":{\"shape\":\"\"}},\"name\":\"DOM\",\"offsetgroup\":\"DOM\",\"orientation\":\"v\",\"showlegend\":true,\"textposition\":\"auto\",\"type\":\"bar\",\"x\":[\"DOM\"],\"xaxis\":\"x\",\"y\":[1],\"yaxis\":\"y\"},{\"alignmentgroup\":\"True\",\"hovertemplate\":\"pais=%{x}<br>registration_year_month=20181<br>count=%{y}<extra></extra>\",\"ids\":[\"ESP\"],\"legendgroup\":\"ESP\",\"marker\":{\"color\":\"#EF553B\",\"pattern\":{\"shape\":\"\"}},\"name\":\"ESP\",\"offsetgroup\":\"ESP\",\"orientation\":\"v\",\"showlegend\":true,\"textposition\":\"auto\",\"type\":\"bar\",\"x\":[\"ESP\"],\"xaxis\":\"x\",\"y\":[173],\"yaxis\":\"y\"},{\"alignmentgroup\":\"True\",\"hovertemplate\":\"pais=%{x}<br>registration_year_month=20181<br>count=%{y}<extra></extra>\",\"ids\":[\"MEX\"],\"legendgroup\":\"MEX\",\"marker\":{\"color\":\"#00cc96\",\"pattern\":{\"shape\":\"\"}},\"name\":\"MEX\",\"offsetgroup\":\"MEX\",\"orientation\":\"v\",\"showlegend\":true,\"textposition\":\"auto\",\"type\":\"bar\",\"x\":[\"MEX\"],\"xaxis\":\"x\",\"y\":[135],\"yaxis\":\"y\"},{\"alignmentgroup\":\"True\",\"hovertemplate\":\"pais=%{x}<br>registration_year_month=20181<br>count=%{y}<extra></extra>\",\"ids\":[\"PER\"],\"legendgroup\":\"PER\",\"marker\":{\"color\":\"#ab63fa\",\"pattern\":{\"shape\":\"\"}},\"name\":\"PER\",\"offsetgroup\":\"PER\",\"orientation\":\"v\",\"showlegend\":true,\"textposition\":\"auto\",\"type\":\"bar\",\"x\":[\"PER\"],\"xaxis\":\"x\",\"y\":[2],\"yaxis\":\"y\"},{\"alignmentgroup\":\"True\",\"hovertemplate\":\"pais=%{x}<br>registration_year_month=20181<br>count=%{y}<extra></extra>\",\"ids\":[\"CHL\"],\"legendgroup\":\"CHL\",\"marker\":{\"color\":\"#FF6692\",\"pattern\":{\"shape\":\"\"}},\"name\":\"CHL\",\"offsetgroup\":\"CHL\",\"orientation\":\"v\",\"showlegend\":true,\"textposition\":\"auto\",\"type\":\"bar\",\"x\":[\"CHL\"],\"xaxis\":\"x\",\"y\":[1],\"yaxis\":\"y\"},{\"alignmentgroup\":\"True\",\"hovertemplate\":\"pais=%{x}<br>registration_year_month=20181<br>count=%{y}<extra></extra>\",\"ids\":[\"COL\"],\"legendgroup\":\"COL\",\"marker\":{\"color\":\"#B6E880\",\"pattern\":{\"shape\":\"\"}},\"name\":\"COL\",\"offsetgroup\":\"COL\",\"orientation\":\"v\",\"showlegend\":true,\"textposition\":\"auto\",\"type\":\"bar\",\"x\":[\"COL\"],\"xaxis\":\"x\",\"y\":[2],\"yaxis\":\"y\"},{\"alignmentgroup\":\"True\",\"hovertemplate\":\"pais=%{x}<br>registration_year_month=20181<br>count=%{y}<extra></extra>\",\"ids\":[\"GTM\"],\"legendgroup\":\"GTM\",\"marker\":{\"color\":\"#FF97FF\",\"pattern\":{\"shape\":\"\"}},\"name\":\"GTM\",\"offsetgroup\":\"GTM\",\"orientation\":\"v\",\"showlegend\":true,\"textposition\":\"auto\",\"type\":\"bar\",\"x\":[\"GTM\"],\"xaxis\":\"x\",\"y\":[1],\"yaxis\":\"y\"},{\"alignmentgroup\":\"True\",\"hovertemplate\":\"pais=%{x}<br>registration_year_month=20181<br>count=%{y}<extra></extra>\",\"ids\":[\"ARG\"],\"legendgroup\":\"ARG\",\"marker\":{\"color\":\"#FECB52\",\"pattern\":{\"shape\":\"\"}},\"name\":\"ARG\",\"offsetgroup\":\"ARG\",\"orientation\":\"v\",\"showlegend\":true,\"textposition\":\"auto\",\"type\":\"bar\",\"x\":[\"ARG\"],\"xaxis\":\"x\",\"y\":[2],\"yaxis\":\"y\"},{\"alignmentgroup\":\"True\",\"hovertemplate\":\"pais=%{x}<br>registration_year_month=20181<br>count=%{y}<extra></extra>\",\"ids\":[\"AND\"],\"legendgroup\":\"AND\",\"marker\":{\"color\":\"#00cc96\",\"pattern\":{\"shape\":\"\"}},\"name\":\"AND\",\"offsetgroup\":\"AND\",\"orientation\":\"v\",\"showlegend\":true,\"textposition\":\"auto\",\"type\":\"bar\",\"x\":[\"AND\"],\"xaxis\":\"x\",\"y\":[3],\"yaxis\":\"y\"},{\"alignmentgroup\":\"True\",\"hovertemplate\":\"pais=%{x}<br>registration_year_month=20181<br>count=%{y}<extra></extra>\",\"ids\":[\"USA\"],\"legendgroup\":\"USA\",\"marker\":{\"color\":\"#FF97FF\",\"pattern\":{\"shape\":\"\"}},\"name\":\"USA\",\"offsetgroup\":\"USA\",\"orientation\":\"v\",\"showlegend\":true,\"textposition\":\"auto\",\"type\":\"bar\",\"x\":[\"USA\"],\"xaxis\":\"x\",\"y\":[1],\"yaxis\":\"y\"},{\"alignmentgroup\":\"True\",\"hovertemplate\":\"pais=%{x}<br>registration_year_month=20181<br>count=%{y}<extra></extra>\",\"ids\":[\"PRY\"],\"legendgroup\":\"PRY\",\"marker\":{\"color\":\"#19d3f3\",\"pattern\":{\"shape\":\"\"}},\"name\":\"PRY\",\"offsetgroup\":\"PRY\",\"orientation\":\"v\",\"showlegend\":true,\"textposition\":\"auto\",\"type\":\"bar\",\"x\":[\"PRY\"],\"xaxis\":\"x\",\"y\":[1],\"yaxis\":\"y\"},{\"alignmentgroup\":\"True\",\"hovertemplate\":\"pais=%{x}<br>registration_year_month=20181<br>count=%{y}<extra></extra>\",\"ids\":[\"MYS\"],\"legendgroup\":\"MYS\",\"marker\":{\"color\":\"#FF97FF\",\"pattern\":{\"shape\":\"\"}},\"name\":\"MYS\",\"offsetgroup\":\"MYS\",\"orientation\":\"v\",\"showlegend\":true,\"textposition\":\"auto\",\"type\":\"bar\",\"x\":[\"MYS\"],\"xaxis\":\"x\",\"y\":[1],\"yaxis\":\"y\"},{\"alignmentgroup\":\"True\",\"hovertemplate\":\"pais=%{x}<br>registration_year_month=20181<br>count=%{y}<extra></extra>\",\"ids\":[\"TUR\"],\"legendgroup\":\"TUR\",\"marker\":{\"color\":\"#FECB52\",\"pattern\":{\"shape\":\"\"}},\"name\":\"TUR\",\"offsetgroup\":\"TUR\",\"orientation\":\"v\",\"showlegend\":true,\"textposition\":\"auto\",\"type\":\"bar\",\"x\":[\"TUR\"],\"xaxis\":\"x\",\"y\":[1],\"yaxis\":\"y\"}],\"name\":\"20181\"},{\"data\":[{\"alignmentgroup\":\"True\",\"hovertemplate\":\"pais=%{x}<br>registration_year_month=201810<br>count=%{y}<extra></extra>\",\"ids\":[\"DOM\"],\"legendgroup\":\"DOM\",\"marker\":{\"color\":\"#636efa\",\"pattern\":{\"shape\":\"\"}},\"name\":\"DOM\",\"offsetgroup\":\"DOM\",\"orientation\":\"v\",\"showlegend\":true,\"textposition\":\"auto\",\"type\":\"bar\",\"x\":[\"DOM\"],\"xaxis\":\"x\",\"y\":[18],\"yaxis\":\"y\"},{\"alignmentgroup\":\"True\",\"hovertemplate\":\"pais=%{x}<br>registration_year_month=201810<br>count=%{y}<extra></extra>\",\"ids\":[\"ESP\"],\"legendgroup\":\"ESP\",\"marker\":{\"color\":\"#EF553B\",\"pattern\":{\"shape\":\"\"}},\"name\":\"ESP\",\"offsetgroup\":\"ESP\",\"orientation\":\"v\",\"showlegend\":true,\"textposition\":\"auto\",\"type\":\"bar\",\"x\":[\"ESP\"],\"xaxis\":\"x\",\"y\":[72],\"yaxis\":\"y\"},{\"alignmentgroup\":\"True\",\"hovertemplate\":\"pais=%{x}<br>registration_year_month=201810<br>count=%{y}<extra></extra>\",\"ids\":[\"MEX\"],\"legendgroup\":\"MEX\",\"marker\":{\"color\":\"#00cc96\",\"pattern\":{\"shape\":\"\"}},\"name\":\"MEX\",\"offsetgroup\":\"MEX\",\"orientation\":\"v\",\"showlegend\":true,\"textposition\":\"auto\",\"type\":\"bar\",\"x\":[\"MEX\"],\"xaxis\":\"x\",\"y\":[22],\"yaxis\":\"y\"},{\"alignmentgroup\":\"True\",\"hovertemplate\":\"pais=%{x}<br>registration_year_month=201810<br>count=%{y}<extra></extra>\",\"ids\":[\"PER\"],\"legendgroup\":\"PER\",\"marker\":{\"color\":\"#ab63fa\",\"pattern\":{\"shape\":\"\"}},\"name\":\"PER\",\"offsetgroup\":\"PER\",\"orientation\":\"v\",\"showlegend\":true,\"textposition\":\"auto\",\"type\":\"bar\",\"x\":[\"PER\"],\"xaxis\":\"x\",\"y\":[1],\"yaxis\":\"y\"},{\"alignmentgroup\":\"True\",\"hovertemplate\":\"pais=%{x}<br>registration_year_month=201810<br>count=%{y}<extra></extra>\",\"ids\":[\"CHL\"],\"legendgroup\":\"CHL\",\"marker\":{\"color\":\"#FF6692\",\"pattern\":{\"shape\":\"\"}},\"name\":\"CHL\",\"offsetgroup\":\"CHL\",\"orientation\":\"v\",\"showlegend\":true,\"textposition\":\"auto\",\"type\":\"bar\",\"x\":[\"CHL\"],\"xaxis\":\"x\",\"y\":[1],\"yaxis\":\"y\"},{\"alignmentgroup\":\"True\",\"hovertemplate\":\"pais=%{x}<br>registration_year_month=201810<br>count=%{y}<extra></extra>\",\"ids\":[\"COL\"],\"legendgroup\":\"COL\",\"marker\":{\"color\":\"#B6E880\",\"pattern\":{\"shape\":\"\"}},\"name\":\"COL\",\"offsetgroup\":\"COL\",\"orientation\":\"v\",\"showlegend\":true,\"textposition\":\"auto\",\"type\":\"bar\",\"x\":[\"COL\"],\"xaxis\":\"x\",\"y\":[2],\"yaxis\":\"y\"},{\"alignmentgroup\":\"True\",\"hovertemplate\":\"pais=%{x}<br>registration_year_month=201810<br>count=%{y}<extra></extra>\",\"ids\":[\"GTM\"],\"legendgroup\":\"GTM\",\"marker\":{\"color\":\"#FF97FF\",\"pattern\":{\"shape\":\"\"}},\"name\":\"GTM\",\"offsetgroup\":\"GTM\",\"orientation\":\"v\",\"showlegend\":true,\"textposition\":\"auto\",\"type\":\"bar\",\"x\":[\"GTM\"],\"xaxis\":\"x\",\"y\":[1],\"yaxis\":\"y\"},{\"alignmentgroup\":\"True\",\"hovertemplate\":\"pais=%{x}<br>registration_year_month=201810<br>count=%{y}<extra></extra>\",\"ids\":[\"ARG\"],\"legendgroup\":\"ARG\",\"marker\":{\"color\":\"#FECB52\",\"pattern\":{\"shape\":\"\"}},\"name\":\"ARG\",\"offsetgroup\":\"ARG\",\"orientation\":\"v\",\"showlegend\":true,\"textposition\":\"auto\",\"type\":\"bar\",\"x\":[\"ARG\"],\"xaxis\":\"x\",\"y\":[1],\"yaxis\":\"y\"},{\"alignmentgroup\":\"True\",\"hovertemplate\":\"pais=%{x}<br>registration_year_month=201810<br>count=%{y}<extra></extra>\",\"ids\":[\"ECU\"],\"legendgroup\":\"ECU\",\"marker\":{\"color\":\"#B6E880\",\"pattern\":{\"shape\":\"\"}},\"name\":\"ECU\",\"offsetgroup\":\"ECU\",\"orientation\":\"v\",\"showlegend\":true,\"textposition\":\"auto\",\"type\":\"bar\",\"x\":[\"ECU\"],\"xaxis\":\"x\",\"y\":[4],\"yaxis\":\"y\"},{\"alignmentgroup\":\"True\",\"hovertemplate\":\"pais=%{x}<br>registration_year_month=201810<br>count=%{y}<extra></extra>\",\"ids\":[\"CRI\"],\"legendgroup\":\"CRI\",\"marker\":{\"color\":\"#FECB52\",\"pattern\":{\"shape\":\"\"}},\"name\":\"CRI\",\"offsetgroup\":\"CRI\",\"orientation\":\"v\",\"showlegend\":true,\"textposition\":\"auto\",\"type\":\"bar\",\"x\":[\"CRI\"],\"xaxis\":\"x\",\"y\":[3],\"yaxis\":\"y\"},{\"alignmentgroup\":\"True\",\"hovertemplate\":\"pais=%{x}<br>registration_year_month=201810<br>count=%{y}<extra></extra>\",\"ids\":[\"HND\"],\"legendgroup\":\"HND\",\"marker\":{\"color\":\"#B6E880\",\"pattern\":{\"shape\":\"\"}},\"name\":\"HND\",\"offsetgroup\":\"HND\",\"orientation\":\"v\",\"showlegend\":true,\"textposition\":\"auto\",\"type\":\"bar\",\"x\":[\"HND\"],\"xaxis\":\"x\",\"y\":[4],\"yaxis\":\"y\"},{\"alignmentgroup\":\"True\",\"hovertemplate\":\"pais=%{x}<br>registration_year_month=201810<br>count=%{y}<extra></extra>\",\"ids\":[\"AFG\"],\"legendgroup\":\"AFG\",\"marker\":{\"color\":\"#636efa\",\"pattern\":{\"shape\":\"\"}},\"name\":\"AFG\",\"offsetgroup\":\"AFG\",\"orientation\":\"v\",\"showlegend\":true,\"textposition\":\"auto\",\"type\":\"bar\",\"x\":[\"AFG\"],\"xaxis\":\"x\",\"y\":[3],\"yaxis\":\"y\"}],\"name\":\"201810\"},{\"data\":[{\"alignmentgroup\":\"True\",\"hovertemplate\":\"pais=%{x}<br>registration_year_month=201811<br>count=%{y}<extra></extra>\",\"ids\":[\"DOM\"],\"legendgroup\":\"DOM\",\"marker\":{\"color\":\"#636efa\",\"pattern\":{\"shape\":\"\"}},\"name\":\"DOM\",\"offsetgroup\":\"DOM\",\"orientation\":\"v\",\"showlegend\":true,\"textposition\":\"auto\",\"type\":\"bar\",\"x\":[\"DOM\"],\"xaxis\":\"x\",\"y\":[2],\"yaxis\":\"y\"},{\"alignmentgroup\":\"True\",\"hovertemplate\":\"pais=%{x}<br>registration_year_month=201811<br>count=%{y}<extra></extra>\",\"ids\":[\"ESP\"],\"legendgroup\":\"ESP\",\"marker\":{\"color\":\"#EF553B\",\"pattern\":{\"shape\":\"\"}},\"name\":\"ESP\",\"offsetgroup\":\"ESP\",\"orientation\":\"v\",\"showlegend\":true,\"textposition\":\"auto\",\"type\":\"bar\",\"x\":[\"ESP\"],\"xaxis\":\"x\",\"y\":[224],\"yaxis\":\"y\"},{\"alignmentgroup\":\"True\",\"hovertemplate\":\"pais=%{x}<br>registration_year_month=201811<br>count=%{y}<extra></extra>\",\"ids\":[\"MEX\"],\"legendgroup\":\"MEX\",\"marker\":{\"color\":\"#00cc96\",\"pattern\":{\"shape\":\"\"}},\"name\":\"MEX\",\"offsetgroup\":\"MEX\",\"orientation\":\"v\",\"showlegend\":true,\"textposition\":\"auto\",\"type\":\"bar\",\"x\":[\"MEX\"],\"xaxis\":\"x\",\"y\":[3],\"yaxis\":\"y\"},{\"alignmentgroup\":\"True\",\"hovertemplate\":\"pais=%{x}<br>registration_year_month=201811<br>count=%{y}<extra></extra>\",\"ids\":[\"PER\"],\"legendgroup\":\"PER\",\"marker\":{\"color\":\"#ab63fa\",\"pattern\":{\"shape\":\"\"}},\"name\":\"PER\",\"offsetgroup\":\"PER\",\"orientation\":\"v\",\"showlegend\":true,\"textposition\":\"auto\",\"type\":\"bar\",\"x\":[\"PER\"],\"xaxis\":\"x\",\"y\":[4],\"yaxis\":\"y\"},{\"alignmentgroup\":\"True\",\"hovertemplate\":\"pais=%{x}<br>registration_year_month=201811<br>count=%{y}<extra></extra>\",\"ids\":[\"CHL\"],\"legendgroup\":\"CHL\",\"marker\":{\"color\":\"#FF6692\",\"pattern\":{\"shape\":\"\"}},\"name\":\"CHL\",\"offsetgroup\":\"CHL\",\"orientation\":\"v\",\"showlegend\":true,\"textposition\":\"auto\",\"type\":\"bar\",\"x\":[\"CHL\"],\"xaxis\":\"x\",\"y\":[2],\"yaxis\":\"y\"},{\"alignmentgroup\":\"True\",\"hovertemplate\":\"pais=%{x}<br>registration_year_month=201811<br>count=%{y}<extra></extra>\",\"ids\":[\"COL\"],\"legendgroup\":\"COL\",\"marker\":{\"color\":\"#B6E880\",\"pattern\":{\"shape\":\"\"}},\"name\":\"COL\",\"offsetgroup\":\"COL\",\"orientation\":\"v\",\"showlegend\":true,\"textposition\":\"auto\",\"type\":\"bar\",\"x\":[\"COL\"],\"xaxis\":\"x\",\"y\":[1],\"yaxis\":\"y\"},{\"alignmentgroup\":\"True\",\"hovertemplate\":\"pais=%{x}<br>registration_year_month=201811<br>count=%{y}<extra></extra>\",\"ids\":[\"GTM\"],\"legendgroup\":\"GTM\",\"marker\":{\"color\":\"#FF97FF\",\"pattern\":{\"shape\":\"\"}},\"name\":\"GTM\",\"offsetgroup\":\"GTM\",\"orientation\":\"v\",\"showlegend\":true,\"textposition\":\"auto\",\"type\":\"bar\",\"x\":[\"GTM\"],\"xaxis\":\"x\",\"y\":[1],\"yaxis\":\"y\"},{\"alignmentgroup\":\"True\",\"hovertemplate\":\"pais=%{x}<br>registration_year_month=201811<br>count=%{y}<extra></extra>\",\"ids\":[\"ARG\"],\"legendgroup\":\"ARG\",\"marker\":{\"color\":\"#FECB52\",\"pattern\":{\"shape\":\"\"}},\"name\":\"ARG\",\"offsetgroup\":\"ARG\",\"orientation\":\"v\",\"showlegend\":true,\"textposition\":\"auto\",\"type\":\"bar\",\"x\":[\"ARG\"],\"xaxis\":\"x\",\"y\":[2],\"yaxis\":\"y\"},{\"alignmentgroup\":\"True\",\"hovertemplate\":\"pais=%{x}<br>registration_year_month=201811<br>count=%{y}<extra></extra>\",\"ids\":[\"AND\"],\"legendgroup\":\"AND\",\"marker\":{\"color\":\"#00cc96\",\"pattern\":{\"shape\":\"\"}},\"name\":\"AND\",\"offsetgroup\":\"AND\",\"orientation\":\"v\",\"showlegend\":true,\"textposition\":\"auto\",\"type\":\"bar\",\"x\":[\"AND\"],\"xaxis\":\"x\",\"y\":[1],\"yaxis\":\"y\"},{\"alignmentgroup\":\"True\",\"hovertemplate\":\"pais=%{x}<br>registration_year_month=201811<br>count=%{y}<extra></extra>\",\"ids\":[\"ECU\"],\"legendgroup\":\"ECU\",\"marker\":{\"color\":\"#B6E880\",\"pattern\":{\"shape\":\"\"}},\"name\":\"ECU\",\"offsetgroup\":\"ECU\",\"orientation\":\"v\",\"showlegend\":true,\"textposition\":\"auto\",\"type\":\"bar\",\"x\":[\"ECU\"],\"xaxis\":\"x\",\"y\":[1],\"yaxis\":\"y\"},{\"alignmentgroup\":\"True\",\"hovertemplate\":\"pais=%{x}<br>registration_year_month=201811<br>count=%{y}<extra></extra>\",\"ids\":[\"CRI\"],\"legendgroup\":\"CRI\",\"marker\":{\"color\":\"#FECB52\",\"pattern\":{\"shape\":\"\"}},\"name\":\"CRI\",\"offsetgroup\":\"CRI\",\"orientation\":\"v\",\"showlegend\":true,\"textposition\":\"auto\",\"type\":\"bar\",\"x\":[\"CRI\"],\"xaxis\":\"x\",\"y\":[4],\"yaxis\":\"y\"},{\"alignmentgroup\":\"True\",\"hovertemplate\":\"pais=%{x}<br>registration_year_month=201811<br>count=%{y}<extra></extra>\",\"ids\":[\"PAN\"],\"legendgroup\":\"PAN\",\"marker\":{\"color\":\"#EF553B\",\"pattern\":{\"shape\":\"\"}},\"name\":\"PAN\",\"offsetgroup\":\"PAN\",\"orientation\":\"v\",\"showlegend\":true,\"textposition\":\"auto\",\"type\":\"bar\",\"x\":[\"PAN\"],\"xaxis\":\"x\",\"y\":[2],\"yaxis\":\"y\"},{\"alignmentgroup\":\"True\",\"hovertemplate\":\"pais=%{x}<br>registration_year_month=201811<br>count=%{y}<extra></extra>\",\"ids\":[\"HND\"],\"legendgroup\":\"HND\",\"marker\":{\"color\":\"#B6E880\",\"pattern\":{\"shape\":\"\"}},\"name\":\"HND\",\"offsetgroup\":\"HND\",\"orientation\":\"v\",\"showlegend\":true,\"textposition\":\"auto\",\"type\":\"bar\",\"x\":[\"HND\"],\"xaxis\":\"x\",\"y\":[1],\"yaxis\":\"y\"}],\"name\":\"201811\"},{\"data\":[{\"alignmentgroup\":\"True\",\"hovertemplate\":\"pais=%{x}<br>registration_year_month=201812<br>count=%{y}<extra></extra>\",\"ids\":[\"DOM\"],\"legendgroup\":\"DOM\",\"marker\":{\"color\":\"#636efa\",\"pattern\":{\"shape\":\"\"}},\"name\":\"DOM\",\"offsetgroup\":\"DOM\",\"orientation\":\"v\",\"showlegend\":true,\"textposition\":\"auto\",\"type\":\"bar\",\"x\":[\"DOM\"],\"xaxis\":\"x\",\"y\":[1],\"yaxis\":\"y\"},{\"alignmentgroup\":\"True\",\"hovertemplate\":\"pais=%{x}<br>registration_year_month=201812<br>count=%{y}<extra></extra>\",\"ids\":[\"ESP\"],\"legendgroup\":\"ESP\",\"marker\":{\"color\":\"#EF553B\",\"pattern\":{\"shape\":\"\"}},\"name\":\"ESP\",\"offsetgroup\":\"ESP\",\"orientation\":\"v\",\"showlegend\":true,\"textposition\":\"auto\",\"type\":\"bar\",\"x\":[\"ESP\"],\"xaxis\":\"x\",\"y\":[39],\"yaxis\":\"y\"},{\"alignmentgroup\":\"True\",\"hovertemplate\":\"pais=%{x}<br>registration_year_month=201812<br>count=%{y}<extra></extra>\",\"ids\":[\"MEX\"],\"legendgroup\":\"MEX\",\"marker\":{\"color\":\"#00cc96\",\"pattern\":{\"shape\":\"\"}},\"name\":\"MEX\",\"offsetgroup\":\"MEX\",\"orientation\":\"v\",\"showlegend\":true,\"textposition\":\"auto\",\"type\":\"bar\",\"x\":[\"MEX\"],\"xaxis\":\"x\",\"y\":[28],\"yaxis\":\"y\"},{\"alignmentgroup\":\"True\",\"hovertemplate\":\"pais=%{x}<br>registration_year_month=201812<br>count=%{y}<extra></extra>\",\"ids\":[\"PER\"],\"legendgroup\":\"PER\",\"marker\":{\"color\":\"#ab63fa\",\"pattern\":{\"shape\":\"\"}},\"name\":\"PER\",\"offsetgroup\":\"PER\",\"orientation\":\"v\",\"showlegend\":true,\"textposition\":\"auto\",\"type\":\"bar\",\"x\":[\"PER\"],\"xaxis\":\"x\",\"y\":[72],\"yaxis\":\"y\"},{\"alignmentgroup\":\"True\",\"hovertemplate\":\"pais=%{x}<br>registration_year_month=201812<br>count=%{y}<extra></extra>\",\"ids\":[\"COL\"],\"legendgroup\":\"COL\",\"marker\":{\"color\":\"#B6E880\",\"pattern\":{\"shape\":\"\"}},\"name\":\"COL\",\"offsetgroup\":\"COL\",\"orientation\":\"v\",\"showlegend\":true,\"textposition\":\"auto\",\"type\":\"bar\",\"x\":[\"COL\"],\"xaxis\":\"x\",\"y\":[3],\"yaxis\":\"y\"},{\"alignmentgroup\":\"True\",\"hovertemplate\":\"pais=%{x}<br>registration_year_month=201812<br>count=%{y}<extra></extra>\",\"ids\":[\"ARG\"],\"legendgroup\":\"ARG\",\"marker\":{\"color\":\"#FECB52\",\"pattern\":{\"shape\":\"\"}},\"name\":\"ARG\",\"offsetgroup\":\"ARG\",\"orientation\":\"v\",\"showlegend\":true,\"textposition\":\"auto\",\"type\":\"bar\",\"x\":[\"ARG\"],\"xaxis\":\"x\",\"y\":[3],\"yaxis\":\"y\"},{\"alignmentgroup\":\"True\",\"hovertemplate\":\"pais=%{x}<br>registration_year_month=201812<br>count=%{y}<extra></extra>\",\"ids\":[\"VEN\"],\"legendgroup\":\"VEN\",\"marker\":{\"color\":\"#EF553B\",\"pattern\":{\"shape\":\"\"}},\"name\":\"VEN\",\"offsetgroup\":\"VEN\",\"orientation\":\"v\",\"showlegend\":true,\"textposition\":\"auto\",\"type\":\"bar\",\"x\":[\"VEN\"],\"xaxis\":\"x\",\"y\":[1],\"yaxis\":\"y\"},{\"alignmentgroup\":\"True\",\"hovertemplate\":\"pais=%{x}<br>registration_year_month=201812<br>count=%{y}<extra></extra>\",\"ids\":[\"ECU\"],\"legendgroup\":\"ECU\",\"marker\":{\"color\":\"#B6E880\",\"pattern\":{\"shape\":\"\"}},\"name\":\"ECU\",\"offsetgroup\":\"ECU\",\"orientation\":\"v\",\"showlegend\":true,\"textposition\":\"auto\",\"type\":\"bar\",\"x\":[\"ECU\"],\"xaxis\":\"x\",\"y\":[1],\"yaxis\":\"y\"},{\"alignmentgroup\":\"True\",\"hovertemplate\":\"pais=%{x}<br>registration_year_month=201812<br>count=%{y}<extra></extra>\",\"ids\":[\"CRI\"],\"legendgroup\":\"CRI\",\"marker\":{\"color\":\"#FECB52\",\"pattern\":{\"shape\":\"\"}},\"name\":\"CRI\",\"offsetgroup\":\"CRI\",\"orientation\":\"v\",\"showlegend\":true,\"textposition\":\"auto\",\"type\":\"bar\",\"x\":[\"CRI\"],\"xaxis\":\"x\",\"y\":[1],\"yaxis\":\"y\"},{\"alignmentgroup\":\"True\",\"hovertemplate\":\"pais=%{x}<br>registration_year_month=201812<br>count=%{y}<extra></extra>\",\"ids\":[\"HND\"],\"legendgroup\":\"HND\",\"marker\":{\"color\":\"#B6E880\",\"pattern\":{\"shape\":\"\"}},\"name\":\"HND\",\"offsetgroup\":\"HND\",\"orientation\":\"v\",\"showlegend\":true,\"textposition\":\"auto\",\"type\":\"bar\",\"x\":[\"HND\"],\"xaxis\":\"x\",\"y\":[2],\"yaxis\":\"y\"}],\"name\":\"201812\"},{\"data\":[{\"alignmentgroup\":\"True\",\"hovertemplate\":\"pais=%{x}<br>registration_year_month=20182<br>count=%{y}<extra></extra>\",\"ids\":[\"DOM\"],\"legendgroup\":\"DOM\",\"marker\":{\"color\":\"#636efa\",\"pattern\":{\"shape\":\"\"}},\"name\":\"DOM\",\"offsetgroup\":\"DOM\",\"orientation\":\"v\",\"showlegend\":true,\"textposition\":\"auto\",\"type\":\"bar\",\"x\":[\"DOM\"],\"xaxis\":\"x\",\"y\":[1],\"yaxis\":\"y\"},{\"alignmentgroup\":\"True\",\"hovertemplate\":\"pais=%{x}<br>registration_year_month=20182<br>count=%{y}<extra></extra>\",\"ids\":[\"ESP\"],\"legendgroup\":\"ESP\",\"marker\":{\"color\":\"#EF553B\",\"pattern\":{\"shape\":\"\"}},\"name\":\"ESP\",\"offsetgroup\":\"ESP\",\"orientation\":\"v\",\"showlegend\":true,\"textposition\":\"auto\",\"type\":\"bar\",\"x\":[\"ESP\"],\"xaxis\":\"x\",\"y\":[85],\"yaxis\":\"y\"},{\"alignmentgroup\":\"True\",\"hovertemplate\":\"pais=%{x}<br>registration_year_month=20182<br>count=%{y}<extra></extra>\",\"ids\":[\"MEX\"],\"legendgroup\":\"MEX\",\"marker\":{\"color\":\"#00cc96\",\"pattern\":{\"shape\":\"\"}},\"name\":\"MEX\",\"offsetgroup\":\"MEX\",\"orientation\":\"v\",\"showlegend\":true,\"textposition\":\"auto\",\"type\":\"bar\",\"x\":[\"MEX\"],\"xaxis\":\"x\",\"y\":[29],\"yaxis\":\"y\"},{\"alignmentgroup\":\"True\",\"hovertemplate\":\"pais=%{x}<br>registration_year_month=20182<br>count=%{y}<extra></extra>\",\"ids\":[\"COL\"],\"legendgroup\":\"COL\",\"marker\":{\"color\":\"#B6E880\",\"pattern\":{\"shape\":\"\"}},\"name\":\"COL\",\"offsetgroup\":\"COL\",\"orientation\":\"v\",\"showlegend\":true,\"textposition\":\"auto\",\"type\":\"bar\",\"x\":[\"COL\"],\"xaxis\":\"x\",\"y\":[1],\"yaxis\":\"y\"},{\"alignmentgroup\":\"True\",\"hovertemplate\":\"pais=%{x}<br>registration_year_month=20182<br>count=%{y}<extra></extra>\",\"ids\":[\"ARG\"],\"legendgroup\":\"ARG\",\"marker\":{\"color\":\"#FECB52\",\"pattern\":{\"shape\":\"\"}},\"name\":\"ARG\",\"offsetgroup\":\"ARG\",\"orientation\":\"v\",\"showlegend\":true,\"textposition\":\"auto\",\"type\":\"bar\",\"x\":[\"ARG\"],\"xaxis\":\"x\",\"y\":[6],\"yaxis\":\"y\"},{\"alignmentgroup\":\"True\",\"hovertemplate\":\"pais=%{x}<br>registration_year_month=20182<br>count=%{y}<extra></extra>\",\"ids\":[\"VEN\"],\"legendgroup\":\"VEN\",\"marker\":{\"color\":\"#EF553B\",\"pattern\":{\"shape\":\"\"}},\"name\":\"VEN\",\"offsetgroup\":\"VEN\",\"orientation\":\"v\",\"showlegend\":true,\"textposition\":\"auto\",\"type\":\"bar\",\"x\":[\"VEN\"],\"xaxis\":\"x\",\"y\":[1],\"yaxis\":\"y\"},{\"alignmentgroup\":\"True\",\"hovertemplate\":\"pais=%{x}<br>registration_year_month=20182<br>count=%{y}<extra></extra>\",\"ids\":[\"AND\"],\"legendgroup\":\"AND\",\"marker\":{\"color\":\"#00cc96\",\"pattern\":{\"shape\":\"\"}},\"name\":\"AND\",\"offsetgroup\":\"AND\",\"orientation\":\"v\",\"showlegend\":true,\"textposition\":\"auto\",\"type\":\"bar\",\"x\":[\"AND\"],\"xaxis\":\"x\",\"y\":[87],\"yaxis\":\"y\"},{\"alignmentgroup\":\"True\",\"hovertemplate\":\"pais=%{x}<br>registration_year_month=20182<br>count=%{y}<extra></extra>\",\"ids\":[\"ECU\"],\"legendgroup\":\"ECU\",\"marker\":{\"color\":\"#B6E880\",\"pattern\":{\"shape\":\"\"}},\"name\":\"ECU\",\"offsetgroup\":\"ECU\",\"orientation\":\"v\",\"showlegend\":true,\"textposition\":\"auto\",\"type\":\"bar\",\"x\":[\"ECU\"],\"xaxis\":\"x\",\"y\":[1],\"yaxis\":\"y\"},{\"alignmentgroup\":\"True\",\"hovertemplate\":\"pais=%{x}<br>registration_year_month=20182<br>count=%{y}<extra></extra>\",\"ids\":[\"CRI\"],\"legendgroup\":\"CRI\",\"marker\":{\"color\":\"#FECB52\",\"pattern\":{\"shape\":\"\"}},\"name\":\"CRI\",\"offsetgroup\":\"CRI\",\"orientation\":\"v\",\"showlegend\":true,\"textposition\":\"auto\",\"type\":\"bar\",\"x\":[\"CRI\"],\"xaxis\":\"x\",\"y\":[1],\"yaxis\":\"y\"}],\"name\":\"20182\"},{\"data\":[{\"alignmentgroup\":\"True\",\"hovertemplate\":\"pais=%{x}<br>registration_year_month=20183<br>count=%{y}<extra></extra>\",\"ids\":[\"DOM\"],\"legendgroup\":\"DOM\",\"marker\":{\"color\":\"#636efa\",\"pattern\":{\"shape\":\"\"}},\"name\":\"DOM\",\"offsetgroup\":\"DOM\",\"orientation\":\"v\",\"showlegend\":true,\"textposition\":\"auto\",\"type\":\"bar\",\"x\":[\"DOM\"],\"xaxis\":\"x\",\"y\":[69],\"yaxis\":\"y\"},{\"alignmentgroup\":\"True\",\"hovertemplate\":\"pais=%{x}<br>registration_year_month=20183<br>count=%{y}<extra></extra>\",\"ids\":[\"ESP\"],\"legendgroup\":\"ESP\",\"marker\":{\"color\":\"#EF553B\",\"pattern\":{\"shape\":\"\"}},\"name\":\"ESP\",\"offsetgroup\":\"ESP\",\"orientation\":\"v\",\"showlegend\":true,\"textposition\":\"auto\",\"type\":\"bar\",\"x\":[\"ESP\"],\"xaxis\":\"x\",\"y\":[28],\"yaxis\":\"y\"},{\"alignmentgroup\":\"True\",\"hovertemplate\":\"pais=%{x}<br>registration_year_month=20183<br>count=%{y}<extra></extra>\",\"ids\":[\"MEX\"],\"legendgroup\":\"MEX\",\"marker\":{\"color\":\"#00cc96\",\"pattern\":{\"shape\":\"\"}},\"name\":\"MEX\",\"offsetgroup\":\"MEX\",\"orientation\":\"v\",\"showlegend\":true,\"textposition\":\"auto\",\"type\":\"bar\",\"x\":[\"MEX\"],\"xaxis\":\"x\",\"y\":[23],\"yaxis\":\"y\"},{\"alignmentgroup\":\"True\",\"hovertemplate\":\"pais=%{x}<br>registration_year_month=20183<br>count=%{y}<extra></extra>\",\"ids\":[\"PER\"],\"legendgroup\":\"PER\",\"marker\":{\"color\":\"#ab63fa\",\"pattern\":{\"shape\":\"\"}},\"name\":\"PER\",\"offsetgroup\":\"PER\",\"orientation\":\"v\",\"showlegend\":true,\"textposition\":\"auto\",\"type\":\"bar\",\"x\":[\"PER\"],\"xaxis\":\"x\",\"y\":[1],\"yaxis\":\"y\"},{\"alignmentgroup\":\"True\",\"hovertemplate\":\"pais=%{x}<br>registration_year_month=20183<br>count=%{y}<extra></extra>\",\"ids\":[\"CHL\"],\"legendgroup\":\"CHL\",\"marker\":{\"color\":\"#FF6692\",\"pattern\":{\"shape\":\"\"}},\"name\":\"CHL\",\"offsetgroup\":\"CHL\",\"orientation\":\"v\",\"showlegend\":true,\"textposition\":\"auto\",\"type\":\"bar\",\"x\":[\"CHL\"],\"xaxis\":\"x\",\"y\":[1],\"yaxis\":\"y\"},{\"alignmentgroup\":\"True\",\"hovertemplate\":\"pais=%{x}<br>registration_year_month=20183<br>count=%{y}<extra></extra>\",\"ids\":[\"COL\"],\"legendgroup\":\"COL\",\"marker\":{\"color\":\"#B6E880\",\"pattern\":{\"shape\":\"\"}},\"name\":\"COL\",\"offsetgroup\":\"COL\",\"orientation\":\"v\",\"showlegend\":true,\"textposition\":\"auto\",\"type\":\"bar\",\"x\":[\"COL\"],\"xaxis\":\"x\",\"y\":[1],\"yaxis\":\"y\"},{\"alignmentgroup\":\"True\",\"hovertemplate\":\"pais=%{x}<br>registration_year_month=20183<br>count=%{y}<extra></extra>\",\"ids\":[\"ARG\"],\"legendgroup\":\"ARG\",\"marker\":{\"color\":\"#FECB52\",\"pattern\":{\"shape\":\"\"}},\"name\":\"ARG\",\"offsetgroup\":\"ARG\",\"orientation\":\"v\",\"showlegend\":true,\"textposition\":\"auto\",\"type\":\"bar\",\"x\":[\"ARG\"],\"xaxis\":\"x\",\"y\":[2],\"yaxis\":\"y\"},{\"alignmentgroup\":\"True\",\"hovertemplate\":\"pais=%{x}<br>registration_year_month=20183<br>count=%{y}<extra></extra>\",\"ids\":[\"URY\"],\"legendgroup\":\"URY\",\"marker\":{\"color\":\"#636efa\",\"pattern\":{\"shape\":\"\"}},\"name\":\"URY\",\"offsetgroup\":\"URY\",\"orientation\":\"v\",\"showlegend\":true,\"textposition\":\"auto\",\"type\":\"bar\",\"x\":[\"URY\"],\"xaxis\":\"x\",\"y\":[3],\"yaxis\":\"y\"},{\"alignmentgroup\":\"True\",\"hovertemplate\":\"pais=%{x}<br>registration_year_month=20183<br>count=%{y}<extra></extra>\",\"ids\":[\"AND\"],\"legendgroup\":\"AND\",\"marker\":{\"color\":\"#00cc96\",\"pattern\":{\"shape\":\"\"}},\"name\":\"AND\",\"offsetgroup\":\"AND\",\"orientation\":\"v\",\"showlegend\":true,\"textposition\":\"auto\",\"type\":\"bar\",\"x\":[\"AND\"],\"xaxis\":\"x\",\"y\":[2],\"yaxis\":\"y\"},{\"alignmentgroup\":\"True\",\"hovertemplate\":\"pais=%{x}<br>registration_year_month=20183<br>count=%{y}<extra></extra>\",\"ids\":[\"ECU\"],\"legendgroup\":\"ECU\",\"marker\":{\"color\":\"#B6E880\",\"pattern\":{\"shape\":\"\"}},\"name\":\"ECU\",\"offsetgroup\":\"ECU\",\"orientation\":\"v\",\"showlegend\":true,\"textposition\":\"auto\",\"type\":\"bar\",\"x\":[\"ECU\"],\"xaxis\":\"x\",\"y\":[106],\"yaxis\":\"y\"}],\"name\":\"20183\"},{\"data\":[{\"alignmentgroup\":\"True\",\"hovertemplate\":\"pais=%{x}<br>registration_year_month=20184<br>count=%{y}<extra></extra>\",\"ids\":[\"DOM\"],\"legendgroup\":\"DOM\",\"marker\":{\"color\":\"#636efa\",\"pattern\":{\"shape\":\"\"}},\"name\":\"DOM\",\"offsetgroup\":\"DOM\",\"orientation\":\"v\",\"showlegend\":true,\"textposition\":\"auto\",\"type\":\"bar\",\"x\":[\"DOM\"],\"xaxis\":\"x\",\"y\":[7],\"yaxis\":\"y\"},{\"alignmentgroup\":\"True\",\"hovertemplate\":\"pais=%{x}<br>registration_year_month=20184<br>count=%{y}<extra></extra>\",\"ids\":[\"ESP\"],\"legendgroup\":\"ESP\",\"marker\":{\"color\":\"#EF553B\",\"pattern\":{\"shape\":\"\"}},\"name\":\"ESP\",\"offsetgroup\":\"ESP\",\"orientation\":\"v\",\"showlegend\":true,\"textposition\":\"auto\",\"type\":\"bar\",\"x\":[\"ESP\"],\"xaxis\":\"x\",\"y\":[12],\"yaxis\":\"y\"},{\"alignmentgroup\":\"True\",\"hovertemplate\":\"pais=%{x}<br>registration_year_month=20184<br>count=%{y}<extra></extra>\",\"ids\":[\"MEX\"],\"legendgroup\":\"MEX\",\"marker\":{\"color\":\"#00cc96\",\"pattern\":{\"shape\":\"\"}},\"name\":\"MEX\",\"offsetgroup\":\"MEX\",\"orientation\":\"v\",\"showlegend\":true,\"textposition\":\"auto\",\"type\":\"bar\",\"x\":[\"MEX\"],\"xaxis\":\"x\",\"y\":[11],\"yaxis\":\"y\"},{\"alignmentgroup\":\"True\",\"hovertemplate\":\"pais=%{x}<br>registration_year_month=20184<br>count=%{y}<extra></extra>\",\"ids\":[\"PER\"],\"legendgroup\":\"PER\",\"marker\":{\"color\":\"#ab63fa\",\"pattern\":{\"shape\":\"\"}},\"name\":\"PER\",\"offsetgroup\":\"PER\",\"orientation\":\"v\",\"showlegend\":true,\"textposition\":\"auto\",\"type\":\"bar\",\"x\":[\"PER\"],\"xaxis\":\"x\",\"y\":[2],\"yaxis\":\"y\"},{\"alignmentgroup\":\"True\",\"hovertemplate\":\"pais=%{x}<br>registration_year_month=20184<br>count=%{y}<extra></extra>\",\"ids\":[\"COL\"],\"legendgroup\":\"COL\",\"marker\":{\"color\":\"#B6E880\",\"pattern\":{\"shape\":\"\"}},\"name\":\"COL\",\"offsetgroup\":\"COL\",\"orientation\":\"v\",\"showlegend\":true,\"textposition\":\"auto\",\"type\":\"bar\",\"x\":[\"COL\"],\"xaxis\":\"x\",\"y\":[3],\"yaxis\":\"y\"},{\"alignmentgroup\":\"True\",\"hovertemplate\":\"pais=%{x}<br>registration_year_month=20184<br>count=%{y}<extra></extra>\",\"ids\":[\"ARG\"],\"legendgroup\":\"ARG\",\"marker\":{\"color\":\"#FECB52\",\"pattern\":{\"shape\":\"\"}},\"name\":\"ARG\",\"offsetgroup\":\"ARG\",\"orientation\":\"v\",\"showlegend\":true,\"textposition\":\"auto\",\"type\":\"bar\",\"x\":[\"ARG\"],\"xaxis\":\"x\",\"y\":[1],\"yaxis\":\"y\"},{\"alignmentgroup\":\"True\",\"hovertemplate\":\"pais=%{x}<br>registration_year_month=20184<br>count=%{y}<extra></extra>\",\"ids\":[\"VEN\"],\"legendgroup\":\"VEN\",\"marker\":{\"color\":\"#EF553B\",\"pattern\":{\"shape\":\"\"}},\"name\":\"VEN\",\"offsetgroup\":\"VEN\",\"orientation\":\"v\",\"showlegend\":true,\"textposition\":\"auto\",\"type\":\"bar\",\"x\":[\"VEN\"],\"xaxis\":\"x\",\"y\":[2],\"yaxis\":\"y\"},{\"alignmentgroup\":\"True\",\"hovertemplate\":\"pais=%{x}<br>registration_year_month=20184<br>count=%{y}<extra></extra>\",\"ids\":[\"ECU\"],\"legendgroup\":\"ECU\",\"marker\":{\"color\":\"#B6E880\",\"pattern\":{\"shape\":\"\"}},\"name\":\"ECU\",\"offsetgroup\":\"ECU\",\"orientation\":\"v\",\"showlegend\":true,\"textposition\":\"auto\",\"type\":\"bar\",\"x\":[\"ECU\"],\"xaxis\":\"x\",\"y\":[6],\"yaxis\":\"y\"},{\"alignmentgroup\":\"True\",\"hovertemplate\":\"pais=%{x}<br>registration_year_month=20184<br>count=%{y}<extra></extra>\",\"ids\":[\"PRY\"],\"legendgroup\":\"PRY\",\"marker\":{\"color\":\"#19d3f3\",\"pattern\":{\"shape\":\"\"}},\"name\":\"PRY\",\"offsetgroup\":\"PRY\",\"orientation\":\"v\",\"showlegend\":true,\"textposition\":\"auto\",\"type\":\"bar\",\"x\":[\"PRY\"],\"xaxis\":\"x\",\"y\":[1],\"yaxis\":\"y\"}],\"name\":\"20184\"},{\"data\":[{\"alignmentgroup\":\"True\",\"hovertemplate\":\"pais=%{x}<br>registration_year_month=20185<br>count=%{y}<extra></extra>\",\"ids\":[\"DOM\"],\"legendgroup\":\"DOM\",\"marker\":{\"color\":\"#636efa\",\"pattern\":{\"shape\":\"\"}},\"name\":\"DOM\",\"offsetgroup\":\"DOM\",\"orientation\":\"v\",\"showlegend\":true,\"textposition\":\"auto\",\"type\":\"bar\",\"x\":[\"DOM\"],\"xaxis\":\"x\",\"y\":[4],\"yaxis\":\"y\"},{\"alignmentgroup\":\"True\",\"hovertemplate\":\"pais=%{x}<br>registration_year_month=20185<br>count=%{y}<extra></extra>\",\"ids\":[\"ESP\"],\"legendgroup\":\"ESP\",\"marker\":{\"color\":\"#EF553B\",\"pattern\":{\"shape\":\"\"}},\"name\":\"ESP\",\"offsetgroup\":\"ESP\",\"orientation\":\"v\",\"showlegend\":true,\"textposition\":\"auto\",\"type\":\"bar\",\"x\":[\"ESP\"],\"xaxis\":\"x\",\"y\":[51],\"yaxis\":\"y\"},{\"alignmentgroup\":\"True\",\"hovertemplate\":\"pais=%{x}<br>registration_year_month=20185<br>count=%{y}<extra></extra>\",\"ids\":[\"MEX\"],\"legendgroup\":\"MEX\",\"marker\":{\"color\":\"#00cc96\",\"pattern\":{\"shape\":\"\"}},\"name\":\"MEX\",\"offsetgroup\":\"MEX\",\"orientation\":\"v\",\"showlegend\":true,\"textposition\":\"auto\",\"type\":\"bar\",\"x\":[\"MEX\"],\"xaxis\":\"x\",\"y\":[8],\"yaxis\":\"y\"},{\"alignmentgroup\":\"True\",\"hovertemplate\":\"pais=%{x}<br>registration_year_month=20185<br>count=%{y}<extra></extra>\",\"ids\":[\"PER\"],\"legendgroup\":\"PER\",\"marker\":{\"color\":\"#ab63fa\",\"pattern\":{\"shape\":\"\"}},\"name\":\"PER\",\"offsetgroup\":\"PER\",\"orientation\":\"v\",\"showlegend\":true,\"textposition\":\"auto\",\"type\":\"bar\",\"x\":[\"PER\"],\"xaxis\":\"x\",\"y\":[5],\"yaxis\":\"y\"},{\"alignmentgroup\":\"True\",\"hovertemplate\":\"pais=%{x}<br>registration_year_month=20185<br>count=%{y}<extra></extra>\",\"ids\":[\"COL\"],\"legendgroup\":\"COL\",\"marker\":{\"color\":\"#B6E880\",\"pattern\":{\"shape\":\"\"}},\"name\":\"COL\",\"offsetgroup\":\"COL\",\"orientation\":\"v\",\"showlegend\":true,\"textposition\":\"auto\",\"type\":\"bar\",\"x\":[\"COL\"],\"xaxis\":\"x\",\"y\":[1],\"yaxis\":\"y\"},{\"alignmentgroup\":\"True\",\"hovertemplate\":\"pais=%{x}<br>registration_year_month=20185<br>count=%{y}<extra></extra>\",\"ids\":[\"ARG\"],\"legendgroup\":\"ARG\",\"marker\":{\"color\":\"#FECB52\",\"pattern\":{\"shape\":\"\"}},\"name\":\"ARG\",\"offsetgroup\":\"ARG\",\"orientation\":\"v\",\"showlegend\":true,\"textposition\":\"auto\",\"type\":\"bar\",\"x\":[\"ARG\"],\"xaxis\":\"x\",\"y\":[5],\"yaxis\":\"y\"},{\"alignmentgroup\":\"True\",\"hovertemplate\":\"pais=%{x}<br>registration_year_month=20185<br>count=%{y}<extra></extra>\",\"ids\":[\"ECU\"],\"legendgroup\":\"ECU\",\"marker\":{\"color\":\"#B6E880\",\"pattern\":{\"shape\":\"\"}},\"name\":\"ECU\",\"offsetgroup\":\"ECU\",\"orientation\":\"v\",\"showlegend\":true,\"textposition\":\"auto\",\"type\":\"bar\",\"x\":[\"ECU\"],\"xaxis\":\"x\",\"y\":[2],\"yaxis\":\"y\"},{\"alignmentgroup\":\"True\",\"hovertemplate\":\"pais=%{x}<br>registration_year_month=20185<br>count=%{y}<extra></extra>\",\"ids\":[\"CRI\"],\"legendgroup\":\"CRI\",\"marker\":{\"color\":\"#FECB52\",\"pattern\":{\"shape\":\"\"}},\"name\":\"CRI\",\"offsetgroup\":\"CRI\",\"orientation\":\"v\",\"showlegend\":true,\"textposition\":\"auto\",\"type\":\"bar\",\"x\":[\"CRI\"],\"xaxis\":\"x\",\"y\":[1],\"yaxis\":\"y\"},{\"alignmentgroup\":\"True\",\"hovertemplate\":\"pais=%{x}<br>registration_year_month=20185<br>count=%{y}<extra></extra>\",\"ids\":[\"HND\"],\"legendgroup\":\"HND\",\"marker\":{\"color\":\"#B6E880\",\"pattern\":{\"shape\":\"\"}},\"name\":\"HND\",\"offsetgroup\":\"HND\",\"orientation\":\"v\",\"showlegend\":true,\"textposition\":\"auto\",\"type\":\"bar\",\"x\":[\"HND\"],\"xaxis\":\"x\",\"y\":[3],\"yaxis\":\"y\"},{\"alignmentgroup\":\"True\",\"hovertemplate\":\"pais=%{x}<br>registration_year_month=20185<br>count=%{y}<extra></extra>\",\"ids\":[\"BOL\"],\"legendgroup\":\"BOL\",\"marker\":{\"color\":\"#636efa\",\"pattern\":{\"shape\":\"\"}},\"name\":\"BOL\",\"offsetgroup\":\"BOL\",\"orientation\":\"v\",\"showlegend\":true,\"textposition\":\"auto\",\"type\":\"bar\",\"x\":[\"BOL\"],\"xaxis\":\"x\",\"y\":[1],\"yaxis\":\"y\"},{\"alignmentgroup\":\"True\",\"hovertemplate\":\"pais=%{x}<br>registration_year_month=20185<br>count=%{y}<extra></extra>\",\"ids\":[\"THA\"],\"legendgroup\":\"THA\",\"marker\":{\"color\":\"#EF553B\",\"pattern\":{\"shape\":\"\"}},\"name\":\"THA\",\"offsetgroup\":\"THA\",\"orientation\":\"v\",\"showlegend\":true,\"textposition\":\"auto\",\"type\":\"bar\",\"x\":[\"THA\"],\"xaxis\":\"x\",\"y\":[1],\"yaxis\":\"y\"}],\"name\":\"20185\"},{\"data\":[{\"alignmentgroup\":\"True\",\"hovertemplate\":\"pais=%{x}<br>registration_year_month=20186<br>count=%{y}<extra></extra>\",\"ids\":[\"ESP\"],\"legendgroup\":\"ESP\",\"marker\":{\"color\":\"#EF553B\",\"pattern\":{\"shape\":\"\"}},\"name\":\"ESP\",\"offsetgroup\":\"ESP\",\"orientation\":\"v\",\"showlegend\":true,\"textposition\":\"auto\",\"type\":\"bar\",\"x\":[\"ESP\"],\"xaxis\":\"x\",\"y\":[14],\"yaxis\":\"y\"},{\"alignmentgroup\":\"True\",\"hovertemplate\":\"pais=%{x}<br>registration_year_month=20186<br>count=%{y}<extra></extra>\",\"ids\":[\"MEX\"],\"legendgroup\":\"MEX\",\"marker\":{\"color\":\"#00cc96\",\"pattern\":{\"shape\":\"\"}},\"name\":\"MEX\",\"offsetgroup\":\"MEX\",\"orientation\":\"v\",\"showlegend\":true,\"textposition\":\"auto\",\"type\":\"bar\",\"x\":[\"MEX\"],\"xaxis\":\"x\",\"y\":[9],\"yaxis\":\"y\"},{\"alignmentgroup\":\"True\",\"hovertemplate\":\"pais=%{x}<br>registration_year_month=20186<br>count=%{y}<extra></extra>\",\"ids\":[\"COL\"],\"legendgroup\":\"COL\",\"marker\":{\"color\":\"#B6E880\",\"pattern\":{\"shape\":\"\"}},\"name\":\"COL\",\"offsetgroup\":\"COL\",\"orientation\":\"v\",\"showlegend\":true,\"textposition\":\"auto\",\"type\":\"bar\",\"x\":[\"COL\"],\"xaxis\":\"x\",\"y\":[1],\"yaxis\":\"y\"},{\"alignmentgroup\":\"True\",\"hovertemplate\":\"pais=%{x}<br>registration_year_month=20186<br>count=%{y}<extra></extra>\",\"ids\":[\"GTM\"],\"legendgroup\":\"GTM\",\"marker\":{\"color\":\"#FF97FF\",\"pattern\":{\"shape\":\"\"}},\"name\":\"GTM\",\"offsetgroup\":\"GTM\",\"orientation\":\"v\",\"showlegend\":true,\"textposition\":\"auto\",\"type\":\"bar\",\"x\":[\"GTM\"],\"xaxis\":\"x\",\"y\":[1],\"yaxis\":\"y\"},{\"alignmentgroup\":\"True\",\"hovertemplate\":\"pais=%{x}<br>registration_year_month=20186<br>count=%{y}<extra></extra>\",\"ids\":[\"ARG\"],\"legendgroup\":\"ARG\",\"marker\":{\"color\":\"#FECB52\",\"pattern\":{\"shape\":\"\"}},\"name\":\"ARG\",\"offsetgroup\":\"ARG\",\"orientation\":\"v\",\"showlegend\":true,\"textposition\":\"auto\",\"type\":\"bar\",\"x\":[\"ARG\"],\"xaxis\":\"x\",\"y\":[37],\"yaxis\":\"y\"},{\"alignmentgroup\":\"True\",\"hovertemplate\":\"pais=%{x}<br>registration_year_month=20186<br>count=%{y}<extra></extra>\",\"ids\":[\"FIN\"],\"legendgroup\":\"FIN\",\"marker\":{\"color\":\"#FFA15A\",\"pattern\":{\"shape\":\"\"}},\"name\":\"FIN\",\"offsetgroup\":\"FIN\",\"orientation\":\"v\",\"showlegend\":true,\"textposition\":\"auto\",\"type\":\"bar\",\"x\":[\"FIN\"],\"xaxis\":\"x\",\"y\":[1],\"yaxis\":\"y\"}],\"name\":\"20186\"},{\"data\":[{\"alignmentgroup\":\"True\",\"hovertemplate\":\"pais=%{x}<br>registration_year_month=20187<br>count=%{y}<extra></extra>\",\"ids\":[\"DOM\"],\"legendgroup\":\"DOM\",\"marker\":{\"color\":\"#636efa\",\"pattern\":{\"shape\":\"\"}},\"name\":\"DOM\",\"offsetgroup\":\"DOM\",\"orientation\":\"v\",\"showlegend\":true,\"textposition\":\"auto\",\"type\":\"bar\",\"x\":[\"DOM\"],\"xaxis\":\"x\",\"y\":[2],\"yaxis\":\"y\"},{\"alignmentgroup\":\"True\",\"hovertemplate\":\"pais=%{x}<br>registration_year_month=20187<br>count=%{y}<extra></extra>\",\"ids\":[\"ESP\"],\"legendgroup\":\"ESP\",\"marker\":{\"color\":\"#EF553B\",\"pattern\":{\"shape\":\"\"}},\"name\":\"ESP\",\"offsetgroup\":\"ESP\",\"orientation\":\"v\",\"showlegend\":true,\"textposition\":\"auto\",\"type\":\"bar\",\"x\":[\"ESP\"],\"xaxis\":\"x\",\"y\":[27],\"yaxis\":\"y\"},{\"alignmentgroup\":\"True\",\"hovertemplate\":\"pais=%{x}<br>registration_year_month=20187<br>count=%{y}<extra></extra>\",\"ids\":[\"MEX\"],\"legendgroup\":\"MEX\",\"marker\":{\"color\":\"#00cc96\",\"pattern\":{\"shape\":\"\"}},\"name\":\"MEX\",\"offsetgroup\":\"MEX\",\"orientation\":\"v\",\"showlegend\":true,\"textposition\":\"auto\",\"type\":\"bar\",\"x\":[\"MEX\"],\"xaxis\":\"x\",\"y\":[15],\"yaxis\":\"y\"},{\"alignmentgroup\":\"True\",\"hovertemplate\":\"pais=%{x}<br>registration_year_month=20187<br>count=%{y}<extra></extra>\",\"ids\":[\"PER\"],\"legendgroup\":\"PER\",\"marker\":{\"color\":\"#ab63fa\",\"pattern\":{\"shape\":\"\"}},\"name\":\"PER\",\"offsetgroup\":\"PER\",\"orientation\":\"v\",\"showlegend\":true,\"textposition\":\"auto\",\"type\":\"bar\",\"x\":[\"PER\"],\"xaxis\":\"x\",\"y\":[3],\"yaxis\":\"y\"},{\"alignmentgroup\":\"True\",\"hovertemplate\":\"pais=%{x}<br>registration_year_month=20187<br>count=%{y}<extra></extra>\",\"ids\":[\"CHL\"],\"legendgroup\":\"CHL\",\"marker\":{\"color\":\"#FF6692\",\"pattern\":{\"shape\":\"\"}},\"name\":\"CHL\",\"offsetgroup\":\"CHL\",\"orientation\":\"v\",\"showlegend\":true,\"textposition\":\"auto\",\"type\":\"bar\",\"x\":[\"CHL\"],\"xaxis\":\"x\",\"y\":[2],\"yaxis\":\"y\"},{\"alignmentgroup\":\"True\",\"hovertemplate\":\"pais=%{x}<br>registration_year_month=20187<br>count=%{y}<extra></extra>\",\"ids\":[\"VEN\"],\"legendgroup\":\"VEN\",\"marker\":{\"color\":\"#EF553B\",\"pattern\":{\"shape\":\"\"}},\"name\":\"VEN\",\"offsetgroup\":\"VEN\",\"orientation\":\"v\",\"showlegend\":true,\"textposition\":\"auto\",\"type\":\"bar\",\"x\":[\"VEN\"],\"xaxis\":\"x\",\"y\":[1],\"yaxis\":\"y\"},{\"alignmentgroup\":\"True\",\"hovertemplate\":\"pais=%{x}<br>registration_year_month=20187<br>count=%{y}<extra></extra>\",\"ids\":[\"PRY\"],\"legendgroup\":\"PRY\",\"marker\":{\"color\":\"#19d3f3\",\"pattern\":{\"shape\":\"\"}},\"name\":\"PRY\",\"offsetgroup\":\"PRY\",\"orientation\":\"v\",\"showlegend\":true,\"textposition\":\"auto\",\"type\":\"bar\",\"x\":[\"PRY\"],\"xaxis\":\"x\",\"y\":[10],\"yaxis\":\"y\"}],\"name\":\"20187\"},{\"data\":[{\"alignmentgroup\":\"True\",\"hovertemplate\":\"pais=%{x}<br>registration_year_month=20188<br>count=%{y}<extra></extra>\",\"ids\":[\"ESP\"],\"legendgroup\":\"ESP\",\"marker\":{\"color\":\"#EF553B\",\"pattern\":{\"shape\":\"\"}},\"name\":\"ESP\",\"offsetgroup\":\"ESP\",\"orientation\":\"v\",\"showlegend\":true,\"textposition\":\"auto\",\"type\":\"bar\",\"x\":[\"ESP\"],\"xaxis\":\"x\",\"y\":[3],\"yaxis\":\"y\"},{\"alignmentgroup\":\"True\",\"hovertemplate\":\"pais=%{x}<br>registration_year_month=20188<br>count=%{y}<extra></extra>\",\"ids\":[\"MEX\"],\"legendgroup\":\"MEX\",\"marker\":{\"color\":\"#00cc96\",\"pattern\":{\"shape\":\"\"}},\"name\":\"MEX\",\"offsetgroup\":\"MEX\",\"orientation\":\"v\",\"showlegend\":true,\"textposition\":\"auto\",\"type\":\"bar\",\"x\":[\"MEX\"],\"xaxis\":\"x\",\"y\":[5],\"yaxis\":\"y\"},{\"alignmentgroup\":\"True\",\"hovertemplate\":\"pais=%{x}<br>registration_year_month=20188<br>count=%{y}<extra></extra>\",\"ids\":[\"PER\"],\"legendgroup\":\"PER\",\"marker\":{\"color\":\"#ab63fa\",\"pattern\":{\"shape\":\"\"}},\"name\":\"PER\",\"offsetgroup\":\"PER\",\"orientation\":\"v\",\"showlegend\":true,\"textposition\":\"auto\",\"type\":\"bar\",\"x\":[\"PER\"],\"xaxis\":\"x\",\"y\":[2],\"yaxis\":\"y\"},{\"alignmentgroup\":\"True\",\"hovertemplate\":\"pais=%{x}<br>registration_year_month=20188<br>count=%{y}<extra></extra>\",\"ids\":[\"COL\"],\"legendgroup\":\"COL\",\"marker\":{\"color\":\"#B6E880\",\"pattern\":{\"shape\":\"\"}},\"name\":\"COL\",\"offsetgroup\":\"COL\",\"orientation\":\"v\",\"showlegend\":true,\"textposition\":\"auto\",\"type\":\"bar\",\"x\":[\"COL\"],\"xaxis\":\"x\",\"y\":[3],\"yaxis\":\"y\"},{\"alignmentgroup\":\"True\",\"hovertemplate\":\"pais=%{x}<br>registration_year_month=20188<br>count=%{y}<extra></extra>\",\"ids\":[\"GTM\"],\"legendgroup\":\"GTM\",\"marker\":{\"color\":\"#FF97FF\",\"pattern\":{\"shape\":\"\"}},\"name\":\"GTM\",\"offsetgroup\":\"GTM\",\"orientation\":\"v\",\"showlegend\":true,\"textposition\":\"auto\",\"type\":\"bar\",\"x\":[\"GTM\"],\"xaxis\":\"x\",\"y\":[2],\"yaxis\":\"y\"},{\"alignmentgroup\":\"True\",\"hovertemplate\":\"pais=%{x}<br>registration_year_month=20188<br>count=%{y}<extra></extra>\",\"ids\":[\"ARG\"],\"legendgroup\":\"ARG\",\"marker\":{\"color\":\"#FECB52\",\"pattern\":{\"shape\":\"\"}},\"name\":\"ARG\",\"offsetgroup\":\"ARG\",\"orientation\":\"v\",\"showlegend\":true,\"textposition\":\"auto\",\"type\":\"bar\",\"x\":[\"ARG\"],\"xaxis\":\"x\",\"y\":[3],\"yaxis\":\"y\"},{\"alignmentgroup\":\"True\",\"hovertemplate\":\"pais=%{x}<br>registration_year_month=20188<br>count=%{y}<extra></extra>\",\"ids\":[\"CRI\"],\"legendgroup\":\"CRI\",\"marker\":{\"color\":\"#FECB52\",\"pattern\":{\"shape\":\"\"}},\"name\":\"CRI\",\"offsetgroup\":\"CRI\",\"orientation\":\"v\",\"showlegend\":true,\"textposition\":\"auto\",\"type\":\"bar\",\"x\":[\"CRI\"],\"xaxis\":\"x\",\"y\":[4],\"yaxis\":\"y\"},{\"alignmentgroup\":\"True\",\"hovertemplate\":\"pais=%{x}<br>registration_year_month=20188<br>count=%{y}<extra></extra>\",\"ids\":[\"PAN\"],\"legendgroup\":\"PAN\",\"marker\":{\"color\":\"#EF553B\",\"pattern\":{\"shape\":\"\"}},\"name\":\"PAN\",\"offsetgroup\":\"PAN\",\"orientation\":\"v\",\"showlegend\":true,\"textposition\":\"auto\",\"type\":\"bar\",\"x\":[\"PAN\"],\"xaxis\":\"x\",\"y\":[2],\"yaxis\":\"y\"},{\"alignmentgroup\":\"True\",\"hovertemplate\":\"pais=%{x}<br>registration_year_month=20188<br>count=%{y}<extra></extra>\",\"ids\":[\"PRY\"],\"legendgroup\":\"PRY\",\"marker\":{\"color\":\"#19d3f3\",\"pattern\":{\"shape\":\"\"}},\"name\":\"PRY\",\"offsetgroup\":\"PRY\",\"orientation\":\"v\",\"showlegend\":true,\"textposition\":\"auto\",\"type\":\"bar\",\"x\":[\"PRY\"],\"xaxis\":\"x\",\"y\":[1],\"yaxis\":\"y\"},{\"alignmentgroup\":\"True\",\"hovertemplate\":\"pais=%{x}<br>registration_year_month=20188<br>count=%{y}<extra></extra>\",\"ids\":[\"FRA\"],\"legendgroup\":\"FRA\",\"marker\":{\"color\":\"#00cc96\",\"pattern\":{\"shape\":\"\"}},\"name\":\"FRA\",\"offsetgroup\":\"FRA\",\"orientation\":\"v\",\"showlegend\":true,\"textposition\":\"auto\",\"type\":\"bar\",\"x\":[\"FRA\"],\"xaxis\":\"x\",\"y\":[1],\"yaxis\":\"y\"}],\"name\":\"20188\"},{\"data\":[{\"alignmentgroup\":\"True\",\"hovertemplate\":\"pais=%{x}<br>registration_year_month=20189<br>count=%{y}<extra></extra>\",\"ids\":[\"DOM\"],\"legendgroup\":\"DOM\",\"marker\":{\"color\":\"#636efa\",\"pattern\":{\"shape\":\"\"}},\"name\":\"DOM\",\"offsetgroup\":\"DOM\",\"orientation\":\"v\",\"showlegend\":true,\"textposition\":\"auto\",\"type\":\"bar\",\"x\":[\"DOM\"],\"xaxis\":\"x\",\"y\":[39],\"yaxis\":\"y\"},{\"alignmentgroup\":\"True\",\"hovertemplate\":\"pais=%{x}<br>registration_year_month=20189<br>count=%{y}<extra></extra>\",\"ids\":[\"ESP\"],\"legendgroup\":\"ESP\",\"marker\":{\"color\":\"#EF553B\",\"pattern\":{\"shape\":\"\"}},\"name\":\"ESP\",\"offsetgroup\":\"ESP\",\"orientation\":\"v\",\"showlegend\":true,\"textposition\":\"auto\",\"type\":\"bar\",\"x\":[\"ESP\"],\"xaxis\":\"x\",\"y\":[55],\"yaxis\":\"y\"},{\"alignmentgroup\":\"True\",\"hovertemplate\":\"pais=%{x}<br>registration_year_month=20189<br>count=%{y}<extra></extra>\",\"ids\":[\"MEX\"],\"legendgroup\":\"MEX\",\"marker\":{\"color\":\"#00cc96\",\"pattern\":{\"shape\":\"\"}},\"name\":\"MEX\",\"offsetgroup\":\"MEX\",\"orientation\":\"v\",\"showlegend\":true,\"textposition\":\"auto\",\"type\":\"bar\",\"x\":[\"MEX\"],\"xaxis\":\"x\",\"y\":[85],\"yaxis\":\"y\"},{\"alignmentgroup\":\"True\",\"hovertemplate\":\"pais=%{x}<br>registration_year_month=20189<br>count=%{y}<extra></extra>\",\"ids\":[\"CHL\"],\"legendgroup\":\"CHL\",\"marker\":{\"color\":\"#FF6692\",\"pattern\":{\"shape\":\"\"}},\"name\":\"CHL\",\"offsetgroup\":\"CHL\",\"orientation\":\"v\",\"showlegend\":true,\"textposition\":\"auto\",\"type\":\"bar\",\"x\":[\"CHL\"],\"xaxis\":\"x\",\"y\":[2],\"yaxis\":\"y\"},{\"alignmentgroup\":\"True\",\"hovertemplate\":\"pais=%{x}<br>registration_year_month=20189<br>count=%{y}<extra></extra>\",\"ids\":[\"COL\"],\"legendgroup\":\"COL\",\"marker\":{\"color\":\"#B6E880\",\"pattern\":{\"shape\":\"\"}},\"name\":\"COL\",\"offsetgroup\":\"COL\",\"orientation\":\"v\",\"showlegend\":true,\"textposition\":\"auto\",\"type\":\"bar\",\"x\":[\"COL\"],\"xaxis\":\"x\",\"y\":[2],\"yaxis\":\"y\"},{\"alignmentgroup\":\"True\",\"hovertemplate\":\"pais=%{x}<br>registration_year_month=20189<br>count=%{y}<extra></extra>\",\"ids\":[\"ARG\"],\"legendgroup\":\"ARG\",\"marker\":{\"color\":\"#FECB52\",\"pattern\":{\"shape\":\"\"}},\"name\":\"ARG\",\"offsetgroup\":\"ARG\",\"orientation\":\"v\",\"showlegend\":true,\"textposition\":\"auto\",\"type\":\"bar\",\"x\":[\"ARG\"],\"xaxis\":\"x\",\"y\":[2],\"yaxis\":\"y\"},{\"alignmentgroup\":\"True\",\"hovertemplate\":\"pais=%{x}<br>registration_year_month=20189<br>count=%{y}<extra></extra>\",\"ids\":[\"ECU\"],\"legendgroup\":\"ECU\",\"marker\":{\"color\":\"#B6E880\",\"pattern\":{\"shape\":\"\"}},\"name\":\"ECU\",\"offsetgroup\":\"ECU\",\"orientation\":\"v\",\"showlegend\":true,\"textposition\":\"auto\",\"type\":\"bar\",\"x\":[\"ECU\"],\"xaxis\":\"x\",\"y\":[1],\"yaxis\":\"y\"},{\"alignmentgroup\":\"True\",\"hovertemplate\":\"pais=%{x}<br>registration_year_month=20189<br>count=%{y}<extra></extra>\",\"ids\":[\"PRY\"],\"legendgroup\":\"PRY\",\"marker\":{\"color\":\"#19d3f3\",\"pattern\":{\"shape\":\"\"}},\"name\":\"PRY\",\"offsetgroup\":\"PRY\",\"orientation\":\"v\",\"showlegend\":true,\"textposition\":\"auto\",\"type\":\"bar\",\"x\":[\"PRY\"],\"xaxis\":\"x\",\"y\":[1],\"yaxis\":\"y\"}],\"name\":\"20189\"},{\"data\":[{\"alignmentgroup\":\"True\",\"hovertemplate\":\"pais=%{x}<br>registration_year_month=20191<br>count=%{y}<extra></extra>\",\"ids\":[\"ESP\"],\"legendgroup\":\"ESP\",\"marker\":{\"color\":\"#EF553B\",\"pattern\":{\"shape\":\"\"}},\"name\":\"ESP\",\"offsetgroup\":\"ESP\",\"orientation\":\"v\",\"showlegend\":true,\"textposition\":\"auto\",\"type\":\"bar\",\"x\":[\"ESP\"],\"xaxis\":\"x\",\"y\":[358],\"yaxis\":\"y\"},{\"alignmentgroup\":\"True\",\"hovertemplate\":\"pais=%{x}<br>registration_year_month=20191<br>count=%{y}<extra></extra>\",\"ids\":[\"MEX\"],\"legendgroup\":\"MEX\",\"marker\":{\"color\":\"#00cc96\",\"pattern\":{\"shape\":\"\"}},\"name\":\"MEX\",\"offsetgroup\":\"MEX\",\"orientation\":\"v\",\"showlegend\":true,\"textposition\":\"auto\",\"type\":\"bar\",\"x\":[\"MEX\"],\"xaxis\":\"x\",\"y\":[5],\"yaxis\":\"y\"},{\"alignmentgroup\":\"True\",\"hovertemplate\":\"pais=%{x}<br>registration_year_month=20191<br>count=%{y}<extra></extra>\",\"ids\":[\"PER\"],\"legendgroup\":\"PER\",\"marker\":{\"color\":\"#ab63fa\",\"pattern\":{\"shape\":\"\"}},\"name\":\"PER\",\"offsetgroup\":\"PER\",\"orientation\":\"v\",\"showlegend\":true,\"textposition\":\"auto\",\"type\":\"bar\",\"x\":[\"PER\"],\"xaxis\":\"x\",\"y\":[11],\"yaxis\":\"y\"},{\"alignmentgroup\":\"True\",\"hovertemplate\":\"pais=%{x}<br>registration_year_month=20191<br>count=%{y}<extra></extra>\",\"ids\":[\"CHL\"],\"legendgroup\":\"CHL\",\"marker\":{\"color\":\"#FF6692\",\"pattern\":{\"shape\":\"\"}},\"name\":\"CHL\",\"offsetgroup\":\"CHL\",\"orientation\":\"v\",\"showlegend\":true,\"textposition\":\"auto\",\"type\":\"bar\",\"x\":[\"CHL\"],\"xaxis\":\"x\",\"y\":[1],\"yaxis\":\"y\"},{\"alignmentgroup\":\"True\",\"hovertemplate\":\"pais=%{x}<br>registration_year_month=20191<br>count=%{y}<extra></extra>\",\"ids\":[\"COL\"],\"legendgroup\":\"COL\",\"marker\":{\"color\":\"#B6E880\",\"pattern\":{\"shape\":\"\"}},\"name\":\"COL\",\"offsetgroup\":\"COL\",\"orientation\":\"v\",\"showlegend\":true,\"textposition\":\"auto\",\"type\":\"bar\",\"x\":[\"COL\"],\"xaxis\":\"x\",\"y\":[2],\"yaxis\":\"y\"},{\"alignmentgroup\":\"True\",\"hovertemplate\":\"pais=%{x}<br>registration_year_month=20191<br>count=%{y}<extra></extra>\",\"ids\":[\"GTM\"],\"legendgroup\":\"GTM\",\"marker\":{\"color\":\"#FF97FF\",\"pattern\":{\"shape\":\"\"}},\"name\":\"GTM\",\"offsetgroup\":\"GTM\",\"orientation\":\"v\",\"showlegend\":true,\"textposition\":\"auto\",\"type\":\"bar\",\"x\":[\"GTM\"],\"xaxis\":\"x\",\"y\":[1],\"yaxis\":\"y\"},{\"alignmentgroup\":\"True\",\"hovertemplate\":\"pais=%{x}<br>registration_year_month=20191<br>count=%{y}<extra></extra>\",\"ids\":[\"ARG\"],\"legendgroup\":\"ARG\",\"marker\":{\"color\":\"#FECB52\",\"pattern\":{\"shape\":\"\"}},\"name\":\"ARG\",\"offsetgroup\":\"ARG\",\"orientation\":\"v\",\"showlegend\":true,\"textposition\":\"auto\",\"type\":\"bar\",\"x\":[\"ARG\"],\"xaxis\":\"x\",\"y\":[2],\"yaxis\":\"y\"},{\"alignmentgroup\":\"True\",\"hovertemplate\":\"pais=%{x}<br>registration_year_month=20191<br>count=%{y}<extra></extra>\",\"ids\":[\"ECU\"],\"legendgroup\":\"ECU\",\"marker\":{\"color\":\"#B6E880\",\"pattern\":{\"shape\":\"\"}},\"name\":\"ECU\",\"offsetgroup\":\"ECU\",\"orientation\":\"v\",\"showlegend\":true,\"textposition\":\"auto\",\"type\":\"bar\",\"x\":[\"ECU\"],\"xaxis\":\"x\",\"y\":[5],\"yaxis\":\"y\"},{\"alignmentgroup\":\"True\",\"hovertemplate\":\"pais=%{x}<br>registration_year_month=20191<br>count=%{y}<extra></extra>\",\"ids\":[\"CRI\"],\"legendgroup\":\"CRI\",\"marker\":{\"color\":\"#FECB52\",\"pattern\":{\"shape\":\"\"}},\"name\":\"CRI\",\"offsetgroup\":\"CRI\",\"orientation\":\"v\",\"showlegend\":true,\"textposition\":\"auto\",\"type\":\"bar\",\"x\":[\"CRI\"],\"xaxis\":\"x\",\"y\":[1],\"yaxis\":\"y\"},{\"alignmentgroup\":\"True\",\"hovertemplate\":\"pais=%{x}<br>registration_year_month=20191<br>count=%{y}<extra></extra>\",\"ids\":[\"PAN\"],\"legendgroup\":\"PAN\",\"marker\":{\"color\":\"#EF553B\",\"pattern\":{\"shape\":\"\"}},\"name\":\"PAN\",\"offsetgroup\":\"PAN\",\"orientation\":\"v\",\"showlegend\":true,\"textposition\":\"auto\",\"type\":\"bar\",\"x\":[\"PAN\"],\"xaxis\":\"x\",\"y\":[1],\"yaxis\":\"y\"},{\"alignmentgroup\":\"True\",\"hovertemplate\":\"pais=%{x}<br>registration_year_month=20191<br>count=%{y}<extra></extra>\",\"ids\":[\"IRL\"],\"legendgroup\":\"IRL\",\"marker\":{\"color\":\"#00cc96\",\"pattern\":{\"shape\":\"\"}},\"name\":\"IRL\",\"offsetgroup\":\"IRL\",\"orientation\":\"v\",\"showlegend\":true,\"textposition\":\"auto\",\"type\":\"bar\",\"x\":[\"IRL\"],\"xaxis\":\"x\",\"y\":[2],\"yaxis\":\"y\"},{\"alignmentgroup\":\"True\",\"hovertemplate\":\"pais=%{x}<br>registration_year_month=20191<br>count=%{y}<extra></extra>\",\"ids\":[\"BOL\"],\"legendgroup\":\"BOL\",\"marker\":{\"color\":\"#636efa\",\"pattern\":{\"shape\":\"\"}},\"name\":\"BOL\",\"offsetgroup\":\"BOL\",\"orientation\":\"v\",\"showlegend\":true,\"textposition\":\"auto\",\"type\":\"bar\",\"x\":[\"BOL\"],\"xaxis\":\"x\",\"y\":[1],\"yaxis\":\"y\"}],\"name\":\"20191\"},{\"data\":[{\"alignmentgroup\":\"True\",\"hovertemplate\":\"pais=%{x}<br>registration_year_month=201910<br>count=%{y}<extra></extra>\",\"ids\":[\"ESP\"],\"legendgroup\":\"ESP\",\"marker\":{\"color\":\"#EF553B\",\"pattern\":{\"shape\":\"\"}},\"name\":\"ESP\",\"offsetgroup\":\"ESP\",\"orientation\":\"v\",\"showlegend\":true,\"textposition\":\"auto\",\"type\":\"bar\",\"x\":[\"ESP\"],\"xaxis\":\"x\",\"y\":[73],\"yaxis\":\"y\"},{\"alignmentgroup\":\"True\",\"hovertemplate\":\"pais=%{x}<br>registration_year_month=201910<br>count=%{y}<extra></extra>\",\"ids\":[\"MEX\"],\"legendgroup\":\"MEX\",\"marker\":{\"color\":\"#00cc96\",\"pattern\":{\"shape\":\"\"}},\"name\":\"MEX\",\"offsetgroup\":\"MEX\",\"orientation\":\"v\",\"showlegend\":true,\"textposition\":\"auto\",\"type\":\"bar\",\"x\":[\"MEX\"],\"xaxis\":\"x\",\"y\":[22],\"yaxis\":\"y\"},{\"alignmentgroup\":\"True\",\"hovertemplate\":\"pais=%{x}<br>registration_year_month=201910<br>count=%{y}<extra></extra>\",\"ids\":[\"PER\"],\"legendgroup\":\"PER\",\"marker\":{\"color\":\"#ab63fa\",\"pattern\":{\"shape\":\"\"}},\"name\":\"PER\",\"offsetgroup\":\"PER\",\"orientation\":\"v\",\"showlegend\":true,\"textposition\":\"auto\",\"type\":\"bar\",\"x\":[\"PER\"],\"xaxis\":\"x\",\"y\":[5],\"yaxis\":\"y\"},{\"alignmentgroup\":\"True\",\"hovertemplate\":\"pais=%{x}<br>registration_year_month=201910<br>count=%{y}<extra></extra>\",\"ids\":[\"CHL\"],\"legendgroup\":\"CHL\",\"marker\":{\"color\":\"#FF6692\",\"pattern\":{\"shape\":\"\"}},\"name\":\"CHL\",\"offsetgroup\":\"CHL\",\"orientation\":\"v\",\"showlegend\":true,\"textposition\":\"auto\",\"type\":\"bar\",\"x\":[\"CHL\"],\"xaxis\":\"x\",\"y\":[2],\"yaxis\":\"y\"},{\"alignmentgroup\":\"True\",\"hovertemplate\":\"pais=%{x}<br>registration_year_month=201910<br>count=%{y}<extra></extra>\",\"ids\":[\"ECU\"],\"legendgroup\":\"ECU\",\"marker\":{\"color\":\"#B6E880\",\"pattern\":{\"shape\":\"\"}},\"name\":\"ECU\",\"offsetgroup\":\"ECU\",\"orientation\":\"v\",\"showlegend\":true,\"textposition\":\"auto\",\"type\":\"bar\",\"x\":[\"ECU\"],\"xaxis\":\"x\",\"y\":[2],\"yaxis\":\"y\"},{\"alignmentgroup\":\"True\",\"hovertemplate\":\"pais=%{x}<br>registration_year_month=201910<br>count=%{y}<extra></extra>\",\"ids\":[\"CRI\"],\"legendgroup\":\"CRI\",\"marker\":{\"color\":\"#FECB52\",\"pattern\":{\"shape\":\"\"}},\"name\":\"CRI\",\"offsetgroup\":\"CRI\",\"orientation\":\"v\",\"showlegend\":true,\"textposition\":\"auto\",\"type\":\"bar\",\"x\":[\"CRI\"],\"xaxis\":\"x\",\"y\":[1],\"yaxis\":\"y\"}],\"name\":\"201910\"},{\"data\":[{\"alignmentgroup\":\"True\",\"hovertemplate\":\"pais=%{x}<br>registration_year_month=201911<br>count=%{y}<extra></extra>\",\"ids\":[\"DOM\"],\"legendgroup\":\"DOM\",\"marker\":{\"color\":\"#636efa\",\"pattern\":{\"shape\":\"\"}},\"name\":\"DOM\",\"offsetgroup\":\"DOM\",\"orientation\":\"v\",\"showlegend\":true,\"textposition\":\"auto\",\"type\":\"bar\",\"x\":[\"DOM\"],\"xaxis\":\"x\",\"y\":[1],\"yaxis\":\"y\"},{\"alignmentgroup\":\"True\",\"hovertemplate\":\"pais=%{x}<br>registration_year_month=201911<br>count=%{y}<extra></extra>\",\"ids\":[\"ESP\"],\"legendgroup\":\"ESP\",\"marker\":{\"color\":\"#EF553B\",\"pattern\":{\"shape\":\"\"}},\"name\":\"ESP\",\"offsetgroup\":\"ESP\",\"orientation\":\"v\",\"showlegend\":true,\"textposition\":\"auto\",\"type\":\"bar\",\"x\":[\"ESP\"],\"xaxis\":\"x\",\"y\":[28],\"yaxis\":\"y\"},{\"alignmentgroup\":\"True\",\"hovertemplate\":\"pais=%{x}<br>registration_year_month=201911<br>count=%{y}<extra></extra>\",\"ids\":[\"MEX\"],\"legendgroup\":\"MEX\",\"marker\":{\"color\":\"#00cc96\",\"pattern\":{\"shape\":\"\"}},\"name\":\"MEX\",\"offsetgroup\":\"MEX\",\"orientation\":\"v\",\"showlegend\":true,\"textposition\":\"auto\",\"type\":\"bar\",\"x\":[\"MEX\"],\"xaxis\":\"x\",\"y\":[13],\"yaxis\":\"y\"},{\"alignmentgroup\":\"True\",\"hovertemplate\":\"pais=%{x}<br>registration_year_month=201911<br>count=%{y}<extra></extra>\",\"ids\":[\"PER\"],\"legendgroup\":\"PER\",\"marker\":{\"color\":\"#ab63fa\",\"pattern\":{\"shape\":\"\"}},\"name\":\"PER\",\"offsetgroup\":\"PER\",\"orientation\":\"v\",\"showlegend\":true,\"textposition\":\"auto\",\"type\":\"bar\",\"x\":[\"PER\"],\"xaxis\":\"x\",\"y\":[15],\"yaxis\":\"y\"},{\"alignmentgroup\":\"True\",\"hovertemplate\":\"pais=%{x}<br>registration_year_month=201911<br>count=%{y}<extra></extra>\",\"ids\":[\"COL\"],\"legendgroup\":\"COL\",\"marker\":{\"color\":\"#B6E880\",\"pattern\":{\"shape\":\"\"}},\"name\":\"COL\",\"offsetgroup\":\"COL\",\"orientation\":\"v\",\"showlegend\":true,\"textposition\":\"auto\",\"type\":\"bar\",\"x\":[\"COL\"],\"xaxis\":\"x\",\"y\":[5],\"yaxis\":\"y\"},{\"alignmentgroup\":\"True\",\"hovertemplate\":\"pais=%{x}<br>registration_year_month=201911<br>count=%{y}<extra></extra>\",\"ids\":[\"GTM\"],\"legendgroup\":\"GTM\",\"marker\":{\"color\":\"#FF97FF\",\"pattern\":{\"shape\":\"\"}},\"name\":\"GTM\",\"offsetgroup\":\"GTM\",\"orientation\":\"v\",\"showlegend\":true,\"textposition\":\"auto\",\"type\":\"bar\",\"x\":[\"GTM\"],\"xaxis\":\"x\",\"y\":[13],\"yaxis\":\"y\"},{\"alignmentgroup\":\"True\",\"hovertemplate\":\"pais=%{x}<br>registration_year_month=201911<br>count=%{y}<extra></extra>\",\"ids\":[\"ARG\"],\"legendgroup\":\"ARG\",\"marker\":{\"color\":\"#FECB52\",\"pattern\":{\"shape\":\"\"}},\"name\":\"ARG\",\"offsetgroup\":\"ARG\",\"orientation\":\"v\",\"showlegend\":true,\"textposition\":\"auto\",\"type\":\"bar\",\"x\":[\"ARG\"],\"xaxis\":\"x\",\"y\":[4],\"yaxis\":\"y\"},{\"alignmentgroup\":\"True\",\"hovertemplate\":\"pais=%{x}<br>registration_year_month=201911<br>count=%{y}<extra></extra>\",\"ids\":[\"BRA\"],\"legendgroup\":\"BRA\",\"marker\":{\"color\":\"#ab63fa\",\"pattern\":{\"shape\":\"\"}},\"name\":\"BRA\",\"offsetgroup\":\"BRA\",\"orientation\":\"v\",\"showlegend\":true,\"textposition\":\"auto\",\"type\":\"bar\",\"x\":[\"BRA\"],\"xaxis\":\"x\",\"y\":[1],\"yaxis\":\"y\"},{\"alignmentgroup\":\"True\",\"hovertemplate\":\"pais=%{x}<br>registration_year_month=201911<br>count=%{y}<extra></extra>\",\"ids\":[\"ECU\"],\"legendgroup\":\"ECU\",\"marker\":{\"color\":\"#B6E880\",\"pattern\":{\"shape\":\"\"}},\"name\":\"ECU\",\"offsetgroup\":\"ECU\",\"orientation\":\"v\",\"showlegend\":true,\"textposition\":\"auto\",\"type\":\"bar\",\"x\":[\"ECU\"],\"xaxis\":\"x\",\"y\":[1],\"yaxis\":\"y\"},{\"alignmentgroup\":\"True\",\"hovertemplate\":\"pais=%{x}<br>registration_year_month=201911<br>count=%{y}<extra></extra>\",\"ids\":[\"USA\"],\"legendgroup\":\"USA\",\"marker\":{\"color\":\"#FF97FF\",\"pattern\":{\"shape\":\"\"}},\"name\":\"USA\",\"offsetgroup\":\"USA\",\"orientation\":\"v\",\"showlegend\":true,\"textposition\":\"auto\",\"type\":\"bar\",\"x\":[\"USA\"],\"xaxis\":\"x\",\"y\":[1],\"yaxis\":\"y\"},{\"alignmentgroup\":\"True\",\"hovertemplate\":\"pais=%{x}<br>registration_year_month=201911<br>count=%{y}<extra></extra>\",\"ids\":[\"CRI\"],\"legendgroup\":\"CRI\",\"marker\":{\"color\":\"#FECB52\",\"pattern\":{\"shape\":\"\"}},\"name\":\"CRI\",\"offsetgroup\":\"CRI\",\"orientation\":\"v\",\"showlegend\":true,\"textposition\":\"auto\",\"type\":\"bar\",\"x\":[\"CRI\"],\"xaxis\":\"x\",\"y\":[2],\"yaxis\":\"y\"},{\"alignmentgroup\":\"True\",\"hovertemplate\":\"pais=%{x}<br>registration_year_month=201911<br>count=%{y}<extra></extra>\",\"ids\":[\"PAN\"],\"legendgroup\":\"PAN\",\"marker\":{\"color\":\"#EF553B\",\"pattern\":{\"shape\":\"\"}},\"name\":\"PAN\",\"offsetgroup\":\"PAN\",\"orientation\":\"v\",\"showlegend\":true,\"textposition\":\"auto\",\"type\":\"bar\",\"x\":[\"PAN\"],\"xaxis\":\"x\",\"y\":[8],\"yaxis\":\"y\"},{\"alignmentgroup\":\"True\",\"hovertemplate\":\"pais=%{x}<br>registration_year_month=201911<br>count=%{y}<extra></extra>\",\"ids\":[\"HND\"],\"legendgroup\":\"HND\",\"marker\":{\"color\":\"#B6E880\",\"pattern\":{\"shape\":\"\"}},\"name\":\"HND\",\"offsetgroup\":\"HND\",\"orientation\":\"v\",\"showlegend\":true,\"textposition\":\"auto\",\"type\":\"bar\",\"x\":[\"HND\"],\"xaxis\":\"x\",\"y\":[1],\"yaxis\":\"y\"},{\"alignmentgroup\":\"True\",\"hovertemplate\":\"pais=%{x}<br>registration_year_month=201911<br>count=%{y}<extra></extra>\",\"ids\":[\"PRT\"],\"legendgroup\":\"PRT\",\"marker\":{\"color\":\"#FFA15A\",\"pattern\":{\"shape\":\"\"}},\"name\":\"PRT\",\"offsetgroup\":\"PRT\",\"orientation\":\"v\",\"showlegend\":true,\"textposition\":\"auto\",\"type\":\"bar\",\"x\":[\"PRT\"],\"xaxis\":\"x\",\"y\":[1],\"yaxis\":\"y\"},{\"alignmentgroup\":\"True\",\"hovertemplate\":\"pais=%{x}<br>registration_year_month=201911<br>count=%{y}<extra></extra>\",\"ids\":[\"IND\"],\"legendgroup\":\"IND\",\"marker\":{\"color\":\"#ab63fa\",\"pattern\":{\"shape\":\"\"}},\"name\":\"IND\",\"offsetgroup\":\"IND\",\"orientation\":\"v\",\"showlegend\":true,\"textposition\":\"auto\",\"type\":\"bar\",\"x\":[\"IND\"],\"xaxis\":\"x\",\"y\":[2],\"yaxis\":\"y\"}],\"name\":\"201911\"},{\"data\":[{\"alignmentgroup\":\"True\",\"hovertemplate\":\"pais=%{x}<br>registration_year_month=201912<br>count=%{y}<extra></extra>\",\"ids\":[\"ESP\"],\"legendgroup\":\"ESP\",\"marker\":{\"color\":\"#EF553B\",\"pattern\":{\"shape\":\"\"}},\"name\":\"ESP\",\"offsetgroup\":\"ESP\",\"orientation\":\"v\",\"showlegend\":true,\"textposition\":\"auto\",\"type\":\"bar\",\"x\":[\"ESP\"],\"xaxis\":\"x\",\"y\":[39],\"yaxis\":\"y\"},{\"alignmentgroup\":\"True\",\"hovertemplate\":\"pais=%{x}<br>registration_year_month=201912<br>count=%{y}<extra></extra>\",\"ids\":[\"MEX\"],\"legendgroup\":\"MEX\",\"marker\":{\"color\":\"#00cc96\",\"pattern\":{\"shape\":\"\"}},\"name\":\"MEX\",\"offsetgroup\":\"MEX\",\"orientation\":\"v\",\"showlegend\":true,\"textposition\":\"auto\",\"type\":\"bar\",\"x\":[\"MEX\"],\"xaxis\":\"x\",\"y\":[192],\"yaxis\":\"y\"},{\"alignmentgroup\":\"True\",\"hovertemplate\":\"pais=%{x}<br>registration_year_month=201912<br>count=%{y}<extra></extra>\",\"ids\":[\"PER\"],\"legendgroup\":\"PER\",\"marker\":{\"color\":\"#ab63fa\",\"pattern\":{\"shape\":\"\"}},\"name\":\"PER\",\"offsetgroup\":\"PER\",\"orientation\":\"v\",\"showlegend\":true,\"textposition\":\"auto\",\"type\":\"bar\",\"x\":[\"PER\"],\"xaxis\":\"x\",\"y\":[1],\"yaxis\":\"y\"},{\"alignmentgroup\":\"True\",\"hovertemplate\":\"pais=%{x}<br>registration_year_month=201912<br>count=%{y}<extra></extra>\",\"ids\":[\"COL\"],\"legendgroup\":\"COL\",\"marker\":{\"color\":\"#B6E880\",\"pattern\":{\"shape\":\"\"}},\"name\":\"COL\",\"offsetgroup\":\"COL\",\"orientation\":\"v\",\"showlegend\":true,\"textposition\":\"auto\",\"type\":\"bar\",\"x\":[\"COL\"],\"xaxis\":\"x\",\"y\":[2],\"yaxis\":\"y\"},{\"alignmentgroup\":\"True\",\"hovertemplate\":\"pais=%{x}<br>registration_year_month=201912<br>count=%{y}<extra></extra>\",\"ids\":[\"GTM\"],\"legendgroup\":\"GTM\",\"marker\":{\"color\":\"#FF97FF\",\"pattern\":{\"shape\":\"\"}},\"name\":\"GTM\",\"offsetgroup\":\"GTM\",\"orientation\":\"v\",\"showlegend\":true,\"textposition\":\"auto\",\"type\":\"bar\",\"x\":[\"GTM\"],\"xaxis\":\"x\",\"y\":[2],\"yaxis\":\"y\"},{\"alignmentgroup\":\"True\",\"hovertemplate\":\"pais=%{x}<br>registration_year_month=201912<br>count=%{y}<extra></extra>\",\"ids\":[\"ARG\"],\"legendgroup\":\"ARG\",\"marker\":{\"color\":\"#FECB52\",\"pattern\":{\"shape\":\"\"}},\"name\":\"ARG\",\"offsetgroup\":\"ARG\",\"orientation\":\"v\",\"showlegend\":true,\"textposition\":\"auto\",\"type\":\"bar\",\"x\":[\"ARG\"],\"xaxis\":\"x\",\"y\":[2],\"yaxis\":\"y\"},{\"alignmentgroup\":\"True\",\"hovertemplate\":\"pais=%{x}<br>registration_year_month=201912<br>count=%{y}<extra></extra>\",\"ids\":[\"VEN\"],\"legendgroup\":\"VEN\",\"marker\":{\"color\":\"#EF553B\",\"pattern\":{\"shape\":\"\"}},\"name\":\"VEN\",\"offsetgroup\":\"VEN\",\"orientation\":\"v\",\"showlegend\":true,\"textposition\":\"auto\",\"type\":\"bar\",\"x\":[\"VEN\"],\"xaxis\":\"x\",\"y\":[1],\"yaxis\":\"y\"},{\"alignmentgroup\":\"True\",\"hovertemplate\":\"pais=%{x}<br>registration_year_month=201912<br>count=%{y}<extra></extra>\",\"ids\":[\"ECU\"],\"legendgroup\":\"ECU\",\"marker\":{\"color\":\"#B6E880\",\"pattern\":{\"shape\":\"\"}},\"name\":\"ECU\",\"offsetgroup\":\"ECU\",\"orientation\":\"v\",\"showlegend\":true,\"textposition\":\"auto\",\"type\":\"bar\",\"x\":[\"ECU\"],\"xaxis\":\"x\",\"y\":[2],\"yaxis\":\"y\"},{\"alignmentgroup\":\"True\",\"hovertemplate\":\"pais=%{x}<br>registration_year_month=201912<br>count=%{y}<extra></extra>\",\"ids\":[\"CRI\"],\"legendgroup\":\"CRI\",\"marker\":{\"color\":\"#FECB52\",\"pattern\":{\"shape\":\"\"}},\"name\":\"CRI\",\"offsetgroup\":\"CRI\",\"orientation\":\"v\",\"showlegend\":true,\"textposition\":\"auto\",\"type\":\"bar\",\"x\":[\"CRI\"],\"xaxis\":\"x\",\"y\":[5],\"yaxis\":\"y\"},{\"alignmentgroup\":\"True\",\"hovertemplate\":\"pais=%{x}<br>registration_year_month=201912<br>count=%{y}<extra></extra>\",\"ids\":[\"NZL\"],\"legendgroup\":\"NZL\",\"marker\":{\"color\":\"#FFA15A\",\"pattern\":{\"shape\":\"\"}},\"name\":\"NZL\",\"offsetgroup\":\"NZL\",\"orientation\":\"v\",\"showlegend\":true,\"textposition\":\"auto\",\"type\":\"bar\",\"x\":[\"NZL\"],\"xaxis\":\"x\",\"y\":[1],\"yaxis\":\"y\"}],\"name\":\"201912\"},{\"data\":[{\"alignmentgroup\":\"True\",\"hovertemplate\":\"pais=%{x}<br>registration_year_month=20192<br>count=%{y}<extra></extra>\",\"ids\":[\"DOM\"],\"legendgroup\":\"DOM\",\"marker\":{\"color\":\"#636efa\",\"pattern\":{\"shape\":\"\"}},\"name\":\"DOM\",\"offsetgroup\":\"DOM\",\"orientation\":\"v\",\"showlegend\":true,\"textposition\":\"auto\",\"type\":\"bar\",\"x\":[\"DOM\"],\"xaxis\":\"x\",\"y\":[2],\"yaxis\":\"y\"},{\"alignmentgroup\":\"True\",\"hovertemplate\":\"pais=%{x}<br>registration_year_month=20192<br>count=%{y}<extra></extra>\",\"ids\":[\"ESP\"],\"legendgroup\":\"ESP\",\"marker\":{\"color\":\"#EF553B\",\"pattern\":{\"shape\":\"\"}},\"name\":\"ESP\",\"offsetgroup\":\"ESP\",\"orientation\":\"v\",\"showlegend\":true,\"textposition\":\"auto\",\"type\":\"bar\",\"x\":[\"ESP\"],\"xaxis\":\"x\",\"y\":[486],\"yaxis\":\"y\"},{\"alignmentgroup\":\"True\",\"hovertemplate\":\"pais=%{x}<br>registration_year_month=20192<br>count=%{y}<extra></extra>\",\"ids\":[\"MEX\"],\"legendgroup\":\"MEX\",\"marker\":{\"color\":\"#00cc96\",\"pattern\":{\"shape\":\"\"}},\"name\":\"MEX\",\"offsetgroup\":\"MEX\",\"orientation\":\"v\",\"showlegend\":true,\"textposition\":\"auto\",\"type\":\"bar\",\"x\":[\"MEX\"],\"xaxis\":\"x\",\"y\":[53],\"yaxis\":\"y\"},{\"alignmentgroup\":\"True\",\"hovertemplate\":\"pais=%{x}<br>registration_year_month=20192<br>count=%{y}<extra></extra>\",\"ids\":[\"PER\"],\"legendgroup\":\"PER\",\"marker\":{\"color\":\"#ab63fa\",\"pattern\":{\"shape\":\"\"}},\"name\":\"PER\",\"offsetgroup\":\"PER\",\"orientation\":\"v\",\"showlegend\":true,\"textposition\":\"auto\",\"type\":\"bar\",\"x\":[\"PER\"],\"xaxis\":\"x\",\"y\":[7],\"yaxis\":\"y\"},{\"alignmentgroup\":\"True\",\"hovertemplate\":\"pais=%{x}<br>registration_year_month=20192<br>count=%{y}<extra></extra>\",\"ids\":[\"COL\"],\"legendgroup\":\"COL\",\"marker\":{\"color\":\"#B6E880\",\"pattern\":{\"shape\":\"\"}},\"name\":\"COL\",\"offsetgroup\":\"COL\",\"orientation\":\"v\",\"showlegend\":true,\"textposition\":\"auto\",\"type\":\"bar\",\"x\":[\"COL\"],\"xaxis\":\"x\",\"y\":[4],\"yaxis\":\"y\"},{\"alignmentgroup\":\"True\",\"hovertemplate\":\"pais=%{x}<br>registration_year_month=20192<br>count=%{y}<extra></extra>\",\"ids\":[\"ARG\"],\"legendgroup\":\"ARG\",\"marker\":{\"color\":\"#FECB52\",\"pattern\":{\"shape\":\"\"}},\"name\":\"ARG\",\"offsetgroup\":\"ARG\",\"orientation\":\"v\",\"showlegend\":true,\"textposition\":\"auto\",\"type\":\"bar\",\"x\":[\"ARG\"],\"xaxis\":\"x\",\"y\":[117],\"yaxis\":\"y\"},{\"alignmentgroup\":\"True\",\"hovertemplate\":\"pais=%{x}<br>registration_year_month=20192<br>count=%{y}<extra></extra>\",\"ids\":[\"URY\"],\"legendgroup\":\"URY\",\"marker\":{\"color\":\"#636efa\",\"pattern\":{\"shape\":\"\"}},\"name\":\"URY\",\"offsetgroup\":\"URY\",\"orientation\":\"v\",\"showlegend\":true,\"textposition\":\"auto\",\"type\":\"bar\",\"x\":[\"URY\"],\"xaxis\":\"x\",\"y\":[1],\"yaxis\":\"y\"},{\"alignmentgroup\":\"True\",\"hovertemplate\":\"pais=%{x}<br>registration_year_month=20192<br>count=%{y}<extra></extra>\",\"ids\":[\"AND\"],\"legendgroup\":\"AND\",\"marker\":{\"color\":\"#00cc96\",\"pattern\":{\"shape\":\"\"}},\"name\":\"AND\",\"offsetgroup\":\"AND\",\"orientation\":\"v\",\"showlegend\":true,\"textposition\":\"auto\",\"type\":\"bar\",\"x\":[\"AND\"],\"xaxis\":\"x\",\"y\":[1],\"yaxis\":\"y\"},{\"alignmentgroup\":\"True\",\"hovertemplate\":\"pais=%{x}<br>registration_year_month=20192<br>count=%{y}<extra></extra>\",\"ids\":[\"ECU\"],\"legendgroup\":\"ECU\",\"marker\":{\"color\":\"#B6E880\",\"pattern\":{\"shape\":\"\"}},\"name\":\"ECU\",\"offsetgroup\":\"ECU\",\"orientation\":\"v\",\"showlegend\":true,\"textposition\":\"auto\",\"type\":\"bar\",\"x\":[\"ECU\"],\"xaxis\":\"x\",\"y\":[3],\"yaxis\":\"y\"},{\"alignmentgroup\":\"True\",\"hovertemplate\":\"pais=%{x}<br>registration_year_month=20192<br>count=%{y}<extra></extra>\",\"ids\":[\"CRI\"],\"legendgroup\":\"CRI\",\"marker\":{\"color\":\"#FECB52\",\"pattern\":{\"shape\":\"\"}},\"name\":\"CRI\",\"offsetgroup\":\"CRI\",\"orientation\":\"v\",\"showlegend\":true,\"textposition\":\"auto\",\"type\":\"bar\",\"x\":[\"CRI\"],\"xaxis\":\"x\",\"y\":[38],\"yaxis\":\"y\"},{\"alignmentgroup\":\"True\",\"hovertemplate\":\"pais=%{x}<br>registration_year_month=20192<br>count=%{y}<extra></extra>\",\"ids\":[\"HND\"],\"legendgroup\":\"HND\",\"marker\":{\"color\":\"#B6E880\",\"pattern\":{\"shape\":\"\"}},\"name\":\"HND\",\"offsetgroup\":\"HND\",\"orientation\":\"v\",\"showlegend\":true,\"textposition\":\"auto\",\"type\":\"bar\",\"x\":[\"HND\"],\"xaxis\":\"x\",\"y\":[1],\"yaxis\":\"y\"}],\"name\":\"20192\"},{\"data\":[{\"alignmentgroup\":\"True\",\"hovertemplate\":\"pais=%{x}<br>registration_year_month=20193<br>count=%{y}<extra></extra>\",\"ids\":[\"ESP\"],\"legendgroup\":\"ESP\",\"marker\":{\"color\":\"#EF553B\",\"pattern\":{\"shape\":\"\"}},\"name\":\"ESP\",\"offsetgroup\":\"ESP\",\"orientation\":\"v\",\"showlegend\":true,\"textposition\":\"auto\",\"type\":\"bar\",\"x\":[\"ESP\"],\"xaxis\":\"x\",\"y\":[78],\"yaxis\":\"y\"},{\"alignmentgroup\":\"True\",\"hovertemplate\":\"pais=%{x}<br>registration_year_month=20193<br>count=%{y}<extra></extra>\",\"ids\":[\"MEX\"],\"legendgroup\":\"MEX\",\"marker\":{\"color\":\"#00cc96\",\"pattern\":{\"shape\":\"\"}},\"name\":\"MEX\",\"offsetgroup\":\"MEX\",\"orientation\":\"v\",\"showlegend\":true,\"textposition\":\"auto\",\"type\":\"bar\",\"x\":[\"MEX\"],\"xaxis\":\"x\",\"y\":[21],\"yaxis\":\"y\"},{\"alignmentgroup\":\"True\",\"hovertemplate\":\"pais=%{x}<br>registration_year_month=20193<br>count=%{y}<extra></extra>\",\"ids\":[\"PER\"],\"legendgroup\":\"PER\",\"marker\":{\"color\":\"#ab63fa\",\"pattern\":{\"shape\":\"\"}},\"name\":\"PER\",\"offsetgroup\":\"PER\",\"orientation\":\"v\",\"showlegend\":true,\"textposition\":\"auto\",\"type\":\"bar\",\"x\":[\"PER\"],\"xaxis\":\"x\",\"y\":[6],\"yaxis\":\"y\"},{\"alignmentgroup\":\"True\",\"hovertemplate\":\"pais=%{x}<br>registration_year_month=20193<br>count=%{y}<extra></extra>\",\"ids\":[\"GTM\"],\"legendgroup\":\"GTM\",\"marker\":{\"color\":\"#FF97FF\",\"pattern\":{\"shape\":\"\"}},\"name\":\"GTM\",\"offsetgroup\":\"GTM\",\"orientation\":\"v\",\"showlegend\":true,\"textposition\":\"auto\",\"type\":\"bar\",\"x\":[\"GTM\"],\"xaxis\":\"x\",\"y\":[1],\"yaxis\":\"y\"},{\"alignmentgroup\":\"True\",\"hovertemplate\":\"pais=%{x}<br>registration_year_month=20193<br>count=%{y}<extra></extra>\",\"ids\":[\"ARG\"],\"legendgroup\":\"ARG\",\"marker\":{\"color\":\"#FECB52\",\"pattern\":{\"shape\":\"\"}},\"name\":\"ARG\",\"offsetgroup\":\"ARG\",\"orientation\":\"v\",\"showlegend\":true,\"textposition\":\"auto\",\"type\":\"bar\",\"x\":[\"ARG\"],\"xaxis\":\"x\",\"y\":[4],\"yaxis\":\"y\"},{\"alignmentgroup\":\"True\",\"hovertemplate\":\"pais=%{x}<br>registration_year_month=20193<br>count=%{y}<extra></extra>\",\"ids\":[\"FIN\"],\"legendgroup\":\"FIN\",\"marker\":{\"color\":\"#FFA15A\",\"pattern\":{\"shape\":\"\"}},\"name\":\"FIN\",\"offsetgroup\":\"FIN\",\"orientation\":\"v\",\"showlegend\":true,\"textposition\":\"auto\",\"type\":\"bar\",\"x\":[\"FIN\"],\"xaxis\":\"x\",\"y\":[1],\"yaxis\":\"y\"},{\"alignmentgroup\":\"True\",\"hovertemplate\":\"pais=%{x}<br>registration_year_month=20193<br>count=%{y}<extra></extra>\",\"ids\":[\"ECU\"],\"legendgroup\":\"ECU\",\"marker\":{\"color\":\"#B6E880\",\"pattern\":{\"shape\":\"\"}},\"name\":\"ECU\",\"offsetgroup\":\"ECU\",\"orientation\":\"v\",\"showlegend\":true,\"textposition\":\"auto\",\"type\":\"bar\",\"x\":[\"ECU\"],\"xaxis\":\"x\",\"y\":[1],\"yaxis\":\"y\"},{\"alignmentgroup\":\"True\",\"hovertemplate\":\"pais=%{x}<br>registration_year_month=20193<br>count=%{y}<extra></extra>\",\"ids\":[\"CRI\"],\"legendgroup\":\"CRI\",\"marker\":{\"color\":\"#FECB52\",\"pattern\":{\"shape\":\"\"}},\"name\":\"CRI\",\"offsetgroup\":\"CRI\",\"orientation\":\"v\",\"showlegend\":true,\"textposition\":\"auto\",\"type\":\"bar\",\"x\":[\"CRI\"],\"xaxis\":\"x\",\"y\":[20],\"yaxis\":\"y\"},{\"alignmentgroup\":\"True\",\"hovertemplate\":\"pais=%{x}<br>registration_year_month=20193<br>count=%{y}<extra></extra>\",\"ids\":[\"IND\"],\"legendgroup\":\"IND\",\"marker\":{\"color\":\"#ab63fa\",\"pattern\":{\"shape\":\"\"}},\"name\":\"IND\",\"offsetgroup\":\"IND\",\"orientation\":\"v\",\"showlegend\":true,\"textposition\":\"auto\",\"type\":\"bar\",\"x\":[\"IND\"],\"xaxis\":\"x\",\"y\":[1],\"yaxis\":\"y\"}],\"name\":\"20193\"},{\"data\":[{\"alignmentgroup\":\"True\",\"hovertemplate\":\"pais=%{x}<br>registration_year_month=20194<br>count=%{y}<extra></extra>\",\"ids\":[\"DOM\"],\"legendgroup\":\"DOM\",\"marker\":{\"color\":\"#636efa\",\"pattern\":{\"shape\":\"\"}},\"name\":\"DOM\",\"offsetgroup\":\"DOM\",\"orientation\":\"v\",\"showlegend\":true,\"textposition\":\"auto\",\"type\":\"bar\",\"x\":[\"DOM\"],\"xaxis\":\"x\",\"y\":[1],\"yaxis\":\"y\"},{\"alignmentgroup\":\"True\",\"hovertemplate\":\"pais=%{x}<br>registration_year_month=20194<br>count=%{y}<extra></extra>\",\"ids\":[\"ESP\"],\"legendgroup\":\"ESP\",\"marker\":{\"color\":\"#EF553B\",\"pattern\":{\"shape\":\"\"}},\"name\":\"ESP\",\"offsetgroup\":\"ESP\",\"orientation\":\"v\",\"showlegend\":true,\"textposition\":\"auto\",\"type\":\"bar\",\"x\":[\"ESP\"],\"xaxis\":\"x\",\"y\":[11],\"yaxis\":\"y\"},{\"alignmentgroup\":\"True\",\"hovertemplate\":\"pais=%{x}<br>registration_year_month=20194<br>count=%{y}<extra></extra>\",\"ids\":[\"MEX\"],\"legendgroup\":\"MEX\",\"marker\":{\"color\":\"#00cc96\",\"pattern\":{\"shape\":\"\"}},\"name\":\"MEX\",\"offsetgroup\":\"MEX\",\"orientation\":\"v\",\"showlegend\":true,\"textposition\":\"auto\",\"type\":\"bar\",\"x\":[\"MEX\"],\"xaxis\":\"x\",\"y\":[9],\"yaxis\":\"y\"},{\"alignmentgroup\":\"True\",\"hovertemplate\":\"pais=%{x}<br>registration_year_month=20194<br>count=%{y}<extra></extra>\",\"ids\":[\"PER\"],\"legendgroup\":\"PER\",\"marker\":{\"color\":\"#ab63fa\",\"pattern\":{\"shape\":\"\"}},\"name\":\"PER\",\"offsetgroup\":\"PER\",\"orientation\":\"v\",\"showlegend\":true,\"textposition\":\"auto\",\"type\":\"bar\",\"x\":[\"PER\"],\"xaxis\":\"x\",\"y\":[4],\"yaxis\":\"y\"},{\"alignmentgroup\":\"True\",\"hovertemplate\":\"pais=%{x}<br>registration_year_month=20194<br>count=%{y}<extra></extra>\",\"ids\":[\"CHL\"],\"legendgroup\":\"CHL\",\"marker\":{\"color\":\"#FF6692\",\"pattern\":{\"shape\":\"\"}},\"name\":\"CHL\",\"offsetgroup\":\"CHL\",\"orientation\":\"v\",\"showlegend\":true,\"textposition\":\"auto\",\"type\":\"bar\",\"x\":[\"CHL\"],\"xaxis\":\"x\",\"y\":[1],\"yaxis\":\"y\"},{\"alignmentgroup\":\"True\",\"hovertemplate\":\"pais=%{x}<br>registration_year_month=20194<br>count=%{y}<extra></extra>\",\"ids\":[\"COL\"],\"legendgroup\":\"COL\",\"marker\":{\"color\":\"#B6E880\",\"pattern\":{\"shape\":\"\"}},\"name\":\"COL\",\"offsetgroup\":\"COL\",\"orientation\":\"v\",\"showlegend\":true,\"textposition\":\"auto\",\"type\":\"bar\",\"x\":[\"COL\"],\"xaxis\":\"x\",\"y\":[5],\"yaxis\":\"y\"},{\"alignmentgroup\":\"True\",\"hovertemplate\":\"pais=%{x}<br>registration_year_month=20194<br>count=%{y}<extra></extra>\",\"ids\":[\"ARG\"],\"legendgroup\":\"ARG\",\"marker\":{\"color\":\"#FECB52\",\"pattern\":{\"shape\":\"\"}},\"name\":\"ARG\",\"offsetgroup\":\"ARG\",\"orientation\":\"v\",\"showlegend\":true,\"textposition\":\"auto\",\"type\":\"bar\",\"x\":[\"ARG\"],\"xaxis\":\"x\",\"y\":[6],\"yaxis\":\"y\"},{\"alignmentgroup\":\"True\",\"hovertemplate\":\"pais=%{x}<br>registration_year_month=20194<br>count=%{y}<extra></extra>\",\"ids\":[\"ECU\"],\"legendgroup\":\"ECU\",\"marker\":{\"color\":\"#B6E880\",\"pattern\":{\"shape\":\"\"}},\"name\":\"ECU\",\"offsetgroup\":\"ECU\",\"orientation\":\"v\",\"showlegend\":true,\"textposition\":\"auto\",\"type\":\"bar\",\"x\":[\"ECU\"],\"xaxis\":\"x\",\"y\":[2],\"yaxis\":\"y\"},{\"alignmentgroup\":\"True\",\"hovertemplate\":\"pais=%{x}<br>registration_year_month=20194<br>count=%{y}<extra></extra>\",\"ids\":[\"USA\"],\"legendgroup\":\"USA\",\"marker\":{\"color\":\"#FF97FF\",\"pattern\":{\"shape\":\"\"}},\"name\":\"USA\",\"offsetgroup\":\"USA\",\"orientation\":\"v\",\"showlegend\":true,\"textposition\":\"auto\",\"type\":\"bar\",\"x\":[\"USA\"],\"xaxis\":\"x\",\"y\":[1],\"yaxis\":\"y\"},{\"alignmentgroup\":\"True\",\"hovertemplate\":\"pais=%{x}<br>registration_year_month=20194<br>count=%{y}<extra></extra>\",\"ids\":[\"CRI\"],\"legendgroup\":\"CRI\",\"marker\":{\"color\":\"#FECB52\",\"pattern\":{\"shape\":\"\"}},\"name\":\"CRI\",\"offsetgroup\":\"CRI\",\"orientation\":\"v\",\"showlegend\":true,\"textposition\":\"auto\",\"type\":\"bar\",\"x\":[\"CRI\"],\"xaxis\":\"x\",\"y\":[2],\"yaxis\":\"y\"},{\"alignmentgroup\":\"True\",\"hovertemplate\":\"pais=%{x}<br>registration_year_month=20194<br>count=%{y}<extra></extra>\",\"ids\":[\"PAN\"],\"legendgroup\":\"PAN\",\"marker\":{\"color\":\"#EF553B\",\"pattern\":{\"shape\":\"\"}},\"name\":\"PAN\",\"offsetgroup\":\"PAN\",\"orientation\":\"v\",\"showlegend\":true,\"textposition\":\"auto\",\"type\":\"bar\",\"x\":[\"PAN\"],\"xaxis\":\"x\",\"y\":[1],\"yaxis\":\"y\"},{\"alignmentgroup\":\"True\",\"hovertemplate\":\"pais=%{x}<br>registration_year_month=20194<br>count=%{y}<extra></extra>\",\"ids\":[\"PRY\"],\"legendgroup\":\"PRY\",\"marker\":{\"color\":\"#19d3f3\",\"pattern\":{\"shape\":\"\"}},\"name\":\"PRY\",\"offsetgroup\":\"PRY\",\"orientation\":\"v\",\"showlegend\":true,\"textposition\":\"auto\",\"type\":\"bar\",\"x\":[\"PRY\"],\"xaxis\":\"x\",\"y\":[1],\"yaxis\":\"y\"},{\"alignmentgroup\":\"True\",\"hovertemplate\":\"pais=%{x}<br>registration_year_month=20194<br>count=%{y}<extra></extra>\",\"ids\":[\"SLV\"],\"legendgroup\":\"SLV\",\"marker\":{\"color\":\"#FECB52\",\"pattern\":{\"shape\":\"\"}},\"name\":\"SLV\",\"offsetgroup\":\"SLV\",\"orientation\":\"v\",\"showlegend\":true,\"textposition\":\"auto\",\"type\":\"bar\",\"x\":[\"SLV\"],\"xaxis\":\"x\",\"y\":[1],\"yaxis\":\"y\"},{\"alignmentgroup\":\"True\",\"hovertemplate\":\"pais=%{x}<br>registration_year_month=20194<br>count=%{y}<extra></extra>\",\"ids\":[\"AUS\"],\"legendgroup\":\"AUS\",\"marker\":{\"color\":\"#19d3f3\",\"pattern\":{\"shape\":\"\"}},\"name\":\"AUS\",\"offsetgroup\":\"AUS\",\"orientation\":\"v\",\"showlegend\":true,\"textposition\":\"auto\",\"type\":\"bar\",\"x\":[\"AUS\"],\"xaxis\":\"x\",\"y\":[1],\"yaxis\":\"y\"},{\"alignmentgroup\":\"True\",\"hovertemplate\":\"pais=%{x}<br>registration_year_month=20194<br>count=%{y}<extra></extra>\",\"ids\":[\"PAK\"],\"legendgroup\":\"PAK\",\"marker\":{\"color\":\"#FF6692\",\"pattern\":{\"shape\":\"\"}},\"name\":\"PAK\",\"offsetgroup\":\"PAK\",\"orientation\":\"v\",\"showlegend\":true,\"textposition\":\"auto\",\"type\":\"bar\",\"x\":[\"PAK\"],\"xaxis\":\"x\",\"y\":[1],\"yaxis\":\"y\"}],\"name\":\"20194\"},{\"data\":[{\"alignmentgroup\":\"True\",\"hovertemplate\":\"pais=%{x}<br>registration_year_month=20195<br>count=%{y}<extra></extra>\",\"ids\":[\"DOM\"],\"legendgroup\":\"DOM\",\"marker\":{\"color\":\"#636efa\",\"pattern\":{\"shape\":\"\"}},\"name\":\"DOM\",\"offsetgroup\":\"DOM\",\"orientation\":\"v\",\"showlegend\":true,\"textposition\":\"auto\",\"type\":\"bar\",\"x\":[\"DOM\"],\"xaxis\":\"x\",\"y\":[2],\"yaxis\":\"y\"},{\"alignmentgroup\":\"True\",\"hovertemplate\":\"pais=%{x}<br>registration_year_month=20195<br>count=%{y}<extra></extra>\",\"ids\":[\"ESP\"],\"legendgroup\":\"ESP\",\"marker\":{\"color\":\"#EF553B\",\"pattern\":{\"shape\":\"\"}},\"name\":\"ESP\",\"offsetgroup\":\"ESP\",\"orientation\":\"v\",\"showlegend\":true,\"textposition\":\"auto\",\"type\":\"bar\",\"x\":[\"ESP\"],\"xaxis\":\"x\",\"y\":[27],\"yaxis\":\"y\"},{\"alignmentgroup\":\"True\",\"hovertemplate\":\"pais=%{x}<br>registration_year_month=20195<br>count=%{y}<extra></extra>\",\"ids\":[\"MEX\"],\"legendgroup\":\"MEX\",\"marker\":{\"color\":\"#00cc96\",\"pattern\":{\"shape\":\"\"}},\"name\":\"MEX\",\"offsetgroup\":\"MEX\",\"orientation\":\"v\",\"showlegend\":true,\"textposition\":\"auto\",\"type\":\"bar\",\"x\":[\"MEX\"],\"xaxis\":\"x\",\"y\":[43],\"yaxis\":\"y\"},{\"alignmentgroup\":\"True\",\"hovertemplate\":\"pais=%{x}<br>registration_year_month=20195<br>count=%{y}<extra></extra>\",\"ids\":[\"PER\"],\"legendgroup\":\"PER\",\"marker\":{\"color\":\"#ab63fa\",\"pattern\":{\"shape\":\"\"}},\"name\":\"PER\",\"offsetgroup\":\"PER\",\"orientation\":\"v\",\"showlegend\":true,\"textposition\":\"auto\",\"type\":\"bar\",\"x\":[\"PER\"],\"xaxis\":\"x\",\"y\":[2],\"yaxis\":\"y\"},{\"alignmentgroup\":\"True\",\"hovertemplate\":\"pais=%{x}<br>registration_year_month=20195<br>count=%{y}<extra></extra>\",\"ids\":[\"PRI\"],\"legendgroup\":\"PRI\",\"marker\":{\"color\":\"#19d3f3\",\"pattern\":{\"shape\":\"\"}},\"name\":\"PRI\",\"offsetgroup\":\"PRI\",\"orientation\":\"v\",\"showlegend\":true,\"textposition\":\"auto\",\"type\":\"bar\",\"x\":[\"PRI\"],\"xaxis\":\"x\",\"y\":[1],\"yaxis\":\"y\"},{\"alignmentgroup\":\"True\",\"hovertemplate\":\"pais=%{x}<br>registration_year_month=20195<br>count=%{y}<extra></extra>\",\"ids\":[\"CHL\"],\"legendgroup\":\"CHL\",\"marker\":{\"color\":\"#FF6692\",\"pattern\":{\"shape\":\"\"}},\"name\":\"CHL\",\"offsetgroup\":\"CHL\",\"orientation\":\"v\",\"showlegend\":true,\"textposition\":\"auto\",\"type\":\"bar\",\"x\":[\"CHL\"],\"xaxis\":\"x\",\"y\":[1],\"yaxis\":\"y\"},{\"alignmentgroup\":\"True\",\"hovertemplate\":\"pais=%{x}<br>registration_year_month=20195<br>count=%{y}<extra></extra>\",\"ids\":[\"COL\"],\"legendgroup\":\"COL\",\"marker\":{\"color\":\"#B6E880\",\"pattern\":{\"shape\":\"\"}},\"name\":\"COL\",\"offsetgroup\":\"COL\",\"orientation\":\"v\",\"showlegend\":true,\"textposition\":\"auto\",\"type\":\"bar\",\"x\":[\"COL\"],\"xaxis\":\"x\",\"y\":[2],\"yaxis\":\"y\"},{\"alignmentgroup\":\"True\",\"hovertemplate\":\"pais=%{x}<br>registration_year_month=20195<br>count=%{y}<extra></extra>\",\"ids\":[\"GTM\"],\"legendgroup\":\"GTM\",\"marker\":{\"color\":\"#FF97FF\",\"pattern\":{\"shape\":\"\"}},\"name\":\"GTM\",\"offsetgroup\":\"GTM\",\"orientation\":\"v\",\"showlegend\":true,\"textposition\":\"auto\",\"type\":\"bar\",\"x\":[\"GTM\"],\"xaxis\":\"x\",\"y\":[1],\"yaxis\":\"y\"},{\"alignmentgroup\":\"True\",\"hovertemplate\":\"pais=%{x}<br>registration_year_month=20195<br>count=%{y}<extra></extra>\",\"ids\":[\"ARG\"],\"legendgroup\":\"ARG\",\"marker\":{\"color\":\"#FECB52\",\"pattern\":{\"shape\":\"\"}},\"name\":\"ARG\",\"offsetgroup\":\"ARG\",\"orientation\":\"v\",\"showlegend\":true,\"textposition\":\"auto\",\"type\":\"bar\",\"x\":[\"ARG\"],\"xaxis\":\"x\",\"y\":[3],\"yaxis\":\"y\"},{\"alignmentgroup\":\"True\",\"hovertemplate\":\"pais=%{x}<br>registration_year_month=20195<br>count=%{y}<extra></extra>\",\"ids\":[\"ECU\"],\"legendgroup\":\"ECU\",\"marker\":{\"color\":\"#B6E880\",\"pattern\":{\"shape\":\"\"}},\"name\":\"ECU\",\"offsetgroup\":\"ECU\",\"orientation\":\"v\",\"showlegend\":true,\"textposition\":\"auto\",\"type\":\"bar\",\"x\":[\"ECU\"],\"xaxis\":\"x\",\"y\":[6],\"yaxis\":\"y\"},{\"alignmentgroup\":\"True\",\"hovertemplate\":\"pais=%{x}<br>registration_year_month=20195<br>count=%{y}<extra></extra>\",\"ids\":[\"CRI\"],\"legendgroup\":\"CRI\",\"marker\":{\"color\":\"#FECB52\",\"pattern\":{\"shape\":\"\"}},\"name\":\"CRI\",\"offsetgroup\":\"CRI\",\"orientation\":\"v\",\"showlegend\":true,\"textposition\":\"auto\",\"type\":\"bar\",\"x\":[\"CRI\"],\"xaxis\":\"x\",\"y\":[77],\"yaxis\":\"y\"}],\"name\":\"20195\"},{\"data\":[{\"alignmentgroup\":\"True\",\"hovertemplate\":\"pais=%{x}<br>registration_year_month=20196<br>count=%{y}<extra></extra>\",\"ids\":[\"DOM\"],\"legendgroup\":\"DOM\",\"marker\":{\"color\":\"#636efa\",\"pattern\":{\"shape\":\"\"}},\"name\":\"DOM\",\"offsetgroup\":\"DOM\",\"orientation\":\"v\",\"showlegend\":true,\"textposition\":\"auto\",\"type\":\"bar\",\"x\":[\"DOM\"],\"xaxis\":\"x\",\"y\":[1],\"yaxis\":\"y\"},{\"alignmentgroup\":\"True\",\"hovertemplate\":\"pais=%{x}<br>registration_year_month=20196<br>count=%{y}<extra></extra>\",\"ids\":[\"ESP\"],\"legendgroup\":\"ESP\",\"marker\":{\"color\":\"#EF553B\",\"pattern\":{\"shape\":\"\"}},\"name\":\"ESP\",\"offsetgroup\":\"ESP\",\"orientation\":\"v\",\"showlegend\":true,\"textposition\":\"auto\",\"type\":\"bar\",\"x\":[\"ESP\"],\"xaxis\":\"x\",\"y\":[52],\"yaxis\":\"y\"},{\"alignmentgroup\":\"True\",\"hovertemplate\":\"pais=%{x}<br>registration_year_month=20196<br>count=%{y}<extra></extra>\",\"ids\":[\"MEX\"],\"legendgroup\":\"MEX\",\"marker\":{\"color\":\"#00cc96\",\"pattern\":{\"shape\":\"\"}},\"name\":\"MEX\",\"offsetgroup\":\"MEX\",\"orientation\":\"v\",\"showlegend\":true,\"textposition\":\"auto\",\"type\":\"bar\",\"x\":[\"MEX\"],\"xaxis\":\"x\",\"y\":[12],\"yaxis\":\"y\"},{\"alignmentgroup\":\"True\",\"hovertemplate\":\"pais=%{x}<br>registration_year_month=20196<br>count=%{y}<extra></extra>\",\"ids\":[\"PER\"],\"legendgroup\":\"PER\",\"marker\":{\"color\":\"#ab63fa\",\"pattern\":{\"shape\":\"\"}},\"name\":\"PER\",\"offsetgroup\":\"PER\",\"orientation\":\"v\",\"showlegend\":true,\"textposition\":\"auto\",\"type\":\"bar\",\"x\":[\"PER\"],\"xaxis\":\"x\",\"y\":[1],\"yaxis\":\"y\"},{\"alignmentgroup\":\"True\",\"hovertemplate\":\"pais=%{x}<br>registration_year_month=20196<br>count=%{y}<extra></extra>\",\"ids\":[\"COL\"],\"legendgroup\":\"COL\",\"marker\":{\"color\":\"#B6E880\",\"pattern\":{\"shape\":\"\"}},\"name\":\"COL\",\"offsetgroup\":\"COL\",\"orientation\":\"v\",\"showlegend\":true,\"textposition\":\"auto\",\"type\":\"bar\",\"x\":[\"COL\"],\"xaxis\":\"x\",\"y\":[3],\"yaxis\":\"y\"},{\"alignmentgroup\":\"True\",\"hovertemplate\":\"pais=%{x}<br>registration_year_month=20196<br>count=%{y}<extra></extra>\",\"ids\":[\"GTM\"],\"legendgroup\":\"GTM\",\"marker\":{\"color\":\"#FF97FF\",\"pattern\":{\"shape\":\"\"}},\"name\":\"GTM\",\"offsetgroup\":\"GTM\",\"orientation\":\"v\",\"showlegend\":true,\"textposition\":\"auto\",\"type\":\"bar\",\"x\":[\"GTM\"],\"xaxis\":\"x\",\"y\":[1],\"yaxis\":\"y\"},{\"alignmentgroup\":\"True\",\"hovertemplate\":\"pais=%{x}<br>registration_year_month=20196<br>count=%{y}<extra></extra>\",\"ids\":[\"URY\"],\"legendgroup\":\"URY\",\"marker\":{\"color\":\"#636efa\",\"pattern\":{\"shape\":\"\"}},\"name\":\"URY\",\"offsetgroup\":\"URY\",\"orientation\":\"v\",\"showlegend\":true,\"textposition\":\"auto\",\"type\":\"bar\",\"x\":[\"URY\"],\"xaxis\":\"x\",\"y\":[1],\"yaxis\":\"y\"},{\"alignmentgroup\":\"True\",\"hovertemplate\":\"pais=%{x}<br>registration_year_month=20196<br>count=%{y}<extra></extra>\",\"ids\":[\"ECU\"],\"legendgroup\":\"ECU\",\"marker\":{\"color\":\"#B6E880\",\"pattern\":{\"shape\":\"\"}},\"name\":\"ECU\",\"offsetgroup\":\"ECU\",\"orientation\":\"v\",\"showlegend\":true,\"textposition\":\"auto\",\"type\":\"bar\",\"x\":[\"ECU\"],\"xaxis\":\"x\",\"y\":[2],\"yaxis\":\"y\"},{\"alignmentgroup\":\"True\",\"hovertemplate\":\"pais=%{x}<br>registration_year_month=20196<br>count=%{y}<extra></extra>\",\"ids\":[\"USA\"],\"legendgroup\":\"USA\",\"marker\":{\"color\":\"#FF97FF\",\"pattern\":{\"shape\":\"\"}},\"name\":\"USA\",\"offsetgroup\":\"USA\",\"orientation\":\"v\",\"showlegend\":true,\"textposition\":\"auto\",\"type\":\"bar\",\"x\":[\"USA\"],\"xaxis\":\"x\",\"y\":[1],\"yaxis\":\"y\"},{\"alignmentgroup\":\"True\",\"hovertemplate\":\"pais=%{x}<br>registration_year_month=20196<br>count=%{y}<extra></extra>\",\"ids\":[\"CRI\"],\"legendgroup\":\"CRI\",\"marker\":{\"color\":\"#FECB52\",\"pattern\":{\"shape\":\"\"}},\"name\":\"CRI\",\"offsetgroup\":\"CRI\",\"orientation\":\"v\",\"showlegend\":true,\"textposition\":\"auto\",\"type\":\"bar\",\"x\":[\"CRI\"],\"xaxis\":\"x\",\"y\":[2],\"yaxis\":\"y\"}],\"name\":\"20196\"},{\"data\":[{\"alignmentgroup\":\"True\",\"hovertemplate\":\"pais=%{x}<br>registration_year_month=20197<br>count=%{y}<extra></extra>\",\"ids\":[\"DOM\"],\"legendgroup\":\"DOM\",\"marker\":{\"color\":\"#636efa\",\"pattern\":{\"shape\":\"\"}},\"name\":\"DOM\",\"offsetgroup\":\"DOM\",\"orientation\":\"v\",\"showlegend\":true,\"textposition\":\"auto\",\"type\":\"bar\",\"x\":[\"DOM\"],\"xaxis\":\"x\",\"y\":[1],\"yaxis\":\"y\"},{\"alignmentgroup\":\"True\",\"hovertemplate\":\"pais=%{x}<br>registration_year_month=20197<br>count=%{y}<extra></extra>\",\"ids\":[\"ESP\"],\"legendgroup\":\"ESP\",\"marker\":{\"color\":\"#EF553B\",\"pattern\":{\"shape\":\"\"}},\"name\":\"ESP\",\"offsetgroup\":\"ESP\",\"orientation\":\"v\",\"showlegend\":true,\"textposition\":\"auto\",\"type\":\"bar\",\"x\":[\"ESP\"],\"xaxis\":\"x\",\"y\":[21],\"yaxis\":\"y\"},{\"alignmentgroup\":\"True\",\"hovertemplate\":\"pais=%{x}<br>registration_year_month=20197<br>count=%{y}<extra></extra>\",\"ids\":[\"MEX\"],\"legendgroup\":\"MEX\",\"marker\":{\"color\":\"#00cc96\",\"pattern\":{\"shape\":\"\"}},\"name\":\"MEX\",\"offsetgroup\":\"MEX\",\"orientation\":\"v\",\"showlegend\":true,\"textposition\":\"auto\",\"type\":\"bar\",\"x\":[\"MEX\"],\"xaxis\":\"x\",\"y\":[10],\"yaxis\":\"y\"},{\"alignmentgroup\":\"True\",\"hovertemplate\":\"pais=%{x}<br>registration_year_month=20197<br>count=%{y}<extra></extra>\",\"ids\":[\"PER\"],\"legendgroup\":\"PER\",\"marker\":{\"color\":\"#ab63fa\",\"pattern\":{\"shape\":\"\"}},\"name\":\"PER\",\"offsetgroup\":\"PER\",\"orientation\":\"v\",\"showlegend\":true,\"textposition\":\"auto\",\"type\":\"bar\",\"x\":[\"PER\"],\"xaxis\":\"x\",\"y\":[3],\"yaxis\":\"y\"},{\"alignmentgroup\":\"True\",\"hovertemplate\":\"pais=%{x}<br>registration_year_month=20197<br>count=%{y}<extra></extra>\",\"ids\":[\"COL\"],\"legendgroup\":\"COL\",\"marker\":{\"color\":\"#B6E880\",\"pattern\":{\"shape\":\"\"}},\"name\":\"COL\",\"offsetgroup\":\"COL\",\"orientation\":\"v\",\"showlegend\":true,\"textposition\":\"auto\",\"type\":\"bar\",\"x\":[\"COL\"],\"xaxis\":\"x\",\"y\":[2],\"yaxis\":\"y\"},{\"alignmentgroup\":\"True\",\"hovertemplate\":\"pais=%{x}<br>registration_year_month=20197<br>count=%{y}<extra></extra>\",\"ids\":[\"GTM\"],\"legendgroup\":\"GTM\",\"marker\":{\"color\":\"#FF97FF\",\"pattern\":{\"shape\":\"\"}},\"name\":\"GTM\",\"offsetgroup\":\"GTM\",\"orientation\":\"v\",\"showlegend\":true,\"textposition\":\"auto\",\"type\":\"bar\",\"x\":[\"GTM\"],\"xaxis\":\"x\",\"y\":[2],\"yaxis\":\"y\"},{\"alignmentgroup\":\"True\",\"hovertemplate\":\"pais=%{x}<br>registration_year_month=20197<br>count=%{y}<extra></extra>\",\"ids\":[\"ARG\"],\"legendgroup\":\"ARG\",\"marker\":{\"color\":\"#FECB52\",\"pattern\":{\"shape\":\"\"}},\"name\":\"ARG\",\"offsetgroup\":\"ARG\",\"orientation\":\"v\",\"showlegend\":true,\"textposition\":\"auto\",\"type\":\"bar\",\"x\":[\"ARG\"],\"xaxis\":\"x\",\"y\":[1],\"yaxis\":\"y\"},{\"alignmentgroup\":\"True\",\"hovertemplate\":\"pais=%{x}<br>registration_year_month=20197<br>count=%{y}<extra></extra>\",\"ids\":[\"VEN\"],\"legendgroup\":\"VEN\",\"marker\":{\"color\":\"#EF553B\",\"pattern\":{\"shape\":\"\"}},\"name\":\"VEN\",\"offsetgroup\":\"VEN\",\"orientation\":\"v\",\"showlegend\":true,\"textposition\":\"auto\",\"type\":\"bar\",\"x\":[\"VEN\"],\"xaxis\":\"x\",\"y\":[1],\"yaxis\":\"y\"},{\"alignmentgroup\":\"True\",\"hovertemplate\":\"pais=%{x}<br>registration_year_month=20197<br>count=%{y}<extra></extra>\",\"ids\":[\"ECU\"],\"legendgroup\":\"ECU\",\"marker\":{\"color\":\"#B6E880\",\"pattern\":{\"shape\":\"\"}},\"name\":\"ECU\",\"offsetgroup\":\"ECU\",\"orientation\":\"v\",\"showlegend\":true,\"textposition\":\"auto\",\"type\":\"bar\",\"x\":[\"ECU\"],\"xaxis\":\"x\",\"y\":[2],\"yaxis\":\"y\"},{\"alignmentgroup\":\"True\",\"hovertemplate\":\"pais=%{x}<br>registration_year_month=20197<br>count=%{y}<extra></extra>\",\"ids\":[\"CRI\"],\"legendgroup\":\"CRI\",\"marker\":{\"color\":\"#FECB52\",\"pattern\":{\"shape\":\"\"}},\"name\":\"CRI\",\"offsetgroup\":\"CRI\",\"orientation\":\"v\",\"showlegend\":true,\"textposition\":\"auto\",\"type\":\"bar\",\"x\":[\"CRI\"],\"xaxis\":\"x\",\"y\":[4],\"yaxis\":\"y\"},{\"alignmentgroup\":\"True\",\"hovertemplate\":\"pais=%{x}<br>registration_year_month=20197<br>count=%{y}<extra></extra>\",\"ids\":[\"VNM\"],\"legendgroup\":\"VNM\",\"marker\":{\"color\":\"#B6E880\",\"pattern\":{\"shape\":\"\"}},\"name\":\"VNM\",\"offsetgroup\":\"VNM\",\"orientation\":\"v\",\"showlegend\":true,\"textposition\":\"auto\",\"type\":\"bar\",\"x\":[\"VNM\"],\"xaxis\":\"x\",\"y\":[1],\"yaxis\":\"y\"}],\"name\":\"20197\"},{\"data\":[{\"alignmentgroup\":\"True\",\"hovertemplate\":\"pais=%{x}<br>registration_year_month=20198<br>count=%{y}<extra></extra>\",\"ids\":[\"ESP\"],\"legendgroup\":\"ESP\",\"marker\":{\"color\":\"#EF553B\",\"pattern\":{\"shape\":\"\"}},\"name\":\"ESP\",\"offsetgroup\":\"ESP\",\"orientation\":\"v\",\"showlegend\":true,\"textposition\":\"auto\",\"type\":\"bar\",\"x\":[\"ESP\"],\"xaxis\":\"x\",\"y\":[6],\"yaxis\":\"y\"},{\"alignmentgroup\":\"True\",\"hovertemplate\":\"pais=%{x}<br>registration_year_month=20198<br>count=%{y}<extra></extra>\",\"ids\":[\"MEX\"],\"legendgroup\":\"MEX\",\"marker\":{\"color\":\"#00cc96\",\"pattern\":{\"shape\":\"\"}},\"name\":\"MEX\",\"offsetgroup\":\"MEX\",\"orientation\":\"v\",\"showlegend\":true,\"textposition\":\"auto\",\"type\":\"bar\",\"x\":[\"MEX\"],\"xaxis\":\"x\",\"y\":[3],\"yaxis\":\"y\"},{\"alignmentgroup\":\"True\",\"hovertemplate\":\"pais=%{x}<br>registration_year_month=20198<br>count=%{y}<extra></extra>\",\"ids\":[\"PER\"],\"legendgroup\":\"PER\",\"marker\":{\"color\":\"#ab63fa\",\"pattern\":{\"shape\":\"\"}},\"name\":\"PER\",\"offsetgroup\":\"PER\",\"orientation\":\"v\",\"showlegend\":true,\"textposition\":\"auto\",\"type\":\"bar\",\"x\":[\"PER\"],\"xaxis\":\"x\",\"y\":[1],\"yaxis\":\"y\"},{\"alignmentgroup\":\"True\",\"hovertemplate\":\"pais=%{x}<br>registration_year_month=20198<br>count=%{y}<extra></extra>\",\"ids\":[\"CHL\"],\"legendgroup\":\"CHL\",\"marker\":{\"color\":\"#FF6692\",\"pattern\":{\"shape\":\"\"}},\"name\":\"CHL\",\"offsetgroup\":\"CHL\",\"orientation\":\"v\",\"showlegend\":true,\"textposition\":\"auto\",\"type\":\"bar\",\"x\":[\"CHL\"],\"xaxis\":\"x\",\"y\":[1],\"yaxis\":\"y\"},{\"alignmentgroup\":\"True\",\"hovertemplate\":\"pais=%{x}<br>registration_year_month=20198<br>count=%{y}<extra></extra>\",\"ids\":[\"GTM\"],\"legendgroup\":\"GTM\",\"marker\":{\"color\":\"#FF97FF\",\"pattern\":{\"shape\":\"\"}},\"name\":\"GTM\",\"offsetgroup\":\"GTM\",\"orientation\":\"v\",\"showlegend\":true,\"textposition\":\"auto\",\"type\":\"bar\",\"x\":[\"GTM\"],\"xaxis\":\"x\",\"y\":[6],\"yaxis\":\"y\"},{\"alignmentgroup\":\"True\",\"hovertemplate\":\"pais=%{x}<br>registration_year_month=20198<br>count=%{y}<extra></extra>\",\"ids\":[\"AND\"],\"legendgroup\":\"AND\",\"marker\":{\"color\":\"#00cc96\",\"pattern\":{\"shape\":\"\"}},\"name\":\"AND\",\"offsetgroup\":\"AND\",\"orientation\":\"v\",\"showlegend\":true,\"textposition\":\"auto\",\"type\":\"bar\",\"x\":[\"AND\"],\"xaxis\":\"x\",\"y\":[2],\"yaxis\":\"y\"},{\"alignmentgroup\":\"True\",\"hovertemplate\":\"pais=%{x}<br>registration_year_month=20198<br>count=%{y}<extra></extra>\",\"ids\":[\"FIN\"],\"legendgroup\":\"FIN\",\"marker\":{\"color\":\"#FFA15A\",\"pattern\":{\"shape\":\"\"}},\"name\":\"FIN\",\"offsetgroup\":\"FIN\",\"orientation\":\"v\",\"showlegend\":true,\"textposition\":\"auto\",\"type\":\"bar\",\"x\":[\"FIN\"],\"xaxis\":\"x\",\"y\":[1],\"yaxis\":\"y\"},{\"alignmentgroup\":\"True\",\"hovertemplate\":\"pais=%{x}<br>registration_year_month=20198<br>count=%{y}<extra></extra>\",\"ids\":[\"ECU\"],\"legendgroup\":\"ECU\",\"marker\":{\"color\":\"#B6E880\",\"pattern\":{\"shape\":\"\"}},\"name\":\"ECU\",\"offsetgroup\":\"ECU\",\"orientation\":\"v\",\"showlegend\":true,\"textposition\":\"auto\",\"type\":\"bar\",\"x\":[\"ECU\"],\"xaxis\":\"x\",\"y\":[15],\"yaxis\":\"y\"},{\"alignmentgroup\":\"True\",\"hovertemplate\":\"pais=%{x}<br>registration_year_month=20198<br>count=%{y}<extra></extra>\",\"ids\":[\"USA\"],\"legendgroup\":\"USA\",\"marker\":{\"color\":\"#FF97FF\",\"pattern\":{\"shape\":\"\"}},\"name\":\"USA\",\"offsetgroup\":\"USA\",\"orientation\":\"v\",\"showlegend\":true,\"textposition\":\"auto\",\"type\":\"bar\",\"x\":[\"USA\"],\"xaxis\":\"x\",\"y\":[1],\"yaxis\":\"y\"},{\"alignmentgroup\":\"True\",\"hovertemplate\":\"pais=%{x}<br>registration_year_month=20198<br>count=%{y}<extra></extra>\",\"ids\":[\"PAN\"],\"legendgroup\":\"PAN\",\"marker\":{\"color\":\"#EF553B\",\"pattern\":{\"shape\":\"\"}},\"name\":\"PAN\",\"offsetgroup\":\"PAN\",\"orientation\":\"v\",\"showlegend\":true,\"textposition\":\"auto\",\"type\":\"bar\",\"x\":[\"PAN\"],\"xaxis\":\"x\",\"y\":[1],\"yaxis\":\"y\"}],\"name\":\"20198\"},{\"data\":[{\"alignmentgroup\":\"True\",\"hovertemplate\":\"pais=%{x}<br>registration_year_month=20199<br>count=%{y}<extra></extra>\",\"ids\":[\"ESP\"],\"legendgroup\":\"ESP\",\"marker\":{\"color\":\"#EF553B\",\"pattern\":{\"shape\":\"\"}},\"name\":\"ESP\",\"offsetgroup\":\"ESP\",\"orientation\":\"v\",\"showlegend\":true,\"textposition\":\"auto\",\"type\":\"bar\",\"x\":[\"ESP\"],\"xaxis\":\"x\",\"y\":[136],\"yaxis\":\"y\"},{\"alignmentgroup\":\"True\",\"hovertemplate\":\"pais=%{x}<br>registration_year_month=20199<br>count=%{y}<extra></extra>\",\"ids\":[\"MEX\"],\"legendgroup\":\"MEX\",\"marker\":{\"color\":\"#00cc96\",\"pattern\":{\"shape\":\"\"}},\"name\":\"MEX\",\"offsetgroup\":\"MEX\",\"orientation\":\"v\",\"showlegend\":true,\"textposition\":\"auto\",\"type\":\"bar\",\"x\":[\"MEX\"],\"xaxis\":\"x\",\"y\":[6],\"yaxis\":\"y\"},{\"alignmentgroup\":\"True\",\"hovertemplate\":\"pais=%{x}<br>registration_year_month=20199<br>count=%{y}<extra></extra>\",\"ids\":[\"PER\"],\"legendgroup\":\"PER\",\"marker\":{\"color\":\"#ab63fa\",\"pattern\":{\"shape\":\"\"}},\"name\":\"PER\",\"offsetgroup\":\"PER\",\"orientation\":\"v\",\"showlegend\":true,\"textposition\":\"auto\",\"type\":\"bar\",\"x\":[\"PER\"],\"xaxis\":\"x\",\"y\":[3],\"yaxis\":\"y\"},{\"alignmentgroup\":\"True\",\"hovertemplate\":\"pais=%{x}<br>registration_year_month=20199<br>count=%{y}<extra></extra>\",\"ids\":[\"ARG\"],\"legendgroup\":\"ARG\",\"marker\":{\"color\":\"#FECB52\",\"pattern\":{\"shape\":\"\"}},\"name\":\"ARG\",\"offsetgroup\":\"ARG\",\"orientation\":\"v\",\"showlegend\":true,\"textposition\":\"auto\",\"type\":\"bar\",\"x\":[\"ARG\"],\"xaxis\":\"x\",\"y\":[1],\"yaxis\":\"y\"},{\"alignmentgroup\":\"True\",\"hovertemplate\":\"pais=%{x}<br>registration_year_month=20199<br>count=%{y}<extra></extra>\",\"ids\":[\"AND\"],\"legendgroup\":\"AND\",\"marker\":{\"color\":\"#00cc96\",\"pattern\":{\"shape\":\"\"}},\"name\":\"AND\",\"offsetgroup\":\"AND\",\"orientation\":\"v\",\"showlegend\":true,\"textposition\":\"auto\",\"type\":\"bar\",\"x\":[\"AND\"],\"xaxis\":\"x\",\"y\":[1],\"yaxis\":\"y\"},{\"alignmentgroup\":\"True\",\"hovertemplate\":\"pais=%{x}<br>registration_year_month=20199<br>count=%{y}<extra></extra>\",\"ids\":[\"FIN\"],\"legendgroup\":\"FIN\",\"marker\":{\"color\":\"#FFA15A\",\"pattern\":{\"shape\":\"\"}},\"name\":\"FIN\",\"offsetgroup\":\"FIN\",\"orientation\":\"v\",\"showlegend\":true,\"textposition\":\"auto\",\"type\":\"bar\",\"x\":[\"FIN\"],\"xaxis\":\"x\",\"y\":[1],\"yaxis\":\"y\"},{\"alignmentgroup\":\"True\",\"hovertemplate\":\"pais=%{x}<br>registration_year_month=20199<br>count=%{y}<extra></extra>\",\"ids\":[\"CRI\"],\"legendgroup\":\"CRI\",\"marker\":{\"color\":\"#FECB52\",\"pattern\":{\"shape\":\"\"}},\"name\":\"CRI\",\"offsetgroup\":\"CRI\",\"orientation\":\"v\",\"showlegend\":true,\"textposition\":\"auto\",\"type\":\"bar\",\"x\":[\"CRI\"],\"xaxis\":\"x\",\"y\":[6],\"yaxis\":\"y\"},{\"alignmentgroup\":\"True\",\"hovertemplate\":\"pais=%{x}<br>registration_year_month=20199<br>count=%{y}<extra></extra>\",\"ids\":[\"PAN\"],\"legendgroup\":\"PAN\",\"marker\":{\"color\":\"#EF553B\",\"pattern\":{\"shape\":\"\"}},\"name\":\"PAN\",\"offsetgroup\":\"PAN\",\"orientation\":\"v\",\"showlegend\":true,\"textposition\":\"auto\",\"type\":\"bar\",\"x\":[\"PAN\"],\"xaxis\":\"x\",\"y\":[1],\"yaxis\":\"y\"},{\"alignmentgroup\":\"True\",\"hovertemplate\":\"pais=%{x}<br>registration_year_month=20199<br>count=%{y}<extra></extra>\",\"ids\":[\"BOL\"],\"legendgroup\":\"BOL\",\"marker\":{\"color\":\"#636efa\",\"pattern\":{\"shape\":\"\"}},\"name\":\"BOL\",\"offsetgroup\":\"BOL\",\"orientation\":\"v\",\"showlegend\":true,\"textposition\":\"auto\",\"type\":\"bar\",\"x\":[\"BOL\"],\"xaxis\":\"x\",\"y\":[1],\"yaxis\":\"y\"},{\"alignmentgroup\":\"True\",\"hovertemplate\":\"pais=%{x}<br>registration_year_month=20199<br>count=%{y}<extra></extra>\",\"ids\":[\"AUS\"],\"legendgroup\":\"AUS\",\"marker\":{\"color\":\"#19d3f3\",\"pattern\":{\"shape\":\"\"}},\"name\":\"AUS\",\"offsetgroup\":\"AUS\",\"orientation\":\"v\",\"showlegend\":true,\"textposition\":\"auto\",\"type\":\"bar\",\"x\":[\"AUS\"],\"xaxis\":\"x\",\"y\":[2],\"yaxis\":\"y\"},{\"alignmentgroup\":\"True\",\"hovertemplate\":\"pais=%{x}<br>registration_year_month=20199<br>count=%{y}<extra></extra>\",\"ids\":[\"VNM\"],\"legendgroup\":\"VNM\",\"marker\":{\"color\":\"#B6E880\",\"pattern\":{\"shape\":\"\"}},\"name\":\"VNM\",\"offsetgroup\":\"VNM\",\"orientation\":\"v\",\"showlegend\":true,\"textposition\":\"auto\",\"type\":\"bar\",\"x\":[\"VNM\"],\"xaxis\":\"x\",\"y\":[7],\"yaxis\":\"y\"},{\"alignmentgroup\":\"True\",\"hovertemplate\":\"pais=%{x}<br>registration_year_month=20199<br>count=%{y}<extra></extra>\",\"ids\":[\"MMR\"],\"legendgroup\":\"MMR\",\"marker\":{\"color\":\"#FF97FF\",\"pattern\":{\"shape\":\"\"}},\"name\":\"MMR\",\"offsetgroup\":\"MMR\",\"orientation\":\"v\",\"showlegend\":true,\"textposition\":\"auto\",\"type\":\"bar\",\"x\":[\"MMR\"],\"xaxis\":\"x\",\"y\":[1],\"yaxis\":\"y\"}],\"name\":\"20199\"},{\"data\":[{\"alignmentgroup\":\"True\",\"hovertemplate\":\"pais=%{x}<br>registration_year_month=20201<br>count=%{y}<extra></extra>\",\"ids\":[\"DOM\"],\"legendgroup\":\"DOM\",\"marker\":{\"color\":\"#636efa\",\"pattern\":{\"shape\":\"\"}},\"name\":\"DOM\",\"offsetgroup\":\"DOM\",\"orientation\":\"v\",\"showlegend\":true,\"textposition\":\"auto\",\"type\":\"bar\",\"x\":[\"DOM\"],\"xaxis\":\"x\",\"y\":[2],\"yaxis\":\"y\"},{\"alignmentgroup\":\"True\",\"hovertemplate\":\"pais=%{x}<br>registration_year_month=20201<br>count=%{y}<extra></extra>\",\"ids\":[\"ESP\"],\"legendgroup\":\"ESP\",\"marker\":{\"color\":\"#EF553B\",\"pattern\":{\"shape\":\"\"}},\"name\":\"ESP\",\"offsetgroup\":\"ESP\",\"orientation\":\"v\",\"showlegend\":true,\"textposition\":\"auto\",\"type\":\"bar\",\"x\":[\"ESP\"],\"xaxis\":\"x\",\"y\":[19],\"yaxis\":\"y\"},{\"alignmentgroup\":\"True\",\"hovertemplate\":\"pais=%{x}<br>registration_year_month=20201<br>count=%{y}<extra></extra>\",\"ids\":[\"MEX\"],\"legendgroup\":\"MEX\",\"marker\":{\"color\":\"#00cc96\",\"pattern\":{\"shape\":\"\"}},\"name\":\"MEX\",\"offsetgroup\":\"MEX\",\"orientation\":\"v\",\"showlegend\":true,\"textposition\":\"auto\",\"type\":\"bar\",\"x\":[\"MEX\"],\"xaxis\":\"x\",\"y\":[132],\"yaxis\":\"y\"},{\"alignmentgroup\":\"True\",\"hovertemplate\":\"pais=%{x}<br>registration_year_month=20201<br>count=%{y}<extra></extra>\",\"ids\":[\"PER\"],\"legendgroup\":\"PER\",\"marker\":{\"color\":\"#ab63fa\",\"pattern\":{\"shape\":\"\"}},\"name\":\"PER\",\"offsetgroup\":\"PER\",\"orientation\":\"v\",\"showlegend\":true,\"textposition\":\"auto\",\"type\":\"bar\",\"x\":[\"PER\"],\"xaxis\":\"x\",\"y\":[6],\"yaxis\":\"y\"},{\"alignmentgroup\":\"True\",\"hovertemplate\":\"pais=%{x}<br>registration_year_month=20201<br>count=%{y}<extra></extra>\",\"ids\":[\"COL\"],\"legendgroup\":\"COL\",\"marker\":{\"color\":\"#B6E880\",\"pattern\":{\"shape\":\"\"}},\"name\":\"COL\",\"offsetgroup\":\"COL\",\"orientation\":\"v\",\"showlegend\":true,\"textposition\":\"auto\",\"type\":\"bar\",\"x\":[\"COL\"],\"xaxis\":\"x\",\"y\":[6],\"yaxis\":\"y\"},{\"alignmentgroup\":\"True\",\"hovertemplate\":\"pais=%{x}<br>registration_year_month=20201<br>count=%{y}<extra></extra>\",\"ids\":[\"GTM\"],\"legendgroup\":\"GTM\",\"marker\":{\"color\":\"#FF97FF\",\"pattern\":{\"shape\":\"\"}},\"name\":\"GTM\",\"offsetgroup\":\"GTM\",\"orientation\":\"v\",\"showlegend\":true,\"textposition\":\"auto\",\"type\":\"bar\",\"x\":[\"GTM\"],\"xaxis\":\"x\",\"y\":[1],\"yaxis\":\"y\"},{\"alignmentgroup\":\"True\",\"hovertemplate\":\"pais=%{x}<br>registration_year_month=20201<br>count=%{y}<extra></extra>\",\"ids\":[\"ECU\"],\"legendgroup\":\"ECU\",\"marker\":{\"color\":\"#B6E880\",\"pattern\":{\"shape\":\"\"}},\"name\":\"ECU\",\"offsetgroup\":\"ECU\",\"orientation\":\"v\",\"showlegend\":true,\"textposition\":\"auto\",\"type\":\"bar\",\"x\":[\"ECU\"],\"xaxis\":\"x\",\"y\":[3],\"yaxis\":\"y\"},{\"alignmentgroup\":\"True\",\"hovertemplate\":\"pais=%{x}<br>registration_year_month=20201<br>count=%{y}<extra></extra>\",\"ids\":[\"USA\"],\"legendgroup\":\"USA\",\"marker\":{\"color\":\"#FF97FF\",\"pattern\":{\"shape\":\"\"}},\"name\":\"USA\",\"offsetgroup\":\"USA\",\"orientation\":\"v\",\"showlegend\":true,\"textposition\":\"auto\",\"type\":\"bar\",\"x\":[\"USA\"],\"xaxis\":\"x\",\"y\":[2],\"yaxis\":\"y\"},{\"alignmentgroup\":\"True\",\"hovertemplate\":\"pais=%{x}<br>registration_year_month=20201<br>count=%{y}<extra></extra>\",\"ids\":[\"CRI\"],\"legendgroup\":\"CRI\",\"marker\":{\"color\":\"#FECB52\",\"pattern\":{\"shape\":\"\"}},\"name\":\"CRI\",\"offsetgroup\":\"CRI\",\"orientation\":\"v\",\"showlegend\":true,\"textposition\":\"auto\",\"type\":\"bar\",\"x\":[\"CRI\"],\"xaxis\":\"x\",\"y\":[1],\"yaxis\":\"y\"},{\"alignmentgroup\":\"True\",\"hovertemplate\":\"pais=%{x}<br>registration_year_month=20201<br>count=%{y}<extra></extra>\",\"ids\":[\"PAN\"],\"legendgroup\":\"PAN\",\"marker\":{\"color\":\"#EF553B\",\"pattern\":{\"shape\":\"\"}},\"name\":\"PAN\",\"offsetgroup\":\"PAN\",\"orientation\":\"v\",\"showlegend\":true,\"textposition\":\"auto\",\"type\":\"bar\",\"x\":[\"PAN\"],\"xaxis\":\"x\",\"y\":[1],\"yaxis\":\"y\"},{\"alignmentgroup\":\"True\",\"hovertemplate\":\"pais=%{x}<br>registration_year_month=20201<br>count=%{y}<extra></extra>\",\"ids\":[\"HND\"],\"legendgroup\":\"HND\",\"marker\":{\"color\":\"#B6E880\",\"pattern\":{\"shape\":\"\"}},\"name\":\"HND\",\"offsetgroup\":\"HND\",\"orientation\":\"v\",\"showlegend\":true,\"textposition\":\"auto\",\"type\":\"bar\",\"x\":[\"HND\"],\"xaxis\":\"x\",\"y\":[2],\"yaxis\":\"y\"},{\"alignmentgroup\":\"True\",\"hovertemplate\":\"pais=%{x}<br>registration_year_month=20201<br>count=%{y}<extra></extra>\",\"ids\":[\"IND\"],\"legendgroup\":\"IND\",\"marker\":{\"color\":\"#ab63fa\",\"pattern\":{\"shape\":\"\"}},\"name\":\"IND\",\"offsetgroup\":\"IND\",\"orientation\":\"v\",\"showlegend\":true,\"textposition\":\"auto\",\"type\":\"bar\",\"x\":[\"IND\"],\"xaxis\":\"x\",\"y\":[2],\"yaxis\":\"y\"}],\"name\":\"20201\"},{\"data\":[{\"alignmentgroup\":\"True\",\"hovertemplate\":\"pais=%{x}<br>registration_year_month=202010<br>count=%{y}<extra></extra>\",\"ids\":[\"ESP\"],\"legendgroup\":\"ESP\",\"marker\":{\"color\":\"#EF553B\",\"pattern\":{\"shape\":\"\"}},\"name\":\"ESP\",\"offsetgroup\":\"ESP\",\"orientation\":\"v\",\"showlegend\":true,\"textposition\":\"auto\",\"type\":\"bar\",\"x\":[\"ESP\"],\"xaxis\":\"x\",\"y\":[8],\"yaxis\":\"y\"},{\"alignmentgroup\":\"True\",\"hovertemplate\":\"pais=%{x}<br>registration_year_month=202010<br>count=%{y}<extra></extra>\",\"ids\":[\"MEX\"],\"legendgroup\":\"MEX\",\"marker\":{\"color\":\"#00cc96\",\"pattern\":{\"shape\":\"\"}},\"name\":\"MEX\",\"offsetgroup\":\"MEX\",\"orientation\":\"v\",\"showlegend\":true,\"textposition\":\"auto\",\"type\":\"bar\",\"x\":[\"MEX\"],\"xaxis\":\"x\",\"y\":[9],\"yaxis\":\"y\"},{\"alignmentgroup\":\"True\",\"hovertemplate\":\"pais=%{x}<br>registration_year_month=202010<br>count=%{y}<extra></extra>\",\"ids\":[\"CHL\"],\"legendgroup\":\"CHL\",\"marker\":{\"color\":\"#FF6692\",\"pattern\":{\"shape\":\"\"}},\"name\":\"CHL\",\"offsetgroup\":\"CHL\",\"orientation\":\"v\",\"showlegend\":true,\"textposition\":\"auto\",\"type\":\"bar\",\"x\":[\"CHL\"],\"xaxis\":\"x\",\"y\":[1],\"yaxis\":\"y\"},{\"alignmentgroup\":\"True\",\"hovertemplate\":\"pais=%{x}<br>registration_year_month=202010<br>count=%{y}<extra></extra>\",\"ids\":[\"GTM\"],\"legendgroup\":\"GTM\",\"marker\":{\"color\":\"#FF97FF\",\"pattern\":{\"shape\":\"\"}},\"name\":\"GTM\",\"offsetgroup\":\"GTM\",\"orientation\":\"v\",\"showlegend\":true,\"textposition\":\"auto\",\"type\":\"bar\",\"x\":[\"GTM\"],\"xaxis\":\"x\",\"y\":[9],\"yaxis\":\"y\"},{\"alignmentgroup\":\"True\",\"hovertemplate\":\"pais=%{x}<br>registration_year_month=202010<br>count=%{y}<extra></extra>\",\"ids\":[\"ECU\"],\"legendgroup\":\"ECU\",\"marker\":{\"color\":\"#B6E880\",\"pattern\":{\"shape\":\"\"}},\"name\":\"ECU\",\"offsetgroup\":\"ECU\",\"orientation\":\"v\",\"showlegend\":true,\"textposition\":\"auto\",\"type\":\"bar\",\"x\":[\"ECU\"],\"xaxis\":\"x\",\"y\":[2],\"yaxis\":\"y\"},{\"alignmentgroup\":\"True\",\"hovertemplate\":\"pais=%{x}<br>registration_year_month=202010<br>count=%{y}<extra></extra>\",\"ids\":[\"BOL\"],\"legendgroup\":\"BOL\",\"marker\":{\"color\":\"#636efa\",\"pattern\":{\"shape\":\"\"}},\"name\":\"BOL\",\"offsetgroup\":\"BOL\",\"orientation\":\"v\",\"showlegend\":true,\"textposition\":\"auto\",\"type\":\"bar\",\"x\":[\"BOL\"],\"xaxis\":\"x\",\"y\":[1],\"yaxis\":\"y\"},{\"alignmentgroup\":\"True\",\"hovertemplate\":\"pais=%{x}<br>registration_year_month=202010<br>count=%{y}<extra></extra>\",\"ids\":[\"IND\"],\"legendgroup\":\"IND\",\"marker\":{\"color\":\"#ab63fa\",\"pattern\":{\"shape\":\"\"}},\"name\":\"IND\",\"offsetgroup\":\"IND\",\"orientation\":\"v\",\"showlegend\":true,\"textposition\":\"auto\",\"type\":\"bar\",\"x\":[\"IND\"],\"xaxis\":\"x\",\"y\":[1],\"yaxis\":\"y\"}],\"name\":\"202010\"},{\"data\":[{\"alignmentgroup\":\"True\",\"hovertemplate\":\"pais=%{x}<br>registration_year_month=202011<br>count=%{y}<extra></extra>\",\"ids\":[\"ESP\"],\"legendgroup\":\"ESP\",\"marker\":{\"color\":\"#EF553B\",\"pattern\":{\"shape\":\"\"}},\"name\":\"ESP\",\"offsetgroup\":\"ESP\",\"orientation\":\"v\",\"showlegend\":true,\"textposition\":\"auto\",\"type\":\"bar\",\"x\":[\"ESP\"],\"xaxis\":\"x\",\"y\":[32],\"yaxis\":\"y\"},{\"alignmentgroup\":\"True\",\"hovertemplate\":\"pais=%{x}<br>registration_year_month=202011<br>count=%{y}<extra></extra>\",\"ids\":[\"MEX\"],\"legendgroup\":\"MEX\",\"marker\":{\"color\":\"#00cc96\",\"pattern\":{\"shape\":\"\"}},\"name\":\"MEX\",\"offsetgroup\":\"MEX\",\"orientation\":\"v\",\"showlegend\":true,\"textposition\":\"auto\",\"type\":\"bar\",\"x\":[\"MEX\"],\"xaxis\":\"x\",\"y\":[93],\"yaxis\":\"y\"},{\"alignmentgroup\":\"True\",\"hovertemplate\":\"pais=%{x}<br>registration_year_month=202011<br>count=%{y}<extra></extra>\",\"ids\":[\"PER\"],\"legendgroup\":\"PER\",\"marker\":{\"color\":\"#ab63fa\",\"pattern\":{\"shape\":\"\"}},\"name\":\"PER\",\"offsetgroup\":\"PER\",\"orientation\":\"v\",\"showlegend\":true,\"textposition\":\"auto\",\"type\":\"bar\",\"x\":[\"PER\"],\"xaxis\":\"x\",\"y\":[2],\"yaxis\":\"y\"},{\"alignmentgroup\":\"True\",\"hovertemplate\":\"pais=%{x}<br>registration_year_month=202011<br>count=%{y}<extra></extra>\",\"ids\":[\"GTM\"],\"legendgroup\":\"GTM\",\"marker\":{\"color\":\"#FF97FF\",\"pattern\":{\"shape\":\"\"}},\"name\":\"GTM\",\"offsetgroup\":\"GTM\",\"orientation\":\"v\",\"showlegend\":true,\"textposition\":\"auto\",\"type\":\"bar\",\"x\":[\"GTM\"],\"xaxis\":\"x\",\"y\":[170],\"yaxis\":\"y\"},{\"alignmentgroup\":\"True\",\"hovertemplate\":\"pais=%{x}<br>registration_year_month=202011<br>count=%{y}<extra></extra>\",\"ids\":[\"BRA\"],\"legendgroup\":\"BRA\",\"marker\":{\"color\":\"#ab63fa\",\"pattern\":{\"shape\":\"\"}},\"name\":\"BRA\",\"offsetgroup\":\"BRA\",\"orientation\":\"v\",\"showlegend\":true,\"textposition\":\"auto\",\"type\":\"bar\",\"x\":[\"BRA\"],\"xaxis\":\"x\",\"y\":[3],\"yaxis\":\"y\"},{\"alignmentgroup\":\"True\",\"hovertemplate\":\"pais=%{x}<br>registration_year_month=202011<br>count=%{y}<extra></extra>\",\"ids\":[\"CRI\"],\"legendgroup\":\"CRI\",\"marker\":{\"color\":\"#FECB52\",\"pattern\":{\"shape\":\"\"}},\"name\":\"CRI\",\"offsetgroup\":\"CRI\",\"orientation\":\"v\",\"showlegend\":true,\"textposition\":\"auto\",\"type\":\"bar\",\"x\":[\"CRI\"],\"xaxis\":\"x\",\"y\":[2],\"yaxis\":\"y\"},{\"alignmentgroup\":\"True\",\"hovertemplate\":\"pais=%{x}<br>registration_year_month=202011<br>count=%{y}<extra></extra>\",\"ids\":[\"PAN\"],\"legendgroup\":\"PAN\",\"marker\":{\"color\":\"#EF553B\",\"pattern\":{\"shape\":\"\"}},\"name\":\"PAN\",\"offsetgroup\":\"PAN\",\"orientation\":\"v\",\"showlegend\":true,\"textposition\":\"auto\",\"type\":\"bar\",\"x\":[\"PAN\"],\"xaxis\":\"x\",\"y\":[2],\"yaxis\":\"y\"},{\"alignmentgroup\":\"True\",\"hovertemplate\":\"pais=%{x}<br>registration_year_month=202011<br>count=%{y}<extra></extra>\",\"ids\":[\"HND\"],\"legendgroup\":\"HND\",\"marker\":{\"color\":\"#B6E880\",\"pattern\":{\"shape\":\"\"}},\"name\":\"HND\",\"offsetgroup\":\"HND\",\"orientation\":\"v\",\"showlegend\":true,\"textposition\":\"auto\",\"type\":\"bar\",\"x\":[\"HND\"],\"xaxis\":\"x\",\"y\":[1],\"yaxis\":\"y\"},{\"alignmentgroup\":\"True\",\"hovertemplate\":\"pais=%{x}<br>registration_year_month=202011<br>count=%{y}<extra></extra>\",\"ids\":[\"SLV\"],\"legendgroup\":\"SLV\",\"marker\":{\"color\":\"#FECB52\",\"pattern\":{\"shape\":\"\"}},\"name\":\"SLV\",\"offsetgroup\":\"SLV\",\"orientation\":\"v\",\"showlegend\":true,\"textposition\":\"auto\",\"type\":\"bar\",\"x\":[\"SLV\"],\"xaxis\":\"x\",\"y\":[1],\"yaxis\":\"y\"},{\"alignmentgroup\":\"True\",\"hovertemplate\":\"pais=%{x}<br>registration_year_month=202011<br>count=%{y}<extra></extra>\",\"ids\":[\"BOL\"],\"legendgroup\":\"BOL\",\"marker\":{\"color\":\"#636efa\",\"pattern\":{\"shape\":\"\"}},\"name\":\"BOL\",\"offsetgroup\":\"BOL\",\"orientation\":\"v\",\"showlegend\":true,\"textposition\":\"auto\",\"type\":\"bar\",\"x\":[\"BOL\"],\"xaxis\":\"x\",\"y\":[1],\"yaxis\":\"y\"},{\"alignmentgroup\":\"True\",\"hovertemplate\":\"pais=%{x}<br>registration_year_month=202011<br>count=%{y}<extra></extra>\",\"ids\":[\"ATA\"],\"legendgroup\":\"ATA\",\"marker\":{\"color\":\"#FECB52\",\"pattern\":{\"shape\":\"\"}},\"name\":\"ATA\",\"offsetgroup\":\"ATA\",\"orientation\":\"v\",\"showlegend\":true,\"textposition\":\"auto\",\"type\":\"bar\",\"x\":[\"ATA\"],\"xaxis\":\"x\",\"y\":[1],\"yaxis\":\"y\"},{\"alignmentgroup\":\"True\",\"hovertemplate\":\"pais=%{x}<br>registration_year_month=202011<br>count=%{y}<extra></extra>\",\"ids\":[\"GRC\"],\"legendgroup\":\"GRC\",\"marker\":{\"color\":\"#636efa\",\"pattern\":{\"shape\":\"\"}},\"name\":\"GRC\",\"offsetgroup\":\"GRC\",\"orientation\":\"v\",\"showlegend\":true,\"textposition\":\"auto\",\"type\":\"bar\",\"x\":[\"GRC\"],\"xaxis\":\"x\",\"y\":[1],\"yaxis\":\"y\"}],\"name\":\"202011\"},{\"data\":[{\"alignmentgroup\":\"True\",\"hovertemplate\":\"pais=%{x}<br>registration_year_month=202012<br>count=%{y}<extra></extra>\",\"ids\":[\"DOM\"],\"legendgroup\":\"DOM\",\"marker\":{\"color\":\"#636efa\",\"pattern\":{\"shape\":\"\"}},\"name\":\"DOM\",\"offsetgroup\":\"DOM\",\"orientation\":\"v\",\"showlegend\":true,\"textposition\":\"auto\",\"type\":\"bar\",\"x\":[\"DOM\"],\"xaxis\":\"x\",\"y\":[2],\"yaxis\":\"y\"},{\"alignmentgroup\":\"True\",\"hovertemplate\":\"pais=%{x}<br>registration_year_month=202012<br>count=%{y}<extra></extra>\",\"ids\":[\"ESP\"],\"legendgroup\":\"ESP\",\"marker\":{\"color\":\"#EF553B\",\"pattern\":{\"shape\":\"\"}},\"name\":\"ESP\",\"offsetgroup\":\"ESP\",\"orientation\":\"v\",\"showlegend\":true,\"textposition\":\"auto\",\"type\":\"bar\",\"x\":[\"ESP\"],\"xaxis\":\"x\",\"y\":[32],\"yaxis\":\"y\"},{\"alignmentgroup\":\"True\",\"hovertemplate\":\"pais=%{x}<br>registration_year_month=202012<br>count=%{y}<extra></extra>\",\"ids\":[\"MEX\"],\"legendgroup\":\"MEX\",\"marker\":{\"color\":\"#00cc96\",\"pattern\":{\"shape\":\"\"}},\"name\":\"MEX\",\"offsetgroup\":\"MEX\",\"orientation\":\"v\",\"showlegend\":true,\"textposition\":\"auto\",\"type\":\"bar\",\"x\":[\"MEX\"],\"xaxis\":\"x\",\"y\":[13],\"yaxis\":\"y\"},{\"alignmentgroup\":\"True\",\"hovertemplate\":\"pais=%{x}<br>registration_year_month=202012<br>count=%{y}<extra></extra>\",\"ids\":[\"PER\"],\"legendgroup\":\"PER\",\"marker\":{\"color\":\"#ab63fa\",\"pattern\":{\"shape\":\"\"}},\"name\":\"PER\",\"offsetgroup\":\"PER\",\"orientation\":\"v\",\"showlegend\":true,\"textposition\":\"auto\",\"type\":\"bar\",\"x\":[\"PER\"],\"xaxis\":\"x\",\"y\":[2],\"yaxis\":\"y\"},{\"alignmentgroup\":\"True\",\"hovertemplate\":\"pais=%{x}<br>registration_year_month=202012<br>count=%{y}<extra></extra>\",\"ids\":[\"GTM\"],\"legendgroup\":\"GTM\",\"marker\":{\"color\":\"#FF97FF\",\"pattern\":{\"shape\":\"\"}},\"name\":\"GTM\",\"offsetgroup\":\"GTM\",\"orientation\":\"v\",\"showlegend\":true,\"textposition\":\"auto\",\"type\":\"bar\",\"x\":[\"GTM\"],\"xaxis\":\"x\",\"y\":[1],\"yaxis\":\"y\"},{\"alignmentgroup\":\"True\",\"hovertemplate\":\"pais=%{x}<br>registration_year_month=202012<br>count=%{y}<extra></extra>\",\"ids\":[\"USA\"],\"legendgroup\":\"USA\",\"marker\":{\"color\":\"#FF97FF\",\"pattern\":{\"shape\":\"\"}},\"name\":\"USA\",\"offsetgroup\":\"USA\",\"orientation\":\"v\",\"showlegend\":true,\"textposition\":\"auto\",\"type\":\"bar\",\"x\":[\"USA\"],\"xaxis\":\"x\",\"y\":[1],\"yaxis\":\"y\"},{\"alignmentgroup\":\"True\",\"hovertemplate\":\"pais=%{x}<br>registration_year_month=202012<br>count=%{y}<extra></extra>\",\"ids\":[\"NIC\"],\"legendgroup\":\"NIC\",\"marker\":{\"color\":\"#00cc96\",\"pattern\":{\"shape\":\"\"}},\"name\":\"NIC\",\"offsetgroup\":\"NIC\",\"orientation\":\"v\",\"showlegend\":true,\"textposition\":\"auto\",\"type\":\"bar\",\"x\":[\"NIC\"],\"xaxis\":\"x\",\"y\":[1],\"yaxis\":\"y\"},{\"alignmentgroup\":\"True\",\"hovertemplate\":\"pais=%{x}<br>registration_year_month=202012<br>count=%{y}<extra></extra>\",\"ids\":[\"IND\"],\"legendgroup\":\"IND\",\"marker\":{\"color\":\"#ab63fa\",\"pattern\":{\"shape\":\"\"}},\"name\":\"IND\",\"offsetgroup\":\"IND\",\"orientation\":\"v\",\"showlegend\":true,\"textposition\":\"auto\",\"type\":\"bar\",\"x\":[\"IND\"],\"xaxis\":\"x\",\"y\":[3],\"yaxis\":\"y\"}],\"name\":\"202012\"},{\"data\":[{\"alignmentgroup\":\"True\",\"hovertemplate\":\"pais=%{x}<br>registration_year_month=20202<br>count=%{y}<extra></extra>\",\"ids\":[\"ESP\"],\"legendgroup\":\"ESP\",\"marker\":{\"color\":\"#EF553B\",\"pattern\":{\"shape\":\"\"}},\"name\":\"ESP\",\"offsetgroup\":\"ESP\",\"orientation\":\"v\",\"showlegend\":true,\"textposition\":\"auto\",\"type\":\"bar\",\"x\":[\"ESP\"],\"xaxis\":\"x\",\"y\":[34],\"yaxis\":\"y\"},{\"alignmentgroup\":\"True\",\"hovertemplate\":\"pais=%{x}<br>registration_year_month=20202<br>count=%{y}<extra></extra>\",\"ids\":[\"MEX\"],\"legendgroup\":\"MEX\",\"marker\":{\"color\":\"#00cc96\",\"pattern\":{\"shape\":\"\"}},\"name\":\"MEX\",\"offsetgroup\":\"MEX\",\"orientation\":\"v\",\"showlegend\":true,\"textposition\":\"auto\",\"type\":\"bar\",\"x\":[\"MEX\"],\"xaxis\":\"x\",\"y\":[307],\"yaxis\":\"y\"},{\"alignmentgroup\":\"True\",\"hovertemplate\":\"pais=%{x}<br>registration_year_month=20202<br>count=%{y}<extra></extra>\",\"ids\":[\"PER\"],\"legendgroup\":\"PER\",\"marker\":{\"color\":\"#ab63fa\",\"pattern\":{\"shape\":\"\"}},\"name\":\"PER\",\"offsetgroup\":\"PER\",\"orientation\":\"v\",\"showlegend\":true,\"textposition\":\"auto\",\"type\":\"bar\",\"x\":[\"PER\"],\"xaxis\":\"x\",\"y\":[4],\"yaxis\":\"y\"},{\"alignmentgroup\":\"True\",\"hovertemplate\":\"pais=%{x}<br>registration_year_month=20202<br>count=%{y}<extra></extra>\",\"ids\":[\"CHL\"],\"legendgroup\":\"CHL\",\"marker\":{\"color\":\"#FF6692\",\"pattern\":{\"shape\":\"\"}},\"name\":\"CHL\",\"offsetgroup\":\"CHL\",\"orientation\":\"v\",\"showlegend\":true,\"textposition\":\"auto\",\"type\":\"bar\",\"x\":[\"CHL\"],\"xaxis\":\"x\",\"y\":[1],\"yaxis\":\"y\"},{\"alignmentgroup\":\"True\",\"hovertemplate\":\"pais=%{x}<br>registration_year_month=20202<br>count=%{y}<extra></extra>\",\"ids\":[\"COL\"],\"legendgroup\":\"COL\",\"marker\":{\"color\":\"#B6E880\",\"pattern\":{\"shape\":\"\"}},\"name\":\"COL\",\"offsetgroup\":\"COL\",\"orientation\":\"v\",\"showlegend\":true,\"textposition\":\"auto\",\"type\":\"bar\",\"x\":[\"COL\"],\"xaxis\":\"x\",\"y\":[1],\"yaxis\":\"y\"},{\"alignmentgroup\":\"True\",\"hovertemplate\":\"pais=%{x}<br>registration_year_month=20202<br>count=%{y}<extra></extra>\",\"ids\":[\"GTM\"],\"legendgroup\":\"GTM\",\"marker\":{\"color\":\"#FF97FF\",\"pattern\":{\"shape\":\"\"}},\"name\":\"GTM\",\"offsetgroup\":\"GTM\",\"orientation\":\"v\",\"showlegend\":true,\"textposition\":\"auto\",\"type\":\"bar\",\"x\":[\"GTM\"],\"xaxis\":\"x\",\"y\":[1],\"yaxis\":\"y\"},{\"alignmentgroup\":\"True\",\"hovertemplate\":\"pais=%{x}<br>registration_year_month=20202<br>count=%{y}<extra></extra>\",\"ids\":[\"ARG\"],\"legendgroup\":\"ARG\",\"marker\":{\"color\":\"#FECB52\",\"pattern\":{\"shape\":\"\"}},\"name\":\"ARG\",\"offsetgroup\":\"ARG\",\"orientation\":\"v\",\"showlegend\":true,\"textposition\":\"auto\",\"type\":\"bar\",\"x\":[\"ARG\"],\"xaxis\":\"x\",\"y\":[2],\"yaxis\":\"y\"},{\"alignmentgroup\":\"True\",\"hovertemplate\":\"pais=%{x}<br>registration_year_month=20202<br>count=%{y}<extra></extra>\",\"ids\":[\"FIN\"],\"legendgroup\":\"FIN\",\"marker\":{\"color\":\"#FFA15A\",\"pattern\":{\"shape\":\"\"}},\"name\":\"FIN\",\"offsetgroup\":\"FIN\",\"orientation\":\"v\",\"showlegend\":true,\"textposition\":\"auto\",\"type\":\"bar\",\"x\":[\"FIN\"],\"xaxis\":\"x\",\"y\":[1],\"yaxis\":\"y\"},{\"alignmentgroup\":\"True\",\"hovertemplate\":\"pais=%{x}<br>registration_year_month=20202<br>count=%{y}<extra></extra>\",\"ids\":[\"ECU\"],\"legendgroup\":\"ECU\",\"marker\":{\"color\":\"#B6E880\",\"pattern\":{\"shape\":\"\"}},\"name\":\"ECU\",\"offsetgroup\":\"ECU\",\"orientation\":\"v\",\"showlegend\":true,\"textposition\":\"auto\",\"type\":\"bar\",\"x\":[\"ECU\"],\"xaxis\":\"x\",\"y\":[1],\"yaxis\":\"y\"},{\"alignmentgroup\":\"True\",\"hovertemplate\":\"pais=%{x}<br>registration_year_month=20202<br>count=%{y}<extra></extra>\",\"ids\":[\"CRI\"],\"legendgroup\":\"CRI\",\"marker\":{\"color\":\"#FECB52\",\"pattern\":{\"shape\":\"\"}},\"name\":\"CRI\",\"offsetgroup\":\"CRI\",\"orientation\":\"v\",\"showlegend\":true,\"textposition\":\"auto\",\"type\":\"bar\",\"x\":[\"CRI\"],\"xaxis\":\"x\",\"y\":[34],\"yaxis\":\"y\"},{\"alignmentgroup\":\"True\",\"hovertemplate\":\"pais=%{x}<br>registration_year_month=20202<br>count=%{y}<extra></extra>\",\"ids\":[\"BOL\"],\"legendgroup\":\"BOL\",\"marker\":{\"color\":\"#636efa\",\"pattern\":{\"shape\":\"\"}},\"name\":\"BOL\",\"offsetgroup\":\"BOL\",\"orientation\":\"v\",\"showlegend\":true,\"textposition\":\"auto\",\"type\":\"bar\",\"x\":[\"BOL\"],\"xaxis\":\"x\",\"y\":[2],\"yaxis\":\"y\"},{\"alignmentgroup\":\"True\",\"hovertemplate\":\"pais=%{x}<br>registration_year_month=20202<br>count=%{y}<extra></extra>\",\"ids\":[\"PRT\"],\"legendgroup\":\"PRT\",\"marker\":{\"color\":\"#FFA15A\",\"pattern\":{\"shape\":\"\"}},\"name\":\"PRT\",\"offsetgroup\":\"PRT\",\"orientation\":\"v\",\"showlegend\":true,\"textposition\":\"auto\",\"type\":\"bar\",\"x\":[\"PRT\"],\"xaxis\":\"x\",\"y\":[1],\"yaxis\":\"y\"},{\"alignmentgroup\":\"True\",\"hovertemplate\":\"pais=%{x}<br>registration_year_month=20202<br>count=%{y}<extra></extra>\",\"ids\":[\"AFG\"],\"legendgroup\":\"AFG\",\"marker\":{\"color\":\"#636efa\",\"pattern\":{\"shape\":\"\"}},\"name\":\"AFG\",\"offsetgroup\":\"AFG\",\"orientation\":\"v\",\"showlegend\":true,\"textposition\":\"auto\",\"type\":\"bar\",\"x\":[\"AFG\"],\"xaxis\":\"x\",\"y\":[1],\"yaxis\":\"y\"}],\"name\":\"20202\"},{\"data\":[{\"alignmentgroup\":\"True\",\"hovertemplate\":\"pais=%{x}<br>registration_year_month=20203<br>count=%{y}<extra></extra>\",\"ids\":[\"DOM\"],\"legendgroup\":\"DOM\",\"marker\":{\"color\":\"#636efa\",\"pattern\":{\"shape\":\"\"}},\"name\":\"DOM\",\"offsetgroup\":\"DOM\",\"orientation\":\"v\",\"showlegend\":true,\"textposition\":\"auto\",\"type\":\"bar\",\"x\":[\"DOM\"],\"xaxis\":\"x\",\"y\":[1],\"yaxis\":\"y\"},{\"alignmentgroup\":\"True\",\"hovertemplate\":\"pais=%{x}<br>registration_year_month=20203<br>count=%{y}<extra></extra>\",\"ids\":[\"ESP\"],\"legendgroup\":\"ESP\",\"marker\":{\"color\":\"#EF553B\",\"pattern\":{\"shape\":\"\"}},\"name\":\"ESP\",\"offsetgroup\":\"ESP\",\"orientation\":\"v\",\"showlegend\":true,\"textposition\":\"auto\",\"type\":\"bar\",\"x\":[\"ESP\"],\"xaxis\":\"x\",\"y\":[6],\"yaxis\":\"y\"},{\"alignmentgroup\":\"True\",\"hovertemplate\":\"pais=%{x}<br>registration_year_month=20203<br>count=%{y}<extra></extra>\",\"ids\":[\"MEX\"],\"legendgroup\":\"MEX\",\"marker\":{\"color\":\"#00cc96\",\"pattern\":{\"shape\":\"\"}},\"name\":\"MEX\",\"offsetgroup\":\"MEX\",\"orientation\":\"v\",\"showlegend\":true,\"textposition\":\"auto\",\"type\":\"bar\",\"x\":[\"MEX\"],\"xaxis\":\"x\",\"y\":[50],\"yaxis\":\"y\"},{\"alignmentgroup\":\"True\",\"hovertemplate\":\"pais=%{x}<br>registration_year_month=20203<br>count=%{y}<extra></extra>\",\"ids\":[\"PER\"],\"legendgroup\":\"PER\",\"marker\":{\"color\":\"#ab63fa\",\"pattern\":{\"shape\":\"\"}},\"name\":\"PER\",\"offsetgroup\":\"PER\",\"orientation\":\"v\",\"showlegend\":true,\"textposition\":\"auto\",\"type\":\"bar\",\"x\":[\"PER\"],\"xaxis\":\"x\",\"y\":[3],\"yaxis\":\"y\"},{\"alignmentgroup\":\"True\",\"hovertemplate\":\"pais=%{x}<br>registration_year_month=20203<br>count=%{y}<extra></extra>\",\"ids\":[\"CHL\"],\"legendgroup\":\"CHL\",\"marker\":{\"color\":\"#FF6692\",\"pattern\":{\"shape\":\"\"}},\"name\":\"CHL\",\"offsetgroup\":\"CHL\",\"orientation\":\"v\",\"showlegend\":true,\"textposition\":\"auto\",\"type\":\"bar\",\"x\":[\"CHL\"],\"xaxis\":\"x\",\"y\":[1],\"yaxis\":\"y\"},{\"alignmentgroup\":\"True\",\"hovertemplate\":\"pais=%{x}<br>registration_year_month=20203<br>count=%{y}<extra></extra>\",\"ids\":[\"GTM\"],\"legendgroup\":\"GTM\",\"marker\":{\"color\":\"#FF97FF\",\"pattern\":{\"shape\":\"\"}},\"name\":\"GTM\",\"offsetgroup\":\"GTM\",\"orientation\":\"v\",\"showlegend\":true,\"textposition\":\"auto\",\"type\":\"bar\",\"x\":[\"GTM\"],\"xaxis\":\"x\",\"y\":[1],\"yaxis\":\"y\"},{\"alignmentgroup\":\"True\",\"hovertemplate\":\"pais=%{x}<br>registration_year_month=20203<br>count=%{y}<extra></extra>\",\"ids\":[\"ARG\"],\"legendgroup\":\"ARG\",\"marker\":{\"color\":\"#FECB52\",\"pattern\":{\"shape\":\"\"}},\"name\":\"ARG\",\"offsetgroup\":\"ARG\",\"orientation\":\"v\",\"showlegend\":true,\"textposition\":\"auto\",\"type\":\"bar\",\"x\":[\"ARG\"],\"xaxis\":\"x\",\"y\":[1],\"yaxis\":\"y\"},{\"alignmentgroup\":\"True\",\"hovertemplate\":\"pais=%{x}<br>registration_year_month=20203<br>count=%{y}<extra></extra>\",\"ids\":[\"ECU\"],\"legendgroup\":\"ECU\",\"marker\":{\"color\":\"#B6E880\",\"pattern\":{\"shape\":\"\"}},\"name\":\"ECU\",\"offsetgroup\":\"ECU\",\"orientation\":\"v\",\"showlegend\":true,\"textposition\":\"auto\",\"type\":\"bar\",\"x\":[\"ECU\"],\"xaxis\":\"x\",\"y\":[2],\"yaxis\":\"y\"},{\"alignmentgroup\":\"True\",\"hovertemplate\":\"pais=%{x}<br>registration_year_month=20203<br>count=%{y}<extra></extra>\",\"ids\":[\"CRI\"],\"legendgroup\":\"CRI\",\"marker\":{\"color\":\"#FECB52\",\"pattern\":{\"shape\":\"\"}},\"name\":\"CRI\",\"offsetgroup\":\"CRI\",\"orientation\":\"v\",\"showlegend\":true,\"textposition\":\"auto\",\"type\":\"bar\",\"x\":[\"CRI\"],\"xaxis\":\"x\",\"y\":[9],\"yaxis\":\"y\"},{\"alignmentgroup\":\"True\",\"hovertemplate\":\"pais=%{x}<br>registration_year_month=20203<br>count=%{y}<extra></extra>\",\"ids\":[\"PAN\"],\"legendgroup\":\"PAN\",\"marker\":{\"color\":\"#EF553B\",\"pattern\":{\"shape\":\"\"}},\"name\":\"PAN\",\"offsetgroup\":\"PAN\",\"orientation\":\"v\",\"showlegend\":true,\"textposition\":\"auto\",\"type\":\"bar\",\"x\":[\"PAN\"],\"xaxis\":\"x\",\"y\":[2],\"yaxis\":\"y\"},{\"alignmentgroup\":\"True\",\"hovertemplate\":\"pais=%{x}<br>registration_year_month=20203<br>count=%{y}<extra></extra>\",\"ids\":[\"HND\"],\"legendgroup\":\"HND\",\"marker\":{\"color\":\"#B6E880\",\"pattern\":{\"shape\":\"\"}},\"name\":\"HND\",\"offsetgroup\":\"HND\",\"orientation\":\"v\",\"showlegend\":true,\"textposition\":\"auto\",\"type\":\"bar\",\"x\":[\"HND\"],\"xaxis\":\"x\",\"y\":[5],\"yaxis\":\"y\"},{\"alignmentgroup\":\"True\",\"hovertemplate\":\"pais=%{x}<br>registration_year_month=20203<br>count=%{y}<extra></extra>\",\"ids\":[\"BOL\"],\"legendgroup\":\"BOL\",\"marker\":{\"color\":\"#636efa\",\"pattern\":{\"shape\":\"\"}},\"name\":\"BOL\",\"offsetgroup\":\"BOL\",\"orientation\":\"v\",\"showlegend\":true,\"textposition\":\"auto\",\"type\":\"bar\",\"x\":[\"BOL\"],\"xaxis\":\"x\",\"y\":[1],\"yaxis\":\"y\"}],\"name\":\"20203\"},{\"data\":[{\"alignmentgroup\":\"True\",\"hovertemplate\":\"pais=%{x}<br>registration_year_month=20204<br>count=%{y}<extra></extra>\",\"ids\":[\"DOM\"],\"legendgroup\":\"DOM\",\"marker\":{\"color\":\"#636efa\",\"pattern\":{\"shape\":\"\"}},\"name\":\"DOM\",\"offsetgroup\":\"DOM\",\"orientation\":\"v\",\"showlegend\":true,\"textposition\":\"auto\",\"type\":\"bar\",\"x\":[\"DOM\"],\"xaxis\":\"x\",\"y\":[20],\"yaxis\":\"y\"},{\"alignmentgroup\":\"True\",\"hovertemplate\":\"pais=%{x}<br>registration_year_month=20204<br>count=%{y}<extra></extra>\",\"ids\":[\"ESP\"],\"legendgroup\":\"ESP\",\"marker\":{\"color\":\"#EF553B\",\"pattern\":{\"shape\":\"\"}},\"name\":\"ESP\",\"offsetgroup\":\"ESP\",\"orientation\":\"v\",\"showlegend\":true,\"textposition\":\"auto\",\"type\":\"bar\",\"x\":[\"ESP\"],\"xaxis\":\"x\",\"y\":[10],\"yaxis\":\"y\"},{\"alignmentgroup\":\"True\",\"hovertemplate\":\"pais=%{x}<br>registration_year_month=20204<br>count=%{y}<extra></extra>\",\"ids\":[\"MEX\"],\"legendgroup\":\"MEX\",\"marker\":{\"color\":\"#00cc96\",\"pattern\":{\"shape\":\"\"}},\"name\":\"MEX\",\"offsetgroup\":\"MEX\",\"orientation\":\"v\",\"showlegend\":true,\"textposition\":\"auto\",\"type\":\"bar\",\"x\":[\"MEX\"],\"xaxis\":\"x\",\"y\":[20],\"yaxis\":\"y\"},{\"alignmentgroup\":\"True\",\"hovertemplate\":\"pais=%{x}<br>registration_year_month=20204<br>count=%{y}<extra></extra>\",\"ids\":[\"PER\"],\"legendgroup\":\"PER\",\"marker\":{\"color\":\"#ab63fa\",\"pattern\":{\"shape\":\"\"}},\"name\":\"PER\",\"offsetgroup\":\"PER\",\"orientation\":\"v\",\"showlegend\":true,\"textposition\":\"auto\",\"type\":\"bar\",\"x\":[\"PER\"],\"xaxis\":\"x\",\"y\":[2],\"yaxis\":\"y\"},{\"alignmentgroup\":\"True\",\"hovertemplate\":\"pais=%{x}<br>registration_year_month=20204<br>count=%{y}<extra></extra>\",\"ids\":[\"COL\"],\"legendgroup\":\"COL\",\"marker\":{\"color\":\"#B6E880\",\"pattern\":{\"shape\":\"\"}},\"name\":\"COL\",\"offsetgroup\":\"COL\",\"orientation\":\"v\",\"showlegend\":true,\"textposition\":\"auto\",\"type\":\"bar\",\"x\":[\"COL\"],\"xaxis\":\"x\",\"y\":[2],\"yaxis\":\"y\"},{\"alignmentgroup\":\"True\",\"hovertemplate\":\"pais=%{x}<br>registration_year_month=20204<br>count=%{y}<extra></extra>\",\"ids\":[\"GTM\"],\"legendgroup\":\"GTM\",\"marker\":{\"color\":\"#FF97FF\",\"pattern\":{\"shape\":\"\"}},\"name\":\"GTM\",\"offsetgroup\":\"GTM\",\"orientation\":\"v\",\"showlegend\":true,\"textposition\":\"auto\",\"type\":\"bar\",\"x\":[\"GTM\"],\"xaxis\":\"x\",\"y\":[66],\"yaxis\":\"y\"},{\"alignmentgroup\":\"True\",\"hovertemplate\":\"pais=%{x}<br>registration_year_month=20204<br>count=%{y}<extra></extra>\",\"ids\":[\"ARG\"],\"legendgroup\":\"ARG\",\"marker\":{\"color\":\"#FECB52\",\"pattern\":{\"shape\":\"\"}},\"name\":\"ARG\",\"offsetgroup\":\"ARG\",\"orientation\":\"v\",\"showlegend\":true,\"textposition\":\"auto\",\"type\":\"bar\",\"x\":[\"ARG\"],\"xaxis\":\"x\",\"y\":[2],\"yaxis\":\"y\"},{\"alignmentgroup\":\"True\",\"hovertemplate\":\"pais=%{x}<br>registration_year_month=20204<br>count=%{y}<extra></extra>\",\"ids\":[\"GBR\"],\"legendgroup\":\"GBR\",\"marker\":{\"color\":\"#19d3f3\",\"pattern\":{\"shape\":\"\"}},\"name\":\"GBR\",\"offsetgroup\":\"GBR\",\"orientation\":\"v\",\"showlegend\":true,\"textposition\":\"auto\",\"type\":\"bar\",\"x\":[\"GBR\"],\"xaxis\":\"x\",\"y\":[1],\"yaxis\":\"y\"},{\"alignmentgroup\":\"True\",\"hovertemplate\":\"pais=%{x}<br>registration_year_month=20204<br>count=%{y}<extra></extra>\",\"ids\":[\"ECU\"],\"legendgroup\":\"ECU\",\"marker\":{\"color\":\"#B6E880\",\"pattern\":{\"shape\":\"\"}},\"name\":\"ECU\",\"offsetgroup\":\"ECU\",\"orientation\":\"v\",\"showlegend\":true,\"textposition\":\"auto\",\"type\":\"bar\",\"x\":[\"ECU\"],\"xaxis\":\"x\",\"y\":[14],\"yaxis\":\"y\"},{\"alignmentgroup\":\"True\",\"hovertemplate\":\"pais=%{x}<br>registration_year_month=20204<br>count=%{y}<extra></extra>\",\"ids\":[\"CRI\"],\"legendgroup\":\"CRI\",\"marker\":{\"color\":\"#FECB52\",\"pattern\":{\"shape\":\"\"}},\"name\":\"CRI\",\"offsetgroup\":\"CRI\",\"orientation\":\"v\",\"showlegend\":true,\"textposition\":\"auto\",\"type\":\"bar\",\"x\":[\"CRI\"],\"xaxis\":\"x\",\"y\":[146],\"yaxis\":\"y\"},{\"alignmentgroup\":\"True\",\"hovertemplate\":\"pais=%{x}<br>registration_year_month=20204<br>count=%{y}<extra></extra>\",\"ids\":[\"HND\"],\"legendgroup\":\"HND\",\"marker\":{\"color\":\"#B6E880\",\"pattern\":{\"shape\":\"\"}},\"name\":\"HND\",\"offsetgroup\":\"HND\",\"orientation\":\"v\",\"showlegend\":true,\"textposition\":\"auto\",\"type\":\"bar\",\"x\":[\"HND\"],\"xaxis\":\"x\",\"y\":[2],\"yaxis\":\"y\"},{\"alignmentgroup\":\"True\",\"hovertemplate\":\"pais=%{x}<br>registration_year_month=20204<br>count=%{y}<extra></extra>\",\"ids\":[\"IND\"],\"legendgroup\":\"IND\",\"marker\":{\"color\":\"#ab63fa\",\"pattern\":{\"shape\":\"\"}},\"name\":\"IND\",\"offsetgroup\":\"IND\",\"orientation\":\"v\",\"showlegend\":true,\"textposition\":\"auto\",\"type\":\"bar\",\"x\":[\"IND\"],\"xaxis\":\"x\",\"y\":[1],\"yaxis\":\"y\"},{\"alignmentgroup\":\"True\",\"hovertemplate\":\"pais=%{x}<br>registration_year_month=20204<br>count=%{y}<extra></extra>\",\"ids\":[\"BEL\"],\"legendgroup\":\"BEL\",\"marker\":{\"color\":\"#EF553B\",\"pattern\":{\"shape\":\"\"}},\"name\":\"BEL\",\"offsetgroup\":\"BEL\",\"orientation\":\"v\",\"showlegend\":true,\"textposition\":\"auto\",\"type\":\"bar\",\"x\":[\"BEL\"],\"xaxis\":\"x\",\"y\":[1],\"yaxis\":\"y\"}],\"name\":\"20204\"},{\"data\":[{\"alignmentgroup\":\"True\",\"hovertemplate\":\"pais=%{x}<br>registration_year_month=20205<br>count=%{y}<extra></extra>\",\"ids\":[\"DOM\"],\"legendgroup\":\"DOM\",\"marker\":{\"color\":\"#636efa\",\"pattern\":{\"shape\":\"\"}},\"name\":\"DOM\",\"offsetgroup\":\"DOM\",\"orientation\":\"v\",\"showlegend\":true,\"textposition\":\"auto\",\"type\":\"bar\",\"x\":[\"DOM\"],\"xaxis\":\"x\",\"y\":[1],\"yaxis\":\"y\"},{\"alignmentgroup\":\"True\",\"hovertemplate\":\"pais=%{x}<br>registration_year_month=20205<br>count=%{y}<extra></extra>\",\"ids\":[\"ESP\"],\"legendgroup\":\"ESP\",\"marker\":{\"color\":\"#EF553B\",\"pattern\":{\"shape\":\"\"}},\"name\":\"ESP\",\"offsetgroup\":\"ESP\",\"orientation\":\"v\",\"showlegend\":true,\"textposition\":\"auto\",\"type\":\"bar\",\"x\":[\"ESP\"],\"xaxis\":\"x\",\"y\":[5],\"yaxis\":\"y\"},{\"alignmentgroup\":\"True\",\"hovertemplate\":\"pais=%{x}<br>registration_year_month=20205<br>count=%{y}<extra></extra>\",\"ids\":[\"MEX\"],\"legendgroup\":\"MEX\",\"marker\":{\"color\":\"#00cc96\",\"pattern\":{\"shape\":\"\"}},\"name\":\"MEX\",\"offsetgroup\":\"MEX\",\"orientation\":\"v\",\"showlegend\":true,\"textposition\":\"auto\",\"type\":\"bar\",\"x\":[\"MEX\"],\"xaxis\":\"x\",\"y\":[12],\"yaxis\":\"y\"},{\"alignmentgroup\":\"True\",\"hovertemplate\":\"pais=%{x}<br>registration_year_month=20205<br>count=%{y}<extra></extra>\",\"ids\":[\"PER\"],\"legendgroup\":\"PER\",\"marker\":{\"color\":\"#ab63fa\",\"pattern\":{\"shape\":\"\"}},\"name\":\"PER\",\"offsetgroup\":\"PER\",\"orientation\":\"v\",\"showlegend\":true,\"textposition\":\"auto\",\"type\":\"bar\",\"x\":[\"PER\"],\"xaxis\":\"x\",\"y\":[2],\"yaxis\":\"y\"},{\"alignmentgroup\":\"True\",\"hovertemplate\":\"pais=%{x}<br>registration_year_month=20205<br>count=%{y}<extra></extra>\",\"ids\":[\"COL\"],\"legendgroup\":\"COL\",\"marker\":{\"color\":\"#B6E880\",\"pattern\":{\"shape\":\"\"}},\"name\":\"COL\",\"offsetgroup\":\"COL\",\"orientation\":\"v\",\"showlegend\":true,\"textposition\":\"auto\",\"type\":\"bar\",\"x\":[\"COL\"],\"xaxis\":\"x\",\"y\":[3],\"yaxis\":\"y\"},{\"alignmentgroup\":\"True\",\"hovertemplate\":\"pais=%{x}<br>registration_year_month=20205<br>count=%{y}<extra></extra>\",\"ids\":[\"FIN\"],\"legendgroup\":\"FIN\",\"marker\":{\"color\":\"#FFA15A\",\"pattern\":{\"shape\":\"\"}},\"name\":\"FIN\",\"offsetgroup\":\"FIN\",\"orientation\":\"v\",\"showlegend\":true,\"textposition\":\"auto\",\"type\":\"bar\",\"x\":[\"FIN\"],\"xaxis\":\"x\",\"y\":[1],\"yaxis\":\"y\"},{\"alignmentgroup\":\"True\",\"hovertemplate\":\"pais=%{x}<br>registration_year_month=20205<br>count=%{y}<extra></extra>\",\"ids\":[\"ECU\"],\"legendgroup\":\"ECU\",\"marker\":{\"color\":\"#B6E880\",\"pattern\":{\"shape\":\"\"}},\"name\":\"ECU\",\"offsetgroup\":\"ECU\",\"orientation\":\"v\",\"showlegend\":true,\"textposition\":\"auto\",\"type\":\"bar\",\"x\":[\"ECU\"],\"xaxis\":\"x\",\"y\":[4],\"yaxis\":\"y\"},{\"alignmentgroup\":\"True\",\"hovertemplate\":\"pais=%{x}<br>registration_year_month=20205<br>count=%{y}<extra></extra>\",\"ids\":[\"CRI\"],\"legendgroup\":\"CRI\",\"marker\":{\"color\":\"#FECB52\",\"pattern\":{\"shape\":\"\"}},\"name\":\"CRI\",\"offsetgroup\":\"CRI\",\"orientation\":\"v\",\"showlegend\":true,\"textposition\":\"auto\",\"type\":\"bar\",\"x\":[\"CRI\"],\"xaxis\":\"x\",\"y\":[1],\"yaxis\":\"y\"},{\"alignmentgroup\":\"True\",\"hovertemplate\":\"pais=%{x}<br>registration_year_month=20205<br>count=%{y}<extra></extra>\",\"ids\":[\"IND\"],\"legendgroup\":\"IND\",\"marker\":{\"color\":\"#ab63fa\",\"pattern\":{\"shape\":\"\"}},\"name\":\"IND\",\"offsetgroup\":\"IND\",\"orientation\":\"v\",\"showlegend\":true,\"textposition\":\"auto\",\"type\":\"bar\",\"x\":[\"IND\"],\"xaxis\":\"x\",\"y\":[3],\"yaxis\":\"y\"},{\"alignmentgroup\":\"True\",\"hovertemplate\":\"pais=%{x}<br>registration_year_month=20205<br>count=%{y}<extra></extra>\",\"ids\":[\"AUS\"],\"legendgroup\":\"AUS\",\"marker\":{\"color\":\"#19d3f3\",\"pattern\":{\"shape\":\"\"}},\"name\":\"AUS\",\"offsetgroup\":\"AUS\",\"orientation\":\"v\",\"showlegend\":true,\"textposition\":\"auto\",\"type\":\"bar\",\"x\":[\"AUS\"],\"xaxis\":\"x\",\"y\":[1],\"yaxis\":\"y\"}],\"name\":\"20205\"},{\"data\":[{\"alignmentgroup\":\"True\",\"hovertemplate\":\"pais=%{x}<br>registration_year_month=20206<br>count=%{y}<extra></extra>\",\"ids\":[\"DOM\"],\"legendgroup\":\"DOM\",\"marker\":{\"color\":\"#636efa\",\"pattern\":{\"shape\":\"\"}},\"name\":\"DOM\",\"offsetgroup\":\"DOM\",\"orientation\":\"v\",\"showlegend\":true,\"textposition\":\"auto\",\"type\":\"bar\",\"x\":[\"DOM\"],\"xaxis\":\"x\",\"y\":[1],\"yaxis\":\"y\"},{\"alignmentgroup\":\"True\",\"hovertemplate\":\"pais=%{x}<br>registration_year_month=20206<br>count=%{y}<extra></extra>\",\"ids\":[\"ESP\"],\"legendgroup\":\"ESP\",\"marker\":{\"color\":\"#EF553B\",\"pattern\":{\"shape\":\"\"}},\"name\":\"ESP\",\"offsetgroup\":\"ESP\",\"orientation\":\"v\",\"showlegend\":true,\"textposition\":\"auto\",\"type\":\"bar\",\"x\":[\"ESP\"],\"xaxis\":\"x\",\"y\":[3],\"yaxis\":\"y\"},{\"alignmentgroup\":\"True\",\"hovertemplate\":\"pais=%{x}<br>registration_year_month=20206<br>count=%{y}<extra></extra>\",\"ids\":[\"MEX\"],\"legendgroup\":\"MEX\",\"marker\":{\"color\":\"#00cc96\",\"pattern\":{\"shape\":\"\"}},\"name\":\"MEX\",\"offsetgroup\":\"MEX\",\"orientation\":\"v\",\"showlegend\":true,\"textposition\":\"auto\",\"type\":\"bar\",\"x\":[\"MEX\"],\"xaxis\":\"x\",\"y\":[13],\"yaxis\":\"y\"},{\"alignmentgroup\":\"True\",\"hovertemplate\":\"pais=%{x}<br>registration_year_month=20206<br>count=%{y}<extra></extra>\",\"ids\":[\"PER\"],\"legendgroup\":\"PER\",\"marker\":{\"color\":\"#ab63fa\",\"pattern\":{\"shape\":\"\"}},\"name\":\"PER\",\"offsetgroup\":\"PER\",\"orientation\":\"v\",\"showlegend\":true,\"textposition\":\"auto\",\"type\":\"bar\",\"x\":[\"PER\"],\"xaxis\":\"x\",\"y\":[1],\"yaxis\":\"y\"},{\"alignmentgroup\":\"True\",\"hovertemplate\":\"pais=%{x}<br>registration_year_month=20206<br>count=%{y}<extra></extra>\",\"ids\":[\"COL\"],\"legendgroup\":\"COL\",\"marker\":{\"color\":\"#B6E880\",\"pattern\":{\"shape\":\"\"}},\"name\":\"COL\",\"offsetgroup\":\"COL\",\"orientation\":\"v\",\"showlegend\":true,\"textposition\":\"auto\",\"type\":\"bar\",\"x\":[\"COL\"],\"xaxis\":\"x\",\"y\":[1],\"yaxis\":\"y\"},{\"alignmentgroup\":\"True\",\"hovertemplate\":\"pais=%{x}<br>registration_year_month=20206<br>count=%{y}<extra></extra>\",\"ids\":[\"ARG\"],\"legendgroup\":\"ARG\",\"marker\":{\"color\":\"#FECB52\",\"pattern\":{\"shape\":\"\"}},\"name\":\"ARG\",\"offsetgroup\":\"ARG\",\"orientation\":\"v\",\"showlegend\":true,\"textposition\":\"auto\",\"type\":\"bar\",\"x\":[\"ARG\"],\"xaxis\":\"x\",\"y\":[1],\"yaxis\":\"y\"},{\"alignmentgroup\":\"True\",\"hovertemplate\":\"pais=%{x}<br>registration_year_month=20206<br>count=%{y}<extra></extra>\",\"ids\":[\"ECU\"],\"legendgroup\":\"ECU\",\"marker\":{\"color\":\"#B6E880\",\"pattern\":{\"shape\":\"\"}},\"name\":\"ECU\",\"offsetgroup\":\"ECU\",\"orientation\":\"v\",\"showlegend\":true,\"textposition\":\"auto\",\"type\":\"bar\",\"x\":[\"ECU\"],\"xaxis\":\"x\",\"y\":[1],\"yaxis\":\"y\"},{\"alignmentgroup\":\"True\",\"hovertemplate\":\"pais=%{x}<br>registration_year_month=20206<br>count=%{y}<extra></extra>\",\"ids\":[\"PAN\"],\"legendgroup\":\"PAN\",\"marker\":{\"color\":\"#EF553B\",\"pattern\":{\"shape\":\"\"}},\"name\":\"PAN\",\"offsetgroup\":\"PAN\",\"orientation\":\"v\",\"showlegend\":true,\"textposition\":\"auto\",\"type\":\"bar\",\"x\":[\"PAN\"],\"xaxis\":\"x\",\"y\":[1],\"yaxis\":\"y\"}],\"name\":\"20206\"},{\"data\":[{\"alignmentgroup\":\"True\",\"hovertemplate\":\"pais=%{x}<br>registration_year_month=20207<br>count=%{y}<extra></extra>\",\"ids\":[\"DOM\"],\"legendgroup\":\"DOM\",\"marker\":{\"color\":\"#636efa\",\"pattern\":{\"shape\":\"\"}},\"name\":\"DOM\",\"offsetgroup\":\"DOM\",\"orientation\":\"v\",\"showlegend\":true,\"textposition\":\"auto\",\"type\":\"bar\",\"x\":[\"DOM\"],\"xaxis\":\"x\",\"y\":[2],\"yaxis\":\"y\"},{\"alignmentgroup\":\"True\",\"hovertemplate\":\"pais=%{x}<br>registration_year_month=20207<br>count=%{y}<extra></extra>\",\"ids\":[\"ESP\"],\"legendgroup\":\"ESP\",\"marker\":{\"color\":\"#EF553B\",\"pattern\":{\"shape\":\"\"}},\"name\":\"ESP\",\"offsetgroup\":\"ESP\",\"orientation\":\"v\",\"showlegend\":true,\"textposition\":\"auto\",\"type\":\"bar\",\"x\":[\"ESP\"],\"xaxis\":\"x\",\"y\":[10],\"yaxis\":\"y\"},{\"alignmentgroup\":\"True\",\"hovertemplate\":\"pais=%{x}<br>registration_year_month=20207<br>count=%{y}<extra></extra>\",\"ids\":[\"MEX\"],\"legendgroup\":\"MEX\",\"marker\":{\"color\":\"#00cc96\",\"pattern\":{\"shape\":\"\"}},\"name\":\"MEX\",\"offsetgroup\":\"MEX\",\"orientation\":\"v\",\"showlegend\":true,\"textposition\":\"auto\",\"type\":\"bar\",\"x\":[\"MEX\"],\"xaxis\":\"x\",\"y\":[31],\"yaxis\":\"y\"},{\"alignmentgroup\":\"True\",\"hovertemplate\":\"pais=%{x}<br>registration_year_month=20207<br>count=%{y}<extra></extra>\",\"ids\":[\"CHL\"],\"legendgroup\":\"CHL\",\"marker\":{\"color\":\"#FF6692\",\"pattern\":{\"shape\":\"\"}},\"name\":\"CHL\",\"offsetgroup\":\"CHL\",\"orientation\":\"v\",\"showlegend\":true,\"textposition\":\"auto\",\"type\":\"bar\",\"x\":[\"CHL\"],\"xaxis\":\"x\",\"y\":[1],\"yaxis\":\"y\"},{\"alignmentgroup\":\"True\",\"hovertemplate\":\"pais=%{x}<br>registration_year_month=20207<br>count=%{y}<extra></extra>\",\"ids\":[\"COL\"],\"legendgroup\":\"COL\",\"marker\":{\"color\":\"#B6E880\",\"pattern\":{\"shape\":\"\"}},\"name\":\"COL\",\"offsetgroup\":\"COL\",\"orientation\":\"v\",\"showlegend\":true,\"textposition\":\"auto\",\"type\":\"bar\",\"x\":[\"COL\"],\"xaxis\":\"x\",\"y\":[2],\"yaxis\":\"y\"},{\"alignmentgroup\":\"True\",\"hovertemplate\":\"pais=%{x}<br>registration_year_month=20207<br>count=%{y}<extra></extra>\",\"ids\":[\"ARG\"],\"legendgroup\":\"ARG\",\"marker\":{\"color\":\"#FECB52\",\"pattern\":{\"shape\":\"\"}},\"name\":\"ARG\",\"offsetgroup\":\"ARG\",\"orientation\":\"v\",\"showlegend\":true,\"textposition\":\"auto\",\"type\":\"bar\",\"x\":[\"ARG\"],\"xaxis\":\"x\",\"y\":[7],\"yaxis\":\"y\"},{\"alignmentgroup\":\"True\",\"hovertemplate\":\"pais=%{x}<br>registration_year_month=20207<br>count=%{y}<extra></extra>\",\"ids\":[\"ECU\"],\"legendgroup\":\"ECU\",\"marker\":{\"color\":\"#B6E880\",\"pattern\":{\"shape\":\"\"}},\"name\":\"ECU\",\"offsetgroup\":\"ECU\",\"orientation\":\"v\",\"showlegend\":true,\"textposition\":\"auto\",\"type\":\"bar\",\"x\":[\"ECU\"],\"xaxis\":\"x\",\"y\":[3],\"yaxis\":\"y\"},{\"alignmentgroup\":\"True\",\"hovertemplate\":\"pais=%{x}<br>registration_year_month=20207<br>count=%{y}<extra></extra>\",\"ids\":[\"CRI\"],\"legendgroup\":\"CRI\",\"marker\":{\"color\":\"#FECB52\",\"pattern\":{\"shape\":\"\"}},\"name\":\"CRI\",\"offsetgroup\":\"CRI\",\"orientation\":\"v\",\"showlegend\":true,\"textposition\":\"auto\",\"type\":\"bar\",\"x\":[\"CRI\"],\"xaxis\":\"x\",\"y\":[1],\"yaxis\":\"y\"},{\"alignmentgroup\":\"True\",\"hovertemplate\":\"pais=%{x}<br>registration_year_month=20207<br>count=%{y}<extra></extra>\",\"ids\":[\"PAN\"],\"legendgroup\":\"PAN\",\"marker\":{\"color\":\"#EF553B\",\"pattern\":{\"shape\":\"\"}},\"name\":\"PAN\",\"offsetgroup\":\"PAN\",\"orientation\":\"v\",\"showlegend\":true,\"textposition\":\"auto\",\"type\":\"bar\",\"x\":[\"PAN\"],\"xaxis\":\"x\",\"y\":[1],\"yaxis\":\"y\"},{\"alignmentgroup\":\"True\",\"hovertemplate\":\"pais=%{x}<br>registration_year_month=20207<br>count=%{y}<extra></extra>\",\"ids\":[\"PRY\"],\"legendgroup\":\"PRY\",\"marker\":{\"color\":\"#19d3f3\",\"pattern\":{\"shape\":\"\"}},\"name\":\"PRY\",\"offsetgroup\":\"PRY\",\"orientation\":\"v\",\"showlegend\":true,\"textposition\":\"auto\",\"type\":\"bar\",\"x\":[\"PRY\"],\"xaxis\":\"x\",\"y\":[1],\"yaxis\":\"y\"},{\"alignmentgroup\":\"True\",\"hovertemplate\":\"pais=%{x}<br>registration_year_month=20207<br>count=%{y}<extra></extra>\",\"ids\":[\"NIC\"],\"legendgroup\":\"NIC\",\"marker\":{\"color\":\"#00cc96\",\"pattern\":{\"shape\":\"\"}},\"name\":\"NIC\",\"offsetgroup\":\"NIC\",\"orientation\":\"v\",\"showlegend\":true,\"textposition\":\"auto\",\"type\":\"bar\",\"x\":[\"NIC\"],\"xaxis\":\"x\",\"y\":[1],\"yaxis\":\"y\"},{\"alignmentgroup\":\"True\",\"hovertemplate\":\"pais=%{x}<br>registration_year_month=20207<br>count=%{y}<extra></extra>\",\"ids\":[\"IND\"],\"legendgroup\":\"IND\",\"marker\":{\"color\":\"#ab63fa\",\"pattern\":{\"shape\":\"\"}},\"name\":\"IND\",\"offsetgroup\":\"IND\",\"orientation\":\"v\",\"showlegend\":true,\"textposition\":\"auto\",\"type\":\"bar\",\"x\":[\"IND\"],\"xaxis\":\"x\",\"y\":[3],\"yaxis\":\"y\"}],\"name\":\"20207\"},{\"data\":[{\"alignmentgroup\":\"True\",\"hovertemplate\":\"pais=%{x}<br>registration_year_month=20208<br>count=%{y}<extra></extra>\",\"ids\":[\"DOM\"],\"legendgroup\":\"DOM\",\"marker\":{\"color\":\"#636efa\",\"pattern\":{\"shape\":\"\"}},\"name\":\"DOM\",\"offsetgroup\":\"DOM\",\"orientation\":\"v\",\"showlegend\":true,\"textposition\":\"auto\",\"type\":\"bar\",\"x\":[\"DOM\"],\"xaxis\":\"x\",\"y\":[1],\"yaxis\":\"y\"},{\"alignmentgroup\":\"True\",\"hovertemplate\":\"pais=%{x}<br>registration_year_month=20208<br>count=%{y}<extra></extra>\",\"ids\":[\"ESP\"],\"legendgroup\":\"ESP\",\"marker\":{\"color\":\"#EF553B\",\"pattern\":{\"shape\":\"\"}},\"name\":\"ESP\",\"offsetgroup\":\"ESP\",\"orientation\":\"v\",\"showlegend\":true,\"textposition\":\"auto\",\"type\":\"bar\",\"x\":[\"ESP\"],\"xaxis\":\"x\",\"y\":[1],\"yaxis\":\"y\"},{\"alignmentgroup\":\"True\",\"hovertemplate\":\"pais=%{x}<br>registration_year_month=20208<br>count=%{y}<extra></extra>\",\"ids\":[\"MEX\"],\"legendgroup\":\"MEX\",\"marker\":{\"color\":\"#00cc96\",\"pattern\":{\"shape\":\"\"}},\"name\":\"MEX\",\"offsetgroup\":\"MEX\",\"orientation\":\"v\",\"showlegend\":true,\"textposition\":\"auto\",\"type\":\"bar\",\"x\":[\"MEX\"],\"xaxis\":\"x\",\"y\":[6],\"yaxis\":\"y\"},{\"alignmentgroup\":\"True\",\"hovertemplate\":\"pais=%{x}<br>registration_year_month=20208<br>count=%{y}<extra></extra>\",\"ids\":[\"PER\"],\"legendgroup\":\"PER\",\"marker\":{\"color\":\"#ab63fa\",\"pattern\":{\"shape\":\"\"}},\"name\":\"PER\",\"offsetgroup\":\"PER\",\"orientation\":\"v\",\"showlegend\":true,\"textposition\":\"auto\",\"type\":\"bar\",\"x\":[\"PER\"],\"xaxis\":\"x\",\"y\":[1],\"yaxis\":\"y\"},{\"alignmentgroup\":\"True\",\"hovertemplate\":\"pais=%{x}<br>registration_year_month=20208<br>count=%{y}<extra></extra>\",\"ids\":[\"PRI\"],\"legendgroup\":\"PRI\",\"marker\":{\"color\":\"#19d3f3\",\"pattern\":{\"shape\":\"\"}},\"name\":\"PRI\",\"offsetgroup\":\"PRI\",\"orientation\":\"v\",\"showlegend\":true,\"textposition\":\"auto\",\"type\":\"bar\",\"x\":[\"PRI\"],\"xaxis\":\"x\",\"y\":[2],\"yaxis\":\"y\"},{\"alignmentgroup\":\"True\",\"hovertemplate\":\"pais=%{x}<br>registration_year_month=20208<br>count=%{y}<extra></extra>\",\"ids\":[\"COL\"],\"legendgroup\":\"COL\",\"marker\":{\"color\":\"#B6E880\",\"pattern\":{\"shape\":\"\"}},\"name\":\"COL\",\"offsetgroup\":\"COL\",\"orientation\":\"v\",\"showlegend\":true,\"textposition\":\"auto\",\"type\":\"bar\",\"x\":[\"COL\"],\"xaxis\":\"x\",\"y\":[1],\"yaxis\":\"y\"},{\"alignmentgroup\":\"True\",\"hovertemplate\":\"pais=%{x}<br>registration_year_month=20208<br>count=%{y}<extra></extra>\",\"ids\":[\"PAN\"],\"legendgroup\":\"PAN\",\"marker\":{\"color\":\"#EF553B\",\"pattern\":{\"shape\":\"\"}},\"name\":\"PAN\",\"offsetgroup\":\"PAN\",\"orientation\":\"v\",\"showlegend\":true,\"textposition\":\"auto\",\"type\":\"bar\",\"x\":[\"PAN\"],\"xaxis\":\"x\",\"y\":[1],\"yaxis\":\"y\"},{\"alignmentgroup\":\"True\",\"hovertemplate\":\"pais=%{x}<br>registration_year_month=20208<br>count=%{y}<extra></extra>\",\"ids\":[\"PRY\"],\"legendgroup\":\"PRY\",\"marker\":{\"color\":\"#19d3f3\",\"pattern\":{\"shape\":\"\"}},\"name\":\"PRY\",\"offsetgroup\":\"PRY\",\"orientation\":\"v\",\"showlegend\":true,\"textposition\":\"auto\",\"type\":\"bar\",\"x\":[\"PRY\"],\"xaxis\":\"x\",\"y\":[1],\"yaxis\":\"y\"},{\"alignmentgroup\":\"True\",\"hovertemplate\":\"pais=%{x}<br>registration_year_month=20208<br>count=%{y}<extra></extra>\",\"ids\":[\"HND\"],\"legendgroup\":\"HND\",\"marker\":{\"color\":\"#B6E880\",\"pattern\":{\"shape\":\"\"}},\"name\":\"HND\",\"offsetgroup\":\"HND\",\"orientation\":\"v\",\"showlegend\":true,\"textposition\":\"auto\",\"type\":\"bar\",\"x\":[\"HND\"],\"xaxis\":\"x\",\"y\":[12],\"yaxis\":\"y\"}],\"name\":\"20208\"},{\"data\":[{\"alignmentgroup\":\"True\",\"hovertemplate\":\"pais=%{x}<br>registration_year_month=20209<br>count=%{y}<extra></extra>\",\"ids\":[\"ESP\"],\"legendgroup\":\"ESP\",\"marker\":{\"color\":\"#EF553B\",\"pattern\":{\"shape\":\"\"}},\"name\":\"ESP\",\"offsetgroup\":\"ESP\",\"orientation\":\"v\",\"showlegend\":true,\"textposition\":\"auto\",\"type\":\"bar\",\"x\":[\"ESP\"],\"xaxis\":\"x\",\"y\":[36],\"yaxis\":\"y\"},{\"alignmentgroup\":\"True\",\"hovertemplate\":\"pais=%{x}<br>registration_year_month=20209<br>count=%{y}<extra></extra>\",\"ids\":[\"MEX\"],\"legendgroup\":\"MEX\",\"marker\":{\"color\":\"#00cc96\",\"pattern\":{\"shape\":\"\"}},\"name\":\"MEX\",\"offsetgroup\":\"MEX\",\"orientation\":\"v\",\"showlegend\":true,\"textposition\":\"auto\",\"type\":\"bar\",\"x\":[\"MEX\"],\"xaxis\":\"x\",\"y\":[26],\"yaxis\":\"y\"},{\"alignmentgroup\":\"True\",\"hovertemplate\":\"pais=%{x}<br>registration_year_month=20209<br>count=%{y}<extra></extra>\",\"ids\":[\"PER\"],\"legendgroup\":\"PER\",\"marker\":{\"color\":\"#ab63fa\",\"pattern\":{\"shape\":\"\"}},\"name\":\"PER\",\"offsetgroup\":\"PER\",\"orientation\":\"v\",\"showlegend\":true,\"textposition\":\"auto\",\"type\":\"bar\",\"x\":[\"PER\"],\"xaxis\":\"x\",\"y\":[1],\"yaxis\":\"y\"},{\"alignmentgroup\":\"True\",\"hovertemplate\":\"pais=%{x}<br>registration_year_month=20209<br>count=%{y}<extra></extra>\",\"ids\":[\"GTM\"],\"legendgroup\":\"GTM\",\"marker\":{\"color\":\"#FF97FF\",\"pattern\":{\"shape\":\"\"}},\"name\":\"GTM\",\"offsetgroup\":\"GTM\",\"orientation\":\"v\",\"showlegend\":true,\"textposition\":\"auto\",\"type\":\"bar\",\"x\":[\"GTM\"],\"xaxis\":\"x\",\"y\":[4],\"yaxis\":\"y\"},{\"alignmentgroup\":\"True\",\"hovertemplate\":\"pais=%{x}<br>registration_year_month=20209<br>count=%{y}<extra></extra>\",\"ids\":[\"ARG\"],\"legendgroup\":\"ARG\",\"marker\":{\"color\":\"#FECB52\",\"pattern\":{\"shape\":\"\"}},\"name\":\"ARG\",\"offsetgroup\":\"ARG\",\"orientation\":\"v\",\"showlegend\":true,\"textposition\":\"auto\",\"type\":\"bar\",\"x\":[\"ARG\"],\"xaxis\":\"x\",\"y\":[3],\"yaxis\":\"y\"},{\"alignmentgroup\":\"True\",\"hovertemplate\":\"pais=%{x}<br>registration_year_month=20209<br>count=%{y}<extra></extra>\",\"ids\":[\"USA\"],\"legendgroup\":\"USA\",\"marker\":{\"color\":\"#FF97FF\",\"pattern\":{\"shape\":\"\"}},\"name\":\"USA\",\"offsetgroup\":\"USA\",\"orientation\":\"v\",\"showlegend\":true,\"textposition\":\"auto\",\"type\":\"bar\",\"x\":[\"USA\"],\"xaxis\":\"x\",\"y\":[1],\"yaxis\":\"y\"},{\"alignmentgroup\":\"True\",\"hovertemplate\":\"pais=%{x}<br>registration_year_month=20209<br>count=%{y}<extra></extra>\",\"ids\":[\"CRI\"],\"legendgroup\":\"CRI\",\"marker\":{\"color\":\"#FECB52\",\"pattern\":{\"shape\":\"\"}},\"name\":\"CRI\",\"offsetgroup\":\"CRI\",\"orientation\":\"v\",\"showlegend\":true,\"textposition\":\"auto\",\"type\":\"bar\",\"x\":[\"CRI\"],\"xaxis\":\"x\",\"y\":[9],\"yaxis\":\"y\"},{\"alignmentgroup\":\"True\",\"hovertemplate\":\"pais=%{x}<br>registration_year_month=20209<br>count=%{y}<extra></extra>\",\"ids\":[\"HND\"],\"legendgroup\":\"HND\",\"marker\":{\"color\":\"#B6E880\",\"pattern\":{\"shape\":\"\"}},\"name\":\"HND\",\"offsetgroup\":\"HND\",\"orientation\":\"v\",\"showlegend\":true,\"textposition\":\"auto\",\"type\":\"bar\",\"x\":[\"HND\"],\"xaxis\":\"x\",\"y\":[7],\"yaxis\":\"y\"},{\"alignmentgroup\":\"True\",\"hovertemplate\":\"pais=%{x}<br>registration_year_month=20209<br>count=%{y}<extra></extra>\",\"ids\":[\"IND\"],\"legendgroup\":\"IND\",\"marker\":{\"color\":\"#ab63fa\",\"pattern\":{\"shape\":\"\"}},\"name\":\"IND\",\"offsetgroup\":\"IND\",\"orientation\":\"v\",\"showlegend\":true,\"textposition\":\"auto\",\"type\":\"bar\",\"x\":[\"IND\"],\"xaxis\":\"x\",\"y\":[4],\"yaxis\":\"y\"}],\"name\":\"20209\"},{\"data\":[{\"alignmentgroup\":\"True\",\"hovertemplate\":\"pais=%{x}<br>registration_year_month=20211<br>count=%{y}<extra></extra>\",\"ids\":[\"ESP\"],\"legendgroup\":\"ESP\",\"marker\":{\"color\":\"#EF553B\",\"pattern\":{\"shape\":\"\"}},\"name\":\"ESP\",\"offsetgroup\":\"ESP\",\"orientation\":\"v\",\"showlegend\":true,\"textposition\":\"auto\",\"type\":\"bar\",\"x\":[\"ESP\"],\"xaxis\":\"x\",\"y\":[6],\"yaxis\":\"y\"},{\"alignmentgroup\":\"True\",\"hovertemplate\":\"pais=%{x}<br>registration_year_month=20211<br>count=%{y}<extra></extra>\",\"ids\":[\"MEX\"],\"legendgroup\":\"MEX\",\"marker\":{\"color\":\"#00cc96\",\"pattern\":{\"shape\":\"\"}},\"name\":\"MEX\",\"offsetgroup\":\"MEX\",\"orientation\":\"v\",\"showlegend\":true,\"textposition\":\"auto\",\"type\":\"bar\",\"x\":[\"MEX\"],\"xaxis\":\"x\",\"y\":[5],\"yaxis\":\"y\"},{\"alignmentgroup\":\"True\",\"hovertemplate\":\"pais=%{x}<br>registration_year_month=20211<br>count=%{y}<extra></extra>\",\"ids\":[\"PER\"],\"legendgroup\":\"PER\",\"marker\":{\"color\":\"#ab63fa\",\"pattern\":{\"shape\":\"\"}},\"name\":\"PER\",\"offsetgroup\":\"PER\",\"orientation\":\"v\",\"showlegend\":true,\"textposition\":\"auto\",\"type\":\"bar\",\"x\":[\"PER\"],\"xaxis\":\"x\",\"y\":[1],\"yaxis\":\"y\"},{\"alignmentgroup\":\"True\",\"hovertemplate\":\"pais=%{x}<br>registration_year_month=20211<br>count=%{y}<extra></extra>\",\"ids\":[\"CHL\"],\"legendgroup\":\"CHL\",\"marker\":{\"color\":\"#FF6692\",\"pattern\":{\"shape\":\"\"}},\"name\":\"CHL\",\"offsetgroup\":\"CHL\",\"orientation\":\"v\",\"showlegend\":true,\"textposition\":\"auto\",\"type\":\"bar\",\"x\":[\"CHL\"],\"xaxis\":\"x\",\"y\":[1],\"yaxis\":\"y\"},{\"alignmentgroup\":\"True\",\"hovertemplate\":\"pais=%{x}<br>registration_year_month=20211<br>count=%{y}<extra></extra>\",\"ids\":[\"COL\"],\"legendgroup\":\"COL\",\"marker\":{\"color\":\"#B6E880\",\"pattern\":{\"shape\":\"\"}},\"name\":\"COL\",\"offsetgroup\":\"COL\",\"orientation\":\"v\",\"showlegend\":true,\"textposition\":\"auto\",\"type\":\"bar\",\"x\":[\"COL\"],\"xaxis\":\"x\",\"y\":[1],\"yaxis\":\"y\"},{\"alignmentgroup\":\"True\",\"hovertemplate\":\"pais=%{x}<br>registration_year_month=20211<br>count=%{y}<extra></extra>\",\"ids\":[\"GTM\"],\"legendgroup\":\"GTM\",\"marker\":{\"color\":\"#FF97FF\",\"pattern\":{\"shape\":\"\"}},\"name\":\"GTM\",\"offsetgroup\":\"GTM\",\"orientation\":\"v\",\"showlegend\":true,\"textposition\":\"auto\",\"type\":\"bar\",\"x\":[\"GTM\"],\"xaxis\":\"x\",\"y\":[7],\"yaxis\":\"y\"},{\"alignmentgroup\":\"True\",\"hovertemplate\":\"pais=%{x}<br>registration_year_month=20211<br>count=%{y}<extra></extra>\",\"ids\":[\"ECU\"],\"legendgroup\":\"ECU\",\"marker\":{\"color\":\"#B6E880\",\"pattern\":{\"shape\":\"\"}},\"name\":\"ECU\",\"offsetgroup\":\"ECU\",\"orientation\":\"v\",\"showlegend\":true,\"textposition\":\"auto\",\"type\":\"bar\",\"x\":[\"ECU\"],\"xaxis\":\"x\",\"y\":[1],\"yaxis\":\"y\"},{\"alignmentgroup\":\"True\",\"hovertemplate\":\"pais=%{x}<br>registration_year_month=20211<br>count=%{y}<extra></extra>\",\"ids\":[\"CRI\"],\"legendgroup\":\"CRI\",\"marker\":{\"color\":\"#FECB52\",\"pattern\":{\"shape\":\"\"}},\"name\":\"CRI\",\"offsetgroup\":\"CRI\",\"orientation\":\"v\",\"showlegend\":true,\"textposition\":\"auto\",\"type\":\"bar\",\"x\":[\"CRI\"],\"xaxis\":\"x\",\"y\":[13],\"yaxis\":\"y\"},{\"alignmentgroup\":\"True\",\"hovertemplate\":\"pais=%{x}<br>registration_year_month=20211<br>count=%{y}<extra></extra>\",\"ids\":[\"HND\"],\"legendgroup\":\"HND\",\"marker\":{\"color\":\"#B6E880\",\"pattern\":{\"shape\":\"\"}},\"name\":\"HND\",\"offsetgroup\":\"HND\",\"orientation\":\"v\",\"showlegend\":true,\"textposition\":\"auto\",\"type\":\"bar\",\"x\":[\"HND\"],\"xaxis\":\"x\",\"y\":[31],\"yaxis\":\"y\"},{\"alignmentgroup\":\"True\",\"hovertemplate\":\"pais=%{x}<br>registration_year_month=20211<br>count=%{y}<extra></extra>\",\"ids\":[\"AFG\"],\"legendgroup\":\"AFG\",\"marker\":{\"color\":\"#636efa\",\"pattern\":{\"shape\":\"\"}},\"name\":\"AFG\",\"offsetgroup\":\"AFG\",\"orientation\":\"v\",\"showlegend\":true,\"textposition\":\"auto\",\"type\":\"bar\",\"x\":[\"AFG\"],\"xaxis\":\"x\",\"y\":[1],\"yaxis\":\"y\"},{\"alignmentgroup\":\"True\",\"hovertemplate\":\"pais=%{x}<br>registration_year_month=20211<br>count=%{y}<extra></extra>\",\"ids\":[\"IND\"],\"legendgroup\":\"IND\",\"marker\":{\"color\":\"#ab63fa\",\"pattern\":{\"shape\":\"\"}},\"name\":\"IND\",\"offsetgroup\":\"IND\",\"orientation\":\"v\",\"showlegend\":true,\"textposition\":\"auto\",\"type\":\"bar\",\"x\":[\"IND\"],\"xaxis\":\"x\",\"y\":[2],\"yaxis\":\"y\"},{\"alignmentgroup\":\"True\",\"hovertemplate\":\"pais=%{x}<br>registration_year_month=20211<br>count=%{y}<extra></extra>\",\"ids\":[\"BHR\"],\"legendgroup\":\"BHR\",\"marker\":{\"color\":\"#00cc96\",\"pattern\":{\"shape\":\"\"}},\"name\":\"BHR\",\"offsetgroup\":\"BHR\",\"orientation\":\"v\",\"showlegend\":true,\"textposition\":\"auto\",\"type\":\"bar\",\"x\":[\"BHR\"],\"xaxis\":\"x\",\"y\":[1],\"yaxis\":\"y\"}],\"name\":\"20211\"},{\"data\":[{\"alignmentgroup\":\"True\",\"hovertemplate\":\"pais=%{x}<br>registration_year_month=20212<br>count=%{y}<extra></extra>\",\"ids\":[\"DOM\"],\"legendgroup\":\"DOM\",\"marker\":{\"color\":\"#636efa\",\"pattern\":{\"shape\":\"\"}},\"name\":\"DOM\",\"offsetgroup\":\"DOM\",\"orientation\":\"v\",\"showlegend\":true,\"textposition\":\"auto\",\"type\":\"bar\",\"x\":[\"DOM\"],\"xaxis\":\"x\",\"y\":[12],\"yaxis\":\"y\"},{\"alignmentgroup\":\"True\",\"hovertemplate\":\"pais=%{x}<br>registration_year_month=20212<br>count=%{y}<extra></extra>\",\"ids\":[\"ESP\"],\"legendgroup\":\"ESP\",\"marker\":{\"color\":\"#EF553B\",\"pattern\":{\"shape\":\"\"}},\"name\":\"ESP\",\"offsetgroup\":\"ESP\",\"orientation\":\"v\",\"showlegend\":true,\"textposition\":\"auto\",\"type\":\"bar\",\"x\":[\"ESP\"],\"xaxis\":\"x\",\"y\":[113],\"yaxis\":\"y\"},{\"alignmentgroup\":\"True\",\"hovertemplate\":\"pais=%{x}<br>registration_year_month=20212<br>count=%{y}<extra></extra>\",\"ids\":[\"MEX\"],\"legendgroup\":\"MEX\",\"marker\":{\"color\":\"#00cc96\",\"pattern\":{\"shape\":\"\"}},\"name\":\"MEX\",\"offsetgroup\":\"MEX\",\"orientation\":\"v\",\"showlegend\":true,\"textposition\":\"auto\",\"type\":\"bar\",\"x\":[\"MEX\"],\"xaxis\":\"x\",\"y\":[26],\"yaxis\":\"y\"},{\"alignmentgroup\":\"True\",\"hovertemplate\":\"pais=%{x}<br>registration_year_month=20212<br>count=%{y}<extra></extra>\",\"ids\":[\"PER\"],\"legendgroup\":\"PER\",\"marker\":{\"color\":\"#ab63fa\",\"pattern\":{\"shape\":\"\"}},\"name\":\"PER\",\"offsetgroup\":\"PER\",\"orientation\":\"v\",\"showlegend\":true,\"textposition\":\"auto\",\"type\":\"bar\",\"x\":[\"PER\"],\"xaxis\":\"x\",\"y\":[3],\"yaxis\":\"y\"},{\"alignmentgroup\":\"True\",\"hovertemplate\":\"pais=%{x}<br>registration_year_month=20212<br>count=%{y}<extra></extra>\",\"ids\":[\"COL\"],\"legendgroup\":\"COL\",\"marker\":{\"color\":\"#B6E880\",\"pattern\":{\"shape\":\"\"}},\"name\":\"COL\",\"offsetgroup\":\"COL\",\"orientation\":\"v\",\"showlegend\":true,\"textposition\":\"auto\",\"type\":\"bar\",\"x\":[\"COL\"],\"xaxis\":\"x\",\"y\":[2],\"yaxis\":\"y\"},{\"alignmentgroup\":\"True\",\"hovertemplate\":\"pais=%{x}<br>registration_year_month=20212<br>count=%{y}<extra></extra>\",\"ids\":[\"GTM\"],\"legendgroup\":\"GTM\",\"marker\":{\"color\":\"#FF97FF\",\"pattern\":{\"shape\":\"\"}},\"name\":\"GTM\",\"offsetgroup\":\"GTM\",\"orientation\":\"v\",\"showlegend\":true,\"textposition\":\"auto\",\"type\":\"bar\",\"x\":[\"GTM\"],\"xaxis\":\"x\",\"y\":[1],\"yaxis\":\"y\"},{\"alignmentgroup\":\"True\",\"hovertemplate\":\"pais=%{x}<br>registration_year_month=20212<br>count=%{y}<extra></extra>\",\"ids\":[\"CRI\"],\"legendgroup\":\"CRI\",\"marker\":{\"color\":\"#FECB52\",\"pattern\":{\"shape\":\"\"}},\"name\":\"CRI\",\"offsetgroup\":\"CRI\",\"orientation\":\"v\",\"showlegend\":true,\"textposition\":\"auto\",\"type\":\"bar\",\"x\":[\"CRI\"],\"xaxis\":\"x\",\"y\":[64],\"yaxis\":\"y\"},{\"alignmentgroup\":\"True\",\"hovertemplate\":\"pais=%{x}<br>registration_year_month=20212<br>count=%{y}<extra></extra>\",\"ids\":[\"FSM\"],\"legendgroup\":\"FSM\",\"marker\":{\"color\":\"#ab63fa\",\"pattern\":{\"shape\":\"\"}},\"name\":\"FSM\",\"offsetgroup\":\"FSM\",\"orientation\":\"v\",\"showlegend\":true,\"textposition\":\"auto\",\"type\":\"bar\",\"x\":[\"FSM\"],\"xaxis\":\"x\",\"y\":[1],\"yaxis\":\"y\"}],\"name\":\"20212\"},{\"data\":[{\"alignmentgroup\":\"True\",\"hovertemplate\":\"pais=%{x}<br>registration_year_month=20213<br>count=%{y}<extra></extra>\",\"ids\":[\"DOM\"],\"legendgroup\":\"DOM\",\"marker\":{\"color\":\"#636efa\",\"pattern\":{\"shape\":\"\"}},\"name\":\"DOM\",\"offsetgroup\":\"DOM\",\"orientation\":\"v\",\"showlegend\":true,\"textposition\":\"auto\",\"type\":\"bar\",\"x\":[\"DOM\"],\"xaxis\":\"x\",\"y\":[18],\"yaxis\":\"y\"},{\"alignmentgroup\":\"True\",\"hovertemplate\":\"pais=%{x}<br>registration_year_month=20213<br>count=%{y}<extra></extra>\",\"ids\":[\"ESP\"],\"legendgroup\":\"ESP\",\"marker\":{\"color\":\"#EF553B\",\"pattern\":{\"shape\":\"\"}},\"name\":\"ESP\",\"offsetgroup\":\"ESP\",\"orientation\":\"v\",\"showlegend\":true,\"textposition\":\"auto\",\"type\":\"bar\",\"x\":[\"ESP\"],\"xaxis\":\"x\",\"y\":[107],\"yaxis\":\"y\"},{\"alignmentgroup\":\"True\",\"hovertemplate\":\"pais=%{x}<br>registration_year_month=20213<br>count=%{y}<extra></extra>\",\"ids\":[\"MEX\"],\"legendgroup\":\"MEX\",\"marker\":{\"color\":\"#00cc96\",\"pattern\":{\"shape\":\"\"}},\"name\":\"MEX\",\"offsetgroup\":\"MEX\",\"orientation\":\"v\",\"showlegend\":true,\"textposition\":\"auto\",\"type\":\"bar\",\"x\":[\"MEX\"],\"xaxis\":\"x\",\"y\":[21],\"yaxis\":\"y\"},{\"alignmentgroup\":\"True\",\"hovertemplate\":\"pais=%{x}<br>registration_year_month=20213<br>count=%{y}<extra></extra>\",\"ids\":[\"PER\"],\"legendgroup\":\"PER\",\"marker\":{\"color\":\"#ab63fa\",\"pattern\":{\"shape\":\"\"}},\"name\":\"PER\",\"offsetgroup\":\"PER\",\"orientation\":\"v\",\"showlegend\":true,\"textposition\":\"auto\",\"type\":\"bar\",\"x\":[\"PER\"],\"xaxis\":\"x\",\"y\":[1],\"yaxis\":\"y\"},{\"alignmentgroup\":\"True\",\"hovertemplate\":\"pais=%{x}<br>registration_year_month=20213<br>count=%{y}<extra></extra>\",\"ids\":[\"GTM\"],\"legendgroup\":\"GTM\",\"marker\":{\"color\":\"#FF97FF\",\"pattern\":{\"shape\":\"\"}},\"name\":\"GTM\",\"offsetgroup\":\"GTM\",\"orientation\":\"v\",\"showlegend\":true,\"textposition\":\"auto\",\"type\":\"bar\",\"x\":[\"GTM\"],\"xaxis\":\"x\",\"y\":[3],\"yaxis\":\"y\"},{\"alignmentgroup\":\"True\",\"hovertemplate\":\"pais=%{x}<br>registration_year_month=20213<br>count=%{y}<extra></extra>\",\"ids\":[\"ARG\"],\"legendgroup\":\"ARG\",\"marker\":{\"color\":\"#FECB52\",\"pattern\":{\"shape\":\"\"}},\"name\":\"ARG\",\"offsetgroup\":\"ARG\",\"orientation\":\"v\",\"showlegend\":true,\"textposition\":\"auto\",\"type\":\"bar\",\"x\":[\"ARG\"],\"xaxis\":\"x\",\"y\":[1],\"yaxis\":\"y\"},{\"alignmentgroup\":\"True\",\"hovertemplate\":\"pais=%{x}<br>registration_year_month=20213<br>count=%{y}<extra></extra>\",\"ids\":[\"URY\"],\"legendgroup\":\"URY\",\"marker\":{\"color\":\"#636efa\",\"pattern\":{\"shape\":\"\"}},\"name\":\"URY\",\"offsetgroup\":\"URY\",\"orientation\":\"v\",\"showlegend\":true,\"textposition\":\"auto\",\"type\":\"bar\",\"x\":[\"URY\"],\"xaxis\":\"x\",\"y\":[1],\"yaxis\":\"y\"},{\"alignmentgroup\":\"True\",\"hovertemplate\":\"pais=%{x}<br>registration_year_month=20213<br>count=%{y}<extra></extra>\",\"ids\":[\"ECU\"],\"legendgroup\":\"ECU\",\"marker\":{\"color\":\"#B6E880\",\"pattern\":{\"shape\":\"\"}},\"name\":\"ECU\",\"offsetgroup\":\"ECU\",\"orientation\":\"v\",\"showlegend\":true,\"textposition\":\"auto\",\"type\":\"bar\",\"x\":[\"ECU\"],\"xaxis\":\"x\",\"y\":[5],\"yaxis\":\"y\"},{\"alignmentgroup\":\"True\",\"hovertemplate\":\"pais=%{x}<br>registration_year_month=20213<br>count=%{y}<extra></extra>\",\"ids\":[\"USA\"],\"legendgroup\":\"USA\",\"marker\":{\"color\":\"#FF97FF\",\"pattern\":{\"shape\":\"\"}},\"name\":\"USA\",\"offsetgroup\":\"USA\",\"orientation\":\"v\",\"showlegend\":true,\"textposition\":\"auto\",\"type\":\"bar\",\"x\":[\"USA\"],\"xaxis\":\"x\",\"y\":[1],\"yaxis\":\"y\"},{\"alignmentgroup\":\"True\",\"hovertemplate\":\"pais=%{x}<br>registration_year_month=20213<br>count=%{y}<extra></extra>\",\"ids\":[\"IND\"],\"legendgroup\":\"IND\",\"marker\":{\"color\":\"#ab63fa\",\"pattern\":{\"shape\":\"\"}},\"name\":\"IND\",\"offsetgroup\":\"IND\",\"orientation\":\"v\",\"showlegend\":true,\"textposition\":\"auto\",\"type\":\"bar\",\"x\":[\"IND\"],\"xaxis\":\"x\",\"y\":[1],\"yaxis\":\"y\"},{\"alignmentgroup\":\"True\",\"hovertemplate\":\"pais=%{x}<br>registration_year_month=20213<br>count=%{y}<extra></extra>\",\"ids\":[\"MNG\"],\"legendgroup\":\"MNG\",\"marker\":{\"color\":\"#FFA15A\",\"pattern\":{\"shape\":\"\"}},\"name\":\"MNG\",\"offsetgroup\":\"MNG\",\"orientation\":\"v\",\"showlegend\":true,\"textposition\":\"auto\",\"type\":\"bar\",\"x\":[\"MNG\"],\"xaxis\":\"x\",\"y\":[1],\"yaxis\":\"y\"}],\"name\":\"20213\"},{\"data\":[{\"alignmentgroup\":\"True\",\"hovertemplate\":\"pais=%{x}<br>registration_year_month=20214<br>count=%{y}<extra></extra>\",\"ids\":[\"DOM\"],\"legendgroup\":\"DOM\",\"marker\":{\"color\":\"#636efa\",\"pattern\":{\"shape\":\"\"}},\"name\":\"DOM\",\"offsetgroup\":\"DOM\",\"orientation\":\"v\",\"showlegend\":true,\"textposition\":\"auto\",\"type\":\"bar\",\"x\":[\"DOM\"],\"xaxis\":\"x\",\"y\":[1],\"yaxis\":\"y\"},{\"alignmentgroup\":\"True\",\"hovertemplate\":\"pais=%{x}<br>registration_year_month=20214<br>count=%{y}<extra></extra>\",\"ids\":[\"ESP\"],\"legendgroup\":\"ESP\",\"marker\":{\"color\":\"#EF553B\",\"pattern\":{\"shape\":\"\"}},\"name\":\"ESP\",\"offsetgroup\":\"ESP\",\"orientation\":\"v\",\"showlegend\":true,\"textposition\":\"auto\",\"type\":\"bar\",\"x\":[\"ESP\"],\"xaxis\":\"x\",\"y\":[4],\"yaxis\":\"y\"},{\"alignmentgroup\":\"True\",\"hovertemplate\":\"pais=%{x}<br>registration_year_month=20214<br>count=%{y}<extra></extra>\",\"ids\":[\"MEX\"],\"legendgroup\":\"MEX\",\"marker\":{\"color\":\"#00cc96\",\"pattern\":{\"shape\":\"\"}},\"name\":\"MEX\",\"offsetgroup\":\"MEX\",\"orientation\":\"v\",\"showlegend\":true,\"textposition\":\"auto\",\"type\":\"bar\",\"x\":[\"MEX\"],\"xaxis\":\"x\",\"y\":[103],\"yaxis\":\"y\"},{\"alignmentgroup\":\"True\",\"hovertemplate\":\"pais=%{x}<br>registration_year_month=20214<br>count=%{y}<extra></extra>\",\"ids\":[\"PER\"],\"legendgroup\":\"PER\",\"marker\":{\"color\":\"#ab63fa\",\"pattern\":{\"shape\":\"\"}},\"name\":\"PER\",\"offsetgroup\":\"PER\",\"orientation\":\"v\",\"showlegend\":true,\"textposition\":\"auto\",\"type\":\"bar\",\"x\":[\"PER\"],\"xaxis\":\"x\",\"y\":[3],\"yaxis\":\"y\"},{\"alignmentgroup\":\"True\",\"hovertemplate\":\"pais=%{x}<br>registration_year_month=20214<br>count=%{y}<extra></extra>\",\"ids\":[\"BRA\"],\"legendgroup\":\"BRA\",\"marker\":{\"color\":\"#ab63fa\",\"pattern\":{\"shape\":\"\"}},\"name\":\"BRA\",\"offsetgroup\":\"BRA\",\"orientation\":\"v\",\"showlegend\":true,\"textposition\":\"auto\",\"type\":\"bar\",\"x\":[\"BRA\"],\"xaxis\":\"x\",\"y\":[2],\"yaxis\":\"y\"},{\"alignmentgroup\":\"True\",\"hovertemplate\":\"pais=%{x}<br>registration_year_month=20214<br>count=%{y}<extra></extra>\",\"ids\":[\"ECU\"],\"legendgroup\":\"ECU\",\"marker\":{\"color\":\"#B6E880\",\"pattern\":{\"shape\":\"\"}},\"name\":\"ECU\",\"offsetgroup\":\"ECU\",\"orientation\":\"v\",\"showlegend\":true,\"textposition\":\"auto\",\"type\":\"bar\",\"x\":[\"ECU\"],\"xaxis\":\"x\",\"y\":[1],\"yaxis\":\"y\"},{\"alignmentgroup\":\"True\",\"hovertemplate\":\"pais=%{x}<br>registration_year_month=20214<br>count=%{y}<extra></extra>\",\"ids\":[\"USA\"],\"legendgroup\":\"USA\",\"marker\":{\"color\":\"#FF97FF\",\"pattern\":{\"shape\":\"\"}},\"name\":\"USA\",\"offsetgroup\":\"USA\",\"orientation\":\"v\",\"showlegend\":true,\"textposition\":\"auto\",\"type\":\"bar\",\"x\":[\"USA\"],\"xaxis\":\"x\",\"y\":[1],\"yaxis\":\"y\"},{\"alignmentgroup\":\"True\",\"hovertemplate\":\"pais=%{x}<br>registration_year_month=20214<br>count=%{y}<extra></extra>\",\"ids\":[\"CRI\"],\"legendgroup\":\"CRI\",\"marker\":{\"color\":\"#FECB52\",\"pattern\":{\"shape\":\"\"}},\"name\":\"CRI\",\"offsetgroup\":\"CRI\",\"orientation\":\"v\",\"showlegend\":true,\"textposition\":\"auto\",\"type\":\"bar\",\"x\":[\"CRI\"],\"xaxis\":\"x\",\"y\":[1],\"yaxis\":\"y\"},{\"alignmentgroup\":\"True\",\"hovertemplate\":\"pais=%{x}<br>registration_year_month=20214<br>count=%{y}<extra></extra>\",\"ids\":[\"PRY\"],\"legendgroup\":\"PRY\",\"marker\":{\"color\":\"#19d3f3\",\"pattern\":{\"shape\":\"\"}},\"name\":\"PRY\",\"offsetgroup\":\"PRY\",\"orientation\":\"v\",\"showlegend\":true,\"textposition\":\"auto\",\"type\":\"bar\",\"x\":[\"PRY\"],\"xaxis\":\"x\",\"y\":[1],\"yaxis\":\"y\"},{\"alignmentgroup\":\"True\",\"hovertemplate\":\"pais=%{x}<br>registration_year_month=20214<br>count=%{y}<extra></extra>\",\"ids\":[\"HND\"],\"legendgroup\":\"HND\",\"marker\":{\"color\":\"#B6E880\",\"pattern\":{\"shape\":\"\"}},\"name\":\"HND\",\"offsetgroup\":\"HND\",\"orientation\":\"v\",\"showlegend\":true,\"textposition\":\"auto\",\"type\":\"bar\",\"x\":[\"HND\"],\"xaxis\":\"x\",\"y\":[1],\"yaxis\":\"y\"},{\"alignmentgroup\":\"True\",\"hovertemplate\":\"pais=%{x}<br>registration_year_month=20214<br>count=%{y}<extra></extra>\",\"ids\":[\"IND\"],\"legendgroup\":\"IND\",\"marker\":{\"color\":\"#ab63fa\",\"pattern\":{\"shape\":\"\"}},\"name\":\"IND\",\"offsetgroup\":\"IND\",\"orientation\":\"v\",\"showlegend\":true,\"textposition\":\"auto\",\"type\":\"bar\",\"x\":[\"IND\"],\"xaxis\":\"x\",\"y\":[1],\"yaxis\":\"y\"},{\"alignmentgroup\":\"True\",\"hovertemplate\":\"pais=%{x}<br>registration_year_month=20214<br>count=%{y}<extra></extra>\",\"ids\":[\"CUB\"],\"legendgroup\":\"CUB\",\"marker\":{\"color\":\"#19d3f3\",\"pattern\":{\"shape\":\"\"}},\"name\":\"CUB\",\"offsetgroup\":\"CUB\",\"orientation\":\"v\",\"showlegend\":true,\"textposition\":\"auto\",\"type\":\"bar\",\"x\":[\"CUB\"],\"xaxis\":\"x\",\"y\":[1],\"yaxis\":\"y\"},{\"alignmentgroup\":\"True\",\"hovertemplate\":\"pais=%{x}<br>registration_year_month=20214<br>count=%{y}<extra></extra>\",\"ids\":[\"ISR\"],\"legendgroup\":\"ISR\",\"marker\":{\"color\":\"#FF6692\",\"pattern\":{\"shape\":\"\"}},\"name\":\"ISR\",\"offsetgroup\":\"ISR\",\"orientation\":\"v\",\"showlegend\":true,\"textposition\":\"auto\",\"type\":\"bar\",\"x\":[\"ISR\"],\"xaxis\":\"x\",\"y\":[1],\"yaxis\":\"y\"}],\"name\":\"20214\"},{\"data\":[{\"alignmentgroup\":\"True\",\"hovertemplate\":\"pais=%{x}<br>registration_year_month=20215<br>count=%{y}<extra></extra>\",\"ids\":[\"DOM\"],\"legendgroup\":\"DOM\",\"marker\":{\"color\":\"#636efa\",\"pattern\":{\"shape\":\"\"}},\"name\":\"DOM\",\"offsetgroup\":\"DOM\",\"orientation\":\"v\",\"showlegend\":true,\"textposition\":\"auto\",\"type\":\"bar\",\"x\":[\"DOM\"],\"xaxis\":\"x\",\"y\":[4],\"yaxis\":\"y\"},{\"alignmentgroup\":\"True\",\"hovertemplate\":\"pais=%{x}<br>registration_year_month=20215<br>count=%{y}<extra></extra>\",\"ids\":[\"ESP\"],\"legendgroup\":\"ESP\",\"marker\":{\"color\":\"#EF553B\",\"pattern\":{\"shape\":\"\"}},\"name\":\"ESP\",\"offsetgroup\":\"ESP\",\"orientation\":\"v\",\"showlegend\":true,\"textposition\":\"auto\",\"type\":\"bar\",\"x\":[\"ESP\"],\"xaxis\":\"x\",\"y\":[5],\"yaxis\":\"y\"},{\"alignmentgroup\":\"True\",\"hovertemplate\":\"pais=%{x}<br>registration_year_month=20215<br>count=%{y}<extra></extra>\",\"ids\":[\"MEX\"],\"legendgroup\":\"MEX\",\"marker\":{\"color\":\"#00cc96\",\"pattern\":{\"shape\":\"\"}},\"name\":\"MEX\",\"offsetgroup\":\"MEX\",\"orientation\":\"v\",\"showlegend\":true,\"textposition\":\"auto\",\"type\":\"bar\",\"x\":[\"MEX\"],\"xaxis\":\"x\",\"y\":[15],\"yaxis\":\"y\"},{\"alignmentgroup\":\"True\",\"hovertemplate\":\"pais=%{x}<br>registration_year_month=20215<br>count=%{y}<extra></extra>\",\"ids\":[\"PER\"],\"legendgroup\":\"PER\",\"marker\":{\"color\":\"#ab63fa\",\"pattern\":{\"shape\":\"\"}},\"name\":\"PER\",\"offsetgroup\":\"PER\",\"orientation\":\"v\",\"showlegend\":true,\"textposition\":\"auto\",\"type\":\"bar\",\"x\":[\"PER\"],\"xaxis\":\"x\",\"y\":[2],\"yaxis\":\"y\"},{\"alignmentgroup\":\"True\",\"hovertemplate\":\"pais=%{x}<br>registration_year_month=20215<br>count=%{y}<extra></extra>\",\"ids\":[\"COL\"],\"legendgroup\":\"COL\",\"marker\":{\"color\":\"#B6E880\",\"pattern\":{\"shape\":\"\"}},\"name\":\"COL\",\"offsetgroup\":\"COL\",\"orientation\":\"v\",\"showlegend\":true,\"textposition\":\"auto\",\"type\":\"bar\",\"x\":[\"COL\"],\"xaxis\":\"x\",\"y\":[2],\"yaxis\":\"y\"},{\"alignmentgroup\":\"True\",\"hovertemplate\":\"pais=%{x}<br>registration_year_month=20215<br>count=%{y}<extra></extra>\",\"ids\":[\"GTM\"],\"legendgroup\":\"GTM\",\"marker\":{\"color\":\"#FF97FF\",\"pattern\":{\"shape\":\"\"}},\"name\":\"GTM\",\"offsetgroup\":\"GTM\",\"orientation\":\"v\",\"showlegend\":true,\"textposition\":\"auto\",\"type\":\"bar\",\"x\":[\"GTM\"],\"xaxis\":\"x\",\"y\":[1],\"yaxis\":\"y\"},{\"alignmentgroup\":\"True\",\"hovertemplate\":\"pais=%{x}<br>registration_year_month=20215<br>count=%{y}<extra></extra>\",\"ids\":[\"ARG\"],\"legendgroup\":\"ARG\",\"marker\":{\"color\":\"#FECB52\",\"pattern\":{\"shape\":\"\"}},\"name\":\"ARG\",\"offsetgroup\":\"ARG\",\"orientation\":\"v\",\"showlegend\":true,\"textposition\":\"auto\",\"type\":\"bar\",\"x\":[\"ARG\"],\"xaxis\":\"x\",\"y\":[2],\"yaxis\":\"y\"},{\"alignmentgroup\":\"True\",\"hovertemplate\":\"pais=%{x}<br>registration_year_month=20215<br>count=%{y}<extra></extra>\",\"ids\":[\"BRA\"],\"legendgroup\":\"BRA\",\"marker\":{\"color\":\"#ab63fa\",\"pattern\":{\"shape\":\"\"}},\"name\":\"BRA\",\"offsetgroup\":\"BRA\",\"orientation\":\"v\",\"showlegend\":true,\"textposition\":\"auto\",\"type\":\"bar\",\"x\":[\"BRA\"],\"xaxis\":\"x\",\"y\":[10],\"yaxis\":\"y\"},{\"alignmentgroup\":\"True\",\"hovertemplate\":\"pais=%{x}<br>registration_year_month=20215<br>count=%{y}<extra></extra>\",\"ids\":[\"ECU\"],\"legendgroup\":\"ECU\",\"marker\":{\"color\":\"#B6E880\",\"pattern\":{\"shape\":\"\"}},\"name\":\"ECU\",\"offsetgroup\":\"ECU\",\"orientation\":\"v\",\"showlegend\":true,\"textposition\":\"auto\",\"type\":\"bar\",\"x\":[\"ECU\"],\"xaxis\":\"x\",\"y\":[56],\"yaxis\":\"y\"},{\"alignmentgroup\":\"True\",\"hovertemplate\":\"pais=%{x}<br>registration_year_month=20215<br>count=%{y}<extra></extra>\",\"ids\":[\"USA\"],\"legendgroup\":\"USA\",\"marker\":{\"color\":\"#FF97FF\",\"pattern\":{\"shape\":\"\"}},\"name\":\"USA\",\"offsetgroup\":\"USA\",\"orientation\":\"v\",\"showlegend\":true,\"textposition\":\"auto\",\"type\":\"bar\",\"x\":[\"USA\"],\"xaxis\":\"x\",\"y\":[3],\"yaxis\":\"y\"},{\"alignmentgroup\":\"True\",\"hovertemplate\":\"pais=%{x}<br>registration_year_month=20215<br>count=%{y}<extra></extra>\",\"ids\":[\"CRI\"],\"legendgroup\":\"CRI\",\"marker\":{\"color\":\"#FECB52\",\"pattern\":{\"shape\":\"\"}},\"name\":\"CRI\",\"offsetgroup\":\"CRI\",\"orientation\":\"v\",\"showlegend\":true,\"textposition\":\"auto\",\"type\":\"bar\",\"x\":[\"CRI\"],\"xaxis\":\"x\",\"y\":[16],\"yaxis\":\"y\"},{\"alignmentgroup\":\"True\",\"hovertemplate\":\"pais=%{x}<br>registration_year_month=20215<br>count=%{y}<extra></extra>\",\"ids\":[\"HND\"],\"legendgroup\":\"HND\",\"marker\":{\"color\":\"#B6E880\",\"pattern\":{\"shape\":\"\"}},\"name\":\"HND\",\"offsetgroup\":\"HND\",\"orientation\":\"v\",\"showlegend\":true,\"textposition\":\"auto\",\"type\":\"bar\",\"x\":[\"HND\"],\"xaxis\":\"x\",\"y\":[1],\"yaxis\":\"y\"},{\"alignmentgroup\":\"True\",\"hovertemplate\":\"pais=%{x}<br>registration_year_month=20215<br>count=%{y}<extra></extra>\",\"ids\":[\"IDN\"],\"legendgroup\":\"IDN\",\"marker\":{\"color\":\"#B6E880\",\"pattern\":{\"shape\":\"\"}},\"name\":\"IDN\",\"offsetgroup\":\"IDN\",\"orientation\":\"v\",\"showlegend\":true,\"textposition\":\"auto\",\"type\":\"bar\",\"x\":[\"IDN\"],\"xaxis\":\"x\",\"y\":[1],\"yaxis\":\"y\"}],\"name\":\"20215\"},{\"data\":[{\"alignmentgroup\":\"True\",\"hovertemplate\":\"pais=%{x}<br>registration_year_month=20216<br>count=%{y}<extra></extra>\",\"ids\":[\"MEX\"],\"legendgroup\":\"MEX\",\"marker\":{\"color\":\"#00cc96\",\"pattern\":{\"shape\":\"\"}},\"name\":\"MEX\",\"offsetgroup\":\"MEX\",\"orientation\":\"v\",\"showlegend\":true,\"textposition\":\"auto\",\"type\":\"bar\",\"x\":[\"MEX\"],\"xaxis\":\"x\",\"y\":[16],\"yaxis\":\"y\"},{\"alignmentgroup\":\"True\",\"hovertemplate\":\"pais=%{x}<br>registration_year_month=20216<br>count=%{y}<extra></extra>\",\"ids\":[\"BRA\"],\"legendgroup\":\"BRA\",\"marker\":{\"color\":\"#ab63fa\",\"pattern\":{\"shape\":\"\"}},\"name\":\"BRA\",\"offsetgroup\":\"BRA\",\"orientation\":\"v\",\"showlegend\":true,\"textposition\":\"auto\",\"type\":\"bar\",\"x\":[\"BRA\"],\"xaxis\":\"x\",\"y\":[1],\"yaxis\":\"y\"},{\"alignmentgroup\":\"True\",\"hovertemplate\":\"pais=%{x}<br>registration_year_month=20216<br>count=%{y}<extra></extra>\",\"ids\":[\"USA\"],\"legendgroup\":\"USA\",\"marker\":{\"color\":\"#FF97FF\",\"pattern\":{\"shape\":\"\"}},\"name\":\"USA\",\"offsetgroup\":\"USA\",\"orientation\":\"v\",\"showlegend\":true,\"textposition\":\"auto\",\"type\":\"bar\",\"x\":[\"USA\"],\"xaxis\":\"x\",\"y\":[2],\"yaxis\":\"y\"},{\"alignmentgroup\":\"True\",\"hovertemplate\":\"pais=%{x}<br>registration_year_month=20216<br>count=%{y}<extra></extra>\",\"ids\":[\"VNM\"],\"legendgroup\":\"VNM\",\"marker\":{\"color\":\"#B6E880\",\"pattern\":{\"shape\":\"\"}},\"name\":\"VNM\",\"offsetgroup\":\"VNM\",\"orientation\":\"v\",\"showlegend\":true,\"textposition\":\"auto\",\"type\":\"bar\",\"x\":[\"VNM\"],\"xaxis\":\"x\",\"y\":[1],\"yaxis\":\"y\"}],\"name\":\"20216\"}]);\n",
       "                        }).then(function(){\n",
       "                            \n",
       "var gd = document.getElementById('442dbcea-cd7a-4053-a096-164cf19609b7');\n",
       "var x = new MutationObserver(function (mutations, observer) {{\n",
       "        var display = window.getComputedStyle(gd).display;\n",
       "        if (!display || display === 'none') {{\n",
       "            console.log([gd, 'removed!']);\n",
       "            Plotly.purge(gd);\n",
       "            observer.disconnect();\n",
       "        }}\n",
       "}});\n",
       "\n",
       "// Listen for the removal of the full notebook cells\n",
       "var notebookContainer = gd.closest('#notebook-container');\n",
       "if (notebookContainer) {{\n",
       "    x.observe(notebookContainer, {childList: true});\n",
       "}}\n",
       "\n",
       "// Listen for the clearing of the current output cell\n",
       "var outputEl = gd.closest('.output');\n",
       "if (outputEl) {{\n",
       "    x.observe(outputEl, {childList: true});\n",
       "}}\n",
       "\n",
       "                        })                };                });            </script>        </div>"
      ]
     },
     "metadata": {},
     "output_type": "display_data"
    }
   ],
   "source": [
    "#\n",
    "fig = px.bar(df_tmp_1, x=\"pais\", y=\"count\", color=\"pais\",\n",
    "  animation_frame=\"registration_year_month\", animation_group=\"pais\", range_y=[0,1000])\n",
    "\n",
    "fig.update_layout(title_text=\"title_\",\n",
    "                             #width=500, \n",
    "                             #height=500\n",
    "                         )\n",
    "fig.show()"
   ]
  },
  {
   "cell_type": "code",
   "execution_count": 28,
   "id": "5086246b",
   "metadata": {},
   "outputs": [],
   "source": [
    "#fig = px.scatter(df_tmp_1, x=\"pais\", y=\"count\", animation_frame=\"registration_year_month\", animation_group=\"pais\",\n",
    "#                size=\"count\", size_max=55)\n",
    "#fig.show()"
   ]
  },
  {
   "cell_type": "code",
   "execution_count": null,
   "id": "80b39d52",
   "metadata": {},
   "outputs": [],
   "source": []
  }
 ],
 "metadata": {
  "kernelspec": {
   "display_name": "Python 3",
   "language": "python",
   "name": "python3"
  },
  "language_info": {
   "codemirror_mode": {
    "name": "ipython",
    "version": 3
   },
   "file_extension": ".py",
   "mimetype": "text/x-python",
   "name": "python",
   "nbconvert_exporter": "python",
   "pygments_lexer": "ipython3",
   "version": "3.8.8"
  }
 },
 "nbformat": 4,
 "nbformat_minor": 5
}
