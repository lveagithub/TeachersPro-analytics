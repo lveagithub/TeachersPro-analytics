{
 "cells": [
  {
   "cell_type": "code",
   "execution_count": null,
   "id": "3dffc7d3",
   "metadata": {},
   "outputs": [],
   "source": [
    "import matplotlib.pyplot as plt\n",
    "import seaborn as sns\n",
    "import ipywidgets\n",
    "from statsmodels.graphics.gofplots import qqplot\n",
    "import pyLDAvis.sklearn\n",
    "import pyLDAvis.gensim_models as gensimvis\n",
    "import plotly.express as px\n",
    "import plotly.graph_objects as go\n",
    "import plotly.figure_factory as ff\n",
    "import plotly.offline as ply"
   ]
  },
  {
   "cell_type": "markdown",
   "id": "3c28feda",
   "metadata": {},
   "source": [
    "<h1 style=\"background-color:powderblue;\">Plotting Classes</h1>"
   ]
  },
  {
   "cell_type": "code",
   "execution_count": null,
   "id": "18a57d79",
   "metadata": {},
   "outputs": [],
   "source": [
    "class PlottingHelper:\n",
    "    \"\"\"Plotting Helper\"\"\"\n",
    "\n",
    "    def __init__(self, version):\n",
    "        self.version = version\n",
    "        self._df_cat = pd.DataFrame()\n",
    "\n",
    "    def __str__(self):\n",
    "        return f\"Plotting helper version {self.version}\"\n",
    "\n",
    "    def get_df_cat(self):\n",
    "        return self._df_cat\n",
    "\n",
    "    def set_df_cat(self, _df):\n",
    "        self._df_cat = _df\n",
    "\n",
    "    def del_df_cat(self):\n",
    "        del self._df_cat\n",
    "    \n",
    "    def count_categorical_plotty(\n",
    "        self,\n",
    "        df,\n",
    "        x_var,\n",
    "        x_var_size,\n",
    "        x_var_asc,\n",
    "        ax_title,\n",
    "        x_size,\n",
    "        y_size,\n",
    "        bar_color,\n",
    "        box_aspect_radio,\n",
    "    ):\n",
    "        df = (\n",
    "            df.groupby(x_var)[x_var]\n",
    "            .count()\n",
    "            .reset_index(name=\"count\")\n",
    "            .sort_values([\"count\"], ascending=x_var_asc)\n",
    "            .head(x_var_size)\n",
    "        )\n",
    "\n",
    "        fig = px.bar(x=x_var, y=\"count\", title=ax_title, data_frame=df)\n",
    "\n",
    "        # Customize aspect\n",
    "        fig.update_traces(\n",
    "            marker_color=\"rgb(120,255,120)\",\n",
    "            marker_line_color=\"rgb(0,0,0)\",\n",
    "            marker_line_width=1.5,\n",
    "            opacity=0.5,\n",
    "        )\n",
    "\n",
    "        fig.show()\n",
    "        HTML(fig.to_html())\n",
    "\n",
    "    def func_count_cat_plotty(self, x_var_size, x_var, x_var_asc, ax_title):\n",
    "        self.count_categorical_plotty(\n",
    "            df=self._df_cat,\n",
    "            x_var=x_var,\n",
    "            x_var_size=x_var_size,\n",
    "            x_var_asc=x_var_asc,\n",
    "            ax_title=ax_title,\n",
    "            x_size=16,\n",
    "            y_size=8,\n",
    "            bar_color=\"lightskyblue\",\n",
    "            box_aspect_radio=5,\n",
    "        )\n"
   ]
  }
 ],
 "metadata": {
  "kernelspec": {
   "display_name": "py39",
   "language": "python",
   "name": "py39"
  },
  "language_info": {
   "codemirror_mode": {
    "name": "ipython",
    "version": 3
   },
   "file_extension": ".py",
   "mimetype": "text/x-python",
   "name": "python",
   "nbconvert_exporter": "python",
   "pygments_lexer": "ipython3",
   "version": "3.9.9"
  }
 },
 "nbformat": 4,
 "nbformat_minor": 5
}
