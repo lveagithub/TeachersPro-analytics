{
 "cells": [
  {
   "cell_type": "markdown",
   "id": "9f37da57",
   "metadata": {},
   "source": [
    "![TP](../TeachersPro-logo-color.png)\n",
    "\n",
    "# Twitter Analytics\n",
    "\n",
    "### Lenin Escobar <lenin.escobar@net.teacherspro.com> - Descriptive analytics (12-August-2021)"
   ]
  },
  {
   "cell_type": "code",
   "execution_count": 1,
   "id": "93843958",
   "metadata": {},
   "outputs": [
    {
     "name": "stderr",
     "output_type": "stream",
     "text": [
      "/opt/conda/lib/python3.8/site-packages/gensim/similarities/__init__.py:15: UserWarning: The gensim.similarities.levenshtein submodule is disabled, because the optional Levenshtein package <https://pypi.org/project/python-Levenshtein/> is unavailable. Install Levenhstein (e.g. `pip install python-Levenshtein`) to suppress this warning.\n",
      "  warnings.warn(msg)\n"
     ]
    }
   ],
   "source": [
    "%config IPCompleter.greedy=True\n",
    "%load_ext memory_profiler\n",
    "%matplotlib inline\n",
    "%run TwitterAnalysisHelper.ipynb\n",
    "%run TwitterAnalysisGeneralHelper.ipynb\n",
    "#%run DSF_FINAL_PROJECT_Plot.ipynb"
   ]
  },
  {
   "cell_type": "markdown",
   "id": "d9a67f80",
   "metadata": {},
   "source": [
    "<h1 style=\"background-color:#D7F5FF;font-size:300%;\">Twitter DB</h1>"
   ]
  },
  {
   "cell_type": "code",
   "execution_count": 2,
   "id": "2c6cfaa4",
   "metadata": {},
   "outputs": [],
   "source": [
    "#Connecting to sqlite3 database\n",
    "dbConn = Sqlite3Db('data/social_network.db')"
   ]
  },
  {
   "cell_type": "code",
   "execution_count": 3,
   "id": "a80866b5",
   "metadata": {},
   "outputs": [],
   "source": [
    "dbConn.query('''SELECT insert_timestamp, tweet_timestamp, tweet_term, tweet, place_type, place_name, place_full_name, place_country_code, place_country FROM Tweets; ''')\n",
    "\n",
    "sqlStmRes = dbConn.cursor.fetchall()\n",
    "#print(type(sqlStmRes))\n",
    "#print(sqlStmRes)\n",
    "df_Tweets_original = pd.DataFrame(sqlStmRes, columns =['insert_timestamp','tweet_timestamp','tweet_term', 'tweet', 'place_type', 'place_name', 'place_full_name', 'place_country_code', 'place_country'])"
   ]
  },
  {
   "cell_type": "code",
   "execution_count": 4,
   "id": "2a67b916",
   "metadata": {},
   "outputs": [],
   "source": [
    "#Closing sqlite3 datbase connection\n",
    "dbConn.close()"
   ]
  },
  {
   "cell_type": "code",
   "execution_count": 5,
   "id": "2699d6ae",
   "metadata": {},
   "outputs": [
    {
     "data": {
      "text/html": [
       "<div>\n",
       "<style scoped>\n",
       "    .dataframe tbody tr th:only-of-type {\n",
       "        vertical-align: middle;\n",
       "    }\n",
       "\n",
       "    .dataframe tbody tr th {\n",
       "        vertical-align: top;\n",
       "    }\n",
       "\n",
       "    .dataframe thead th {\n",
       "        text-align: right;\n",
       "    }\n",
       "</style>\n",
       "<table border=\"1\" class=\"dataframe\">\n",
       "  <thead>\n",
       "    <tr style=\"text-align: right;\">\n",
       "      <th></th>\n",
       "      <th>insert_timestamp</th>\n",
       "      <th>tweet_timestamp</th>\n",
       "      <th>tweet_term</th>\n",
       "      <th>tweet</th>\n",
       "      <th>place_type</th>\n",
       "      <th>place_name</th>\n",
       "      <th>place_full_name</th>\n",
       "      <th>place_country_code</th>\n",
       "      <th>place_country</th>\n",
       "    </tr>\n",
       "  </thead>\n",
       "  <tbody>\n",
       "    <tr>\n",
       "      <th>0</th>\n",
       "      <td>2021-08-11 14:19:45.946146</td>\n",
       "      <td>2021-08-04 23:59:14</td>\n",
       "      <td>b'#edchat'</td>\n",
       "      <td>b'RT @Catlin_Tucker: Worried about keeping you...</td>\n",
       "      <td>Undefined</td>\n",
       "      <td>Undefined</td>\n",
       "      <td>Undefined</td>\n",
       "      <td>Undefined</td>\n",
       "      <td>Undefined</td>\n",
       "    </tr>\n",
       "    <tr>\n",
       "      <th>1</th>\n",
       "      <td>2021-08-11 14:19:45.946839</td>\n",
       "      <td>2021-08-04 23:58:48</td>\n",
       "      <td>b'#edchat'</td>\n",
       "      <td>b'RT @mcleod: \\xe2\\x80\\x9cThe focus for public...</td>\n",
       "      <td>Undefined</td>\n",
       "      <td>Undefined</td>\n",
       "      <td>Undefined</td>\n",
       "      <td>Undefined</td>\n",
       "      <td>Undefined</td>\n",
       "    </tr>\n",
       "    <tr>\n",
       "      <th>2</th>\n",
       "      <td>2021-08-11 14:19:45.947049</td>\n",
       "      <td>2021-08-04 23:57:15</td>\n",
       "      <td>b'#edchat'</td>\n",
       "      <td>b'RT @TCEA: 10 Evidence-Based #Teaching Strate...</td>\n",
       "      <td>Undefined</td>\n",
       "      <td>Undefined</td>\n",
       "      <td>Undefined</td>\n",
       "      <td>Undefined</td>\n",
       "      <td>Undefined</td>\n",
       "    </tr>\n",
       "  </tbody>\n",
       "</table>\n",
       "</div>"
      ],
      "text/plain": [
       "            insert_timestamp     tweet_timestamp  tweet_term  \\\n",
       "0 2021-08-11 14:19:45.946146 2021-08-04 23:59:14  b'#edchat'   \n",
       "1 2021-08-11 14:19:45.946839 2021-08-04 23:58:48  b'#edchat'   \n",
       "2 2021-08-11 14:19:45.947049 2021-08-04 23:57:15  b'#edchat'   \n",
       "\n",
       "                                               tweet place_type place_name  \\\n",
       "0  b'RT @Catlin_Tucker: Worried about keeping you...  Undefined  Undefined   \n",
       "1  b'RT @mcleod: \\xe2\\x80\\x9cThe focus for public...  Undefined  Undefined   \n",
       "2  b'RT @TCEA: 10 Evidence-Based #Teaching Strate...  Undefined  Undefined   \n",
       "\n",
       "  place_full_name place_country_code place_country  \n",
       "0       Undefined          Undefined     Undefined  \n",
       "1       Undefined          Undefined     Undefined  \n",
       "2       Undefined          Undefined     Undefined  "
      ]
     },
     "execution_count": 5,
     "metadata": {},
     "output_type": "execute_result"
    }
   ],
   "source": [
    "df_Tweets_original.head(3)"
   ]
  },
  {
   "cell_type": "code",
   "execution_count": 6,
   "id": "294f7a83",
   "metadata": {},
   "outputs": [
    {
     "data": {
      "text/plain": [
       "(770, 9)"
      ]
     },
     "execution_count": 6,
     "metadata": {},
     "output_type": "execute_result"
    }
   ],
   "source": [
    "df_Tweets_original.shape"
   ]
  },
  {
   "cell_type": "code",
   "execution_count": 7,
   "id": "14773e0b",
   "metadata": {},
   "outputs": [
    {
     "data": {
      "text/plain": [
       "insert_timestamp      datetime64[ns]\n",
       "tweet_timestamp       datetime64[ns]\n",
       "tweet_term                    object\n",
       "tweet                         object\n",
       "place_type                    object\n",
       "place_name                    object\n",
       "place_full_name               object\n",
       "place_country_code            object\n",
       "place_country                 object\n",
       "dtype: object"
      ]
     },
     "execution_count": 7,
     "metadata": {},
     "output_type": "execute_result"
    }
   ],
   "source": [
    "df_Tweets_original.dtypes"
   ]
  },
  {
   "cell_type": "code",
   "execution_count": null,
   "id": "29658d0f",
   "metadata": {},
   "outputs": [],
   "source": []
  }
 ],
 "metadata": {
  "kernelspec": {
   "display_name": "Python 3",
   "language": "python",
   "name": "python3"
  },
  "language_info": {
   "codemirror_mode": {
    "name": "ipython",
    "version": 3
   },
   "file_extension": ".py",
   "mimetype": "text/x-python",
   "name": "python",
   "nbconvert_exporter": "python",
   "pygments_lexer": "ipython3",
   "version": "3.8.8"
  }
 },
 "nbformat": 4,
 "nbformat_minor": 5
}
