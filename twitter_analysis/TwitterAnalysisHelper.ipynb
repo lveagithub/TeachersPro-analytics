{
 "cells": [
  {
   "cell_type": "code",
   "execution_count": null,
   "id": "9c56b275",
   "metadata": {},
   "outputs": [],
   "source": [
    "import pandas as pd\n",
    "import time\n",
    "import tweepy\n",
    "import json\n",
    "import csv\n",
    "import sqlite3\n",
    "import datetime as dt\n",
    "from prompt_toolkit import print_formatted_text, HTML"
   ]
  },
  {
   "cell_type": "code",
   "execution_count": null,
   "id": "118eeeab",
   "metadata": {},
   "outputs": [],
   "source": [
    "#https://docs.python.org/3/library/sqlite3.html\n",
    "class Sqlite3Db:\n",
    "    \"\"\"Sqlite3 Database General Methods\"\"\"\n",
    "    def __init__(self, name=None):\n",
    "        self.conn = None\n",
    "        self.cursor = None\n",
    "\n",
    "        if name:\n",
    "            self.open(name)\n",
    "    \n",
    "    def open(self, name):\n",
    "        try:\n",
    "            self.conn = sqlite3.connect(name,detect_types=sqlite3.PARSE_DECLTYPES)\n",
    "            self.cursor = self.conn.cursor()\n",
    "        except sqlite3.Error as e:\n",
    "            print(\"Error connecting to database \" + name + \" with message:\" + e.args[0] )\n",
    "    \n",
    "    def close(self):\n",
    "        if self.conn:\n",
    "            self.conn.commit()\n",
    "            self.cursor.close()\n",
    "            self.conn.close()\n",
    "\n",
    "    def query(self,sqlStm,sqlStmPrm=None):\n",
    "        if sqlStmPrm is not None:\n",
    "            #print(\"First\")\n",
    "            self.cursor.execute(sqlStm,sqlStmPrm)\n",
    "        else:\n",
    "            #print(\"Second\")\n",
    "            self.cursor.execute(sqlStm)\n",
    "\n",
    "    #Using these magic methods (__enter__, __exit__) allows you to implement objects which can be used easily with the with statement.\n",
    "    def __enter__(self):\n",
    "        return self.conn\n",
    "    \n",
    "    def __exit__(self,exc_type,exc_value,traceback):\n",
    "        self.close()"
   ]
  }
 ],
 "metadata": {
  "kernelspec": {
   "display_name": "Python 3",
   "language": "python",
   "name": "python3"
  },
  "language_info": {
   "codemirror_mode": {
    "name": "ipython",
    "version": 3
   },
   "file_extension": ".py",
   "mimetype": "text/x-python",
   "name": "python",
   "nbconvert_exporter": "python",
   "pygments_lexer": "ipython3",
   "version": "3.8.8"
  }
 },
 "nbformat": 4,
 "nbformat_minor": 5
}
